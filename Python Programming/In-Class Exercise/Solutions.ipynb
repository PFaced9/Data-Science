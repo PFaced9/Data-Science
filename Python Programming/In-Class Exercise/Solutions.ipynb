{
 "cells": [
  {
   "cell_type": "code",
   "execution_count": 1,
   "outputs": [],
   "source": [
    "import numpy as np\n",
    "import  pandas as pd"
   ],
   "metadata": {
    "collapsed": false,
    "ExecuteTime": {
     "end_time": "2023-09-13T05:38:14.546111700Z",
     "start_time": "2023-09-13T05:38:13.775572800Z"
    }
   },
   "id": "7cd63538eec9fa83"
  },
  {
   "cell_type": "markdown",
   "source": [
    "### 1. Write a program to check whether an year entered by an user is leap year or not"
   ],
   "metadata": {
    "collapsed": false
   },
   "id": "dc002fca34a090d2"
  },
  {
   "cell_type": "code",
   "execution_count": 2,
   "outputs": [
    {
     "ename": "ValueError",
     "evalue": "invalid literal for int() with base 10: ''",
     "output_type": "error",
     "traceback": [
      "\u001B[1;31m---------------------------------------------------------------------------\u001B[0m",
      "\u001B[1;31mValueError\u001B[0m                                Traceback (most recent call last)",
      "Cell \u001B[1;32mIn[2], line 1\u001B[0m\n\u001B[1;32m----> 1\u001B[0m check_year \u001B[38;5;241m=\u001B[39m \u001B[38;5;28mint\u001B[39m(\u001B[38;5;28minput\u001B[39m(\u001B[38;5;124m\"\u001B[39m\u001B[38;5;124mCheck The Year: \u001B[39m\u001B[38;5;124m\"\u001B[39m))\n\u001B[0;32m      2\u001B[0m \u001B[38;5;28mprint\u001B[39m(\u001B[38;5;124m\"\u001B[39m\u001B[38;5;124mEnter the year:\u001B[39m\u001B[38;5;124m\"\u001B[39m , check_year)\n\u001B[0;32m      3\u001B[0m \u001B[38;5;28;01mif\u001B[39;00m(check_year \u001B[38;5;241m%\u001B[39m \u001B[38;5;241m4\u001B[39m) \u001B[38;5;241m==\u001B[39m \u001B[38;5;241m0\u001B[39m:\n",
      "\u001B[1;31mValueError\u001B[0m: invalid literal for int() with base 10: ''"
     ]
    }
   ],
   "source": [
    "check_year = int(input(\"Check The Year: \"))\n",
    "print(\"Enter the year:\" , check_year)\n",
    "if(check_year % 4) == 0:\n",
    "    if(check_year % 100) == 0:\n",
    "        if(check_year % 400) == 0:\n",
    "            print(check_year, \"Is A LEAP YEAR!\")\n",
    "        else:\n",
    "            print(check_year, \"IS NOT A NOT LEAP YEAR!\")\n",
    "    else:\n",
    "        print(check_year, \"IS A LEAP YEAR!\")\n",
    "else:\n",
    "    print(check_year, \"IS NOT A LEAP YEAR!\")\n",
    "            "
   ],
   "metadata": {
    "collapsed": false,
    "ExecuteTime": {
     "end_time": "2023-09-13T05:38:20.799341700Z",
     "start_time": "2023-09-13T05:38:14.549196200Z"
    }
   },
   "id": "initial_id"
  },
  {
   "cell_type": "markdown",
   "source": [
    "### 2. Take a string containing punctuation marks as an input from user and write a program to remove all the  punctuation marks from a string"
   ],
   "metadata": {
    "collapsed": false
   },
   "id": "8627e7430ff8934e"
  },
  {
   "cell_type": "code",
   "execution_count": null,
   "outputs": [],
   "source": [
    "punc = '''!()-[]{};:'\"\\,<>./?@#$%^&*_~'''\n",
    "input_str = str(input(\"Enter THE STRING: \"))\n",
    "print(input_str)\n",
    "new_str = \"\"\n",
    "for char in input_str:\n",
    "    if char not in punc:\n",
    "        new_str += char\n",
    "print(new_str)"
   ],
   "metadata": {
    "collapsed": false,
    "ExecuteTime": {
     "end_time": "2023-09-13T05:38:20.821457800Z",
     "start_time": "2023-09-13T05:38:20.804459500Z"
    }
   },
   "id": "f273388b56620e57"
  },
  {
   "cell_type": "markdown",
   "source": [
    "### 3. Take two separate numbers as input from the user and Write a program to swap 2 numbers without using temporary variable"
   ],
   "metadata": {
    "collapsed": false
   },
   "id": "7807fd3335cceca9"
  },
  {
   "cell_type": "code",
   "execution_count": null,
   "outputs": [],
   "source": [
    "num1 = int(input(\"Number #1\"))\n",
    "num2 = int(input(\"Number #2\"))\n",
    "print(\"First Number : \", num1)\n",
    "print(\"Second Number: \", num2)\n",
    "num1 = num1 + num2 # num1 = 2 + 3 = 5\n",
    "num2 = num1 - num2 # num2 = 5 - 3 = 2\n",
    "num1 = num1 - num2 # num1 = 5 - 2 = 3\n",
    "print(\"Swapped Number#1 :\", num1)\n",
    "print(\"Swapped Number#2 :\", num2)"
   ],
   "metadata": {
    "collapsed": false,
    "ExecuteTime": {
     "start_time": "2023-09-13T05:38:20.808459200Z"
    }
   },
   "id": "b1dc70402eaadbc7"
  },
  {
   "cell_type": "markdown",
   "source": [
    "### 4. Write a program to print product of following variables\n",
    " integer = 10 \n",
    " string = \"15\""
   ],
   "metadata": {
    "collapsed": false
   },
   "id": "69cbaf3bac7cf7d2"
  },
  {
   "cell_type": "code",
   "execution_count": null,
   "outputs": [],
   "source": [
    "integer = 10\n",
    "string = \"15\"\n",
    "str_num = int(string)\n",
    "product = integer * str_num\n",
    "print(\"Product :\" , product)"
   ],
   "metadata": {
    "collapsed": false,
    "ExecuteTime": {
     "start_time": "2023-09-13T05:38:20.812459400Z"
    }
   },
   "id": "518b016e9353eb1d"
  },
  {
   "cell_type": "markdown",
   "source": [
    "### 5. Write a program to print following pattern -\n",
    "<br>a\n",
    "<br>b c\n",
    "<br>d e f\n",
    "<br>g h i j\n",
    "<br>k l m n o\n",
    "<br>p q r s t u"
   ],
   "metadata": {
    "collapsed": false
   },
   "id": "ed9529f45eb30586"
  },
  {
   "cell_type": "code",
   "execution_count": null,
   "outputs": [],
   "source": [
    "char = 97\n",
    "inputC = int(input(\"Enter N: \"))\n",
    "for i in range(0, inputC):\n",
    "    for j in range(0, i + 1):\n",
    "        print(chr(char), end =\" \")\n",
    "        char += 1\n",
    "    \n",
    "    print()"
   ],
   "metadata": {
    "collapsed": false,
    "ExecuteTime": {
     "start_time": "2023-09-13T05:38:20.816459400Z"
    }
   },
   "id": "a90869580198f957"
  },
  {
   "cell_type": "markdown",
   "source": [
    "### 6. Write a program to print tables from 2 to n, where n is provided by user"
   ],
   "metadata": {
    "collapsed": false
   },
   "id": "ff6df8223c332496"
  },
  {
   "cell_type": "code",
   "execution_count": null,
   "outputs": [],
   "source": [
    "tableN = int(input(\"ENTER N FOR INPUT: \"))\n",
    "for n in range(2, tableN + 1):\n",
    "    print(\"TABLE OF\" , n)\n",
    "    for i in range(1, 11):\n",
    "        print(n, ' X ', i, \" = \", n*i)\n",
    "    print()"
   ],
   "metadata": {
    "collapsed": false,
    "ExecuteTime": {
     "end_time": "2023-09-13T05:38:20.822458Z",
     "start_time": "2023-09-13T05:38:20.822458Z"
    }
   },
   "id": "2f0cdcbbb3c47463"
  },
  {
   "cell_type": "markdown",
   "source": [
    "### 7. Write a program to read height (in centimeters) from user and then convert it to feet and inches"
   ],
   "metadata": {
    "collapsed": false
   },
   "id": "872cd7655809e94c"
  },
  {
   "cell_type": "code",
   "execution_count": null,
   "outputs": [],
   "source": [
    "input_height = int(input(\"ENTER YOUR HEIGHT(in centimetres) :\"))\n",
    "# 1 cm = .032 cm\n",
    "# 1 cm = .393 inch   \n",
    "\n",
    "height_feet = round((input_height / 30.48), 1)\n",
    "height_inch = round((input_height / 2.54) , 1) \n",
    "print(height_feet, \"FEET\")\n",
    "print(height_inch, \"INCH\")"
   ],
   "metadata": {
    "collapsed": false,
    "ExecuteTime": {
     "start_time": "2023-09-13T05:38:20.826551600Z"
    }
   },
   "id": "6a13ca831b752c51"
  },
  {
   "cell_type": "markdown",
   "source": [
    "### 8. Write a program to print following pattern\n",
    "                                                *\n",
    "                                                * * \n",
    "                                                * * *\n",
    "                                                * *\n",
    "                                                *"
   ],
   "metadata": {
    "collapsed": false
   },
   "id": "ce2c3be1ac83dc44"
  },
  {
   "cell_type": "code",
   "execution_count": null,
   "outputs": [],
   "source": [
    "N = int(input(\"ENTER THE NUMBER: \"))\n",
    "for i in range(0, N-1):\n",
    "    for j in range(i + 1):\n",
    "        print(\"*\" , end=\" \")\n",
    "    print()\n",
    "for i in range(1, N+1):\n",
    "    print(\"*\" , end=\" \")\n",
    "print()\n",
    "for i in range(N-1, 0, -1): # start, stop, step \n",
    "    for j in range(i, 0, -1):\n",
    "        print(\"*\" , end=\" \")\n",
    "    print()"
   ],
   "metadata": {
    "collapsed": false,
    "ExecuteTime": {
     "end_time": "2023-09-13T05:38:20.939411900Z",
     "start_time": "2023-09-13T05:38:20.831551300Z"
    }
   },
   "id": "c3dabaaa06583112"
  },
  {
   "cell_type": "markdown",
   "source": [
    "### 9. Below list contains age and name of five students. Convert the list into a dictionary such that the name is taken as key and the age before their name is taken as thier respective value in the dictionary\n",
    "\n",
    "students = [26,'Jon',34,'Roger',13,'Jessica',24,'Monica',65,'Ashton']\n",
    "Output: {'Jon':26, 'Roger':34, 'Jessica':13, 'Monica':24, 'Ashton':65}"
   ],
   "metadata": {
    "collapsed": false
   },
   "id": "b7748f814c42a948"
  },
  {
   "cell_type": "code",
   "execution_count": null,
   "outputs": [],
   "source": [
    "students = [26,'Jon',34,'Roger',13,'Jessica',24,'Monica',65,'Ashton']\n",
    "dict1 = {}\n",
    "for i in range(0, len(students), 2):\n",
    "    dict1[students[i + 1]] = students[i]\n",
    "print(dict1)"
   ],
   "metadata": {
    "collapsed": false,
    "ExecuteTime": {
     "start_time": "2023-09-13T05:38:20.835557700Z"
    }
   },
   "id": "846fcf1fe57f9a92"
  },
  {
   "cell_type": "markdown",
   "source": [
    "### 10. Write a program to check whether two strings, taken from user, are anagram or not"
   ],
   "metadata": {
    "collapsed": false
   },
   "id": "d7b4a33e4d55407a"
  },
  {
   "cell_type": "code",
   "execution_count": null,
   "outputs": [],
   "source": [
    "string1 = str(input(\"ENTER STRING 1:\"))\n",
    "string2 = str(input(\"ENTER STRING 2:\"))\n",
    "\n",
    "if sorted(string1.lower()) == sorted(string2.lower()):\n",
    "    print(\"STRINGS ARE ANAGRAM!\")\n",
    "else:\n",
    "    print(\"STRINGS ARE NOT ANAGRAM!\")"
   ],
   "metadata": {
    "collapsed": false,
    "ExecuteTime": {
     "start_time": "2023-09-13T05:38:20.840552600Z"
    }
   },
   "id": "b70481f29250755e"
  },
  {
   "cell_type": "markdown",
   "source": [
    "### 11. Write a program that sorts all the elements of the list according to the first letter, irrespective of their cases (uppercase or lowercase). Note: Do not use any inbuilt sorting function"
   ],
   "metadata": {
    "collapsed": false
   },
   "id": "4ec552823ee0cfaf"
  },
  {
   "cell_type": "code",
   "execution_count": null,
   "outputs": [],
   "source": [
    "names = [\"dakshay\", \"camaro\", \"anubhav\", \"elliderson\", \"dante\"]\n",
    "for i in range(len(names)):\n",
    "    for j in range(i+1, len(names)):\n",
    "        if names[i][0] > names[j][0]:\n",
    "            names[i], names[j] = names[j], names[i]\n",
    "print(names)"
   ],
   "metadata": {
    "collapsed": false,
    "ExecuteTime": {
     "start_time": "2023-09-13T05:38:20.844553200Z"
    }
   },
   "id": "3cbb7c45053a80ca"
  },
  {
   "cell_type": "markdown",
   "source": [
    "### 12. Write a program that prints a list of sour fruits from the below tuple:\n",
    "<br>fruits = (('Lemon','sour'), ('DragonFruit', 'Sweet'), ('Grapes','soUr'), ('Kiwi','Sour'), ('Apples','sweet'), ('Orange','sour'), ('Blueberries','sweet'), ('Limes','Sour') )"
   ],
   "metadata": {
    "collapsed": false
   },
   "id": "508b07680481a150"
  },
  {
   "cell_type": "code",
   "execution_count": null,
   "outputs": [],
   "source": [
    "fruits = (('Lemon','sour'), ('DragonFruit', 'Sweet'), ('Grapes','soUr'), ('Kiwi','Sour'), ('Apples','sweet'), ('Orange','sour'), ('Blueberries','sweet'), ('Limes','Sour'))\n",
    "\n",
    "output_fruit = []\n",
    "for fruit in fruits:\n",
    "    if fruit[1].lower() == \"sour\":\n",
    "        output_fruit.append(fruit[0])\n",
    "print(\"Sour Fruits:\", output_fruit)        "
   ],
   "metadata": {
    "collapsed": false,
    "ExecuteTime": {
     "start_time": "2023-09-13T05:38:20.849551900Z"
    }
   },
   "id": "d8f2495783015456"
  },
  {
   "cell_type": "markdown",
   "source": [
    "### 13. Given below are the list of positive and negative words. Also a list of tweets is provided. Separate out the positive and negative comments\n",
    "<br>positive = ['good','awesome', 'best', 'nice']\n",
    "\n",
    "<br>negative = ['worst','awful', 'bad']\n",
    "\n",
    "<br>tweets = ['This government policies are good', \n",
    "'bad implementation', 'The way he played showed that he is one of the best players in the world', 'Her acting in the play was awesome', 'The wine tastes awful', 'It's nice to hear this little kid's laugh']"
   ],
   "metadata": {
    "collapsed": false
   },
   "id": "5113bb883e87ed41"
  },
  {
   "cell_type": "code",
   "execution_count": null,
   "outputs": [],
   "source": [
    "positive = [\"good\",\"awesome\", \"best\", \"nice\"]\n",
    "negative = [\"worst\",\"awful\", \"bad\"]\n",
    "tweets = ['This government policies are good', 'bad implementation', 'The way he played showed that he is one of the best players in the world', 'Her acting in the play was awesome', 'The wine tastes awful', 'It’s nice to hear this little kid’s laugh']\n",
    "\n",
    "good_tweets = []\n",
    "bad_tweets = []\n",
    "\n",
    "for tweet in tweets:\n",
    "    for good in positive:\n",
    "        if good in tweet:\n",
    "            good_tweets.append(tweet)\n",
    "    for bad in negative:\n",
    "        if bad in tweet:\n",
    "            bad_tweets.append(tweet)\n",
    "print(\"GOOD TWEETS ARE:\", good_tweets)  \n",
    "print()\n",
    "print(\"BAD TWEETS ARE:\", bad_tweets)"
   ],
   "metadata": {
    "collapsed": false,
    "ExecuteTime": {
     "start_time": "2023-09-13T05:38:20.852637200Z"
    }
   },
   "id": "b674211e9325646c"
  },
  {
   "cell_type": "markdown",
   "source": [
    "### 14. Write a program that performs multiplication of the following two matrix"
   ],
   "metadata": {
    "collapsed": false
   },
   "id": "5793ed9184228520"
  },
  {
   "cell_type": "raw",
   "source": [
    "X = [[1,2,3],\n",
    "    [4 ,5,6],\n",
    "    [7 ,8,9]]\n",
    "\n",
    "Y = [[1,8,1],\n",
    "    [3,7,3],\n",
    "    [4,5,9]]"
   ],
   "metadata": {
    "collapsed": false
   },
   "id": "65edb7d770ce6dac"
  },
  {
   "cell_type": "code",
   "execution_count": null,
   "outputs": [],
   "source": [
    "X = np.array([[1,2,3],\n",
    "    [4 ,5,6],\n",
    "    [7 ,8,9]])\n",
    "\n",
    "Y = np.array([[1,8,1],\n",
    "    [3,7,3],\n",
    "    [4,5,9]])\n",
    "\n",
    "multi = X.dot(Y)\n",
    "print(multi)"
   ],
   "metadata": {
    "collapsed": false,
    "ExecuteTime": {
     "start_time": "2023-09-13T05:38:20.854637400Z"
    }
   },
   "id": "a16d326df9e0f9a9"
  },
  {
   "cell_type": "markdown",
   "source": [
    "### 16.  Write a program to display the subjects for which the scores are between 300 and 500 (inclusive) in the given dataframe\n",
    "Use the dataframe given below:\n",
    "Subject Score\n",
    "Maths 345\n",
    "Physics 432\n",
    "Chemistry 456\n",
    "Biology 234\n",
    "Geology 254\n"
   ],
   "metadata": {
    "collapsed": false
   },
   "id": "a5d27bd1615855ef"
  },
  {
   "cell_type": "code",
   "execution_count": null,
   "outputs": [],
   "source": [
    "result = {'Subject': ['Maths', 'Physics', 'Chemistry', 'Biology', 'Geology'], 'Score': [345, 432, 456, 234, 254]}\n",
    "df = pd.DataFrame(data=result)\n",
    "print('Subjects for which marks are between 300 and 500:\\n', df['Subject'] [df['Score'].between(300, 500)])"
   ],
   "metadata": {
    "collapsed": false,
    "ExecuteTime": {
     "start_time": "2023-09-13T05:38:20.856736400Z"
    }
   },
   "id": "34881658e231e29b"
  },
  {
   "cell_type": "markdown",
   "source": [
    "### 17. Write a program to find numbers between 10000 to 20000 from a given array\n",
    "**Use the list given below:**\n",
    "\n",
    "Sales = [1432,143223,2043332,1642357,54327,754338,12459,75435,224454,1433,12447,25532,86674,74338,12678]"
   ],
   "metadata": {
    "collapsed": false
   },
   "id": "58060b60fd1904cf"
  },
  {
   "cell_type": "code",
   "execution_count": null,
   "outputs": [],
   "source": [
    "Sales = [1432,143223,2043332,1642357,54327,754338,12459,75435,224454,1433,12447,25532,86674,74338,12678]\n",
    "for i in Sales:\n",
    "    if 20000 >= i >= 10000:\n",
    "        print(i)"
   ],
   "metadata": {
    "collapsed": false,
    "ExecuteTime": {
     "start_time": "2023-09-13T05:38:20.859736800Z"
    }
   },
   "id": "736e576564d868f3"
  },
  {
   "cell_type": "code",
   "execution_count": null,
   "outputs": [],
   "source": [
    "leaderboard = [['Joy', 115], ['Mia', 451], ['Karan', 341], ['Tom', 84]]\n",
    "leaderboard_df = pd.DataFrame(data=leaderboard, columns=['Name', 'Rank'])\n",
    "print('Data Frame: \\n\\n', leaderboard_df)\n",
    "print('Sorted Data Frame\\n', leaderboard_df.sort_values(by=['Rank']))"
   ],
   "metadata": {
    "collapsed": false,
    "ExecuteTime": {
     "start_time": "2023-09-13T05:38:20.862737500Z"
    }
   },
   "id": "b2bf3da6c21b367f"
  },
  {
   "cell_type": "code",
   "execution_count": null,
   "outputs": [],
   "source": [],
   "metadata": {
    "collapsed": false,
    "ExecuteTime": {
     "start_time": "2023-09-13T05:38:20.864738900Z"
    }
   },
   "id": "40a33c42a545c34"
  },
  {
   "cell_type": "code",
   "execution_count": null,
   "outputs": [],
   "source": [
    "age = [[1,'Mia', 47, 1], [2, 'Sara', 38, 1] , [3, 'Joy', 47, 0], [4, 'Karan', 41, 0]]\n",
    "df = pd.DataFrame(age, columns=['Id','Name', 'Age', 'Gender'])\n",
    "df['Gender'] = df['Gender'].map({0:'M', 1:'F'})\n",
    "(df)"
   ],
   "metadata": {
    "collapsed": false,
    "ExecuteTime": {
     "start_time": "2023-09-13T05:38:20.866837300Z"
    }
   },
   "id": "6d55d5428990111"
  },
  {
   "cell_type": "code",
   "execution_count": null,
   "outputs": [],
   "source": [],
   "metadata": {
    "collapsed": false,
    "ExecuteTime": {
     "start_time": "2023-09-13T05:38:20.868841800Z"
    }
   },
   "id": "1cd673a020e780c8"
  }
 ],
 "metadata": {
  "kernelspec": {
   "display_name": "Python 3",
   "language": "python",
   "name": "python3"
  },
  "language_info": {
   "codemirror_mode": {
    "name": "ipython",
    "version": 2
   },
   "file_extension": ".py",
   "mimetype": "text/x-python",
   "name": "python",
   "nbconvert_exporter": "python",
   "pygments_lexer": "ipython2",
   "version": "2.7.6"
  }
 },
 "nbformat": 4,
 "nbformat_minor": 5
}
