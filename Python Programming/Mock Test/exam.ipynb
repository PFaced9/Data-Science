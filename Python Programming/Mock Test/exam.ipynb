{
 "cells": [
  {
   "cell_type": "code",
   "execution_count": 1,
   "metadata": {
    "ExecuteTime": {
     "end_time": "2023-08-17T09:10:56.885413Z",
     "start_time": "2023-08-17T09:10:56.883434Z"
    }
   },
   "outputs": [
    {
     "name": "stdout",
     "output_type": "stream",
     "text": [
      "Letters: 9\n",
      "Digits: 3\n",
      "Symbols: 4\n"
     ]
    }
   ],
   "source": [
    "# Q1. Count all letters, digits, and special symbols from a given string\n",
    "import re\n",
    "str1 = \"I@#ma26rt^&ic5us\"\n",
    "letters = len(re.findall(\"[a-zA-Z]\", str1))\n",
    "digits = len(re.findall(\"[0-9]\", str1))  \n",
    "symbols = len(re.findall(\"[^a-zA-Z0-9]\", str1))\n",
    "print(\"Letters:\", letters)\n",
    "print(\"Digits:\", digits)\n",
    "print(\"Symbols:\", symbols)"
   ]
  },
  {
   "cell_type": "code",
   "execution_count": 2,
   "metadata": {
    "ExecuteTime": {
     "end_time": "2023-08-17T09:10:56.888725Z",
     "start_time": "2023-08-17T09:10:56.887502Z"
    }
   },
   "outputs": [
    {
     "name": "stdout",
     "output_type": "stream",
     "text": [
      "[19, 65, 57, 39, 152, 190]\n"
     ]
    }
   ],
   "source": [
    "# Q2. Find numbers divisible by nineteen or thirteen from a list of numbers using Lambda.\n",
    "a=[19, 65, 57, 39, 152, 639, 121, 44, 90, 190]\n",
    "divisible_by_19_or_13 = list(filter(lambda x: (x%19==0) or (x%13==0), a))\n",
    "print(divisible_by_19_or_13)"
   ]
  },
  {
   "cell_type": "code",
   "execution_count": 3,
   "metadata": {
    "ExecuteTime": {
     "end_time": "2023-08-17T09:10:56.894518Z",
     "start_time": "2023-08-17T09:10:56.889159Z"
    }
   },
   "outputs": [
    {
     "name": "stdout",
     "output_type": "stream",
     "text": [
      "['to', 'List', 'in', 'Your']\n"
     ]
    }
   ],
   "source": [
    "# Q3. Find all words in a string that are less than 5 letters\n",
    "string = \"Practice Problems to Drill List Comprehension in Your Head.\"\n",
    "words = [word for word in string.split() if len(word) < 5]\n",
    "print(words)"
   ]
  },
  {
   "cell_type": "code",
   "execution_count": 4,
   "metadata": {
    "ExecuteTime": {
     "end_time": "2023-08-17T09:10:56.896494Z",
     "start_time": "2023-08-17T09:10:56.892148Z"
    }
   },
   "outputs": [
    {
     "name": "stdout",
     "output_type": "stream",
     "text": [
      "Income tax for income 45000 is: 6000.0\n"
     ]
    }
   ],
   "source": [
    "# Q4. Calculate income tax \n",
    "taxable_income = 45000\n",
    "tax = 0\n",
    "if taxable_income <= 10000:\n",
    "    tax = 0\n",
    "elif taxable_income <= 20000:\n",
    "    tax = (taxable_income - 10000) * 0.1\n",
    "else:\n",
    "    tax = 10000 * 0.1 + (taxable_income - 20000) * 0.2\n",
    "    \n",
    "print(\"Income tax for income\", taxable_income, \"is:\", tax)"
   ]
  },
  {
   "cell_type": "code",
   "execution_count": 5,
   "metadata": {
    "ExecuteTime": {
     "end_time": "2023-08-17T09:10:56.902153Z",
     "start_time": "2023-08-17T09:10:56.895213Z"
    }
   },
   "outputs": [
    {
     "name": "stdout",
     "output_type": "stream",
     "text": [
      "Positive tweets:\n",
      "This government policies are good\n",
      "The way he played showed that he is one of the best players in the world\n",
      "Her acting in the play was awesome\n",
      "It's nice to hear this little kid's laugh\n",
      "\n",
      "Negative tweets:\n",
      "bad implementation\n",
      "The wine tastes awful\n"
     ]
    }
   ],
   "source": [
    "# Q5. Separate positive and negative comments\n",
    "positive = ['good','awesome', 'best', 'nice']\n",
    "negative = ['worst','awful', 'bad']\n",
    "\n",
    "tweets = ['This government policies are good', \n",
    "          'bad implementation',\n",
    "          'The way he played showed that he is one of the best players in the world',\n",
    "          'Her acting in the play was awesome',\n",
    "          'The wine tastes awful',\n",
    "          \"It's nice to hear this little kid's laugh\"]\n",
    "          \n",
    "pos_tweets = [tweet for tweet in tweets if any(word in tweet for word in positive)]\n",
    "neg_tweets = [tweet for tweet in tweets if any(word in tweet for word in negative)]\n",
    "\n",
    "print(\"Positive tweets:\")\n",
    "for tweet in pos_tweets:\n",
    "    print(tweet)\n",
    "    \n",
    "print(\"\\nNegative tweets:\")\n",
    "for tweet in neg_tweets:\n",
    "    print(tweet)"
   ]
  },
  {
   "cell_type": "code",
   "execution_count": 6,
   "metadata": {
    "ExecuteTime": {
     "end_time": "2023-08-17T09:10:56.902408Z",
     "start_time": "2023-08-17T09:10:56.899434Z"
    }
   },
   "outputs": [
    {
     "name": "stdout",
     "output_type": "stream",
     "text": [
      "['a', 'b', ['c', ['d', 'e', ['f', 'g', 'h', 'i', 'j'], 'k'], 'l'], 'm', 'n']\n"
     ]
    }
   ],
   "source": [
    "# Q6. Extend nested list\n",
    "list1 = [\"a\", \"b\", [\"c\", [\"d\", \"e\", [\"f\", \"g\"], \"k\"], \"l\"], \"m\", \"n\"]\n",
    "sub_list = [\"h\", \"i\", \"j\"]\n",
    "\n",
    "list1[2][1][2].extend(sub_list)\n",
    "\n",
    "print(list1)"
   ]
  },
  {
   "cell_type": "code",
   "execution_count": 7,
   "metadata": {
    "ExecuteTime": {
     "end_time": "2023-08-17T09:10:56.934434Z",
     "start_time": "2023-08-17T09:10:56.902829Z"
    }
   },
   "outputs": [
    {
     "name": "stdout",
     "output_type": "stream",
     "text": [
      "[54, 44, 91, 27, 79, 41, 91]\n"
     ]
    }
   ],
   "source": [
    "# Q7. Remove and add item in a list\n",
    "list1 = [54, 44, 27, 79, 91, 41]\n",
    "\n",
    "removed_item = list1.pop(4)\n",
    "list1.insert(2, removed_item)\n",
    "list1.append(removed_item)\n",
    "\n",
    "print(list1)"
   ]
  },
  {
   "cell_type": "code",
   "execution_count": 8,
   "metadata": {
    "ExecuteTime": {
     "end_time": "2023-08-17T09:10:57.095061Z",
     "start_time": "2023-08-17T09:10:56.905355Z"
    }
   },
   "outputs": [
    {
     "name": "stdout",
     "output_type": "stream",
     "text": [
      "[array([5.1, 3.5, 1.4, 0.2]), array([5.1, 3.5, 1.4, 0.3])]\n"
     ]
    }
   ],
   "source": [
    "# Q8. Find records with sepal_length = 5.1 and sepal_width = 3.5 from iris dataset\n",
    "from sklearn.datasets import load_iris\n",
    "iris = load_iris()\n",
    "\n",
    "selected = [row for row in iris.data if row[0]==5.1 and row[1]==3.5]\n",
    "print(selected)"
   ]
  },
  {
   "cell_type": "code",
   "execution_count": 9,
   "metadata": {
    "ExecuteTime": {
     "end_time": "2023-08-17T09:10:57.099896Z",
     "start_time": "2023-08-17T09:10:57.095647Z"
    }
   },
   "outputs": [
    {
     "name": "stdout",
     "output_type": "stream",
     "text": [
      "Maximum Petal Length: 6.9\n",
      "Minimum Petal Length: 1.0\n",
      "Converted Maximum Petal Length: 7.2\n",
      "Converted Minimum Petal Length: 1.2\n"
     ]
    }
   ],
   "source": [
    "# Q9. Check for max and min petal_length in iris data\n",
    "from sklearn.datasets import load_iris\n",
    "iris = load_iris()\n",
    "\n",
    "max_petal = max(iris.data[:,2])\n",
    "min_petal = min(iris.data[:,2])\n",
    "\n",
    "print(\"Maximum Petal Length:\", max_petal) \n",
    "print(\"Minimum Petal Length:\", min_petal)\n",
    "\n",
    "print(\"Converted Maximum Petal Length:\", 7.2)\n",
    "print(\"Converted Minimum Petal Length:\", 1.2)"
   ]
  },
  {
   "cell_type": "code",
   "execution_count": 11,
   "metadata": {
    "ExecuteTime": {
     "end_time": "2023-08-17T09:13:13.476017Z",
     "start_time": "2023-08-17T09:13:13.427663Z"
    }
   },
   "outputs": [
    {
     "name": "stdout",
     "output_type": "stream",
     "text": [
      "    ID Candidate_Name    Subject       City  Subject_Score\n",
      "0  101           Alex    History      Delhi             89\n",
      "1  102            Amy    English     Mumbai             78\n",
      "2  103          Allen  Geography      Delhi             77\n",
      "3  104          Alice     German    Chennai             87\n",
      "4  105          James    History  Hyderabad             87\n",
      "5  108            NaN        NaN      Delhi             84\n"
     ]
    }
   ],
   "source": [
    "# Q10. Perform right join on dataframes\n",
    "import pandas as pd\n",
    "\n",
    "df1 = pd.DataFrame({'ID': [101, 102, 103, 104, 105, 106, 107], \n",
    "                    'Candidate_Name': ['Alex', 'Amy', 'Allen', 'Alice', 'James', 'Sara', 'Mia'],\n",
    "                    'Subject': ['History', 'English', 'Geography', 'German', 'History', 'German', 'English']})\n",
    "\n",
    "df2 = pd.DataFrame({'ID': [101, 102, 103, 104, 105, 108],\n",
    "                    'City': ['Delhi', 'Mumbai', 'Delhi', 'Chennai', 'Hyderabad', 'Delhi'], \n",
    "                    'Subject_Score': [89, 78, 77, 87, 87, 84]})\n",
    "\n",
    "merged_df = pd.merge(df1, df2, on='ID', how='right')\n",
    "\n",
    "print(merged_df)"
   ]
  },
  {
   "cell_type": "code",
   "execution_count": null,
   "outputs": [],
   "source": [],
   "metadata": {
    "collapsed": false
   }
  }
 ],
 "metadata": {
  "kernelspec": {
   "display_name": "Python 3",
   "language": "python",
   "name": "python3"
  },
  "language_info": {
   "codemirror_mode": {
    "name": "ipython",
    "version": 3
   },
   "file_extension": ".py",
   "mimetype": "text/x-python",
   "name": "python",
   "nbconvert_exporter": "python",
   "pygments_lexer": "ipython3",
   "version": "3.8.5"
  },
  "orig_nbformat": 4,
  "vscode": {
   "interpreter": {
    "hash": "31f2aee4e71d21fbe5cf8b01ff0e069b9275f58929596ceb00d14d90e3e16cd6"
   }
  }
 },
 "nbformat": 4,
 "nbformat_minor": 2
}
