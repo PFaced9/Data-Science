{
 "cells": [
  {
   "cell_type": "code",
   "execution_count": 1,
   "id": "f176d15a",
   "metadata": {
    "ExecuteTime": {
     "end_time": "2023-08-19T05:10:01.674685Z",
     "start_time": "2023-08-19T05:10:00.859689700Z"
    }
   },
   "outputs": [],
   "source": [
    "import numpy as np\n",
    "import pandas as pd"
   ]
  },
  {
   "cell_type": "code",
   "execution_count": 2,
   "id": "dc1961d1",
   "metadata": {
    "ExecuteTime": {
     "end_time": "2023-08-19T05:10:01.694084800Z",
     "start_time": "2023-08-19T05:10:01.674685Z"
    }
   },
   "outputs": [
    {
     "name": "stdout",
     "output_type": "stream",
     "text": [
      "0    10\n",
      "1    20\n",
      "2    30\n",
      "3    40\n",
      "4    50\n",
      "dtype: int64\n",
      "0     60\n",
      "1     70\n",
      "2     80\n",
      "3     90\n",
      "4    100\n",
      "dtype: int32\n"
     ]
    }
   ],
   "source": [
    "age_series = pd.Series([10,20,30,40,50])\n",
    "print(age_series)\n",
    "age_series_np = pd.Series(np.array([60,70,80,90,100]))\n",
    "print(age_series_np)"
   ]
  },
  {
   "cell_type": "code",
   "execution_count": 3,
   "id": "866d1830-34d5-402d-af6c-c666d68d3d55",
   "metadata": {
    "tags": [],
    "ExecuteTime": {
     "end_time": "2023-08-19T05:10:01.694084800Z",
     "start_time": "2023-08-19T05:10:01.690707400Z"
    }
   },
   "outputs": [
    {
     "name": "stdout",
     "output_type": "stream",
     "text": [
      "6     100\n",
      "7     200\n",
      "8     300\n",
      "9     400\n",
      "10    500\n",
      "dtype: int64\n"
     ]
    }
   ],
   "source": [
    "emp_series = pd.Series([100,200,300,400,500], index = np.arange(6,11))\n",
    "print(emp_series)"
   ]
  },
  {
   "cell_type": "code",
   "execution_count": 4,
   "id": "b6f9954f",
   "metadata": {
    "ExecuteTime": {
     "end_time": "2023-08-19T05:10:01.801108Z",
     "start_time": "2023-08-19T05:10:01.694084800Z"
    }
   },
   "outputs": [
    {
     "name": "stdout",
     "output_type": "stream",
     "text": [
      "A    200\n",
      "B    400\n",
      "C    600\n",
      "D    800\n",
      "dtype: int32\n"
     ]
    }
   ],
   "source": [
    "emp_series = pd.Series(np.array([200,400,600,800]), index=['A','B','C','D'])\n",
    "print(emp_series)"
   ]
  },
  {
   "cell_type": "code",
   "execution_count": 5,
   "id": "1075f49b",
   "metadata": {
    "ExecuteTime": {
     "end_time": "2023-08-19T05:10:01.823460700Z",
     "start_time": "2023-08-19T05:10:01.715397400Z"
    }
   },
   "outputs": [
    {
     "name": "stdout",
     "output_type": "stream",
     "text": [
      "Dairy          10\n",
      "Soft Drinks    20\n",
      "Fruits         30\n",
      "Vegetables     40\n",
      "dtype: int64\n"
     ]
    }
   ],
   "source": [
    "prod_dict = {'Dairy': 10, 'Soft Drinks': 20, 'Fruits':30, 'Vegetables':40}\n",
    "prod_series = pd.Series(prod_dict)\n",
    "print(prod_series)"
   ]
  },
  {
   "cell_type": "code",
   "execution_count": 6,
   "id": "1d012b88",
   "metadata": {
    "ExecuteTime": {
     "end_time": "2023-08-19T05:10:01.823460700Z",
     "start_time": "2023-08-19T05:10:01.721912900Z"
    }
   },
   "outputs": [
    {
     "name": "stdout",
     "output_type": "stream",
     "text": [
      "X    [Maths, Science, English]\n",
      "Y             [Hindi, Punjabi]\n",
      "Z                    Economics\n",
      "dtype: object\n"
     ]
    }
   ],
   "source": [
    "classes_dict = {\"X\": [\"Maths\", \"Science\", \"English\"], \"Y\": [\"Hindi\", \"Punjabi\"], \"Z\": \"Economics\"}\n",
    "classes_series = pd.Series(classes_dict)\n",
    "print(classes_series)"
   ]
  },
  {
   "cell_type": "code",
   "execution_count": 7,
   "id": "b3193a7d",
   "metadata": {
    "tags": [],
    "ExecuteTime": {
     "end_time": "2023-08-19T05:10:01.823460700Z",
     "start_time": "2023-08-19T05:10:01.728424700Z"
    }
   },
   "outputs": [
    {
     "name": "stdout",
     "output_type": "stream",
     "text": [
      "Index(['X', 'Y', 'Z'], dtype='object')\n",
      "[list(['Maths', 'Science', 'English']) list(['Hindi', 'Punjabi'])\n",
      " 'Economics']\n"
     ]
    }
   ],
   "source": [
    "print(classes_series.index)\n",
    "print(classes_series.values)"
   ]
  },
  {
   "cell_type": "code",
   "execution_count": 8,
   "id": "d6b060bc-219c-4b5b-b867-26c18bd9f58d",
   "metadata": {
    "ExecuteTime": {
     "end_time": "2023-08-19T05:10:01.823460700Z",
     "start_time": "2023-08-19T05:10:01.737492800Z"
    }
   },
   "outputs": [
    {
     "name": "stdout",
     "output_type": "stream",
     "text": [
      "0    0\n",
      "1    1\n",
      "2    2\n",
      "3    3\n",
      "4    4\n",
      "dtype: int32\n",
      "9      9\n",
      "10    10\n",
      "11    11\n",
      "dtype: int32\n"
     ]
    }
   ],
   "source": [
    "emp_series = pd.Series(np.array(np.arange(0,12)))\n",
    "print(emp_series[:5])\n",
    "print(emp_series[-3:])"
   ]
  },
  {
   "cell_type": "code",
   "execution_count": 9,
   "id": "3b6dee2f-56de-447c-a763-63af62c33285",
   "metadata": {
    "tags": [],
    "ExecuteTime": {
     "end_time": "2023-08-19T05:10:01.823460700Z",
     "start_time": "2023-08-19T05:10:01.753305400Z"
    }
   },
   "outputs": [
    {
     "name": "stdout",
     "output_type": "stream",
     "text": [
      "['Hindi', 'Punjabi']\n",
      "X    [Maths, Science, English]\n",
      "Z                    Economics\n",
      "dtype: object\n"
     ]
    }
   ],
   "source": [
    "print(classes_series['Y'])\n",
    "print(classes_series[['X', 'Z']])"
   ]
  },
  {
   "cell_type": "code",
   "execution_count": 10,
   "id": "1f65b65f-c360-4741-9fb0-aca61676d468",
   "metadata": {
    "tags": [],
    "ExecuteTime": {
     "end_time": "2023-08-19T05:10:01.847622100Z",
     "start_time": "2023-08-19T05:10:01.769115900Z"
    }
   },
   "outputs": [
    {
     "name": "stdout",
     "output_type": "stream",
     "text": [
      "7      7\n",
      "8      8\n",
      "9      9\n",
      "10    10\n",
      "11    11\n",
      "dtype: int32\n"
     ]
    }
   ],
   "source": [
    "print(emp_series[emp_series > 6])"
   ]
  },
  {
   "cell_type": "code",
   "execution_count": 11,
   "id": "0802fc80-6f10-423c-a9ac-ef15acd4e912",
   "metadata": {
    "tags": [],
    "ExecuteTime": {
     "end_time": "2023-08-19T05:10:01.847622100Z",
     "start_time": "2023-08-19T05:10:01.773783Z"
    }
   },
   "outputs": [
    {
     "name": "stdout",
     "output_type": "stream",
     "text": [
      "0    10\n",
      "1    20\n",
      "2    30\n",
      "3    40\n",
      "4    50\n",
      "dtype: int64\n",
      "0     20\n",
      "1     40\n",
      "2     60\n",
      "3     80\n",
      "4    100\n",
      "dtype: int64\n"
     ]
    }
   ],
   "source": [
    "print(age_series)\n",
    "print(age_series*2)"
   ]
  },
  {
   "cell_type": "code",
   "execution_count": 12,
   "id": "4118e07a-469f-4b5d-b51b-81cd3768402f",
   "metadata": {
    "tags": [],
    "ExecuteTime": {
     "end_time": "2023-08-19T05:10:01.847622100Z",
     "start_time": "2023-08-19T05:10:01.785119700Z"
    }
   },
   "outputs": [
    {
     "name": "stdout",
     "output_type": "stream",
     "text": [
      "0     6\n",
      "1    20\n",
      "2    42\n",
      "dtype: int64\n",
      "0     5\n",
      "1     9\n",
      "2    13\n",
      "dtype: int64\n"
     ]
    }
   ],
   "source": [
    "a_series = pd.Series([2,4,6])\n",
    "b_series = pd.Series([3,5,7])\n",
    "c_series = a_series.multiply(b_series)\n",
    "print(c_series)\n",
    "d_series = a_series+b_series\n",
    "print(d_series)"
   ]
  },
  {
   "cell_type": "code",
   "execution_count": 13,
   "id": "2752b817-3270-4395-9a44-5467a44a041c",
   "metadata": {
    "tags": [],
    "ExecuteTime": {
     "end_time": "2023-08-19T05:10:01.847622100Z",
     "start_time": "2023-08-19T05:10:01.792601300Z"
    }
   },
   "outputs": [
    {
     "name": "stdout",
     "output_type": "stream",
     "text": [
      "0    3.0\n",
      "1    1.0\n",
      "2    7.0\n",
      "3    2.0\n",
      "4    NaN\n",
      "5    6.0\n",
      "6    8.0\n",
      "7    4.0\n",
      "8    9.0\n",
      "9    5.0\n",
      "dtype: float64\n"
     ]
    }
   ],
   "source": [
    "score = pd.Series([3,1,7,2,np.nan,6,8,4,9,5])\n",
    "print(score.rank())"
   ]
  },
  {
   "cell_type": "code",
   "execution_count": 14,
   "id": "7a007382-7484-4fc1-8048-92e0335c383e",
   "metadata": {
    "tags": [],
    "ExecuteTime": {
     "end_time": "2023-08-19T05:10:01.847622100Z",
     "start_time": "2023-08-19T05:10:01.804080100Z"
    }
   },
   "outputs": [
    {
     "name": "stdout",
     "output_type": "stream",
     "text": [
      "0    3.0\n",
      "1    1.0\n",
      "2    7.0\n",
      "3    2.0\n",
      "4    NaN\n",
      "5    6.0\n",
      "6    8.0\n",
      "7    4.0\n",
      "8    9.0\n",
      "9    5.0\n",
      "dtype: float64\n",
      "1    1.0\n",
      "3    2.0\n",
      "0    3.0\n",
      "7    4.0\n",
      "9    5.0\n",
      "5    6.0\n",
      "2    7.0\n",
      "6    8.0\n",
      "8    9.0\n",
      "4    NaN\n",
      "dtype: float64\n"
     ]
    }
   ],
   "source": [
    "print(score)\n",
    "print(score.sort_values(ascending = True, na_position='last'))"
   ]
  },
  {
   "cell_type": "code",
   "execution_count": 15,
   "id": "c8753331-5289-4096-acd9-88e9eafb49eb",
   "metadata": {
    "tags": [],
    "ExecuteTime": {
     "end_time": "2023-08-19T05:10:01.868161100Z",
     "start_time": "2023-08-19T05:10:01.816744100Z"
    }
   },
   "outputs": [
    {
     "name": "stdout",
     "output_type": "stream",
     "text": [
      "4    NaN\n",
      "8    9.0\n",
      "6    8.0\n",
      "2    7.0\n",
      "5    6.0\n",
      "9    5.0\n",
      "7    4.0\n",
      "0    3.0\n",
      "3    2.0\n",
      "1    1.0\n",
      "dtype: float64\n"
     ]
    }
   ],
   "source": [
    "print(score.sort_values(ascending = False, na_position='first'))"
   ]
  },
  {
   "cell_type": "code",
   "execution_count": 16,
   "id": "af697e3d-a88e-43f4-a989-9fe8c66efe5d",
   "metadata": {
    "tags": [],
    "ExecuteTime": {
     "end_time": "2023-08-19T05:10:02.098696300Z",
     "start_time": "2023-08-19T05:10:01.823460700Z"
    }
   },
   "outputs": [
    {
     "name": "stdout",
     "output_type": "stream",
     "text": [
      "10    5\n",
      "20    4\n",
      "30    1\n",
      "40    2\n",
      "50    3\n",
      "dtype: int64\n"
     ]
    }
   ],
   "source": [
    "sales_series = pd.Series([1,2,3,4,5], index=[30,40,50,20,10])\n",
    "print(sales_series.sort_index(ascending = True))"
   ]
  },
  {
   "cell_type": "code",
   "execution_count": 17,
   "id": "7939d5dc-3aeb-4394-bc55-dc1829864930",
   "metadata": {
    "tags": [],
    "ExecuteTime": {
     "end_time": "2023-08-19T05:10:02.129945100Z",
     "start_time": "2023-08-19T05:10:01.835366Z"
    }
   },
   "outputs": [
    {
     "name": "stdout",
     "output_type": "stream",
     "text": [
      "0    False\n",
      "1    False\n",
      "2    False\n",
      "3     True\n",
      "4    False\n",
      "5    False\n",
      "6     True\n",
      "7     True\n",
      "dtype: bool\n"
     ]
    }
   ],
   "source": [
    "height_series = pd.Series([1,2,3,np.nan,4,5,np.nan,np.nan])\n",
    "print(height_series.isnull())"
   ]
  },
  {
   "cell_type": "code",
   "execution_count": 18,
   "id": "22fe3a5e-b662-4f68-ac86-759040eed225",
   "metadata": {
    "tags": [],
    "ExecuteTime": {
     "end_time": "2023-08-19T05:10:02.145570Z",
     "start_time": "2023-08-19T05:10:01.847622100Z"
    }
   },
   "outputs": [
    {
     "name": "stdout",
     "output_type": "stream",
     "text": [
      "0     True\n",
      "1     True\n",
      "2     True\n",
      "3    False\n",
      "4     True\n",
      "5     True\n",
      "6    False\n",
      "7    False\n",
      "dtype: bool\n"
     ]
    }
   ],
   "source": [
    "print(height_series.notnull())"
   ]
  },
  {
   "cell_type": "code",
   "execution_count": 19,
   "id": "9311a575-5f1d-4e6b-858c-f09b13a32a92",
   "metadata": {
    "tags": [],
    "ExecuteTime": {
     "end_time": "2023-08-19T05:10:02.145570Z",
     "start_time": "2023-08-19T05:10:01.863470400Z"
    }
   },
   "outputs": [
    {
     "name": "stdout",
     "output_type": "stream",
     "text": [
      "0      0.0\n",
      "1      2.0\n",
      "2      4.0\n",
      "3      6.0\n",
      "4      8.0\n",
      "5     10.0\n",
      "6     12.0\n",
      "7     14.0\n",
      "8     16.0\n",
      "9     18.0\n",
      "10    20.0\n",
      "dtype: float64 0      1.0\n",
      "1      3.0\n",
      "2      5.0\n",
      "3      7.0\n",
      "4      9.0\n",
      "5     11.0\n",
      "6     13.0\n",
      "7     15.0\n",
      "8     17.0\n",
      "9     19.0\n",
      "10    21.0\n",
      "dtype: float64\n"
     ]
    }
   ],
   "source": [
    "class1 = pd.Series(np.linspace(start=0, stop=20, num=11))\n",
    "class2 = pd.Series(np.linspace(start=1, stop=21, num=11))\n",
    "print(class1, class2)"
   ]
  },
  {
   "cell_type": "code",
   "execution_count": 20,
   "id": "4f25b835-6aa9-450e-96ac-768ea986cb0e",
   "metadata": {
    "tags": [],
    "ExecuteTime": {
     "end_time": "2023-08-19T05:10:02.145570Z",
     "start_time": "2023-08-19T05:10:01.868161100Z"
    }
   },
   "outputs": [
    {
     "name": "stdout",
     "output_type": "stream",
     "text": [
      "Category  Index\n",
      "Even      0         0.0\n",
      "          1         2.0\n",
      "          2         4.0\n",
      "          3         6.0\n",
      "          4         8.0\n",
      "          5        10.0\n",
      "          6        12.0\n",
      "          7        14.0\n",
      "          8        16.0\n",
      "          9        18.0\n",
      "          10       20.0\n",
      "Odd       0         1.0\n",
      "          1         3.0\n",
      "          2         5.0\n",
      "          3         7.0\n",
      "          4         9.0\n",
      "          5        11.0\n",
      "          6        13.0\n",
      "          7        15.0\n",
      "          8        17.0\n",
      "          9        19.0\n",
      "          10       21.0\n",
      "dtype: float64\n"
     ]
    }
   ],
   "source": [
    "# pd.concat([class1, class2])\n",
    "print(pd.concat([class1, class2], keys=['Even', 'Odd'], names=['Category', 'Index']))\n"
   ]
  },
  {
   "cell_type": "code",
   "execution_count": 21,
   "id": "a4ad3b87-5a39-44b9-8915-34251567da71",
   "metadata": {
    "tags": [],
    "ExecuteTime": {
     "end_time": "2023-08-19T05:10:02.145570Z",
     "start_time": "2023-08-19T05:10:01.879242100Z"
    }
   },
   "outputs": [
    {
     "name": "stderr",
     "output_type": "stream",
     "text": [
      "C:\\Users\\anubh\\AppData\\Local\\Temp\\ipykernel_9716\\1585733366.py:2: FutureWarning: The series.append method is deprecated and will be removed from pandas in a future version. Use pandas.concat instead.\n",
      "  class1.append(class2, ignore_index=True)\n"
     ]
    },
    {
     "data": {
      "text/plain": "0      0.0\n1      2.0\n2      4.0\n3      6.0\n4      8.0\n5     10.0\n6     12.0\n7     14.0\n8     16.0\n9     18.0\n10    20.0\n11     1.0\n12     3.0\n13     5.0\n14     7.0\n15     9.0\n16    11.0\n17    13.0\n18    15.0\n19    17.0\n20    19.0\n21    21.0\ndtype: float64"
     },
     "execution_count": 21,
     "metadata": {},
     "output_type": "execute_result"
    }
   ],
   "source": [
    "# class1.append(class2)\n",
    "class1.append(class2, ignore_index=True)"
   ]
  },
  {
   "cell_type": "code",
   "execution_count": 22,
   "outputs": [
    {
     "name": "stdout",
     "output_type": "stream",
     "text": [
      "     A    B      C  D  E\n",
      "0  foo  one  small  1  2\n",
      "1  foo  one  large  2  4\n",
      "2  foo  one  large  2  5\n",
      "3  foo  two  small  3  5\n",
      "4  foo  two  small  3  6\n",
      "5  bar  one  large  4  6\n",
      "6  bar  one  small  5  8\n",
      "7  bar  two  small  6  9\n",
      "8  bar  two  large  7  9\n"
     ]
    }
   ],
   "source": [
    "df = pd.DataFrame({\"A\": [\"foo\", \"foo\", \"foo\", \"foo\", \"foo\", \"bar\", \"bar\", \"bar\", \"bar\"],\n",
    "                   \"B\": [\"one\", \"one\", \"one\", \"two\", \"two\", \"one\", \"one\", \"two\", \"two\"],\n",
    "                   \"C\": [\"small\", \"large\", \"large\", \"small\", \"small\", \"large\", \"small\", \"small\", \"large\"],\n",
    "                   \"D\": [1, 2, 2, 3, 3, 4, 5, 6, 7],\n",
    "                   \"E\": [2, 4, 5, 5, 6, 6, 8, 9, 9]})\n",
    "print(df)"
   ],
   "metadata": {
    "collapsed": false,
    "ExecuteTime": {
     "end_time": "2023-08-19T05:10:02.145570Z",
     "start_time": "2023-08-19T05:10:01.894207800Z"
    }
   },
   "id": "875a60d1b7fef034"
  },
  {
   "cell_type": "code",
   "execution_count": 23,
   "outputs": [
    {
     "name": "stdout",
     "output_type": "stream",
     "text": [
      "C        large  small\n",
      "A   B                \n",
      "bar one    4.0    5.0\n",
      "    two    7.0    6.0\n",
      "foo one    4.0    1.0\n",
      "    two    NaN    6.0\n"
     ]
    }
   ],
   "source": [
    "table = pd.pivot_table(df, values='D', index=['A', 'B'], columns=['C'], aggfunc=np.sum)\n",
    "print(table)"
   ],
   "metadata": {
    "collapsed": false,
    "ExecuteTime": {
     "end_time": "2023-08-19T05:10:02.145570Z",
     "start_time": "2023-08-19T05:10:01.910350Z"
    }
   },
   "id": "1e8d01fde387147"
  },
  {
   "cell_type": "code",
   "execution_count": 24,
   "outputs": [
    {
     "name": "stdout",
     "output_type": "stream",
     "text": [
      "                  D         E\n",
      "A   C                        \n",
      "bar large  5.500000  7.500000\n",
      "    small  5.500000  8.500000\n",
      "foo large  2.000000  4.500000\n",
      "    small  2.333333  4.333333\n"
     ]
    }
   ],
   "source": [
    "table = pd.pivot_table(df, values=['D', 'E'], index=['A', 'C'], aggfunc={'D': np.mean, 'E':np.mean})\n",
    "print(table)"
   ],
   "metadata": {
    "collapsed": false,
    "ExecuteTime": {
     "end_time": "2023-08-19T05:10:02.145570Z",
     "start_time": "2023-08-19T05:10:01.941985500Z"
    }
   },
   "id": "665de00ae3588048"
  },
  {
   "cell_type": "code",
   "execution_count": 25,
   "outputs": [
    {
     "name": "stdout",
     "output_type": "stream",
     "text": [
      "                  D   E              \n",
      "               mean max      mean min\n",
      "A   C                                \n",
      "bar large  5.500000   9  7.500000   6\n",
      "    small  5.500000   9  8.500000   8\n",
      "foo large  2.000000   5  4.500000   4\n",
      "    small  2.333333   6  4.333333   2\n"
     ]
    }
   ],
   "source": [
    "table = pd.pivot_table(df, values=['D', 'E'], index=['A', 'C'], aggfunc={'D': np.mean, 'E':[min,max,np.mean]})\n",
    "print(table)"
   ],
   "metadata": {
    "collapsed": false,
    "ExecuteTime": {
     "end_time": "2023-08-19T05:10:02.145570Z",
     "start_time": "2023-08-19T05:10:01.957707300Z"
    }
   },
   "id": "57bf053038583124"
  },
  {
   "cell_type": "code",
   "execution_count": 26,
   "outputs": [
    {
     "name": "stdout",
     "output_type": "stream",
     "text": [
      "b    one        two      \n",
      "c   dull shiny dull shiny\n",
      "a                        \n",
      "bar    1     2    1     0\n",
      "foo    2     2    1     2\n"
     ]
    }
   ],
   "source": [
    "a = np.array([\"foo\", \"foo\", \"foo\", \"foo\", \"bar\", \"bar\", \"bar\", \"bar\", \"foo\", \"foo\", \"foo\"], dtype=object)\n",
    "b = np.array([\"one\", \"one\", \"one\", \"two\", \"one\", \"one\", \"one\", \"two\", \"two\", \"two\", \"one\"], dtype=object)\n",
    "c = np.array([\"dull\", \"dull\", \"shiny\", \"dull\", \"dull\", \"shiny\", \"shiny\", \"dull\", \"shiny\", \"shiny\", \"shiny\"], dtype=object)\n",
    "print(pd.crosstab(a, [b, c], rownames=['a'], colnames=['b', 'c']))"
   ],
   "metadata": {
    "collapsed": false,
    "ExecuteTime": {
     "end_time": "2023-08-19T05:10:02.145570Z",
     "start_time": "2023-08-19T05:10:01.978980900Z"
    }
   },
   "id": "d0ff9678e92d19ce"
  },
  {
   "cell_type": "code",
   "execution_count": 26,
   "outputs": [],
   "source": [],
   "metadata": {
    "collapsed": false,
    "ExecuteTime": {
     "end_time": "2023-08-19T05:10:02.145570Z",
     "start_time": "2023-08-19T05:10:02.006545800Z"
    }
   },
   "id": "50bfdee8c63c39cb"
  }
 ],
 "metadata": {
  "kernelspec": {
   "display_name": "Python 3 (ipykernel)",
   "language": "python",
   "name": "python3"
  },
  "language_info": {
   "codemirror_mode": {
    "name": "ipython",
    "version": 3
   },
   "file_extension": ".py",
   "mimetype": "text/x-python",
   "name": "python",
   "nbconvert_exporter": "python",
   "pygments_lexer": "ipython3",
   "version": "3.9.17"
  }
 },
 "nbformat": 4,
 "nbformat_minor": 5
}
