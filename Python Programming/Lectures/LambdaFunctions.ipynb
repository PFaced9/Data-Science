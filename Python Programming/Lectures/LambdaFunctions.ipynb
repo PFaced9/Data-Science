{
 "cells": [
  {
   "cell_type": "code",
   "execution_count": 12,
   "id": "5bdd534f",
   "metadata": {
    "ExecuteTime": {
     "end_time": "2023-08-17T13:05:53.775321400Z",
     "start_time": "2023-08-17T13:05:53.759459700Z"
    }
   },
   "outputs": [
    {
     "name": "stdout",
     "output_type": "stream",
     "text": [
      "HELLO, WELCOME!\n",
      "20.0\n",
      "Hello! Mr Anubhav , Welcome!\n"
     ]
    }
   ],
   "source": [
    "# DEFINING A CODE\n",
    "\n",
    "def greet():\n",
    "    print(\"HELLO, WELCOME!\")\n",
    "    \n",
    "greet()\n",
    "\n",
    "def area_of_triangle(base, height = 20):\n",
    "    return 0.5 * base * height\n",
    "\n",
    "area = area_of_triangle(2)\n",
    "print(area)\n",
    "\n",
    "def welcome_message(name):\n",
    "    print(\"Hello!\" , \"Mr\", name, \",\" , \"Welcome!\")\n",
    "    \n",
    "welcome_message(\"Anubhav\")"
   ]
  },
  {
   "cell_type": "code",
   "execution_count": 14,
   "outputs": [
    {
     "name": "stdout",
     "output_type": "stream",
     "text": [
      "Anubhav CEO\n",
      "Anubhav CEO\n"
     ]
    }
   ],
   "source": [
    "# KEYWORD ARGUMENTS\n",
    "\n",
    "def employee(name, desg):\n",
    "    print(name, desg)\n",
    "    \n",
    "employee(name = \"Anubhav\", desg= \"CEO\")\n",
    "employee(desg = \"CEO\", name= \"Anubhav\")"
   ],
   "metadata": {
    "collapsed": false,
    "ExecuteTime": {
     "end_time": "2023-08-17T13:07:35.836595900Z",
     "start_time": "2023-08-17T13:07:35.831606900Z"
    }
   },
   "id": "448859cf8d362f08"
  },
  {
   "cell_type": "code",
   "execution_count": 18,
   "outputs": [
    {
     "name": "stdout",
     "output_type": "stream",
     "text": [
      "19\n",
      "3\n"
     ]
    }
   ],
   "source": [
    "# VARIABLE LENGTH ARGUMENTS\n",
    "\n",
    "def addition(*numbers):\n",
    "    add = 0\n",
    "    for num in numbers:\n",
    "        add += num\n",
    "    print(add)\n",
    "    \n",
    "addition(1,2,3,4,4,5)\n",
    "addition(1,2)"
   ],
   "metadata": {
    "collapsed": false,
    "ExecuteTime": {
     "end_time": "2023-08-17T13:12:30.033689400Z",
     "start_time": "2023-08-17T13:12:30.002219400Z"
    }
   },
   "id": "c8ef2c2bd054cccd"
  },
  {
   "cell_type": "code",
   "execution_count": 24,
   "outputs": [
    {
     "name": "stdout",
     "output_type": "stream",
     "text": [
      "<class 'dict'>\n",
      "f_name  -->  CamaroBro\n",
      "s_name  -->  Gupta\n",
      "Designation  -->  CEO\n"
     ]
    }
   ],
   "source": [
    "# VARIABLE LENGTH KEYWORD-ED ARGUMENTS\n",
    "\n",
    "def employee(**details):\n",
    "    print(type(details))\n",
    "    for k, v in details.items():\n",
    "        print(k, \" --> \", v)\n",
    "        \n",
    "employee(f_name = \"CamaroBro\", s_name = \"Gupta\", Designation = \"CEO\")"
   ],
   "metadata": {
    "collapsed": false,
    "ExecuteTime": {
     "end_time": "2023-08-17T13:21:59.982463800Z",
     "start_time": "2023-08-17T13:21:59.981941100Z"
    }
   },
   "id": "e4eccf2af65f1943"
  },
  {
   "cell_type": "code",
   "execution_count": 29,
   "outputs": [
    {
     "name": "stdout",
     "output_type": "stream",
     "text": [
      "222\n",
      "[1, 2, 3, 4, 5, 6, 7, 8, 9, 10]\n",
      "[1, 4, 9, 16, 25, 36, 49, 64, 81, 100]\n"
     ]
    }
   ],
   "source": [
    "# LAMBDA FUNCTION\n",
    "\n",
    "greater = lambda num1, num2: num1 if num1 > num2 else num2\n",
    "print(greater(133,222))\n",
    "\n",
    "# LAMBDA WITH MAP()\n",
    "\n",
    "num_list = list(range(1, 11))\n",
    "sq_list = list(map(lambda x: x ** 2, num_list))\n",
    "print(num_list)\n",
    "print(sq_list)"
   ],
   "metadata": {
    "collapsed": false,
    "ExecuteTime": {
     "end_time": "2023-08-17T13:36:04.925723300Z",
     "start_time": "2023-08-17T13:36:04.908858100Z"
    }
   },
   "id": "a3a01f1acbb07c4b"
  },
  {
   "cell_type": "code",
   "execution_count": null,
   "outputs": [],
   "source": [],
   "metadata": {
    "collapsed": false
   },
   "id": "dc5f74df886baad4"
  }
 ],
 "metadata": {
  "kernelspec": {
   "display_name": "Python 3 (ipykernel)",
   "language": "python",
   "name": "python3"
  },
  "language_info": {
   "codemirror_mode": {
    "name": "ipython",
    "version": 3
   },
   "file_extension": ".py",
   "mimetype": "text/x-python",
   "name": "python",
   "nbconvert_exporter": "python",
   "pygments_lexer": "ipython3",
   "version": "3.11.3"
  }
 },
 "nbformat": 4,
 "nbformat_minor": 5
}
