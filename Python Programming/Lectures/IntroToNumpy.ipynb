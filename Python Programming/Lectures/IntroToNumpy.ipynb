{
 "cells": [
  {
   "cell_type": "code",
   "execution_count": 1,
   "id": "e37cd158",
   "metadata": {
    "ExecuteTime": {
     "end_time": "2023-08-18T18:27:29.558538700Z",
     "start_time": "2023-08-18T18:27:29.381662200Z"
    }
   },
   "outputs": [],
   "source": [
    "import numpy as np"
   ]
  },
  {
   "cell_type": "code",
   "execution_count": 2,
   "id": "aec70a7b",
   "metadata": {
    "ExecuteTime": {
     "end_time": "2023-08-18T18:27:29.577991400Z",
     "start_time": "2023-08-18T18:27:29.560547400Z"
    }
   },
   "outputs": [
    {
     "name": "stdout",
     "output_type": "stream",
     "text": [
      "[18 23 40 31 28]\n",
      "<class 'numpy.ndarray'>\n"
     ]
    }
   ],
   "source": [
    "age = [18, 23, 40, 31, 28]\n",
    "age_arr = np.array(age)\n",
    "print(age_arr)\n",
    "print(type(age_arr))"
   ]
  },
  {
   "cell_type": "code",
   "execution_count": 3,
   "id": "c03111a9",
   "metadata": {
    "ExecuteTime": {
     "end_time": "2023-08-18T18:27:29.605219600Z",
     "start_time": "2023-08-18T18:27:29.575624700Z"
    }
   },
   "outputs": [
    {
     "data": {
      "text/plain": "array([0.39858583, 0.88133039, 0.68683143, 0.03786219, 0.44915532,\n       0.68226684, 0.1033865 , 0.12382335, 0.71204127, 0.07643994,\n       0.48371736, 0.79304334, 0.99432026, 0.89507441, 0.93741719,\n       0.10210113, 0.22165577, 0.30446312, 0.5436899 , 0.58545803])"
     },
     "execution_count": 3,
     "metadata": {},
     "output_type": "execute_result"
    }
   ],
   "source": [
    "np.random.random(size = 20)"
   ]
  },
  {
   "cell_type": "code",
   "execution_count": 4,
   "id": "456ae438",
   "metadata": {
    "ExecuteTime": {
     "end_time": "2023-08-18T18:27:29.607229500Z",
     "start_time": "2023-08-18T18:27:29.585422900Z"
    }
   },
   "outputs": [
    {
     "data": {
      "text/plain": "array([[0.85886783, 0.23471001, 0.74062787, 0.37951175],\n       [0.23502415, 0.33377318, 0.32205991, 0.39883796]])"
     },
     "execution_count": 4,
     "metadata": {},
     "output_type": "execute_result"
    }
   ],
   "source": [
    "np.random.rand(2,4)"
   ]
  },
  {
   "cell_type": "code",
   "execution_count": 5,
   "id": "ad7ddc5d",
   "metadata": {
    "ExecuteTime": {
     "end_time": "2023-08-18T18:27:29.744210200Z",
     "start_time": "2023-08-18T18:27:29.596203100Z"
    }
   },
   "outputs": [
    {
     "data": {
      "text/plain": "array([[-0.00274981,  0.06643864, -0.26822215],\n       [-0.51342983, -0.46198738,  1.00451591],\n       [ 0.98522564,  0.42781722, -0.13088321]])"
     },
     "execution_count": 5,
     "metadata": {},
     "output_type": "execute_result"
    }
   ],
   "source": [
    "np.random.randn(3,3)"
   ]
  },
  {
   "cell_type": "code",
   "execution_count": 6,
   "id": "e318e00c",
   "metadata": {
    "ExecuteTime": {
     "end_time": "2023-08-18T18:27:29.769527500Z",
     "start_time": "2023-08-18T18:27:29.611230200Z"
    }
   },
   "outputs": [
    {
     "data": {
      "text/plain": "2"
     },
     "execution_count": 6,
     "metadata": {},
     "output_type": "execute_result"
    }
   ],
   "source": [
    "np.random.randint(2,9)"
   ]
  },
  {
   "cell_type": "code",
   "execution_count": 7,
   "id": "087880e4",
   "metadata": {
    "ExecuteTime": {
     "end_time": "2023-08-18T18:27:29.771674300Z",
     "start_time": "2023-08-18T18:27:29.621282100Z"
    }
   },
   "outputs": [
    {
     "data": {
      "text/plain": "array([85, 18, 18, 69, 79,  7, 87, 78,  6,  1])"
     },
     "execution_count": 7,
     "metadata": {},
     "output_type": "execute_result"
    }
   ],
   "source": [
    "np.random.randint(1,100,10)"
   ]
  },
  {
   "cell_type": "code",
   "execution_count": 8,
   "id": "57361a11",
   "metadata": {
    "ExecuteTime": {
     "end_time": "2023-08-18T18:27:29.772675500Z",
     "start_time": "2023-08-18T18:27:29.634370600Z"
    }
   },
   "outputs": [
    {
     "data": {
      "text/plain": "array([10, 12, 14, 16, 18, 20, 22, 24, 26, 28, 30, 32, 34, 36, 38])"
     },
     "execution_count": 8,
     "metadata": {},
     "output_type": "execute_result"
    }
   ],
   "source": [
    "np.arange(10,40,2)"
   ]
  },
  {
   "cell_type": "code",
   "execution_count": 9,
   "id": "0e3c69cb",
   "metadata": {
    "ExecuteTime": {
     "end_time": "2023-08-18T18:27:29.774178400Z",
     "start_time": "2023-08-18T18:27:29.645819Z"
    }
   },
   "outputs": [
    {
     "data": {
      "text/plain": "array([  1.,  12.,  23.,  34.,  45.,  56.,  67.,  78.,  89., 100.])"
     },
     "execution_count": 9,
     "metadata": {},
     "output_type": "execute_result"
    }
   ],
   "source": [
    "np.linspace(1,100,10)\n",
    "# np.linspace(1,100,10, dtype=int)"
   ]
  },
  {
   "cell_type": "code",
   "execution_count": 10,
   "id": "c9293e6e",
   "metadata": {
    "ExecuteTime": {
     "end_time": "2023-08-18T18:27:29.782140400Z",
     "start_time": "2023-08-18T18:27:29.663667Z"
    }
   },
   "outputs": [
    {
     "data": {
      "text/plain": "array([0., 0., 0., 0., 0., 0.])"
     },
     "execution_count": 10,
     "metadata": {},
     "output_type": "execute_result"
    }
   ],
   "source": [
    "np.zeros(6)"
   ]
  },
  {
   "cell_type": "code",
   "execution_count": 11,
   "id": "e411ef24",
   "metadata": {
    "ExecuteTime": {
     "end_time": "2023-08-18T18:27:29.782140400Z",
     "start_time": "2023-08-18T18:27:29.672977300Z"
    }
   },
   "outputs": [
    {
     "data": {
      "text/plain": "array([1., 1., 1., 1., 1., 1., 1.])"
     },
     "execution_count": 11,
     "metadata": {},
     "output_type": "execute_result"
    }
   ],
   "source": [
    "np.ones(7)"
   ]
  },
  {
   "cell_type": "code",
   "execution_count": 12,
   "id": "86d91dc7",
   "metadata": {
    "scrolled": true,
    "ExecuteTime": {
     "end_time": "2023-08-18T18:27:29.784671700Z",
     "start_time": "2023-08-18T18:27:29.686431500Z"
    }
   },
   "outputs": [
    {
     "data": {
      "text/plain": "array([[      0,       1,       0],\n       [    477,    1204,       0],\n       [    768,     477, 6815842]])"
     },
     "execution_count": 12,
     "metadata": {},
     "output_type": "execute_result"
    }
   ],
   "source": [
    "# np.empty((3,3))\n",
    "np.empty((3,3), dtype=int)"
   ]
  },
  {
   "cell_type": "code",
   "execution_count": 13,
   "id": "7e6744bb",
   "metadata": {
    "ExecuteTime": {
     "end_time": "2023-08-18T18:27:29.803731900Z",
     "start_time": "2023-08-18T18:27:29.699113700Z"
    }
   },
   "outputs": [
    {
     "data": {
      "text/plain": "array([[24, 24, 24],\n       [24, 24, 24],\n       [24, 24, 24]])"
     },
     "execution_count": 13,
     "metadata": {},
     "output_type": "execute_result"
    }
   ],
   "source": [
    "np.full((3,3,), fill_value=24)"
   ]
  },
  {
   "cell_type": "code",
   "execution_count": 14,
   "id": "b23684d7",
   "metadata": {
    "ExecuteTime": {
     "end_time": "2023-08-18T18:27:29.804783900Z",
     "start_time": "2023-08-18T18:27:29.710404300Z"
    }
   },
   "outputs": [
    {
     "data": {
      "text/plain": "array([[1., 0., 0., 0., 0.],\n       [0., 1., 0., 0., 0.],\n       [0., 0., 1., 0., 0.],\n       [0., 0., 0., 1., 0.],\n       [0., 0., 0., 0., 1.]])"
     },
     "execution_count": 14,
     "metadata": {},
     "output_type": "execute_result"
    }
   ],
   "source": [
    "np.identity(5)"
   ]
  },
  {
   "cell_type": "code",
   "execution_count": 15,
   "id": "439c3028",
   "metadata": {
    "ExecuteTime": {
     "end_time": "2023-08-18T18:27:29.805790700Z",
     "start_time": "2023-08-18T18:27:29.722793200Z"
    }
   },
   "outputs": [
    {
     "data": {
      "text/plain": "array([[0., 0., 0., 0., 0.],\n       [1., 0., 0., 0., 0.],\n       [0., 1., 0., 0., 0.],\n       [0., 0., 1., 0., 0.],\n       [0., 0., 0., 1., 0.]])"
     },
     "execution_count": 15,
     "metadata": {},
     "output_type": "execute_result"
    }
   ],
   "source": [
    "np.eye(N=5,M=5,k=-1)"
   ]
  },
  {
   "cell_type": "code",
   "execution_count": 16,
   "id": "37c8f0a6",
   "metadata": {
    "ExecuteTime": {
     "end_time": "2023-08-18T18:27:29.966166Z",
     "start_time": "2023-08-18T18:27:29.732101600Z"
    }
   },
   "outputs": [
    {
     "name": "stdout",
     "output_type": "stream",
     "text": [
      "(2, 3)\n",
      "6\n",
      "int32\n",
      "2\n"
     ]
    }
   ],
   "source": [
    "nums = np.array([(10,20,30), (12, 34, 56)])\n",
    "print(nums.shape)\n",
    "print(nums.size)\n",
    "print(nums.dtype)\n",
    "print(nums.ndim)"
   ]
  },
  {
   "cell_type": "code",
   "execution_count": 17,
   "id": "a18f0a12",
   "metadata": {
    "ExecuteTime": {
     "end_time": "2023-08-18T18:27:29.971173100Z",
     "start_time": "2023-08-18T18:27:29.740711100Z"
    }
   },
   "outputs": [
    {
     "name": "stdout",
     "output_type": "stream",
     "text": [
      "0\n",
      "1\n",
      "2\n",
      "3\n"
     ]
    }
   ],
   "source": [
    "a = np.array(42)\n",
    "b = np.array([1,2,3,4,5])\n",
    "c = np.array([[1,2,3], [4,5,6]])\n",
    "d = np.array([[[1,2,3], [4,5,6]], [[7,8,9], [10,11,12]]])\n",
    "print(a.ndim)\n",
    "print(b.ndim)\n",
    "print(c.ndim)\n",
    "print(d.ndim)"
   ]
  },
  {
   "cell_type": "code",
   "execution_count": 18,
   "id": "3fdd68f2",
   "metadata": {
    "ExecuteTime": {
     "end_time": "2023-08-18T18:27:29.992592300Z",
     "start_time": "2023-08-18T18:27:29.757932500Z"
    }
   },
   "outputs": [
    {
     "name": "stdout",
     "output_type": "stream",
     "text": [
      "[['Charles' '18']\n",
      " ['Logan' '20']\n",
      " ['Jessica' '34']] \n",
      "\n",
      "[['Charles']\n",
      " ['18']\n",
      " ['Logan']\n",
      " ['20']\n",
      " ['Jessica']\n",
      " ['34']]\n"
     ]
    }
   ],
   "source": [
    "emp = np.array([('Charles',18), ('Logan',20), ('Jessica', 34)])\n",
    "print(emp, '\\n')\n",
    "emp_reshaped = emp.reshape(6,1)\n",
    "print(emp_reshaped)"
   ]
  },
  {
   "cell_type": "code",
   "execution_count": 19,
   "id": "19aaa0fd",
   "metadata": {
    "ExecuteTime": {
     "end_time": "2023-08-18T18:27:30.014723300Z",
     "start_time": "2023-08-18T18:27:29.765532500Z"
    }
   },
   "outputs": [
    {
     "name": "stdout",
     "output_type": "stream",
     "text": [
      "['Charles' '18']\n",
      "['Jessica' '34']\n",
      "18\n"
     ]
    }
   ],
   "source": [
    "print(emp[0])\n",
    "print(emp[-1])\n",
    "print(emp[0][1])"
   ]
  },
  {
   "cell_type": "code",
   "execution_count": 20,
   "id": "a73d0eff",
   "metadata": {
    "ExecuteTime": {
     "end_time": "2023-08-18T18:27:30.038531200Z",
     "start_time": "2023-08-18T18:27:29.776116900Z"
    }
   },
   "outputs": [
    {
     "name": "stdout",
     "output_type": "stream",
     "text": [
      "[43. 92.]\n",
      "[73. 43.]\n",
      "[73.  68.  55.5]\n"
     ]
    }
   ],
   "source": [
    "weight = np.array([73, 68, 55.5, 43, 92, 66])\n",
    "print(weight[3:5])\n",
    "print(weight[::3])\n",
    "print(weight[:3])"
   ]
  },
  {
   "cell_type": "code",
   "execution_count": 21,
   "id": "e0eb70ba",
   "metadata": {
    "ExecuteTime": {
     "end_time": "2023-08-18T18:27:30.054085Z",
     "start_time": "2023-08-18T18:27:29.788733200Z"
    }
   },
   "outputs": [
    {
     "name": "stdout",
     "output_type": "stream",
     "text": [
      "[73 68]\n",
      "[36 19]\n"
     ]
    }
   ],
   "source": [
    "age = np.array([[73,68,54], [21,36,19]])\n",
    "print(age[0, 0:2])\n",
    "print(age[1, 1:3])"
   ]
  },
  {
   "cell_type": "code",
   "execution_count": 22,
   "id": "e85eeedf",
   "metadata": {
    "ExecuteTime": {
     "end_time": "2023-08-18T18:27:30.062146300Z",
     "start_time": "2023-08-18T18:27:29.797219Z"
    }
   },
   "outputs": [
    {
     "name": "stdout",
     "output_type": "stream",
     "text": [
      "[ 3 11 21 41]\n",
      "[ -1  -1  -3 -11]\n",
      "[ 2 10 18 30]\n"
     ]
    }
   ],
   "source": [
    "odd_num = np.array([1,5,9,15])\n",
    "even_num = np.array([2,6,12,26])\n",
    "sum = odd_num + even_num\n",
    "sub = odd_num - even_num\n",
    "multiplication = odd_num * 2\n",
    "print(sum)\n",
    "print(sub)\n",
    "print(multiplication)"
   ]
  },
  {
   "cell_type": "code",
   "execution_count": 23,
   "id": "790e4514",
   "metadata": {
    "ExecuteTime": {
     "end_time": "2023-08-18T18:27:30.064675300Z",
     "start_time": "2023-08-18T18:27:29.811795Z"
    }
   },
   "outputs": [
    {
     "name": "stdout",
     "output_type": "stream",
     "text": [
      "[[ 1  0  2]\n",
      " [ 4 -2  3]] \n",
      "\n",
      "[[4 0 1]\n",
      " [2 3 0]] \n",
      "\n",
      "[[ 4  0  2]\n",
      " [ 8 -6  0]]\n"
     ]
    }
   ],
   "source": [
    "#Hamadard Product\n",
    "n1 = np.array([[1,0,2], [4,-2,3]])\n",
    "n2 = np.array([[4,0,1], [2,3,0]])\n",
    "prod = n1 * n2\n",
    "print(n1, '\\n')\n",
    "print(n2, '\\n')\n",
    "print(prod)"
   ]
  },
  {
   "cell_type": "code",
   "execution_count": 24,
   "id": "f4629787",
   "metadata": {
    "ExecuteTime": {
     "end_time": "2023-08-18T18:27:30.066786400Z",
     "start_time": "2023-08-18T18:27:29.823864700Z"
    }
   },
   "outputs": [
    {
     "name": "stdout",
     "output_type": "stream",
     "text": [
      "[[ 4  0  8]\n",
      " [14 -6 13]\n",
      " [17 -8 14]]\n",
      "\n",
      "[[ 6  8]\n",
      " [15  6]]\n"
     ]
    }
   ],
   "source": [
    "#Matrix Multiplication\n",
    "m1 = np.array([[1,0,2], [4,-2,3]])\n",
    "m2 = np.array([[4,0],[2,3], [1,4]])\n",
    "\n",
    "multi = m1.dot(m2) \n",
    "multi2 = m2.dot(m1)\n",
    "print(multi2)\n",
    "print()\n",
    "print(multi)"
   ]
  },
  {
   "cell_type": "code",
   "execution_count": 25,
   "id": "37097ff2",
   "metadata": {
    "ExecuteTime": {
     "end_time": "2023-08-18T18:27:30.078063800Z",
     "start_time": "2023-08-18T18:27:29.835147500Z"
    }
   },
   "outputs": [
    {
     "name": "stdout",
     "output_type": "stream",
     "text": [
      "Max salary: 980000\n",
      "Min salary: 1000\n",
      "Variance: 122788034722.22223\n",
      "Standard Deviation: 350411.23658099526\n"
     ]
    }
   ],
   "source": [
    "salary = np.array([100000, 2000, 45000, 980000, 1000, 75500])\n",
    "print(\"Max salary:\", salary.max())\n",
    "print(\"Min salary:\", salary.min())\n",
    "print(\"Variance:\", salary.var())\n",
    "print(\"Standard Deviation:\", salary.std())"
   ]
  },
  {
   "cell_type": "code",
   "execution_count": 26,
   "id": "cd5467a1",
   "metadata": {
    "ExecuteTime": {
     "end_time": "2023-08-18T18:27:30.078063800Z",
     "start_time": "2023-08-18T18:27:29.842827700Z"
    }
   },
   "outputs": [
    {
     "name": "stdout",
     "output_type": "stream",
     "text": [
      "[ 1  4  9 16 25]\n",
      "[  1   8  27  64 125]\n"
     ]
    }
   ],
   "source": [
    "nums = np.array([1,2,3,4,5])\n",
    "print(np.square(nums))\n",
    "print(np.power(nums,3))"
   ]
  },
  {
   "cell_type": "code",
   "execution_count": 27,
   "id": "f3d3f71b",
   "metadata": {
    "ExecuteTime": {
     "end_time": "2023-08-18T18:27:30.079056400Z",
     "start_time": "2023-08-18T18:27:29.855951100Z"
    }
   },
   "outputs": [
    {
     "name": "stdout",
     "output_type": "stream",
     "text": [
      "[['Charles' '18']\n",
      " ['Logan' '20']\n",
      " ['Jessica' '34']]\n",
      "(3, 2) \n",
      "\n",
      "[['Charles' 'Logan' 'Jessica']\n",
      " ['18' '20' '34']]\n",
      "(2, 3)\n"
     ]
    }
   ],
   "source": [
    "print(emp)\n",
    "print(emp.shape, '\\n')\n",
    "print(np.transpose(emp))\n",
    "print(np.transpose(emp).shape)"
   ]
  },
  {
   "cell_type": "code",
   "execution_count": 28,
   "id": "725f0c9d",
   "metadata": {
    "ExecuteTime": {
     "end_time": "2023-08-18T18:27:30.080057200Z",
     "start_time": "2023-08-18T18:27:29.869869500Z"
    }
   },
   "outputs": [
    {
     "name": "stdout",
     "output_type": "stream",
     "text": [
      "[ 1  5  9 15] [ 2  6 12 26]\n",
      "[ 1  5  9 15  2  6 12 26]\n"
     ]
    }
   ],
   "source": [
    "#concatenate two 1D arrays\n",
    "print(odd_num, even_num)\n",
    "all_nums = np.concatenate([odd_num, even_num])\n",
    "print(all_nums)"
   ]
  },
  {
   "cell_type": "code",
   "execution_count": 29,
   "id": "960f2e8f",
   "metadata": {
    "ExecuteTime": {
     "end_time": "2023-08-18T18:27:30.081056500Z",
     "start_time": "2023-08-18T18:27:29.877133100Z"
    }
   },
   "outputs": [
    {
     "name": "stdout",
     "output_type": "stream",
     "text": [
      "[['Charles' '18']\n",
      " ['Logan' '20']\n",
      " ['Jessica' '34']\n",
      " ['Jean' '21']\n",
      " ['Phoenix' '20']]\n"
     ]
    }
   ],
   "source": [
    "#concatenate two 2D arrays\n",
    "data_scientists = np.array([('Charles',18), ('Logan',20), ('Jessica', 34)])\n",
    "consultants = np.array([('Jean', 21), ('Phoenix', 20)])\n",
    "employees = np.concatenate([data_scientists, consultants])\n",
    "print(employees)"
   ]
  },
  {
   "cell_type": "code",
   "execution_count": 30,
   "id": "25dae332",
   "metadata": {
    "ExecuteTime": {
     "end_time": "2023-08-18T18:27:30.081056500Z",
     "start_time": "2023-08-18T18:27:29.896472200Z"
    }
   },
   "outputs": [
    {
     "name": "stdout",
     "output_type": "stream",
     "text": [
      "[1 3 5 7 2 4 6 8]\n"
     ]
    }
   ],
   "source": [
    "num_array = np.array([[1,3,5,7],[2,4,6,8]])\n",
    "print(np.ndarray.flatten(num_array))"
   ]
  },
  {
   "cell_type": "code",
   "execution_count": 31,
   "id": "48449533",
   "metadata": {
    "ExecuteTime": {
     "end_time": "2023-08-18T18:27:30.082059600Z",
     "start_time": "2023-08-18T18:27:29.906535600Z"
    }
   },
   "outputs": [
    {
     "name": "stdout",
     "output_type": "stream",
     "text": [
      "[ 1  2  3  4  5  6  7  8  9 10 11 12] \n",
      "\n",
      "[[ 1  2  3  4]\n",
      " [ 5  6  7  8]\n",
      " [ 9 10 11 12]]\n"
     ]
    }
   ],
   "source": [
    "num = np.arange(1,13)\n",
    "print(num, '\\n')\n",
    "new_num = num.reshape(3,4)\n",
    "print(new_num)"
   ]
  },
  {
   "cell_type": "code",
   "execution_count": 32,
   "id": "cd5af330",
   "metadata": {
    "ExecuteTime": {
     "end_time": "2023-08-18T18:27:30.084585700Z",
     "start_time": "2023-08-18T18:27:29.913722600Z"
    }
   },
   "outputs": [
    {
     "name": "stdout",
     "output_type": "stream",
     "text": [
      "[1 2 3 4 5 6] (6,)\n",
      "\n",
      "[[1]\n",
      " [2]\n",
      " [3]\n",
      " [4]\n",
      " [5]\n",
      " [6]] (6, 1)\n",
      "\n",
      "1 [1]\n"
     ]
    }
   ],
   "source": [
    "a = np.arange(1,7)\n",
    "new_a = np.vstack(a)\n",
    "print(a, a.shape)\n",
    "print()\n",
    "print(new_a, new_a.shape)\n",
    "print()\n",
    "print(a[0], new_a[0])"
   ]
  },
  {
   "cell_type": "code",
   "execution_count": 33,
   "id": "05f1d111",
   "metadata": {
    "ExecuteTime": {
     "end_time": "2023-08-18T18:27:30.084585700Z",
     "start_time": "2023-08-18T18:27:29.928491800Z"
    }
   },
   "outputs": [
    {
     "name": "stdout",
     "output_type": "stream",
     "text": [
      "[4 5 7 2] [5 5 8 3] \n",
      "\n",
      "[[4 5 7 2]\n",
      " [5 5 8 3]\n",
      " [5 5 8 3]\n",
      " [4 5 7 2]]\n"
     ]
    }
   ],
   "source": [
    "v1 = np.random.randint(2,8,4)\n",
    "v2 = np.random.randint(3,9,4)\n",
    "print(v1, v2, '\\n')\n",
    "print(np.vstack([v1, v2, v2, v1]))"
   ]
  },
  {
   "cell_type": "code",
   "execution_count": 34,
   "id": "8114b65e",
   "metadata": {
    "ExecuteTime": {
     "end_time": "2023-08-18T18:27:30.086680400Z",
     "start_time": "2023-08-18T18:27:29.939758900Z"
    }
   },
   "outputs": [
    {
     "name": "stdout",
     "output_type": "stream",
     "text": [
      "[[4 4 5 5]\n",
      " [4 3 7 6]] \n",
      "\n",
      "[[4 4 5 5]\n",
      " [4 3 7 6]\n",
      " [4 4 5 5]\n",
      " [4 3 7 6]] \n",
      "\n",
      "[[4 3 7 6]\n",
      " [4 4 5 5]]\n"
     ]
    }
   ],
   "source": [
    "v3 = np.array([[4,4,5,5], [4,3,7,6]])\n",
    "print(v3, '\\n')\n",
    "print(np.vstack([v3, v3]), '\\n')\n",
    "print(np.vstack([v3[1], v3[0]]))"
   ]
  },
  {
   "cell_type": "code",
   "execution_count": 35,
   "id": "99fb6208",
   "metadata": {
    "ExecuteTime": {
     "end_time": "2023-08-18T18:27:30.087677Z",
     "start_time": "2023-08-18T18:27:29.952267600Z"
    }
   },
   "outputs": [
    {
     "name": "stdout",
     "output_type": "stream",
     "text": [
      "[1 4 6 5 7 8]\n"
     ]
    }
   ],
   "source": [
    "a = np.array([[1,4,6], [5,7,8]])\n",
    "print(np.hstack(a))"
   ]
  },
  {
   "cell_type": "code",
   "execution_count": 36,
   "id": "8855cd10",
   "metadata": {
    "ExecuteTime": {
     "end_time": "2023-08-18T18:27:30.089679600Z",
     "start_time": "2023-08-18T18:27:29.961134Z"
    }
   },
   "outputs": [
    {
     "name": "stdout",
     "output_type": "stream",
     "text": [
      "[[ 1  4  6  2  9  3  1  4  6]\n",
      " [ 5  7  8 17 31 26  5  7  8]]\n"
     ]
    }
   ],
   "source": [
    "h1 = np.array([[1,4,6], [5,7,8]])\n",
    "h2 = np.array([[2,9,3], [17,31,26]])\n",
    "print(np.hstack([h1, h2, h1]))"
   ]
  },
  {
   "cell_type": "code",
   "execution_count": 37,
   "id": "b7731eb5",
   "metadata": {
    "scrolled": true,
    "ExecuteTime": {
     "end_time": "2023-08-18T18:27:30.105475900Z",
     "start_time": "2023-08-18T18:27:29.972166900Z"
    }
   },
   "outputs": [
    {
     "name": "stdout",
     "output_type": "stream",
     "text": [
      "['Charles' '18']\n",
      "['Logan' '20']\n",
      "['Jessica' '34']\n",
      "\n",
      "Charles\n",
      "18\n",
      "Logan\n",
      "20\n",
      "Jessica\n",
      "34\n"
     ]
    }
   ],
   "source": [
    "for i in data_scientists:\n",
    "    print(i)\n",
    "print()\n",
    "for i in data_scientists:\n",
    "    for j in i:\n",
    "        print(j)"
   ]
  }
 ],
 "metadata": {
  "kernelspec": {
   "display_name": "Python 3 (ipykernel)",
   "language": "python",
   "name": "python3"
  },
  "language_info": {
   "codemirror_mode": {
    "name": "ipython",
    "version": 3
   },
   "file_extension": ".py",
   "mimetype": "text/x-python",
   "name": "python",
   "nbconvert_exporter": "python",
   "pygments_lexer": "ipython3",
   "version": "3.9.17"
  }
 },
 "nbformat": 4,
 "nbformat_minor": 5
}
