{
 "cells": [
  {
   "cell_type": "code",
   "execution_count": 1,
   "id": "c7c18341",
   "metadata": {},
   "outputs": [
    {
     "name": "stdout",
     "output_type": "stream",
     "text": [
      "charles\n"
     ]
    },
    {
     "data": {
      "text/plain": [
       "str"
      ]
     },
     "execution_count": 1,
     "metadata": {},
     "output_type": "execute_result"
    }
   ],
   "source": [
    "# STRINGS\n",
    "\n",
    "name = \"charles\"\n",
    "print(name)\n",
    "type(name)"
   ]
  },
  {
   "cell_type": "code",
   "execution_count": 15,
   "id": "1a4192a5",
   "metadata": {},
   "outputs": [
    {
     "data": {
      "text/plain": [
       "'i love python'"
      ]
     },
     "execution_count": 15,
     "metadata": {},
     "output_type": "execute_result"
    }
   ],
   "source": [
    "text = \" i love python\"\n",
    "text[0]\n",
    "text[0:9] # (including 0 and excluding 9)\n",
    "text[1:len(text)]"
   ]
  },
  {
   "cell_type": "code",
   "execution_count": 24,
   "id": "a10fa3b1",
   "metadata": {},
   "outputs": [
    {
     "data": {
      "text/plain": [
       "'08-03-2020'"
      ]
     },
     "execution_count": 24,
     "metadata": {},
     "output_type": "execute_result"
    }
   ],
   "source": [
    "# STRING IN-BUILT FUNCTION\n",
    "\n",
    "text = (\"I love Python\")\n",
    "\n",
    "text.replace(\"Python\" , \"Data Science\")\n",
    "text.upper() # converts to uppercase.\n",
    "text.lower() # converts to lowercase.\n",
    "text.title() # converts first letter of every word to uppercase.\n",
    "\n",
    "\n",
    "date = \"08\" , \"03\" , \"2020\"\n",
    "sep = '-'\n",
    "sep.join(date) # join seperator and date\n",
    "\n"
   ]
  },
  {
   "cell_type": "code",
   "execution_count": 32,
   "id": "6de8f531",
   "metadata": {},
   "outputs": [
    {
     "data": {
      "text/plain": [
       "' love Python Programming***'"
      ]
     },
     "execution_count": 32,
     "metadata": {},
     "output_type": "execute_result"
    }
   ],
   "source": [
    "# TRIM FUNCTION, REMOVES MENTIONED KEYWORD\n",
    "\n",
    "text = \"***I love Python Programming***\"\n",
    "text.strip(\"*\")\n",
    "text = \"***I love**Python*Programming***\"\n",
    "text.strip(\"*\")\n",
    "text = \"I love Python Programming***\"\n",
    "text.strip(\"I\")"
   ]
  },
  {
   "cell_type": "code",
   "execution_count": 2,
   "id": "d0601176",
   "metadata": {},
   "outputs": [
    {
     "name": "stdout",
     "output_type": "stream",
     "text": [
      "['Arts, DS, Maths, Physics, Business']\n",
      "[1, 2, 3, 4, 5, 6, 7, 8, 9, 10]\n",
      "[1, 2, 3, 4, 5, 6, 7, 8, 9, 10, 11]\n",
      "[0, 1, 1, 2, 4, 6, 13, 15, 22]\n",
      "['5Star', 'Aditya', 'Dairy Milk', 'Fuse', 'Twix']\n",
      "[22, 15, 13, 6, 4, 2, 1, 1, 0]\n"
     ]
    }
   ],
   "source": [
    "# LISTS\n",
    "\n",
    "book_list = [\"Arts, DS, Maths, Physics, Business\"]\n",
    "print(book_list)\n",
    "type(book_list)\n",
    "\n",
    "num1 = [1, 2, 3, 4, 5]\n",
    "num2 = [6, 7, 8, 9, 10]\n",
    "num3 = num1 + num2\n",
    "print(num3)\n",
    "type(num3)\n",
    "\n",
    "# APPEND\n",
    "\n",
    "num3.append(11)\n",
    "type(num3)\n",
    "print(num3)\n",
    "\n",
    "# SORTING THE ELEMENTS IN LIST\n",
    "\n",
    "avg_price = [1, 2, 4, 6, 1 ,0, 13, 15, 22]\n",
    "avg_price.sort()\n",
    "print(avg_price)\n",
    "\n",
    "bakery = [\"Dairy Milk\" , \"5Star\" , \"Twix\" , \"Aditya\" , \"Fuse\"]\n",
    "bakery.sort()\n",
    "print(bakery)\n",
    "\n",
    "# REVERSE THE ELEMENTS IN LIST\n",
    "\n",
    "avg_price.sort(reverse=True)\n",
    "print(avg_price)"
   ]
  },
  {
   "cell_type": "code",
   "execution_count": 67,
   "id": "cf6639ee",
   "metadata": {},
   "outputs": [
    {
     "name": "stdout",
     "output_type": "stream",
     "text": [
      "True\n",
      "False\n",
      "True\n"
     ]
    }
   ],
   "source": [
    "# CHECKING PRESENCE IN LIST\n",
    "\n",
    "userData = [2, 5, 3, 1, 7, 8, 20]\n",
    "print(2 in userData)\n",
    "print(10 in userData)\n",
    "print(10 not in userData)"
   ]
  },
  {
   "cell_type": "code",
   "execution_count": 72,
   "id": "ea33f303",
   "metadata": {},
   "outputs": [
    {
     "name": "stdout",
     "output_type": "stream",
     "text": [
      "1 Data Science\n",
      "2 AI\n",
      "3 Machine Learning\n",
      "4 Mathematics\n"
     ]
    }
   ],
   "source": [
    "# ITERATING THROUGH LIST\n",
    "\n",
    "Subjects = [\"Data Science\" , \"AI\" , \"Machine Learning\" , \"Mathematics\"]\n",
    "for subject , key in enumerate(Subjects , 1) :\n",
    "    print(subject , key)"
   ]
  },
  {
   "cell_type": "code",
   "execution_count": 79,
   "id": "12c9f1d0",
   "metadata": {},
   "outputs": [
    {
     "name": "stdout",
     "output_type": "stream",
     "text": [
      "[1, 2, 4, 6, 1, 9, 12]\n",
      "[]\n"
     ]
    }
   ],
   "source": [
    "# LIST INBUILT FUNCTIONS\n",
    "\n",
    "arrayList = [1, 2, 4, 6, 1, 9, 12]\n",
    "\n",
    "len(arrayList)\n",
    "max(arrayList)\n",
    "min(arrayList)\n",
    "print(arrayList)\n",
    "arrayList.clear()\n",
    "print(arrayList)"
   ]
  },
  {
   "cell_type": "code",
   "execution_count": 89,
   "id": "a159a677",
   "metadata": {},
   "outputs": [
    {
     "name": "stdout",
     "output_type": "stream",
     "text": [
      "[1, 4, 5, 10]\n",
      "[1, 4, 5, 10]\n",
      "Same Location\n",
      "[1, 4, 5, 10, 2]\n",
      "Not Same Location\n"
     ]
    }
   ],
   "source": [
    "# SHALLOW COPY & DEEP COPY\n",
    "\n",
    "list1 = [1, 4, 5, 10]\n",
    "list2 = list1\n",
    "\n",
    "print(list1)\n",
    "print(list2)\n",
    "\n",
    "list2.append(2)\n",
    "\n",
    "if(id(list1) == id(list2)):\n",
    "    print(\"Same Location\")\n",
    "else:\n",
    "    print(\"Not Same Location\")\n",
    "    \n",
    "list3 = list1.copy()\n",
    "print(list3)\n",
    "\n",
    "if(id(list3) == id(list1)):\n",
    "    print(\"Same Location\")\n",
    "else:\n",
    "    print(\"Not Same Location\")\n",
    "    \n"
   ]
  },
  {
   "cell_type": "code",
   "execution_count": 21,
   "id": "611116db",
   "metadata": {},
   "outputs": [
    {
     "name": "stdout",
     "output_type": "stream",
     "text": [
      "Before Modifications :\n",
      "[1, 4, 5, 10]\n",
      "[1, 4, 5, 10]\n",
      "After Modifications :\n",
      "[1, 4, 5, 10]\n",
      "[-1, 4, 5, 10]\n",
      "Not Same Location\n"
     ]
    }
   ],
   "source": [
    "# DEEP COPY\n",
    "\n",
    "import copy\n",
    "list1 = [1, 4, 5, 10]\n",
    "list2 = copy.deepcopy(list1)\n",
    "print(\"Before Modifications :\")\n",
    "print(list1)\n",
    "print(list2)\n",
    "list2[0] = -1\n",
    "print(\"After Modifications :\")\n",
    "print(list1)\n",
    "print(list2)\n",
    "if(id(list1) == id(list2)):\n",
    "    print(\"Same Location\")\n",
    "else:\n",
    "    print(\"Not Same Location\")"
   ]
  },
  {
   "cell_type": "code",
   "execution_count": 28,
   "id": "37cf2c81",
   "metadata": {},
   "outputs": [
    {
     "name": "stdout",
     "output_type": "stream",
     "text": [
      "5\n",
      "[1, 2, 3, 4, 5, 6, 7, 8, 9, 10]\n"
     ]
    }
   ],
   "source": [
    "# COUNT NUMBER OF OCCURENCES\n",
    "\n",
    "retail_prod = [1, 2, 1, 3, 1, 5, 1, 1]\n",
    "print(retail_prod.count(1))\n",
    "\n",
    "# EXTENDING A LIST\n",
    "\n",
    "list1 = [1, 2, 3, 4, 5]\n",
    "list2 = [6, 7, 8, 9, 10]\n",
    "list1.extend(list2)\n",
    "print(list1)"
   ]
  },
  {
   "cell_type": "code",
   "execution_count": 34,
   "id": "eceb1129",
   "metadata": {},
   "outputs": [
    {
     "name": "stdout",
     "output_type": "stream",
     "text": [
      "2\n",
      "['milk', 'watch', 'curd', 'bakery', 'shampoo', 'silver', 'car']\n"
     ]
    }
   ],
   "source": [
    "# RETURNING THE INDEX POSITION OF AN OBJECT\n",
    "\n",
    "products = [\"milk\", \"curd\", \"bakery\", \"shampoo\", \"silver\", \"car\"]\n",
    "print(products.index(\"bakery\"))\n",
    "\n",
    "# INSERT A NEW ELEMENT AT A SPECIFIC POSITION\n",
    "\n",
    "products.insert(1, \"watch\")\n",
    "print(products)"
   ]
  },
  {
   "cell_type": "code",
   "execution_count": 41,
   "id": "d1a479d0",
   "metadata": {},
   "outputs": [
    {
     "name": "stdout",
     "output_type": "stream",
     "text": [
      "REMOVED BAKERY - \n",
      "['milk', 'curd', 'shampoo', 'silver', 'car']\n",
      "REMOVED MILK - \n",
      "['curd', 'shampoo', 'silver', 'car']\n",
      "REVERSED THE LIST - \n",
      "['car', 'silver', 'shampoo', 'curd']\n"
     ]
    }
   ],
   "source": [
    "# REMOVING FROM A LIST \n",
    "\n",
    "# 1 USING POP METHOD\n",
    "print(\"REMOVED BAKERY - \")\n",
    "products = [\"milk\", \"curd\", \"bakery\", \"shampoo\", \"silver\", \"car\"]\n",
    "products.pop(2)\n",
    "print(products)\n",
    "\n",
    "# 2 USING REMOVE METHOD\n",
    "print(\"REMOVED MILK - \")\n",
    "products.remove(\"milk\")\n",
    "print(products)\n",
    "\n",
    "# REVERSING A LIST\n",
    "print(\"REVERSED THE LIST - \")\n",
    "products.reverse()\n",
    "print(products)"
   ]
  },
  {
   "cell_type": "code",
   "execution_count": 55,
   "id": "c5c30a1a",
   "metadata": {},
   "outputs": [
    {
     "name": "stdout",
     "output_type": "stream",
     "text": [
      "['milk', 'curd', 'bakery']\n",
      "['shampoo']\n",
      "['milk', 'bakery']\n",
      "['milk', 'shampoo']\n",
      "[3, 1, 5, 1]\n",
      "[3, 1]\n"
     ]
    }
   ],
   "source": [
    "# INDEXING AND SLICING LIST # LIST[START:STOP:INCREMENT]\n",
    "\n",
    "products = [\"milk\", \"curd\", \"bakery\", \"shampoo\", \"silver\", \"car\"]\n",
    "print(products[0:3])\n",
    "print(products[3:4])\n",
    "print(products[0:4:2])\n",
    "print(products[0::3])\n",
    "\n",
    "# SLICING USING NEGATIVE INDEXING\n",
    "retail_prod = [1, 2, 1, 3, 1, 5, 1, 1]\n",
    "print(retail_prod[3:-1])\n",
    "print(retail_prod[3:-3])"
   ]
  },
  {
   "cell_type": "code",
   "execution_count": 62,
   "id": "32e8dab0",
   "metadata": {},
   "outputs": [
    {
     "name": "stdout",
     "output_type": "stream",
     "text": [
      "('tea', 'sugar', 'coffee', 'honey', 1, 23.3, 4)\n",
      "(1, 2, 3, 4, 5, 6, 7, 8)\n",
      "False\n",
      "True\n"
     ]
    }
   ],
   "source": [
    "# TUPLES \n",
    "\n",
    "items_purc = (\"tea\", \"sugar\", \"coffee\", \"honey\", 1, 23.3, 4)\n",
    "print(items_purc)\n",
    "\n",
    "# CONCATENATION\n",
    "\n",
    "lis1 = (1, 2, 3, 4)\n",
    "lis2 = (5, 6, 7, 8)\n",
    "print(lis1 + lis2)\n",
    "print(2 in lis2)\n",
    "print(2 in lis1)"
   ]
  },
  {
   "cell_type": "code",
   "execution_count": 83,
   "id": "59615d24",
   "metadata": {},
   "outputs": [
    {
     "name": "stdout",
     "output_type": "stream",
     "text": [
      "1\n",
      "2\n",
      "3\n",
      "4\n",
      "5\n",
      "LENGTH : 5\n",
      "MAX : 5\n",
      "MAX : 1\n"
     ]
    }
   ],
   "source": [
    "# ITERATING THE TUPLES\n",
    "\n",
    "lis1 = (1, 2, 3, 4, 5)\n",
    "for num in lis1:\n",
    "    print(num)\n",
    "print(\"LENGTH :\" , len(lis1))\n",
    "print(\"MAX :\" , max(lis1))\n",
    "print(\"MAX :\" , min(lis1))"
   ]
  },
  {
   "cell_type": "code",
   "execution_count": 85,
   "id": "dfa4ef5a",
   "metadata": {},
   "outputs": [
    {
     "name": "stdout",
     "output_type": "stream",
     "text": [
      "(11, 12, 13, 14, 15, [1, 2, 3, 4, 5, 6])\n"
     ]
    }
   ],
   "source": [
    "# APPENDING A LIST IN A TUPLE\n",
    "\n",
    "orderId = (11, 12, 13, 14, 15, [1, 2, 3, 4, 5])\n",
    "orderId[5].append(6)\n",
    "print(orderId)"
   ]
  },
  {
   "cell_type": "code",
   "execution_count": 96,
   "id": "bbe11b89",
   "metadata": {},
   "outputs": [
    {
     "name": "stdout",
     "output_type": "stream",
     "text": [
      "CREATED A DICTIONARY - {'intro to ML': 20, 'intro to stats': 21, 'intro to dp': 22, 'intro to java': 23}\n",
      "ADDED TO DICTIONARY - {'intro to ML': 20, 'intro to stats': 21, 'intro to dp': 22, 'intro to java': 23, 'intro to python': 1}\n",
      "REMOVED FROM DICTIONARY - {'intro to ML': 20, 'intro to stats': 21, 'intro to java': 23, 'intro to python': 1}\n"
     ]
    }
   ],
   "source": [
    "# INTRO DICTIONAIRIES \n",
    "\n",
    "#CREATING A DICTIONARY\n",
    "books = {\"intro to ML\" : 20,\n",
    "        \"intro to stats\" : 21,\n",
    "         \"intro to dp\" : 22,\n",
    "         \"intro to java\" : 23\n",
    "        }\n",
    "\n",
    "print(\"CREATED A DICTIONARY -\" , books)\n",
    "\n",
    "#ADDING A ELEMENT INTO A DICTIONARY\n",
    "books[\"intro to python\"] = 1\n",
    "print(\"ADDED TO DICTIONARY -\" , books)\n",
    "del books[\"intro to dp\"]\n",
    "print(\"REMOVED FROM DICTIONARY -\" , books)\n"
   ]
  },
  {
   "cell_type": "code",
   "execution_count": 101,
   "id": "54b8f7d9",
   "metadata": {},
   "outputs": [
    {
     "name": "stdout",
     "output_type": "stream",
     "text": [
      "{'can': 6, 'you': 1, 'a': 3, 'as': 1, 'canner': 1}\n",
      "PRINTING THE DICTIONARY -\n",
      "can 6\n",
      "you 1\n",
      "a 3\n",
      "as 1\n",
      "canner 1\n"
     ]
    }
   ],
   "source": [
    "# Q - FINDING NUMBERS OF WORDS IN A STRING\n",
    "\n",
    "twister = \"can you can a can as a canner can can a can\"\n",
    "word_count = {}\n",
    "for word in twister.split(): # .split() creates the twister into the list, twister = [\"can\" , \"you\" etc...]\n",
    "    if word not in word_count:\n",
    "        word_count[word] = 1\n",
    "    else:\n",
    "        word_count[word] += 1\n",
    "print(word_count)\n",
    "\n",
    "print(\"PRINTING THE DICTIONARY -\")\n",
    "for key, value in word_count.items():\n",
    "    print(key, value)"
   ]
  },
  {
   "cell_type": "code",
   "execution_count": 107,
   "id": "05376ee6",
   "metadata": {},
   "outputs": [
    {
     "name": "stdout",
     "output_type": "stream",
     "text": [
      "AMOUNTS DUE IN : 5\n",
      "{'sanitizer': 1, 'hanger set': 3, 'clothes': 5, 'wallets': 4.5}\n"
     ]
    }
   ],
   "source": [
    "# GET AND SET A ELEMENT IN A DICTIONARY \n",
    "\n",
    "items_purc = {'sanitizer' : 1, 'hanger set' : 3, 'clothes' : 5}\n",
    "print(\"AMOUNTS DUE IN :\" , items_purc.get(\"clothes\"))\n",
    "items_purc.setdefault(\"wallets\", 4.5)\n",
    "print (items_purc)"
   ]
  },
  {
   "cell_type": "code",
   "execution_count": 115,
   "id": "63788e26",
   "metadata": {},
   "outputs": [
    {
     "name": "stdout",
     "output_type": "stream",
     "text": [
      "{'order_id': 8, 'cust_id': 8, 'purc_id': 8}\n",
      "{'order_id': 8, 'cust_id': 8}\n"
     ]
    }
   ],
   "source": [
    "# CONVERSATIONS OF DICTIONARY FROM A TUPLE\n",
    "\n",
    "tup = ('order_id', 'cust_id', 'purc_id')\n",
    "dict1 = dict.fromkeys(tup, 8) # if 8 is not mentioned, it will take value as none.\n",
    "print(dict1)\n",
    "del dict1['purc_id']\n",
    "print(dict1)"
   ]
  },
  {
   "cell_type": "code",
   "execution_count": 122,
   "id": "7bef2aa5",
   "metadata": {},
   "outputs": [
    {
     "name": "stdout",
     "output_type": "stream",
     "text": [
      "{'glass': 1, 'door': 2, 'marble': 3, 'pink': 4, 'blue': 5}\n"
     ]
    }
   ],
   "source": [
    "# ZIP METHOD\n",
    "\n",
    "items = ['glass', 'door', 'marble', 'pink', 'blue']\n",
    "price = [1, 2, 3, 4, 5]\n",
    "dictionary = dict(zip(items, price))\n",
    "print(dictionary)"
   ]
  },
  {
   "cell_type": "code",
   "execution_count": 126,
   "id": "2f672115",
   "metadata": {},
   "outputs": [
    {
     "name": "stdout",
     "output_type": "stream",
     "text": [
      "[1, 4, 9, 16, 25, 36, 49, 64, 81, 100]\n",
      "[1, 4, 9, 16, 25, 36, 49, 64, 81]\n"
     ]
    }
   ],
   "source": [
    "# LIST COMPREHENSION\n",
    "\n",
    "#USING LOOP\n",
    "series_num = []\n",
    "for i in range(1, 11):\n",
    "    series_num.append(i*i)\n",
    "print(series_num)\n",
    "\n",
    "# USING A LIST COMPREHENSION\n",
    "sq_sum = [i*i for i in range(1, 10)]\n",
    "print(sq_sum)"
   ]
  },
  {
   "cell_type": "code",
   "execution_count": 132,
   "id": "1813261e",
   "metadata": {},
   "outputs": [
    {
     "name": "stdout",
     "output_type": "stream",
     "text": [
      "['d', 'm', 'c', 'k', 'm']\n",
      "[1, 33, 333]\n"
     ]
    }
   ],
   "source": [
    "# Q - READING THE FIRST LETTER OF EVERY WORD IN A LIST\n",
    "\n",
    "products = ['dairy', 'milk', 'cat', 'kit', 'maks']\n",
    "\n",
    "first_l = [v[0] for v in products]\n",
    "print(first_l)\n",
    "\n",
    "text = \"he 1 me 33 row hello 333\"\n",
    "only_num = [int(i) for i in text.split() if i.isdigit() == True]\n",
    "print(only_num)"
   ]
  },
  {
   "cell_type": "code",
   "execution_count": 157,
   "id": "467d2d7a",
   "metadata": {},
   "outputs": [
    {
     "name": "stdout",
     "output_type": "stream",
     "text": [
      "['Crokeries', 'Cosmetics', 'Beverages', 'Detergents']\n"
     ]
    }
   ],
   "source": [
    "# Q - STRINGS IN THE LIST NO LONGER THAN 9 LETTERS\n",
    "\n",
    "products = ['Apparels','Crokeries', 'Cosmetics', 'Beverages', 'Detergents']\n",
    "\n",
    "short = [word for word in products if len(word) >= 9]\n",
    "print(short)"
   ]
  }
 ],
 "metadata": {
  "kernelspec": {
   "display_name": "Python 3 (ipykernel)",
   "language": "python",
   "name": "python3"
  },
  "language_info": {
   "codemirror_mode": {
    "name": "ipython",
    "version": 3
   },
   "file_extension": ".py",
   "mimetype": "text/x-python",
   "name": "python",
   "nbconvert_exporter": "python",
   "pygments_lexer": "ipython3",
   "version": "3.11.3"
  }
 },
 "nbformat": 4,
 "nbformat_minor": 5
}
