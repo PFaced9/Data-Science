{
 "cells": [
  {
   "cell_type": "code",
   "execution_count": 4,
   "id": "557418f9",
   "metadata": {
    "ExecuteTime": {
     "end_time": "2023-08-17T04:18:01.334489900Z",
     "start_time": "2023-08-17T04:18:01.255787700Z"
    }
   },
   "outputs": [],
   "source": [
    "# VARIABLES...\n",
    "\n",
    "name = \"Anubhav\"\n",
    "age = 21\n",
    "salary = 70000\n",
    "marital_status = \"Single\""
   ]
  },
  {
   "cell_type": "code",
   "execution_count": 5,
   "id": "096b2c3a",
   "metadata": {
    "ExecuteTime": {
     "end_time": "2023-08-17T04:18:01.383768500Z",
     "start_time": "2023-08-17T04:18:01.260789800Z"
    }
   },
   "outputs": [
    {
     "name": "stdout",
     "output_type": "stream",
     "text": [
      "Anubhav\n",
      "21\n",
      "70000\n",
      "Single\n"
     ]
    }
   ],
   "source": [
    "print(name)\n",
    "print(age)\n",
    "print(salary)\n",
    "print(marital_status)"
   ]
  },
  {
   "cell_type": "code",
   "execution_count": 6,
   "id": "dab4312e",
   "metadata": {
    "ExecuteTime": {
     "end_time": "2023-08-17T04:18:01.384857800Z",
     "start_time": "2023-08-17T04:18:01.270539500Z"
    }
   },
   "outputs": [
    {
     "name": "stdout",
     "output_type": "stream",
     "text": [
      "gary\n"
     ]
    }
   ],
   "source": [
    "# REDECLARATION...\n",
    "\n",
    "name = \"gary\"\n",
    "friend_name = name\n",
    "print(friend_name)"
   ]
  },
  {
   "cell_type": "code",
   "execution_count": 7,
   "id": "712da495",
   "metadata": {
    "ExecuteTime": {
     "end_time": "2023-08-17T04:18:01.384930200Z",
     "start_time": "2023-08-17T04:18:01.279344200Z"
    }
   },
   "outputs": [
    {
     "name": "stdout",
     "output_type": "stream",
     "text": [
      "aarav's age is  21\n",
      "dakshay's age is  21\n",
      "anubhav's age is  21\n"
     ]
    }
   ],
   "source": [
    "# MULTIPLE VARIABLE DECLARTION...\n",
    "\n",
    "aarav_age = dakshay_age = anubhav_age = 21\n",
    "print(\"aarav's age is \", aarav_age)\n",
    "print(\"dakshay's age is \", dakshay_age)\n",
    "print(\"anubhav's age is \", anubhav_age)"
   ]
  },
  {
   "cell_type": "code",
   "execution_count": 8,
   "id": "a9084138",
   "metadata": {
    "ExecuteTime": {
     "end_time": "2023-08-17T04:18:01.384930200Z",
     "start_time": "2023-08-17T04:18:01.293015300Z"
    }
   },
   "outputs": [
    {
     "name": "stdout",
     "output_type": "stream",
     "text": [
      "charles\n",
      "4.6\n",
      "4\n",
      "True\n",
      "False\n"
     ]
    }
   ],
   "source": [
    "# STRINGS\n",
    "\n",
    "name = 'charles'\n",
    "print(name)\n",
    "type(name)\n",
    "\n",
    "# NUMERIC VARIABLES\n",
    "\n",
    "sales_price_per_unit = 4.6\n",
    "units_purchased = 4\n",
    "print(sales_price_per_unit)\n",
    "print(units_purchased)\n",
    "\n",
    "# BOOLEAN\n",
    "\n",
    "isStudent = True\n",
    "has_paid_fees = False\n",
    "print(isStudent)\n",
    "print(has_paid_fees)"
   ]
  },
  {
   "cell_type": "code",
   "execution_count": 9,
   "id": "09590146",
   "metadata": {
    "ExecuteTime": {
     "end_time": "2023-08-17T04:18:01.384930200Z",
     "start_time": "2023-08-17T04:18:01.299873200Z"
    }
   },
   "outputs": [
    {
     "name": "stdout",
     "output_type": "stream",
     "text": [
      "252.5\n"
     ]
    }
   ],
   "source": [
    "# EXPLICIT CONVERSION\n",
    "\n",
    "price = 250\n",
    "tax = \"2.5\"\n",
    "tp = price + float(tax)\n",
    "print(tp)"
   ]
  },
  {
   "cell_type": "code",
   "execution_count": 10,
   "id": "eb79be5d",
   "metadata": {
    "ExecuteTime": {
     "end_time": "2023-08-17T04:18:01.385931100Z",
     "start_time": "2023-08-17T04:18:01.314045700Z"
    }
   },
   "outputs": [
    {
     "data": {
      "text/plain": "False"
     },
     "execution_count": 10,
     "metadata": {},
     "output_type": "execute_result"
    }
   ],
   "source": [
    "# TYPE CASTING \n",
    "\n",
    "# int(), float(), bool(), str()\n",
    "\n",
    "unit_price = 52.5\n",
    "str(unit_price)\n",
    "\n",
    "has_speed, no_speed = 1,0\n",
    "bool(has_speed)\n",
    "bool(no_speed)"
   ]
  },
  {
   "cell_type": "code",
   "execution_count": 11,
   "id": "312d8299",
   "metadata": {
    "ExecuteTime": {
     "end_time": "2023-08-17T04:18:01.385931100Z",
     "start_time": "2023-08-17T04:18:01.329760100Z"
    }
   },
   "outputs": [
    {
     "name": "stdout",
     "output_type": "stream",
     "text": [
      "hello, mr. anubhav\n",
      "this exists a whitespace after this sentance\n",
      "\n",
      "\n",
      "there exists a \t whitespace above the sentence\n",
      "hello world!\n",
      "hello world, this is a 09 number\n"
     ]
    }
   ],
   "source": [
    "# PRINT FUNCTION\n",
    "\n",
    "print(\"hello\", \" mr. anubhav\", sep = \",\")\n",
    "print(\"this exists a whitespace after this sentance\")\n",
    "print(\"\\n\"); \n",
    "print(\"there exists a \\t whitespace above the sentence\")\n",
    "\n",
    "# CONCATENATION IN STRINGS\n",
    "\n",
    "print(\"hello \" + \"world!\")\n",
    "\n",
    "# CONCATENATIONS WITH TYPECASTING \n",
    "\n",
    "print(\"hello world, this is a \" + str(0) + str(9) + \" number\")\n"
   ]
  },
  {
   "cell_type": "code",
   "execution_count": 12,
   "id": "e2a258d8",
   "metadata": {
    "ExecuteTime": {
     "end_time": "2023-08-17T04:18:01.386929600Z",
     "start_time": "2023-08-17T04:18:01.338731400Z"
    }
   },
   "outputs": [
    {
     "name": "stdout",
     "output_type": "stream",
     "text": [
      "India India India India \n",
      "8000\n"
     ]
    }
   ],
   "source": [
    "# ARTHIMETIC OPERATIONS\n",
    "\n",
    "value = \"India \"\n",
    "count = 4\n",
    "print(value * count)\n",
    "\n",
    "# EXPONENTIAL OPERATOR\n",
    "\n",
    "side_of_cube = 20\n",
    "volume =  side_of_cube ** 3\n",
    "print(volume)"
   ]
  },
  {
   "cell_type": "code",
   "execution_count": 15,
   "id": "c5558013",
   "metadata": {
    "ExecuteTime": {
     "end_time": "2023-08-17T04:20:42.020051800Z",
     "start_time": "2023-08-17T04:20:37.839888300Z"
    }
   },
   "outputs": [
    {
     "name": "stdout",
     "output_type": "stream",
     "text": [
      "Welcome 2!\n",
      "506\n"
     ]
    }
   ],
   "source": [
    "# RUNTIME VARIABLE ASSIGNMENT \n",
    "\n",
    "name = input(\"Enter your name: \")\n",
    "print('Welcome', name + '!')\n",
    "\n",
    "price = int(input(\"Enter price: \"))\n",
    "qty = int(input(\"Enter Qty - \"))\n",
    "\n",
    "total_price = price * qty\n",
    "print(total_price)"
   ]
  },
  {
   "cell_type": "code",
   "execution_count": null,
   "id": "9f79bace",
   "metadata": {
    "ExecuteTime": {
     "start_time": "2023-08-17T04:20:10.828368400Z"
    }
   },
   "outputs": [],
   "source": [
    "# IDENTITY OPERATORS\n",
    "\n",
    "a = [1, 2, 3, 4, 5]\n",
    "b = [1, 2, 3, 4, 5]\n",
    "c = a\n",
    "print(a is b)\n",
    "print(a == b)\n",
    "print(a is not b)\n",
    "print(a != b) "
   ]
  },
  {
   "cell_type": "code",
   "execution_count": null,
   "id": "c7c14a99",
   "metadata": {
    "ExecuteTime": {
     "start_time": "2023-08-17T04:20:10.832545500Z"
    }
   },
   "outputs": [],
   "source": [
    "# MEMBERSHIP OPERATORS\n",
    "\n",
    "vowels = \"aeiou\"\n",
    "print(\"a\" in vowels)\n",
    "print(\"x\" not in vowels)\n",
    "print(\"x\" in vowels)"
   ]
  },
  {
   "cell_type": "code",
   "execution_count": null,
   "id": "c86a332e",
   "metadata": {
    "ExecuteTime": {
     "start_time": "2023-08-17T04:20:10.836714Z"
    }
   },
   "outputs": [],
   "source": [
    "# CONDTIONS\n",
    "\n",
    "num = int(input(\"Enter your number - \"))\n",
    "if(num <= 9 and num != 0):\n",
    "    print(\"Mercedes number - \" \"000\" + str(num))\n",
    "elif(num == 0):\n",
    "    print(\"Lucky number - \" + str(num))\n",
    "else:\n",
    "    print(\"Lamborghini number - \" \"00\" + str(num))"
   ]
  },
  {
   "cell_type": "code",
   "execution_count": null,
   "id": "791dd7a4",
   "metadata": {
    "ExecuteTime": {
     "start_time": "2023-08-17T04:20:10.839713900Z"
    }
   },
   "outputs": [],
   "source": [
    "# WHILE-LOOP\n",
    "\n",
    "# Q - summation upto n term\n",
    "\n",
    "number = int(input(\"Enter your number - \"))\n",
    "addition = 0\n",
    "while(number >= 0):\n",
    "    addition += number\n",
    "    number -= 1\n",
    "print(addition)\n",
    "\n",
    "# FOR-LOOP\n",
    "addition1 = 0\n",
    "number = range(1, 6) # RANGE means - [1, 2, 3, 4, 5];\n",
    "for i in number:\n",
    "    addition1 += i\n",
    "print(addition1)\n",
    "\n",
    "# NESTED FOR LOOP\n",
    "\n",
    "levels = int(input(\"Enter the number for pattern\"))\n",
    "for level in range(1 , levels + 1):\n",
    "    for num in range(0 , level):\n",
    "        print(level, end = \" \")\n",
    "        \n",
    "    print(\"\\n\")\n",
    "    "
   ]
  },
  {
   "cell_type": "code",
   "execution_count": null,
   "id": "a8c25e31",
   "metadata": {
    "ExecuteTime": {
     "start_time": "2023-08-17T04:20:10.843894400Z"
    }
   },
   "outputs": [],
   "source": []
  }
 ],
 "metadata": {
  "kernelspec": {
   "display_name": "Python 3 (ipykernel)",
   "language": "python",
   "name": "python3"
  },
  "language_info": {
   "codemirror_mode": {
    "name": "ipython",
    "version": 3
   },
   "file_extension": ".py",
   "mimetype": "text/x-python",
   "name": "python",
   "nbconvert_exporter": "python",
   "pygments_lexer": "ipython3",
   "version": "3.11.3"
  }
 },
 "nbformat": 4,
 "nbformat_minor": 5
}
