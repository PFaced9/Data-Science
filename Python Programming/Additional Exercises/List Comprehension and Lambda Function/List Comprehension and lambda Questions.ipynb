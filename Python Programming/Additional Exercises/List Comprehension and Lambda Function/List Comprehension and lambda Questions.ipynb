{
 "cells": [
  {
   "cell_type": "code",
   "execution_count": null,
   "id": "732880c3",
   "metadata": {},
   "outputs": [],
   "source": [
    "string = \"Practice Problems to Drill List Comprehension in Your Head.\""
   ]
  },
  {
   "cell_type": "markdown",
   "id": "197b7147",
   "metadata": {},
   "source": [
    "1.\tFind all of the numbers from 1–1000 that are divisible by 8\n",
    "2.\tFind all of the numbers from 1–1000 that have a 6 in them\n",
    "3.\tCount the number of spaces in a string (use string above)\n",
    "4.\tRemove all of the vowels in a string (use string above)\n",
    "5.\tFind all of the words in a string that are less than 5 letters (use string above)\n",
    "6.\tUse a dictionary comprehension to count the length of each word in a sentence (use string above)\n",
    "7.\tUse a nested list comprehension to find all of the numbers from 1–1000 that are divisible by any single digit besides 1 (2–9)\n",
    "8.\tFor all the numbers 1–1000, use a nested list/dictionary comprehension to find the highest single digit any of the numbers is divisible by\n"
   ]
  },
  {
   "cell_type": "markdown",
   "id": "3d710f95",
   "metadata": {},
   "source": [
    "#### Write a Program where ever there is a even number i want to print it as -1 where every there is a odd number i want to print as it is \n",
    "list1 = [0,21,32,12,44,45,26,28,38,34,65,48,76]"
   ]
  },
  {
   "cell_type": "markdown",
   "id": "1da11928",
   "metadata": {},
   "source": [
    "## Lambda Exercise"
   ]
  },
  {
   "cell_type": "code",
   "execution_count": null,
   "id": "148da6c4",
   "metadata": {},
   "outputs": [],
   "source": [
    "# 3. Write a Python program to sort a list of tuples using Lambda.\n",
    "# Original list of tuples:\n",
    "# [('English', 88), ('Science', 90), ('Maths', 97), ('Social sciences', 82)]\n",
    "# Sorting the List of Tuples:\n",
    "# [('Social sciences', 82), ('English', 88), ('Science', 90), ('Maths', 97)]"
   ]
  },
  {
   "cell_type": "code",
   "execution_count": null,
   "id": "84037a77",
   "metadata": {},
   "outputs": [],
   "source": [
    "# 4. Write a Python program to sort a list of dictionaries using Lambda. Go to the editor\n",
    "# Original list of dictionaries : sort based on color\n",
    "# [{'make': 'Nokia', 'model': 216, 'color': 'Black'}, {'make': 'Mi Max', 'model': '2', 'color': 'Gold'}, {'make': 'Samsung', 'model': 7, 'color': 'Blue'}]\n",
    "# Sorting the List of dictionaries :\n",
    "# [{'make': 'Nokia', 'model': 216, 'color': 'Black'}, {'make': 'Samsung', 'model': 7, 'color': 'Blue'}, {'make': 'Mi Max', 'model': '2', 'color': 'Gold'}]"
   ]
  },
  {
   "cell_type": "code",
   "execution_count": null,
   "id": "dc9bcb01",
   "metadata": {},
   "outputs": [],
   "source": [
    "# 5. Write a Python program to filter a list of integers using Lambda. Go to the editor\n",
    "# Original list of integers:\n",
    "# [1, 2, 3, 4, 5, 6, 7, 8, 9, 10]\n",
    "# Even numbers from the said list:\n",
    "# [2, 4, 6, 8, 10]\n",
    "# Odd numbers from the said list:\n",
    "# [1, 3, 5, 7, 9]"
   ]
  },
  {
   "cell_type": "code",
   "execution_count": null,
   "id": "304398d6",
   "metadata": {},
   "outputs": [],
   "source": [
    "# 6. Write a Python program to square and cube every number in a given list of integers using Lambda. Go to the editor\n",
    "# Original list of integers:\n",
    "# [1, 2, 3, 4, 5, 6, 7, 8, 9, 10]\n",
    "# Square every number of the said list:\n",
    "# [1, 4, 9, 16, 25, 36, 49, 64, 81, 100]\n",
    "# Cube every number of the said list:\n",
    "# [1, 8, 27, 64, 125, 216, 343, 512, 729, 1000]"
   ]
  },
  {
   "cell_type": "code",
   "execution_count": null,
   "id": "0c526fdc",
   "metadata": {},
   "outputs": [],
   "source": [
    "# 7. Write a Python program to find if a given string starts with a given character using Lambda. Go to the editor\n",
    "# Sample Output:\n",
    "# True\n",
    "# False"
   ]
  },
  {
   "cell_type": "code",
   "execution_count": null,
   "id": "8b90d478",
   "metadata": {},
   "outputs": [],
   "source": [
    "# 8. Write a Python program to extract year, month, date and time using Lambda. Go to the editor\n",
    "# Sample Output:\n",
    "# 2020-01-15 09:03:32.744178\n",
    "# 2020\n",
    "# 1\n",
    "# 15\n",
    "# 09:03:32.744178"
   ]
  },
  {
   "cell_type": "code",
   "execution_count": 31,
   "id": "decec62d",
   "metadata": {},
   "outputs": [],
   "source": [
    "# 9. Write a Python program to check whether a given string is number or not using Lambda. Go to the editor\n",
    "# data='-24587.11'\n",
    "# Sample Output:\n",
    "# True\n",
    "# True\n",
    "# False\n",
    "# True\n",
    "# False\n",
    "# True\n",
    "# Print checking numbers:\n",
    "# True\n",
    "# True"
   ]
  },
  {
   "cell_type": "code",
   "execution_count": null,
   "id": "6f0ec661",
   "metadata": {},
   "outputs": [],
   "source": [
    "# 10. Write a Python program to create Fibonacci series upto n using Lambda. Go to the editor\n",
    "# Fibonacci series upto 2:\n",
    "# [0, 1]\n",
    "# Fibonacci series upto 5:\n",
    "# [0, 1, 1, 2, 3]\n",
    "# Fibonacci series upto 6:\n",
    "# [0, 1, 1, 2, 3, 5]\n",
    "# Fibonacci series upto 9:\n",
    "# [0, 1, 1, 2, 3, 5, 8, 13, 21]"
   ]
  },
  {
   "cell_type": "code",
   "execution_count": null,
   "id": "0b396cb7",
   "metadata": {},
   "outputs": [],
   "source": [
    "# 11. Write a Python program to find intersection of two given arrays using Lambda. Go to the editor\n",
    "# Original arrays:\n",
    "# [1, 2, 3, 5, 7, 8, 9, 10]\n",
    "# [1, 2, 4, 8, 9]\n",
    "# Intersection of the said arrays: [1, 2, 8, 9]"
   ]
  },
  {
   "cell_type": "code",
   "execution_count": null,
   "id": "dc726fd0",
   "metadata": {},
   "outputs": [],
   "source": [
    "# 12. Write a Python program to rearrange positive and negative numbers in a given array using Lambda. Go to the editor\n",
    "# Original arrays:\n",
    "# [-1, 2, -3, 5, 7, 8, 9, -10]\n",
    "# Rearrange positive and negative numbers of the said array:\n",
    "# [2, 5, 7, 8, 9, -10, -3, -1]"
   ]
  },
  {
   "cell_type": "code",
   "execution_count": null,
   "id": "59a659b0",
   "metadata": {},
   "outputs": [],
   "source": [
    "# 13. Write a Python program to count the even, odd numbers in a given array of integers using Lambda. Go to the editor\n",
    "# Original arrays:\n",
    "# [1, 2, 3, 5, 7, 8, 9, 10]\n",
    "# Number of even numbers in the above array: 3\n",
    "# Number of odd numbers in the above array: 5"
   ]
  },
  {
   "cell_type": "code",
   "execution_count": null,
   "id": "b9eaa504",
   "metadata": {},
   "outputs": [],
   "source": [
    "# 14. Write a Python program to find the values of length six in a given list using Lambda. Go to the editor\n",
    "# Sample Output:\n",
    "# Monday\n",
    "# Friday\n",
    "# Sunday"
   ]
  },
  {
   "cell_type": "code",
   "execution_count": null,
   "id": "42ae67bc",
   "metadata": {},
   "outputs": [],
   "source": [
    "# 15. Write a Python program to add two given lists using map and lambda. Go to the editor\n",
    "# Original list:\n",
    "# [1, 2, 3]\n",
    "# [4, 5, 6]\n",
    "# Result: after adding two list\n",
    "# [5, 7, 9]"
   ]
  },
  {
   "cell_type": "code",
   "execution_count": null,
   "id": "859771fe",
   "metadata": {},
   "outputs": [],
   "source": [
    "# 17. Write a Python program to find numbers divisible by nineteen or thirteen from a list of numbers using Lambda. Go to the editor\n",
    "# Orginal list:\n",
    "# [19, 65, 57, 39, 152, 639, 121, 44, 90, 190]\n",
    "# Numbers of the above list divisible by nineteen or thirteen:\n",
    "# [19, 65, 57, 39, 152, 190]"
   ]
  },
  {
   "cell_type": "code",
   "execution_count": null,
   "id": "000d3f05",
   "metadata": {},
   "outputs": [],
   "source": [
    "# 18. Write a Python program to find palindromes in a given list of strings using Lambda. Go to the editor\n",
    "# Orginal list of strings:\n",
    "# ['php', 'w3r', 'Python', 'abcd', 'Java', 'aaa']\n",
    "# List of palindromes:\n",
    "# ['php', 'aaa']"
   ]
  },
  {
   "cell_type": "code",
   "execution_count": null,
   "id": "f3219c87",
   "metadata": {},
   "outputs": [],
   "source": [
    "# 19. Write a Python program to find all anagrams of a string in a given list of strings using lambda. Go to the editor\n",
    "# Orginal list of strings:\n",
    "# ['bcda', 'abce', 'cbda', 'cbea', 'adcb']\n",
    "# Anagrams of 'abcd' in the above string:\n",
    "# ['bcda', 'cbda', 'adcb']"
   ]
  },
  {
   "cell_type": "code",
   "execution_count": null,
   "id": "61690d9f",
   "metadata": {},
   "outputs": [],
   "source": [
    "# 20. Write a Python program to find the numbers of a given string and store them in a list, display the numbers which are bigger than the length of the list in sorted form. Use lambda function to solve the problem. Go to the editor\n",
    "# Original string: sdf 23 safs8 5 sdfsd8 sdfs 56 21sfs 20 5\n",
    "# Numbers in sorted form:\n",
    "# 20 23 56"
   ]
  },
  {
   "cell_type": "code",
   "execution_count": null,
   "id": "940a3187",
   "metadata": {},
   "outputs": [],
   "source": [
    "# 21. Write a Python program that multiply each number of given list with a given number using lambda function. Print the result. Go to the editor\n",
    "# Original list: [2, 4, 6, 9, 11]\n",
    "# Given number: 2\n",
    "# Result:\n",
    "# 4 8 12 18 22"
   ]
  },
  {
   "cell_type": "code",
   "execution_count": null,
   "id": "4baf6df0",
   "metadata": {},
   "outputs": [],
   "source": [
    "# 22. Write a Python program that sum the length of the names of a given list of names \n",
    "#after removing the names that starts with an lowercase letter. Use lambda function. Go to the editor\n",
    "# Result:\n",
    "# 16"
   ]
  },
  {
   "cell_type": "code",
   "execution_count": null,
   "id": "6368698d",
   "metadata": {},
   "outputs": [],
   "source": [
    "# 23. Write a Python program to calculate the sum of the positive and negative numbers of a given list of numbers using lambda function. Go to the editor\n",
    "# Original list: [2, 4, -6, -9, 11, -12, 14, -5, 17]\n",
    "# Sum of the positive numbers: -32\n",
    "# Sum of the negative numbers: 48"
   ]
  },
  {
   "cell_type": "code",
   "execution_count": null,
   "id": "71307d44",
   "metadata": {},
   "outputs": [],
   "source": [
    "# 25. Write a Python program to create the next bigger number by rearranging the digits of a given number. Go to the editor\n",
    "# Original number: 12\n",
    "# Next bigger number: 21\n",
    "# Original number: 10\n",
    "# Next bigger number: False\n",
    "# Original number: 201\n",
    "# Next bigger number: 210\n",
    "# Original number: 102\n",
    "# Next bigger number: 120\n",
    "# Original number: 445\n",
    "# Next bigger number: 454"
   ]
  },
  {
   "cell_type": "code",
   "execution_count": null,
   "id": "555fdb3e",
   "metadata": {},
   "outputs": [],
   "source": [
    "# 26. Write a Python program to find the list with maximum and minimum length using lambda. Go to the editor\n",
    "# Original list:\n",
    "# [[0,0,0,0], [1, 3], [5, 7], [9, 11], [13, 15, 17]]\n",
    "# List with maximum length of lists:\n",
    "# (3, [13, 15, 17])\n",
    "# List with minimum length of lists:\n",
    "# (1, [0])"
   ]
  },
  {
   "cell_type": "code",
   "execution_count": null,
   "id": "cbe6ea31",
   "metadata": {},
   "outputs": [],
   "source": [
    "# 27. Write a Python program to sort each sublist of strings in a given list of lists using lambda. Go to the editor\n",
    "# Original list:\n",
    "# [['green', 'orange'], ['black', 'white'], ['white', 'black', 'orange']]\n",
    "# After sorting each sublist of the said list of lists:\n",
    "# [['green', 'orange'], ['black', 'white'], ['black', 'orange', 'white']]"
   ]
  },
  {
   "cell_type": "code",
   "execution_count": null,
   "id": "d75399aa",
   "metadata": {},
   "outputs": [],
   "source": [
    "# 28. Write a Python program to sort a given list of lists by length and value using lambda. Go to the editor\n",
    "# Original list:\n",
    "# [[2], [0], [1, 3], [0, 7], [9, 11], [13, 15, 17]]\n",
    "# Sort the list of lists by length and value:\n",
    "9# [[0], [2], [0, 7], [1, 3], [9, 11], [13, 15, 17]]"
   ]
  },
  {
   "cell_type": "code",
   "execution_count": null,
   "id": "3da2d967",
   "metadata": {},
   "outputs": [],
   "source": [
    "# 29. Write a Python program to find the maximum value in a given heterogeneous list using lambda. Go to the editor\n",
    "# Original list:\n",
    "# ['Python', 3, 2, 4, 5, 'version']\n",
    "# Maximum values in the said list using lambda:\n",
    "# 5"
   ]
  },
  {
   "cell_type": "code",
   "execution_count": null,
   "id": "c5755225",
   "metadata": {},
   "outputs": [],
   "source": [
    "# 30. Write a Python program to sort a given matrix in ascending order according to the sum of its rows using lambda. Go to the editor\n",
    "# Original Matrix:\n",
    "# [[1, 2, 3], [2, 4, 5], [1, 1, 1]]\n",
    "# Sort the said matrix in ascending order according to the sum of its rows\n",
    "# [[1, 1, 1], [1, 2, 3], [2, 4, 5]]\n",
    "# Original Matrix:\n",
    "# c\n",
    "# Sort the said matrix in ascending order according to the sum of its rows\n",
    "# [[-2, 4, -5], [1, -1, 1], [1, 2, 3]]"
   ]
  },
  {
   "cell_type": "code",
   "execution_count": null,
   "id": "d537a0b3",
   "metadata": {},
   "outputs": [],
   "source": [
    "# 31. Write a Python program to extract specified size of strings from a give list of string values using lambda. Go to the editor\n",
    "# Original list:\n",
    "# ['Python', 'list', 'exercises', 'practice', 'solution']\n",
    "# length of the string to extract:\n",
    "# 8\n",
    "# After extracting strings of specified length from the said list:\n",
    "# ['practice', 'solution']"
   ]
  },
  {
   "cell_type": "code",
   "execution_count": null,
   "id": "15e8451c",
   "metadata": {},
   "outputs": [],
   "source": [
    "# 32. Write a Python program to count float number in a given mixed list using lambda. Go to the editor\n",
    "# Original list:\n",
    "# [1, 'abcd', 3.12, 1.2, 4, 'xyz', 5, 'pqr', 7, -5, -12.22]\n",
    "# Number of floats in the said mixed list:\n",
    "# 3"
   ]
  },
  {
   "cell_type": "code",
   "execution_count": null,
   "id": "8c7610aa",
   "metadata": {},
   "outputs": [],
   "source": [
    "# 34. Write a Python program to filter the height and width of students, which are stored in a dictionary using lambda. Go to the editor\n",
    "# Original Dictionary:\n",
    "# {'Cierra Vega': (6.2, 70), 'Alden Cantrell': (5.9, 65), 'Kierra Gentry': (6.0, 68), 'Pierre Cox': (5.8, 66)}\n",
    "# Height> 6ft and Weight>= 70kg:\n",
    "# {'Cierra Vega': (6.2, 70)}"
   ]
  },
  {
   "cell_type": "code",
   "execution_count": null,
   "id": "af55a690",
   "metadata": {},
   "outputs": [],
   "source": [
    "# 35. Write a Python program to check whether a specified list is sorted or not using lambda. Go to the editor\n",
    "# Original list:\n",
    "# [1, 2, 4, 6, 8, 10, 12, 14, 16, 17]\n",
    "# If the said list is sorted!\n",
    "# True\n",
    "# Original list:\n",
    "# [1, 2, 4, 6, 8, 10, 12, 14, 16, 17]\n",
    "# If the said list is sorted!\n",
    "# False"
   ]
  },
  {
   "cell_type": "code",
   "execution_count": null,
   "id": "5433e704",
   "metadata": {},
   "outputs": [],
   "source": [
    "# 36. Write a Python program to extract the nth element from a given list of tuples using lambda. Go to the editor\n",
    "# Original list:\n",
    "# [('Greyson Fulton', 98, 99), ('Brady Kent', 97, 96), ('Wyatt Knott', 91, 94), ('Beau Turnbull', 94, 98)]\n",
    "# Extract nth element ( n = 0 ) from the said list of tuples:\n",
    "# ['Greyson Fulton', 'Brady Kent', 'Wyatt Knott', 'Beau Turnbull']\n",
    "# Extract nth element ( n = 2 ) from the said list of tuples:\n",
    "# [99, 96, 94, 98]"
   ]
  },
  {
   "cell_type": "code",
   "execution_count": null,
   "id": "feaf1db2",
   "metadata": {},
   "outputs": [],
   "source": [
    "# 37. Write a Python program to sort a list of lists by a given index of the inner list using lambda. Go to the editor\n",
    "# Original list:\n",
    "# [('Greyson Fulton', 98, 99), ('Brady Kent', 97, 96), ('Wyatt Knott', 91, 94), ('Beau Turnbull', 94, 98)]\n",
    "# Sort the said list of lists by a given index ( Index = 0 ) of the inner list\n",
    "# [('Beau Turnbull', 94, 98), ('Brady Kent', 97, 96), ('Greyson Fulton', 98, 99), ('Wyatt Knott', 91, 94)]\n",
    "# Sort the said list of lists by a given index ( Index = 2 ) of the inner list\n",
    "# [('Wyatt Knott', 91, 94), ('Brady Kent', 97, 96), ('Beau Turnbull', 94, 98), ('Greyson Fulton', 98, 99)]"
   ]
  },
  {
   "cell_type": "code",
   "execution_count": null,
   "id": "6be0be61",
   "metadata": {},
   "outputs": [],
   "source": [
    "# 38. Write a Python program to remove all elements from a given list present in another list using lambda. Go to the editor\n",
    "# Original lists:\n",
    "# list1: [1, 2, 3, 4, 5, 6, 7, 8, 9, 10]\n",
    "# list2: [2, 4, 6, 8]\n",
    "# Remove all elements from 'list1' present in 'list2:\n",
    "# [1, 3, 5, 7, 9, 10]"
   ]
  },
  {
   "cell_type": "code",
   "execution_count": null,
   "id": "ba34fe18",
   "metadata": {},
   "outputs": [],
   "source": [
    "# 39. Write a Python program to find the elements of a given list of strings that contain specific substring using lambda. Go to the editor\n",
    "# Original list:\n",
    "# ['red', 'black', 'white', 'green', 'orange']\n",
    "# Substring to search:\n",
    "# ack\n",
    "# Elements of the said list that contain specific substring:\n",
    "# ['black']\n",
    "# Substring to search:\n",
    "# abc\n",
    "# Elements of the said list that contain specific substring:\n",
    "# []"
   ]
  },
  {
   "cell_type": "code",
   "execution_count": null,
   "id": "970b88d2",
   "metadata": {},
   "outputs": [],
   "source": [
    "# 40. Write a Python program to find the nested lists elements, which are present in another list using lambda. Go to the editor\n",
    "# Original lists: [1, 2, 3, 4, 5, 6, 7, 8, 9, 10, 11, 12, 13, 14]\n",
    "# [[12, 18, 23, 25, 45], [7, 11, 19, 24, 28], [1, 5, 8, 18, 15, 16]]\n",
    "# Intersection of said nested lists:\n",
    "# [[12], [7, 11], [1, 5, 8]]"
   ]
  },
  {
   "cell_type": "code",
   "execution_count": null,
   "id": "e950e15a",
   "metadata": {},
   "outputs": [],
   "source": [
    "# 41. Write a Python program to reverse strings in a given list of string values using lambda. Go to the editor\n",
    "# Original lists:\n",
    "# ['Red', 'Green', 'Blue', 'White', 'Black']\n",
    "# Reverse strings of the said given list:\n",
    "# ['deR', 'neerG', 'eulB', 'etihW', 'kcalB']"
   ]
  },
  {
   "cell_type": "code",
   "execution_count": null,
   "id": "f9509a4e",
   "metadata": {},
   "outputs": [],
   "source": [
    "# 42. Write a Python program to calculate the product of a given list of numbers using lambda. Go to the editor\n",
    "# list1: [1, 2, 3, 4, 5, 6, 7, 8, 9, 10]\n",
    "# Product of the said list numbers:\n",
    "# 3628800\n",
    "# list2: [2.2, 4.12, 6.6, 8.1, 8.3]\n",
    "# Product of the said list numbers:\n",
    "# 4021.8599520000007"
   ]
  },
  {
   "cell_type": "code",
   "execution_count": null,
   "id": "e1bafd28",
   "metadata": {},
   "outputs": [],
   "source": [
    "# 43. Write a Python program to multiply all the numbers in a given list using lambda. Go to the editor\n",
    "# Original list:\n",
    "# [4, 3, 2, 2, -1, 18]\n",
    "# Mmultiply all the numbers of the said list: -864\n",
    "# Original list:\n",
    "# [2, 4, 8, 8, 3, 2, 9]\n",
    "# Mmultiply all the numbers of the said list: 27648"
   ]
  },
  {
   "cell_type": "code",
   "execution_count": null,
   "id": "c882a048",
   "metadata": {},
   "outputs": [],
   "source": [
    "# 44. Write a Python program to calculate the average value of the numbers in a given tuple of tuples using lambda. Go to the editor\n",
    "# Original Tuple:\n",
    "# ((10, 10, 10), (30, 45, 56), (81, 80, 39), (1, 2, 3))\n",
    "# Average value of the numbers of the said tuple of tuples:\n",
    "# (30.5, 34.25, 27.0)\n",
    "# Original Tuple:\n",
    "# ((1, 1, -5), (30, -15, 56), (81, -60, -39), (-10, 2, 3))\n",
    "# Average value of the numbers of the said tuple of tuples:\n",
    "# (25.5, -18.0, 3.75)"
   ]
  },
  {
   "cell_type": "code",
   "execution_count": null,
   "id": "ee1bab52",
   "metadata": {},
   "outputs": [],
   "source": [
    "# 45. Write a Python program to convert string element to integer inside a given tuple using lambda. Go to the editor\n",
    "# Original tuple values:\n",
    "# (('233', 'ABCD', '33'), ('1416', 'EFGH', '55'), ('2345', 'WERT', '34'))\n",
    "# New tuple values:\n",
    "# ((233, 33), (1416, 55), (2345, 34))"
   ]
  },
  {
   "cell_type": "code",
   "execution_count": null,
   "id": "9790c0fc",
   "metadata": {},
   "outputs": [],
   "source": [
    "# 46. Write a Python program to find index position and value of the maximum and minimum values in a given list of numbers using lambda. Go to the editor\n",
    "# Original list:\n",
    "# [12, 33, 23, 10.11, 67, 89, 45, 66.7, 23, 12, 11, 10.25, 54]\n",
    "# Index position and value of the maximum value of the said list:\n",
    "# (5, 89)\n",
    "# Index position and value of the minimum value of the said list:\n",
    "# (3, 10.11)"
   ]
  },
  {
   "cell_type": "code",
   "execution_count": null,
   "id": "f1d931ec",
   "metadata": {},
   "outputs": [],
   "source": [
    "# 47. Write a Python program to sort a given mixed list of integers and strings using lambda. Numbers must be sorted before strings. Go to the editor\n",
    "# Original list:\n",
    "# [19, 'red', 12, 'green', 'blue', 10, 'white', 'green', 1]\n",
    "# Sort the said mixed list of integers and strings:\n",
    "# [1, 10, 12, 19, 'blue', 'green', 'green', 'red', 'white']"
   ]
  },
  {
   "cell_type": "code",
   "execution_count": null,
   "id": "996324f8",
   "metadata": {},
   "outputs": [],
   "source": [
    "# 48. Write a Python program to sort a given list of strings(numbers) numerically using lambda. Go to the editor\n",
    "# Original list:\n",
    "# ['4', '12', '45', '7', '0', '100', '200', '-12', '-500']\n",
    "# Sort the said list of strings(numbers) numerically:\n",
    "# ['-500', '-12', '0', '4', '7', '12', '45', '100', '200']"
   ]
  },
  {
   "cell_type": "code",
   "execution_count": null,
   "id": "4c5fd2dc",
   "metadata": {},
   "outputs": [],
   "source": [
    "# 49. Write a Python program to count the occurrences of the items in a given list using lambda. Go to the editor\n",
    "# Original list:\n",
    "# [3, 4, 5, 8, 0, 3, 8, 5, 0, 3, 1, 5, 2, 3, 4, 2]\n",
    "# Count the occurrences of the items in the said list:\n",
    "# {3: 4, 4: 2, 5: 3, 8: 2, 0: 2, 1: 1, 2: 2}"
   ]
  },
  {
   "cell_type": "code",
   "execution_count": null,
   "id": "a0a05380",
   "metadata": {},
   "outputs": [],
   "source": [
    "# 50. Write a Python program to remove specific words from a given list using lambda. Go to the editor\n",
    "# Original list:\n",
    "# ['orange', 'red', 'green', 'blue', 'white', 'black']\n",
    "# Remove words:\n",
    "# ['orange', 'black']\n",
    "# After removing the specified words from the said list:\n",
    "# ['red', 'green', 'blue', 'white']"
   ]
  },
  {
   "cell_type": "code",
   "execution_count": null,
   "id": "58e66f42",
   "metadata": {},
   "outputs": [],
   "source": [
    "# 51. Write a Python program to find the maximum and minimum values in a given list of tuples using lambda function. Go to the editor\n",
    "# Original list with tuples:\n",
    "# [('V', 62), ('VI', 68), ('VII', 72), ('VIII', 70), ('IX', 74), ('X', 65)]\n",
    "# Maximum and minimum values of the said list of tuples:\n",
    "# (74, 62)"
   ]
  },
  {
   "cell_type": "code",
   "execution_count": null,
   "id": "29c0ece1",
   "metadata": {},
   "outputs": [],
   "source": [
    "# 52. Write a Python program to remove None value from a given list using lambda function. Go to the editor\n",
    "# Original list:\n",
    "# [12, 0, None, 23, None, -55, 234, 89, None, 0, 6, -12]\n",
    "# Remove None value from the said list:\n",
    "# [12, 0, 23, -55, 234, 89, 0, 6, -12]"
   ]
  }
 ],
 "metadata": {
  "kernelspec": {
   "display_name": "Python 3 (ipykernel)",
   "language": "python",
   "name": "python3"
  },
  "language_info": {
   "codemirror_mode": {
    "name": "ipython",
    "version": 3
   },
   "file_extension": ".py",
   "mimetype": "text/x-python",
   "name": "python",
   "nbconvert_exporter": "python",
   "pygments_lexer": "ipython3",
   "version": "3.9.7"
  }
 },
 "nbformat": 4,
 "nbformat_minor": 5
}
