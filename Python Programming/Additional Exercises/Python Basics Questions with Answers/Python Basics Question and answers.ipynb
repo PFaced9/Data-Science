{
 "cells": [
  {
   "cell_type": "markdown",
   "id": "4b0e6d9f",
   "metadata": {},
   "source": [
    "# Content \n",
    "\n",
    "1. Get Starged with Python\n",
    "2. Python Statements\n",
    "3. Python Comments\n",
    "4. Python Keywords\n",
    "5. Python Operators\n",
    "6. Python Variables\n",
    "7. Python Data Types\n",
    "8. Python Casting (type conversion)\n",
    "9. Python input and output\n",
    "10. Control flow statements\n",
    "11. Python for loop\n",
    "12. Python range() user defiend function\n",
    "13. python while loop\n",
    "14. Break and Continue\n",
    "15. Print pattern in python\n",
    "16. Python Modules\n",
    "\n",
    "Basic Python Exercise for beginners\n",
    "Basic Python Quiz for Beginners\n",
    "Python Loop Exercise"
   ]
  },
  {
   "cell_type": "markdown",
   "id": "3b8ed258",
   "metadata": {},
   "source": [
    "## Python Basic Exercise for Beginners\n",
    "(This Python Exercise covers questions on the following topics)\n",
    "1. for Loop and While loop\n",
    "2. List, Set, Tuple, Dictionary, Input and Output"
   ]
  },
  {
   "cell_type": "markdown",
   "id": "50a58438",
   "metadata": {},
   "source": [
    "### Exercise 1: Calculate the multiplication and sum of two numbers\n",
    "\n",
    "Given two integer numbers return their product only if the product is equal to or lower than 1000, else return their sum."
   ]
  },
  {
   "cell_type": "code",
   "execution_count": 2,
   "id": "7c07eb7e",
   "metadata": {},
   "outputs": [
    {
     "name": "stdout",
     "output_type": "stream",
     "text": [
      "The Result is 600\n"
     ]
    }
   ],
   "source": [
    "def mulsum(a,b):\n",
    "    if a*b<=1000:\n",
    "        print(f'The Result is {a*b}')\n",
    "    else:\n",
    "        print(f'The Result is {a+b}')\n",
    "mulsum(20,30)"
   ]
  },
  {
   "cell_type": "code",
   "execution_count": 5,
   "id": "f6b7c897",
   "metadata": {},
   "outputs": [
    {
     "name": "stdout",
     "output_type": "stream",
     "text": [
      "The Result is 100\n"
     ]
    }
   ],
   "source": [
    "mulsum(60,40)"
   ]
  },
  {
   "cell_type": "markdown",
   "id": "4e34b890",
   "metadata": {},
   "source": [
    "### Exercise 2: Print the sum of the current number and the previous number\n",
    "Write a program to iterate the first 10 numbers and in each iteration, print the sum of the current and previous number."
   ]
  },
  {
   "cell_type": "code",
   "execution_count": 8,
   "id": "6c5cab39",
   "metadata": {},
   "outputs": [
    {
     "name": "stdout",
     "output_type": "stream",
     "text": [
      "Printing Current and Previous number sum in a range(10)\n",
      "Current Number 0 Previous Number 0 sum: 0\n",
      "Current Number 1 Previous Number 0 sum: 1\n",
      "Current Number 2 Previous Number 1 sum: 3\n",
      "Current Number 3 Previous Number 2 sum: 5\n",
      "Current Number 4 Previous Number 3 sum: 7\n",
      "Current Number 5 Previous Number 4 sum: 9\n",
      "Current Number 6 Previous Number 5 sum: 11\n",
      "Current Number 7 Previous Number 6 sum: 13\n",
      "Current Number 8 Previous Number 7 sum: 15\n",
      "Current Number 9 Previous Number 8 sum: 17\n"
     ]
    }
   ],
   "source": [
    "print('Printing Current and Previous number sum in a range(10)')\n",
    "\n",
    "previous=0\n",
    "for i in range(10):\n",
    "    print(f'Current Number {i} Previous Number {previous} sum: {i+previous}')\n",
    "    previous=i"
   ]
  },
  {
   "cell_type": "markdown",
   "id": "2fce97a2",
   "metadata": {},
   "source": [
    "### Exercise 3: Print characters from a string that are present at an even index number\n",
    "Write a program to accept a string from the user and display characters that are present at an even index number.\n",
    "\n",
    "For example, str = \"Imarticus\" so you should display ‘I’, ‘a’, ‘t’, ‘c’,'s'."
   ]
  },
  {
   "cell_type": "code",
   "execution_count": 10,
   "id": "903dd8a0",
   "metadata": {},
   "outputs": [
    {
     "name": "stdout",
     "output_type": "stream",
     "text": [
      "I\n",
      "a\n",
      "t\n",
      "c\n",
      "s\n"
     ]
    }
   ],
   "source": [
    "institute='Imarticus'\n",
    "for i in institute[::2]:\n",
    "    print(i)"
   ]
  },
  {
   "cell_type": "markdown",
   "id": "23a0e6a4",
   "metadata": {},
   "source": [
    "### Exercise 4: Remove first n characters from a string\n",
    "Write a program to remove characters from a string starting from zero up to n and return a new string.\n",
    "\n",
    "For example:\n",
    "\n",
    "remove_chars(\"Imarticus\", 4) so output must be ticus. Here we need to remove first four characters from a string.\n",
    "remove_chars(\"Imarticus\", 2) so output must be articus. Here we need to remove first two characters from a string.\n",
    "\n",
    "Note: n must be less than the length of the string."
   ]
  },
  {
   "cell_type": "code",
   "execution_count": 11,
   "id": "07262c42",
   "metadata": {},
   "outputs": [
    {
     "name": "stdout",
     "output_type": "stream",
     "text": [
      "ticus\n"
     ]
    }
   ],
   "source": [
    "def remove_chars(a,n):\n",
    "    print(a[n:])\n",
    "remove_chars('Imarticus',4)"
   ]
  },
  {
   "cell_type": "code",
   "execution_count": 14,
   "id": "5cffac1c",
   "metadata": {},
   "outputs": [
    {
     "name": "stdout",
     "output_type": "stream",
     "text": [
      "articus\n"
     ]
    }
   ],
   "source": [
    "remove_chars('Imarticus',2)"
   ]
  },
  {
   "cell_type": "markdown",
   "id": "bef0e920",
   "metadata": {},
   "source": [
    "### Exercise 5: Check if the first and last number of a list is the same\n",
    "\n",
    "Write a function to return True if the first and last number of a given list is same. If numbers are different then return False."
   ]
  },
  {
   "cell_type": "raw",
   "id": "b9221549",
   "metadata": {},
   "source": [
    "Given\n",
    "numbers_x = [10, 20, 30, 40, 10]\n",
    "numbers_y = [75, 65, 35, 75, 30]"
   ]
  },
  {
   "cell_type": "code",
   "execution_count": 15,
   "id": "f2b6a954",
   "metadata": {},
   "outputs": [
    {
     "name": "stdout",
     "output_type": "stream",
     "text": [
      "Result is True\n"
     ]
    }
   ],
   "source": [
    "numbers_x = [10, 20, 30, 40, 10]\n",
    "numbers_y = [75, 65, 35, 75, 30]\n",
    "\n",
    "def check(a):\n",
    "    if a[0]==a[-1]:\n",
    "        print('Result is True')\n",
    "    else:\n",
    "        print('Result is False')\n",
    "        \n",
    "check(numbers_x)"
   ]
  },
  {
   "cell_type": "code",
   "execution_count": 16,
   "id": "754e0243",
   "metadata": {},
   "outputs": [
    {
     "name": "stdout",
     "output_type": "stream",
     "text": [
      "Result is False\n"
     ]
    }
   ],
   "source": [
    "check(numbers_y)"
   ]
  },
  {
   "cell_type": "markdown",
   "id": "4a69a2bb",
   "metadata": {},
   "source": [
    "### Exercise 6: Display numbers divisible by 5 from a list\n",
    "Iterate the given list of numbers and print only those numbers which are divisible by 5\n",
    "\n",
    "Given list is  [10, 20, 33, 46, 55]"
   ]
  },
  {
   "cell_type": "code",
   "execution_count": 17,
   "id": "26098546",
   "metadata": {},
   "outputs": [
    {
     "name": "stdout",
     "output_type": "stream",
     "text": [
      "10\n",
      "20\n",
      "55\n"
     ]
    }
   ],
   "source": [
    "# using for loop\n",
    "lis= [10, 20, 33, 46, 55]\n",
    "for i in lis:\n",
    "    if i%5==0:\n",
    "        print(i)"
   ]
  },
  {
   "cell_type": "code",
   "execution_count": 18,
   "id": "12e046c5",
   "metadata": {},
   "outputs": [
    {
     "name": "stdout",
     "output_type": "stream",
     "text": [
      "[10, 20, 55]\n"
     ]
    }
   ],
   "source": [
    "# will perform using list comprehension \n",
    "lis= [10, 20, 33, 46, 55]\n",
    "output=[i  for i in lis if i%5==0]\n",
    "print(output)"
   ]
  },
  {
   "cell_type": "markdown",
   "id": "99a6f619",
   "metadata": {},
   "source": [
    "### Exercise 7: Return the count of a given substring from a string\n",
    "Write a program to find how many times substring “Jeevan” appears in the given string."
   ]
  },
  {
   "cell_type": "code",
   "execution_count": 21,
   "id": "1b734430",
   "metadata": {},
   "outputs": [
    {
     "name": "stdout",
     "output_type": "stream",
     "text": [
      "Jeevan appeared 2 times\n"
     ]
    }
   ],
   "source": [
    "str_x = \"Jeevan is Data Scientist. And Jeevan is Data science coach as well\"\n",
    "print(f'Jeevan appeared {str_x.count(\"Jeevan\")} times')"
   ]
  },
  {
   "cell_type": "markdown",
   "id": "ce34f6dd",
   "metadata": {},
   "source": [
    "### Exercise 8: Print the following pattern\n"
   ]
  },
  {
   "cell_type": "raw",
   "id": "6a06f2b2",
   "metadata": {},
   "source": [
    "1 \n",
    "2 2 \n",
    "3 3 3 \n",
    "4 4 4 4 \n",
    "5 5 5 5 5"
   ]
  },
  {
   "cell_type": "code",
   "execution_count": 25,
   "id": "7af8f5e2",
   "metadata": {},
   "outputs": [
    {
     "name": "stdout",
     "output_type": "stream",
     "text": [
      "1 \n",
      "2 2 \n",
      "3 3 3 \n",
      "4 4 4 4 \n",
      "5 5 5 5 5 \n"
     ]
    }
   ],
   "source": [
    "for i in range(5):\n",
    "    for j in range(i+1):\n",
    "        print(i+1,end=' ')\n",
    "    print('')"
   ]
  },
  {
   "cell_type": "markdown",
   "id": "8f0bded9",
   "metadata": {},
   "source": [
    "### Exercise 9: Check Palindrome Number\n",
    "Write a program to check if the given number is a palindrome number.\n",
    "\n",
    "A palindrome number is a number that is same after reverse. For example 545, is the palindrome numbers"
   ]
  },
  {
   "cell_type": "code",
   "execution_count": 2,
   "id": "604a27df",
   "metadata": {},
   "outputs": [
    {
     "name": "stdout",
     "output_type": "stream",
     "text": [
      "Original Number 121\n",
      "Yes. Given Number is Palindrome Number\n",
      "Original Number 125\n",
      "No. Given Number is Not Palindrome Number\n",
      "Original Number 545\n",
      "Yes. Given Number is Palindrome Number\n"
     ]
    }
   ],
   "source": [
    "# Simple way of writing the code\n",
    "\n",
    "def palindrome(a):\n",
    "    print(f'Original Number {a}')\n",
    "    if a==int(str(a)[::-1]):\n",
    "        print('Yes. Given Number is Palindrome Number')\n",
    "    else:\n",
    "        print('No. Given Number is Not Palindrome Number')\n",
    "        \n",
    "palindrome(121)\n",
    "palindrome(125)\n",
    "palindrome(545)"
   ]
  },
  {
   "cell_type": "code",
   "execution_count": 35,
   "id": "811b7ef7",
   "metadata": {},
   "outputs": [
    {
     "name": "stdout",
     "output_type": "stream",
     "text": [
      "Original Number 121\n",
      "Given Number is Palindrome\n",
      "Original Number 125\n",
      "Given Number is Not Palindrome\n",
      "Original Number 545\n",
      "Given Number is Palindrome\n"
     ]
    }
   ],
   "source": [
    "# Or you can write the code in different way as well\n",
    "\n",
    "def palindrome(number):\n",
    "    print(f'Original Number {number}')\n",
    "    original_num=number\n",
    "    \n",
    "    # Now will reverse the given number\n",
    "    reverse_num=0\n",
    "    while number>0:\n",
    "        reminder=number%10\n",
    "        reverse_num=(reverse_num*10)+reminder\n",
    "        number=number//10\n",
    "        \n",
    "    # check numbers\n",
    "    if original_num ==reverse_num:\n",
    "        print('Given Number is Palindrome')\n",
    "    else:\n",
    "        print('Given Number is Not Palindrome')\n",
    "\n",
    "palindrome(121)\n",
    "palindrome(125)\n",
    "palindrome(545)"
   ]
  },
  {
   "cell_type": "markdown",
   "id": "76170234",
   "metadata": {},
   "source": [
    "### Exercise 10: Create a new list from a two list using the following condition\n",
    "    \n",
    "Create a new list from a two list using the following condition\n",
    "\n",
    "Given a two list of numbers, write a program to create a new list such that the new list should contain odd numbers from the first list and even numbers from the second list."
   ]
  },
  {
   "cell_type": "raw",
   "id": "b38e3b55",
   "metadata": {},
   "source": [
    "list1 = [10, 20, 25, 30, 35]\n",
    "list2 = [40, 45, 60, 75, 90]"
   ]
  },
  {
   "cell_type": "code",
   "execution_count": 38,
   "id": "4dc257f1",
   "metadata": {},
   "outputs": [
    {
     "name": "stdout",
     "output_type": "stream",
     "text": [
      "result list : [25, 35, 40, 60, 90]\n"
     ]
    }
   ],
   "source": [
    "list1 = [10, 20, 25, 30, 35]\n",
    "list2 = [40, 45, 60, 75, 90]\n",
    "\n",
    "output=[]\n",
    "for i in list1:\n",
    "    if i%2!=0:\n",
    "        output.append(i)\n",
    "for j in list2:\n",
    "    if j%2==0:\n",
    "        output.append(j)\n",
    "print(f'result list : {output}')"
   ]
  },
  {
   "cell_type": "markdown",
   "id": "0036811a",
   "metadata": {},
   "source": [
    "### Exercise 11: Write a Program to extract each digit from an integer in the reverse order.\n",
    "For example, If the given int is 7536, the output shall be “6 3 5 7“, with a space separating the digits."
   ]
  },
  {
   "cell_type": "code",
   "execution_count": 45,
   "id": "8313e57c",
   "metadata": {},
   "outputs": [
    {
     "data": {
      "text/plain": [
       "'6 3 5 7'"
      ]
     },
     "execution_count": 45,
     "metadata": {},
     "output_type": "execute_result"
    }
   ],
   "source": [
    "a=7536\n",
    "' '.join(str(a)[::-1])"
   ]
  },
  {
   "cell_type": "markdown",
   "id": "09282828",
   "metadata": {},
   "source": [
    "### Exercise 12: Calculate income tax for the given income by adhering to the below rules"
   ]
  },
  {
   "attachments": {
    "image.png": {
     "image/png": "[encoded data removed]"
    }
   },
   "cell_type": "markdown",
   "id": "6d105611",
   "metadata": {},
   "source": [
    "![image.png](attachment:image.png)"
   ]
  },
  {
   "cell_type": "markdown",
   "id": "3e4cd9ad",
   "metadata": {},
   "source": [
    "### Expected Output:\n",
    "\n",
    "For example, suppose the taxable income is 45000 the income tax payable is\n",
    "\n",
    "10000*0% + 10000*10%  + 25000*20% = $6000."
   ]
  },
  {
   "cell_type": "code",
   "execution_count": 57,
   "id": "6fbe1b30",
   "metadata": {},
   "outputs": [
    {
     "name": "stdout",
     "output_type": "stream",
     "text": [
      "6000.0\n"
     ]
    }
   ],
   "source": [
    "def tax_payable(a):\n",
    "    if a>20000:\n",
    "        print((a-20000)*.20+(10000*.1))\n",
    "    elif a<20000 and a>10000:\n",
    "        print(a*.1)\n",
    "    else:\n",
    "        print(0)\n",
    "tax_payable(45000)"
   ]
  },
  {
   "cell_type": "markdown",
   "id": "9d294baa",
   "metadata": {},
   "source": [
    "### Exercise 13: Print multiplication table form 1 to 10"
   ]
  },
  {
   "cell_type": "code",
   "execution_count": 59,
   "id": "0e2bfbce",
   "metadata": {},
   "outputs": [
    {
     "name": "stdout",
     "output_type": "stream",
     "text": [
      "1 2 3 4 5 6 7 8 9 10  \n",
      "2 4 6 8 10 12 14 16 18 20  \n",
      "3 6 9 12 15 18 21 24 27 30  \n",
      "4 8 12 16 20 24 28 32 36 40  \n",
      "5 10 15 20 25 30 35 40 45 50  \n",
      "6 12 18 24 30 36 42 48 54 60  \n",
      "7 14 21 28 35 42 49 56 63 70  \n",
      "8 16 24 32 40 48 56 64 72 80  \n",
      "9 18 27 36 45 54 63 72 81 90  \n",
      "10 20 30 40 50 60 70 80 90 100  \n"
     ]
    }
   ],
   "source": [
    "for i in range(1,11):\n",
    "    for j in range(1,11):\n",
    "        print(i*j,end=' ')\n",
    "    print(' ')"
   ]
  },
  {
   "cell_type": "markdown",
   "id": "8572ca0a",
   "metadata": {},
   "source": [
    "### Exercise 14: Print downward Half-Pyramid Pattern with Star (asterisk)"
   ]
  },
  {
   "cell_type": "raw",
   "id": "f13728a6",
   "metadata": {},
   "source": [
    "* * * * * \n",
    "* * * * \n",
    "* * * \n",
    "* * \n",
    "*"
   ]
  },
  {
   "cell_type": "code",
   "execution_count": 60,
   "id": "b61ad9f0",
   "metadata": {},
   "outputs": [
    {
     "name": "stdout",
     "output_type": "stream",
     "text": [
      "* * * * * \n",
      "* * * * \n",
      "* * * \n",
      "* * \n",
      "* \n"
     ]
    }
   ],
   "source": [
    "for i in range(5):\n",
    "    for j in range(5-i):\n",
    "        print('*',end=' ')\n",
    "    print('')"
   ]
  },
  {
   "cell_type": "markdown",
   "id": "e3a2d072",
   "metadata": {},
   "source": [
    "### Exercise 15: Write a function called exponent(base, exp) that returns an int value of base raises to the power of exp.\n",
    "Note here exp is a non-negative integer, and the base is an integer."
   ]
  },
  {
   "cell_type": "code",
   "execution_count": 64,
   "id": "1c30cc93",
   "metadata": {},
   "outputs": [
    {
     "name": "stdout",
     "output_type": "stream",
     "text": [
      "2 raises to the power of 5 = 32\n"
     ]
    }
   ],
   "source": [
    "def exponent(base,exp):\n",
    "    print(f'{base} raises to the power of {exp} = {base**exp}')\n",
    "exponent(2,5)"
   ]
  },
  {
   "cell_type": "markdown",
   "id": "26c0383b",
   "metadata": {},
   "source": [
    "## Python Input and Output Exercise"
   ]
  },
  {
   "cell_type": "markdown",
   "id": "0e342fc3",
   "metadata": {},
   "source": [
    "### Exercise 1: Accept numbers from a user\n",
    "Write a program to accept two numbers from the user and calculate multiplication"
   ]
  },
  {
   "cell_type": "code",
   "execution_count": 66,
   "id": "21b812bd",
   "metadata": {},
   "outputs": [
    {
     "name": "stdout",
     "output_type": "stream",
     "text": [
      "Enter the number10\n",
      "Enter the number12\n",
      "The Output is = 120\n"
     ]
    }
   ],
   "source": [
    "a=int(input('Enter the number'))\n",
    "b=int(input('Enter the number'))\n",
    "print('The Output is =', a*b)"
   ]
  },
  {
   "cell_type": "markdown",
   "id": "c4a84956",
   "metadata": {},
   "source": [
    "### Exercise 2: Display three string “Name”, “Is”, “Jeevan” as “Name** Is **Jeevan”"
   ]
  },
  {
   "cell_type": "code",
   "execution_count": 70,
   "id": "8efd6bed",
   "metadata": {},
   "outputs": [
    {
     "name": "stdout",
     "output_type": "stream",
     "text": [
      "Name**is**Jeevan\n"
     ]
    }
   ],
   "source": [
    "data=('Name','is','Jeevan')\n",
    "print('**'.join(data))"
   ]
  },
  {
   "cell_type": "markdown",
   "id": "f03ae39e",
   "metadata": {},
   "source": [
    "### Exercise 3: Convert Decimal number to octal using print() output formatting"
   ]
  },
  {
   "cell_type": "code",
   "execution_count": 71,
   "id": "c9df3e03",
   "metadata": {},
   "outputs": [
    {
     "data": {
      "text/plain": [
       "'0o10'"
      ]
     },
     "execution_count": 71,
     "metadata": {},
     "output_type": "execute_result"
    }
   ],
   "source": [
    "# This is one way of writing \n",
    "num=8\n",
    "oct(num)"
   ]
  },
  {
   "cell_type": "code",
   "execution_count": 72,
   "id": "1528533e",
   "metadata": {},
   "outputs": [
    {
     "name": "stdout",
     "output_type": "stream",
     "text": [
      "10\n"
     ]
    }
   ],
   "source": [
    "# you can use different methods to print it\n",
    "num=8\n",
    "print('%o' %num)"
   ]
  },
  {
   "cell_type": "markdown",
   "id": "c378c5b3",
   "metadata": {},
   "source": [
    "### Exercise 4: Display float number with 2 decimal places using print()"
   ]
  },
  {
   "cell_type": "code",
   "execution_count": 74,
   "id": "8e49bc4b",
   "metadata": {},
   "outputs": [
    {
     "name": "stdout",
     "output_type": "stream",
     "text": [
      "232.36\n"
     ]
    }
   ],
   "source": [
    "num=232.355930\n",
    "print(round(num,2))"
   ]
  },
  {
   "cell_type": "markdown",
   "id": "fbfc0392",
   "metadata": {},
   "source": [
    "### Exercise 5: Accept a list of 5 float numbers as an input from the user"
   ]
  },
  {
   "cell_type": "code",
   "execution_count": 77,
   "id": "50249e36",
   "metadata": {},
   "outputs": [
    {
     "name": "stdout",
     "output_type": "stream",
     "text": [
      "enter the number12.44\n",
      "enter the number234.55\n",
      "enter the number232.5\n",
      "enter the number882.0\n",
      "enter the number34\n",
      "[12.44, 234.55, 232.5, 882.0, 34.0]\n"
     ]
    }
   ],
   "source": [
    "lis=[]\n",
    "for i in range(5):\n",
    "    lis.append(float(input('enter the number')))\n",
    "print(lis)"
   ]
  },
  {
   "cell_type": "markdown",
   "id": "4fc7c492",
   "metadata": {},
   "source": [
    "### Exercise 6: Accept any three string from one input() call"
   ]
  },
  {
   "cell_type": "code",
   "execution_count": 82,
   "id": "6e0f304e",
   "metadata": {},
   "outputs": [
    {
     "name": "stdout",
     "output_type": "stream",
     "text": [
      "Enter the NameJeevan, Navya,Kavya\n",
      "Name 1 = Jeevan\n",
      "Name 2 =  Navya\n",
      "Name 3 = Kavya\n"
     ]
    }
   ],
   "source": [
    "# will seperate using \",\"\n",
    "str1,str2,str3=input('Enter the Name').split(',')\n",
    "print('Name 1 =',str1)\n",
    "print('Name 2 =',str2)\n",
    "print('Name 3 =',str3)"
   ]
  },
  {
   "cell_type": "markdown",
   "id": "6b363531",
   "metadata": {},
   "source": [
    "### Python if else, for loop, and range() Exercises with Solutions"
   ]
  },
  {
   "cell_type": "markdown",
   "id": "591566c0",
   "metadata": {},
   "source": [
    "### Exercise 1: Print First 10 natural numbers using while loop"
   ]
  },
  {
   "cell_type": "code",
   "execution_count": 84,
   "id": "281ca4f8",
   "metadata": {},
   "outputs": [
    {
     "name": "stdout",
     "output_type": "stream",
     "text": [
      "1\n",
      "2\n",
      "3\n",
      "4\n",
      "5\n",
      "6\n",
      "7\n",
      "8\n",
      "9\n",
      "10\n"
     ]
    }
   ],
   "source": [
    "a=1\n",
    "while a<11:\n",
    "    print(a)\n",
    "    a+=1"
   ]
  },
  {
   "cell_type": "markdown",
   "id": "c145b01d",
   "metadata": {},
   "source": [
    "### Exercise 2: Print the following pattern"
   ]
  },
  {
   "cell_type": "raw",
   "id": "e69fb348",
   "metadata": {},
   "source": [
    "1 \n",
    "1 2 \n",
    "1 2 3 \n",
    "1 2 3 4 \n",
    "1 2 3 4 5"
   ]
  },
  {
   "cell_type": "code",
   "execution_count": 85,
   "id": "3a30968a",
   "metadata": {},
   "outputs": [
    {
     "name": "stdout",
     "output_type": "stream",
     "text": [
      "1  \n",
      "1 2  \n",
      "1 2 3  \n",
      "1 2 3 4  \n",
      "1 2 3 4 5  \n"
     ]
    }
   ],
   "source": [
    "for i in range(5):\n",
    "    for j in range(i+1):\n",
    "        print(j+1,end=' ')\n",
    "    print(' ')"
   ]
  },
  {
   "cell_type": "markdown",
   "id": "5ee404c7",
   "metadata": {},
   "source": [
    "### Exercise 3: Calculate the sum of all numbers from 1 to a given number"
   ]
  },
  {
   "cell_type": "code",
   "execution_count": 87,
   "id": "5865676d",
   "metadata": {},
   "outputs": [
    {
     "name": "stdout",
     "output_type": "stream",
     "text": [
      "55\n"
     ]
    }
   ],
   "source": [
    "def summing(a):\n",
    "    output=0\n",
    "    for i in range(1,a+1):\n",
    "        output+=i\n",
    "    print(output)\n",
    "summing(10)"
   ]
  },
  {
   "cell_type": "markdown",
   "id": "cc1a38e9",
   "metadata": {},
   "source": [
    "### Exercise 4: Write a program to print multiplication table of a given number"
   ]
  },
  {
   "cell_type": "code",
   "execution_count": 88,
   "id": "44bf3bee",
   "metadata": {},
   "outputs": [
    {
     "name": "stdout",
     "output_type": "stream",
     "text": [
      "Enter the number you want to be multiplied2\n",
      "2\n",
      "4\n",
      "6\n",
      "8\n",
      "10\n",
      "12\n",
      "14\n",
      "16\n",
      "18\n",
      "20\n"
     ]
    }
   ],
   "source": [
    "inp=int(input('Enter the number you want to be multiplied'))\n",
    "for i in range(1,11):\n",
    "    print(i*inp)"
   ]
  },
  {
   "cell_type": "markdown",
   "id": "f4516ecc",
   "metadata": {},
   "source": [
    "### Exercise 4: Write a program to print multiplication table of a given number\n",
    "Write a program to display only those numbers from a list that satisfy the following conditions\n",
    "\n",
    "The number must be divisible by five\n",
    "If the number is greater than 150, then skip it and move to the next number\n",
    "If the number is greater than 500, then stop the loop\n",
    "\n",
    "numbers = [12, 75, 150, 180, 145, 525, 50]"
   ]
  },
  {
   "cell_type": "code",
   "execution_count": 91,
   "id": "32910b36",
   "metadata": {},
   "outputs": [
    {
     "name": "stdout",
     "output_type": "stream",
     "text": [
      "75\n",
      "150\n",
      "145\n"
     ]
    }
   ],
   "source": [
    "numbers = [12, 75, 150, 180, 145, 525, 50]\n",
    "for i in numbers:\n",
    "    if i>=500:\n",
    "        break\n",
    "    elif i>150:\n",
    "        continue\n",
    "    elif i%5==0:\n",
    "        print(i)\n",
    "    "
   ]
  },
  {
   "cell_type": "markdown",
   "id": "35300838",
   "metadata": {},
   "source": [
    "### Exercise 6: Count the total number of digits in a number\n",
    "For example, the number is 75869, so the output should be 5."
   ]
  },
  {
   "cell_type": "code",
   "execution_count": 93,
   "id": "019c0708",
   "metadata": {},
   "outputs": [
    {
     "name": "stdout",
     "output_type": "stream",
     "text": [
      "5\n"
     ]
    }
   ],
   "source": [
    "a=75869\n",
    "count=0\n",
    "while a>0:\n",
    "    count+=1\n",
    "    a//=10\n",
    "print(count)"
   ]
  },
  {
   "cell_type": "markdown",
   "id": "390402e6",
   "metadata": {},
   "source": [
    "### Exercise 7: Print the following pattern"
   ]
  },
  {
   "cell_type": "raw",
   "id": "d4c33039",
   "metadata": {},
   "source": [
    "5 4 3 2 1 \n",
    "4 3 2 1 \n",
    "3 2 1 \n",
    "2 1 \n",
    "1"
   ]
  },
  {
   "cell_type": "code",
   "execution_count": 100,
   "id": "3f0e7792",
   "metadata": {},
   "outputs": [
    {
     "name": "stdout",
     "output_type": "stream",
     "text": [
      "5 4 3 2 1 \n",
      "4 3 2 1 \n",
      "3 2 1 \n",
      "2 1 \n",
      "1 \n"
     ]
    }
   ],
   "source": [
    "for i in range(5):\n",
    "    for j in range(5-i,0,-1):\n",
    "        print(j,end=' ')\n",
    "    print()"
   ]
  },
  {
   "cell_type": "markdown",
   "id": "d03dc5e3",
   "metadata": {},
   "source": [
    "### Exercise 8: Print list in reverse order using a loop"
   ]
  },
  {
   "cell_type": "code",
   "execution_count": 103,
   "id": "3401b939",
   "metadata": {},
   "outputs": [
    {
     "data": {
      "text/plain": [
       "[50, 40, 30, 20, 10]"
      ]
     },
     "execution_count": 103,
     "metadata": {},
     "output_type": "execute_result"
    }
   ],
   "source": [
    "# Now will use inbuilt function called reverse\n",
    "list1 = [10, 20, 30, 40, 50]\n",
    "list1.reverse()\n",
    "list1"
   ]
  },
  {
   "cell_type": "code",
   "execution_count": 104,
   "id": "dd11f89a",
   "metadata": {},
   "outputs": [
    {
     "name": "stdout",
     "output_type": "stream",
     "text": [
      "[50, 40, 30, 20, 10]\n"
     ]
    }
   ],
   "source": [
    "# we can perform the same using for loop\n",
    "list1 = [10, 20, 30, 40, 50]\n",
    "output=[i  for i in list1[::-1]]\n",
    "print(output)"
   ]
  },
  {
   "cell_type": "markdown",
   "id": "3e8d9c84",
   "metadata": {},
   "source": [
    "### Exercise 9: Display numbers from -10 to -1 using for loop"
   ]
  },
  {
   "cell_type": "code",
   "execution_count": 105,
   "id": "851b5eeb",
   "metadata": {},
   "outputs": [
    {
     "name": "stdout",
     "output_type": "stream",
     "text": [
      "-10\n",
      "-9\n",
      "-8\n",
      "-7\n",
      "-6\n",
      "-5\n",
      "-4\n",
      "-3\n",
      "-2\n",
      "-1\n"
     ]
    }
   ],
   "source": [
    "for i in range(-10,0):\n",
    "    print(i)"
   ]
  },
  {
   "cell_type": "markdown",
   "id": "477b7be6",
   "metadata": {},
   "source": [
    "### Exercise 10: Use else block to display a message “Done” after successful execution of for loop"
   ]
  },
  {
   "cell_type": "code",
   "execution_count": 106,
   "id": "22eb7b84",
   "metadata": {},
   "outputs": [
    {
     "name": "stdout",
     "output_type": "stream",
     "text": [
      "0\n",
      "1\n",
      "2\n",
      "3\n",
      "4\n",
      "Done!\n"
     ]
    }
   ],
   "source": [
    "for i in range(5):\n",
    "    print(i)\n",
    "else:\n",
    "    print('Done!')"
   ]
  },
  {
   "cell_type": "markdown",
   "id": "cbca8088",
   "metadata": {},
   "source": [
    "### Exercise 11: Write a program to display all prime numbers within a range\n",
    "\n",
    "for example the range is \n",
    "start = 25\n",
    "end = 50"
   ]
  },
  {
   "cell_type": "code",
   "execution_count": 108,
   "id": "e577e426",
   "metadata": {},
   "outputs": [
    {
     "name": "stdout",
     "output_type": "stream",
     "text": [
      "Prime Numbers between 25 and 50 are:\n",
      "29\n",
      "31\n",
      "37\n",
      "41\n",
      "43\n",
      "47\n"
     ]
    }
   ],
   "source": [
    "start=25\n",
    "stop=50\n",
    "print('Prime Numbers between 25 and 50 are:')\n",
    "for i in range(start,stop):\n",
    "    for j in range(2,i):\n",
    "        if i%j==0:\n",
    "            break\n",
    "    else:\n",
    "        print(i)\n"
   ]
  },
  {
   "cell_type": "markdown",
   "id": "c80bdd85",
   "metadata": {},
   "source": [
    "### Exercise 12: Display Fibonacci series up to 10 terms\n",
    "The Fibonacci Sequence is a series of numbers. The next number is found by adding up the two numbers before it. The first two numbers are 0 and 1.\n",
    "\n",
    "For example, 0, 1, 1, 2, 3, 5, 8, 13, 21. The next number in this series above is 13+21 = 34."
   ]
  },
  {
   "cell_type": "code",
   "execution_count": 120,
   "id": "ff66a1d4",
   "metadata": {},
   "outputs": [
    {
     "name": "stdout",
     "output_type": "stream",
     "text": [
      "0\n",
      "1\n",
      "1\n",
      "2\n",
      "3\n",
      "5\n",
      "8\n",
      "13\n",
      "21\n",
      "34\n"
     ]
    }
   ],
   "source": [
    "def fibonacci(n):\n",
    "    a=0\n",
    "    b=1\n",
    "    if n==0:\n",
    "        print(a)\n",
    "    elif n==1:\n",
    "        print(a)\n",
    "        print(b)\n",
    "    elif n>1:\n",
    "        print(a)\n",
    "        print(b)\n",
    "        for i in range(n-2):\n",
    "            c=a+b\n",
    "            print(c)\n",
    "            a=b\n",
    "            b=c\n",
    "            \n",
    "fibonacci(10)"
   ]
  },
  {
   "cell_type": "code",
   "execution_count": 121,
   "id": "5f058bb5",
   "metadata": {},
   "outputs": [
    {
     "name": "stdout",
     "output_type": "stream",
     "text": [
      "0\n",
      "1\n",
      "1\n",
      "2\n",
      "3\n"
     ]
    }
   ],
   "source": [
    "fibonacci(5)"
   ]
  },
  {
   "cell_type": "markdown",
   "id": "c1a18bbc",
   "metadata": {},
   "source": [
    "### Exercise 13: Find the factorial of a given number\n",
    "Write a program to use the loop to find the factorial of a given number."
   ]
  },
  {
   "cell_type": "code",
   "execution_count": 124,
   "id": "e2317c12",
   "metadata": {},
   "outputs": [
    {
     "name": "stdout",
     "output_type": "stream",
     "text": [
      "120\n"
     ]
    }
   ],
   "source": [
    "def factorial(n):\n",
    "    output=1\n",
    "    while n>0:\n",
    "        output*=n\n",
    "        n-=1\n",
    "    print(output)\n",
    "factorial(5)"
   ]
  },
  {
   "cell_type": "markdown",
   "id": "34433e66",
   "metadata": {},
   "source": [
    "### Exercise 14: Reverse a given integer number\n",
    "Number=76542"
   ]
  },
  {
   "cell_type": "code",
   "execution_count": 126,
   "id": "d400b20e",
   "metadata": {},
   "outputs": [
    {
     "name": "stdout",
     "output_type": "stream",
     "text": [
      "24567\n"
     ]
    }
   ],
   "source": [
    "number=76542\n",
    "output=int(str(number)[::-1])\n",
    "print(output)"
   ]
  },
  {
   "cell_type": "markdown",
   "id": "16f44f87",
   "metadata": {},
   "source": [
    "### Exercise 15: Use a loop to display elements from a given list present at odd index positions\n",
    "my_list = [10, 20, 30, 40, 50, 60, 70, 80, 90, 100]"
   ]
  },
  {
   "cell_type": "code",
   "execution_count": 129,
   "id": "14240ffe",
   "metadata": {},
   "outputs": [
    {
     "name": "stdout",
     "output_type": "stream",
     "text": [
      "20\n",
      "40\n",
      "60\n",
      "80\n",
      "100\n"
     ]
    }
   ],
   "source": [
    "my_list = [10, 20, 30, 40, 50, 60, 70, 80, 90, 100]\n",
    "for i in my_list[1::2]:\n",
    "    print(i)"
   ]
  },
  {
   "cell_type": "markdown",
   "id": "12719a75",
   "metadata": {},
   "source": [
    "### Exercise 16: Calculate the cube of all numbers from 1 to a given number\n",
    "Write a program to rint the cube of all numbers from 1 to a given number"
   ]
  },
  {
   "cell_type": "code",
   "execution_count": 131,
   "id": "0e09a4f0",
   "metadata": {},
   "outputs": [
    {
     "name": "stdout",
     "output_type": "stream",
     "text": [
      "curret Number is :1 and the cube is 1\n",
      "curret Number is :2 and the cube is 8\n",
      "curret Number is :3 and the cube is 27\n",
      "curret Number is :4 and the cube is 64\n",
      "curret Number is :5 and the cube is 125\n"
     ]
    }
   ],
   "source": [
    "def cube(n):\n",
    "    for i in range(1,n+1):\n",
    "        print(f'curret Number is :{i} and the cube is {i**3}')\n",
    "cube(5)"
   ]
  },
  {
   "cell_type": "markdown",
   "id": "cd6db049",
   "metadata": {},
   "source": [
    "### Exercise 17: Find the sum of the series upto n terms\n",
    "Write a program to calculate the sum of series up to n term. For example, if n =5 the series will become 2 + 22 + 222 + 2222 + 22222 = 24690"
   ]
  },
  {
   "cell_type": "code",
   "execution_count": 138,
   "id": "5063b18d",
   "metadata": {},
   "outputs": [
    {
     "name": "stdout",
     "output_type": "stream",
     "text": [
      "22222\n",
      "24690\n"
     ]
    }
   ],
   "source": [
    "def number_series(n):\n",
    "    output=0\n",
    "    series=0\n",
    "    for i in range(n):\n",
    "        series=(series*10)+2\n",
    "        output+=series\n",
    "    print(series)\n",
    "    print(output)\n",
    "number_series(5)"
   ]
  },
  {
   "cell_type": "markdown",
   "id": "5e8cc99d",
   "metadata": {},
   "source": [
    "### Exercise 18: Print the following pattern"
   ]
  },
  {
   "cell_type": "raw",
   "id": "70b00d1b",
   "metadata": {},
   "source": [
    "* \n",
    "* * \n",
    "* * * \n",
    "* * * * \n",
    "* * * * * \n",
    "* * * * \n",
    "* * * \n",
    "* * \n",
    "*"
   ]
  },
  {
   "cell_type": "code",
   "execution_count": 146,
   "id": "35d021f4",
   "metadata": {},
   "outputs": [
    {
     "name": "stdout",
     "output_type": "stream",
     "text": [
      "*  \n",
      "* *  \n",
      "* * *  \n",
      "* * * *  \n",
      "* * * * *  \n",
      "* * * *  \n",
      "* * *  \n",
      "* *  \n",
      "*  \n",
      " \n"
     ]
    }
   ],
   "source": [
    "for i in range(1,6):\n",
    "    for j in range(i):\n",
    "        print('*',end=' ')\n",
    "    print(' ')\n",
    "for a in range(5):\n",
    "    for b in range(4-a):\n",
    "        print('*',end=' ')\n",
    "    print(' ')"
   ]
  },
  {
   "cell_type": "markdown",
   "id": "fa1d6eb1",
   "metadata": {},
   "source": [
    "## Python Functions Exercise"
   ]
  },
  {
   "cell_type": "markdown",
   "id": "1230947f",
   "metadata": {},
   "source": [
    "### Exercise 1: Create a function in Python\n",
    "    \n",
    "Write a program to create a function that takes two arguments, name and age, and print their value."
   ]
  },
  {
   "cell_type": "code",
   "execution_count": 147,
   "id": "be69104e",
   "metadata": {},
   "outputs": [
    {
     "name": "stdout",
     "output_type": "stream",
     "text": [
      "Name = Jeevan\n",
      "Age = 24\n"
     ]
    }
   ],
   "source": [
    "def information(name,age):\n",
    "    print('Name =',name)\n",
    "    print('Age =',age)\n",
    "information('Jeevan',24)"
   ]
  },
  {
   "cell_type": "markdown",
   "id": "5c9a9af8",
   "metadata": {},
   "source": [
    "### Exercise 2: Create a function with variable length of arguments\n",
    "\n",
    "Write a program to create function func1() to accept a variable length of arguments and print their value.\n",
    "\n",
    "Note: Create a function in such a way that we can pass any number of arguments to this function, and the function should process them and display each argument’s value."
   ]
  },
  {
   "cell_type": "code",
   "execution_count": 151,
   "id": "e9b75028",
   "metadata": {},
   "outputs": [
    {
     "name": "stdout",
     "output_type": "stream",
     "text": [
      "20\n",
      "30\n",
      "40\n"
     ]
    }
   ],
   "source": [
    "def variable_len_arg(*n):\n",
    "    for i in n:\n",
    "        print(i)\n",
    "variable_len_arg(20,30,40)"
   ]
  },
  {
   "cell_type": "code",
   "execution_count": 152,
   "id": "e6bf47ed",
   "metadata": {},
   "outputs": [
    {
     "name": "stdout",
     "output_type": "stream",
     "text": [
      "80\n",
      "90\n"
     ]
    }
   ],
   "source": [
    "variable_len_arg(80,90)"
   ]
  },
  {
   "cell_type": "markdown",
   "id": "59be1576",
   "metadata": {},
   "source": [
    "### Exercise 3: Return multiple values from a function\n",
    "Write a program to create function calculation() such that it can accept two variables and calculate addition and subtraction. Also, it must return both addition and subtraction in a single return call."
   ]
  },
  {
   "cell_type": "code",
   "execution_count": 154,
   "id": "2a748e2b",
   "metadata": {},
   "outputs": [
    {
     "name": "stdout",
     "output_type": "stream",
     "text": [
      "Addition = 50\n",
      "Subtraction = 30\n"
     ]
    }
   ],
   "source": [
    "def calculation(a,b):\n",
    "    print('Addition =',a+b)\n",
    "    print('Subtraction =',a-b)\n",
    "calculation(40,10)"
   ]
  },
  {
   "cell_type": "markdown",
   "id": "f0679d89",
   "metadata": {},
   "source": [
    "### Exercise 4: Create a function with a default argument\n",
    "Write a program to create a function show_employee() using the following conditions.\n",
    "\n",
    "It should accept the employee’s name and salary and display both.\n",
    "If the salary is missing in the function call then assign default value 9000 to salary"
   ]
  },
  {
   "cell_type": "code",
   "execution_count": 155,
   "id": "3f905d2a",
   "metadata": {},
   "outputs": [
    {
     "name": "stdout",
     "output_type": "stream",
     "text": [
      "Name = Jeevan\n",
      "Salary = 85000\n"
     ]
    }
   ],
   "source": [
    "def show_employee(name,salary=9000):\n",
    "    print('Name =',name)\n",
    "    print('Salary =',salary)\n",
    "show_employee('Jeevan',85000)"
   ]
  },
  {
   "cell_type": "code",
   "execution_count": 156,
   "id": "cd46929e",
   "metadata": {},
   "outputs": [
    {
     "name": "stdout",
     "output_type": "stream",
     "text": [
      "Name = monika\n",
      "Salary = 9000\n"
     ]
    }
   ],
   "source": [
    "show_employee('monika')"
   ]
  },
  {
   "cell_type": "markdown",
   "id": "a89781ec",
   "metadata": {},
   "source": [
    "### Exercise 5: Create an inner function to calculate the addition in the following way\n",
    "\n",
    "Create an outer function that will accept two parameters, a and b\n",
    "Create an inner function inside an outer function that will calculate the addition of a and b\n",
    "At last, an outer function will add 5 into addition and return it"
   ]
  },
  {
   "cell_type": "code",
   "execution_count": 158,
   "id": "51eb183c",
   "metadata": {},
   "outputs": [
    {
     "name": "stdout",
     "output_type": "stream",
     "text": [
      "20\n"
     ]
    }
   ],
   "source": [
    "# outer function\n",
    "def outer_func(a,b):\n",
    "    \n",
    "    # inner function\n",
    "    def addition(a,b):\n",
    "        return a+b\n",
    "    \n",
    "    # call inner function from outer function\n",
    "    add = addition(a,b)\n",
    "    # add 5 to the result\n",
    "    return add +5\n",
    "\n",
    "result=outer_func(5,10)\n",
    "print(result)"
   ]
  },
  {
   "cell_type": "markdown",
   "id": "86bc328e",
   "metadata": {},
   "source": [
    "### Exercise 6: Create a recursive function\n",
    "Write a program to create a recursive function to calculate the sum of numbers from 0 to 10.\n",
    "\n",
    "A recursive function is a function that calls itself again and again."
   ]
  },
  {
   "cell_type": "code",
   "execution_count": 162,
   "id": "444aba85",
   "metadata": {},
   "outputs": [
    {
     "name": "stdout",
     "output_type": "stream",
     "text": [
      "55\n"
     ]
    }
   ],
   "source": [
    "def recursive(num):\n",
    "    if num:\n",
    "        # call same function by reducing number by 1\n",
    "        return num + recursive(num-1)\n",
    "    else:\n",
    "        return 0\n",
    "result=recursive(10)\n",
    "print(result)"
   ]
  },
  {
   "cell_type": "code",
   "execution_count": 163,
   "id": "d1a8bcde",
   "metadata": {},
   "outputs": [
    {
     "name": "stdout",
     "output_type": "stream",
     "text": [
      "55\n"
     ]
    }
   ],
   "source": [
    "# By using different method\n",
    "def recursive(n):\n",
    "    sum=0\n",
    "    while n>0:\n",
    "        sum+=n\n",
    "        n-=1\n",
    "    print(sum)\n",
    "recursive(10)"
   ]
  },
  {
   "cell_type": "markdown",
   "id": "a38741d8",
   "metadata": {},
   "source": [
    "### Exercise 7: Assign a different name to function and call it through the new name\n",
    "Below is the function display_student(name, age). Assign a new name show_student(name, age) to it and call it using the new name"
   ]
  },
  {
   "cell_type": "code",
   "execution_count": 165,
   "id": "9389ab31",
   "metadata": {},
   "outputs": [
    {
     "name": "stdout",
     "output_type": "stream",
     "text": [
      "Name = Jeevan\n",
      "Age = 24\n"
     ]
    }
   ],
   "source": [
    "def display_student(name,age):\n",
    "    print('Name =',name)\n",
    "    print('Age =',age)\n",
    "show_student=display_student\n",
    "show_student('Jeevan',24)"
   ]
  },
  {
   "cell_type": "markdown",
   "id": "ed1ae2d5",
   "metadata": {},
   "source": [
    "### Exercise 8: Generate a Python list of all the even numbers between 4 to 30"
   ]
  },
  {
   "cell_type": "code",
   "execution_count": 166,
   "id": "b4d6bdb2",
   "metadata": {},
   "outputs": [
    {
     "data": {
      "text/plain": [
       "[4, 6, 8, 10, 12, 14, 16, 18, 20, 22, 24, 26, 28, 30]"
      ]
     },
     "execution_count": 166,
     "metadata": {},
     "output_type": "execute_result"
    }
   ],
   "source": [
    "output=[i for i in range(4,31) if i%2==0]\n",
    "output"
   ]
  },
  {
   "cell_type": "markdown",
   "id": "1ed1c3bd",
   "metadata": {},
   "source": [
    "### Exercise 9: Find the largest item from a given list\n",
    "x = [4, 6, 8, 24, 12, 2]"
   ]
  },
  {
   "cell_type": "code",
   "execution_count": 167,
   "id": "ab299830",
   "metadata": {},
   "outputs": [
    {
     "data": {
      "text/plain": [
       "24"
      ]
     },
     "execution_count": 167,
     "metadata": {},
     "output_type": "execute_result"
    }
   ],
   "source": [
    "x = [4, 6, 8, 24, 12, 2]\n",
    "max(x)"
   ]
  },
  {
   "cell_type": "code",
   "execution_count": 168,
   "id": "e52ecf44",
   "metadata": {},
   "outputs": [
    {
     "name": "stdout",
     "output_type": "stream",
     "text": [
      "24\n"
     ]
    }
   ],
   "source": [
    "# Without using built in function\n",
    "x = [4, 6, 8, 24, 12, 2]\n",
    "maximum=0\n",
    "for i in x:\n",
    "    if i>maximum:\n",
    "        maximum=i\n",
    "print(maximum)"
   ]
  },
  {
   "cell_type": "markdown",
   "id": "c810f7c0",
   "metadata": {},
   "source": [
    "## Python String Exercise"
   ]
  },
  {
   "cell_type": "markdown",
   "id": "d0961959",
   "metadata": {},
   "source": [
    "### In this Program you will learn string operations, manipulations,slicing, and string functions"
   ]
  },
  {
   "cell_type": "markdown",
   "id": "0a6d37d1",
   "metadata": {},
   "source": [
    "### Exercise 1A: Create a string made of the first, middle and last character\n",
    "Write a program to create a new string made of an input string’s first, middle, and last character."
   ]
  },
  {
   "cell_type": "code",
   "execution_count": 170,
   "id": "412b6190",
   "metadata": {},
   "outputs": [
    {
     "name": "stdout",
     "output_type": "stream",
     "text": [
      "Its\n",
      "Jvn\n"
     ]
    }
   ],
   "source": [
    "def fml(name):\n",
    "    print(name[0]+name[len(name)//2]+name[-1])\n",
    "fml('Imarticus')\n",
    "fml('Jeevan')"
   ]
  },
  {
   "cell_type": "markdown",
   "id": "b46cbb5e",
   "metadata": {},
   "source": [
    "### Exercise 1B: Create a string made of the middle three characters\n",
    "Write a program to create a new string made of the middle three characters of an input string.\n",
    "\n"
   ]
  },
  {
   "cell_type": "code",
   "execution_count": 175,
   "id": "ef19ee5b",
   "metadata": {},
   "outputs": [
    {
     "name": "stdout",
     "output_type": "stream",
     "text": [
      "Dip\n",
      "Son\n"
     ]
    }
   ],
   "source": [
    "def mid(name):\n",
    "    print(name[len(name)//2-1]+name[len(name)//2]+name[len(name)//2+1])\n",
    "    \n",
    "mid('JhonDipPeta')\n",
    "mid('JaSonAy')"
   ]
  },
  {
   "cell_type": "markdown",
   "id": "b3ff8317",
   "metadata": {},
   "source": [
    "### Exercise 2: Append new string in the middle of a given string\n",
    "Given two strings, s1 and s2. Write a program to create a new string s3 by appending s2 in the middle of s1."
   ]
  },
  {
   "cell_type": "code",
   "execution_count": 178,
   "id": "1f93c1f2",
   "metadata": {},
   "outputs": [
    {
     "data": {
      "text/plain": [
       "'AuKellylt'"
      ]
     },
     "execution_count": 178,
     "metadata": {},
     "output_type": "execute_result"
    }
   ],
   "source": [
    "s1 = \"Ault\"\n",
    "s2 = \"Kelly\"\n",
    "s3 = s1[:len(s1)//2]+s2+s1[len(s1)//2:]\n",
    "s3"
   ]
  },
  {
   "cell_type": "markdown",
   "id": "3b145197",
   "metadata": {},
   "source": [
    "### Exercise 3: Create a new string made of the first, middle, and last characters of each input string\n",
    "Given two strings, s1 and s2, write a program to return a new string made of s1 and s2’s first, middle, and last characters."
   ]
  },
  {
   "cell_type": "code",
   "execution_count": 179,
   "id": "df670558",
   "metadata": {},
   "outputs": [
    {
     "name": "stdout",
     "output_type": "stream",
     "text": [
      "AJrpan\n"
     ]
    }
   ],
   "source": [
    "s1 = \"America\"\n",
    "s2 = \"Japan\"\n",
    "output=s1[0]+s2[0]+s1[len(s1)//2]+s2[len(s2)//2]+s1[-1]+s2[-1]\n",
    "print(output)"
   ]
  },
  {
   "cell_type": "markdown",
   "id": "3480789c",
   "metadata": {},
   "source": [
    "### Exercise 4: Arrange string characters such that lowercase letters should come first\n",
    "Given string contains a combination of the lower and upper case letters. Write a program to arrange the characters of a string so that all lowercase letters should come first."
   ]
  },
  {
   "cell_type": "code",
   "execution_count": 180,
   "id": "0e4adddb",
   "metadata": {},
   "outputs": [
    {
     "name": "stdout",
     "output_type": "stream",
     "text": [
      "maricITUS\n"
     ]
    }
   ],
   "source": [
    "str1='ImarTicUS'\n",
    "output=''\n",
    "for i in str1:\n",
    "    if i.islower():\n",
    "        output+=i\n",
    "for j in str1:\n",
    "    if j.isupper():\n",
    "        output+=j\n",
    "print(output)"
   ]
  },
  {
   "cell_type": "code",
   "execution_count": 183,
   "id": "4c4ad2f9",
   "metadata": {},
   "outputs": [
    {
     "name": "stdout",
     "output_type": "stream",
     "text": [
      "maricITUS\n"
     ]
    }
   ],
   "source": [
    "# You can perform the same operation in different way\n",
    "str1='ImarTicUS'\n",
    "lower=[]\n",
    "upper=[]\n",
    "for i in str1:\n",
    "    if i.islower():\n",
    "        lower.append(i)\n",
    "    else:\n",
    "        upper.append(i)\n",
    "output=''.join(lower+upper)\n",
    "print(output)"
   ]
  },
  {
   "cell_type": "markdown",
   "id": "0fa525b8",
   "metadata": {},
   "source": [
    "### Exercise 5: Count all letters, digits, and special symbols from a given string\n",
    "\n",
    "str1 = \"P@#yn26at^&i5ve\""
   ]
  },
  {
   "cell_type": "code",
   "execution_count": 184,
   "id": "907176bf",
   "metadata": {},
   "outputs": [
    {
     "name": "stdout",
     "output_type": "stream",
     "text": [
      "digits = 3\n",
      "Letters = 8\n",
      "Special_symbols = 4\n"
     ]
    }
   ],
   "source": [
    "str1 = \"P@#yn26at^&i5ve\"\n",
    "digits=0\n",
    "letters=0\n",
    "special_symbols=0\n",
    "\n",
    "for i in str1:\n",
    "    if i.isdigit():\n",
    "        digits+=1\n",
    "    elif i.isalpha():\n",
    "        letters+=1\n",
    "    else:\n",
    "        special_symbols+=1\n",
    "print('digits =',digits)\n",
    "print('Letters =',letters)\n",
    "print('Special_symbols =',special_symbols)"
   ]
  },
  {
   "cell_type": "markdown",
   "id": "67423f4f",
   "metadata": {},
   "source": [
    "### Exercise 6: Create a mixed String using the following rules\n",
    "Given two strings, s1 and s2. Write a program to create a new string s3 made of the first char of s1, then the last char of s2, Next, the second char of s1 and second last char of s2, and so on. Any leftover chars go at the end of the result."
   ]
  },
  {
   "cell_type": "code",
   "execution_count": 205,
   "id": "bd5b2e6e",
   "metadata": {},
   "outputs": [
    {
     "data": {
      "text/plain": [
       "{'A': 'z', 'b': 'y', 'c': 'X'}"
      ]
     },
     "execution_count": 205,
     "metadata": {},
     "output_type": "execute_result"
    }
   ],
   "source": [
    "s1='Abc'\n",
    "s2='Xyz'\n",
    "s3=dict(zip(s1,s2[::-1]))\n",
    "s3"
   ]
  },
  {
   "cell_type": "markdown",
   "id": "9688facd",
   "metadata": {},
   "source": [
    "### Exercise 7: String characters balance Test\n",
    "Write a program to check if two strings are balanced. For example, strings s1 and s2 are balanced if all the characters in the s1 are present in s2. The character’s position doesn’t matter"
   ]
  },
  {
   "cell_type": "code",
   "execution_count": 216,
   "id": "39808dce",
   "metadata": {},
   "outputs": [
    {
     "name": "stdout",
     "output_type": "stream",
     "text": [
      "True\n",
      "False\n"
     ]
    }
   ],
   "source": [
    "def check_bal(a,b):\n",
    "    flag=True\n",
    "    for i in a:\n",
    "        if i in b:\n",
    "            continue\n",
    "        else:\n",
    "            flag = False\n",
    "    return flag\n",
    "print(check_bal('is','Imarticus'))\n",
    "print(check_bal('Jea','Imarticus'))"
   ]
  },
  {
   "cell_type": "markdown",
   "id": "67d21b34",
   "metadata": {},
   "source": [
    "### Exercise 8: Find all occurrences of a substring in a given string by ignoring the case\n",
    "Write a program to find all occurrences of “USA” in a given string ignoring the case."
   ]
  },
  {
   "cell_type": "code",
   "execution_count": 225,
   "id": "63e2d680",
   "metadata": {},
   "outputs": [
    {
     "name": "stdout",
     "output_type": "stream",
     "text": [
      "The USA count is : 2\n"
     ]
    }
   ],
   "source": [
    "str1 = \"Welcome to USA. usa awesome, isn't it?\"\n",
    "str1=str1.lower()\n",
    "count=str1.count('usa')\n",
    "print('The USA count is :', count)"
   ]
  },
  {
   "cell_type": "markdown",
   "id": "9a419de3",
   "metadata": {},
   "source": [
    "### Exercise 9: Calculate the sum and average of the digits present in a string\n",
    "Given a string s1, write a program to return the sum and average of the digits that appear in the string, ignoring all other characters."
   ]
  },
  {
   "cell_type": "code",
   "execution_count": 231,
   "id": "2ae72e5e",
   "metadata": {},
   "outputs": [
    {
     "name": "stdout",
     "output_type": "stream",
     "text": [
      "Sum is =  38 Average is 6.333333333333333\n"
     ]
    }
   ],
   "source": [
    "str1 = \"PYnative29@#8496\"\n",
    "num=[]\n",
    "for i in str1:\n",
    "    if i.isdigit():\n",
    "        num.append(int(i))\n",
    "print('Sum is = ',sum(num), 'Average is',sum(num)/len(num))"
   ]
  },
  {
   "cell_type": "markdown",
   "id": "39ffffb8",
   "metadata": {},
   "source": [
    "### Exercise 10: Write a program to count occurrences of all characters within a string"
   ]
  },
  {
   "cell_type": "code",
   "execution_count": 235,
   "id": "38978fdd",
   "metadata": {},
   "outputs": [
    {
     "name": "stdout",
     "output_type": "stream",
     "text": [
      "{'A': 1, 'p': 2, 'l': 1, 'e': 1}\n"
     ]
    }
   ],
   "source": [
    "str1 = \"Apple\"\n",
    "dic={}\n",
    "for i in str1:\n",
    "    dic[i]=str1.count(i)\n",
    "print(dic)"
   ]
  },
  {
   "cell_type": "markdown",
   "id": "606581f9",
   "metadata": {},
   "source": [
    "### Exercise 11: Reverse a given string\n"
   ]
  },
  {
   "cell_type": "code",
   "execution_count": 236,
   "id": "b091f61b",
   "metadata": {},
   "outputs": [
    {
     "name": "stdout",
     "output_type": "stream",
     "text": [
      "sucitramI\n"
     ]
    }
   ],
   "source": [
    "str1='Imarticus'\n",
    "print(str1[::-1])"
   ]
  },
  {
   "cell_type": "markdown",
   "id": "0f001d74",
   "metadata": {},
   "source": [
    "### Exercise 12: Find the last position of a given substring\n",
    "Write a program to find the last position of a substring “Emma” in a given string."
   ]
  },
  {
   "cell_type": "code",
   "execution_count": 239,
   "id": "b108aae1",
   "metadata": {},
   "outputs": [
    {
     "name": "stdout",
     "output_type": "stream",
     "text": [
      "Last occurrence of Emma starts at index 43\n"
     ]
    }
   ],
   "source": [
    "str1 = \"Emma is a data scientist who knows Python. Emma works at google.\"\n",
    "print(f'Last occurrence of Emma starts at index {str1.rfind(\"Emma\")}')"
   ]
  },
  {
   "cell_type": "code",
   "execution_count": 240,
   "id": "5340c413",
   "metadata": {},
   "outputs": [
    {
     "data": {
      "text/plain": [
       "0"
      ]
     },
     "execution_count": 240,
     "metadata": {},
     "output_type": "execute_result"
    }
   ],
   "source": [
    "str1.find('Emma')"
   ]
  },
  {
   "cell_type": "markdown",
   "id": "68d14133",
   "metadata": {},
   "source": [
    "### Exercise 13: Split a string on hyphens\n",
    "Write a program to split a given string on hyphens and display each substring."
   ]
  },
  {
   "cell_type": "code",
   "execution_count": 241,
   "id": "ff0844ae",
   "metadata": {},
   "outputs": [
    {
     "name": "stdout",
     "output_type": "stream",
     "text": [
      "Jeevan\n",
      "is\n",
      "a\n",
      "data\n",
      "scientist\n"
     ]
    }
   ],
   "source": [
    "str1 = 'Jeevan-is-a-data-scientist'\n",
    "for i in str1.split('-'):\n",
    "    print(i)"
   ]
  },
  {
   "cell_type": "markdown",
   "id": "a0e08130",
   "metadata": {},
   "source": [
    "### Exercise 14: Remove empty strings from a list of strings"
   ]
  },
  {
   "cell_type": "code",
   "execution_count": 245,
   "id": "c70c5d19",
   "metadata": {},
   "outputs": [
    {
     "name": "stdout",
     "output_type": "stream",
     "text": [
      "Emma\n",
      "Jon\n",
      "Kelly\n",
      "Eric\n"
     ]
    }
   ],
   "source": [
    "str_list = [\"Emma\", \"Jon\", \"\", \"Kelly\", None, \"Eric\", \"\"]\n",
    "for i in str_list:\n",
    "    if i:\n",
    "        print(i)"
   ]
  },
  {
   "cell_type": "code",
   "execution_count": 246,
   "id": "4cc01df3",
   "metadata": {},
   "outputs": [
    {
     "name": "stdout",
     "output_type": "stream",
     "text": [
      "['Emma', 'Jon', 'Kelly', 'Eric']\n"
     ]
    }
   ],
   "source": [
    "# you can get the same output in different way\n",
    "\n",
    "str_list = [\"Emma\", \"Jon\", \"\", \"Kelly\", None, \"Eric\", \"\"]\n",
    "output=list(filter(None,str_list))\n",
    "print(output)"
   ]
  },
  {
   "cell_type": "markdown",
   "id": "43aabeb5",
   "metadata": {},
   "source": [
    "### Exercise 15: Remove special symbols / punctuation from a string"
   ]
  },
  {
   "cell_type": "code",
   "execution_count": 247,
   "id": "3e7ec87e",
   "metadata": {},
   "outputs": [
    {
     "name": "stdout",
     "output_type": "stream",
     "text": [
      "Original String is : /*Jon is @developer & musician\n",
      "Jon is developer  musician\n"
     ]
    }
   ],
   "source": [
    "import string\n",
    "str1 = \"/*Jon is @developer & musician\"\n",
    "print('Original String is :',str1)\n",
    "new_str=str1.translate(str.maketrans('','',string.punctuation))\n",
    "print(new_str)"
   ]
  },
  {
   "cell_type": "markdown",
   "id": "9e883d5e",
   "metadata": {},
   "source": [
    "### Exercise 16: Removal all characters from a string except integers\n",
    "str1 = 'I am 25 years and 10 months old'"
   ]
  },
  {
   "cell_type": "code",
   "execution_count": 249,
   "id": "b971a67c",
   "metadata": {},
   "outputs": [
    {
     "name": "stdout",
     "output_type": "stream",
     "text": [
      "2510\n"
     ]
    }
   ],
   "source": [
    "str1 = 'I am 25 years and 10 months old'\n",
    "output=''\n",
    "for i in str1:\n",
    "    if i.isdigit():\n",
    "        output+=i\n",
    "print(int(output))"
   ]
  },
  {
   "cell_type": "markdown",
   "id": "b9d1c794",
   "metadata": {},
   "source": [
    "### Exercise 17: Find words with both alphabets and numbers\n",
    "Write a program to find words with both alphabets and numbers from an input string.\n",
    "\n",
    "str1 = \"Jeevan25 is Data scientist50 and AI Expert\""
   ]
  },
  {
   "cell_type": "code",
   "execution_count": 259,
   "id": "6a2f8f2e",
   "metadata": {},
   "outputs": [
    {
     "name": "stdout",
     "output_type": "stream",
     "text": [
      "Jeevan25\n",
      "scientist50\n"
     ]
    }
   ],
   "source": [
    "str1 = \"Jeevan25 is Data scientist50 and AI Expert\"\n",
    "for item in str1.split():\n",
    "    if any(i.isalpha() for i in item) and any(i.isdigit() for i in item):\n",
    "        print(item)"
   ]
  },
  {
   "cell_type": "markdown",
   "id": "18f0ac9e",
   "metadata": {},
   "source": [
    "### Exercise 18: Replace each special symbol with # in the following string\n",
    "\n",
    "str1 = '/*Jon is @developer & musician!!'"
   ]
  },
  {
   "cell_type": "code",
   "execution_count": 262,
   "id": "8aa1cb8a",
   "metadata": {},
   "outputs": [
    {
     "name": "stdout",
     "output_type": "stream",
     "text": [
      "The Original String is = /*Jon is @developer & musician!!\n",
      "The string after replacement = ##Jon is #developer # musician##\n"
     ]
    }
   ],
   "source": [
    "import string\n",
    "str1 = '/*Jon is @developer & musician!!'\n",
    "print('The Original String is =',str1)\n",
    "\n",
    "# Replace Punctuations with #\n",
    "replace_char='#'\n",
    "\n",
    "for i in string.punctuation:\n",
    "    str1=str1.replace(i,replace_char)\n",
    "print('The string after replacement =',str1)"
   ]
  },
  {
   "cell_type": "markdown",
   "id": "df356b6d",
   "metadata": {},
   "source": [
    "## Python Data Structure Exercise"
   ]
  },
  {
   "cell_type": "markdown",
   "id": "7813e94c",
   "metadata": {},
   "source": [
    "### Exercise 1: Create a list by picking an odd-index items from the first list and even index items from the second\n",
    "Given two lists, l1 and l2, write a program to create a third list l3 by picking an odd-index element from the list l1 and even index elements from the list l2.\n",
    "\n",
    "l1 = [3, 6, 9, 12, 15, 18, 21]\n",
    "\n",
    "l2 = [4, 8, 12, 16, 20, 24, 28]"
   ]
  },
  {
   "cell_type": "code",
   "execution_count": 263,
   "id": "94089b03",
   "metadata": {},
   "outputs": [
    {
     "name": "stdout",
     "output_type": "stream",
     "text": [
      "[6, 12, 18, 4, 12, 20, 28]\n"
     ]
    }
   ],
   "source": [
    "l1 = [3, 6, 9, 12, 15, 18, 21]\n",
    "l2 = [4, 8, 12, 16, 20, 24, 28]\n",
    "l3 = []\n",
    "for i in l1[1::2]:\n",
    "    l3.append(i)\n",
    "for j in l2[::2]:\n",
    "    l3.append(j)\n",
    "print(l3)"
   ]
  },
  {
   "cell_type": "markdown",
   "id": "bf189071",
   "metadata": {},
   "source": [
    "### Exercise 2: Remove and add item in a list\n",
    "Write a program to remove the item present at index 4 and add it to the 2nd position and at the end of the list.\n",
    "\n",
    "list1 = [54, 44, 27, 79, 91, 41]"
   ]
  },
  {
   "cell_type": "code",
   "execution_count": 264,
   "id": "2ca66363",
   "metadata": {},
   "outputs": [
    {
     "name": "stdout",
     "output_type": "stream",
     "text": [
      "Before removing element at index 4  [54, 44, 27, 79, 91, 41]\n",
      "After removing element at index 4 [54, 44, 27, 79, 41]\n",
      "After inserting in to 2nd and last index element [54, 44, 91, 27, 79, 41, 91]\n"
     ]
    }
   ],
   "source": [
    "list1 = [54, 44, 27, 79, 91, 41]\n",
    "print('Before removing element at index 4 ',list1)\n",
    "a=list1.pop(4)\n",
    "print('After removing element at index 4', list1)\n",
    "list1.insert(2,a)\n",
    "list1.append(a)\n",
    "print('After inserting in to 2nd and last index element',list1)"
   ]
  },
  {
   "cell_type": "markdown",
   "id": "2bbf2bc9",
   "metadata": {},
   "source": [
    "### Exercise 3: Slice list into 3 equal chunks and reverse each chunk\n",
    "\n",
    "sample_list = [11, 45, 8, 23, 14, 12, 78, 45, 89]"
   ]
  },
  {
   "cell_type": "code",
   "execution_count": 269,
   "id": "0fd39415",
   "metadata": {},
   "outputs": [
    {
     "name": "stdout",
     "output_type": "stream",
     "text": [
      "chunk1=  [11, 45, 8]\n",
      "After Reversing it = [8, 45, 11]\n",
      "chunk2= [23, 14, 12]\n",
      "After Reversing it = [12, 14, 23]\n",
      "chunk3= [78, 45, 89]\n",
      "After Reversing it = [89, 45, 78]\n"
     ]
    }
   ],
   "source": [
    "sample_list = [11, 45, 8, 23, 14, 12, 78, 45, 89]\n",
    "chunk1=sample_list[0:len(sample_list)//3]\n",
    "print('chunk1= ',chunk1)\n",
    "print('After Reversing it =',chunk1[::-1])\n",
    "chunk2=sample_list[len(sample_list)//3:len(sample_list)//3+len(sample_list)//3]\n",
    "print('chunk2=',chunk2)\n",
    "print('After Reversing it =',chunk2[::-1])\n",
    "chunk3=sample_list[len(sample_list)//3+len(sample_list)//3:]\n",
    "print('chunk3=',chunk3)\n",
    "print('After Reversing it =',chunk3[::-1])"
   ]
  },
  {
   "cell_type": "markdown",
   "id": "7517e2fd",
   "metadata": {},
   "source": [
    "### Exercise 4: Count the occurrence of each element from a list\n",
    "Write a program to iterate a given list and count the occurrence of each element and create a dictionary to show the count of each element."
   ]
  },
  {
   "cell_type": "code",
   "execution_count": 270,
   "id": "e39a0498",
   "metadata": {},
   "outputs": [
    {
     "name": "stdout",
     "output_type": "stream",
     "text": [
      "Printing count of each item  {11: 2, 45: 3, 8: 1, 23: 2, 89: 1}\n"
     ]
    }
   ],
   "source": [
    "sample_list = [11, 45, 8, 11, 23, 45, 23, 45, 89]\n",
    "dic={}\n",
    "for i in sample_list:\n",
    "    dic[i]=sample_list.count(i)\n",
    "print('Printing count of each item ',dic)"
   ]
  },
  {
   "cell_type": "markdown",
   "id": "bbfd1772",
   "metadata": {},
   "source": [
    "### Exercise 5: Create a Python set such that it shows the element from both lists in a pair\n",
    "\n",
    "first_list = [2, 3, 4, 5, 6, 7, 8]\n",
    "\n",
    "second_list = [4, 9, 16, 25, 36, 49, 64]"
   ]
  },
  {
   "cell_type": "code",
   "execution_count": 274,
   "id": "2c2f7ae9",
   "metadata": {},
   "outputs": [
    {
     "name": "stdout",
     "output_type": "stream",
     "text": [
      "Result is  {(7, 49), (2, 4), (4, 16), (8, 64), (6, 36), (3, 9), (5, 25)}\n"
     ]
    }
   ],
   "source": [
    "first_list = [2, 3, 4, 5, 6, 7, 8]\n",
    "second_list = [4, 9, 16, 25, 36, 49, 64]\n",
    "print('Result is ',set(zip(first_list,second_list)))"
   ]
  },
  {
   "cell_type": "markdown",
   "id": "44915746",
   "metadata": {},
   "source": [
    "### Exercise 6: Find the intersection (common) of two sets and remove those elements from the first set\n",
    "\n",
    "first_set = {23, 42, 65, 57, 78, 83, 29}\n",
    "\n",
    "second_set = {57, 83, 29, 67, 73, 43, 48}"
   ]
  },
  {
   "cell_type": "code",
   "execution_count": 282,
   "id": "5d25c17e",
   "metadata": {},
   "outputs": [
    {
     "name": "stdout",
     "output_type": "stream",
     "text": [
      "Intersection is  {57, 83, 29}\n",
      "First Set after removing common element {65, 42, 78, 23}\n"
     ]
    }
   ],
   "source": [
    "first_set = {23, 42, 65, 57, 78, 83, 29}\n",
    "second_set = {57, 83, 29, 67, 73, 43, 48}\n",
    "intersection=first_set.intersection(second_set)\n",
    "print('Intersection is ',intersection)\n",
    "rce=first_set-second_set\n",
    "print('First Set after removing common element',rce)"
   ]
  },
  {
   "cell_type": "markdown",
   "id": "cadd3832",
   "metadata": {},
   "source": [
    "### Exercise 7: Checks if one set is a subset or superset of another set. If found, delete all elements from that set\n",
    "first_set = {27, 43, 34}\n",
    "\n",
    "second_set = {34, 93, 22, 27, 43, 53, 48}"
   ]
  },
  {
   "cell_type": "code",
   "execution_count": 294,
   "id": "35e38d1d",
   "metadata": {},
   "outputs": [
    {
     "name": "stdout",
     "output_type": "stream",
     "text": [
      "First Set  {27, 34, 43}\n",
      "Second Set  {48, 34, 53, 22, 27, 43, 93}\n",
      "\n",
      "First set is subset of second set - True\n",
      "Second set is subset of First set - False\n",
      "\n",
      "First Set is superset of Second set - False\n",
      "Second Set is superset of first set - True\n",
      "\n",
      "First Set set()\n",
      "Second Set {48, 34, 53, 22, 27, 43, 93}\n"
     ]
    }
   ],
   "source": [
    "first_set = {27, 43, 34}\n",
    "second_set = {34, 93, 22, 27, 43, 53, 48}\n",
    "\n",
    "print('First Set ',first_set)\n",
    "print('Second Set ',second_set)\n",
    "print()\n",
    "print('First set is subset of second set -',first_set.issubset(second_set))\n",
    "print('Second set is subset of First set -',second_set.issubset(first_set))      \n",
    "print()\n",
    "print('First Set is superset of Second set -',first_set.issuperset(second_set))\n",
    "print('Second Set is superset of first set -',second_set.issuperset(first_set))\n",
    "print()\n",
    "if first_set.issubset(second_set):\n",
    "    first_set.clear()\n",
    "if second_set.issubset(first_set):\n",
    "    second_set.clear()\n",
    "\n",
    "print('First Set', first_set)\n",
    "print('Second Set', second_set)"
   ]
  },
  {
   "cell_type": "markdown",
   "id": "6726e315",
   "metadata": {},
   "source": [
    "### Exercise 8: Iterate a given list and check if a given element exists as a key’s value in a dictionary. If not, delete it from the list\n",
    "    \n",
    "roll_number = [47, 64, 69, 37, 76, 83, 95, 97]\n",
    "\n",
    "sample_dict = {'Jhon':47, 'Emma':69, 'Kelly':76, 'Jason':97}"
   ]
  },
  {
   "cell_type": "code",
   "execution_count": 295,
   "id": "8519797d",
   "metadata": {},
   "outputs": [
    {
     "name": "stdout",
     "output_type": "stream",
     "text": [
      "After removing unwanted elements from list = [47, 69, 76, 97]\n"
     ]
    }
   ],
   "source": [
    "roll_number = [47, 64, 69, 37, 76, 83, 95, 97]\n",
    "sample_dict = {'Jhon':47, 'Emma':69, 'Kelly':76, 'Jason':97}\n",
    "new_roll_number=[]\n",
    "for i in sample_dict.values():\n",
    "    if i in roll_number:\n",
    "        new_roll_number.append(i)\n",
    "print(\"After removing unwanted elements from list =\",new_roll_number)"
   ]
  },
  {
   "cell_type": "code",
   "execution_count": 297,
   "id": "d21912eb",
   "metadata": {},
   "outputs": [
    {
     "name": "stdout",
     "output_type": "stream",
     "text": [
      "After removing unwanted elements from list =  [47, 69, 76, 97]\n"
     ]
    }
   ],
   "source": [
    "# you can write the same by using list comprehension \n",
    "roll_number = [47, 64, 69, 37, 76, 83, 95, 97]\n",
    "sample_dict = {'Jhon':47, 'Emma':69, 'Kelly':76, 'Jason':97}\n",
    "roll_number= [i  for i in roll_number if i in sample_dict.values()]\n",
    "print('After removing unwanted elements from list = ',roll_number)"
   ]
  },
  {
   "cell_type": "markdown",
   "id": "c7917c60",
   "metadata": {},
   "source": [
    "### Exercise 9: Get all values from the dictionary and add them to a list but don’t add duplicates"
   ]
  },
  {
   "cell_type": "code",
   "execution_count": 306,
   "id": "dcaaa035",
   "metadata": {},
   "outputs": [
    {
     "data": {
      "text/plain": [
       "[44, 47, 52, 53, 54]"
      ]
     },
     "execution_count": 306,
     "metadata": {},
     "output_type": "execute_result"
    }
   ],
   "source": [
    "speed = {'jan': 47, 'feb': 52, 'march': 47, 'April': 44, 'May': 52, 'June': 53, 'july': 54, 'Aug': 44, 'Sept': 54}\n",
    "output=[]\n",
    "for i in speed.values():\n",
    "    output.append(i)\n",
    "list(set(output))"
   ]
  },
  {
   "cell_type": "markdown",
   "id": "26e50108",
   "metadata": {},
   "source": [
    "### Exercise 10: Remove duplicates from a list and create a tuple and find the minimum and maximum number\n",
    "\n",
    "sample_list = [87, 45, 41, 65, 94, 41, 99, 94]"
   ]
  },
  {
   "cell_type": "code",
   "execution_count": 309,
   "id": "8815406d",
   "metadata": {},
   "outputs": [
    {
     "name": "stdout",
     "output_type": "stream",
     "text": [
      "Original List  [87, 45, 41, 65, 94, 41, 99, 94]\n",
      "Unique items  [65, 99, 41, 45, 87, 94]\n",
      "tuple  (65, 99, 41, 45, 87, 94)\n",
      "min : 41\n",
      "max : 99\n"
     ]
    }
   ],
   "source": [
    "sample_list = [87, 45, 41, 65, 94, 41, 99, 94]\n",
    "print('Original List ',sample_list)\n",
    "print('Unique items ',list(set(sample_list)))\n",
    "tup=tuple(list(set(sample_list)))\n",
    "print('tuple ',tup)\n",
    "print('min :',min(tup))\n",
    "print('max :',max(tup))"
   ]
  },
  {
   "cell_type": "markdown",
   "id": "aba7bb59",
   "metadata": {},
   "source": [
    "## Python List Exercise \n",
    "you will learn \n",
    "1. list operations and manipulations\n",
    "2. list functions\n",
    "3. list slicing \n",
    "4. list comprehension"
   ]
  },
  {
   "cell_type": "markdown",
   "id": "37554735",
   "metadata": {},
   "source": [
    "### Exercise 1: Reverse a list in Python\n",
    "list1 = [100, 200, 300, 400, 500]"
   ]
  },
  {
   "cell_type": "code",
   "execution_count": 310,
   "id": "d842d1c8",
   "metadata": {},
   "outputs": [
    {
     "name": "stdout",
     "output_type": "stream",
     "text": [
      "Output = [500, 400, 300, 200, 100]\n"
     ]
    }
   ],
   "source": [
    "list1 = [100, 200, 300, 400, 500]\n",
    "print('Output =',list1[::-1])"
   ]
  },
  {
   "cell_type": "markdown",
   "id": "3d425045",
   "metadata": {},
   "source": [
    "### Exercise 2: Concatenate two lists index-wise\n",
    "Write a program to add two lists index-wise. Create a new list that contains the 0th index item from both the list, then the 1st index item, and so on till the last element. any leftover items will get added at the end of the new list.\n",
    "\n",
    "list1 = [\"M\", \"na\", \"i\", \"Ke\"]\n",
    "\n",
    "list2 = [\"y\", \"me\", \"s\", \"lly\"]"
   ]
  },
  {
   "cell_type": "code",
   "execution_count": 313,
   "id": "7c7fb0eb",
   "metadata": {},
   "outputs": [
    {
     "name": "stdout",
     "output_type": "stream",
     "text": [
      "['My', 'name', 'is', 'Kelly']\n"
     ]
    }
   ],
   "source": [
    "list1 = [\"M\", \"na\", \"i\", \"Ke\"]\n",
    "list2 = [\"y\", \"me\", \"s\", \"lly\"]\n",
    "output=[i+j for i,j in zip(list1,list2)]\n",
    "print(output)"
   ]
  },
  {
   "cell_type": "markdown",
   "id": "a435bd45",
   "metadata": {},
   "source": [
    "### Exercise 3: Turn every item of a list into its square\n",
    "Given a list of numbers. write a program to turn every item of a list into its square."
   ]
  },
  {
   "cell_type": "code",
   "execution_count": 316,
   "id": "3146e33d",
   "metadata": {},
   "outputs": [
    {
     "name": "stdout",
     "output_type": "stream",
     "text": [
      "[1, 4, 9, 16, 25, 36, 49]\n"
     ]
    }
   ],
   "source": [
    "numbers = [1, 2, 3, 4, 5, 6, 7]\n",
    "output=[i**2  for i in numbers]\n",
    "print(output)"
   ]
  },
  {
   "cell_type": "markdown",
   "id": "3726ac8d",
   "metadata": {},
   "source": [
    "### Exercise 4: Concatenate two lists in the following order"
   ]
  },
  {
   "cell_type": "code",
   "execution_count": 324,
   "id": "90dd3f0a",
   "metadata": {},
   "outputs": [
    {
     "name": "stdout",
     "output_type": "stream",
     "text": [
      "['Hello Dear', 'Hello Sir', 'take Dear', 'take Sir']\n"
     ]
    }
   ],
   "source": [
    "result=[]\n",
    "for i in list1:\n",
    "    for j in list2:\n",
    "        result.append(i+j)\n",
    "print(result)"
   ]
  },
  {
   "cell_type": "code",
   "execution_count": 325,
   "id": "a74029f5",
   "metadata": {},
   "outputs": [
    {
     "name": "stdout",
     "output_type": "stream",
     "text": [
      "['Hello Dear', 'Hello Sir', 'take Dear', 'take Sir']\n"
     ]
    }
   ],
   "source": [
    "# you can perform the same by using list comprehension\n",
    "list1 = [\"Hello \", \"take \"]\n",
    "list2 = [\"Dear\", \"Sir\"]\n",
    "output=[i+j  for i in list1 for j in list2]\n",
    "print(output)"
   ]
  },
  {
   "cell_type": "markdown",
   "id": "8119e878",
   "metadata": {},
   "source": [
    "### Exercise 5: Iterate both lists simultaneously\n",
    "Given a two Python list. Write a program to iterate both lists simultaneously and display items from list1 in original order and items from list2 in reverse order.\n",
    "\n",
    "list1 = [10, 20, 30, 40]\n",
    "\n",
    "list2 = [100, 200, 300, 400]"
   ]
  },
  {
   "cell_type": "code",
   "execution_count": 329,
   "id": "b9650c9d",
   "metadata": {},
   "outputs": [
    {
     "name": "stdout",
     "output_type": "stream",
     "text": [
      "10 400\n",
      "20 300\n",
      "30 200\n",
      "40 100\n"
     ]
    }
   ],
   "source": [
    "list1 = [10, 20, 30, 40]\n",
    "list2 = [100, 200, 300, 400]\n",
    "for i,j in zip(list1,list2[::-1]):\n",
    "    print(i,j)"
   ]
  },
  {
   "cell_type": "markdown",
   "id": "741c3dec",
   "metadata": {},
   "source": [
    "### Exercise 6: Remove empty strings from the list of strings\n",
    "list1 = [\"Mike\", \"\", \"Emma\", \"Kelly\", \"\", \"Brad\"]"
   ]
  },
  {
   "cell_type": "code",
   "execution_count": 337,
   "id": "8345bd40",
   "metadata": {},
   "outputs": [
    {
     "name": "stdout",
     "output_type": "stream",
     "text": [
      "['Mike', 'Emma', 'Kelly', 'Brad']\n"
     ]
    }
   ],
   "source": [
    "list1 = [\"Mike\", \"\", \"Emma\", \"Kelly\", \"\", \"Brad\"]\n",
    "\n",
    "# remove None from list1 and convert result into list\n",
    "output= list(filter(None,list1))\n",
    "print(output)"
   ]
  },
  {
   "cell_type": "markdown",
   "id": "954242d5",
   "metadata": {},
   "source": [
    "### Exercise 7: Add new item to list after a specified item\n",
    "Write a program to add item 7000 after 6000 in the following Python List\n",
    "\n",
    "list1 = [10, 20, [300, 400, [5000, 6000], 500], 30, 40]"
   ]
  },
  {
   "cell_type": "code",
   "execution_count": 340,
   "id": "e3c46d5c",
   "metadata": {},
   "outputs": [
    {
     "name": "stdout",
     "output_type": "stream",
     "text": [
      "[10, 20, [300, 400, [5000, 6000, 7000], 500], 30, 40]\n"
     ]
    }
   ],
   "source": [
    "list1 = [10, 20, [300, 400, [5000, 6000], 500], 30, 40]\n",
    "list1[2][2].append(7000)\n",
    "print(list1)"
   ]
  },
  {
   "cell_type": "markdown",
   "id": "9ce44802",
   "metadata": {},
   "source": [
    "### Exercise 8: Extend nested list by adding the sublist\n",
    "You have given a nested list. Write a program to extend it by adding the sublist [\"h\", \"i\", \"j\"] in such a way that it will look like the following list.\n",
    "\n",
    "list1 = [\"a\", \"b\", [\"c\", [\"d\", \"e\", [\"f\", \"g\"], \"k\"], \"l\"], \"m\", \"n\"]\n",
    "\n",
    "sub list to add\n",
    "\n",
    "sub_list = [\"h\", \"i\", \"j\"]\n",
    "\n",
    "expected output =['a', 'b', ['c', ['d', 'e', ['f', 'g', 'h', 'i', 'j'], 'k'], 'l'], 'm', 'n']"
   ]
  },
  {
   "cell_type": "code",
   "execution_count": 344,
   "id": "cdc920cd",
   "metadata": {},
   "outputs": [
    {
     "data": {
      "text/plain": [
       "['a', 'b', ['c', ['d', 'e', ['f', 'g', 'h', 'i', 'j'], 'k'], 'l'], 'm', 'n']"
      ]
     },
     "execution_count": 344,
     "metadata": {},
     "output_type": "execute_result"
    }
   ],
   "source": [
    "list1 = [\"a\", \"b\", [\"c\", [\"d\", \"e\", [\"f\", \"g\"], \"k\"], \"l\"], \"m\", \"n\"]\n",
    "sub_list = [\"h\", \"i\", \"j\"]\n",
    "list1[2][1][2].extend(sub_list)\n",
    "list1"
   ]
  },
  {
   "cell_type": "markdown",
   "id": "4f9d4f5f",
   "metadata": {},
   "source": [
    "### Exercise 9: Replace list’s item with new value if found\n",
    "You have given a Python list. Write a program to find value 20 in the list, and if it is present, replace it with 200. Only update the first occurrence of an item.\n",
    "\n",
    "list1 = [5, 10, 15, 20, 25, 50, 20]"
   ]
  },
  {
   "cell_type": "code",
   "execution_count": 347,
   "id": "c34e566d",
   "metadata": {},
   "outputs": [
    {
     "data": {
      "text/plain": [
       "[5, 10, 15, 200, 20, 25, 50, 20]"
      ]
     },
     "execution_count": 347,
     "metadata": {},
     "output_type": "execute_result"
    }
   ],
   "source": [
    "list1 = [5, 10, 15, 20, 25, 50, 20]\n",
    "ind=list1.index(20)\n",
    "list1.insert(ind,200)\n",
    "list1"
   ]
  },
  {
   "cell_type": "markdown",
   "id": "82ba150b",
   "metadata": {},
   "source": [
    "### Exercise 10: Remove all occurrences of a specific item from a list.\n",
    "Given a Python list, write a program to remove all occurrences of item 20.\n",
    "\n",
    "list1 = [5, 20, 15, 20, 25, 50, 20]"
   ]
  },
  {
   "cell_type": "code",
   "execution_count": 353,
   "id": "d1c53226",
   "metadata": {},
   "outputs": [
    {
     "name": "stdout",
     "output_type": "stream",
     "text": [
      "[5, 15, 25, 50]\n"
     ]
    }
   ],
   "source": [
    "list1 = [5, 20, 15, 20, 25, 50, 20]\n",
    "output=[]\n",
    "for i in list1:\n",
    "    if i==20:\n",
    "        continue\n",
    "    else:\n",
    "        output.append(i)\n",
    "print(output)"
   ]
  },
  {
   "cell_type": "markdown",
   "id": "3189e35b",
   "metadata": {},
   "source": [
    "## Python Dictionary Exercise\n",
    "\n",
    "You will learn\n",
    "\n",
    "1. Dictionary operations and manipulations \n",
    "2. Dictionary functions\n",
    "3. Dictionary Comprehension"
   ]
  },
  {
   "cell_type": "markdown",
   "id": "7ec1229f",
   "metadata": {},
   "source": [
    "### Exercise 1: Convert two lists into a dictionary\n",
    "Below are the two lists. Write a Python program to convert them into a dictionary in a way that item from list1 is the key and item from list2 is the value\n",
    "\n",
    "keys = ['Ten', 'Twenty', 'Thirty']\n",
    "\n",
    "values = [10, 20, 30]"
   ]
  },
  {
   "cell_type": "code",
   "execution_count": 355,
   "id": "62ff4952",
   "metadata": {},
   "outputs": [
    {
     "name": "stdout",
     "output_type": "stream",
     "text": [
      "{'Ten': 10, 'Twenty': 20, 'Thirty': 30}\n"
     ]
    }
   ],
   "source": [
    "keys = ['Ten', 'Twenty', 'Thirty']\n",
    "values = [10, 20, 30]\n",
    "output= dict(zip(keys,values))\n",
    "print(output)"
   ]
  },
  {
   "cell_type": "markdown",
   "id": "7a444ca6",
   "metadata": {},
   "source": [
    "### Exercise 2: Merge two Python dictionaries into one\n",
    "\n",
    "dict1 = {'Ten': 10, 'Twenty': 20, 'Thirty': 30}      \n",
    "dict2 = {'Thirty': 30, 'Fourty': 40, 'Fifty': 50}"
   ]
  },
  {
   "cell_type": "code",
   "execution_count": 362,
   "id": "31e3690e",
   "metadata": {},
   "outputs": [
    {
     "name": "stdout",
     "output_type": "stream",
     "text": [
      "{'Ten': 10, 'Twenty': 20, 'Thirty': 30, 'Fourty': 40, 'Fifty': 50}\n"
     ]
    }
   ],
   "source": [
    "dict1 = {'Ten': 10, 'Twenty': 20, 'Thirty': 30}\n",
    "dict2 = {'Thirty': 30, 'Fourty': 40, 'Fifty': 50}\n",
    "\n",
    "dict3=dict1.copy()\n",
    "dict3.update(dict2)\n",
    "print(dict3)"
   ]
  },
  {
   "cell_type": "markdown",
   "id": "d0a1b3fc",
   "metadata": {},
   "source": [
    "### Exercise 3: Print the value of key ‘history’ from the below dict\n",
    "sampleDict = {\n",
    "    \"class\": {\n",
    "        \"student\": {\n",
    "            \"name\": \"Mike\",\n",
    "            \"marks\": {\n",
    "                \"physics\": 70,\n",
    "                \"history\": 80\n",
    "            }\n",
    "        }\n",
    "    }\n",
    "}"
   ]
  },
  {
   "cell_type": "code",
   "execution_count": 363,
   "id": "0db4ed1f",
   "metadata": {},
   "outputs": [
    {
     "data": {
      "text/plain": [
       "80"
      ]
     },
     "execution_count": 363,
     "metadata": {},
     "output_type": "execute_result"
    }
   ],
   "source": [
    "sampleDict = {\"class\": {\"student\": {\"name\": \"Mike\",\"marks\": {\"physics\": 70,\"history\": 80}}}}\n",
    "sampleDict['class']['student']['marks']['history']"
   ]
  },
  {
   "cell_type": "markdown",
   "id": "1c144ea6",
   "metadata": {},
   "source": [
    "### Exercise 4: Initialize dictionary with default values\n",
    "In Python, we can initialize the keys with the same values.\n",
    "\n",
    "employees = ['Kelly', 'Emma']     \n",
    "defaults = {\"designation\": 'Developer', \"salary\": 8000}"
   ]
  },
  {
   "cell_type": "code",
   "execution_count": 375,
   "id": "2a0728b8",
   "metadata": {},
   "outputs": [
    {
     "name": "stdout",
     "output_type": "stream",
     "text": [
      "{'Kelly': {'designation': 'Developer', 'salary': 8000}, 'Emma': {'designation': 'Developer', 'salary': 8000}}\n",
      "{'designation': 'Developer', 'salary': 8000}\n"
     ]
    }
   ],
   "source": [
    "employees = ['Kelly', 'Emma']\n",
    "defaults = {\"designation\": 'Developer', \"salary\": 8000}\n",
    "\n",
    "result=dict.fromkeys(employees,defaults)\n",
    "print(result)\n",
    "\n",
    "# Individual Data\n",
    "print(result['Kelly'])"
   ]
  },
  {
   "cell_type": "markdown",
   "id": "efc5e9a7",
   "metadata": {},
   "source": [
    "### Exercise 5: Create a dictionary by extracting the keys from a given dictionary\n",
    "Write a Python program to create a new dictionary by extracting the mentioned keys from the below dictionary.\n",
    "\n",
    "sample_dict = {\n",
    "    \"name\": \"Kelly\",\n",
    "    \"age\": 25,\n",
    "    \"salary\": 8000,\n",
    "    \"city\": \"New york\"}\n",
    "\n",
    "Keys to extract  \n",
    "keys = [\"name\", \"salary\"]"
   ]
  },
  {
   "cell_type": "code",
   "execution_count": 379,
   "id": "b67a098d",
   "metadata": {},
   "outputs": [
    {
     "name": "stdout",
     "output_type": "stream",
     "text": [
      "{'name': 'Kelly', 'salary': 8000}\n"
     ]
    }
   ],
   "source": [
    "sample_dict = {\n",
    "    \"name\": \"Kelly\",\n",
    "    \"age\": 25,\n",
    "    \"salary\": 8000,\n",
    "    \"city\": \"New york\"}\n",
    "\n",
    "# Keys to extract\n",
    "keys = [\"name\", \"salary\"]\n",
    "\n",
    "output= {i:j  for i,j in sample_dict.items()  if i in keys}\n",
    "print(output)"
   ]
  },
  {
   "cell_type": "code",
   "execution_count": 380,
   "id": "01301dc1",
   "metadata": {},
   "outputs": [
    {
     "data": {
      "text/plain": [
       "{'name': 'Kelly', 'salary': 8000}"
      ]
     },
     "execution_count": 380,
     "metadata": {},
     "output_type": "execute_result"
    }
   ],
   "source": [
    "# You can write the same in much more simpler way\n",
    "sample_dict = {\n",
    "    \"name\": \"Kelly\",\n",
    "    \"age\": 25,\n",
    "    \"salary\": 8000,\n",
    "    \"city\": \"New york\"}\n",
    "\n",
    "# Keys to extract\n",
    "keys = [\"name\", \"salary\"]\n",
    "\n",
    "output={i:sample_dict[i]  for i in keys}\n",
    "output"
   ]
  },
  {
   "cell_type": "markdown",
   "id": "f2a4c46b",
   "metadata": {},
   "source": [
    "### Exercise 6: Delete a list of keys from a dictionary\n",
    "\n",
    "sample_dict = {\n",
    "    \"name\": \"Kelly\",\n",
    "    \"age\": 25,\n",
    "    \"salary\": 8000,\n",
    "    \"city\": \"New york\"\n",
    "}\n",
    "\n",
    "Keys to remove  \n",
    "keys = [\"name\", \"salary\"]"
   ]
  },
  {
   "cell_type": "code",
   "execution_count": 382,
   "id": "38727666",
   "metadata": {},
   "outputs": [
    {
     "name": "stdout",
     "output_type": "stream",
     "text": [
      "{'age': 25, 'city': 'New york'}\n"
     ]
    }
   ],
   "source": [
    "sample_dict = {\n",
    "    \"name\": \"Kelly\",\n",
    "    \"age\": 25,\n",
    "    \"salary\": 8000,\n",
    "    \"city\": \"New york\"\n",
    "}\n",
    "\n",
    "# Keys to remove\n",
    "keys = [\"name\", \"salary\"]\n",
    "\n",
    "for i in keys:\n",
    "    sample_dict.pop(i)\n",
    "print(sample_dict)"
   ]
  },
  {
   "cell_type": "code",
   "execution_count": 383,
   "id": "0061a259",
   "metadata": {},
   "outputs": [
    {
     "name": "stdout",
     "output_type": "stream",
     "text": [
      "{'city': 'New york', 'age': 25}\n"
     ]
    }
   ],
   "source": [
    "#  Will perform the same tasks using dictionary comprehension\n",
    "\n",
    "sample_dict = {\n",
    "    \"name\": \"Kelly\",\n",
    "    \"age\": 25,\n",
    "    \"salary\": 8000,\n",
    "    \"city\": \"New york\"\n",
    "}\n",
    "\n",
    "# Keys to remove\n",
    "keys = [\"name\", \"salary\"]\n",
    "\n",
    "output= {i:sample_dict[i]  for i in sample_dict.keys()-keys}\n",
    "print(output)"
   ]
  },
  {
   "cell_type": "markdown",
   "id": "c47b79e9",
   "metadata": {},
   "source": [
    "### Exercise 7: Check if a value exists in a dictionary\n",
    "We know how to check if the key exists in a dictionary. Sometimes it is required to check if the given value is present.\n",
    "\n",
    "Write a Python program to check if value 200 exists in the following dictionary.\n",
    "\n",
    "sample_dict = {'a': 100, 'b': 200, 'c': 300}"
   ]
  },
  {
   "cell_type": "code",
   "execution_count": 392,
   "id": "b95a79fd",
   "metadata": {},
   "outputs": [
    {
     "name": "stdout",
     "output_type": "stream",
     "text": [
      "200 present in a dict\n"
     ]
    }
   ],
   "source": [
    "sample_dict = {'a': 100, 'b': 200, 'c': 300}\n",
    "if 200 in sample_dict.values():\n",
    "    print('200 present in a dict')\n",
    "else:\n",
    "    print('200 not present in a dict')"
   ]
  },
  {
   "cell_type": "markdown",
   "id": "0a5b104b",
   "metadata": {},
   "source": [
    "### Exercise 8: Rename key of a dictionary\n",
    "Write a program to rename a key city to a location in the following dictionary.\n",
    "\n",
    "sample_dict = {\n",
    "  \"name\": \"Kelly\",\n",
    "  \"age\":25,\n",
    "  \"salary\": 8000,\n",
    "  \"city\": \"New york\"\n",
    "}"
   ]
  },
  {
   "cell_type": "code",
   "execution_count": 394,
   "id": "e36d45b3",
   "metadata": {},
   "outputs": [
    {
     "data": {
      "text/plain": [
       "{'name': 'Kelly', 'age': 25, 'salary': 8000, 'location': 'New york'}"
      ]
     },
     "execution_count": 394,
     "metadata": {},
     "output_type": "execute_result"
    }
   ],
   "source": [
    "sample_dict = {\n",
    "  \"name\": \"Kelly\",\n",
    "  \"age\":25,\n",
    "  \"salary\": 8000,\n",
    "  \"city\": \"New york\"\n",
    "}\n",
    "\n",
    "sample_dict['location']=sample_dict.pop('city')\n",
    "sample_dict"
   ]
  },
  {
   "cell_type": "markdown",
   "id": "144f97a0",
   "metadata": {},
   "source": [
    "### Exercise 9: Get the key of a minimum value from the following dictionary\n",
    "sample_dict = {\n",
    "  'Physics': 82,\n",
    "  'Math': 65,\n",
    "  'history': 75\n",
    "}"
   ]
  },
  {
   "cell_type": "code",
   "execution_count": 409,
   "id": "c0fe06e1",
   "metadata": {},
   "outputs": [
    {
     "name": "stdout",
     "output_type": "stream",
     "text": [
      "Physics\n"
     ]
    }
   ],
   "source": [
    "sample_dict = {\n",
    "  'Physics': 45,\n",
    "  'Math': 65,\n",
    "  'history': 75\n",
    "}\n",
    "\n",
    "print(min(sample_dict,key=sample_dict.get))"
   ]
  },
  {
   "cell_type": "markdown",
   "id": "91780a2a",
   "metadata": {},
   "source": [
    "### Exercise 10: Change value of a key in a nested dictionary\n",
    "Write a Python program to change Brad’s salary to 8500 in the following dictionary.\n",
    "\n",
    "sample_dict = {\n",
    "    'emp1': {'name': 'Jhon', 'salary': 7500},   \n",
    "    'emp2': {'name': 'Emma', 'salary': 8000},    \n",
    "    'emp3': {'name': 'Brad', 'salary': 500}}"
   ]
  },
  {
   "cell_type": "code",
   "execution_count": 413,
   "id": "10ab81a4",
   "metadata": {},
   "outputs": [
    {
     "name": "stdout",
     "output_type": "stream",
     "text": [
      "{'emp1': {'name': 'Jhon', 'salary': 7500}, 'emp2': {'name': 'Emma', 'salary': 8000}, 'emp3': {'name': 'Brad', 'salary': 8500}}\n"
     ]
    }
   ],
   "source": [
    "sample_dict = {\n",
    "    'emp1': {'name': 'Jhon', 'salary': 7500},\n",
    "    'emp2': {'name': 'Emma', 'salary': 8000},\n",
    "    'emp3': {'name': 'Brad', 'salary': 500}}\n",
    "\n",
    "sample_dict['emp3']['salary']=8500\n",
    "print(sample_dict)"
   ]
  },
  {
   "cell_type": "markdown",
   "id": "fa03082a",
   "metadata": {},
   "source": [
    "## Python Set Exercise\n",
    "Set in Python is an unordered collection of items. Every item is unique in it. i.e., the set doesn’t allow duplicates.\n"
   ]
  },
  {
   "cell_type": "markdown",
   "id": "99a7e8e0",
   "metadata": {},
   "source": [
    "### Exercise 1: Add a list of elements to a set\n",
    "Given a Python list, Write a program to add all its elements into a given set.\n",
    "\n",
    "sample_set = {\"Yellow\", \"Orange\", \"Black\"}      \n",
    "sample_list = [\"Blue\", \"Green\", \"Red\"]"
   ]
  },
  {
   "cell_type": "code",
   "execution_count": 415,
   "id": "bbb0556d",
   "metadata": {},
   "outputs": [
    {
     "data": {
      "text/plain": [
       "{'Black', 'Blue', 'Green', 'Orange', 'Red', 'Yellow'}"
      ]
     },
     "execution_count": 415,
     "metadata": {},
     "output_type": "execute_result"
    }
   ],
   "source": [
    "sample_set = {\"Yellow\", \"Orange\", \"Black\"}\n",
    "sample_list = [\"Blue\", \"Green\", \"Red\"]\n",
    "sample_set.update(sample_list)\n",
    "sample_set"
   ]
  },
  {
   "cell_type": "markdown",
   "id": "7a0322d6",
   "metadata": {},
   "source": [
    "### Exercise 2: Return a new set of identical items from two sets\n",
    "\n",
    "set1 = {10, 20, 30, 40, 50}     \n",
    "set2 = {30, 40, 50, 60, 70}"
   ]
  },
  {
   "cell_type": "code",
   "execution_count": 416,
   "id": "e7b42bdb",
   "metadata": {},
   "outputs": [
    {
     "data": {
      "text/plain": [
       "{30, 40, 50}"
      ]
     },
     "execution_count": 416,
     "metadata": {},
     "output_type": "execute_result"
    }
   ],
   "source": [
    "set1 = {10, 20, 30, 40, 50}\n",
    "set2 = {30, 40, 50, 60, 70}\n",
    "set1.intersection(set2)"
   ]
  },
  {
   "cell_type": "markdown",
   "id": "1a77de31",
   "metadata": {},
   "source": [
    "### Exercise 3: Get Only unique items from two sets\n",
    "Write a Python program to return a new set with unique items from both sets by removing duplicates.\n",
    "\n",
    "set1 = {10, 20, 30, 40, 50}    \n",
    "set2 = {30, 40, 50, 60, 70}"
   ]
  },
  {
   "cell_type": "code",
   "execution_count": 418,
   "id": "952d0177",
   "metadata": {},
   "outputs": [
    {
     "name": "stdout",
     "output_type": "stream",
     "text": [
      "{70, 40, 10, 50, 20, 60, 30}\n"
     ]
    }
   ],
   "source": [
    "set1 = {10, 20, 30, 40, 50}\n",
    "set2 = {30, 40, 50, 60, 70}\n",
    "set3 = set1.copy()\n",
    "set3.update(set2)\n",
    "print(set3)"
   ]
  },
  {
   "cell_type": "code",
   "execution_count": 419,
   "id": "2c60713c",
   "metadata": {},
   "outputs": [
    {
     "name": "stdout",
     "output_type": "stream",
     "text": [
      "{70, 40, 10, 50, 20, 60, 30}\n"
     ]
    }
   ],
   "source": [
    "#  You try in different way\n",
    "set1 = {10, 20, 30, 40, 50}\n",
    "set2 = {30, 40, 50, 60, 70}\n",
    "set3=set1.union(set2)\n",
    "print(set3)"
   ]
  },
  {
   "cell_type": "markdown",
   "id": "39d02106",
   "metadata": {},
   "source": [
    "### Exercise 4: Update the first set with items that don’t exist in the second set\n",
    "Given two Python sets, write a Python program to update the first set with items that exist only in the first set and not in the second set.\n",
    "\n",
    "set1 = {10, 20, 30}   \n",
    "set2 = {20, 40, 50}"
   ]
  },
  {
   "cell_type": "code",
   "execution_count": 422,
   "id": "aeef895f",
   "metadata": {},
   "outputs": [
    {
     "name": "stdout",
     "output_type": "stream",
     "text": [
      "{10, 30}\n"
     ]
    }
   ],
   "source": [
    "set1 = {10, 20, 30}\n",
    "set2 = {20, 40, 50}\n",
    "set1.difference(set2)  # if you just write difference it won't affect the original set but if you use difference_update it will affect the original set\n",
    "set1.difference_update(set2)\n",
    "print(set1)"
   ]
  },
  {
   "cell_type": "markdown",
   "id": "aea65ea0",
   "metadata": {},
   "source": [
    "### Exercise 5: Remove items from the set at once\n",
    "Write a Python program to remove items 10, 20, 30 from the following set at once.\n",
    "\n",
    "set1 = {10, 20, 30, 40, 50}"
   ]
  },
  {
   "cell_type": "code",
   "execution_count": 423,
   "id": "0494d5a4",
   "metadata": {},
   "outputs": [
    {
     "name": "stdout",
     "output_type": "stream",
     "text": [
      "{50, 40}\n"
     ]
    }
   ],
   "source": [
    "set1 = {10, 20, 30, 40, 50}\n",
    "set1.difference_update({10,20,30})\n",
    "print(set1)"
   ]
  },
  {
   "cell_type": "markdown",
   "id": "bafeebd1",
   "metadata": {},
   "source": [
    "### Exercise 6: Return a set of elements present in Set A or B, but not both\n",
    "\n",
    "set1 = {10, 20, 30, 40, 50}   \n",
    "set2 = {30, 40, 50, 60, 70}"
   ]
  },
  {
   "cell_type": "code",
   "execution_count": 424,
   "id": "7dc6fad1",
   "metadata": {},
   "outputs": [
    {
     "name": "stdout",
     "output_type": "stream",
     "text": [
      "{20, 70, 10, 60}\n"
     ]
    }
   ],
   "source": [
    "set1 = {10, 20, 30, 40, 50}\n",
    "set2 = {30, 40, 50, 60, 70}\n",
    "print(set1.symmetric_difference(set2))"
   ]
  },
  {
   "cell_type": "markdown",
   "id": "650a2857",
   "metadata": {},
   "source": [
    "### Exercise 7: Check if two sets have any elements in common. If yes, display the common elements\n",
    "set1 = {10, 20, 30, 40, 50}  \n",
    "set2 = {60, 70, 80, 90, 10}"
   ]
  },
  {
   "cell_type": "code",
   "execution_count": 426,
   "id": "693c17b3",
   "metadata": {},
   "outputs": [
    {
     "name": "stdout",
     "output_type": "stream",
     "text": [
      "Two sets have items in common\n",
      "{10}\n"
     ]
    }
   ],
   "source": [
    "set1 = {10, 20, 30, 40, 50}\n",
    "set2 = {60, 70, 80, 90, 10}\n",
    "\n",
    "# Will check if any of the element present in both the set or not using isdisjoint() method \n",
    "# isdisjoint() returns True if none of the items are present in both sets otherwise it returns false\n",
    "\n",
    "if set1.isdisjoint(set2):\n",
    "    print('Two sets have no items in common')\n",
    "else:\n",
    "    print('Two sets have items in common')\n",
    "    print(set1.intersection(set2))"
   ]
  },
  {
   "cell_type": "markdown",
   "id": "2a2dedbb",
   "metadata": {},
   "source": [
    "### Exercise 8: Update set1 by adding items from set2, except common items\n",
    "\n",
    "set1 = {10, 20, 30, 40, 50}   \n",
    "set2 = {30, 40, 50, 60, 70}"
   ]
  },
  {
   "cell_type": "code",
   "execution_count": 429,
   "id": "faf15f7a",
   "metadata": {},
   "outputs": [
    {
     "name": "stdout",
     "output_type": "stream",
     "text": [
      "{20, 70, 10, 60}\n"
     ]
    }
   ],
   "source": [
    "set1 = {10, 20, 30, 40, 50}\n",
    "set2 = {30, 40, 50, 60, 70}\n",
    "set1.symmetric_difference_update(set2)\n",
    "print(set1)"
   ]
  },
  {
   "cell_type": "markdown",
   "id": "f2d70274",
   "metadata": {},
   "source": [
    "### Exercise 9: Remove items from set1 that are not common to both set1 and set2\n",
    "\n",
    "set1 = {10, 20, 30, 40, 50}    \n",
    "set2 = {30, 40, 50, 60, 70}"
   ]
  },
  {
   "cell_type": "code",
   "execution_count": 432,
   "id": "26a18709",
   "metadata": {},
   "outputs": [
    {
     "data": {
      "text/plain": [
       "{30, 40, 50}"
      ]
     },
     "execution_count": 432,
     "metadata": {},
     "output_type": "execute_result"
    }
   ],
   "source": [
    "set1 = {10, 20, 30, 40, 50}\n",
    "set2 = {30, 40, 50, 60, 70}\n",
    "set1.intersection_update(set2)\n",
    "set1"
   ]
  },
  {
   "cell_type": "markdown",
   "id": "eac3d2ed",
   "metadata": {},
   "source": [
    "## Python Tuple Exercise"
   ]
  },
  {
   "cell_type": "markdown",
   "id": "6da94eeb",
   "metadata": {},
   "source": [
    "## Exercise 1: Reverse the tuple\n",
    "\n",
    "tuple1 = (10, 20, 30, 40, 50)"
   ]
  },
  {
   "cell_type": "code",
   "execution_count": 433,
   "id": "1862ec17",
   "metadata": {},
   "outputs": [
    {
     "data": {
      "text/plain": [
       "(50, 40, 30, 20, 10)"
      ]
     },
     "execution_count": 433,
     "metadata": {},
     "output_type": "execute_result"
    }
   ],
   "source": [
    "tuple1 = (10, 20, 30, 40, 50)\n",
    "tuple1[::-1]"
   ]
  },
  {
   "cell_type": "markdown",
   "id": "1c01f87c",
   "metadata": {},
   "source": [
    "### Exercise 2: Access value 20 from the tuple\n",
    "The given tuple is a nested tuple. write a Python program to print the value 20.\n",
    "\n",
    "tuple1 = (\"Orange\", [10, 20, 30], (5, 15, 25))"
   ]
  },
  {
   "cell_type": "code",
   "execution_count": 435,
   "id": "30e0dde4",
   "metadata": {},
   "outputs": [
    {
     "data": {
      "text/plain": [
       "20"
      ]
     },
     "execution_count": 435,
     "metadata": {},
     "output_type": "execute_result"
    }
   ],
   "source": [
    "tuple1 = (\"Orange\", [10, 20, 30], (5, 15, 25))\n",
    "tuple1[1][1]"
   ]
  },
  {
   "cell_type": "markdown",
   "id": "68c72a94",
   "metadata": {},
   "source": [
    "### Exercise 3: Create a tuple with single item 50\n"
   ]
  },
  {
   "cell_type": "code",
   "execution_count": 442,
   "id": "e4c9fb9b",
   "metadata": {},
   "outputs": [
    {
     "name": "stdout",
     "output_type": "stream",
     "text": [
      "(50,)\n"
     ]
    },
    {
     "data": {
      "text/plain": [
       "tuple"
      ]
     },
     "execution_count": 442,
     "metadata": {},
     "output_type": "execute_result"
    }
   ],
   "source": [
    "tup=(50,)\n",
    "print(tup)\n",
    "type(tup)"
   ]
  },
  {
   "cell_type": "markdown",
   "id": "5b2b8271",
   "metadata": {},
   "source": [
    "### Exercise 4: Unpack the tuple into 4 variables\n",
    "Write a program to unpack the following tuple into four variables and display each variable.\n",
    "\n",
    "tuple1 = (10, 20, 30, 40)"
   ]
  },
  {
   "cell_type": "code",
   "execution_count": 447,
   "id": "1488b829",
   "metadata": {},
   "outputs": [
    {
     "name": "stdout",
     "output_type": "stream",
     "text": [
      "10\n",
      "20\n",
      "30\n",
      "40\n"
     ]
    }
   ],
   "source": [
    "tuple1 = (10, 20, 30, 40)\n",
    "\n",
    "# unpack tuple into 4 variables\n",
    "a,b,c,d = tuple1\n",
    "print(a)\n",
    "print(b)\n",
    "print(c)\n",
    "print(d)"
   ]
  },
  {
   "cell_type": "markdown",
   "id": "687c1975",
   "metadata": {},
   "source": [
    "### Exercise 5: Swap two tuples in Python\n",
    "\n",
    "tuple1 = (11, 22)       \n",
    "tuple2 = (99, 88)"
   ]
  },
  {
   "cell_type": "code",
   "execution_count": 448,
   "id": "722855bd",
   "metadata": {},
   "outputs": [
    {
     "name": "stdout",
     "output_type": "stream",
     "text": [
      "Before\n",
      "tuple 1 = (11, 22)\n",
      "tuple 2 = (99, 88)\n",
      "After\n",
      "tuple 1 = (99, 88)\n",
      "tuple 2 = (11, 22)\n"
     ]
    }
   ],
   "source": [
    "tuple1 = (11, 22)\n",
    "tuple2 = (99, 88)\n",
    "print('Before')\n",
    "print('tuple 1 =',tuple1)\n",
    "print('tuple 2 =',tuple2)\n",
    "tuple1,tuple2=tuple2,tuple1\n",
    "print('After')\n",
    "print('tuple 1 =',tuple1)\n",
    "print('tuple 2 =',tuple2)"
   ]
  },
  {
   "cell_type": "markdown",
   "id": "1f67bb73",
   "metadata": {},
   "source": [
    "### Exercise 6: Copy specific elements from one tuple to a new tuple\n",
    "Write a program to copy elements 44 and 55 from the following tuple into a new tuple."
   ]
  },
  {
   "cell_type": "code",
   "execution_count": 449,
   "id": "6d801ab0",
   "metadata": {},
   "outputs": [
    {
     "name": "stdout",
     "output_type": "stream",
     "text": [
      "(44, 55)\n"
     ]
    }
   ],
   "source": [
    "tuple1 = (11, 22, 33, 44, 55, 66)\n",
    "tuple2 = tuple1[3:5]\n",
    "print(tuple2)"
   ]
  },
  {
   "cell_type": "markdown",
   "id": "03f7d7aa",
   "metadata": {},
   "source": [
    "### Exercise 7: Modify the tuple\n",
    "Given is a nested tuple. Write a program to modify the first item (22) of a list inside a following tuple to 222\n",
    "\n",
    "tuple1 = (11, [22, 33], 44, 55)"
   ]
  },
  {
   "cell_type": "code",
   "execution_count": 450,
   "id": "709cf19d",
   "metadata": {},
   "outputs": [
    {
     "name": "stdout",
     "output_type": "stream",
     "text": [
      "(11, [222, 33], 44, 55)\n"
     ]
    }
   ],
   "source": [
    "tuple1 = (11, [22, 33], 44, 55)\n",
    "tuple1[1][0]=222\n",
    "print(tuple1)"
   ]
  },
  {
   "cell_type": "markdown",
   "id": "9dadca84",
   "metadata": {},
   "source": [
    "### Exercise 8: Sort a tuple of tuples by 2nd item\n",
    "\n",
    "tuple1 = (('a', 23),('b', 37),('c', 11), ('d',29))"
   ]
  },
  {
   "cell_type": "code",
   "execution_count": 451,
   "id": "6b03a9ac",
   "metadata": {},
   "outputs": [
    {
     "name": "stdout",
     "output_type": "stream",
     "text": [
      "(('c', 11), ('a', 23), ('d', 29), ('b', 37))\n"
     ]
    }
   ],
   "source": [
    "tuple1 = (('a', 23),('b', 37),('c', 11), ('d',29))\n",
    "tuple1 = tuple(sorted(list(tuple1),key=lambda x:x[1]))\n",
    "print(tuple1)"
   ]
  },
  {
   "cell_type": "markdown",
   "id": "849bafd5",
   "metadata": {},
   "source": [
    "### Exercise 9: Counts the number of occurrences of item 50 from a tuple\n",
    "\n",
    "tuple1 = (50, 10, 60, 70, 50)"
   ]
  },
  {
   "cell_type": "code",
   "execution_count": 458,
   "id": "b2b410f0",
   "metadata": {},
   "outputs": [
    {
     "data": {
      "text/plain": [
       "2"
      ]
     },
     "execution_count": 458,
     "metadata": {},
     "output_type": "execute_result"
    }
   ],
   "source": [
    "tuple1 = (50, 10, 60, 70, 50)\n",
    "tuple1.count(50)"
   ]
  },
  {
   "cell_type": "markdown",
   "id": "b05bef73",
   "metadata": {},
   "source": [
    "### Exercise 10: Check if all items in the tuple are the same\n",
    "\n",
    "tuple1 = (45, 45, 45, 45)"
   ]
  },
  {
   "cell_type": "code",
   "execution_count": 459,
   "id": "93eae7ca",
   "metadata": {},
   "outputs": [
    {
     "name": "stdout",
     "output_type": "stream",
     "text": [
      "True\n"
     ]
    }
   ],
   "source": [
    "def check(tuple1):\n",
    "    return all(i == tuple1[0]  for i in tuple1)\n",
    "\n",
    "tuple1 = (45, 45, 45, 45)\n",
    "print(check(tuple1))"
   ]
  },
  {
   "cell_type": "markdown",
   "id": "ccb18d06",
   "metadata": {},
   "source": [
    "## Pattern Matching "
   ]
  },
  {
   "cell_type": "markdown",
   "id": "14fca412",
   "metadata": {},
   "source": [
    "### 1. Print the following pattern"
   ]
  },
  {
   "cell_type": "raw",
   "id": "09326826",
   "metadata": {},
   "source": [
    "  * \n",
    " * * \n",
    "* * * \n",
    " * * \n",
    "  * "
   ]
  },
  {
   "cell_type": "code",
   "execution_count": 460,
   "id": "67a405e9",
   "metadata": {},
   "outputs": [
    {
     "name": "stdout",
     "output_type": "stream",
     "text": [
      "Enter the number of rows3\n",
      "  * \n",
      " * * \n",
      "* * * \n",
      " * * \n",
      "  * \n"
     ]
    }
   ],
   "source": [
    "num=int(input('Enter the number of rows'))\n",
    "for i in range(0,num):\n",
    "    for j in range(0,num-i-1):\n",
    "        print(end=' ')\n",
    "    for k in range(0,i+1):\n",
    "        print('*',end=' ')\n",
    "    print()\n",
    "for a in range(1,num):\n",
    "    for j in range(a):\n",
    "        print(end=' ')\n",
    "    for k in range(num-a):\n",
    "        print('*',end=' ')\n",
    "    print()"
   ]
  },
  {
   "cell_type": "markdown",
   "id": "1f604420",
   "metadata": {},
   "source": [
    "### 2. Print the following Pattern"
   ]
  },
  {
   "cell_type": "raw",
   "id": "367de2fe",
   "metadata": {},
   "source": [
    "    *\n",
    "   ***\n",
    "  *****\n",
    " *******\n",
    "*********"
   ]
  },
  {
   "cell_type": "code",
   "execution_count": 461,
   "id": "3b98dd93",
   "metadata": {},
   "outputs": [
    {
     "name": "stdout",
     "output_type": "stream",
     "text": [
      "Enter the number of rows5\n",
      "    *\n",
      "   ***\n",
      "  *****\n",
      " *******\n",
      "*********\n"
     ]
    }
   ],
   "source": [
    "rows=int(input('Enter the number of rows'))\n",
    "for i in range(rows):\n",
    "    for j in range(rows-i-1):\n",
    "        print(end=' ')\n",
    "    for k in range((i*2)+1):\n",
    "        print('*',end='')\n",
    "    print('')"
   ]
  },
  {
   "cell_type": "markdown",
   "id": "ef540268",
   "metadata": {},
   "source": [
    "### 3. Print the following Pattern"
   ]
  },
  {
   "cell_type": "raw",
   "id": "8e1c6c97",
   "metadata": {},
   "source": [
    "    1\n",
    "   123\n",
    "  12345\n",
    " 1234567\n",
    "123456789"
   ]
  },
  {
   "cell_type": "code",
   "execution_count": 462,
   "id": "7f0e0412",
   "metadata": {},
   "outputs": [
    {
     "name": "stdout",
     "output_type": "stream",
     "text": [
      "Enter the number of rows5\n",
      "    1\n",
      "   123\n",
      "  12345\n",
      " 1234567\n",
      "123456789\n"
     ]
    }
   ],
   "source": [
    "rows=int(input('Enter the number of rows'))\n",
    "for i in range(rows):\n",
    "    for j in range(rows-i-1):\n",
    "        print(end=' ')\n",
    "    for k in range((i*2)+1):\n",
    "        print(k+1,end='')\n",
    "    print('')"
   ]
  },
  {
   "cell_type": "markdown",
   "id": "00ab0cb2",
   "metadata": {},
   "source": [
    "### 4. Print the following Pattern"
   ]
  },
  {
   "cell_type": "raw",
   "id": "790d70e6",
   "metadata": {},
   "source": [
    "    1\n",
    "   222\n",
    "  33333\n",
    " 4444444\n",
    "555555555"
   ]
  },
  {
   "cell_type": "code",
   "execution_count": 463,
   "id": "798c5bdc",
   "metadata": {},
   "outputs": [
    {
     "name": "stdout",
     "output_type": "stream",
     "text": [
      "Enter the number of rows5\n",
      "    1\n",
      "   222\n",
      "  33333\n",
      " 4444444\n",
      "555555555\n"
     ]
    }
   ],
   "source": [
    "rows=int(input('Enter the number of rows'))\n",
    "for i in range(rows):\n",
    "    for j in range(rows-i-1):\n",
    "        print(end=' ')\n",
    "    for k in range((i*2)+1):\n",
    "        print(i+1,end='')\n",
    "    print('')"
   ]
  },
  {
   "cell_type": "markdown",
   "id": "f350e952",
   "metadata": {},
   "source": [
    "### 5. Print the following Pattern"
   ]
  },
  {
   "cell_type": "raw",
   "id": "9c753021",
   "metadata": {},
   "source": [
    "*  \n",
    "* *  \n",
    "* * *  \n",
    "* * * *  \n",
    "* * * * *  "
   ]
  },
  {
   "cell_type": "code",
   "execution_count": 464,
   "id": "f5bd4e15",
   "metadata": {},
   "outputs": [
    {
     "name": "stdout",
     "output_type": "stream",
     "text": [
      "*  \n",
      "* *  \n",
      "* * *  \n",
      "* * * *  \n",
      "* * * * *  \n"
     ]
    }
   ],
   "source": [
    "for i in range(5):\n",
    "    for j in range(i+1):\n",
    "        print('*',end=' ')\n",
    "    print(' ')\n"
   ]
  },
  {
   "cell_type": "markdown",
   "id": "dd58af55",
   "metadata": {},
   "source": [
    "### 6. Print the following Pattern"
   ]
  },
  {
   "cell_type": "raw",
   "id": "24085ff2",
   "metadata": {},
   "source": [
    "*  \n",
    "* * *  \n",
    "* * * * *  "
   ]
  },
  {
   "cell_type": "code",
   "execution_count": 465,
   "id": "29f2a0ee",
   "metadata": {},
   "outputs": [
    {
     "name": "stdout",
     "output_type": "stream",
     "text": [
      "*  \n",
      "* * *  \n",
      "* * * * *  \n"
     ]
    }
   ],
   "source": [
    "for i in range(3):\n",
    "    for j in range(i*2+1):\n",
    "        print('*',end=' ')\n",
    "    print(' ')"
   ]
  },
  {
   "cell_type": "markdown",
   "id": "f79c9fc6",
   "metadata": {},
   "source": [
    "### 7. Print the following Pattern"
   ]
  },
  {
   "cell_type": "raw",
   "id": "b7fa4713",
   "metadata": {},
   "source": [
    "   * \n",
    "  * * \n",
    " * * * \n",
    "* * * * "
   ]
  },
  {
   "cell_type": "code",
   "execution_count": 466,
   "id": "6f5aa609",
   "metadata": {},
   "outputs": [
    {
     "name": "stdout",
     "output_type": "stream",
     "text": [
      "Enter the number of rows5\n",
      "    * \n",
      "   * * \n",
      "  * * * \n",
      " * * * * \n",
      "* * * * * \n"
     ]
    }
   ],
   "source": [
    "rows=int(input('Enter the number of rows'))\n",
    "for i in range(rows):\n",
    "    for j in range(rows-i-1):\n",
    "        print(end=' ')\n",
    "    for k in range(i+1):\n",
    "        print('*',end=' ')\n",
    "    print('')"
   ]
  },
  {
   "cell_type": "markdown",
   "id": "0af10a5c",
   "metadata": {},
   "source": [
    "### 8. Print the following pattern"
   ]
  },
  {
   "cell_type": "raw",
   "id": "61fd8c2f",
   "metadata": {},
   "source": [
    "* * * * * \n",
    " * * * * \n",
    "  * * * \n",
    "   * * \n",
    "    * "
   ]
  },
  {
   "cell_type": "code",
   "execution_count": 22,
   "id": "a4742a2f",
   "metadata": {},
   "outputs": [
    {
     "name": "stdout",
     "output_type": "stream",
     "text": [
      "Enter the number of rows5\n",
      "* * * * * \n",
      " * * * * \n",
      "  * * * \n",
      "   * * \n",
      "    * \n"
     ]
    }
   ],
   "source": [
    "rows=int(input('Enter the number of rows'))\n",
    "for i in range(rows):\n",
    "    for j in range(i):\n",
    "        print(end=' ')\n",
    "    for k in range(rows-i):\n",
    "        print('*',end=' ')\n",
    "    print('')"
   ]
  },
  {
   "cell_type": "markdown",
   "id": "f459edd7",
   "metadata": {},
   "source": [
    "### 9. Print the following Pattern"
   ]
  },
  {
   "cell_type": "raw",
   "id": "10cdf644",
   "metadata": {},
   "source": [
    "a \n",
    "b c \n",
    "d e f \n",
    "g h i j \n",
    "k l m n o "
   ]
  },
  {
   "cell_type": "code",
   "execution_count": 467,
   "id": "101c55bb",
   "metadata": {},
   "outputs": [
    {
     "data": {
      "text/plain": [
       "97"
      ]
     },
     "execution_count": 467,
     "metadata": {},
     "output_type": "execute_result"
    }
   ],
   "source": [
    "ord('a')"
   ]
  },
  {
   "cell_type": "code",
   "execution_count": 468,
   "id": "9063ab81",
   "metadata": {},
   "outputs": [
    {
     "data": {
      "text/plain": [
       "'a'"
      ]
     },
     "execution_count": 468,
     "metadata": {},
     "output_type": "execute_result"
    }
   ],
   "source": [
    "chr(97)"
   ]
  },
  {
   "cell_type": "code",
   "execution_count": 469,
   "id": "7c31320c",
   "metadata": {
    "scrolled": true
   },
   "outputs": [
    {
     "name": "stdout",
     "output_type": "stream",
     "text": [
      "Enter the number of rows5\n",
      "a \n",
      "b c \n",
      "d e f \n",
      "g h i j \n",
      "k l m n o \n"
     ]
    }
   ],
   "source": [
    "a=ord('a')\n",
    "rows=int(input('Enter the number of rows'))\n",
    "for i in range(rows):\n",
    "    for j in range(i+1):\n",
    "        print(chr(a),end=' ')\n",
    "        a+=1\n",
    "    print('')"
   ]
  },
  {
   "cell_type": "code",
   "execution_count": null,
   "id": "c83c0699",
   "metadata": {},
   "outputs": [],
   "source": []
  },
  {
   "cell_type": "code",
   "execution_count": null,
   "id": "b60a2f11",
   "metadata": {},
   "outputs": [],
   "source": []
  },
  {
   "cell_type": "code",
   "execution_count": null,
   "id": "0309793c",
   "metadata": {},
   "outputs": [],
   "source": []
  },
  {
   "cell_type": "code",
   "execution_count": null,
   "id": "0415d1b2",
   "metadata": {},
   "outputs": [],
   "source": []
  },
  {
   "cell_type": "code",
   "execution_count": null,
   "id": "d73cefbe",
   "metadata": {},
   "outputs": [],
   "source": []
  },
  {
   "cell_type": "code",
   "execution_count": null,
   "id": "dd86ffd3",
   "metadata": {},
   "outputs": [],
   "source": []
  },
  {
   "cell_type": "code",
   "execution_count": null,
   "id": "334f628d",
   "metadata": {},
   "outputs": [],
   "source": []
  },
  {
   "cell_type": "code",
   "execution_count": null,
   "id": "bebb999e",
   "metadata": {},
   "outputs": [],
   "source": []
  },
  {
   "cell_type": "code",
   "execution_count": null,
   "id": "c56d4ea8",
   "metadata": {},
   "outputs": [],
   "source": []
  },
  {
   "cell_type": "code",
   "execution_count": null,
   "id": "8f044c05",
   "metadata": {},
   "outputs": [],
   "source": []
  },
  {
   "cell_type": "code",
   "execution_count": null,
   "id": "569ae817",
   "metadata": {},
   "outputs": [],
   "source": []
  },
  {
   "cell_type": "code",
   "execution_count": null,
   "id": "d949023c",
   "metadata": {},
   "outputs": [],
   "source": []
  },
  {
   "cell_type": "code",
   "execution_count": null,
   "id": "47d006f5",
   "metadata": {},
   "outputs": [],
   "source": []
  },
  {
   "cell_type": "code",
   "execution_count": null,
   "id": "c32d7eae",
   "metadata": {},
   "outputs": [],
   "source": []
  },
  {
   "cell_type": "code",
   "execution_count": null,
   "id": "671f3696",
   "metadata": {},
   "outputs": [],
   "source": []
  },
  {
   "cell_type": "code",
   "execution_count": null,
   "id": "47122002",
   "metadata": {},
   "outputs": [],
   "source": []
  }
 ],
 "metadata": {
  "kernelspec": {
   "display_name": "Python 3 (ipykernel)",
   "language": "python",
   "name": "python3"
  },
  "language_info": {
   "codemirror_mode": {
    "name": "ipython",
    "version": 3
   },
   "file_extension": ".py",
   "mimetype": "text/x-python",
   "name": "python",
   "nbconvert_exporter": "python",
   "pygments_lexer": "ipython3",
   "version": "3.9.7"
  }
 },
 "nbformat": 4,
 "nbformat_minor": 5
}
