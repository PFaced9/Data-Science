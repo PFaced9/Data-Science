{
 "cells": [
  {
   "cell_type": "markdown",
   "source": [
    "### 1. Write a program using list comprehension to find primes in range 2 to 100"
   ],
   "metadata": {
    "collapsed": false
   },
   "id": "19f6158f39ba5e39"
  },
  {
   "cell_type": "code",
   "execution_count": 38,
   "outputs": [
    {
     "name": "stdout",
     "output_type": "stream",
     "text": [
      "[2, 3, 5, 7, 11, 13, 17, 19, 23, 29, 31, 37, 41, 43, 47, 53, 59, 61, 67, 71, 73, 79, 83, 89, 97]\n"
     ]
    }
   ],
   "source": [
    "prime_nos = [i for i in range(2, 100) \n",
    "             if all(i % j != 0 for j in range(2, i))]\n",
    "print(prime_nos)"
   ],
   "metadata": {
    "collapsed": false,
    "ExecuteTime": {
     "end_time": "2023-08-18T19:16:39.547236100Z",
     "start_time": "2023-08-18T19:16:39.529225700Z"
    }
   },
   "id": "292b4fe194dbd953"
  },
  {
   "cell_type": "markdown",
   "source": [
    "### 2. Write a function to reverse a string\n",
    "String = 'Data Science' "
   ],
   "metadata": {
    "collapsed": false
   },
   "id": "4bf4f11dcbf69334"
  },
  {
   "cell_type": "code",
   "execution_count": 44,
   "outputs": [
    {
     "name": "stdout",
     "output_type": "stream",
     "text": [
      "ecneicS ataD\n"
     ]
    }
   ],
   "source": [
    "String = 'Data Science'\n",
    "\n",
    "def reverse(string):\n",
    "    str1 = ''\n",
    "    for i in string:\n",
    "        str1 = i + str1\n",
    "    print(str1)\n",
    "reverse(String)"
   ],
   "metadata": {
    "collapsed": false,
    "ExecuteTime": {
     "end_time": "2023-08-18T19:22:08.624920700Z",
     "start_time": "2023-08-18T19:22:08.608818Z"
    }
   },
   "id": "8edf6384a97d1b01"
  },
  {
   "cell_type": "markdown",
   "source": [
    "### 3. Write a program to extract the words from the given list which have their first character in uppercase\n",
    "Days = ['Monday', 'tuesday', 'friday', 'Sunday', 'Saturday'] \n"
   ],
   "metadata": {
    "collapsed": false
   },
   "id": "f954ed393424d8ee"
  },
  {
   "cell_type": "code",
   "execution_count": 47,
   "outputs": [
    {
     "name": "stdout",
     "output_type": "stream",
     "text": [
      "['Monday', 'Sunday', 'Saturday']\n"
     ]
    }
   ],
   "source": [
    "Days = ['Monday', 'tuesday', 'friday', 'Sunday', 'Saturday']\n",
    "Day_op = []\n",
    "for day in Days:\n",
    "    if 'A' <= day[0] <= 'Z':\n",
    "        Day_op.append(day)\n",
    "print(Day_op)"
   ],
   "metadata": {
    "collapsed": false,
    "ExecuteTime": {
     "end_time": "2023-08-18T19:26:28.751511600Z",
     "start_time": "2023-08-18T19:26:28.735526800Z"
    }
   },
   "id": "350a0e0b3e38241a"
  },
  {
   "cell_type": "markdown",
   "source": [
    "### 4. Write a program to extract the year part from the dates in the given list\n",
    "** Batch = ['15-06-1997', '15-06-2011', '15-06-1993', '15-06-2020'] **\n",
    "\n",
    "** Output: ['1997', '2011', '1993', '2020'] **"
   ],
   "metadata": {
    "collapsed": false
   },
   "id": "2f9948ccfcd14cba"
  },
  {
   "cell_type": "code",
   "execution_count": 68,
   "outputs": [
    {
     "name": "stdout",
     "output_type": "stream",
     "text": [
      "['1997', '2011', '1993', '2020']\n"
     ]
    }
   ],
   "source": [
    "Batch = ['15-06-1997', '15-06-2011', '15-06-1993', '15-06-2020']\n",
    "# Output: ['1997', '2011', '1993', '2020']\n",
    "\n",
    "year = ''\n",
    "out_year = []\n",
    "for x in Batch:\n",
    "    for j in range(6,len(x)):\n",
    "        year = year + x[j]\n",
    "    out_year.append(year)\n",
    "    year = ''\n",
    "print(out_year)"
   ],
   "metadata": {
    "collapsed": false,
    "ExecuteTime": {
     "end_time": "2023-08-18T19:36:32.474880100Z",
     "start_time": "2023-08-18T19:36:32.458748100Z"
    }
   },
   "id": "5a0f3627ec39f392"
  }
 ],
 "metadata": {
  "kernelspec": {
   "display_name": "Python 3",
   "language": "python",
   "name": "python3"
  },
  "language_info": {
   "codemirror_mode": {
    "name": "ipython",
    "version": 2
   },
   "file_extension": ".py",
   "mimetype": "text/x-python",
   "name": "python",
   "nbconvert_exporter": "python",
   "pygments_lexer": "ipython2",
   "version": "2.7.6"
  }
 },
 "nbformat": 4,
 "nbformat_minor": 5
}
