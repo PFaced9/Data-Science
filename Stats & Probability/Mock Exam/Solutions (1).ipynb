{
 "cells": [
  {
   "cell_type": "code",
   "execution_count": 34,
   "outputs": [],
   "source": [
    "#Exam Solutions - Dakshay Ahuja(2010990178)\n",
    "import numpy as np\n",
    "from scipy import stats"
   ],
   "metadata": {
    "collapsed": false,
    "ExecuteTime": {
     "end_time": "2023-08-27T14:22:06.365432Z",
     "start_time": "2023-08-27T14:22:06.355829Z"
    }
   },
   "id": "a72db53b72cd2538"
  },
  {
   "cell_type": "code",
   "execution_count": 4,
   "id": "initial_id",
   "metadata": {
    "collapsed": true,
    "ExecuteTime": {
     "end_time": "2023-08-27T13:54:36.762699Z",
     "start_time": "2023-08-27T13:54:36.759267Z"
    }
   },
   "outputs": [
    {
     "name": "stdout",
     "output_type": "stream",
     "text": [
      "The probability is: 9.94 %\n"
     ]
    }
   ],
   "source": [
    "#Q1\n",
    "from math import comb\n",
    "total_ways = comb(52, 3)\n",
    "favorable_ways = comb(13, 1) * comb(13, 1) * comb(13, 1)\n",
    "# Probability of the favorable outcome\n",
    "prob = (favorable_ways / total_ways) * 100\n",
    "print(\"The probability is:\", round(prob,2), \"%\")"
   ]
  },
  {
   "cell_type": "code",
   "execution_count": 7,
   "outputs": [
    {
     "name": "stdout",
     "output_type": "stream",
     "text": [
      "Probability of Action or Drama is 78%\n"
     ]
    }
   ],
   "source": [
    "#Q2\n",
    "action_prob = 42\n",
    "comedy_prob = 54\n",
    "drama_prob = 36\n",
    "horror_prob = 12\n",
    "print(\"Probability of Action or Drama is {}%\".format(action_prob+drama_prob))"
   ],
   "metadata": {
    "collapsed": false,
    "ExecuteTime": {
     "end_time": "2023-08-27T13:59:55.621419Z",
     "start_time": "2023-08-27T13:59:55.616538Z"
    }
   },
   "id": "3233f13138f4d597"
  },
  {
   "cell_type": "code",
   "execution_count": 27,
   "outputs": [
    {
     "name": "stdout",
     "output_type": "stream",
     "text": [
      "The probability of receiving 10 applications in 1 minute is approximately 8.583%\n",
      "The probability of receiving at least 17 applications in 2 minutes is approximately 33.59%\n"
     ]
    }
   ],
   "source": [
    "#Q3\n",
    "applications_per_hour = 450\n",
    "applications_per_min = 450/60\n",
    "\n",
    "prob_a = stats.poisson.pmf(10,applications_per_min) * 100\n",
    "print(\"The probability of receiving 10 applications in 1 minute is approximately {}%\".format(round(prob_a,3)))\n",
    "\n",
    "applications_every_2_min = applications_per_min * 2\n",
    "prob_b = (1 - stats.poisson.cdf(16,applications_every_2_min))*100\n",
    "print(\"The probability of receiving at least 17 applications in 2 minutes is approximately {}%\".format(round(prob_b,2)))"
   ],
   "metadata": {
    "collapsed": false,
    "ExecuteTime": {
     "end_time": "2023-08-27T14:09:16.669452Z",
     "start_time": "2023-08-27T14:09:16.663312Z"
    }
   },
   "id": "b6672a821c06c8c1"
  },
  {
   "cell_type": "code",
   "execution_count": 30,
   "outputs": [
    {
     "name": "stdout",
     "output_type": "stream",
     "text": [
      "The probability of less than 3 patients in a 10 years period in one family is 7.58%\n"
     ]
    }
   ],
   "source": [
    "#Q4\n",
    "prob_per_year = 0.05\n",
    "prob_every_10_year = prob_per_year * 10\n",
    "prob = stats.poisson.pmf(2,prob_every_10_year) * 100\n",
    "print(\"The probability of less than 3 patients in a 10 years period in one family is {}%\".format(round(prob,2)))"
   ],
   "metadata": {
    "collapsed": false,
    "ExecuteTime": {
     "end_time": "2023-08-27T14:13:14.294809Z",
     "start_time": "2023-08-27T14:13:14.288628Z"
    }
   },
   "id": "a0bfe479f0006649"
  },
  {
   "cell_type": "code",
   "execution_count": 31,
   "outputs": [
    {
     "name": "stdout",
     "output_type": "stream",
     "text": [
      "The probability that bag 'B' was selected given a black ball was drawn is approximately 50.45%\n"
     ]
    }
   ],
   "source": [
    "#Q5\n",
    "# Given probabilities\n",
    "prob_A = 1 / 2\n",
    "prob_black_given_A = 5 / 8\n",
    "prob_B = 1 / 2\n",
    "prob_black_given_B = 7 / 11\n",
    "\n",
    "# Calculate the overall probability of drawing a black ball\n",
    "prob_black = prob_black_given_A * prob_A + prob_black_given_B * prob_B\n",
    "\n",
    "# Calculate the probability that bag B was selected given a black ball was drawn\n",
    "prob_B_given_black = ((prob_black_given_B * prob_B) / prob_black) *100\n",
    "\n",
    "print(\"The probability that bag 'B' was selected given a black ball was drawn is approximately {}%\".format(round(prob_B_given_black,2)))"
   ],
   "metadata": {
    "collapsed": false,
    "ExecuteTime": {
     "end_time": "2023-08-27T14:17:47.560414Z",
     "start_time": "2023-08-27T14:17:47.539237Z"
    }
   },
   "id": "8e97f6758dcc247b"
  },
  {
   "cell_type": "code",
   "execution_count": 49,
   "outputs": [
    {
     "name": "stdout",
     "output_type": "stream",
     "text": [
      "Mean: 150.15\n",
      "Standard Deviation: 66.32\n",
      "Z-Statistics can be calculated\n",
      "Descriptive Statistics: DescribeResult(nobs=41, minmax=(20, 355), mean=150.14634146341464, variance=4397.928048780487, skewness=0.20025923069940593, kurtosis=1.8149492837740295)\n"
     ]
    }
   ],
   "source": [
    "#Q6\n",
    "data = [152, 153, 154,20,55,26,64,88,150, 151, 155, 156,157,158,159, 250, 158, 22,33,43,159, 160, 161, 162, 163, 164, 165, 166, 167, 168, 169, 170, 171, 172, 355, 174, 175, 176, 177,178, 300]\n",
    "#Calculating Mean\n",
    "mean = np.mean(data)\n",
    "#Calculating Standard Deviation\n",
    "std_dev = np.std(data, ddof=1)\n",
    "#Checking if we can apply z-statistics(length of data should be greater than 30)\n",
    "n = len(data)\n",
    "apply_z_stats = n > 30\n",
    "#Calculate z-score\n",
    "z_scores = stats.zscore(data, ddof=1)\n",
    "#Calculate Descriptive Statistics\n",
    "descriptive_stats = stats.describe(data)\n",
    "\n",
    "print(\"Mean:\", round(mean,2))\n",
    "print(\"Standard Deviation:\", round(std_dev,2))\n",
    "if apply_z_stats:\n",
    "    print(\"Z-Statistics can be calculated\")\n",
    "    # print(\"Z-Statistics:\", z_scores)\n",
    "else:\n",
    "    print(\"Z-Statistics can't be calculated\")\n",
    "print(\"Descriptive Statistics:\", descriptive_stats)"
   ],
   "metadata": {
    "collapsed": false,
    "ExecuteTime": {
     "end_time": "2023-08-27T14:28:23.764547Z",
     "start_time": "2023-08-27T14:28:23.761427Z"
    }
   },
   "id": "a9173040b4b567d1"
  },
  {
   "cell_type": "code",
   "execution_count": 50,
   "outputs": [
    {
     "name": "stdout",
     "output_type": "stream",
     "text": [
      "Original data: [152 153 154  20  55  26  64  88 150 151 155 156 157 158 159 250 158  22\n",
      "  33  43 159 160 161 162 163 164 165 166 167 168 169 170 171 172 355 174\n",
      " 175 176 177 178 300]\n",
      "Outliers: [ 20  55  26  64  88 250  22  33  43 355 300]\n",
      "Data after removing outliers: [152 153 154 150 151 155 156 157 158 159 158 159 160 161 162 163 164 165\n",
      " 166 167 168 169 170 171 172 174 175 176 177 178]\n"
     ]
    }
   ],
   "source": [
    "#Q7\n",
    "data = np.array([152, 153, 154,20,55,26,64,88,150, 151, 155, 156,157,158,159, 250, 158, 22,33,43,159, 160, 161, 162, 163, 164,165, 166, 167, 168, 169, 170, 171, 172, 355, 174, 175, 176, 177,178, 300 ])\n",
    "\n",
    "# Calculate the quartiles\n",
    "q1 = np.percentile(data, 25)\n",
    "q3 = np.percentile(data, 75)\n",
    "\n",
    "# Calculate the IQR\n",
    "iqr = q3 - q1\n",
    "\n",
    "# Define the outlier range using the IQR\n",
    "lower_bound = q1 - 1.5 * iqr\n",
    "upper_bound = q3 + 1.5 * iqr\n",
    "\n",
    "# Identify outliers\n",
    "outliers = np.where((data < lower_bound) | (data > upper_bound))[0]\n",
    "\n",
    "# Remove outliers\n",
    "data_no_outliers = np.delete(data, outliers)\n",
    "\n",
    "# Output results\n",
    "print(\"Original data:\", data)\n",
    "print(\"Outliers:\", data[outliers])\n",
    "print(\"Data after removing outliers:\", data_no_outliers)"
   ],
   "metadata": {
    "collapsed": false,
    "ExecuteTime": {
     "end_time": "2023-08-27T15:25:02.402140Z",
     "start_time": "2023-08-27T15:25:02.382877Z"
    }
   },
   "id": "cb6523d9ef9d0dc2"
  },
  {
   "cell_type": "code",
   "execution_count": 58,
   "outputs": [
    {
     "name": "stdout",
     "output_type": "stream",
     "text": [
      "T-Statistic: -2.0596\n",
      "P-Value: 0.0585\n",
      "Fail to reject the null hypothesis: No significant effect of the protein supplier on the diet.\n"
     ]
    }
   ],
   "source": [
    "#Q8\n",
    "before = np.array([90, 82, 77, 81, 98, 100, 111, 84, 85, 81, 81, 73, 81, 89, 83])\n",
    "after = np.array([85, 88, 86, 80, 86, 99, 98, 79, 79, 78, 76, 78, 78, 74, 78])\n",
    "\n",
    "# Perform paired t-test\n",
    "t_statistic, p_value = stats.ttest_rel(after, before)\n",
    "\n",
    "alpha = 0.05\n",
    "\n",
    "print(\"T-Statistic: {}\".format(round(t_statistic,4)))\n",
    "print(\"P-Value: {}\".format(round(p_value,4)))\n",
    "\n",
    "if p_value < alpha:\n",
    "    print(\"Reject the null hypothesis: The protein supplier affected the diet.\")\n",
    "else:\n",
    "    print(\"Fail to reject the null hypothesis: No significant effect of the protein supplier on the diet.\")"
   ],
   "metadata": {
    "collapsed": false,
    "ExecuteTime": {
     "end_time": "2023-08-27T15:30:06.121912Z",
     "start_time": "2023-08-27T15:30:06.116097Z"
    }
   },
   "id": "991d14624e323145"
  },
  {
   "cell_type": "code",
   "execution_count": 60,
   "outputs": [
    {
     "name": "stdout",
     "output_type": "stream",
     "text": [
      "F-Statistic: 1.5526\n",
      "P-Value: 0.2439\n",
      "Fail to reject the null hypothesis: There is no significant difference among the groups.\n"
     ]
    }
   ],
   "source": [
    "#Q9\n",
    "group1_marks = np.array([80, 30, 40, 70, 88, 85])\n",
    "group2_marks = np.array([96, 77, 65, 88, 74, 83])\n",
    "group3_marks = np.array([90, 87, 75, 58, 84, 90])\n",
    "\n",
    "# Perform one-way ANOVA test\n",
    "f_statistic, p_value = stats.f_oneway(group1_marks, group2_marks, group3_marks)\n",
    "\n",
    "alpha = 0.05\n",
    "\n",
    "print(\"F-Statistic: {}\".format(round(f_statistic,4)))\n",
    "print(\"P-Value: {}\".format(round(p_value,4)))\n",
    "\n",
    "if p_value < alpha:\n",
    "    print(\"Reject the null hypothesis: There is a significant difference among the groups.\")\n",
    "else:\n",
    "    print(\"Fail to reject the null hypothesis: There is no significant difference among the groups.\")"
   ],
   "metadata": {
    "collapsed": false,
    "ExecuteTime": {
     "end_time": "2023-08-27T15:31:23.355036Z",
     "start_time": "2023-08-27T15:31:23.348798Z"
    }
   },
   "id": "d7bbfa7d0d2507fc"
  },
  {
   "cell_type": "code",
   "execution_count": 62,
   "outputs": [
    {
     "name": "stdout",
     "output_type": "stream",
     "text": [
      "Chi-Square Statistic: 0.0\n",
      "P-Value: 1.0\n",
      "Fail to reject the null hypothesis: The days of the week have the same frequencies of customers.\n"
     ]
    }
   ],
   "source": [
    "#Q10\n",
    "observed = np.array([[1419, 1320, 1526, 1289, 1620, 2067, 2055]])\n",
    "\n",
    "# Total number of customers\n",
    "total_customers = 11296\n",
    "\n",
    "# Calculate expected frequencies assuming uniform distribution\n",
    "expected = np.full(observed.shape, total_customers / 7)\n",
    "\n",
    "# Perform chi-square test\n",
    "chi2_statistic, p_value, _, _ = stats.chi2_contingency(observed, expected)\n",
    "\n",
    "alpha = 0.1\n",
    "\n",
    "print(\"Chi-Square Statistic: {}\".format(round(chi2_statistic,4)))\n",
    "print(\"P-Value: {}\".format(round(p_value,4)))\n",
    "\n",
    "if p_value < alpha:\n",
    "    print(\"Reject the null hypothesis: The days of the week have different frequencies of customers.\")\n",
    "else:\n",
    "    print(\"Fail to reject the null hypothesis: The days of the week have the same frequencies of customers.\")\n"
   ],
   "metadata": {
    "collapsed": false,
    "ExecuteTime": {
     "end_time": "2023-08-27T15:33:04.450246Z",
     "start_time": "2023-08-27T15:33:04.442352Z"
    }
   },
   "id": "2dff22b14749ebf8"
  }
 ],
 "metadata": {
  "kernelspec": {
   "display_name": "Python 3",
   "language": "python",
   "name": "python3"
  },
  "language_info": {
   "codemirror_mode": {
    "name": "ipython",
    "version": 2
   },
   "file_extension": ".py",
   "mimetype": "text/x-python",
   "name": "python",
   "nbconvert_exporter": "python",
   "pygments_lexer": "ipython2",
   "version": "2.7.6"
  }
 },
 "nbformat": 4,
 "nbformat_minor": 5
}
