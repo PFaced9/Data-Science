{
 "cells": [
  {
   "cell_type": "markdown",
   "source": [
    "\n",
    "# Name - ANUBHAV GUPTA\n",
    "# Roll No. - 2010990096\n",
    "# Mock Test - Answers"
   ],
   "metadata": {
    "collapsed": false
   },
   "id": "c2a908adf1af361e"
  },
  {
   "cell_type": "code",
   "execution_count": 1,
   "outputs": [],
   "source": [
    "from scipy import stats\n",
    "from scipy.stats import norm\n",
    "from scipy.stats import poisson\n",
    "import pandas as pd\n",
    "import seaborn as sns\n",
    "import matplotlib.pyplot as plt\n",
    "import numpy as np\n",
    "import math\n",
    "from scipy.stats import skew\n"
   ],
   "metadata": {
    "collapsed": false,
    "ExecuteTime": {
     "end_time": "2023-08-29T04:04:35.714836400Z",
     "start_time": "2023-08-29T04:04:35.703755100Z"
    }
   },
   "id": "initial_id"
  },
  {
   "cell_type": "markdown",
   "source": [
    "### Q From the pack of 52 cards, three cards are drawn randomly without replacement then what is the probability that one card is a diamond, one card is a heart and one is spade?"
   ],
   "metadata": {
    "collapsed": false
   },
   "id": "8369bf7b103ded22"
  },
  {
   "cell_type": "code",
   "execution_count": 8,
   "outputs": [
    {
     "name": "stdout",
     "output_type": "stream",
     "text": [
      "The probability of drawing one diamond, one heart, and one spade is 4.97%\n"
     ]
    }
   ],
   "source": [
    "def calculate_probability():\n",
    "    total_cards = 52\n",
    "    diamonds = 13\n",
    "    hearts = 13\n",
    "    spades = 13\n",
    "    probability_per_case = (diamonds/total_cards) * (hearts/(total_cards - 1)) * (spades/(total_cards - 2)) * 3\n",
    "    total_probability = probability_per_case \n",
    "    return total_probability\n",
    "result = calculate_probability() * 100\n",
    "print(\"The probability of drawing one diamond, one heart, and one spade is {}%\".format(round(result,2)))"
   ],
   "metadata": {
    "collapsed": false,
    "ExecuteTime": {
     "end_time": "2023-08-29T07:52:27.533113700Z",
     "start_time": "2023-08-29T07:52:27.525605900Z"
    }
   },
   "id": "277504e2f9ecd91a"
  },
  {
   "cell_type": "markdown",
   "source": [
    "### Q2 - The information was gathered by a survey done by a production company: 42 % of the respondents said that they like action movies, 54 % like comedy movies, 36 % like drama movies, and 12 % like horror movies. If a person is selected at random, find the probability that his or her favourite movie type is either action or drama."
   ],
   "metadata": {
    "collapsed": false
   },
   "id": "3a03d1cae57c1543"
  },
  {
   "cell_type": "code",
   "execution_count": 3,
   "outputs": [
    {
     "name": "stdout",
     "output_type": "stream",
     "text": [
      "The probability of favourite movie type is either action or drama is 78.0%\n"
     ]
    }
   ],
   "source": [
    "prob_action = .42\n",
    "prob_drama = .36\n",
    "prob_either = (prob_action + prob_drama) * 100 \n",
    "print(\"The probability of favourite movie type is either action or drama is {}%\".format(round(prob_either,2)))"
   ],
   "metadata": {
    "collapsed": false,
    "ExecuteTime": {
     "end_time": "2023-08-29T04:04:35.894661100Z",
     "start_time": "2023-08-29T04:04:35.733749700Z"
    }
   },
   "id": "4cb58191418d30eb"
  },
  {
   "cell_type": "markdown",
   "source": [
    "### Q3 - An MNC company receives 450 applications from applicants in one hour. Find the probability of\n",
    "#### a. Receiving 10 applications in 1 minute.\n",
    "#### b. Receiving at least 17 applications in 2 minutes."
   ],
   "metadata": {
    "collapsed": false
   },
   "id": "a191af1593d82fa2"
  },
  {
   "cell_type": "code",
   "execution_count": 4,
   "outputs": [
    {
     "name": "stdout",
     "output_type": "stream",
     "text": [
      "The probability of receiving 10 applications in 1 minute is approximately 8.583%\n",
      "The probability of receiving at least 17 applications in 2 minutes is approximately 33.59%\n"
     ]
    }
   ],
   "source": [
    "applications_per_hr = 450\n",
    "applications_per_min = 450/60\n",
    "\n",
    "prob_10 = stats.poisson.pmf(10,applications_per_min) * 100 # pass x, lambda\n",
    "print(\"The probability of receiving 10 applications in 1 minute is approximately {}%\".format(round(prob_10,3)))\n",
    "\n",
    "applications_every_2_min = applications_per_min * 2\n",
    "prob_17 = (1 - stats.poisson.cdf(16,applications_every_2_min)) * 100\n",
    "print(\"The probability of receiving at least 17 applications in 2 minutes is approximately {}%\".format(round(prob_17,2)))"
   ],
   "metadata": {
    "collapsed": false,
    "ExecuteTime": {
     "end_time": "2023-08-29T04:04:35.928793900Z",
     "start_time": "2023-08-29T04:04:35.747750700Z"
    }
   },
   "id": "d3aab4b21a06393a"
  },
  {
   "cell_type": "markdown",
   "source": [
    "### Q4 - The government of state union has declared a free medical insurance for below poverty line population by using following assumptions:\n",
    "#### a. In every year, there can be at most one patient who needs medical insurance in a family.\n",
    "#### b. Every year, the probability of a medical emergency is 0.05.**\n",
    "#### c. The number of patients every year is independent.\n",
    "#### (Using the assumptions, calculate the probability that there are fewer than 3 patients in a 10 years period in one family**)"
   ],
   "metadata": {
    "collapsed": false
   },
   "id": "31c2b29457041011"
  },
  {
   "cell_type": "code",
   "execution_count": 5,
   "outputs": [
    {
     "name": "stdout",
     "output_type": "stream",
     "text": [
      "The probability of less than 3 patients in a 10 years period in one family is 98.56%\n"
     ]
    }
   ],
   "source": [
    "prob_per_year_me = 0.05\n",
    "prob_every_10_year = prob_per_year_me * 10\n",
    "prob = stats.poisson.cdf(2,prob_every_10_year) * 100\n",
    "print(\"The probability of less than 3 patients in a 10 years period in one family is {}%\".format(round(prob,2)))"
   ],
   "metadata": {
    "collapsed": false,
    "ExecuteTime": {
     "end_time": "2023-08-29T04:04:35.946434500Z",
     "start_time": "2023-08-29T04:04:35.775042Z"
    }
   },
   "id": "d6fbbd76adcac57e"
  },
  {
   "cell_type": "markdown",
   "source": [
    "### Q5 - A bag A contains 3 red and 5 black balls and bag B contains 4 white and 7 black balls. A bag is selected randomly and a ball is drawn from it. A drawn ball is observed to be black. Find the probabiliy that bag ‘B’ was selected."
   ],
   "metadata": {
    "collapsed": false
   },
   "id": "1fc79c6e55e1f45b"
  },
  {
   "cell_type": "code",
   "execution_count": 6,
   "outputs": [
    {
     "name": "stdout",
     "output_type": "stream",
     "text": [
      "The probability that bag 'B' was selected given a black ball was drawn is approximately 50.45%\n",
      "0.6306818181818181\n"
     ]
    }
   ],
   "source": [
    "prob_A_bag = 1 / 2\n",
    "prob_black_given_A = 5 / 8\n",
    "prob_B_bag = 1 / 2\n",
    "prob_black_given_B = 7 / 11\n",
    "\n",
    "prob_black = prob_black_given_A * prob_A_bag + prob_black_given_B * prob_B_bag # using total probability\n",
    "prob_B_given_black = ((prob_black_given_B * prob_B_bag) / prob_black) * 100\n",
    "\n",
    "print(\"The probability that bag 'B' was selected given a black ball was drawn is approximately {}%\".format(round(prob_B_given_black,2)))\n",
    "print(prob_black)"
   ],
   "metadata": {
    "collapsed": false,
    "ExecuteTime": {
     "end_time": "2023-08-29T04:04:35.947427Z",
     "start_time": "2023-08-29T04:04:35.790851700Z"
    }
   },
   "id": "101d281d7019e3b5"
  },
  {
   "cell_type": "markdown",
   "source": [
    "### Q6 - data = [152, 153, 154,20,55,26,64,88,150, 151, 155, 156,157,158,159, 250, 158, 22,33,43,159, 160, 161, 162, 163, 164, 165, 166, 167, 168, 169, 170, 171, 172, 355, 174, 175, 176, 177,178, 300]\n",
    "#### a) Calculate the mean and standard deviation of these observations and check if calculated Z-statistics can be applied or not.\n",
    "#### b) Obtain the descriptive statistics of the data."
   ],
   "metadata": {
    "collapsed": false
   },
   "id": "45f1d9fbb3f62254"
  },
  {
   "cell_type": "code",
   "execution_count": 7,
   "outputs": [
    {
     "name": "stdout",
     "output_type": "stream",
     "text": [
      "Mean: 150.15\n",
      "Standard Deviation: 65.5\n",
      "Z-Stastics can be applied to the given data: 41\n",
      "DescribeResult(nobs=41, minmax=(20, 355), mean=150.14634146341464, variance=4397.928048780487, skewness=0.20025923069940593, kurtosis=1.8149492837740295)\n"
     ]
    }
   ],
   "source": [
    "data = [152, 153, 154,20,55,26,64,88,150, 151, 155, 156,157,158,159, 250, 158, 22,33,43,159, 160, 161, 162, 163, 164, 165, 166, 167, 168, 169, 170, 171, 172, 355, 174, 175, 176, 177,178, 300]\n",
    "\n",
    "mean = np.mean(data)\n",
    "standardDeviation = np.std(data)\n",
    "print(\"Mean:\", round(mean,2))\n",
    "print(\"Standard Deviation:\", round(standardDeviation,2))\n",
    "\n",
    "length = len(data)\n",
    "print(\"Z-Stastics can be applied to the given data:\", length)\n",
    "print(stats.describe(data))"
   ],
   "metadata": {
    "collapsed": false,
    "ExecuteTime": {
     "end_time": "2023-08-29T04:04:35.950705400Z",
     "start_time": "2023-08-29T04:04:35.806092600Z"
    }
   },
   "id": "4710eb1c65447e90"
  },
  {
   "cell_type": "markdown",
   "source": [
    "### Q7 - Identify the outliers from the data and if any present remove it.\n",
    "#### Data =[152, 153, 154,20,55,26,64,88,150, 151, 155, 156,157,158,159, 250, 158, 22,33,43,159, 160, 161, 162, 163, 164,165, 166, 167, 168, 169, 170, 171, 172, 355, 174, 175, 176, 177,178, 300 ].\n"
   ],
   "metadata": {
    "collapsed": false
   },
   "id": "be6222070c01a43d"
  },
  {
   "cell_type": "code",
   "execution_count": 8,
   "outputs": [
    {
     "name": "stdout",
     "output_type": "stream",
     "text": [
      "Data after removing outliers: [152 153 154 150 151 155 156 157 158 159 158 159 160 161 162 163 164 165\n",
      " 166 167 168 169 170 171 172 174 175 176 177 178]\n"
     ]
    }
   ],
   "source": [
    "data = np.array([152, 153, 154,20,55,26,64,88,150, 151, 155,\n",
    "156,157,158,159, 250, 158, 22,33,43,159, 160, 161, 162, 163,\n",
    "164,165, 166, 167, 168, 169, 170, 171, 172, 355, 174, 175, 176,\n",
    "177,178, 300])\n",
    "\n",
    "# Outliers Range = [Q1 - 1.5*IQR, Q3 + 1.5*IQR]\n",
    "Q1 = np.quantile(data, 0.25)\n",
    "Q3 = np.quantile(data, 0.75)\n",
    "IQR = Q3 - Q1\n",
    "lower_bound = Q1 - 1.5*IQR\n",
    "upper_bound = Q3 + 1.5*IQR\n",
    "\n",
    "Outliers = np.where((data < lower_bound) | (data > upper_bound))\n",
    "new_data = np.delete(data, Outliers)\n",
    "print(\"Data after removing outliers:\", new_data)"
   ],
   "metadata": {
    "collapsed": false,
    "ExecuteTime": {
     "end_time": "2023-08-29T04:04:35.951706600Z",
     "start_time": "2023-08-29T04:04:35.827222300Z"
    }
   },
   "id": "f68e6c1ffa860c5"
  },
  {
   "cell_type": "markdown",
   "source": [
    "### Q8 - In the population, the mean weight is 82. A team of dietitians wants to test a new protein supplier to see if it has either a positive or negative effect on diet, or no effect at all. A sample of 15 participants who have taken the protein supplier. Did the protein supplier affect diet? Where alpha=0.05.\n",
    "\n",
    "Before After\n",
    "90 85\n",
    "82 88\n",
    "77 86\n",
    "81 80\n",
    "98 86\n",
    "100 99\n",
    "111 98\n",
    "84 79\n",
    "85 79\n",
    "81 78\n",
    "81 76\n",
    "73 78\n",
    "81 78\n",
    "89 74\n",
    "83 78\n"
   ],
   "metadata": {
    "collapsed": false
   },
   "id": "c8c57dfd90feace1"
  },
  {
   "cell_type": "code",
   "execution_count": 9,
   "outputs": [
    {
     "name": "stdout",
     "output_type": "stream",
     "text": [
      "T-Statistic: -2.0596\n",
      "P-Value: 0.0585\n",
      "Fail to reject the null hypothesis: No significant effect of the protein supplier on the diet.\n"
     ]
    }
   ],
   "source": [
    "weight_before = np.array([90, 82, 77, 81, 98, 100, 111, 84, 85, 81, 81, 73, 81, 89, 83])\n",
    "weight_after = np.array([85, 88, 86, 80, 86, 99, 98, 79, 79, 78, 76, 78, 78, 74, 78])\n",
    "t_statistic, p_value = stats.ttest_rel(weight_after, weight_before)\n",
    "\n",
    "degree_of_significance = 0.05\n",
    "\n",
    "print(\"T-Statistic: {}\".format(round(t_statistic,4)))\n",
    "print(\"P-Value: {}\".format(round(p_value,4)))\n",
    "\n",
    "if p_value > degree_of_significance:\n",
    "    print(\"Fail to reject the null hypothesis: No significant effect of the protein supplier on the diet.\") # H0 = ASSUMED THERE WAS NO CHANGE\n",
    "else:\n",
    "    print(\"Reject the null hypothesis: The protein supplier affected the diet.\")"
   ],
   "metadata": {
    "collapsed": false,
    "ExecuteTime": {
     "end_time": "2023-08-29T04:04:35.969428900Z",
     "start_time": "2023-08-29T04:04:35.848079800Z"
    }
   },
   "id": "5bcd31d063f3bea0"
  },
  {
   "cell_type": "markdown",
   "source": [
    "#### Q9 - Annual project of university done by three groups of students with equal sample sizes. Each group was given a different task. After the final presentation students get the marks. The scores are given below. Find out whether groups performed the same or not.\n",
    "Group1_Marks Group2_Marks Group3_Marks\n",
    "80 96 90\n",
    "30 77 87\n",
    "40 65 75\n",
    "70 88 58\n",
    "88 74 84\n",
    "85 83 90\n"
   ],
   "metadata": {
    "collapsed": false
   },
   "id": "92022290d2132c4a"
  },
  {
   "cell_type": "code",
   "execution_count": 10,
   "outputs": [
    {
     "name": "stdout",
     "output_type": "stream",
     "text": [
      "F-Statistic: 1.5526\n",
      "P-Value: 0.2439\n",
      "Fail to reject the null hypothesis: There is no significant difference among the groups.\n"
     ]
    }
   ],
   "source": [
    "# USE ANOVA\n",
    "group1_marks = np.array([80, 30, 40, 70, 88, 85])\n",
    "group2_marks = np.array([96, 77, 65, 88, 74, 83])\n",
    "group3_marks = np.array([90, 87, 75, 58, 84, 90])\n",
    "f_statistic, p_value = stats.f_oneway(group1_marks, group2_marks, group3_marks)\n",
    "degree_of_significance = 0.05\n",
    "print(\"F-Statistic: {}\".format(round(f_statistic,4)))   \n",
    "print(\"P-Value: {}\".format(round(p_value,4)))\n",
    "\n",
    "if p_value < degree_of_significance:\n",
    "    print(\"Reject the null hypothesis: There is a significant difference among the groups.\")\n",
    "else:\n",
    "    print(\"Fail to reject the null hypothesis: There is no significant difference among the groups.\")"
   ],
   "metadata": {
    "collapsed": false,
    "ExecuteTime": {
     "end_time": "2023-08-29T04:04:35.970434500Z",
     "start_time": "2023-08-29T04:04:35.869142800Z"
    }
   },
   "id": "a304f6a36613b017"
  },
  {
   "cell_type": "markdown",
   "source": [
    "#### Q10 - The number of customers that arrive on different days in a week at the Hotel Taj is given below. Test the claim that the different days of the week have the same frequency of customers. (Use the significance level as 0.1.**)\n",
    "Day No. of Customers\n",
    "0 Mon 1419\n",
    "1 Tues 1320\n",
    "2 Wed 1526\n",
    "3 Thurs 1289\n",
    "4 Fri 1620\n",
    "5 Sat 2067\n",
    "6 Sun 2055\n",
    "7 Total 11296"
   ],
   "metadata": {
    "collapsed": false
   },
   "id": "8b16ebea652afbe4"
  },
  {
   "cell_type": "code",
   "execution_count": 11,
   "outputs": [
    {
     "name": "stdout",
     "output_type": "stream",
     "text": [
      "Chi-Square Statistic: 395.08569405099144\n",
      "P-Value: 3.1836191565011486e-82\n",
      "Reject the null hypothesis: The days of the week have different frequencies of customers.\n"
     ]
    }
   ],
   "source": [
    "observed = np.array([1419, 1320, 1526, 1289, 1620, 2067, 2055])\n",
    "total_customers =11296\n",
    "\n",
    "expected = np.full(observed.shape, total_customers / 7)\n",
    "chi2_statistic, p_value= stats.chisquare(observed, expected)\n",
    "degree_of_significance = 0.1\n",
    "print(\"Chi-Square Statistic: {}\".format(chi2_statistic))\n",
    "print(\"P-Value: {}\".format(p_value))\n",
    "\n",
    "if p_value < degree_of_significance:\n",
    "    print(\"Reject the null hypothesis: The days of the week have different frequencies of customers.\")\n",
    "else:\n",
    "    print(\"Fail to reject the null hypothesis: The days of the week have the same frequencies of customers.\")\n"
   ],
   "metadata": {
    "collapsed": false,
    "ExecuteTime": {
     "end_time": "2023-08-29T04:04:35.977604Z",
     "start_time": "2023-08-29T04:04:35.881782300Z"
    }
   },
   "id": "32afa7d9e1ee1030"
  },
  {
   "cell_type": "code",
   "execution_count": 11,
   "outputs": [],
   "source": [],
   "metadata": {
    "collapsed": false,
    "ExecuteTime": {
     "end_time": "2023-08-29T04:04:35.978598900Z",
     "start_time": "2023-08-29T04:04:35.898656800Z"
    }
   },
   "id": "503c587ec52408e8"
  }
 ],
 "metadata": {
  "kernelspec": {
   "display_name": "Python 3",
   "language": "python",
   "name": "python3"
  },
  "language_info": {
   "codemirror_mode": {
    "name": "ipython",
    "version": 2
   },
   "file_extension": ".py",
   "mimetype": "text/x-python",
   "name": "python",
   "nbconvert_exporter": "python",
   "pygments_lexer": "ipython2",
   "version": "2.7.6"
  }
 },
 "nbformat": 4,
 "nbformat_minor": 5
}
