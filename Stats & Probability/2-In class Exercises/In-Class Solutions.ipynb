{
 "cells": [
  {
   "cell_type": "code",
   "execution_count": 113,
   "outputs": [],
   "source": [
    "from scipy import stats\n",
    "from scipy.stats import norm\n",
    "from scipy.stats import poisson\n",
    "import pandas as pd\n",
    "import seaborn as sns\n",
    "import matplotlib.pyplot as plt\n",
    "import numpy as np\n",
    "import math\n",
    "from scipy.stats import skew\n"
   ],
   "metadata": {
    "collapsed": false,
    "ExecuteTime": {
     "end_time": "2023-08-27T16:10:47.739225300Z",
     "start_time": "2023-08-27T16:10:47.723075800Z"
    }
   },
   "id": "769f1fef0edcfa44"
  },
  {
   "cell_type": "markdown",
   "source": [
    "### Huge Fruit Basket (HFB) is a grocery shop that sells fruits. It is observed that 20% of their customers complain about the fruits purchased by them for many reasons (bad quality, foul smell and less quantity). On Friday, 30 customers purchased fruits from HFB."
   ],
   "metadata": {
    "collapsed": false
   },
   "id": "9ed7cb17d8731aa1"
  },
  {
   "cell_type": "markdown",
   "source": [
    "### 1. Calculate the probability that exactly 10 customers will complain about the purchased products."
   ],
   "metadata": {
    "collapsed": false
   },
   "id": "a7c52a1a6518cb78"
  },
  {
   "cell_type": "code",
   "execution_count": 44,
   "outputs": [
    {
     "name": "stdout",
     "output_type": "stream",
     "text": [
      "The probability that exactly 3 customers will complain about the purchased products 3.55 %\n"
     ]
    }
   ],
   "source": [
    "prob = stats.binom.pmf(10, 30, 0.2) * 100\n",
    "prob = round(prob, 2)\n",
    "print(\"The probability that exactly 3 customers will complain about the purchased products {} %\".format(prob))"
   ],
   "metadata": {
    "collapsed": false,
    "ExecuteTime": {
     "end_time": "2023-08-27T14:34:02.638863400Z",
     "start_time": "2023-08-27T14:34:02.623283Z"
    }
   },
   "id": "8d3934b85a7d926a"
  },
  {
   "cell_type": "markdown",
   "source": [
    "### 2. Create a list of all possible number of successes (0 to 15) and corresponding Probability Mass Function (PMF) values and draw a bar plot. In other words; Calculate the probability that exactly n customers will complain about the purchased products; where n is 0 to 15."
   ],
   "metadata": {
    "collapsed": false
   },
   "id": "c69dddc002ebdea2"
  },
  {
   "cell_type": "code",
   "execution_count": 45,
   "outputs": [
    {
     "name": "stdout",
     "output_type": "stream",
     "text": [
      "    Success       pmf\n",
      "0         0  0.001238\n",
      "1         1  0.009285\n",
      "2         2  0.033656\n",
      "3         3  0.078532\n",
      "4         4  0.132522\n",
      "5         5  0.172279\n",
      "6         6  0.179457\n",
      "7         7  0.153821\n",
      "8         8  0.110559\n",
      "9         9  0.067564\n",
      "10       10  0.035471\n",
      "11       11  0.016123\n",
      "12       12  0.006382\n",
      "13       13  0.002209\n",
      "14       14  0.000671\n",
      "15       15  0.000179\n"
     ]
    },
    {
     "data": {
      "text/plain": "<Figure size 640x480 with 1 Axes>",
      "image/png": "[encoded data removed]"
     },
     "metadata": {},
     "output_type": "display_data"
    }
   ],
   "source": [
    "prob_df = pd.DataFrame({'Success' : range(0,16), 'pmf' : list(stats.binom.pmf(range(0, 16), 30, 0.2))})\n",
    "print(prob_df)\n",
    "sns.barplot(x=prob_df.Success, y=prob_df.pmf)\n",
    "plt.show()"
   ],
   "metadata": {
    "collapsed": false,
    "ExecuteTime": {
     "end_time": "2023-08-27T14:34:03.222040900Z",
     "start_time": "2023-08-27T14:34:02.926582300Z"
    }
   },
   "id": "9517586f6ee21e43"
  },
  {
   "cell_type": "markdown",
   "source": [
    "### 3. Calculate the probability that maximum of 10 customers will complain about the fruits purchased by them."
   ],
   "metadata": {
    "collapsed": false
   },
   "id": "c6e25376df312acf"
  },
  {
   "cell_type": "code",
   "execution_count": 46,
   "outputs": [
    {
     "name": "stdout",
     "output_type": "stream",
     "text": [
      "The probability that more than 10 customers will complain about the fruits purchased by them is 97.44 %\n"
     ]
    }
   ],
   "source": [
    "prob = stats.binom.cdf(10, 30, 0.2) * 100 # CUMULATIVE DISTRIBUTION FUNCTION \n",
    "prob = round(prob, 2)\n",
    "print(\"The probability that more than 10 customers will complain about the fruits purchased by them is {} %\".format(prob))"
   ],
   "metadata": {
    "collapsed": false,
    "ExecuteTime": {
     "end_time": "2023-08-27T14:34:03.332572600Z",
     "start_time": "2023-08-27T14:34:03.253778200Z"
    }
   },
   "id": "e8012788b4805711"
  },
  {
   "cell_type": "markdown",
   "source": [
    "#### 4. Calculate the probability that more than 10 customers will complain about the fruits purchased by them. "
   ],
   "metadata": {
    "collapsed": false
   },
   "id": "d809f70e0ceff62a"
  },
  {
   "cell_type": "code",
   "execution_count": 47,
   "outputs": [
    {
     "name": "stdout",
     "output_type": "stream",
     "text": [
      "The probability that more than 10 customers will complain about the fruits purchased by them is 2.56 %\n"
     ]
    }
   ],
   "source": [
    "prob = (1 - stats.binom.cdf(10, 30, 0.2)) * 100\n",
    "prob = round(prob, 2)\n",
    "print(\"The probability that more than 10 customers will complain about the fruits purchased by them is {} %\".format(prob))"
   ],
   "metadata": {
    "collapsed": false,
    "ExecuteTime": {
     "end_time": "2023-08-27T14:34:03.576312300Z",
     "start_time": "2023-08-27T14:34:03.571363900Z"
    }
   },
   "id": "c22e2c111074b260"
  },
  {
   "cell_type": "markdown",
   "source": [
    "#### 5. Find the average number of customers who are likely to complain about the fruits. Also find the variance of the number of complaints."
   ],
   "metadata": {
    "collapsed": false
   },
   "id": "894830223ca12c3d"
  },
  {
   "cell_type": "code",
   "execution_count": 48,
   "outputs": [
    {
     "name": "stdout",
     "output_type": "stream",
     "text": [
      "The average number of customers who are likely to complain about the fruits is 6.0.\n",
      "The variance of the number of complaints is 4.8.\n"
     ]
    }
   ],
   "source": [
    "average, (variance) = stats.binom.stats(30, 0.2)\n",
    "print(\"The average number of customers who are likely to complain about the fruits is {}.\".format(average))\n",
    "variance = round(variance,2)\n",
    "print(\"The variance of the number of complaints is {}.\".format(variance))"
   ],
   "metadata": {
    "collapsed": false,
    "ExecuteTime": {
     "end_time": "2023-08-27T14:34:03.907234600Z",
     "start_time": "2023-08-27T14:34:03.891208200Z"
    }
   },
   "id": "fa27f93d1a44fecb"
  },
  {
   "cell_type": "markdown",
   "source": [
    "## The number of customer returns in a retail chain per day follows a poisson distribution at a rate of 25 returns per day."
   ],
   "metadata": {
    "collapsed": false
   },
   "id": "53f27f2f240de695"
  },
  {
   "cell_type": "markdown",
   "source": [
    "#### 6. Calculate the probability that the number of returns exceeds 30 in a day."
   ],
   "metadata": {
    "collapsed": false
   },
   "id": "98146b2dd77159ef"
  },
  {
   "cell_type": "code",
   "execution_count": 49,
   "outputs": [
    {
     "name": "stdout",
     "output_type": "stream",
     "text": [
      "The probability that the number of returns exceeds 30 in a day is 13.67%.\n"
     ]
    }
   ],
   "source": [
    "prob = (1 - stats.poisson.cdf(30, 25)) * 100\n",
    "prob = round(prob, 2)\n",
    "print(\"The probability that the number of returns exceeds 30 in a day is {}%.\".format(prob))"
   ],
   "metadata": {
    "collapsed": false,
    "ExecuteTime": {
     "end_time": "2023-08-27T14:34:04.348470100Z",
     "start_time": "2023-08-27T14:34:04.329797800Z"
    }
   },
   "id": "44e2cf723d3b5fbe"
  },
  {
   "cell_type": "markdown",
   "source": [
    "#### 7. The IQ of students follows normal distribution with mean 95 and variance 10. What is the probability that the any student selected at random will have IQ more than 102?"
   ],
   "metadata": {
    "collapsed": false
   },
   "id": "61ee74249ca36611"
  },
  {
   "cell_type": "code",
   "execution_count": 78,
   "outputs": [
    {
     "name": "stdout",
     "output_type": "stream",
     "text": [
      "The probability that the any student selected at random will have IQ more than 102 is 1.34%.\n"
     ]
    }
   ],
   "source": [
    "mean = 95\n",
    "vrc = 10\n",
    "std = math.sqrt(vrc)\n",
    "prob = (1 - norm.cdf(102, mean, std)) * 100\n",
    "prob = round(prob,2)\n",
    "print(\"The probability that the any student selected at random will have IQ more than 102 is {}%.\".format(prob))"
   ],
   "metadata": {
    "collapsed": false,
    "ExecuteTime": {
     "end_time": "2023-08-27T14:49:26.822853800Z",
     "start_time": "2023-08-27T14:49:26.806599Z"
    }
   },
   "id": "9bda7879c34cdfae"
  },
  {
   "cell_type": "markdown",
   "source": [
    "#### 8. The number of road accidents on the day follow Poisson distribution with mean equals to 3. What is the probability that on a day exactly 1 accident will happen?"
   ],
   "metadata": {
    "collapsed": false
   },
   "id": "a3062a86751c5fed"
  },
  {
   "cell_type": "code",
   "execution_count": 79,
   "outputs": [
    {
     "name": "stdout",
     "output_type": "stream",
     "text": [
      "The probability that on a day exactly 1 accident will happen is 14.94%.\n"
     ]
    }
   ],
   "source": [
    "X = 1\n",
    "mean = 3\n",
    "prob = poisson.pmf(X, mean) * 100\n",
    "prob = round(prob,2)\n",
    "print(\"The probability that on a day exactly 1 accident will happen is {}%.\".format(prob))\n"
   ],
   "metadata": {
    "collapsed": false,
    "ExecuteTime": {
     "end_time": "2023-08-27T14:49:28.334250700Z",
     "start_time": "2023-08-27T14:49:28.325175100Z"
    }
   },
   "id": "69f549a7daf8655f"
  },
  {
   "cell_type": "markdown",
   "source": [
    "#### 9. Consider the following data does it follow a normal distribution?.\n",
    "75, 97, 70, 25, 80, 40, 82, 72, 82, 46, 72, 64, 24, 66, 78, 34, 37, 64, 75, 94, 76, 96, 88, 37, 29, 51, 67, 45, 69, 59, 81, 66, 30, 52, 66, 85, 80, 74, 69, 83, 66, 84, 76, 73, 77, 85, 72, 71, 71, 75, 59, 84, 65, 64, 86, 58, 85, 61, 79, 61, 68, 61, 60, 78, 76, 80, 57, 75\n",
    "The null and alternate hypothesis of Shapiro-Wilk test are as follows:\n",
    "\n",
    "H0: The data is normally distributed\n",
    "AGAINST\n",
    "Ha: The data is not normally distributed"
   ],
   "metadata": {
    "collapsed": false
   },
   "id": "5da73856942d9c0f"
  },
  {
   "cell_type": "code",
   "execution_count": 148,
   "outputs": [
    {
     "name": "stdout",
     "output_type": "stream",
     "text": [
      "The test statistic is 0.9307893514633179 and its p-value is 0.0009826984023675323\n"
     ]
    }
   ],
   "source": [
    "data = pd.Series([75, 97, 70, 25, 80, 40, 82, 72, 82, 46, 72, 64, 24, 66, 78, 34, 37,\n",
    "                64, 75, 94, 76, 96, 88, 37, 29, 51, 67, 45, 69, 59, 81, 66, 30, 52,\n",
    "                66, 85, 80, 74, 69, 83, 66, 84, 76, 73, 77, 85, 72, 71, 71, 75, 59,\n",
    "                84, 65, 64, 86, 58, 85, 61, 79, 61, 68, 61, 60, 78, 76, 80, 57, 75])\n",
    "from scipy.stats import shapiro\n",
    "stat, p = shapiro(data)\n",
    "print(\"The test statistic is\", stat,\"and its p-value is\",p)"
   ],
   "metadata": {
    "collapsed": false,
    "ExecuteTime": {
     "end_time": "2023-08-27T16:29:42.072350700Z",
     "start_time": "2023-08-27T16:29:42.037703100Z"
    }
   },
   "id": "ae60f6d3a814f9cb"
  },
  {
   "cell_type": "markdown",
   "source": [
    "#### 10. Consider three coins are tossed simultaneously.\n",
    "##### 1) How many outcomes have at least two heads?\n",
    "##### 2) What is the probability of the this event?"
   ],
   "metadata": {
    "collapsed": false
   },
   "id": "590665ab26b991be"
  },
  {
   "cell_type": "code",
   "execution_count": 68,
   "outputs": [
    {
     "name": "stdout",
     "output_type": "stream",
     "text": [
      "Outcomes have at least two heads: 4\n",
      "The probability of the above event is 0.5%.\n"
     ]
    }
   ],
   "source": [
    "outcome_two_heads = {'HHH', 'HHT', 'HTH', 'THH'}\n",
    "outcome_two_heads = len(outcome_two_heads)\n",
    "print('Outcomes have at least two heads:' , outcome_two_heads)\n",
    "prob = outcome_two_heads / 2 ** 3\n",
    "print(\"The probability of the above event is {}%.\".format(prob))"
   ],
   "metadata": {
    "collapsed": false,
    "ExecuteTime": {
     "end_time": "2023-08-27T14:44:31.414529400Z",
     "start_time": "2023-08-27T14:44:31.398540900Z"
    }
   },
   "id": "1858dc45ef0d00d9"
  },
  {
   "cell_type": "markdown",
   "source": [
    "#### 11. A textile industry observed that on an average its employees can stitch 34 garment on a particular day with variance 3. What are minimum and maximum number of garments that can be produced?"
   ],
   "metadata": {
    "collapsed": false
   },
   "id": "f5d6660894ba62"
  },
  {
   "cell_type": "code",
   "execution_count": 75,
   "outputs": [
    {
     "name": "stdout",
     "output_type": "stream",
     "text": [
      "Minimum number of garments: 32\n",
      "Maximum number of garments: 36\n"
     ]
    }
   ],
   "source": [
    "mean = 34\n",
    "variance = 3\n",
    "std_deviation = math.sqrt(variance)\n",
    "minimum = mean - std_deviation\n",
    "maximum = mean + std_deviation\n",
    "print(\"Minimum number of garments:\", round(minimum))\n",
    "print(\"Maximum number of garments:\", round(maximum))"
   ],
   "metadata": {
    "collapsed": false,
    "ExecuteTime": {
     "end_time": "2023-08-27T14:48:55.603952200Z",
     "start_time": "2023-08-27T14:48:55.588237500Z"
    }
   },
   "id": "4a81fb07e20d929e"
  },
  {
   "cell_type": "markdown",
   "source": [
    "#### 12. A telecom industry is keen to know the call duration of its customers to introduce new prepaid plans. The data for call duration in minutes is given as follows: Call duration (in minutes): 23, 03, 13, 04, 45, 35, 48, 98, 65, 45, 75, 24, 15, 25, 34, 17, 16, 17, 19 Obtain the descriptive statistics of the data."
   ],
   "metadata": {
    "collapsed": false
   },
   "id": "64ec0cd281f4e4f6"
  },
  {
   "cell_type": "code",
   "execution_count": 82,
   "outputs": [
    {
     "name": "stdout",
     "output_type": "stream",
     "text": [
      "count    19.000000\n",
      "mean     32.684211\n",
      "std      24.984557\n",
      "min       3.000000\n",
      "25%      16.500000\n",
      "50%      24.000000\n",
      "75%      45.000000\n",
      "max      98.000000\n",
      "dtype: float64\n"
     ]
    }
   ],
   "source": [
    "call_duration = pd.Series([23, 3, 13, 4, 45, 35, 48, 98, 65, 45, 75, 24, 15, 25, 34, 17, 16, 17, 19 ])\n",
    "print(call_duration.describe())\n"
   ],
   "metadata": {
    "collapsed": false,
    "ExecuteTime": {
     "end_time": "2023-08-27T14:50:54.276551600Z",
     "start_time": "2023-08-27T14:50:54.244786800Z"
    }
   },
   "id": "6c26af28f42920ba"
  },
  {
   "cell_type": "markdown",
   "source": [
    "### ClickDart is an e-commerce company. It claims that the product will be delivered within 30 days of placing the order. The data is given below that contains the delivery time of 40 products. The population mean is 30 and the population standard deviation of the delivery time is 12.5 days.\n",
    "\n",
    "### data = [16.0, 16.0, 30.0, 37.0, 25.0, 22.0, 19.0, 35.0, 27.0, 32.0, 34.0, 28.0, 24.0, 35.0, 24.0, 21.0, 32.0, 29.0, 24.0, 35.0, 28.0, 29.0, 18.0, 31.0, 28.0, 33.0, 32.0, 24.0, 25.0, 22.0, 21.0, 27.0, 41.0, 23.0, 23.0, 16.0, 24.0, 38.0, 26.0, 28.0]"
   ],
   "metadata": {
    "collapsed": false
   },
   "id": "93027ac9bc45743b"
  },
  {
   "cell_type": "markdown",
   "source": [
    "### 13. Calculate the mean and standard deviation of these observations and check if calculate Z-statistics can be applied or not\n"
   ],
   "metadata": {
    "collapsed": false
   },
   "id": "635486b838f25e6b"
  },
  {
   "cell_type": "code",
   "execution_count": 90,
   "outputs": [
    {
     "name": "stdout",
     "output_type": "stream",
     "text": [
      "Mean: 27.05\n",
      "Standard Deviation: 6.17\n",
      "The length of the data is 40. Thus, we can perform z-statistics on the data.\n"
     ]
    }
   ],
   "source": [
    "data = [16.0, 16.0, 30.0, 37.0, 25.0, 22.0, 19.0, 35.0, 27.0, 32.0, 34.0, 28.0, 24.0, 35.0, 24.0, 21.0, 32.0, 29.0, 24.0, 35.0,28.0, 29.0, 18.0, 31.0, 28.0, 33.0, 32.0, 24.0, 25.0, 22.0, 21.0, 27.0, 41.0, 23.0, 23.0, 16.0, 24.0, 38.0, 26.0, 28.0]\n",
    "mean = np.mean(data)\n",
    "std = np.std(data)\n",
    "\n",
    "print('Mean:', mean)\n",
    "print('Standard Deviation:', round(std, 2))\n",
    "\n",
    "length = len(data)\n",
    "print('The length of the data is {}. Thus, we can perform z-statistics on the data.'.format(length))"
   ],
   "metadata": {
    "collapsed": false,
    "ExecuteTime": {
     "end_time": "2023-08-27T15:49:25.236706200Z",
     "start_time": "2023-08-27T15:49:25.220833600Z"
    }
   },
   "id": "340a2f72d77e20b2"
  },
  {
   "cell_type": "markdown",
   "source": [
    "### ClickDart is an e-commerce company. It claims that the product will be delivered within 30 days of placing the order. The data is given below that contains the delivery time of 40 products. The population mean is 30 and the population standard deviation of the delivery time is 12.5 days.\n",
    "\n",
    "### data = [16.0, 16.0, 30.0, 37.0, 25.0, 22.0, 19.0, 35.0, 27.0, 32.0, 34.0, 28.0, 24.0, 35.0, 24.0, 21.0, 32.0, 29.0, 24.0, 35.0, 28.0, 29.0, 18.0, 31.0, 28.0, 33.0, 32.0, 24.0, 25.0, 22.0, 21.0, 27.0, 41.0, 23.0, 23.0, 16.0, 24.0, 38.0, 26.0, 28.0]"
   ],
   "metadata": {
    "collapsed": false
   },
   "id": "370a8718e18e84f2"
  },
  {
   "cell_type": "markdown",
   "source": [
    "#### 13. Calculate the mean and standard deviation of these observations and check if calculate Z-statistics can be applied or not"
   ],
   "metadata": {
    "collapsed": false
   },
   "id": "48a9eca12f432d4e"
  },
  {
   "cell_type": "code",
   "execution_count": 151,
   "outputs": [
    {
     "name": "stdout",
     "output_type": "stream",
     "text": [
      "Sample Mean:  27.05\n",
      "Sample Standard Deviation:  6.1682655584856265\n"
     ]
    }
   ],
   "source": [
    "data = [16.0, 16.0, 30.0, 37.0, 25.0, 22.0, 19.0, 35.0, 27.0, 32.0,\n",
    "34.0, 28.0, 24.0, 35.0, 24.0, 21.0, 32.0, 29.0, 24.0, 35.0,\n",
    "28.0, 29.0, 18.0, 31.0, 28.0, 33.0, 32.0, 24.0, 25.0, 22.0,\n",
    "21.0, 27.0, 41.0, 23.0, 23.0, 16.0, 24.0, 38.0, 26.0, 28.0]\n",
    "print(\"Sample Mean: \", np.mean(data))\n",
    "print(\"Sample Standard Deviation: \", np.std(data))"
   ],
   "metadata": {
    "collapsed": false,
    "ExecuteTime": {
     "end_time": "2023-08-27T16:30:59.782744700Z",
     "start_time": "2023-08-27T16:30:59.748989400Z"
    }
   },
   "id": "2292ccd3af12756e"
  },
  {
   "cell_type": "markdown",
   "source": [
    "#### 14. Conduct a hypothesis test at significance level a = 0.05 to verify the claim made by the e-commerce company 'ClickDart'.\n",
    "Let us first define the hypothesis. If m is population mean, that is; mean delivery time then\n",
    "\n",
    "H0 : m ≥ 30\n",
    "HA : m < 30"
   ],
   "metadata": {
    "collapsed": false
   },
   "id": "fca21dbbb72bf0a8"
  },
  {
   "cell_type": "code",
   "execution_count": 153,
   "outputs": [
    {
     "name": "stdout",
     "output_type": "stream",
     "text": [
      "The z-score value is -1.4926 and the p-value is 0.0678\n"
     ]
    }
   ],
   "source": [
    "pop_mean = 30\n",
    "pop_std = 12.5\n",
    "sample_mean = np.mean(data)\n",
    "n = len(data)\n",
    "z_score = (sample_mean - pop_mean)/(pop_std/np.sqrt(n))\n",
    "p_value = stats.norm.cdf(z_score)\n",
    "print('The z-score value is {} and the p-value is {}'.format(round(z_score, 4), round(p_value, 4)))"
   ],
   "metadata": {
    "collapsed": false,
    "ExecuteTime": {
     "end_time": "2023-08-27T16:31:42.154139500Z",
     "start_time": "2023-08-27T16:31:42.129569500Z"
    }
   },
   "id": "5b04afdf5d1eab2b"
  },
  {
   "cell_type": "markdown",
   "source": [
    "#### 16. What is the probability that a girl is chosen given that she likes Pizza?"
   ],
   "metadata": {
    "collapsed": false
   },
   "id": "b8a639e114098820"
  },
  {
   "cell_type": "code",
   "execution_count": 105,
   "outputs": [
    {
     "name": "stdout",
     "output_type": "stream",
     "text": [
      "The probability that a girl is chosen given that she likes Pizza is 67.0%\n"
     ]
    }
   ],
   "source": [
    "PPgG = 60/85\n",
    "PG = 85/155\n",
    "PP = 90/155\n",
    "PGgP = (PPgG * PG) / PP\n",
    "PGgP = round(PGgP, 2) * 100\n",
    "print('The probability that a girl is chosen given that she likes Pizza is {}%'.format(PGgP))"
   ],
   "metadata": {
    "collapsed": false,
    "ExecuteTime": {
     "end_time": "2023-08-27T16:02:12.933167200Z",
     "start_time": "2023-08-27T16:02:12.917424Z"
    }
   },
   "id": "f5dc822885095018"
  },
  {
   "cell_type": "markdown",
   "source": [
    "#### 17. What is the probability that a boy likes both the dishes?"
   ],
   "metadata": {
    "collapsed": false
   },
   "id": "2c656728bb627f61"
  },
  {
   "cell_type": "code",
   "execution_count": 108,
   "outputs": [
    {
     "name": "stdout",
     "output_type": "stream",
     "text": [
      "The probability that a boy likes both the dishes is 45.0%\n"
     ]
    }
   ],
   "source": [
    "Prob_Boy_Likes_both = 70/155\n",
    "\n",
    "Prob_Boy_Likes_both = round(Prob_Boy_Likes_both, 2) * 100\n",
    "\n",
    "print('The probability that a boy likes both the dishes is {}%'.format(Prob_Boy_Likes_both))"
   ],
   "metadata": {
    "collapsed": false,
    "ExecuteTime": {
     "end_time": "2023-08-27T16:04:05.373068200Z",
     "start_time": "2023-08-27T16:04:05.341525200Z"
    }
   },
   "id": "ea33436fbfffdee0"
  },
  {
   "cell_type": "markdown",
   "source": [
    "#### 18. What is the probability that the favourite dish for both boys and girls is sizzlers?"
   ],
   "metadata": {
    "collapsed": false
   },
   "id": "9b7ba481cb0813bf"
  },
  {
   "cell_type": "code",
   "execution_count": 109,
   "outputs": [
    {
     "name": "stdout",
     "output_type": "stream",
     "text": [
      "The probability that a boy likes both the dishes is 42.0%\n"
     ]
    }
   ],
   "source": [
    "Prob_Siz = 65/155\n",
    "\n",
    "Prob_Siz = round(Prob_Siz, 2) * 100\n",
    "\n",
    "print('The probability that a boy likes both the dishes is {}%'.format(Prob_Siz))"
   ],
   "metadata": {
    "collapsed": false,
    "ExecuteTime": {
     "end_time": "2023-08-27T16:05:30.992222800Z",
     "start_time": "2023-08-27T16:05:30.960723200Z"
    }
   },
   "id": "bae0e2da85ef19b3"
  },
  {
   "cell_type": "markdown",
   "source": [
    "#### 19. What is the probability that the favourite food is Pizza given that he is a boy?\n"
   ],
   "metadata": {
    "collapsed": false
   },
   "id": "2ee41ca694f5fff3"
  },
  {
   "cell_type": "code",
   "execution_count": 110,
   "outputs": [
    {
     "name": "stdout",
     "output_type": "stream",
     "text": [
      "The probability that the favourite food is Pizza given that he is a boy is 43.0%\n"
     ]
    }
   ],
   "source": [
    "PBgP = 30/90\n",
    "PB = 70/155\n",
    "PP = 90/155\n",
    "PPgB = (PBgP * PP) / PB\n",
    "PPgB = round(PPgB, 2) * 100\n",
    "print('The probability that the favourite food is Pizza given that he is a boy is {}%'.format(PPgB))"
   ],
   "metadata": {
    "collapsed": false,
    "ExecuteTime": {
     "end_time": "2023-08-27T16:06:00.579039300Z",
     "start_time": "2023-08-27T16:06:00.547005100Z"
    }
   },
   "id": "9a785f8efda4e61d"
  },
  {
   "cell_type": "markdown",
   "source": [
    "#### 20. An experiment to study obesity in male workers shows that the average BMI for 36 workers is 23.79. While rechecking the forms, it was noticed that the BMI of a worker was misread as 21.32 instead of 27.32. Find the correct average BMI."
   ],
   "metadata": {
    "collapsed": false
   },
   "id": "ae3498fecfb49238"
  },
  {
   "cell_type": "code",
   "execution_count": 112,
   "outputs": [
    {
     "name": "stdout",
     "output_type": "stream",
     "text": [
      "Correct average BMI: 23.96\n"
     ]
    }
   ],
   "source": [
    "incorrect_avg_bmi = 23.79\n",
    "totalWorkers = 36\n",
    "incorrect_sum_bmi = incorrect_avg_bmi*totalWorkers\n",
    "correct_obs = 27.32\n",
    "incorrect_obs = 21.32\n",
    "correct_sum_bmi = incorrect_sum_bmi + correct_obs - incorrect_obs\n",
    "correct_avg_bmi = correct_sum_bmi / totalWorkers\n",
    "print('Correct average BMI:', round(correct_avg_bmi,2))"
   ],
   "metadata": {
    "collapsed": false,
    "ExecuteTime": {
     "end_time": "2023-08-27T16:10:01.468032400Z",
     "start_time": "2023-08-27T16:10:01.436337300Z"
    }
   },
   "id": "99209321fc821b6f"
  },
  {
   "cell_type": "markdown",
   "source": [
    "#### 21. Write a function that returns the type of skewness in the given data.\n",
    "#### Consider the age of 15 students enrolled in data science program.\n",
    "#### age = [22, 29, 24, 32, 37, 26, 25, 45, 28, 22, 39, 47, 23, 36, 43]"
   ],
   "metadata": {
    "collapsed": false
   },
   "id": "5d37b1fe6747cd0f"
  },
  {
   "cell_type": "code",
   "execution_count": 118,
   "outputs": [
    {
     "name": "stdout",
     "output_type": "stream",
     "text": [
      "Data is positively skewed with coefficient of skewness = 0.44547\n"
     ]
    }
   ],
   "source": [
    "data = [22, 29, 24, 32, 37, 26, 25, 45, 28, 22, 39, 47, 23, 36, 43]\n",
    "def skew_type(data):\n",
    "    \n",
    "    skew_coeff = skew(data)\n",
    "    \n",
    "    if skew_coeff > 0:\n",
    "        print('Data is positively skewed with coefficient of skewness =', round(skew_coeff,5))\n",
    "    if skew_coeff == 0:\n",
    "        print('Data is not skewed with skewness = 0')\n",
    "    if skew_coeff < 0:\n",
    "        print('Data is negatively skewed with coefficient of skewness =', round(skew_coeff,5))\n",
    "skew_type(data)"
   ],
   "metadata": {
    "collapsed": false,
    "ExecuteTime": {
     "end_time": "2023-08-27T16:12:54.817850Z",
     "start_time": "2023-08-27T16:12:54.786413600Z"
    }
   },
   "id": "af4e3c2a2be5eef6"
  },
  {
   "cell_type": "markdown",
   "source": [
    "#### 22. A machine produced, on average, 40 paperclips in 10 days. Observation for one of the days is missing from the data. Find the missing observation to identify the day on which the machine produced the highest number of paperclips.\n",
    "\n",
    "#### Consider the number of paperclips produced by a machine in 10 days. 'x' denotes missing data.\n",
    "\n",
    "#### num_clips = [41, 35, 42, x, 46, 34, 32, 47, 44, 39]"
   ],
   "metadata": {
    "collapsed": false
   },
   "id": "c26911dcb17c36c9"
  },
  {
   "cell_type": "code",
   "execution_count": 121,
   "outputs": [
    {
     "name": "stdout",
     "output_type": "stream",
     "text": [
      "The missing x = 40\n"
     ]
    }
   ],
   "source": [
    "num_clips = pd.Series([41, 35, 42, 46, 34, 32, 47, 44, 39])\n",
    "mean_value = 40\n",
    "n = 10\n",
    "paperclips_sum = mean_value * n\n",
    "print('The missing x =', paperclips_sum - num_clips.sum())"
   ],
   "metadata": {
    "collapsed": false,
    "ExecuteTime": {
     "end_time": "2023-08-27T16:15:19.058322900Z",
     "start_time": "2023-08-27T16:15:19.047275900Z"
    }
   },
   "id": "6194f681517842d"
  },
  {
   "cell_type": "markdown",
   "source": [
    "#### 23. Consider the height of 12 students in a class. Obtain the range of height for the middle 50% of the data. Consider the height of 12 students in a class.\n",
    "\n",
    "#### height (cm) = [162, 158, 149, 167, 162, 154, 172, 160, 164, 159, 175, 163]"
   ],
   "metadata": {
    "collapsed": false
   },
   "id": "78468c598b51a2dc"
  },
  {
   "cell_type": "code",
   "execution_count": 122,
   "outputs": [
    {
     "name": "stdout",
     "output_type": "stream",
     "text": [
      "Range of middle 50% of the data: 6.0\n"
     ]
    }
   ],
   "source": [
    "height = pd.Series([162, 158, 149, 167, 162, 154, 172, 160, 164, 159, 175, 163])\n",
    "Q1 = height.quantile(0.25)\n",
    "Q3 = height.quantile(0.75)\n",
    "IQR = Q3 - Q1\n",
    "print('Range of middle 50% of the data:', IQR)"
   ],
   "metadata": {
    "collapsed": false,
    "ExecuteTime": {
     "end_time": "2023-08-27T16:16:23.153801800Z",
     "start_time": "2023-08-27T16:16:23.131612800Z"
    }
   },
   "id": "a7533eb719001ad6"
  },
  {
   "cell_type": "markdown",
   "source": [
    "#### 24. The ratings of the movies selected for an award are negatively skewed with Karl Pearson's coefficient of skewness as -0.46. The average rating is 3.52, with a standard deviation of 1.7. Find the median rating of the movies."
   ],
   "metadata": {
    "collapsed": false
   },
   "id": "be595234e72c2fe6"
  },
  {
   "cell_type": "code",
   "execution_count": 125,
   "outputs": [
    {
     "name": "stdout",
     "output_type": "stream",
     "text": [
      "Median rating of the movies: 3.781\n"
     ]
    }
   ],
   "source": [
    "mean = 3.52\n",
    "std = 1.7\n",
    "skewness = -0.46\n",
    "median = mean - (skewness * std) / 3\n",
    "print('Median rating of the movies:',  round(median,3))"
   ],
   "metadata": {
    "collapsed": false,
    "ExecuteTime": {
     "end_time": "2023-08-27T16:19:34.623698800Z",
     "start_time": "2023-08-27T16:19:34.607922600Z"
    }
   },
   "id": "1ef29b7ff5f11967"
  },
  {
   "cell_type": "markdown",
   "source": [
    "#### 25. A study reports the monthly count of new subscribers of bloggers; Sheldon, Ross and Joey for a year. Find out who has more consistency in the number of new subscribers?\n",
    "\n",
    "#### The count of new subscribers (in thousands) is given below:\n",
    "\n",
    "Month\tSheldon\tRoss\tJoey\n",
    "Jan\t3\t4\t4.3\n",
    "Feb\t5.1\t4.6\t4\n",
    "Mar\t2.9\t3.1\t4.5\n",
    "Apr\t3.7\t4.2\t5.1\n",
    "May\t4.2\t5.4\t6\n",
    "Jun\t4.2\t3.4\t5\n",
    "July\t4.3\t5\t4.8\n",
    "Aug\t5.2\t6.2\t5.4\n",
    "Sept\t3.7\t4.2\t5.1\n",
    "Oct\t4.4\t3.5\t6.4\n",
    "Nov\t5.2\t4.1\t4.2\n",
    "Dec\t3.4\t5.5\t3.4"
   ],
   "metadata": {
    "collapsed": false
   },
   "id": "637275cb11e6c733"
  },
  {
   "cell_type": "code",
   "execution_count": 127,
   "outputs": [
    {
     "name": "stdout",
     "output_type": "stream",
     "text": [
      "C.V. for Sheldon: 19.45762838254265\n",
      "C.V. for Ross: 21.145192478821624\n",
      "C.V. for Joey: 17.417938275352736\n"
     ]
    }
   ],
   "source": [
    "sheldon_sub = pd.Series([3, 5.1, 2.9, 3.7, 4.2, 4.2, 4.3, 5.2, 3.7, 4.4, 5.2, 3.4])\n",
    "ross_sub = pd.Series([4, 4.6, 3.1, 4.2, 5.4, 3.4, 5, 6.2, 4.2, 3.5, 4.1, 5.5])\n",
    "joey_sub = pd.Series([4.3, 4, 4.5, 5.1, 6, 5, 4.8, 5.4, 5.1, 6.4, 4.2, 3.4])\n",
    "sheldon_avg = sheldon_sub.mean()\n",
    "sheldon_sd = sheldon_sub.std()\n",
    "sheldon_cv = (sheldon_sd/sheldon_avg) * 100\n",
    "ross_avg = ross_sub.mean()\n",
    "ross_sd = ross_sub.std()\n",
    "ross_cv = (ross_sd/ross_avg) * 100\n",
    "joey_avg = joey_sub.mean()\n",
    "joey_sd = joey_sub.std()\n",
    "joey_cv = (joey_sd/joey_avg) * 100\n",
    "print('C.V. for Sheldon:', sheldon_cv)\n",
    "print('C.V. for Ross:', ross_cv)\n",
    "print('C.V. for Joey:', joey_cv)"
   ],
   "metadata": {
    "collapsed": false,
    "ExecuteTime": {
     "end_time": "2023-08-27T16:22:55.775793Z",
     "start_time": "2023-08-27T16:22:55.751802600Z"
    }
   },
   "id": "c1f07ad4eb95c0b7"
  },
  {
   "cell_type": "markdown",
   "source": [
    "#### 26. It has been claimed from past observations that the average diameter of bolts from a manufacturing process is 1.25 cm. Based on the collected sample of size 150, is there evidence to suggest that the average diameter is not 1.25 cm?\n",
    "Diameter of bolts: 0.89, 1.39, 1.29, 1.36, 1.39, 1.44, 1.24, 0.82, 1.25, 0.85, 0.75, 1.34, 0.84, 1.27, 1.04, 1.36, 1.18, 1.49, 1.54, 0.83, 1.11, 1.14, 1.3 , 0.99, 1.21, 1.51, 1.02, 1.19, 1.05, 1.23, 0.76, 0.81, 0.92, 0.82, 1.64, 1.02, 1.61, 1.2, 1.17, 1.61, 1.23, 1.11, 1.17, 1.63, 1.33, 1.07, 0.94, 1.53, 1.38, 0.8 , 0.95, 1.4 , 1.09, 1.32, 1.43, 1.12, 1.2 , 0.94, 0.98, 1.54, 1.21, 1.4 , 1.13, 0.75, 1.02, 0.99, 1.49, 1.34, 1.57, 1.51, 1.42, 1.27, 0.78, 1.52, 1.5 , 1.13, 1.17, 1.17, 1.21, 1.14, 1.23, 1.46, 1.62, 1.11, 1.28, 1.25, 1.48, 0.76, 1.45, 1.38, 1.15, 0.95, 1.13, 1.24, 1.41, 1.38, 0.86, 1.39, 1.57, 1.32, 1.43, 1.55, 0.89, 1.06, 1.27, 1.46, 0.94, 1.53, 0.87, 1.47, 1.04, 1.12, 1.09, 1.45, 1.37, 1.18, 1.22, 1.29, 1.28, 1.59, 1.06, 1.49, 1.01, 1.31, 1.21, 1.32, 1.59, 0.85, 1.06, 0.82, 1.31, 1.32, 1.05, 1.6 , 0.87, 0.85, 1.13, 1.55, 1.15, 1.11, 1.58, 1.47, 1.52, 1.31, 1.16, 1.12, 0.85, 1.61, 1.42, 1.61\n",
    "\n",
    "Let\n",
    "X: diameter of the bolt\n",
    "Thus  μ\n",
    " : the average diameter of the bolts\n",
    "\n",
    "The hypothesis is\n",
    "H0: The mean diameter of the bolts is equal to 1.25, i.e  μ\n",
    "  = 1.25\n",
    "AGAINST\n",
    "Ha: The mean diameter of the bolts is not equal to 1.25, , i.e  μ\n",
    "  ≠ 12.5"
   ],
   "metadata": {
    "collapsed": false
   },
   "id": "a91626be61c89da8"
  },
  {
   "cell_type": "code",
   "execution_count": 128,
   "outputs": [
    {
     "data": {
      "text/plain": "(-1.3181466899835235, 0.18745454730541933)"
     },
     "execution_count": 128,
     "metadata": {},
     "output_type": "execute_result"
    }
   ],
   "source": [
    "diameter_cm = pd.Series(\n",
    "    [0.89, 1.39, 1.29, 1.36, 1.39, 1.44, 1.24, 0.82, 1.25, 0.85, 0.75, 1.34, 0.84, 1.27, 1.04, 1.36, 1.18, \n",
    "    1.49, 1.54, 0.83, 1.11, 1.14, 1.3 , 0.99, 1.21, 1.51, 1.02, 1.19, 1.05, 1.23, 0.76, 0.81, 0.92, 0.82, \n",
    "    1.64, 1.02, 1.61, 1.2, 1.17, 1.61, 1.23, 1.11, 1.17, 1.63, 1.33, 1.07, 0.94, 1.53, 1.38, 0.8 , 0.95, \n",
    "    1.4 , 1.09, 1.32, 1.43, 1.12, 1.2 , 0.94, 0.98, 1.54, 1.21, 1.4 , 1.13, 0.75, 1.02, 0.99, 1.49, 1.34, \n",
    "    1.57, 1.51, 1.42, 1.27, 0.78, 1.52, 1.5 , 1.13, 1.17, 1.17, 1.21, 1.14, 1.23, 1.46, 1.62, 1.11, 1.28, \n",
    "    1.25, 1.48, 0.76, 1.45, 1.38, 1.15, 0.95, 1.13, 1.24, 1.41, 1.38, 0.86, 1.39, 1.57, 1.32, 1.43, 1.55, \n",
    "    0.89, 1.06, 1.27, 1.46, 0.94, 1.53, 0.87, 1.47, 1.04, 1.12, 1.09, 1.45, 1.37, 1.18, 1.22, 1.29, 1.28, \n",
    "    1.59, 1.06, 1.49, 1.01, 1.31, 1.21, 1.32, 1.59, 0.85, 1.06, 0.82, 1.31, 1.32, 1.05, 1.6 , 0.87, 0.85, \n",
    "    1.13, 1.55, 1.15, 1.11, 1.58, 1.47, 1.52, 1.31, 1.16, 1.12, 0.85, 1.61, 1.42, 1.61])\n",
    "from statsmodels.stats import weightstats as stests\n",
    "stests.ztest(diameter_cm, value = 1.25)"
   ],
   "metadata": {
    "collapsed": false,
    "ExecuteTime": {
     "end_time": "2023-08-27T16:23:25.807601400Z",
     "start_time": "2023-08-27T16:23:25.730556300Z"
    }
   },
   "id": "b38c0ee2f63a919a"
  },
  {
   "cell_type": "markdown",
   "source": [
    "#### 27. Tesco Pharma claims to have produced a new drug which reduces the systolic Blood Pressure after usage of a week. The BP of 8 patients are recorded before medication and after medication. Do the data suggest that the drug is effective in reducing the systolic blood pressure?\n",
    "Before\tAfter\n",
    "90\t85\n",
    "85\t87\n",
    "78\t82\n",
    "88\t83\n",
    "90\t82\n",
    "100\t99\n",
    "92\t94\n",
    "81\t78\n",
    "Let\n",
    "X: systolic blood pressure before medication\n",
    "Y: systolic blood pressure after medication\n",
    "\n",
    "Thus\n",
    "μ\n",
    " X: the average systolic blood pressure before medication\n",
    "μ\n",
    " Y: the average systolic blood pressure after medication\n",
    "\n",
    "The hypothesis is\n",
    "H0: The average systolic blood pressure before medication is equal to the average systolic blood pressure after medication, i.e  μ\n",
    " X =  μ\n",
    " Y\n",
    "AGAINST\n",
    "Ha: The average systolic blood pressure before medication is less than the average systolic blood pressure after medication, i.e  μ\n",
    " X <  μ\n",
    " Y"
   ],
   "metadata": {
    "collapsed": false
   },
   "id": "d2cc30b61d3457a9"
  },
  {
   "cell_type": "code",
   "execution_count": 129,
   "outputs": [
    {
     "data": {
      "text/plain": "TtestResult(statistic=1.1784158720975104, pvalue=0.27713277282901, df=7)"
     },
     "execution_count": 129,
     "metadata": {},
     "output_type": "execute_result"
    }
   ],
   "source": [
    "BP_before = pd.Series([90, 85, 78, 88, 90, 100, 92, 81])\n",
    "BP_after = pd.Series([85, 87, 82, 83, 82, 99, 94, 78])\n",
    "from scipy.stats import ttest_rel\n",
    "ttest_rel(BP_before, BP_after)"
   ],
   "metadata": {
    "collapsed": false,
    "ExecuteTime": {
     "end_time": "2023-08-27T16:24:21.151697600Z",
     "start_time": "2023-08-27T16:24:21.097638400Z"
    }
   },
   "id": "44cf4780aabffe83"
  },
  {
   "cell_type": "markdown",
   "source": [
    "####   28. A researcher at BioSeed limited, claims to have modified the existing seed. The yeild for the two types of seeds is recorded for 10 equally sized farms. Is there enough evidence to claim that the there is no difference in the yeild due to the seed type?"
   ],
   "metadata": {
    "collapsed": false
   },
   "id": "f26a3f7fddd151ef"
  },
  {
   "cell_type": "code",
   "execution_count": 130,
   "outputs": [
    {
     "data": {
      "text/plain": "Ttest_indResult(statistic=-0.7059501484609986, pvalue=0.4892561782804804)"
     },
     "execution_count": 130,
     "metadata": {},
     "output_type": "execute_result"
    }
   ],
   "source": [
    "ordinary_seed = pd.Series([450, 340, 562, 563, 234, 546, 876, 649, 736, 745])\n",
    "modified_seed = pd.Series([345, 576, 675, 674, 865, 457, 776, 567, 568, 753])\n",
    "from scipy.stats import ttest_ind\n",
    "ttest_ind(ordinary_seed, modified_seed)"
   ],
   "metadata": {
    "collapsed": false,
    "ExecuteTime": {
     "end_time": "2023-08-27T16:24:59.591580600Z",
     "start_time": "2023-08-27T16:24:59.525163500Z"
    }
   },
   "id": "bada5bf2cf535cb1"
  },
  {
   "cell_type": "markdown",
   "source": [
    "#### \t29. Draw a random sample using np.random.random() of size 7000. Test whether the data follows normal distribution. The null and alternate hypothesis of Jarque-Bera test are as follows:\n",
    "\n",
    "H0: The data is normally distributed\n",
    "AGAINST\n",
    "Ha: The data is not normally distributed"
   ],
   "metadata": {
    "collapsed": false
   },
   "id": "80e3b2017bd15935"
  },
  {
   "cell_type": "code",
   "execution_count": 138,
   "outputs": [
    {
     "name": "stdout",
     "output_type": "stream",
     "text": [
      "The test statistic is 412.4866429882714  and its p-value is 2.6894504399569567e-90\n"
     ]
    }
   ],
   "source": [
    "data = np.random.random(7000)\n",
    "from scipy.stats import jarque_bera\n",
    "stat, p = jarque_bera(data)\n",
    "print(\"The test statistic is\", stat,\" and its p-value is\",p)"
   ],
   "metadata": {
    "collapsed": false,
    "ExecuteTime": {
     "end_time": "2023-08-27T16:25:46.095474400Z",
     "start_time": "2023-08-27T16:25:46.067043Z"
    }
   },
   "id": "eb91f523d8c1067f"
  },
  {
   "cell_type": "markdown",
   "source": [
    "#### 30. Assume that in a MCQ test, there are 10 questions, and each question has four options out which only one is correct. Steve knew answers to only 2 questions and has randomly marked answers for other questions. To pass the test one must answer 4 questions correctly. What is the probability that steve will pass?"
   ],
   "metadata": {
    "collapsed": false
   },
   "id": "57413e307971b6"
  },
  {
   "cell_type": "code",
   "execution_count": 147,
   "outputs": [
    {
     "name": "stdout",
     "output_type": "stream",
     "text": [
      "Probability of passing the exam is :  32.0%"
     ]
    }
   ],
   "source": [
    "from scipy.stats import binom\n",
    "\n",
    "n = 8 \n",
    "p =0.25\n",
    "prob_passing = 1 - binom.cdf(2, n, p)\n",
    "prob_passing = round(prob_passing,2)*100\n",
    "print('Probability of passing the exam is : ',prob_passing, end='%')"
   ],
   "metadata": {
    "collapsed": false,
    "ExecuteTime": {
     "end_time": "2023-08-27T16:28:42.619474900Z",
     "start_time": "2023-08-27T16:28:42.595964900Z"
    }
   },
   "id": "94fe529876d2b9a2"
  }
 ],
 "metadata": {
  "kernelspec": {
   "display_name": "Python 3",
   "language": "python",
   "name": "python3"
  },
  "language_info": {
   "codemirror_mode": {
    "name": "ipython",
    "version": 2
   },
   "file_extension": ".py",
   "mimetype": "text/x-python",
   "name": "python",
   "nbconvert_exporter": "python",
   "pygments_lexer": "ipython2",
   "version": "2.7.6"
  }
 },
 "nbformat": 4,
 "nbformat_minor": 5
}
