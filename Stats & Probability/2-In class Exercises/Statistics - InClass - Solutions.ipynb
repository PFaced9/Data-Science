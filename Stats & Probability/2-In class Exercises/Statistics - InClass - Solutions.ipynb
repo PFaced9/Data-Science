{
 "cells": [
  {
   "cell_type": "markdown",
   "metadata": {},
   "source": [
    "<table align=\"center\" width=100%>\n",
    "    <tr>\n",
    "        <td width=\"15%\">\n",
    "            <img src=\"inclass.png\">\n",
    "        </td>\n",
    "        <td>\n",
    "            <div align=\"center\">\n",
    "                <font color=\"#21618C\" size=8px>\n",
    "                    <b> In Class\n",
    "                    </b>\n",
    "                </font>\n",
    "            </div>\n",
    "        </td>\n",
    "    </tr>\n",
    "</table>"
   ]
  },
  {
   "cell_type": "markdown",
   "metadata": {},
   "source": [
    "**Import the required libraries**"
   ]
  },
  {
   "cell_type": "code",
   "execution_count": 1,
   "metadata": {},
   "outputs": [],
   "source": [
    "from scipy import stats\n",
    "import pandas as pd\n",
    "import seaborn as sns\n",
    "import matplotlib.pyplot as plt\n",
    "import numpy as np\n",
    "import math"
   ]
  },
  {
   "cell_type": "markdown",
   "metadata": {},
   "source": [
    "### Let's begin with some hands-on practice exercises"
   ]
  },
  {
   "cell_type": "markdown",
   "metadata": {},
   "source": [
    "**Huge Fruit Basket (HFB) is a grocery shop that sells fruits. It is observed that 20% of their customers complain about the fruits purchased by them for many reasons (bad quality, foul smell and less quantity). On Friday, 30 customers purchased fruits from HFB.**"
   ]
  },
  {
   "cell_type": "markdown",
   "metadata": {
    "collapsed": true
   },
   "source": [
    "<table align=\"left\">\n",
    "    <tr>\n",
    "        <td width=\"6%\">\n",
    "            <img src=\"scala_q.png\">\n",
    "        </td>\n",
    "        <td>\n",
    "            <div align=\"left\", style=\"font-size:120%\">\n",
    "                <font color=\"#21618C\">\n",
    "                    <b>1. Calculate the probability that exactly 10 customers will complain about the purchased products.\n",
    "</b>\n",
    "                </font>\n",
    "            </div>\n",
    "        </td>\n",
    "    </tr>\n",
    "</table>"
   ]
  },
  {
   "cell_type": "code",
   "execution_count": 2,
   "metadata": {},
   "outputs": [
    {
     "name": "stdout",
     "output_type": "stream",
     "text": [
      "The probability that exactly 3 customers will complain about the purchased products 3.55 %\n"
     ]
    }
   ],
   "source": [
    "# calculate the probability\n",
    "prob = stats.binom.pmf(10, 30, 0.2) * 100\n",
    "# rounding the value to 2 digits\n",
    "prob = round(prob, 2)\n",
    "print(\"The probability that exactly 3 customers will complain about the purchased products {} %\".format(prob))"
   ]
  },
  {
   "cell_type": "markdown",
   "metadata": {
    "collapsed": true
   },
   "source": [
    "<table align=\"left\">\n",
    "    <tr>\n",
    "        <td width=\"6%\">\n",
    "            <img src=\"scala_q.png\">\n",
    "        </td>\n",
    "        <td>\n",
    "            <div align=\"left\", style=\"font-size:120%\">\n",
    "                <font color=\"#21618C\">\n",
    "                    <b> 2. Create a list of all possible number of successes (0 to 15) and corresponding Probability Mass Funcrion (PMF) values and draw a bar plot.\n",
    "In other words; Calculate the probability that exactly n customers will complain about the purchased products; where n is 0 to 15.</b>\n",
    "                </font>\n",
    "            </div>\n",
    "        </td>\n",
    "    </tr>\n",
    "</table>"
   ]
  },
  {
   "cell_type": "code",
   "execution_count": 3,
   "metadata": {},
   "outputs": [
    {
     "data": {
      "text/plain": [
       "Text(0.5, 0, 'Number of customers who will complain')"
      ]
     },
     "execution_count": 3,
     "metadata": {},
     "output_type": "execute_result"
    },
    {
     "data": {
      "image/png": "[encoded data removed]",
      "text/plain": [
       "<Figure size 432x288 with 1 Axes>"
      ]
     },
     "metadata": {
      "needs_background": "light"
     },
     "output_type": "display_data"
    }
   ],
   "source": [
    "# range(0,15) returns all values from 0 to 15 (excluding 16)\n",
    "pmf_df = pd.DataFrame({'success': range(0,16), 'pmf': list(stats.binom.pmf(range(0,16), 30, 0.2))})\n",
    "\n",
    "# Creating a bar plot with number of success as x and pmf as y\n",
    "sns.barplot(x = pmf_df.success, y = pmf_df.pmf)\n",
    "# Set the label for the y-axis\n",
    "plt.ylabel('pmf')\n",
    "# Set the label for the x-axis\n",
    "plt.xlabel('Number of customers who will complain')"
   ]
  },
  {
   "cell_type": "markdown",
   "metadata": {
    "collapsed": true
   },
   "source": [
    "<table align=\"left\">\n",
    "    <tr>\n",
    "        <td width=\"6%\">\n",
    "            <img src=\"scala_q.png\">\n",
    "        </td>\n",
    "        <td>\n",
    "            <div align=\"left\", style=\"font-size:120%\">\n",
    "                <font color=\"#21618C\">\n",
    "                    <b>3. Calculate the probability that maximum of 10 customers will complain about the fruits purchased by them.\n",
    "</b>\n",
    "                </font>\n",
    "            </div>\n",
    "        </td>\n",
    "    </tr>\n",
    "</table>"
   ]
  },
  {
   "cell_type": "code",
   "execution_count": 4,
   "metadata": {
    "scrolled": true
   },
   "outputs": [
    {
     "name": "stdout",
     "output_type": "stream",
     "text": [
      "The probability that maximum of 10 customers will complain about the fruits purchased by them is 97.44 %\n"
     ]
    }
   ],
   "source": [
    "# calculate the probability\n",
    "prob = stats.binom.cdf(10, 30, 0.2) * 100\n",
    "# rounding the value to 2 digits\n",
    "prob = round(prob, 2)\n",
    "print(\"The probability that maximum of 10 customers will complain about the fruits purchased by them is {} %\".format(prob))"
   ]
  },
  {
   "cell_type": "markdown",
   "metadata": {
    "collapsed": true
   },
   "source": [
    "<table align=\"left\">\n",
    "    <tr>\n",
    "        <td width=\"6%\">\n",
    "            <img src=\"scala_q.png\">\n",
    "        </td>\n",
    "        <td>\n",
    "            <div align=\"left\", style=\"font-size:120%\">\n",
    "                <font color=\"#21618C\">\n",
    "                    <b>4. Calculate the probability that more than 10 customers will complain about the fruits purchased by them.\n",
    "</b>\n",
    "                </font>\n",
    "            </div>\n",
    "        </td>\n",
    "    </tr>\n",
    "</table>"
   ]
  },
  {
   "cell_type": "code",
   "execution_count": 5,
   "metadata": {},
   "outputs": [
    {
     "name": "stdout",
     "output_type": "stream",
     "text": [
      "The probability that more than 10 customers will complain about the fruits purchased by them is 2.56 %\n"
     ]
    }
   ],
   "source": [
    "# calculate the probability\n",
    "prob = 100 - stats.binom.cdf(10, 30, 0.2) * 100\n",
    "# rounding the value to 2 digits\n",
    "prob = round(prob, 2)\n",
    "print(\"The probability that more than 10 customers will complain about the fruits purchased by them is {} %\".format(prob))"
   ]
  },
  {
   "cell_type": "markdown",
   "metadata": {
    "collapsed": true
   },
   "source": [
    "<table align=\"left\">\n",
    "    <tr>\n",
    "        <td width=\"6%\">\n",
    "            <img src=\"scala_q.png\">\n",
    "        </td>\n",
    "        <td>\n",
    "            <div align=\"left\", style=\"font-size:120%\">\n",
    "                <font color=\"#21618C\">\n",
    "                    <b>5. Find the average number of customers who are likely to complain about the fruits. Also find the variance of the number of complaints.\n",
    "</b>\n",
    "                </font>\n",
    "            </div>\n",
    "        </td>\n",
    "    </tr>\n",
    "</table>"
   ]
  },
  {
   "cell_type": "code",
   "execution_count": 6,
   "metadata": {},
   "outputs": [
    {
     "name": "stdout",
     "output_type": "stream",
     "text": [
      "The average number of customers who are likely to complain about the fruits is 6.0.\n",
      "The variance of the number of complaints is 4.800000000000001.\n"
     ]
    }
   ],
   "source": [
    "# calculate the average and variance\n",
    "average, variance = stats.binom.stats(30, 0.2)\n",
    "print(\"The average number of customers who are likely to complain about the fruits is {}.\".format(average))\n",
    "print(\"The variance of the number of complaints is {}.\".format(variance))"
   ]
  },
  {
   "cell_type": "markdown",
   "metadata": {},
   "source": [
    "**The number of customer returns in a retail chain per day follows a poisson distribution at a rate of 25 returns per day.**"
   ]
  },
  {
   "cell_type": "markdown",
   "metadata": {
    "collapsed": true
   },
   "source": [
    "<table align=\"left\">\n",
    "    <tr>\n",
    "        <td width=\"6%\">\n",
    "            <img src=\"scala_q.png\">\n",
    "        </td>\n",
    "        <td>\n",
    "            <div align=\"left\", style=\"font-size:120%\">\n",
    "                <font color=\"#21618C\">\n",
    "                    <b>6. Calculate the probability that the number of returns exceeds 30 in a day.\n",
    "</b>\n",
    "                </font>\n",
    "            </div>\n",
    "        </td>\n",
    "    </tr>\n",
    "</table>"
   ]
  },
  {
   "cell_type": "code",
   "execution_count": 7,
   "metadata": {},
   "outputs": [
    {
     "name": "stdout",
     "output_type": "stream",
     "text": [
      "The probability that the number of returns exceeds 30 in a day is 13.67%.\n"
     ]
    }
   ],
   "source": [
    "# calculate the probability\n",
    "prob = (1 - stats.poisson.cdf(30, 25)) * 100\n",
    "# rounding the value to 2 digits\n",
    "prob = round(prob, 2)\n",
    "print(\"The probability that the number of returns exceeds 30 in a day is {}%.\".format(prob))"
   ]
  },
  {
   "cell_type": "markdown",
   "metadata": {
    "collapsed": true
   },
   "source": [
    "<table align=\"left\">\n",
    "    <tr>\n",
    "        <td width=\"6%\">\n",
    "            <img src=\"scala_q.png\">\n",
    "        </td>\n",
    "        <td>\n",
    "            <div align=\"left\", style=\"font-size:120%\">\n",
    "                <font color=\"#21618C\">\n",
    "                    <b>7. The IQ of students follows normal distribution with mean 95 and variance 10. What is the probability that the any student selected at random will have IQ more than 102? \n",
    "</b>\n",
    "                </font>\n",
    "            </div>\n",
    "        </td>\n",
    "    </tr>\n",
    "</table>"
   ]
  },
  {
   "cell_type": "code",
   "execution_count": 8,
   "metadata": {},
   "outputs": [
    {
     "data": {
      "text/plain": [
       "0.013428347753762226"
      ]
     },
     "execution_count": 8,
     "metadata": {},
     "output_type": "execute_result"
    }
   ],
   "source": [
    "# import the required library\n",
    "from scipy.stats import norm\n",
    "\n",
    "# mean of the distribution is \n",
    "mu = 95\n",
    "\n",
    "# variance of the distribution is \n",
    "var = 10\n",
    "\n",
    "# standard deviation of the distribution is \n",
    "sd = np.sqrt(var)\n",
    "\n",
    "# P(X>102)\n",
    "1 - norm.cdf(102, mu, sd)"
   ]
  },
  {
   "cell_type": "markdown",
   "metadata": {},
   "source": [
    "The probability that the any student selected at random will have IQ more than 102 is 0.013"
   ]
  },
  {
   "cell_type": "markdown",
   "metadata": {
    "collapsed": true
   },
   "source": [
    "<table align=\"left\">\n",
    "    <tr>\n",
    "        <td width=\"6%\">\n",
    "            <img src=\"scala_q.png\">\n",
    "        </td>\n",
    "        <td>\n",
    "            <div align=\"left\", style=\"font-size:120%\">\n",
    "                <font color=\"#21618C\">\n",
    "                    <b>8. The number of road accidents on the day follow Poisson distribution with mean equals to 3. What is the probability that on a day exactly 1 accident will happen?              \n",
    "</b>\n",
    "                </font>\n",
    "            </div>\n",
    "        </td>\n",
    "    </tr>\n",
    "</table>"
   ]
  },
  {
   "cell_type": "code",
   "execution_count": 9,
   "metadata": {},
   "outputs": [
    {
     "data": {
      "text/plain": [
       "0.14936120510359185"
      ]
     },
     "execution_count": 9,
     "metadata": {},
     "output_type": "execute_result"
    }
   ],
   "source": [
    "# import the required library\n",
    "from scipy.stats import poisson\n",
    "\n",
    "# X: number of road accidents during the day\n",
    "# x = 1\n",
    "# m = 3\n",
    "# The required probability is P(X = 1)\n",
    "poisson.pmf(1, 3)"
   ]
  },
  {
   "cell_type": "markdown",
   "metadata": {
    "collapsed": true
   },
   "source": [
    "<table align=\"left\">\n",
    "    <tr>\n",
    "        <td width=\"6%\">\n",
    "            <img src=\"scala_q.png\">\n",
    "        </td>\n",
    "        <td>\n",
    "            <div align=\"left\", style=\"font-size:120%\">\n",
    "                <font color=\"#21618C\">\n",
    "                    <b>9. Consider the following data does it follow a normal distribution?.\n",
    "</b>\n",
    "                </font>\n",
    "            </div>\n",
    "        </td>\n",
    "    </tr>\n",
    "</table>"
   ]
  },
  {
   "cell_type": "raw",
   "metadata": {},
   "source": [
    "    75, 97, 70, 25, 80, 40, 82, 72, 82, 46, 72, 64, 24, 66, 78, 34, 37,\n",
    "    64, 75, 94, 76, 96, 88, 37, 29, 51, 67, 45, 69, 59, 81, 66, 30, 52,\n",
    "    66, 85, 80, 74, 69, 83, 66, 84, 76, 73, 77, 85, 72, 71, 71, 75, 59,\n",
    "    84, 65, 64, 86, 58, 85, 61, 79, 61, 68, 61, 60, 78, 76, 80, 57, 75"
   ]
  },
  {
   "cell_type": "markdown",
   "metadata": {},
   "source": [
    "The null and alternate hypothesis of Shapiro-Wilk test are as follows: <br>\n",
    "    \n",
    "H<sub>0</sub>: The data is normally distributed<br>\n",
    "**AGAINST**<br>\n",
    "H<sub>a</sub>: The data is not normally distributed"
   ]
  },
  {
   "cell_type": "code",
   "execution_count": 10,
   "metadata": {},
   "outputs": [
    {
     "name": "stdout",
     "output_type": "stream",
     "text": [
      "The test statistic is 0.9307892322540283 and its p-value is 0.0009826880414038897\n"
     ]
    }
   ],
   "source": [
    "# create the data series\n",
    "data = pd.Series([75, 97, 70, 25, 80, 40, 82, 72, 82, 46, 72, 64, 24, 66, 78, 34, 37,\n",
    "                64, 75, 94, 76, 96, 88, 37, 29, 51, 67, 45, 69, 59, 81, 66, 30, 52,\n",
    "                66, 85, 80, 74, 69, 83, 66, 84, 76, 73, 77, 85, 72, 71, 71, 75, 59,\n",
    "                84, 65, 64, 86, 58, 85, 61, 79, 61, 68, 61, 60, 78, 76, 80, 57, 75])\n",
    "\n",
    "# import shapiro from the scipy library\n",
    "from scipy.stats import shapiro\n",
    "\n",
    "# conduct the normality test\n",
    "stat, p = shapiro(data)\n",
    "\n",
    "print(\"The test statistic is\", stat,\"and its p-value is\",p)"
   ]
  },
  {
   "cell_type": "markdown",
   "metadata": {},
   "source": [
    "Since the p-value (0.00) is less than 0.05 (level of significance), hence we reject H<sub>0</sub>. <br>We may conclude that the data is not normally distributed."
   ]
  },
  {
   "cell_type": "markdown",
   "metadata": {
    "collapsed": true
   },
   "source": [
    "<table align=\"left\">\n",
    "    <tr>\n",
    "        <td width=\"6%\">\n",
    "            <img src=\"scala_q.png\">\n",
    "        </td>\n",
    "        <td>\n",
    "            <div align=\"left\", style=\"font-size:120%\">\n",
    "                <font color=\"#21618C\">\n",
    "                    <b>10. Consider three coins are tossed simultaneously.<br>\n",
    "                    1) How many outcomes have at least two heads?<br>\n",
    "                    2) What is the probability of the this event?<br>\n",
    "</b>\n",
    "                </font>\n",
    "            </div>\n",
    "        </td>\n",
    "    </tr>\n",
    "</table>"
   ]
  },
  {
   "cell_type": "markdown",
   "metadata": {},
   "source": [
    "Let H: Head of the coin tossed\n",
    "and T: Tail of the coin tossed\n",
    "\n",
    "Three coins tossed simultaneously have the following outcomes:\n",
    "{HHH, HHT, HTH, THH, HTT, THT, TTH, TTT}"
   ]
  },
  {
   "cell_type": "code",
   "execution_count": 11,
   "metadata": {},
   "outputs": [],
   "source": [
    "outcomes_atleast_two_heads = 'HHH', 'HHT', 'HTH', 'THH'\n",
    "\n",
    "# The number of outcomes that have at least two heads\n",
    "no_outcomes_atleast_two_heads = len(outcomes_atleast_two_heads)"
   ]
  },
  {
   "cell_type": "code",
   "execution_count": 12,
   "metadata": {},
   "outputs": [
    {
     "data": {
      "text/plain": [
       "0.5"
      ]
     },
     "execution_count": 12,
     "metadata": {},
     "output_type": "execute_result"
    }
   ],
   "source": [
    "# total number of outcomes\n",
    "total_outcomes = 8\n",
    "\n",
    "# Probability that the number of outcomes that have at least two heads\n",
    "no_outcomes_atleast_two_heads/total_outcomes"
   ]
  },
  {
   "cell_type": "markdown",
   "metadata": {
    "collapsed": true
   },
   "source": [
    "<table align=\"left\">\n",
    "    <tr>\n",
    "        <td width=\"6%\">\n",
    "            <img src=\"scala_q.png\">\n",
    "        </td>\n",
    "        <td>\n",
    "            <div align=\"left\", style=\"font-size:120%\">\n",
    "                <font color=\"#21618C\">\n",
    "                    <b>11. A textile industry observed that on an average its employees can stitch 34 garment on a particular day with variance 3. What are minimum and maximum number of garments that can be produced?\n",
    "</b>\n",
    "                </font>\n",
    "            </div>\n",
    "        </td>\n",
    "    </tr>\n",
    "</table>"
   ]
  },
  {
   "cell_type": "code",
   "execution_count": 13,
   "metadata": {},
   "outputs": [
    {
     "name": "stdout",
     "output_type": "stream",
     "text": [
      "The probability of selecting a red card 0.5\n"
     ]
    }
   ],
   "source": [
    "# from a pack of 52 cards, the chance of selecting any card is equally likely\n",
    "probability_of_selecting_card = 1/52\n",
    "\n",
    "# a pack of cards has 26 red cards\n",
    "required_probability = 26 * probability_of_selecting_card\n",
    "\n",
    "print('The probability of selecting a red card', required_probability)"
   ]
  },
  {
   "cell_type": "markdown",
   "metadata": {},
   "source": [
    "For a uniform distribution, \n",
    "\n",
    "mean = (a + b)/2 and variance = (b-a)^2/12\n",
    "\n",
    "let s:a+b  and  d:b-a"
   ]
  },
  {
   "cell_type": "code",
   "execution_count": 14,
   "metadata": {},
   "outputs": [
    {
     "data": {
      "text/plain": [
       "68"
      ]
     },
     "execution_count": 14,
     "metadata": {},
     "output_type": "execute_result"
    }
   ],
   "source": [
    "# mean = (a + b)/2\n",
    "# mean = s/2\n",
    "\n",
    "# the mean is \n",
    "mean = 34\n",
    "\n",
    "# thus s is \n",
    "s = mean*2\n",
    "\n",
    "# print s\n",
    "s"
   ]
  },
  {
   "cell_type": "code",
   "execution_count": 15,
   "metadata": {},
   "outputs": [
    {
     "data": {
      "text/plain": [
       "6.0"
      ]
     },
     "execution_count": 15,
     "metadata": {},
     "output_type": "execute_result"
    }
   ],
   "source": [
    "# variance = (b-a)^2/12\n",
    "# variance = d^2/12\n",
    "\n",
    "# the variance is \n",
    "var = 3\n",
    "\n",
    "# thus squared d is\n",
    "d2 = 12*3 \n",
    "\n",
    "# thus d is \n",
    "d = np.sqrt(d2)\n",
    "\n",
    "# print d\n",
    "d"
   ]
  },
  {
   "cell_type": "markdown",
   "metadata": {},
   "source": [
    "Now we have\n",
    "\n",
    "b + a = 68\n",
    "\n",
    "b - a = 6 \n",
    "\n",
    "Solving it simultaneously, we get"
   ]
  },
  {
   "cell_type": "code",
   "execution_count": 16,
   "metadata": {},
   "outputs": [
    {
     "data": {
      "text/plain": [
       "37.0"
      ]
     },
     "execution_count": 16,
     "metadata": {},
     "output_type": "execute_result"
    }
   ],
   "source": [
    "# compute b\n",
    "b = (68+6)/2\n",
    "\n",
    "# print b\n",
    "b"
   ]
  },
  {
   "cell_type": "code",
   "execution_count": 17,
   "metadata": {},
   "outputs": [
    {
     "data": {
      "text/plain": [
       "31.0"
      ]
     },
     "execution_count": 17,
     "metadata": {},
     "output_type": "execute_result"
    }
   ],
   "source": [
    "# compute b\n",
    "a = 68 - b\n",
    "\n",
    "# print a\n",
    "a"
   ]
  },
  {
   "cell_type": "markdown",
   "metadata": {},
   "source": [
    "Thus the employees stitch a minimum of 31 garments to a maximum of 37 in a day."
   ]
  },
  {
   "cell_type": "markdown",
   "metadata": {
    "collapsed": true
   },
   "source": [
    "<table align=\"left\">\n",
    "    <tr>\n",
    "        <td width=\"6%\">\n",
    "            <img src=\"scala_q.png\">\n",
    "        </td>\n",
    "        <td>\n",
    "            <div align=\"left\", style=\"font-size:120%\">\n",
    "                <font color=\"#21618C\">\n",
    "                    <b>12. A telecom industry is keen to know the call duration of its customers to introduce new prepaid plans. The data for call duration in minutes is given as follows:<br>\n",
    "    Call duration (in minutes):\n",
    "    23, 03, 13, 04, 45, 35, 48, 98, 65, 45, 75, 24, 15, 25, 34, 17, 16, 17, 19<br><br>\n",
    "Obtain the descriptive statistics of the data.\n",
    "</b>\n",
    "                </font>\n",
    "            </div>\n",
    "        </td>\n",
    "    </tr>\n",
    "</table>"
   ]
  },
  {
   "cell_type": "code",
   "execution_count": 18,
   "metadata": {},
   "outputs": [
    {
     "data": {
      "text/plain": [
       "count    19.000000\n",
       "mean     32.684211\n",
       "std      24.984557\n",
       "min       3.000000\n",
       "25%      16.500000\n",
       "50%      24.000000\n",
       "75%      45.000000\n",
       "max      98.000000\n",
       "dtype: float64"
      ]
     },
     "execution_count": 18,
     "metadata": {},
     "output_type": "execute_result"
    }
   ],
   "source": [
    "# create the data series\n",
    "call_duration = pd.Series([23, 3, 13, 4, 45, 35, 48, 98, 65, 45, 75, 24, 15, 25, 34, 17, 16, 17, 19 ])\n",
    "\n",
    "# obtain the summary statistics using the describe()\n",
    "call_duration.describe()"
   ]
  },
  {
   "cell_type": "markdown",
   "metadata": {},
   "source": [
    "**ClickDart is an e-commerce company. It claims that the product will be delivered within 30 days of placing the order. The data is given below that contains the delivery time of 40 products. The population mean is 30 and the population standard deviation of the delivery time is 12.5 days.**\n",
    "\n",
    "data = [16.0, 16.0, 30.0, 37.0, 25.0, 22.0, 19.0, 35.0, 27.0, 32.0,\n",
    "34.0, 28.0, 24.0, 35.0, 24.0, 21.0, 32.0, 29.0, 24.0, 35.0,\n",
    "28.0, 29.0, 18.0, 31.0, 28.0, 33.0, 32.0, 24.0, 25.0, 22.0,\n",
    "21.0, 27.0, 41.0, 23.0, 23.0, 16.0, 24.0, 38.0, 26.0, 28.0]"
   ]
  },
  {
   "cell_type": "markdown",
   "metadata": {
    "collapsed": true
   },
   "source": [
    "<table align=\"left\">\n",
    "    <tr>\n",
    "        <td width=\"6%\">\n",
    "            <img src=\"scala_q.png\">\n",
    "        </td>\n",
    "        <td>\n",
    "            <div align=\"left\", style=\"font-size:120%\">\n",
    "                <font color=\"#21618C\">\n",
    "                    <b>13. Calculate the mean and standard deviation of these observations and check if calculate Z-statistics can be applied or not\n",
    "</b>\n",
    "                </font>\n",
    "            </div>\n",
    "        </td>\n",
    "    </tr>\n",
    "</table>"
   ]
  },
  {
   "cell_type": "code",
   "execution_count": 19,
   "metadata": {},
   "outputs": [
    {
     "name": "stdout",
     "output_type": "stream",
     "text": [
      "Sample Mean:  27.05\n",
      "Sample Standard Deviation:  6.1682655584856265\n"
     ]
    }
   ],
   "source": [
    "data = [16.0, 16.0, 30.0, 37.0, 25.0, 22.0, 19.0, 35.0, 27.0, 32.0,\n",
    "34.0, 28.0, 24.0, 35.0, 24.0, 21.0, 32.0, 29.0, 24.0, 35.0,\n",
    "28.0, 29.0, 18.0, 31.0, 28.0, 33.0, 32.0, 24.0, 25.0, 22.0,\n",
    "21.0, 27.0, 41.0, 23.0, 23.0, 16.0, 24.0, 38.0, 26.0, 28.0]\n",
    "\n",
    "# find the mean\n",
    "print(\"Sample Mean: \", np.mean(data))\n",
    "\n",
    "# find the mean\n",
    "print(\"Sample Standard Deviation: \", np.std(data))"
   ]
  },
  {
   "cell_type": "code",
   "execution_count": 20,
   "metadata": {},
   "outputs": [
    {
     "name": "stdout",
     "output_type": "stream",
     "text": [
      "The length of the data is 40. Thus, we can perform z-statistics on the data.\n"
     ]
    }
   ],
   "source": [
    "length = len(data)\n",
    "print('The length of the data is {}. Thus, we can perform z-statistics on the data.'.format(length))"
   ]
  },
  {
   "cell_type": "markdown",
   "metadata": {
    "collapsed": true
   },
   "source": [
    "<table align=\"left\">\n",
    "    <tr>\n",
    "        <td width=\"6%\">\n",
    "            <img src=\"scala_q.png\">\n",
    "        </td>\n",
    "        <td>\n",
    "            <div align=\"left\", style=\"font-size:120%\">\n",
    "                <font color=\"#21618C\">\n",
    "                    <b>14. Conduct a hypothesis test at significance level a = 0.05 to verify the claim made by the e-commerce company 'ClickDart'.\n",
    "</b>\n",
    "                </font>\n",
    "            </div>\n",
    "        </td>\n",
    "    </tr>\n",
    "</table>"
   ]
  },
  {
   "cell_type": "markdown",
   "metadata": {},
   "source": [
    "Let us first define the hypothesis. If m is population mean, that is; mean delivery time then\n",
    "\n",
    "H<sub>0</sub> : m ≥ 30<br>\n",
    "H<sub>A</sub> : m < 30"
   ]
  },
  {
   "cell_type": "code",
   "execution_count": 21,
   "metadata": {},
   "outputs": [
    {
     "name": "stdout",
     "output_type": "stream",
     "text": [
      "The z-score value is -1.4926 and the p-value is 0.0678\n"
     ]
    }
   ],
   "source": [
    "# Population mean\n",
    "pop_mean = 30\n",
    "\n",
    "# Population Standard Deviation\n",
    "pop_std = 12.5\n",
    "\n",
    "# Sample mean\n",
    "sample_mean = np.mean(data)\n",
    "\n",
    "# length of sample data\n",
    "n = len(data)\n",
    "\n",
    "# find the z-score\n",
    "z_score = (sample_mean - pop_mean)/(pop_std/np.sqrt(n))\n",
    "\n",
    "# find the p-value\n",
    "p_value = stats.norm.cdf(z_score)\n",
    "\n",
    "print('The z-score value is {} and the p-value is {}'.format(round(z_score, 4), round(p_value, 4)))"
   ]
  },
  {
   "cell_type": "markdown",
   "metadata": {},
   "source": [
    "We can see that the p-value is greater than 0.05, thus the null hypothesis is retained. Since 6.78% is greater than the significance value 5%, there is not enough evidence to reject null hypothesis. The null hypothesis is retained and it can be concluded that average delivery time is greater than or equal to 30."
   ]
  },
  {
   "cell_type": "markdown",
   "metadata": {},
   "source": [
    "**Glitch Productions (GP) is a newly formed movie production house based out of Atlanta. GP was interested in understanding the production cost required for producing a Hollywood movie. The industry believes that the production house will require\n",
    "70 million dollars on average. It is assumed that the Hollywood movie production cost follows a normal distribution. The production costs of 40 Hollywood movies in millions of dollars are given below.**\n",
    "\n",
    "data = [81, 89, 53, 56, 77, 58, 78, 45, 62, 55, 72, 8,\n",
    "10, 16, 8, 33, 36, 32, 66, 62, 48, 84, 67, 91, 62, 46, \n",
    "89, 99, 92, 77, 29, 66, 44, 26, 66, 67,25, 35, 57, 63]"
   ]
  },
  {
   "cell_type": "markdown",
   "metadata": {
    "collapsed": true
   },
   "source": [
    "<table align=\"left\">\n",
    "    <tr>\n",
    "        <td width=\"6%\">\n",
    "            <img src=\"scala_q.png\">\n",
    "        </td>\n",
    "        <td>\n",
    "            <div align=\"left\", style=\"font-size:120%\">\n",
    "                <font color=\"#21618C\">\n",
    "                    <b>15. Conduct an appropriate hypothesis test at a = 0.05 to check whether the belief about average production cost is correct.<br>\n",
    "</b>\n",
    "                </font>\n",
    "            </div>\n",
    "        </td>\n",
    "    </tr>\n",
    "</table>"
   ]
  },
  {
   "cell_type": "markdown",
   "metadata": {},
   "source": [
    "Let us first define the hypothesis. If m is population mean, that is, the production cost\n",
    "\n",
    "H<sub>0</sub> : m = 70<br>\n",
    "H<sub>A</sub> : m ≠ 70"
   ]
  },
  {
   "cell_type": "code",
   "execution_count": 22,
   "metadata": {},
   "outputs": [
    {
     "data": {
      "text/plain": [
       "Ttest_1sampResult(statistic=-3.6653028762755846, pvalue=0.0007341698578725005)"
      ]
     },
     "execution_count": 22,
     "metadata": {},
     "output_type": "execute_result"
    }
   ],
   "source": [
    "data = [81, 89, 53, 56, 77, 58, 78, 45, 62, 55, 72, 8, 10,\n",
    "        16, 8, 33, 36, 32, 66, 62, 48, 84, 67, 91, 62, 46,\n",
    "        89, 99, 92, 77, 29, 66, 44, 26, 66, 67,25, 35, 57, 63]\n",
    "\n",
    "# Here we do not have population standard deviation. Thus, we will use One-Sample t-Test.\n",
    "stats.ttest_1samp(data, 70)"
   ]
  },
  {
   "cell_type": "code",
   "execution_count": 23,
   "metadata": {},
   "outputs": [
    {
     "data": {
      "text/plain": [
       "40"
      ]
     },
     "execution_count": 23,
     "metadata": {},
     "output_type": "execute_result"
    }
   ],
   "source": [
    "len(data)"
   ]
  },
  {
   "cell_type": "markdown",
   "metadata": {},
   "source": [
    "The p-value is 0.0007. As the p-value is less than 0.05, we can conclude that the sample mean rejects that the production cost is equal to 70."
   ]
  },
  {
   "cell_type": "markdown",
   "metadata": {},
   "source": [
    "**Consider the below image for the questions 16 and 17**\n",
    "<img src=\"image.png\">"
   ]
  },
  {
   "cell_type": "markdown",
   "metadata": {
    "collapsed": true
   },
   "source": [
    "<table align=\"left\">\n",
    "    <tr>\n",
    "        <td width=\"6%\">\n",
    "            <img src=\"scala_q.png\">\n",
    "        </td>\n",
    "        <td>\n",
    "            <div align=\"left\", style=\"font-size:120%\">\n",
    "                <font color=\"#21618C\">\n",
    "                    <b>16. What is the probability that a girl is chosen given that she likes Pizza?\n",
    "</b>\n",
    "                </font>\n",
    "            </div>\n",
    "        </td>\n",
    "    </tr>\n",
    "</table>"
   ]
  },
  {
   "cell_type": "code",
   "execution_count": 24,
   "metadata": {},
   "outputs": [
    {
     "name": "stdout",
     "output_type": "stream",
     "text": [
      "The probability that a girl is chosen given that she likes Pizza is 67.0%\n"
     ]
    }
   ],
   "source": [
    "# probability that the favourite food is pizza given girl: P(Pizza | Girl)\n",
    "PPgG = 60/85\n",
    "\n",
    "# probability of being a girl: P(Girl)\n",
    "PG = 85/155\n",
    "\n",
    "# probability that the favourite dish is Pizza: P(Pizza)\n",
    "PP = 90/155\n",
    "\n",
    "#  probability that a girl is chosen given that she likes Pizza: P(Girl | Pizza)\n",
    "\n",
    "PGgP = (PPgG * PG) / PP\n",
    "PGgP = round(PGgP, 2) * 100\n",
    "\n",
    "print('The probability that a girl is chosen given that she likes Pizza is {}%'.format(PGgP))"
   ]
  },
  {
   "cell_type": "markdown",
   "metadata": {
    "collapsed": true
   },
   "source": [
    "<table align=\"left\">\n",
    "    <tr>\n",
    "        <td width=\"6%\">\n",
    "            <img src=\"scala_q.png\">\n",
    "        </td>\n",
    "        <td>\n",
    "            <div align=\"left\", style=\"font-size:120%\">\n",
    "                <font color=\"#21618C\">\n",
    "                    <b>17. What is the probability that a boy likes both the dishes?\n",
    "</b>\n",
    "                </font>\n",
    "            </div>\n",
    "        </td>\n",
    "    </tr>\n",
    "</table>"
   ]
  },
  {
   "cell_type": "code",
   "execution_count": 25,
   "metadata": {},
   "outputs": [
    {
     "name": "stdout",
     "output_type": "stream",
     "text": [
      "The probability that a boy likes both the dishes is 45.0%\n"
     ]
    }
   ],
   "source": [
    "# probability that a boy likes both the dishes\n",
    "PB_likes_SP = 70/155\n",
    "\n",
    "PB_likes_SP = round(PB_likes_SP, 2) * 100\n",
    "\n",
    "print('The probability that a boy likes both the dishes is {}%'.format(PB_likes_SP))"
   ]
  },
  {
   "cell_type": "markdown",
   "metadata": {
    "collapsed": true
   },
   "source": [
    "<table align=\"left\">\n",
    "    <tr>\n",
    "        <td width=\"6%\">\n",
    "            <img src=\"scala_q.png\">\n",
    "        </td>\n",
    "        <td>\n",
    "            <div align=\"left\", style=\"font-size:120%\">\n",
    "                <font color=\"#21618C\">\n",
    "                    <b>18. What is the probability that the favourite dish for both boys and girls is sizzlers?\n",
    "</b>\n",
    "                </font>\n",
    "            </div>\n",
    "        </td>\n",
    "    </tr>\n",
    "</table>"
   ]
  },
  {
   "cell_type": "code",
   "execution_count": 26,
   "metadata": {},
   "outputs": [
    {
     "name": "stdout",
     "output_type": "stream",
     "text": [
      "The probability that a boy likes both the dishes is 42.0%\n"
     ]
    }
   ],
   "source": [
    "# probability that the favourite dish for both boys and girls is sizzlers\n",
    "PS = 65/155\n",
    "\n",
    "PS = round(PS, 2) * 100\n",
    "\n",
    "print('The probability that a boy likes both the dishes is {}%'.format(PS))"
   ]
  },
  {
   "cell_type": "markdown",
   "metadata": {
    "collapsed": true
   },
   "source": [
    "<table align=\"left\">\n",
    "    <tr>\n",
    "        <td width=\"6%\">\n",
    "            <img src=\"scala_q.png\">\n",
    "        </td>\n",
    "        <td>\n",
    "            <div align=\"left\", style=\"font-size:120%\">\n",
    "                <font color=\"#21618C\">\n",
    "                    <b>19. What is the probability that the favourite food is Pizza given that he is a boy?\n",
    "</b>\n",
    "                </font>\n",
    "            </div>\n",
    "        </td>\n",
    "    </tr>\n",
    "</table>"
   ]
  },
  {
   "cell_type": "code",
   "execution_count": 27,
   "metadata": {},
   "outputs": [
    {
     "name": "stdout",
     "output_type": "stream",
     "text": [
      "The probability that the favourite food is Pizza given that he is a boy is 43.0%\n"
     ]
    }
   ],
   "source": [
    "# probability of being a boy given that he likes pizza: P(Boy | Pizza)\n",
    "PBgP = 30/90\n",
    "\n",
    "# probability of being a boy: P(Boy)\n",
    "PB = 70/155\n",
    "\n",
    "# probability that the favourite dish is Pizza: P(Pizza)\n",
    "PP = 90/155\n",
    "\n",
    "#  probability that the favourite food is Pizza given that he is a boy: P(Pizza | Boy)\n",
    "PPgB = (PBgP * PP) / PB\n",
    "PPgB = round(PPgB, 2) * 100\n",
    "\n",
    "print('The probability that the favourite food is Pizza given that he is a boy is {}%'.format(PPgB))"
   ]
  },
  {
   "cell_type": "markdown",
   "metadata": {
    "collapsed": true
   },
   "source": [
    "<table align=\"left\">\n",
    "    <tr>\n",
    "        <td width=\"6%\">\n",
    "            <img src=\"scala_q.png\">\n",
    "        </td>\n",
    "        <td>\n",
    "            <div align=\"left\", style=\"font-size:120%\">\n",
    "                <font color=\"#21618C\">\n",
    "                    <b>20. An experiment to study obesity in male workers shows that the average BMI for 36 workers is 23.79. While rechecking the forms, it was noticed that the BMI of a worker was misread as 21.32 instead of 27.32. Find the correct average BMI.\n",
    "</b>\n",
    "                </font>\n",
    "            </div>\n",
    "        </td>\n",
    "    </tr>\n",
    "</table>"
   ]
  },
  {
   "cell_type": "code",
   "execution_count": 28,
   "metadata": {},
   "outputs": [
    {
     "name": "stdout",
     "output_type": "stream",
     "text": [
      "Correct average BMI: 23.956666666666663\n"
     ]
    }
   ],
   "source": [
    "# incorrect mean BMI\n",
    "incorrect_avg_bmi = 23.79\n",
    "\n",
    "# number of workers\n",
    "n = 36\n",
    "\n",
    "# incorrect sum of bmi\n",
    "incorrect_sum_bmi = incorrect_avg_bmi*n\n",
    "\n",
    "# as the observation 27.32 was misread as 21.32\n",
    "# correct_sum_bmi = incorrect_sum_bmi + correct_obs - incorrect_obs\n",
    "correct_obs = 27.32\n",
    "incorrect_obs = 21.32\n",
    "\n",
    "# correct sum of bmi\n",
    "correct_sum_bmi = incorrect_sum_bmi + correct_obs - incorrect_obs\n",
    "\n",
    "# correct average bmi\n",
    "correct_avg_bmi = correct_sum_bmi / n\n",
    "\n",
    "print('Correct average BMI:', correct_avg_bmi)"
   ]
  },
  {
   "cell_type": "markdown",
   "metadata": {
    "collapsed": true
   },
   "source": [
    "<table align=\"left\">\n",
    "    <tr>\n",
    "        <td width=\"6%\">\n",
    "            <img src=\"scala_q.png\">\n",
    "        </td>\n",
    "        <td>\n",
    "            <div align=\"left\", style=\"font-size:120%\">\n",
    "                <font color=\"#21618C\">\n",
    "                    <b>21. Write a function that returns the type of skewness in the given data.\n",
    "</b>\n",
    "                </font>\n",
    "            </div>\n",
    "        </td>\n",
    "    </tr>\n",
    "</table>"
   ]
  },
  {
   "cell_type": "markdown",
   "metadata": {},
   "source": [
    "Consider the age of 15 students enrolled in data science program.\n",
    "\n",
    "age = [22, 29, 24, 32, 37, 26, 25, 45, 28, 22, 39, 47, 23, 36, 43]\n",
    "\n",
    "**Hint:** Use the `skew()` from scipy library."
   ]
  },
  {
   "cell_type": "code",
   "execution_count": 29,
   "metadata": {},
   "outputs": [],
   "source": [
    "# import the reqired function\n",
    "from scipy.stats import skew\n",
    "\n",
    "# define a function to obtain the type of skewness in the data\n",
    "# pass the data as an input parameter\n",
    "def skew_type(data):\n",
    "    \n",
    "    # calculate the coefficient of skewness using 'skew()'\n",
    "    skew_coeff = skew(data)\n",
    "    \n",
    "    # pass the 'if' conditions to identify the type of skewness\n",
    "    if skew_coeff > 0:\n",
    "        print('Data is positively skewed with coefficient of skewness =', skew_coeff)\n",
    "    if skew_coeff == 0:\n",
    "        print('Data is not skewed.')\n",
    "    if skew_coeff < 0:\n",
    "        print('Data is negatively skewed with coefficient of skewness =', skew_coeff)"
   ]
  },
  {
   "cell_type": "code",
   "execution_count": 30,
   "metadata": {},
   "outputs": [
    {
     "name": "stdout",
     "output_type": "stream",
     "text": [
      "Data is positively skewed with coefficient of skewness = 0.4454660564320138\n"
     ]
    }
   ],
   "source": [
    "# consider the series of given age data\n",
    "age = pd.Series([22, 29, 24, 32, 37, 26, 25, 45, 28, 22, 39, 47, 23, 36, 43])\n",
    "\n",
    "# find the type of skewness using the defined function 'skew_type()'\n",
    "# pass the data to the function\n",
    "skew_type(age)"
   ]
  },
  {
   "cell_type": "markdown",
   "metadata": {
    "collapsed": true
   },
   "source": [
    "<table align=\"left\">\n",
    "    <tr>\n",
    "        <td width=\"6%\">\n",
    "            <img src=\"scala_q.png\">\n",
    "        </td>\n",
    "        <td>\n",
    "            <div align=\"left\", style=\"font-size:120%\">\n",
    "                <font color=\"#21618C\">\n",
    "                    <b>22.  A machine produced, on average, 40 paperclips in 10 days. Observation for one of the days is missing from the data. Find the missing observation to identify the day on which the machine produced the highest number of paperclips.\n",
    "</b>\n",
    "                </font>\n",
    "            </div>\n",
    "        </td>\n",
    "    </tr>\n",
    "</table>"
   ]
  },
  {
   "cell_type": "markdown",
   "metadata": {},
   "source": [
    "Consider the number of paperclips produced by a machine in 10 days. 'x' denotes missing data. \n",
    "\n",
    "num_clips = [41, 35, 42, x, 46, 34, 32, 47, 44, 39]"
   ]
  },
  {
   "cell_type": "code",
   "execution_count": 31,
   "metadata": {},
   "outputs": [
    {
     "name": "stdout",
     "output_type": "stream",
     "text": [
      "x = 40\n"
     ]
    }
   ],
   "source": [
    "# series of given data without missing value\n",
    "num_clips = pd.Series([41, 35, 42, 46, 34, 32, 47, 44, 39])\n",
    "\n",
    "# mean of paperclips\n",
    "mean_value = 40\n",
    "\n",
    "# number of records\n",
    "n = 10\n",
    "\n",
    "# to find: x \n",
    "# from the quation of mean, actual sum of paperclips is\n",
    "paperclips_sum = mean_value * n\n",
    "\n",
    "# the difference between the actual 'paperclips_sum' and sum of 'num_clips' is the value of 'x' \n",
    "print('x =', paperclips_sum - num_clips.sum())"
   ]
  },
  {
   "cell_type": "markdown",
   "metadata": {},
   "source": [
    "The above output shows that on 4th day 40 paperclips were produced.\n",
    "\n",
    "Thus, the number of paperclips produced in 10 days are [41, 35, 42, 40, 46, 34, 32, 47, 44, 39]. The highest number of paperclips produced on the 8th day (47 paperclips)."
   ]
  },
  {
   "cell_type": "markdown",
   "metadata": {
    "collapsed": true
   },
   "source": [
    "<table align=\"left\">\n",
    "    <tr>\n",
    "        <td width=\"6%\">\n",
    "            <img src=\"scala_q.png\">\n",
    "        </td>\n",
    "        <td>\n",
    "            <div align=\"left\", style=\"font-size:120%\">\n",
    "                <font color=\"#21618C\">\n",
    "                    <b>23. Consider the height of 12 students in a class. Obtain the range of height for the middle 50% of the data.\n",
    "</b>\n",
    "                </font>\n",
    "            </div>\n",
    "        </td>\n",
    "    </tr>\n",
    "</table>"
   ]
  },
  {
   "cell_type": "markdown",
   "metadata": {},
   "source": [
    "Consider the height of 12 students in a class.\n",
    "\n",
    "height (cm) = [162, 158, 149, 167, 162, 154, 172, 160, 164, 159, 175, 163]"
   ]
  },
  {
   "cell_type": "code",
   "execution_count": 32,
   "metadata": {
    "scrolled": true
   },
   "outputs": [
    {
     "name": "stdout",
     "output_type": "stream",
     "text": [
      "Range of middle 50% of the data: 6.0\n"
     ]
    }
   ],
   "source": [
    "# given series of heights\n",
    "height = pd.Series([162, 158, 149, 167, 162, 154, 172, 160, 164, 159, 175, 163])\n",
    "\n",
    "# interquartile range returns the range of middle 50% of the data\n",
    "\n",
    "# calculate the 1st quartile\n",
    "Q1 = height.quantile(0.25)\n",
    "\n",
    "# calculate the 3rd quartile\n",
    "Q3 = height.quantile(0.75)\n",
    "\n",
    "# calculate IQR\n",
    "IQR = Q3 - Q1\n",
    "\n",
    "print('Range of middle 50% of the data:', IQR)"
   ]
  },
  {
   "cell_type": "markdown",
   "metadata": {
    "collapsed": true
   },
   "source": [
    "<table align=\"left\">\n",
    "    <tr>\n",
    "        <td width=\"6%\">\n",
    "            <img src=\"scala_q.png\">\n",
    "        </td>\n",
    "        <td>\n",
    "            <div align=\"left\", style=\"font-size:120%\">\n",
    "                <font color=\"#21618C\">\n",
    "                    <b>24. The ratings of the movies selected for an award are negatively skewed with Karl Pearson's coefficient of skewness as -0.46. The average rating is 3.52, with a standard deviation of 1.7. Find the median rating of the movies.\n",
    "</b>\n",
    "                </font>\n",
    "            </div>\n",
    "        </td>\n",
    "    </tr>\n",
    "</table>"
   ]
  },
  {
   "cell_type": "markdown",
   "metadata": {},
   "source": [
    "Karl Pearson's coefficient of skewness is given as:\n",
    "\n",
    "<p style='text-indent:15em'> <strong> S<sub>k</sub>= $\\frac{3(mean - median)}{\\sigma}$</strong> </p>\n",
    "\n",
    "Thus,\n",
    "\n",
    "<p style='text-indent:15em'> <strong> median = $mean - \\frac{\\sigma S_{k}}{3}$</strong> </p>"
   ]
  },
  {
   "cell_type": "code",
   "execution_count": 33,
   "metadata": {},
   "outputs": [
    {
     "name": "stdout",
     "output_type": "stream",
     "text": [
      "Meadian rating of the movies: 3.780666666666667\n"
     ]
    }
   ],
   "source": [
    "# Karl Pearson's coefficient of skewness\n",
    "skew_coeff = -0.46\n",
    "\n",
    "# given average rating\n",
    "mean_value = 3.52\n",
    "\n",
    "# given standard deviation\n",
    "sd_value = 1.7\n",
    "\n",
    "# from the above formula, calculate the median\n",
    "median = mean_value - ((sd_value*skew_coeff) / 3)\n",
    "\n",
    "# print the value\n",
    "print('Meadian rating of the movies:', median)"
   ]
  },
  {
   "cell_type": "markdown",
   "metadata": {
    "collapsed": true
   },
   "source": [
    "<table align=\"left\">\n",
    "    <tr>\n",
    "        <td width=\"6%\">\n",
    "            <img src=\"scala_q.png\">\n",
    "        </td>\n",
    "        <td>\n",
    "            <div align=\"left\", style=\"font-size:120%\">\n",
    "                <font color=\"#21618C\">\n",
    "                    <b>25. A study reports the monthly count of new subscribers of bloggers; Sheldon, Ross and Joey for a year. Find out who has more consistency in the number of new subscribers?\n",
    "</b>\n",
    "                </font>\n",
    "            </div>\n",
    "        </td>\n",
    "    </tr>\n",
    "</table>"
   ]
  },
  {
   "cell_type": "markdown",
   "metadata": {},
   "source": [
    "The count of new subscribers (in thousands) is given below:\n",
    "\n",
    "<table>\n",
    "    <tr>\n",
    "        <th> Month </th>\n",
    "        <th> Sheldon </th>\n",
    "        <th> Ross </th>\n",
    "        <th> Joey </th>\n",
    "    </tr>\n",
    "     <tr>\n",
    "        <td> Jan </td>\n",
    "        <td> 3 </td>\n",
    "        <td> 4 </td>\n",
    "        <td> 4.3 </td>\n",
    "    </tr>\n",
    "    <tr>\n",
    "        <td> Feb </td>\n",
    "        <td> 5.1 </td>\n",
    "        <td> 4.6</td>\n",
    "        <td> 4 </td>\n",
    "    </tr>\n",
    "    <tr>\n",
    "        <td> Mar </td>\n",
    "        <td> 2.9 </td>\n",
    "        <td> 3.1 </td>\n",
    "        <td> 4.5 </td>\n",
    "    </tr>\n",
    "    <tr>\n",
    "        <td> Apr </td>\n",
    "        <td> 3.7 </td>\n",
    "        <td> 4.2 </td>\n",
    "        <td> 5.1 </td>\n",
    "    </tr>\n",
    "    <tr>\n",
    "        <td> May </td>\n",
    "        <td> 4.2 </td>\n",
    "        <td> 5.4 </td>\n",
    "        <td> 6 </td>\n",
    "    </tr>\n",
    "    <tr>\n",
    "        <td> Jun </td>\n",
    "        <td> 4.2 </td>\n",
    "        <td> 3.4 </td>\n",
    "        <td> 5 </td>\n",
    "    </tr>\n",
    "    <tr>\n",
    "        <td> July </td>\n",
    "        <td> 4.3 </td>\n",
    "        <td> 5 </td>\n",
    "        <td> 4.8 </td>\n",
    "    </tr>\n",
    "    <tr>\n",
    "        <td> Aug </td>\n",
    "        <td> 5.2 </td>\n",
    "        <td> 6.2 </td>\n",
    "        <td> 5.4 </td>\n",
    "    </tr>\n",
    "    <tr>\n",
    "        <td> Sept </td>\n",
    "        <td> 3.7 </td>\n",
    "        <td> 4.2 </td>\n",
    "        <td> 5.1 </td>\n",
    "    </tr>\n",
    "    <tr>\n",
    "        <td> Oct </td>\n",
    "        <td> 4.4 </td>\n",
    "        <td> 3.5 </td>\n",
    "        <td> 6.4 </td>\n",
    "    </tr>\n",
    "    <tr>\n",
    "        <td> Nov </td>\n",
    "        <td> 5.2 </td>\n",
    "        <td> 4.1 </td>\n",
    "        <td> 4.2 </td>\n",
    "    </tr>\n",
    "    <tr>\n",
    "        <td> Dec </td>\n",
    "        <td> 3.4 </td>\n",
    "        <td> 5.5 </td>\n",
    "        <td> 3.4 </td>\n",
    "    </tr>\n",
    "</table>"
   ]
  },
  {
   "cell_type": "markdown",
   "metadata": {},
   "source": [
    "To find out the consistent blogger; let us calculate the coefficient of variation (c.v.) for each one of them."
   ]
  },
  {
   "cell_type": "code",
   "execution_count": 34,
   "metadata": {},
   "outputs": [
    {
     "name": "stdout",
     "output_type": "stream",
     "text": [
      "C.V. for Sheldon: 19.45762838254265\n",
      "C.V. for Ross: 21.145192478821624\n",
      "C.V. for Joey: 17.417938275352736\n"
     ]
    }
   ],
   "source": [
    "# given series of data\n",
    "sheldon_sub = pd.Series([3, 5.1, 2.9, 3.7, 4.2, 4.2, 4.3, 5.2, 3.7, 4.4, 5.2, 3.4])\n",
    "ross_sub = pd.Series([4, 4.6, 3.1, 4.2, 5.4, 3.4, 5, 6.2, 4.2, 3.5, 4.1, 5.5])\n",
    "joey_sub = pd.Series([4.3, 4, 4.5, 5.1, 6, 5, 4.8, 5.4, 5.1, 6.4, 4.2, 3.4])\n",
    "\n",
    "# average new subscribers for sheldon\n",
    "sheldon_avg = sheldon_sub.mean()\n",
    "\n",
    "# standard deviation for sheldon\n",
    "sheldon_sd = sheldon_sub.std()\n",
    "\n",
    "# calculate c.v. of sheldon\n",
    "sheldon_cv = (sheldon_sd/sheldon_avg)*100\n",
    "\n",
    "# average new subscribers for ross\n",
    "ross_avg = ross_sub.mean()\n",
    "\n",
    "# standard deviation for ross\n",
    "ross_sd = ross_sub.std()\n",
    "\n",
    "# calculate c.v. of ross\n",
    "ross_cv = (ross_sd/ross_avg)*100\n",
    "\n",
    "# average new subscribers for joey\n",
    "joey_avg = joey_sub.mean()\n",
    "\n",
    "# standard deviation for joey\n",
    "joey_sd = joey_sub.std()\n",
    "\n",
    "# calculate c.v. of joey\n",
    "joey_cv = (joey_sd/joey_avg)*100\n",
    "\n",
    "# print the cv for each blogger\n",
    "print('C.V. for Sheldon:', sheldon_cv)\n",
    "print('C.V. for Ross:', ross_cv)\n",
    "print('C.V. for Joey:', joey_cv)"
   ]
  },
  {
   "cell_type": "markdown",
   "metadata": {},
   "source": [
    "The output shows that the variation for Joey is the least. Thus, Joey has the most consistency in the number of new subscribers."
   ]
  },
  {
   "cell_type": "markdown",
   "metadata": {
    "collapsed": true
   },
   "source": [
    "<table align=\"left\">\n",
    "    <tr>\n",
    "        <td width=\"6%\">\n",
    "            <img src=\"scala_q.png\">\n",
    "        </td>\n",
    "        <td>\n",
    "            <div align=\"left\", style=\"font-size:120%\">\n",
    "                <font color=\"#21618C\">\n",
    "                    <b>26. It has been claimed from past observations that the average diameter of bolts from a manufacturing process is 1.25 cm. Based on the collected sample of size 150, is there evidence to suggest that the average diameter is not 1.25 cm?\n",
    "</b>\n",
    "                </font>\n",
    "            </div>\n",
    "        </td>\n",
    "    </tr>\n",
    "</table>"
   ]
  },
  {
   "cell_type": "markdown",
   "metadata": {},
   "source": [
    "Diameter of bolts:\n",
    "    0.89, 1.39, 1.29, 1.36, 1.39, 1.44, 1.24, 0.82, 1.25, 0.85, 0.75, 1.34, 0.84, 1.27, 1.04, 1.36, 1.18, \n",
    "    1.49, 1.54, 0.83, 1.11, 1.14, 1.3 , 0.99, 1.21, 1.51, 1.02, 1.19, 1.05, 1.23, 0.76, 0.81, 0.92, 0.82, \n",
    "    1.64, 1.02, 1.61, 1.2, 1.17, 1.61, 1.23, 1.11, 1.17, 1.63, 1.33, 1.07, 0.94, 1.53, 1.38, 0.8 , 0.95, \n",
    "    1.4 , 1.09, 1.32, 1.43, 1.12, 1.2 , 0.94, 0.98, 1.54, 1.21, 1.4 , 1.13, 0.75, 1.02, 0.99, 1.49, 1.34, \n",
    "    1.57, 1.51, 1.42, 1.27, 0.78, 1.52, 1.5 , 1.13, 1.17, 1.17, 1.21, 1.14, 1.23, 1.46, 1.62, 1.11, 1.28, \n",
    "    1.25, 1.48, 0.76, 1.45, 1.38, 1.15, 0.95, 1.13, 1.24, 1.41, 1.38, 0.86, 1.39, 1.57, 1.32, 1.43, 1.55, \n",
    "    0.89, 1.06, 1.27, 1.46, 0.94, 1.53, 0.87, 1.47, 1.04, 1.12, 1.09, 1.45, 1.37, 1.18, 1.22, 1.29, 1.28, \n",
    "    1.59, 1.06, 1.49, 1.01, 1.31, 1.21, 1.32, 1.59, 0.85, 1.06, 0.82, 1.31, 1.32, 1.05, 1.6 , 0.87, 0.85, \n",
    "    1.13, 1.55, 1.15, 1.11, 1.58, 1.47, 1.52, 1.31, 1.16, 1.12, 0.85, 1.61, 1.42, 1.61"
   ]
  },
  {
   "cell_type": "markdown",
   "metadata": {},
   "source": [
    "Let <br>X: diameter of the bolt<br>\n",
    "Thus $\\mu$: the average diameter of the bolts <br>\n",
    "\n",
    "The hypothesis is                                                                       \n",
    "H<sub>0</sub>: The mean diameter of the bolts is equal to 1.25, i.e $\\mu$ = 1.25 <br>\n",
    "**AGAINST**<br>\n",
    "H<sub>a</sub>: The mean  diameter of the bolts is not equal to 1.25, , i.e $\\mu$ ≠ 12.5"
   ]
  },
  {
   "cell_type": "code",
   "execution_count": 35,
   "metadata": {
    "scrolled": true
   },
   "outputs": [
    {
     "data": {
      "text/plain": [
       "(-1.3181466899835235, 0.18745454730541933)"
      ]
     },
     "execution_count": 35,
     "metadata": {},
     "output_type": "execute_result"
    }
   ],
   "source": [
    "# create a series of the observations\n",
    "diameter_cm = pd.Series(\n",
    "    [0.89, 1.39, 1.29, 1.36, 1.39, 1.44, 1.24, 0.82, 1.25, 0.85, 0.75, 1.34, 0.84, 1.27, 1.04, 1.36, 1.18, \n",
    "    1.49, 1.54, 0.83, 1.11, 1.14, 1.3 , 0.99, 1.21, 1.51, 1.02, 1.19, 1.05, 1.23, 0.76, 0.81, 0.92, 0.82, \n",
    "    1.64, 1.02, 1.61, 1.2, 1.17, 1.61, 1.23, 1.11, 1.17, 1.63, 1.33, 1.07, 0.94, 1.53, 1.38, 0.8 , 0.95, \n",
    "    1.4 , 1.09, 1.32, 1.43, 1.12, 1.2 , 0.94, 0.98, 1.54, 1.21, 1.4 , 1.13, 0.75, 1.02, 0.99, 1.49, 1.34, \n",
    "    1.57, 1.51, 1.42, 1.27, 0.78, 1.52, 1.5 , 1.13, 1.17, 1.17, 1.21, 1.14, 1.23, 1.46, 1.62, 1.11, 1.28, \n",
    "    1.25, 1.48, 0.76, 1.45, 1.38, 1.15, 0.95, 1.13, 1.24, 1.41, 1.38, 0.86, 1.39, 1.57, 1.32, 1.43, 1.55, \n",
    "    0.89, 1.06, 1.27, 1.46, 0.94, 1.53, 0.87, 1.47, 1.04, 1.12, 1.09, 1.45, 1.37, 1.18, 1.22, 1.29, 1.28, \n",
    "    1.59, 1.06, 1.49, 1.01, 1.31, 1.21, 1.32, 1.59, 0.85, 1.06, 0.82, 1.31, 1.32, 1.05, 1.6 , 0.87, 0.85, \n",
    "    1.13, 1.55, 1.15, 1.11, 1.58, 1.47, 1.52, 1.31, 1.16, 1.12, 0.85, 1.61, 1.42, 1.61])\n",
    "\n",
    "# import the library\n",
    "from statsmodels.stats import weightstats as stests\n",
    "\n",
    "# conduct the test\n",
    "stests.ztest(diameter_cm, value = 1.25)"
   ]
  },
  {
   "cell_type": "markdown",
   "metadata": {},
   "source": [
    "Since the p-value (0.187) is more than 0.05 (level of significance), hence we accept H<sub>0</sub>. <br>We may conclude that the average diameter is 1.25 cm."
   ]
  },
  {
   "cell_type": "markdown",
   "metadata": {
    "collapsed": true
   },
   "source": [
    "<table align=\"left\">\n",
    "    <tr>\n",
    "        <td width=\"6%\">\n",
    "            <img src=\"scala_q.png\">\n",
    "        </td>\n",
    "        <td>\n",
    "            <div align=\"left\", style=\"font-size:120%\">\n",
    "                <font color=\"#21618C\">\n",
    "                    <b>27. Tesco Pharma claims to have produced a new drug which reduces the systolic Blood Pressure after usage of a week.\n",
    "\n",
    "The BP of 8 patients are recorded before medication and after medication. Do the data suggest that the drug is effective in reducing the systolic blood pressure?\n",
    "</b>\n",
    "                </font>\n",
    "            </div>\n",
    "        </td>\n",
    "    </tr>\n",
    "</table>\n",
    "\n",
    "<table>\n",
    "    <tr>\n",
    "        <th>Before</th>\t\n",
    "            <th>After</th>\n",
    "            </tr>\n",
    "    <tr>\n",
    "        <td>90</td>\n",
    "        <td>85</td>\n",
    "    </tr>\n",
    "    <tr>\n",
    "        <td>85</td>\n",
    "        <td>87</td>\n",
    "    </tr>\n",
    "    <tr>\n",
    "        <td>78</td>\n",
    "        <td>82</td>\n",
    "    </tr>\n",
    "     <tr>\n",
    "        <td>88</td>\n",
    "        <td>83</td>\n",
    "    </tr>\n",
    "    <tr>\n",
    "        <td>90</td>\n",
    "        <td>82</td>\n",
    "    </tr>\n",
    "    <tr>\n",
    "        <td>100</td>\n",
    "        <td>99</td>\n",
    "    </tr>\n",
    "    <tr>\n",
    "        <td>92</td>\n",
    "        <td>94</td>\n",
    "    </tr>\n",
    "    <tr>\n",
    "        <td>81</td>\n",
    "        <td>78</td>\n",
    "    </tr>\n",
    "       </table>\n"
   ]
  },
  {
   "cell_type": "markdown",
   "metadata": {},
   "source": [
    "Let <br>X: systolic blood pressure before medication <br>\n",
    "    Y: systolic blood pressure after medication<br><br>\n",
    "Thus <br>\n",
    "$\\mu$<sub>X</sub>: the average systolic blood pressure before medication<br>\n",
    "$\\mu$<sub>Y</sub>: the average systolic blood pressure after medication <br>\n",
    "                                                                      \n",
    "The hypothesis is                                                                     \n",
    "H<sub>0</sub>: The average systolic blood pressure before medication is equal to the average systolic blood pressure after medication, i.e $\\mu$<sub>X</sub> = $\\mu$<sub>Y</sub> <br>\n",
    "**AGAINST**<br>\n",
    "H<sub>a</sub>:  The average systolic blood pressure before medication is less than the average systolic blood pressure after medication, i.e $\\mu$<sub>X</sub> < $\\mu$<sub>Y</sub> "
   ]
  },
  {
   "cell_type": "code",
   "execution_count": 36,
   "metadata": {},
   "outputs": [
    {
     "data": {
      "text/plain": [
       "Ttest_relResult(statistic=1.1784158720975104, pvalue=0.27713277282901)"
      ]
     },
     "execution_count": 36,
     "metadata": {},
     "output_type": "execute_result"
    }
   ],
   "source": [
    "# create the data\n",
    "# score before training\n",
    "BP_before = pd.Series([90, 85, 78, 88, 90, 100, 92, 81])\n",
    "\n",
    "# score after training\n",
    "BP_after = pd.Series([85, 87, 82, 83, 82, 99, 94, 78])\n",
    "\n",
    "# import the 'ttest_rel' from library Scipy\n",
    "from scipy.stats import ttest_rel\n",
    "\n",
    "# conduct the paired t-test\n",
    "ttest_rel(BP_before, BP_after)"
   ]
  },
  {
   "cell_type": "markdown",
   "metadata": {},
   "source": [
    "Since the p-value (0.277) is more than 0.05 (level of significance), hence we accept H<sub>0</sub>. <br>We may conclude that the medication is ineffective."
   ]
  },
  {
   "cell_type": "markdown",
   "metadata": {
    "collapsed": true
   },
   "source": [
    "<table align=\"left\">\n",
    "    <tr>\n",
    "        <td width=\"6%\">\n",
    "            <img src=\"scala_q.png\">\n",
    "        </td>\n",
    "        <td>\n",
    "            <div align=\"left\", style=\"font-size:120%\">\n",
    "                <font color=\"#21618C\">\n",
    "                    <b>28. A researcher at BioSeed limited, claims to have modified the existing seed. The yeild for the two types of seeds is recorded for 10 equally sized farms. Is there enough evidence to claim that the there is no difference in the yeild due to the seed type?\n",
    "</b>\n",
    "                </font>\n",
    "            </div>\n",
    "        </td>\n",
    "    </tr>\n",
    "</table>"
   ]
  },
  {
   "cell_type": "raw",
   "metadata": {},
   "source": [
    "Yield due to Ordinary Seed:\n",
    "450, 340, 562, 563, 234, 546, 876, 649, 736, 745\n",
    "\n",
    "Yield due to Modified Seed:\n",
    "345, 576, 675, 674, 865, 457, 776, 567, 568, 753"
   ]
  },
  {
   "cell_type": "code",
   "execution_count": 37,
   "metadata": {},
   "outputs": [
    {
     "data": {
      "text/plain": [
       "Ttest_indResult(statistic=-0.7059501484609986, pvalue=0.4892561782804804)"
      ]
     },
     "execution_count": 37,
     "metadata": {},
     "output_type": "execute_result"
    }
   ],
   "source": [
    "# create the data series\n",
    "# yield due to Ordinary Seed\n",
    "ordinary_seed = pd.Series([450, 340, 562, 563, 234, 546, 876, 649, 736, 745])\n",
    "\n",
    "# yield due to Modified Seed\n",
    "modified_seed = pd.Series([345, 576, 675, 674, 865, 457, 776, 567, 568, 753])\n",
    "\n",
    "# t-test for testing equality of means\n",
    "from scipy.stats import ttest_ind\n",
    "\n",
    "# conduct the test\n",
    "ttest_ind(ordinary_seed, modified_seed)"
   ]
  },
  {
   "cell_type": "markdown",
   "metadata": {},
   "source": [
    "Since the p-value (0.489) is less than 0.05 (level of significance), hence we reject H<sub>0</sub>.\n",
    "We may conclude that there is difference in the yield due to the modified seed. "
   ]
  },
  {
   "cell_type": "markdown",
   "metadata": {
    "collapsed": true
   },
   "source": [
    "<table align=\"left\">\n",
    "    <tr>\n",
    "        <td width=\"6%\">\n",
    "            <img src=\"scala_q.png\">\n",
    "        </td>\n",
    "        <td>\n",
    "            <div align=\"left\", style=\"font-size:120%\">\n",
    "                <font color=\"#21618C\">\n",
    "                    <b>29. Draw a random sample using np.random.random() of size 7000. Test whether the data follows normal distribution.\n",
    "</b>\n",
    "                </font>\n",
    "            </div>\n",
    "        </td>\n",
    "    </tr>\n",
    "</table>"
   ]
  },
  {
   "cell_type": "markdown",
   "metadata": {},
   "source": [
    "The null and alternate hypothesis of Jarque-Bera test are as follows: <br>\n",
    "    \n",
    "H<sub>0</sub>: The data is normally distributed<br>\n",
    "**AGAINST**<br>\n",
    "H<sub>a</sub>: The data is not normally distributed"
   ]
  },
  {
   "cell_type": "code",
   "execution_count": 38,
   "metadata": {},
   "outputs": [
    {
     "name": "stdout",
     "output_type": "stream",
     "text": [
      "The test statistic is 419.5515768150892  and its p-value is 0.0\n"
     ]
    }
   ],
   "source": [
    "# create the data by generating a random sample\n",
    "data = np.random.random(7000)\n",
    "\n",
    "# import jarque_bera from the scipy library\n",
    "from scipy.stats import jarque_bera\n",
    "\n",
    "# conduct the normality test\n",
    "stat, p = jarque_bera(data)\n",
    "\n",
    "print(\"The test statistic is\", stat,\" and its p-value is\",p)"
   ]
  },
  {
   "cell_type": "markdown",
   "metadata": {},
   "source": [
    "Since the p-value (0.00) is less than 0.05 (level of significance), hence we reject H<sub>0</sub>. <br> We may conclude that the data is not normally distributed."
   ]
  },
  {
   "cell_type": "markdown",
   "metadata": {
    "collapsed": true
   },
   "source": [
    "<table align=\"left\">\n",
    "    <tr>\n",
    "        <td width=\"6%\">\n",
    "            <img src=\"scala_q.png\">\n",
    "        </td>\n",
    "        <td>\n",
    "            <div align=\"left\", style=\"font-size:120%\">\n",
    "                <font color=\"#21618C\">\n",
    "                    <b>30. Assume that in a MCQ test, there are 10 questions, and each question has four options out which only one is correct. Steve knew answers to only 2 questions and has randomly marked answers for other questions. To pass the test one must answer 4 questions correctly. What is the probability that steve will pass?\n",
    "</b>\n",
    "                </font>\n",
    "            </div>\n",
    "        </td>\n",
    "    </tr>\n",
    "</table>"
   ]
  },
  {
   "cell_type": "markdown",
   "metadata": {},
   "source": [
    "Out of the 10 questions, Steve has answered 2 questions correctly. So from other 8 questions he needs to get 2 answers correct in order to pass the test. \n",
    "\n",
    "Let <br>\n",
    "n: the number of questions <br>\n",
    "p: probability of selecting the correct answer<br>\n",
    "Here n = 10 - 2 = 8\n",
    "and p = 1/4"
   ]
  },
  {
   "cell_type": "code",
   "execution_count": 39,
   "metadata": {},
   "outputs": [
    {
     "data": {
      "text/plain": [
       "0.3214569091796875"
      ]
     },
     "execution_count": 39,
     "metadata": {},
     "output_type": "execute_result"
    }
   ],
   "source": [
    "# import the required library\n",
    "from scipy.stats import binom\n",
    "\n",
    "# number of questions\n",
    "n = 8 \n",
    "\n",
    "# probaility of selecting the correct answer\n",
    "p =1/4\n",
    "\n",
    "# probability that Steve will pass\n",
    "# Steve needs to answer 2 more questions correctly in order to pass\n",
    "# thus we need P(X≥2)\n",
    "# The required probability is P(X≥2) = 1-P(X≤2)\n",
    "1 - binom.cdf(2, n, p) "
   ]
  },
  {
   "cell_type": "markdown",
   "metadata": {},
   "source": [
    "Thus, Steve has only 32.1% chance of passing the test."
   ]
  }
 ],
 "metadata": {
  "kernelspec": {
   "display_name": "Python 3",
   "language": "python",
   "name": "python3"
  },
  "language_info": {
   "codemirror_mode": {
    "name": "ipython",
    "version": 3
   },
   "file_extension": ".py",
   "mimetype": "text/x-python",
   "name": "python",
   "nbconvert_exporter": "python",
   "pygments_lexer": "ipython3",
   "version": "3.7.6"
  }
 },
 "nbformat": 4,
 "nbformat_minor": 2
}
