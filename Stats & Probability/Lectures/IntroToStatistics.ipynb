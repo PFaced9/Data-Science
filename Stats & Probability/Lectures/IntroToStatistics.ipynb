{
 "cells": [
  {
   "cell_type": "code",
   "execution_count": 15,
   "id": "initial_id",
   "metadata": {
    "collapsed": true,
    "ExecuteTime": {
     "end_time": "2023-08-22T14:32:58.601400200Z",
     "start_time": "2023-08-22T14:32:58.591295400Z"
    }
   },
   "outputs": [],
   "source": [
    "import numpy as np\n",
    "import pandas as pd"
   ]
  },
  {
   "cell_type": "code",
   "execution_count": 16,
   "id": "fe444d53309adc94",
   "metadata": {
    "ExecuteTime": {
     "end_time": "2023-08-22T14:32:58.621339Z",
     "start_time": "2023-08-22T14:32:58.608019900Z"
    }
   },
   "outputs": [
    {
     "name": "stdout",
     "output_type": "stream",
     "text": [
      "[21.2, 21, 98, 25, 22.8, 22.1, 20.8, 24.7, 24.33, 22]\n",
      "Mean: 30.193\n",
      "Median: 22.45\n"
     ]
    }
   ],
   "source": [
    "rain_mm = [21.2,21,98,25,22.8,22.1,20.8,24.7,24.33,22]\n",
    "print(rain_mm)\n",
    "print(\"Mean:\",np.mean(rain_mm))\n",
    "print(\"Median:\",np.median(rain_mm).round(2))"
   ]
  },
  {
   "cell_type": "code",
   "execution_count": 28,
   "id": "8e8987484530bd93",
   "metadata": {
    "ExecuteTime": {
     "end_time": "2023-08-22T14:34:15.662249200Z",
     "start_time": "2023-08-22T14:34:15.650690Z"
    }
   },
   "outputs": [
    {
     "name": "stdout",
     "output_type": "stream",
     "text": [
      "Mode: 0    212\n",
      "1    275\n",
      "2    293\n",
      "dtype: int64\n"
     ]
    }
   ],
   "source": [
    "daily_sal = pd.Series([212,121,398,245,228,275,208,212,293,270,190,514,275,322,312])\n",
    "print(\"Mode:\",daily_sal.mode())"
   ]
  },
  {
   "cell_type": "code",
   "execution_count": 30,
   "id": "92e50f3ff53d2650",
   "metadata": {
    "ExecuteTime": {
     "end_time": "2023-08-22T14:37:47.921950300Z",
     "start_time": "2023-08-22T14:37:47.901965500Z"
    }
   },
   "outputs": [
    {
     "name": "stdout",
     "output_type": "stream",
     "text": [
      "Q1: 212.0\n",
      "Q2: 275.0\n",
      "Q3: 302.5\n"
     ]
    }
   ],
   "source": [
    "#Quantile\n",
    "print('Q1:', daily_sal.quantile(0.25))\n",
    "print('Q2:', daily_sal.quantile(0.5))\n",
    "print('Q3:', daily_sal.quantile(0.75))"
   ]
  },
  {
   "cell_type": "code",
   "execution_count": 19,
   "id": "4b46393934a247b7",
   "metadata": {
    "ExecuteTime": {
     "end_time": "2023-08-22T14:32:58.721745200Z",
     "start_time": "2023-08-22T14:32:58.661664300Z"
    }
   },
   "outputs": [
    {
     "name": "stdout",
     "output_type": "stream",
     "text": [
      "D1: 197.2\n",
      "D5: 270.0\n",
      "D9: 367.59999999999997\n"
     ]
    }
   ],
   "source": [
    "#Decile\n",
    "print('D1:', daily_sal.quantile(0.10))\n",
    "print('D5:', daily_sal.quantile(0.50))\n",
    "print('D9:', daily_sal.quantile(0.90))"
   ]
  },
  {
   "cell_type": "code",
   "execution_count": 20,
   "id": "8645f9b50cbc09ca",
   "metadata": {
    "ExecuteTime": {
     "end_time": "2023-08-22T14:32:58.725905600Z",
     "start_time": "2023-08-22T14:32:58.672540800Z"
    }
   },
   "outputs": [
    {
     "name": "stdout",
     "output_type": "stream",
     "text": [
      "P10: 197.2\n",
      "P50: 270.0\n",
      "P99: 497.75999999999993\n"
     ]
    }
   ],
   "source": [
    "#Percentile\n",
    "print('P10:', daily_sal.quantile(0.10))\n",
    "print('P50:', daily_sal.quantile(0.50))\n",
    "print('P99:', daily_sal.quantile(0.99))"
   ]
  },
  {
   "cell_type": "code",
   "execution_count": 21,
   "id": "ae23f3299248ff95",
   "metadata": {
    "ExecuteTime": {
     "end_time": "2023-08-22T14:32:58.725905600Z",
     "start_time": "2023-08-22T14:32:58.687973300Z"
    }
   },
   "outputs": [
    {
     "name": "stdout",
     "output_type": "stream",
     "text": [
      "Range: 173\n"
     ]
    }
   ],
   "source": [
    "sales_A = np.array([412,329,309,325,378,321,428,319,353,482])\n",
    "print(\"Range:\", sales_A.max()-sales_A.min())"
   ]
  },
  {
   "cell_type": "code",
   "execution_count": 22,
   "id": "a00b530c040ddede",
   "metadata": {
    "ExecuteTime": {
     "end_time": "2023-08-22T14:32:58.725905600Z",
     "start_time": "2023-08-22T14:32:58.692927400Z"
    }
   },
   "outputs": [
    {
     "name": "stdout",
     "output_type": "stream",
     "text": [
      "Range: 173\n"
     ]
    }
   ],
   "source": [
    "sales_B = np.array([452,479,309,425,478,321,438,319,453,482])\n",
    "print(\"Range:\", sales_B.max()-sales_B.min())"
   ]
  },
  {
   "cell_type": "markdown",
   "id": "e564f2bd5956ddb6",
   "metadata": {},
   "source": [
    "The variance of a random variable \\( X \\) is given by:\n",
    "\n",
    "$$ \\text{Var}(X) = \\frac{1}{N} \\sum_{i=1}^{N} (x_i - \\bar{x})^2 $$\n",
    "\n",
    "Where:\n",
    "- Var(x) is Variance of X\n",
    "- N is total number of observations\n",
    "- x_i is the ith observation or data point\n",
    "- x̄ is the mean of all observations"
   ]
  },
  {
   "cell_type": "code",
   "execution_count": 31,
   "id": "b2453c4ad63ab828",
   "metadata": {
    "ExecuteTime": {
     "end_time": "2023-08-22T14:41:29.723200600Z",
     "start_time": "2023-08-22T14:41:29.691887800Z"
    }
   },
   "outputs": [
    {
     "name": "stdout",
     "output_type": "stream",
     "text": [
      "Variance: 115.34228100000003\n",
      "Higher The Variance, Higher the data is spread out\n"
     ]
    }
   ],
   "source": [
    "rain_mm = [41.2,21.6,58,25,32.8,22.1,30.8,24.7,34.33,23]\n",
    "print(\"Variance:\",np.var(rain_mm))"
   ]
  },
  {
   "cell_type": "markdown",
   "id": "568b470e",
   "metadata": {},
   "source": [
    "Standard Deviation:\n",
    "\n",
    "$$ \\sigma = \\sqrt{\\frac{1}{N} \\sum_{i=1}^{N} (x_i - \\mu)^2} $$\n",
    "\n",
    "Where:\n",
    "- σ is the standard deviation.\n",
    "- N is total number of observations\n",
    "- x_i is the ith observation or data point\n",
    "- x_bar is the mean of all observations"
   ]
  },
  {
   "cell_type": "code",
   "execution_count": 24,
   "id": "fe6a0873e8cd0712",
   "metadata": {
    "ExecuteTime": {
     "end_time": "2023-08-22T14:32:58.751406700Z",
     "start_time": "2023-08-22T14:32:58.713184600Z"
    }
   },
   "outputs": [
    {
     "name": "stdout",
     "output_type": "stream",
     "text": [
      "Standard Deviation: 10.739752371446933\n"
     ]
    }
   ],
   "source": [
    "print(\"Standard Deviation:\",np.std(rain_mm))"
   ]
  },
  {
   "cell_type": "markdown",
   "source": [
    "CV (Coefficient of Variation) = Standard Deviation/Mean * 100"
   ],
   "metadata": {
    "collapsed": false
   },
   "id": "10378e4673d47091"
  },
  {
   "cell_type": "code",
   "execution_count": 25,
   "outputs": [
    {
     "name": "stdout",
     "output_type": "stream",
     "text": [
      "3.5211267605633805\n"
     ]
    }
   ],
   "source": [
    "expected_sal_a = 568\n",
    "std_sal_a = 20\n",
    "cv_a = std_sal_a/expected_sal_a * 100\n",
    "print(cv_a)"
   ],
   "metadata": {
    "collapsed": false,
    "ExecuteTime": {
     "end_time": "2023-08-22T14:32:58.772550Z",
     "start_time": "2023-08-22T14:32:58.721745200Z"
    }
   },
   "id": "7f5218a45861771"
  },
  {
   "cell_type": "code",
   "execution_count": 26,
   "outputs": [
    {
     "name": "stdout",
     "output_type": "stream",
     "text": [
      "4.487179487179487\n"
     ]
    }
   ],
   "source": [
    "expected_sal_b = 780\n",
    "std_sal_b = 35\n",
    "cv_b = std_sal_b/expected_sal_b * 100\n",
    "print(cv_b)"
   ],
   "metadata": {
    "collapsed": false,
    "ExecuteTime": {
     "end_time": "2023-08-22T14:32:58.906654500Z",
     "start_time": "2023-08-22T14:32:58.732728600Z"
    }
   },
   "id": "37f4fe02c22e2551"
  },
  {
   "cell_type": "markdown",
   "source": [
    "Since CV for A < B, there is more consistency in salary of employees at location A."
   ],
   "metadata": {
    "collapsed": false
   },
   "id": "bcd88d6b754fcd10"
  },
  {
   "cell_type": "markdown",
   "source": [
    "IQR (InterQuartile Range) = Q3 - Q1\n",
    "Outliers lie outside the range [(Q1 - 1.5 * IQR) , (Q3 + 1.5 * IQR)]"
   ],
   "metadata": {
    "collapsed": false
   },
   "id": "d3d7a38eeaab8036"
  },
  {
   "cell_type": "code",
   "execution_count": 27,
   "outputs": [
    {
     "name": "stdout",
     "output_type": "stream",
     "text": [
      "IQR: 90.5\n"
     ]
    }
   ],
   "source": [
    "Q1 = daily_sal.quantile(0.25)\n",
    "Q3 = daily_sal.quantile(0.75)\n",
    "print(\"IQR:\", Q3-Q1)"
   ],
   "metadata": {
    "collapsed": false,
    "ExecuteTime": {
     "end_time": "2023-08-22T14:32:58.906654500Z",
     "start_time": "2023-08-22T14:32:58.741697600Z"
    }
   },
   "id": "e63962f19a05ab63"
  },
  {
   "cell_type": "code",
   "execution_count": 27,
   "outputs": [],
   "source": [],
   "metadata": {
    "collapsed": false,
    "ExecuteTime": {
     "end_time": "2023-08-22T14:32:58.910662300Z",
     "start_time": "2023-08-22T14:32:58.754786300Z"
    }
   },
   "id": "d22ebeab3058cc70"
  }
 ],
 "metadata": {
  "kernelspec": {
   "display_name": "Python 3 (ipykernel)",
   "language": "python",
   "name": "python3"
  },
  "language_info": {
   "codemirror_mode": {
    "name": "ipython",
    "version": 3
   },
   "file_extension": ".py",
   "mimetype": "text/x-python",
   "name": "python",
   "nbconvert_exporter": "python",
   "pygments_lexer": "ipython3",
   "version": "3.9.17"
  }
 },
 "nbformat": 4,
 "nbformat_minor": 5
}
