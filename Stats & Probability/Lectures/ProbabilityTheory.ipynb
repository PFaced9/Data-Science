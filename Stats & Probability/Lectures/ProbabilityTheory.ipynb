{
 "cells": [
  {
   "cell_type": "markdown",
   "source": [
    "#### Probability of getting a jack from a standard deck of cards"
   ],
   "metadata": {
    "collapsed": false
   },
   "id": "a1b82fd1ba04336"
  },
  {
   "cell_type": "code",
   "execution_count": 3,
   "outputs": [
    {
     "name": "stdout",
     "output_type": "stream",
     "text": [
      "The probability of getting a jack as a percent is 8.0%\n"
     ]
    }
   ],
   "source": [
    "# sample space\n",
    "# 52 cards in total\n",
    "cards = 52\n",
    "jacks = 4\n",
    "prob_jack = jacks / cards\n",
    "\n",
    "# .format() searches for the  {} and replaces the {} from the string passed in format() function\n",
    "print(\"The probability of getting a jack as a percent is {}%\".format(round(prob_jack, 2)*100))"
   ],
   "metadata": {
    "collapsed": false,
    "ExecuteTime": {
     "end_time": "2023-08-22T15:42:44.521726700Z",
     "start_time": "2023-08-22T15:42:44.513063500Z"
    }
   },
   "id": "4839bc0538b1de51"
  },
  {
   "cell_type": "markdown",
   "source": [
    "#### We know the probability of drawing an Ace on the first draw. Determine the probability of drawing an Ace on the second draw, if the first card drawn was either a King or an Ace."
   ],
   "metadata": {
    "collapsed": false
   },
   "id": "685803de547169f7"
  },
  {
   "cell_type": "code",
   "execution_count": 4,
   "outputs": [],
   "source": [
    "cards = 52\n",
    "cards_drawn = 1\n",
    "cards = cards - cards_drawn\n",
    "\n",
    "def event_prob(event_outcomes, sample_space):\n",
    "    probability = ((event_outcomes) / (sample_space)) * 100\n",
    "    return round(probability, 1)\n",
    "\n"
   ],
   "metadata": {
    "collapsed": false,
    "ExecuteTime": {
     "end_time": "2023-08-22T15:42:45.331673400Z",
     "start_time": "2023-08-22T15:42:45.327116Z"
    }
   },
   "id": "49faf4558d77a4a1"
  },
  {
   "cell_type": "markdown",
   "source": [
    "#### Determine the probability of drawing an Ace after drawing a King on the first draw."
   ],
   "metadata": {
    "collapsed": false
   },
   "id": "2e1a84e4dc2220a4"
  },
  {
   "cell_type": "code",
   "execution_count": 6,
   "outputs": [
    {
     "name": "stdout",
     "output_type": "stream",
     "text": [
      "The probability of getting a ace as a percent is 7.8%\n"
     ]
    }
   ],
   "source": [
    "aces = 4\n",
    "ace_prob = event_prob(aces, cards)\n",
    "print(\"The probability of getting a ace as a percent is {}%\".format(ace_prob))"
   ],
   "metadata": {
    "collapsed": false,
    "ExecuteTime": {
     "end_time": "2023-08-22T15:44:03.412536800Z",
     "start_time": "2023-08-22T15:44:03.411268500Z"
    }
   },
   "id": "922ce303cc655bdf"
  },
  {
   "cell_type": "markdown",
   "source": [
    "#### Determine the probability of drawing an Ace after drawing an Ace on the first draw"
   ],
   "metadata": {
    "collapsed": false
   },
   "id": "14b4cdf019b4cf70"
  },
  {
   "cell_type": "code",
   "execution_count": 7,
   "outputs": [
    {
     "name": "stdout",
     "output_type": "stream",
     "text": [
      "The probability of getting a ace as a percent is 5.9%\n"
     ]
    }
   ],
   "source": [
    "aces = 3\n",
    "ace_prob = event_prob(aces, cards)\n",
    "print(\"The probability of getting a ace as a percent is {}%\".format(ace_prob))"
   ],
   "metadata": {
    "collapsed": false,
    "ExecuteTime": {
     "end_time": "2023-08-22T15:44:35.991663900Z",
     "start_time": "2023-08-22T15:44:35.983244800Z"
    }
   },
   "id": "be226d005c6f898"
  },
  {
   "cell_type": "markdown",
   "source": [
    "#### Determine the probability of the following mutually exclusive events. Drawing a heart or drawing a club"
   ],
   "metadata": {
    "collapsed": false
   },
   "id": "6bbbcd8fd310d0c4"
  },
  {
   "cell_type": "code",
   "execution_count": 8,
   "outputs": [
    {
     "name": "stdout",
     "output_type": "stream",
     "text": [
      "The probability of getting a ace as a percent is 50.0%\n"
     ]
    }
   ],
   "source": [
    "cards = 52\n",
    "heart_prob = 13\n",
    "club_prob = 13\n",
    "club_heart_prob = event_prob(heart_prob + club_prob, cards)\n",
    "print(\"The probability of getting a club or heart as a percent is {}%\".format(club_heart_prob))"
   ],
   "metadata": {
    "collapsed": false,
    "ExecuteTime": {
     "end_time": "2023-08-22T15:46:20.312008600Z",
     "start_time": "2023-08-22T15:46:20.301736800Z"
    }
   },
   "id": "cc561a0d069abcc4"
  },
  {
   "cell_type": "markdown",
   "source": [
    "### Calculate the probability of drawing an ace, a king or a queen."
   ],
   "metadata": {
    "collapsed": false
   },
   "id": "e1da00951c2c19e"
  },
  {
   "cell_type": "code",
   "execution_count": 10,
   "outputs": [
    {
     "name": "stdout",
     "output_type": "stream",
     "text": [
      "The probability of getting a ace or king or queen as a percent is 23.1%\n"
     ]
    }
   ],
   "source": [
    "cards = 52\n",
    "ace = 4\n",
    "king = 4\n",
    "queen = 4\n",
    "high_cards_prob = event_prob(ace, cards) + event_prob(king, cards) + event_prob(queen, cards)\n",
    "print(\"The probability of getting a ace or king or queen as a percent is {}%\".format(high_cards_prob))\n"
   ],
   "metadata": {
    "collapsed": false,
    "ExecuteTime": {
     "end_time": "2023-08-22T15:48:47.306020100Z",
     "start_time": "2023-08-22T15:48:47.292953500Z"
    }
   },
   "id": "ddd8f10e68c831c9"
  },
  {
   "cell_type": "markdown",
   "source": [
    "#### 1) Drawing a heart or an ace"
   ],
   "metadata": {
    "collapsed": false
   },
   "id": "49cd4898b0fd779b"
  },
  {
   "cell_type": "code",
   "execution_count": 14,
   "outputs": [
    {
     "name": "stdout",
     "output_type": "stream",
     "text": [
      "The probability of getting a ace or king or queen as a percent is 29%\n"
     ]
    }
   ],
   "source": [
    "cards = 52\n",
    "hearts = 13\n",
    "ace = 4\n",
    "ace_of_hearts = 1\n",
    "prob_heart_ace = event_prob(hearts, cards) + event_prob(aces, cards) - event_prob(ace_of_hearts, cards)\n",
    "print(\"The probability of getting a ace or king or queen as a percent is {}%\".format(round(prob_heart_ace),1))"
   ],
   "metadata": {
    "collapsed": false,
    "ExecuteTime": {
     "end_time": "2023-08-22T15:52:05.432975Z",
     "start_time": "2023-08-22T15:52:05.421590500Z"
    }
   },
   "id": "e62763715200a769"
  },
  {
   "cell_type": "code",
   "execution_count": null,
   "outputs": [],
   "source": [],
   "metadata": {
    "collapsed": false
   },
   "id": "f79d39b2779fc1f"
  }
 ],
 "metadata": {
  "kernelspec": {
   "display_name": "Python 3",
   "language": "python",
   "name": "python3"
  },
  "language_info": {
   "codemirror_mode": {
    "name": "ipython",
    "version": 2
   },
   "file_extension": ".py",
   "mimetype": "text/x-python",
   "name": "python",
   "nbconvert_exporter": "python",
   "pygments_lexer": "ipython2",
   "version": "2.7.6"
  }
 },
 "nbformat": 4,
 "nbformat_minor": 5
}
