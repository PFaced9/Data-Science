{
 "cells": [
  {
   "cell_type": "markdown",
   "source": [
    "#### IMPORTING THE LIBRARIES"
   ],
   "metadata": {
    "collapsed": false
   },
   "id": "69d4a436c9c9561e"
  },
  {
   "cell_type": "code",
   "execution_count": 11,
   "outputs": [],
   "source": [
    "import pandas as pd\n",
    "import numpy as np"
   ],
   "metadata": {
    "collapsed": false,
    "ExecuteTime": {
     "end_time": "2023-09-01T07:46:16.483961Z",
     "start_time": "2023-09-01T07:46:16.479620800Z"
    }
   },
   "id": "104a9f392cc16a61"
  },
  {
   "cell_type": "markdown",
   "source": [
    "#### IMPORTING THE DATA"
   ],
   "metadata": {
    "collapsed": false
   },
   "id": "6a1eba605c1d43ec"
  },
  {
   "cell_type": "code",
   "execution_count": 10,
   "outputs": [
    {
     "name": "stdout",
     "output_type": "stream",
     "text": [
      "      age     sex     bmi  children smoker     region\n",
      "0      19  female  27.900         0    yes  southwest\n",
      "1      18    male  33.770         1     no  southeast\n",
      "2      28    male  33.000         3     no  southeast\n",
      "3      33    male  22.705         0     no  northwest\n",
      "4      32    male  28.880         0     no  northwest\n",
      "...   ...     ...     ...       ...    ...        ...\n",
      "1333   50    male  30.970         3     no  northwest\n",
      "1334   18  female  31.920         0     no  northeast\n",
      "1335   18  female  36.850         0     no  southeast\n",
      "1336   21  female  25.800         0     no  southwest\n",
      "1337   61  female  29.070         0    yes  northwest\n",
      "\n",
      "[1338 rows x 6 columns] 0       16884.92400\n",
      "1        1725.55230\n",
      "2        4449.46200\n",
      "3       21984.47061\n",
      "4        3866.85520\n",
      "           ...     \n",
      "1333    10600.54830\n",
      "1334     2205.98080\n",
      "1335     1629.83350\n",
      "1336     2007.94500\n",
      "1337    29141.36030\n",
      "Name: charges, Length: 1338, dtype: float64\n"
     ]
    },
    {
     "data": {
      "text/plain": "(1338, 7)"
     },
     "execution_count": 10,
     "metadata": {},
     "output_type": "execute_result"
    }
   ],
   "source": [
    "dataset = pd.read_csv(\"Dataset/insurance.csv\")\n",
    "dataset.head()\n",
    "X = dataset.iloc[:,:-1]\n",
    "Y = dataset.iloc[:,-1]\n",
    "print(X,Y)"
   ],
   "metadata": {
    "collapsed": false,
    "ExecuteTime": {
     "end_time": "2023-09-01T06:07:50.800277100Z",
     "start_time": "2023-09-01T06:07:50.782904400Z"
    }
   },
   "id": "aaeefcd4794b9940"
  },
  {
   "cell_type": "markdown",
   "source": [
    "#### ENCODING CATEGORICAL DATA"
   ],
   "metadata": {
    "collapsed": false
   },
   "id": "b35544ac3d7a97ec"
  },
  {
   "cell_type": "code",
   "execution_count": 19,
   "outputs": [
    {
     "name": "stdout",
     "output_type": "stream",
     "text": [
      "[[ 1.    0.    1.   ... 19.   27.9   0.  ]\n",
      " [ 0.    1.    1.   ... 18.   33.77  1.  ]\n",
      " [ 0.    1.    1.   ... 28.   33.    3.  ]\n",
      " ...\n",
      " [ 1.    0.    1.   ... 18.   36.85  0.  ]\n",
      " [ 1.    0.    1.   ... 21.   25.8   0.  ]\n",
      " [ 1.    0.    1.   ... 61.   29.07  0.  ]]\n"
     ]
    }
   ],
   "source": [
    "from sklearn.compose import ColumnTransformer\n",
    "from sklearn.preprocessing import OneHotEncoder\n",
    "ct = ColumnTransformer(transformers=[('encoder', OneHotEncoder(),[1,4,5])], remainder=\"passthrough\")\n",
    "X = np.array((ct.fit_transform(X)))\n",
    "print(X)"
   ],
   "metadata": {
    "collapsed": false,
    "ExecuteTime": {
     "end_time": "2023-09-01T07:53:39.624316600Z",
     "start_time": "2023-09-01T07:53:39.607543Z"
    }
   },
   "id": "33754881c295369b"
  },
  {
   "cell_type": "markdown",
   "source": [
    "#### SPLITTING THE DATA SET INTO THE TRAINING SET AND TEST"
   ],
   "metadata": {
    "collapsed": false
   },
   "id": "5486a041cc8ba79f"
  },
  {
   "cell_type": "code",
   "execution_count": 21,
   "outputs": [],
   "source": [
    "from sklearn.model_selection import train_test_split\n",
    "X_train, X_test, Y_train, Y_test = train_test_split(X,Y, test_size=0.2, random_state=0)"
   ],
   "metadata": {
    "collapsed": false,
    "ExecuteTime": {
     "end_time": "2023-09-01T07:55:09.794863700Z",
     "start_time": "2023-09-01T07:55:09.779060300Z"
    }
   },
   "id": "c30da02e30d624f6"
  },
  {
   "cell_type": "code",
   "execution_count": null,
   "outputs": [],
   "source": [],
   "metadata": {
    "collapsed": false
   },
   "id": "c3c19679a8406c0"
  }
 ],
 "metadata": {
  "kernelspec": {
   "display_name": "Python 3",
   "language": "python",
   "name": "python3"
  },
  "language_info": {
   "codemirror_mode": {
    "name": "ipython",
    "version": 2
   },
   "file_extension": ".py",
   "mimetype": "text/x-python",
   "name": "python",
   "nbconvert_exporter": "python",
   "pygments_lexer": "ipython2",
   "version": "2.7.6"
  }
 },
 "nbformat": 4,
 "nbformat_minor": 5
}
