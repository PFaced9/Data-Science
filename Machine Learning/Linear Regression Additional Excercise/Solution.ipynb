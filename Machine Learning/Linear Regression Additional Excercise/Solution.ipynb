{
 "cells": [
  {
   "cell_type": "markdown",
   "source": [],
   "metadata": {
    "collapsed": false
   },
   "id": "13980cccefd12e95"
  },
  {
   "cell_type": "code",
   "execution_count": 20,
   "outputs": [],
   "source": [
    "import pandas as pd\n",
    "import numpy as np\n",
    "import matplotlib.pyplot as plt\n",
    "import seaborn as sns"
   ],
   "metadata": {
    "collapsed": false,
    "ExecuteTime": {
     "end_time": "2023-09-03T17:57:17.200728900Z",
     "start_time": "2023-09-03T17:57:17.200728900Z"
    }
   },
   "id": "9f1494f68458026"
  },
  {
   "cell_type": "code",
   "execution_count": 58,
   "outputs": [
    {
     "name": "stdout",
     "output_type": "stream",
     "text": [
      "Mean Absolute Error: 6689676495189056.0\n",
      "Mean Squared Error: 4.485762695045467e+31\n",
      "Root Mean Squared Error: 6697583665058218.0\n",
      "R-squared (R2) Score: -4.6910435252807235e+30\n"
     ]
    },
    {
     "data": {
      "text/plain": "     origin  cylinders  displacement  horsepower  weight  acceleration  year  \\\n0         1          8         307.0       130.0    3504          12.0  1970   \n1         1          8         350.0       165.0    3693          11.5  1970   \n2         1          8         318.0       150.0    3436          11.0  1970   \n3         1          8         304.0       150.0    3433          12.0  1970   \n4         1          8         302.0       140.0    3449          10.5  1970   \n..      ...        ...           ...         ...     ...           ...   ...   \n393       1          4         140.0        86.0    2790          15.6  1982   \n394       2          4          97.0        52.0    2130          24.6  1982   \n395       1          4         135.0        84.0    2295          11.6  1982   \n396       1          4         120.0        79.0    2625          18.6  1982   \n397       1          4         119.0        82.0    2720          19.4  1982   \n\n                          name  Kilometer_per_liter  \n0    chevrolet chevelle malibu             7.652587  \n1            buick skylark 320             6.377156  \n2           plymouth satellite             7.652587  \n3                amc rebel sst             6.802299  \n4                  ford torino             7.227443  \n..                         ...                  ...  \n393            ford mustang gl            11.478880  \n394                  vw pickup            18.706323  \n395              dodge rampage            13.604599  \n396                ford ranger            11.904024  \n397                 chevy s-10            13.179455  \n\n[392 rows x 9 columns]",
      "text/html": "<div>\n<style scoped>\n    .dataframe tbody tr th:only-of-type {\n        vertical-align: middle;\n    }\n\n    .dataframe tbody tr th {\n        vertical-align: top;\n    }\n\n    .dataframe thead th {\n        text-align: right;\n    }\n</style>\n<table border=\"1\" class=\"dataframe\">\n  <thead>\n    <tr style=\"text-align: right;\">\n      <th></th>\n      <th>origin</th>\n      <th>cylinders</th>\n      <th>displacement</th>\n      <th>horsepower</th>\n      <th>weight</th>\n      <th>acceleration</th>\n      <th>year</th>\n      <th>name</th>\n      <th>Kilometer_per_liter</th>\n    </tr>\n  </thead>\n  <tbody>\n    <tr>\n      <th>0</th>\n      <td>1</td>\n      <td>8</td>\n      <td>307.0</td>\n      <td>130.0</td>\n      <td>3504</td>\n      <td>12.0</td>\n      <td>1970</td>\n      <td>chevrolet chevelle malibu</td>\n      <td>7.652587</td>\n    </tr>\n    <tr>\n      <th>1</th>\n      <td>1</td>\n      <td>8</td>\n      <td>350.0</td>\n      <td>165.0</td>\n      <td>3693</td>\n      <td>11.5</td>\n      <td>1970</td>\n      <td>buick skylark 320</td>\n      <td>6.377156</td>\n    </tr>\n    <tr>\n      <th>2</th>\n      <td>1</td>\n      <td>8</td>\n      <td>318.0</td>\n      <td>150.0</td>\n      <td>3436</td>\n      <td>11.0</td>\n      <td>1970</td>\n      <td>plymouth satellite</td>\n      <td>7.652587</td>\n    </tr>\n    <tr>\n      <th>3</th>\n      <td>1</td>\n      <td>8</td>\n      <td>304.0</td>\n      <td>150.0</td>\n      <td>3433</td>\n      <td>12.0</td>\n      <td>1970</td>\n      <td>amc rebel sst</td>\n      <td>6.802299</td>\n    </tr>\n    <tr>\n      <th>4</th>\n      <td>1</td>\n      <td>8</td>\n      <td>302.0</td>\n      <td>140.0</td>\n      <td>3449</td>\n      <td>10.5</td>\n      <td>1970</td>\n      <td>ford torino</td>\n      <td>7.227443</td>\n    </tr>\n    <tr>\n      <th>...</th>\n      <td>...</td>\n      <td>...</td>\n      <td>...</td>\n      <td>...</td>\n      <td>...</td>\n      <td>...</td>\n      <td>...</td>\n      <td>...</td>\n      <td>...</td>\n    </tr>\n    <tr>\n      <th>393</th>\n      <td>1</td>\n      <td>4</td>\n      <td>140.0</td>\n      <td>86.0</td>\n      <td>2790</td>\n      <td>15.6</td>\n      <td>1982</td>\n      <td>ford mustang gl</td>\n      <td>11.478880</td>\n    </tr>\n    <tr>\n      <th>394</th>\n      <td>2</td>\n      <td>4</td>\n      <td>97.0</td>\n      <td>52.0</td>\n      <td>2130</td>\n      <td>24.6</td>\n      <td>1982</td>\n      <td>vw pickup</td>\n      <td>18.706323</td>\n    </tr>\n    <tr>\n      <th>395</th>\n      <td>1</td>\n      <td>4</td>\n      <td>135.0</td>\n      <td>84.0</td>\n      <td>2295</td>\n      <td>11.6</td>\n      <td>1982</td>\n      <td>dodge rampage</td>\n      <td>13.604599</td>\n    </tr>\n    <tr>\n      <th>396</th>\n      <td>1</td>\n      <td>4</td>\n      <td>120.0</td>\n      <td>79.0</td>\n      <td>2625</td>\n      <td>18.6</td>\n      <td>1982</td>\n      <td>ford ranger</td>\n      <td>11.904024</td>\n    </tr>\n    <tr>\n      <th>397</th>\n      <td>1</td>\n      <td>4</td>\n      <td>119.0</td>\n      <td>82.0</td>\n      <td>2720</td>\n      <td>19.4</td>\n      <td>1982</td>\n      <td>chevy s-10</td>\n      <td>13.179455</td>\n    </tr>\n  </tbody>\n</table>\n<p>392 rows × 9 columns</p>\n</div>"
     },
     "execution_count": 58,
     "metadata": {},
     "output_type": "execute_result"
    }
   ],
   "source": [
    "from sklearn.model_selection import train_test_split\n",
    "from sklearn.linear_model import SGDRegressor\n",
    "from sklearn.metrics import mean_absolute_error, mean_squared_error, r2_score\n",
    "\n",
    "# Step 1: Data Loading\n",
    "data = pd.read_csv('data.csv')\n",
    "\n",
    "# Step 2: Data Preprocessing\n",
    "data.dropna(inplace=True)  # Remove rows with missing values\n",
    "\n",
    "# Handle non-numeric values ('?') in the 'horsepower' column by replacing them with NaN\n",
    "data['horsepower'] = pd.to_numeric(data['horsepower'], errors='coerce')\n",
    "\n",
    "# Drop rows with NaN values in any column\n",
    "data.dropna(inplace=True)\n",
    "\n",
    "# Step 4: Feature Selection\n",
    "selected_features = ['cylinders', 'displacement', 'horsepower', 'weight', 'acceleration', 'year']\n",
    "X = data[selected_features]\n",
    "y = data['Kilometer_per_liter']\n",
    "\n",
    "# Step 5: Data Splitting\n",
    "X_train, X_test, y_train, y_test = train_test_split(X, y, test_size=0.3, random_state=42)\n",
    "\n",
    "# Step 6: Model Development\n",
    "model = SGDRegressor(max_iter=1000, random_state=42)\n",
    "model.fit(X_train, y_train)\n",
    "\n",
    "# Step 7: Model Evaluation\n",
    "y_pred = model.predict(X_test)\n",
    "mae = mean_absolute_error(y_test, y_pred)\n",
    "mse = mean_squared_error(y_test, y_pred)\n",
    "rmse = mean_squared_error(y_test, y_pred, squared=False)\n",
    "r2 = r2_score(y_test, y_pred)\n",
    "\n",
    "print(\"Mean Absolute Error:\", mae)\n",
    "print(\"Mean Squared Error:\", mse)\n",
    "print(\"Root Mean Squared Error:\", rmse)\n",
    "print(\"R-squared (R2) Score:\", r2)\n",
    "data"
   ],
   "metadata": {
    "collapsed": false,
    "ExecuteTime": {
     "end_time": "2023-09-04T03:53:33.376529900Z",
     "start_time": "2023-09-04T03:53:33.335373200Z"
    }
   },
   "id": "e4a0f26d89a3999e"
  },
  {
   "cell_type": "code",
   "execution_count": null,
   "outputs": [],
   "source": [],
   "metadata": {
    "collapsed": false
   },
   "id": "7c344f18207e8ee0"
  }
 ],
 "metadata": {
  "kernelspec": {
   "display_name": "Python 3",
   "language": "python",
   "name": "python3"
  },
  "language_info": {
   "codemirror_mode": {
    "name": "ipython",
    "version": 2
   },
   "file_extension": ".py",
   "mimetype": "text/x-python",
   "name": "python",
   "nbconvert_exporter": "python",
   "pygments_lexer": "ipython2",
   "version": "2.7.6"
  }
 },
 "nbformat": 4,
 "nbformat_minor": 5
}
