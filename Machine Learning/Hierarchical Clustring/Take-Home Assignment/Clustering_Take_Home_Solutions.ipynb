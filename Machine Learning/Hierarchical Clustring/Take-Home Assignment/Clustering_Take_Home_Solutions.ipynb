{
  "cells": [
    {
      "cell_type": "code",
      "execution_count": 1,
      "metadata": {
        "id": "xdjaw-d5gZDE"
      },
      "outputs": [],
      "source": [
        "import pandas as pd\n",
        "import numpy as np\n",
        "import matplotlib.pyplot as plt\n",
        "import seaborn as sns\n",
        "sns.set()"
      ]
    },
    {
      "cell_type": "code",
      "execution_count": 2,
      "metadata": {
        "colab": {
          "base_uri": "https://localhost:8080/",
          "height": 250
        },
        "id": "Xv5fB0ImgZDM",
        "outputId": "35580d04-721e-4f70-e5c9-218d52a23762"
      },
      "outputs": [
        {
          "output_type": "execute_result",
          "data": {
            "text/plain": [
              "               country  child_mort  exports  health  imports  income  \\\n",
              "0          Afghanistan        90.2     10.0    7.58     44.9    1610   \n",
              "1              Albania        16.6     28.0    6.55     48.6    9930   \n",
              "2              Algeria        27.3     38.4    4.17     31.4   12900   \n",
              "3               Angola       119.0     62.3    2.85     42.9    5900   \n",
              "4  Antigua and Barbuda        10.3     45.5    6.03     58.9   19100   \n",
              "\n",
              "   inflation  life_expec  total_fer   gdpp  \n",
              "0       9.44        56.2       5.82    553  \n",
              "1       4.49        76.3       1.65   4090  \n",
              "2      16.10        76.5       2.89   4460  \n",
              "3      22.40        60.1       6.16   3530  \n",
              "4       1.44        76.8       2.13  12200  "
            ],
            "text/html": [
              "\n",
              "  <div id=\"df-c7803add-57ec-4189-b66c-25dccf60ac25\">\n",
              "    <div class=\"colab-df-container\">\n",
              "      <div>\n",
              "<style scoped>\n",
              "    .dataframe tbody tr th:only-of-type {\n",
              "        vertical-align: middle;\n",
              "    }\n",
              "\n",
              "    .dataframe tbody tr th {\n",
              "        vertical-align: top;\n",
              "    }\n",
              "\n",
              "    .dataframe thead th {\n",
              "        text-align: right;\n",
              "    }\n",
              "</style>\n",
              "<table border=\"1\" class=\"dataframe\">\n",
              "  <thead>\n",
              "    <tr style=\"text-align: right;\">\n",
              "      <th></th>\n",
              "      <th>country</th>\n",
              "      <th>child_mort</th>\n",
              "      <th>exports</th>\n",
              "      <th>health</th>\n",
              "      <th>imports</th>\n",
              "      <th>income</th>\n",
              "      <th>inflation</th>\n",
              "      <th>life_expec</th>\n",
              "      <th>total_fer</th>\n",
              "      <th>gdpp</th>\n",
              "    </tr>\n",
              "  </thead>\n",
              "  <tbody>\n",
              "    <tr>\n",
              "      <th>0</th>\n",
              "      <td>Afghanistan</td>\n",
              "      <td>90.2</td>\n",
              "      <td>10.0</td>\n",
              "      <td>7.58</td>\n",
              "      <td>44.9</td>\n",
              "      <td>1610</td>\n",
              "      <td>9.44</td>\n",
              "      <td>56.2</td>\n",
              "      <td>5.82</td>\n",
              "      <td>553</td>\n",
              "    </tr>\n",
              "    <tr>\n",
              "      <th>1</th>\n",
              "      <td>Albania</td>\n",
              "      <td>16.6</td>\n",
              "      <td>28.0</td>\n",
              "      <td>6.55</td>\n",
              "      <td>48.6</td>\n",
              "      <td>9930</td>\n",
              "      <td>4.49</td>\n",
              "      <td>76.3</td>\n",
              "      <td>1.65</td>\n",
              "      <td>4090</td>\n",
              "    </tr>\n",
              "    <tr>\n",
              "      <th>2</th>\n",
              "      <td>Algeria</td>\n",
              "      <td>27.3</td>\n",
              "      <td>38.4</td>\n",
              "      <td>4.17</td>\n",
              "      <td>31.4</td>\n",
              "      <td>12900</td>\n",
              "      <td>16.10</td>\n",
              "      <td>76.5</td>\n",
              "      <td>2.89</td>\n",
              "      <td>4460</td>\n",
              "    </tr>\n",
              "    <tr>\n",
              "      <th>3</th>\n",
              "      <td>Angola</td>\n",
              "      <td>119.0</td>\n",
              "      <td>62.3</td>\n",
              "      <td>2.85</td>\n",
              "      <td>42.9</td>\n",
              "      <td>5900</td>\n",
              "      <td>22.40</td>\n",
              "      <td>60.1</td>\n",
              "      <td>6.16</td>\n",
              "      <td>3530</td>\n",
              "    </tr>\n",
              "    <tr>\n",
              "      <th>4</th>\n",
              "      <td>Antigua and Barbuda</td>\n",
              "      <td>10.3</td>\n",
              "      <td>45.5</td>\n",
              "      <td>6.03</td>\n",
              "      <td>58.9</td>\n",
              "      <td>19100</td>\n",
              "      <td>1.44</td>\n",
              "      <td>76.8</td>\n",
              "      <td>2.13</td>\n",
              "      <td>12200</td>\n",
              "    </tr>\n",
              "  </tbody>\n",
              "</table>\n",
              "</div>\n",
              "      <button class=\"colab-df-convert\" onclick=\"convertToInteractive('df-c7803add-57ec-4189-b66c-25dccf60ac25')\"\n",
              "              title=\"Convert this dataframe to an interactive table.\"\n",
              "              style=\"display:none;\">\n",
              "        \n",
              "  <svg xmlns=\"http://www.w3.org/2000/svg\" height=\"24px\"viewBox=\"0 0 24 24\"\n",
              "       width=\"24px\">\n",
              "    <path d=\"M0 0h24v24H0V0z\" fill=\"none\"/>\n",
              "    <path d=\"M18.56 5.44l.94 2.06.94-2.06 2.06-.94-2.06-.94-.94-2.06-.94 2.06-2.06.94zm-11 1L8.5 8.5l.94-2.06 2.06-.94-2.06-.94L8.5 2.5l-.94 2.06-2.06.94zm10 10l.94 2.06.94-2.06 2.06-.94-2.06-.94-.94-2.06-.94 2.06-2.06.94z\"/><path d=\"M17.41 7.96l-1.37-1.37c-.4-.4-.92-.59-1.43-.59-.52 0-1.04.2-1.43.59L10.3 9.45l-7.72 7.72c-.78.78-.78 2.05 0 2.83L4 21.41c.39.39.9.59 1.41.59.51 0 1.02-.2 1.41-.59l7.78-7.78 2.81-2.81c.8-.78.8-2.07 0-2.86zM5.41 20L4 18.59l7.72-7.72 1.47 1.35L5.41 20z\"/>\n",
              "  </svg>\n",
              "      </button>\n",
              "      \n",
              "  <style>\n",
              "    .colab-df-container {\n",
              "      display:flex;\n",
              "      flex-wrap:wrap;\n",
              "      gap: 12px;\n",
              "    }\n",
              "\n",
              "    .colab-df-convert {\n",
              "      background-color: #E8F0FE;\n",
              "      border: none;\n",
              "      border-radius: 50%;\n",
              "      cursor: pointer;\n",
              "      display: none;\n",
              "      fill: #1967D2;\n",
              "      height: 32px;\n",
              "      padding: 0 0 0 0;\n",
              "      width: 32px;\n",
              "    }\n",
              "\n",
              "    .colab-df-convert:hover {\n",
              "      background-color: #E2EBFA;\n",
              "      box-shadow: 0px 1px 2px rgba(60, 64, 67, 0.3), 0px 1px 3px 1px rgba(60, 64, 67, 0.15);\n",
              "      fill: #174EA6;\n",
              "    }\n",
              "\n",
              "    [theme=dark] .colab-df-convert {\n",
              "      background-color: #3B4455;\n",
              "      fill: #D2E3FC;\n",
              "    }\n",
              "\n",
              "    [theme=dark] .colab-df-convert:hover {\n",
              "      background-color: #434B5C;\n",
              "      box-shadow: 0px 1px 3px 1px rgba(0, 0, 0, 0.15);\n",
              "      filter: drop-shadow(0px 1px 2px rgba(0, 0, 0, 0.3));\n",
              "      fill: #FFFFFF;\n",
              "    }\n",
              "  </style>\n",
              "\n",
              "      <script>\n",
              "        const buttonEl =\n",
              "          document.querySelector('#df-c7803add-57ec-4189-b66c-25dccf60ac25 button.colab-df-convert');\n",
              "        buttonEl.style.display =\n",
              "          google.colab.kernel.accessAllowed ? 'block' : 'none';\n",
              "\n",
              "        async function convertToInteractive(key) {\n",
              "          const element = document.querySelector('#df-c7803add-57ec-4189-b66c-25dccf60ac25');\n",
              "          const dataTable =\n",
              "            await google.colab.kernel.invokeFunction('convertToInteractive',\n",
              "                                                     [key], {});\n",
              "          if (!dataTable) return;\n",
              "\n",
              "          const docLinkHtml = 'Like what you see? Visit the ' +\n",
              "            '<a target=\"_blank\" href=https://colab.research.google.com/notebooks/data_table.ipynb>data table notebook</a>'\n",
              "            + ' to learn more about interactive tables.';\n",
              "          element.innerHTML = '';\n",
              "          dataTable['output_type'] = 'display_data';\n",
              "          await google.colab.output.renderOutput(dataTable, element);\n",
              "          const docLink = document.createElement('div');\n",
              "          docLink.innerHTML = docLinkHtml;\n",
              "          element.appendChild(docLink);\n",
              "        }\n",
              "      </script>\n",
              "    </div>\n",
              "  </div>\n",
              "  "
            ]
          },
          "metadata": {},
          "execution_count": 2
        }
      ],
      "source": [
        "raw_data = pd.read_csv('Country.csv')\n",
        "\n",
        "raw_data.head()"
      ]
    },
    {
      "cell_type": "markdown",
      "metadata": {
        "id": "J_qy4EqagZDP"
      },
      "source": [
        "### Q1. Check for missing values , duplicate values and correlation ? And resolve them accordingly"
      ]
    },
    {
      "cell_type": "markdown",
      "metadata": {
        "id": "Xg7bICyYgZDS"
      },
      "source": [
        "### Missing Values"
      ]
    },
    {
      "cell_type": "code",
      "execution_count": 3,
      "metadata": {
        "colab": {
          "base_uri": "https://localhost:8080/"
        },
        "id": "WVOjqiZ0gZDT",
        "outputId": "a7fcf390-9427-4b61-ca70-82cd454d9070"
      },
      "outputs": [
        {
          "output_type": "execute_result",
          "data": {
            "text/plain": [
              "country       0\n",
              "child_mort    0\n",
              "exports       0\n",
              "health        0\n",
              "imports       0\n",
              "income        0\n",
              "inflation     0\n",
              "life_expec    0\n",
              "total_fer     0\n",
              "gdpp          0\n",
              "dtype: int64"
            ]
          },
          "metadata": {},
          "execution_count": 3
        }
      ],
      "source": [
        "raw_data.isnull().sum()"
      ]
    },
    {
      "cell_type": "markdown",
      "metadata": {
        "id": "VR_rM7qjgZDV"
      },
      "source": [
        "**There are no missing values in dataset**"
      ]
    },
    {
      "cell_type": "markdown",
      "metadata": {
        "id": "of6YByn1gZDW"
      },
      "source": [
        "### Duplicate Values"
      ]
    },
    {
      "cell_type": "code",
      "execution_count": 4,
      "metadata": {
        "colab": {
          "base_uri": "https://localhost:8080/"
        },
        "id": "8R08pc46gZDX",
        "outputId": "d3733073-1f26-4269-ed90-b71ee7055f66"
      },
      "outputs": [
        {
          "output_type": "execute_result",
          "data": {
            "text/plain": [
              "False"
            ]
          },
          "metadata": {},
          "execution_count": 4
        }
      ],
      "source": [
        "# Check if there is replication in the data\n",
        "raw_data.duplicated().any()"
      ]
    },
    {
      "cell_type": "markdown",
      "metadata": {
        "id": "VyGj65rkgZDY"
      },
      "source": [
        "**No duplicate entries**"
      ]
    },
    {
      "cell_type": "markdown",
      "metadata": {
        "id": "D0fOn5-7gZDZ"
      },
      "source": [
        "### Correlation"
      ]
    },
    {
      "cell_type": "code",
      "execution_count": 5,
      "metadata": {
        "colab": {
          "base_uri": "https://localhost:8080/",
          "height": 375
        },
        "id": "InW-lgGwgZDa",
        "outputId": "3405765c-0729-4854-cd20-a9d1199e3902"
      },
      "outputs": [
        {
          "output_type": "execute_result",
          "data": {
            "text/plain": [
              "            child_mort   exports    health   imports    income  inflation  \\\n",
              "child_mort    1.000000 -0.318093 -0.200402 -0.127211 -0.524315   0.288276   \n",
              "exports      -0.318093  1.000000 -0.114408  0.737381  0.516784  -0.107294   \n",
              "health       -0.200402 -0.114408  1.000000  0.095717  0.129579  -0.255376   \n",
              "imports      -0.127211  0.737381  0.095717  1.000000  0.122406  -0.246994   \n",
              "income       -0.524315  0.516784  0.129579  0.122406  1.000000  -0.147756   \n",
              "inflation     0.288276 -0.107294 -0.255376 -0.246994 -0.147756   1.000000   \n",
              "life_expec   -0.886676  0.316313  0.210692  0.054391  0.611962  -0.239705   \n",
              "total_fer     0.848478 -0.320011 -0.196674 -0.159048 -0.501840   0.316921   \n",
              "gdpp         -0.483032  0.418725  0.345966  0.115498  0.895571  -0.221631   \n",
              "\n",
              "            life_expec  total_fer      gdpp  \n",
              "child_mort   -0.886676   0.848478 -0.483032  \n",
              "exports       0.316313  -0.320011  0.418725  \n",
              "health        0.210692  -0.196674  0.345966  \n",
              "imports       0.054391  -0.159048  0.115498  \n",
              "income        0.611962  -0.501840  0.895571  \n",
              "inflation    -0.239705   0.316921 -0.221631  \n",
              "life_expec    1.000000  -0.760875  0.600089  \n",
              "total_fer    -0.760875   1.000000 -0.454910  \n",
              "gdpp          0.600089  -0.454910  1.000000  "
            ],
            "text/html": [
              "\n",
              "  <div id=\"df-435632b1-3b51-4b90-887b-13dea8a1ee30\">\n",
              "    <div class=\"colab-df-container\">\n",
              "      <div>\n",
              "<style scoped>\n",
              "    .dataframe tbody tr th:only-of-type {\n",
              "        vertical-align: middle;\n",
              "    }\n",
              "\n",
              "    .dataframe tbody tr th {\n",
              "        vertical-align: top;\n",
              "    }\n",
              "\n",
              "    .dataframe thead th {\n",
              "        text-align: right;\n",
              "    }\n",
              "</style>\n",
              "<table border=\"1\" class=\"dataframe\">\n",
              "  <thead>\n",
              "    <tr style=\"text-align: right;\">\n",
              "      <th></th>\n",
              "      <th>child_mort</th>\n",
              "      <th>exports</th>\n",
              "      <th>health</th>\n",
              "      <th>imports</th>\n",
              "      <th>income</th>\n",
              "      <th>inflation</th>\n",
              "      <th>life_expec</th>\n",
              "      <th>total_fer</th>\n",
              "      <th>gdpp</th>\n",
              "    </tr>\n",
              "  </thead>\n",
              "  <tbody>\n",
              "    <tr>\n",
              "      <th>child_mort</th>\n",
              "      <td>1.000000</td>\n",
              "      <td>-0.318093</td>\n",
              "      <td>-0.200402</td>\n",
              "      <td>-0.127211</td>\n",
              "      <td>-0.524315</td>\n",
              "      <td>0.288276</td>\n",
              "      <td>-0.886676</td>\n",
              "      <td>0.848478</td>\n",
              "      <td>-0.483032</td>\n",
              "    </tr>\n",
              "    <tr>\n",
              "      <th>exports</th>\n",
              "      <td>-0.318093</td>\n",
              "      <td>1.000000</td>\n",
              "      <td>-0.114408</td>\n",
              "      <td>0.737381</td>\n",
              "      <td>0.516784</td>\n",
              "      <td>-0.107294</td>\n",
              "      <td>0.316313</td>\n",
              "      <td>-0.320011</td>\n",
              "      <td>0.418725</td>\n",
              "    </tr>\n",
              "    <tr>\n",
              "      <th>health</th>\n",
              "      <td>-0.200402</td>\n",
              "      <td>-0.114408</td>\n",
              "      <td>1.000000</td>\n",
              "      <td>0.095717</td>\n",
              "      <td>0.129579</td>\n",
              "      <td>-0.255376</td>\n",
              "      <td>0.210692</td>\n",
              "      <td>-0.196674</td>\n",
              "      <td>0.345966</td>\n",
              "    </tr>\n",
              "    <tr>\n",
              "      <th>imports</th>\n",
              "      <td>-0.127211</td>\n",
              "      <td>0.737381</td>\n",
              "      <td>0.095717</td>\n",
              "      <td>1.000000</td>\n",
              "      <td>0.122406</td>\n",
              "      <td>-0.246994</td>\n",
              "      <td>0.054391</td>\n",
              "      <td>-0.159048</td>\n",
              "      <td>0.115498</td>\n",
              "    </tr>\n",
              "    <tr>\n",
              "      <th>income</th>\n",
              "      <td>-0.524315</td>\n",
              "      <td>0.516784</td>\n",
              "      <td>0.129579</td>\n",
              "      <td>0.122406</td>\n",
              "      <td>1.000000</td>\n",
              "      <td>-0.147756</td>\n",
              "      <td>0.611962</td>\n",
              "      <td>-0.501840</td>\n",
              "      <td>0.895571</td>\n",
              "    </tr>\n",
              "    <tr>\n",
              "      <th>inflation</th>\n",
              "      <td>0.288276</td>\n",
              "      <td>-0.107294</td>\n",
              "      <td>-0.255376</td>\n",
              "      <td>-0.246994</td>\n",
              "      <td>-0.147756</td>\n",
              "      <td>1.000000</td>\n",
              "      <td>-0.239705</td>\n",
              "      <td>0.316921</td>\n",
              "      <td>-0.221631</td>\n",
              "    </tr>\n",
              "    <tr>\n",
              "      <th>life_expec</th>\n",
              "      <td>-0.886676</td>\n",
              "      <td>0.316313</td>\n",
              "      <td>0.210692</td>\n",
              "      <td>0.054391</td>\n",
              "      <td>0.611962</td>\n",
              "      <td>-0.239705</td>\n",
              "      <td>1.000000</td>\n",
              "      <td>-0.760875</td>\n",
              "      <td>0.600089</td>\n",
              "    </tr>\n",
              "    <tr>\n",
              "      <th>total_fer</th>\n",
              "      <td>0.848478</td>\n",
              "      <td>-0.320011</td>\n",
              "      <td>-0.196674</td>\n",
              "      <td>-0.159048</td>\n",
              "      <td>-0.501840</td>\n",
              "      <td>0.316921</td>\n",
              "      <td>-0.760875</td>\n",
              "      <td>1.000000</td>\n",
              "      <td>-0.454910</td>\n",
              "    </tr>\n",
              "    <tr>\n",
              "      <th>gdpp</th>\n",
              "      <td>-0.483032</td>\n",
              "      <td>0.418725</td>\n",
              "      <td>0.345966</td>\n",
              "      <td>0.115498</td>\n",
              "      <td>0.895571</td>\n",
              "      <td>-0.221631</td>\n",
              "      <td>0.600089</td>\n",
              "      <td>-0.454910</td>\n",
              "      <td>1.000000</td>\n",
              "    </tr>\n",
              "  </tbody>\n",
              "</table>\n",
              "</div>\n",
              "      <button class=\"colab-df-convert\" onclick=\"convertToInteractive('df-435632b1-3b51-4b90-887b-13dea8a1ee30')\"\n",
              "              title=\"Convert this dataframe to an interactive table.\"\n",
              "              style=\"display:none;\">\n",
              "        \n",
              "  <svg xmlns=\"http://www.w3.org/2000/svg\" height=\"24px\"viewBox=\"0 0 24 24\"\n",
              "       width=\"24px\">\n",
              "    <path d=\"M0 0h24v24H0V0z\" fill=\"none\"/>\n",
              "    <path d=\"M18.56 5.44l.94 2.06.94-2.06 2.06-.94-2.06-.94-.94-2.06-.94 2.06-2.06.94zm-11 1L8.5 8.5l.94-2.06 2.06-.94-2.06-.94L8.5 2.5l-.94 2.06-2.06.94zm10 10l.94 2.06.94-2.06 2.06-.94-2.06-.94-.94-2.06-.94 2.06-2.06.94z\"/><path d=\"M17.41 7.96l-1.37-1.37c-.4-.4-.92-.59-1.43-.59-.52 0-1.04.2-1.43.59L10.3 9.45l-7.72 7.72c-.78.78-.78 2.05 0 2.83L4 21.41c.39.39.9.59 1.41.59.51 0 1.02-.2 1.41-.59l7.78-7.78 2.81-2.81c.8-.78.8-2.07 0-2.86zM5.41 20L4 18.59l7.72-7.72 1.47 1.35L5.41 20z\"/>\n",
              "  </svg>\n",
              "      </button>\n",
              "      \n",
              "  <style>\n",
              "    .colab-df-container {\n",
              "      display:flex;\n",
              "      flex-wrap:wrap;\n",
              "      gap: 12px;\n",
              "    }\n",
              "\n",
              "    .colab-df-convert {\n",
              "      background-color: #E8F0FE;\n",
              "      border: none;\n",
              "      border-radius: 50%;\n",
              "      cursor: pointer;\n",
              "      display: none;\n",
              "      fill: #1967D2;\n",
              "      height: 32px;\n",
              "      padding: 0 0 0 0;\n",
              "      width: 32px;\n",
              "    }\n",
              "\n",
              "    .colab-df-convert:hover {\n",
              "      background-color: #E2EBFA;\n",
              "      box-shadow: 0px 1px 2px rgba(60, 64, 67, 0.3), 0px 1px 3px 1px rgba(60, 64, 67, 0.15);\n",
              "      fill: #174EA6;\n",
              "    }\n",
              "\n",
              "    [theme=dark] .colab-df-convert {\n",
              "      background-color: #3B4455;\n",
              "      fill: #D2E3FC;\n",
              "    }\n",
              "\n",
              "    [theme=dark] .colab-df-convert:hover {\n",
              "      background-color: #434B5C;\n",
              "      box-shadow: 0px 1px 3px 1px rgba(0, 0, 0, 0.15);\n",
              "      filter: drop-shadow(0px 1px 2px rgba(0, 0, 0, 0.3));\n",
              "      fill: #FFFFFF;\n",
              "    }\n",
              "  </style>\n",
              "\n",
              "      <script>\n",
              "        const buttonEl =\n",
              "          document.querySelector('#df-435632b1-3b51-4b90-887b-13dea8a1ee30 button.colab-df-convert');\n",
              "        buttonEl.style.display =\n",
              "          google.colab.kernel.accessAllowed ? 'block' : 'none';\n",
              "\n",
              "        async function convertToInteractive(key) {\n",
              "          const element = document.querySelector('#df-435632b1-3b51-4b90-887b-13dea8a1ee30');\n",
              "          const dataTable =\n",
              "            await google.colab.kernel.invokeFunction('convertToInteractive',\n",
              "                                                     [key], {});\n",
              "          if (!dataTable) return;\n",
              "\n",
              "          const docLinkHtml = 'Like what you see? Visit the ' +\n",
              "            '<a target=\"_blank\" href=https://colab.research.google.com/notebooks/data_table.ipynb>data table notebook</a>'\n",
              "            + ' to learn more about interactive tables.';\n",
              "          element.innerHTML = '';\n",
              "          dataTable['output_type'] = 'display_data';\n",
              "          await google.colab.output.renderOutput(dataTable, element);\n",
              "          const docLink = document.createElement('div');\n",
              "          docLink.innerHTML = docLinkHtml;\n",
              "          element.appendChild(docLink);\n",
              "        }\n",
              "      </script>\n",
              "    </div>\n",
              "  </div>\n",
              "  "
            ]
          },
          "metadata": {},
          "execution_count": 5
        }
      ],
      "source": [
        "data_num=raw_data.drop([\"country\"], axis=1)\n",
        "corr = data_num.corr()\n",
        "corr"
      ]
    },
    {
      "cell_type": "code",
      "execution_count": null,
      "metadata": {
        "id": "HVoDoydMgZDb",
        "outputId": "27de34ed-888e-4e6c-ae1a-d824c6cb436f"
      },
      "outputs": [
        {
          "data": {
            "image/png": "[encoded data removed]",
            "text/plain": [
              "<Figure size 2160x1080 with 2 Axes>"
            ]
          },
          "metadata": {},
          "output_type": "display_data"
        }
      ],
      "source": [
        "\n",
        "# set the figure size\n",
        "plt.figure(figsize=(30, 15))\n",
        "\n",
        "# plotting the heat map\n",
        "# corr: give the correlation matrix\n",
        "# cmap: colour code used for plotting\n",
        "# vmax: gives maximum range of values for the chart\n",
        "# vmin: gives minimum range of values for the chart\n",
        "# annot: prints the correlation values in the chart\n",
        "# annot_kws: sets the font size of the annotation\n",
        "# set condition to get a strong correlation between the variables\n",
        "sns.heatmap(corr, \n",
        "            cmap='YlGnBu', vmax=1.0, vmin=-1.0,\n",
        "            annot=True, annot_kws={\"size\": 15})\n",
        "\n",
        "# set the title\n",
        "# fontsize=30: set the font size of the title\n",
        "plt.title('Correlation between features', fontsize=15)\n",
        "# display the plot\n",
        "plt.show()"
      ]
    },
    {
      "cell_type": "markdown",
      "metadata": {
        "id": "26XtU1ucgZDd"
      },
      "source": [
        "**From the correlation map we see that**\n",
        "\n",
        "1. child_mort has a strong inverse correlation with income(net income per person), life_expect(expected years of living) and gdpp(the GDP per capita), a moderate correlation with inflation(annual growth rate of the total GDP) and total_fert(fertility rate).\n",
        "2. income is correlated with exports and gdpp.\n",
        "3. exports is correlated with imports\n",
        "4. life_expec is correlated with income and gdpp, inversly correlated with total_fert\n",
        "\n",
        "The variables can be didived into economic metrics(exports, imports, income, inflation, gdpp, health), health metrics(child_mort, life_expec, total_fer)."
      ]
    },
    {
      "cell_type": "markdown",
      "metadata": {
        "id": "JZidDnaRgZDe"
      },
      "source": [
        "### Q2. Which countries should be provided with the aid ?"
      ]
    },
    {
      "cell_type": "markdown",
      "metadata": {
        "id": "GNyydDMpgZDf"
      },
      "source": [
        "The variables can be didived into economic metrics(exports, imports, income, inflation, gdpp, health), health metrics(child_mort, life_expec, total_fer)."
      ]
    },
    {
      "cell_type": "code",
      "execution_count": 6,
      "metadata": {
        "id": "_UVgoLvsgZDh"
      },
      "outputs": [],
      "source": [
        "# separate country column and the rest variables\n",
        "raw_data.index=raw_data.iloc[:,0]"
      ]
    },
    {
      "cell_type": "code",
      "execution_count": 11,
      "metadata": {
        "id": "vI9jx2v5gZDh"
      },
      "outputs": [],
      "source": [
        "data_1 = raw_data.copy().drop('country',axis=1)"
      ]
    },
    {
      "cell_type": "code",
      "execution_count": 12,
      "metadata": {
        "id": "TH_566PxgZDi"
      },
      "outputs": [],
      "source": [
        "from sklearn.cluster import KMeans"
      ]
    },
    {
      "cell_type": "code",
      "execution_count": 13,
      "metadata": {
        "colab": {
          "base_uri": "https://localhost:8080/",
          "height": 301
        },
        "id": "McdKf1M5gZDj",
        "outputId": "29cb9afd-e578-4aac-f63b-d85564c43a8e"
      },
      "outputs": [
        {
          "output_type": "display_data",
          "data": {
            "text/plain": [
              "<Figure size 432x288 with 1 Axes>"
            ],
            "image/png": "[encoded data removed]"
          },
          "metadata": {}
        }
      ],
      "source": [
        "# clustering the samples based on health factors(child_mort, life_expec, total_fer)\n",
        "data_clustering_1=raw_data[['child_mort', 'health','life_expec', 'total_fer']]\n",
        "\n",
        "# plot sum of squared distances (elbow method)\n",
        "K = range(1,10)\n",
        "data_km = [KMeans(n_clusters=k).fit(data_clustering_1) for k in K]\n",
        "ssd = [data_km[k].inertia_ for k in range(len(data_km))]\n",
        "fig = plt.figure()\n",
        "ax = fig.add_subplot(111)\n",
        "ax.plot(K, ssd, 'b*-')\n",
        "plt.grid(True)\n",
        "plt.xlabel('Number of clusters')\n",
        "plt.ylabel('Sum of squared distances')\n",
        "plt.title('Elbow for KMeans clustering')\n",
        "plt.show()"
      ]
    },
    {
      "cell_type": "markdown",
      "metadata": {
        "id": "_eiyRPcbgZDk"
      },
      "source": [
        "**Considering k = 3**"
      ]
    },
    {
      "cell_type": "code",
      "execution_count": 14,
      "metadata": {
        "colab": {
          "base_uri": "https://localhost:8080/",
          "height": 299
        },
        "id": "6GzY-gyVgZDl",
        "outputId": "ecb3578d-5395-4805-8a14-c38887fc25a9"
      },
      "outputs": [
        {
          "output_type": "execute_result",
          "data": {
            "text/plain": [
              "                     child_mort  exports  health  imports  income  inflation  \\\n",
              "country                                                                        \n",
              "Afghanistan                90.2     10.0    7.58     44.9    1610       9.44   \n",
              "Albania                    16.6     28.0    6.55     48.6    9930       4.49   \n",
              "Algeria                    27.3     38.4    4.17     31.4   12900      16.10   \n",
              "Angola                    119.0     62.3    2.85     42.9    5900      22.40   \n",
              "Antigua and Barbuda        10.3     45.5    6.03     58.9   19100       1.44   \n",
              "\n",
              "                     life_expec  total_fer   gdpp  cluster_km  \n",
              "country                                                        \n",
              "Afghanistan                56.2       5.82    553           0  \n",
              "Albania                    76.3       1.65   4090           1  \n",
              "Algeria                    76.5       2.89   4460           1  \n",
              "Angola                     60.1       6.16   3530           2  \n",
              "Antigua and Barbuda        76.8       2.13  12200           1  "
            ],
            "text/html": [
              "\n",
              "  <div id=\"df-837da6af-3a1c-4a46-b497-39ef3bf07ea4\">\n",
              "    <div class=\"colab-df-container\">\n",
              "      <div>\n",
              "<style scoped>\n",
              "    .dataframe tbody tr th:only-of-type {\n",
              "        vertical-align: middle;\n",
              "    }\n",
              "\n",
              "    .dataframe tbody tr th {\n",
              "        vertical-align: top;\n",
              "    }\n",
              "\n",
              "    .dataframe thead th {\n",
              "        text-align: right;\n",
              "    }\n",
              "</style>\n",
              "<table border=\"1\" class=\"dataframe\">\n",
              "  <thead>\n",
              "    <tr style=\"text-align: right;\">\n",
              "      <th></th>\n",
              "      <th>child_mort</th>\n",
              "      <th>exports</th>\n",
              "      <th>health</th>\n",
              "      <th>imports</th>\n",
              "      <th>income</th>\n",
              "      <th>inflation</th>\n",
              "      <th>life_expec</th>\n",
              "      <th>total_fer</th>\n",
              "      <th>gdpp</th>\n",
              "      <th>cluster_km</th>\n",
              "    </tr>\n",
              "    <tr>\n",
              "      <th>country</th>\n",
              "      <th></th>\n",
              "      <th></th>\n",
              "      <th></th>\n",
              "      <th></th>\n",
              "      <th></th>\n",
              "      <th></th>\n",
              "      <th></th>\n",
              "      <th></th>\n",
              "      <th></th>\n",
              "      <th></th>\n",
              "    </tr>\n",
              "  </thead>\n",
              "  <tbody>\n",
              "    <tr>\n",
              "      <th>Afghanistan</th>\n",
              "      <td>90.2</td>\n",
              "      <td>10.0</td>\n",
              "      <td>7.58</td>\n",
              "      <td>44.9</td>\n",
              "      <td>1610</td>\n",
              "      <td>9.44</td>\n",
              "      <td>56.2</td>\n",
              "      <td>5.82</td>\n",
              "      <td>553</td>\n",
              "      <td>0</td>\n",
              "    </tr>\n",
              "    <tr>\n",
              "      <th>Albania</th>\n",
              "      <td>16.6</td>\n",
              "      <td>28.0</td>\n",
              "      <td>6.55</td>\n",
              "      <td>48.6</td>\n",
              "      <td>9930</td>\n",
              "      <td>4.49</td>\n",
              "      <td>76.3</td>\n",
              "      <td>1.65</td>\n",
              "      <td>4090</td>\n",
              "      <td>1</td>\n",
              "    </tr>\n",
              "    <tr>\n",
              "      <th>Algeria</th>\n",
              "      <td>27.3</td>\n",
              "      <td>38.4</td>\n",
              "      <td>4.17</td>\n",
              "      <td>31.4</td>\n",
              "      <td>12900</td>\n",
              "      <td>16.10</td>\n",
              "      <td>76.5</td>\n",
              "      <td>2.89</td>\n",
              "      <td>4460</td>\n",
              "      <td>1</td>\n",
              "    </tr>\n",
              "    <tr>\n",
              "      <th>Angola</th>\n",
              "      <td>119.0</td>\n",
              "      <td>62.3</td>\n",
              "      <td>2.85</td>\n",
              "      <td>42.9</td>\n",
              "      <td>5900</td>\n",
              "      <td>22.40</td>\n",
              "      <td>60.1</td>\n",
              "      <td>6.16</td>\n",
              "      <td>3530</td>\n",
              "      <td>2</td>\n",
              "    </tr>\n",
              "    <tr>\n",
              "      <th>Antigua and Barbuda</th>\n",
              "      <td>10.3</td>\n",
              "      <td>45.5</td>\n",
              "      <td>6.03</td>\n",
              "      <td>58.9</td>\n",
              "      <td>19100</td>\n",
              "      <td>1.44</td>\n",
              "      <td>76.8</td>\n",
              "      <td>2.13</td>\n",
              "      <td>12200</td>\n",
              "      <td>1</td>\n",
              "    </tr>\n",
              "  </tbody>\n",
              "</table>\n",
              "</div>\n",
              "      <button class=\"colab-df-convert\" onclick=\"convertToInteractive('df-837da6af-3a1c-4a46-b497-39ef3bf07ea4')\"\n",
              "              title=\"Convert this dataframe to an interactive table.\"\n",
              "              style=\"display:none;\">\n",
              "        \n",
              "  <svg xmlns=\"http://www.w3.org/2000/svg\" height=\"24px\"viewBox=\"0 0 24 24\"\n",
              "       width=\"24px\">\n",
              "    <path d=\"M0 0h24v24H0V0z\" fill=\"none\"/>\n",
              "    <path d=\"M18.56 5.44l.94 2.06.94-2.06 2.06-.94-2.06-.94-.94-2.06-.94 2.06-2.06.94zm-11 1L8.5 8.5l.94-2.06 2.06-.94-2.06-.94L8.5 2.5l-.94 2.06-2.06.94zm10 10l.94 2.06.94-2.06 2.06-.94-2.06-.94-.94-2.06-.94 2.06-2.06.94z\"/><path d=\"M17.41 7.96l-1.37-1.37c-.4-.4-.92-.59-1.43-.59-.52 0-1.04.2-1.43.59L10.3 9.45l-7.72 7.72c-.78.78-.78 2.05 0 2.83L4 21.41c.39.39.9.59 1.41.59.51 0 1.02-.2 1.41-.59l7.78-7.78 2.81-2.81c.8-.78.8-2.07 0-2.86zM5.41 20L4 18.59l7.72-7.72 1.47 1.35L5.41 20z\"/>\n",
              "  </svg>\n",
              "      </button>\n",
              "      \n",
              "  <style>\n",
              "    .colab-df-container {\n",
              "      display:flex;\n",
              "      flex-wrap:wrap;\n",
              "      gap: 12px;\n",
              "    }\n",
              "\n",
              "    .colab-df-convert {\n",
              "      background-color: #E8F0FE;\n",
              "      border: none;\n",
              "      border-radius: 50%;\n",
              "      cursor: pointer;\n",
              "      display: none;\n",
              "      fill: #1967D2;\n",
              "      height: 32px;\n",
              "      padding: 0 0 0 0;\n",
              "      width: 32px;\n",
              "    }\n",
              "\n",
              "    .colab-df-convert:hover {\n",
              "      background-color: #E2EBFA;\n",
              "      box-shadow: 0px 1px 2px rgba(60, 64, 67, 0.3), 0px 1px 3px 1px rgba(60, 64, 67, 0.15);\n",
              "      fill: #174EA6;\n",
              "    }\n",
              "\n",
              "    [theme=dark] .colab-df-convert {\n",
              "      background-color: #3B4455;\n",
              "      fill: #D2E3FC;\n",
              "    }\n",
              "\n",
              "    [theme=dark] .colab-df-convert:hover {\n",
              "      background-color: #434B5C;\n",
              "      box-shadow: 0px 1px 3px 1px rgba(0, 0, 0, 0.15);\n",
              "      filter: drop-shadow(0px 1px 2px rgba(0, 0, 0, 0.3));\n",
              "      fill: #FFFFFF;\n",
              "    }\n",
              "  </style>\n",
              "\n",
              "      <script>\n",
              "        const buttonEl =\n",
              "          document.querySelector('#df-837da6af-3a1c-4a46-b497-39ef3bf07ea4 button.colab-df-convert');\n",
              "        buttonEl.style.display =\n",
              "          google.colab.kernel.accessAllowed ? 'block' : 'none';\n",
              "\n",
              "        async function convertToInteractive(key) {\n",
              "          const element = document.querySelector('#df-837da6af-3a1c-4a46-b497-39ef3bf07ea4');\n",
              "          const dataTable =\n",
              "            await google.colab.kernel.invokeFunction('convertToInteractive',\n",
              "                                                     [key], {});\n",
              "          if (!dataTable) return;\n",
              "\n",
              "          const docLinkHtml = 'Like what you see? Visit the ' +\n",
              "            '<a target=\"_blank\" href=https://colab.research.google.com/notebooks/data_table.ipynb>data table notebook</a>'\n",
              "            + ' to learn more about interactive tables.';\n",
              "          element.innerHTML = '';\n",
              "          dataTable['output_type'] = 'display_data';\n",
              "          await google.colab.output.renderOutput(dataTable, element);\n",
              "          const docLink = document.createElement('div');\n",
              "          docLink.innerHTML = docLinkHtml;\n",
              "          element.appendChild(docLink);\n",
              "        }\n",
              "      </script>\n",
              "    </div>\n",
              "  </div>\n",
              "  "
            ]
          },
          "metadata": {},
          "execution_count": 14
        }
      ],
      "source": [
        "kmeans = KMeans(n_clusters=3)\n",
        "model = kmeans.fit(data_clustering_1)\n",
        "pred = model.labels_\n",
        "data_1['cluster_km'] = pred\n",
        "data_1.head()"
      ]
    },
    {
      "cell_type": "code",
      "execution_count": 15,
      "metadata": {
        "colab": {
          "base_uri": "https://localhost:8080/",
          "height": 293
        },
        "id": "NP7_0PMSgZDl",
        "outputId": "2b6fa26f-fd7a-46b6-ac15-bae2489f5487"
      },
      "outputs": [
        {
          "output_type": "display_data",
          "data": {
            "text/plain": [
              "<Figure size 432x288 with 1 Axes>"
            ],
            "image/png": "[encoded data removed]"
          },
          "metadata": {}
        }
      ],
      "source": [
        "fig = plt.figure()\n",
        "ax = fig.add_subplot(111,projection='3d')\n",
        "cluster_0 = data_1.query('cluster_km==0')\n",
        "cluster_1 = data_1.query('cluster_km==1')\n",
        "cluster_2 = data_1.query('cluster_km==2')\n",
        "plt_0 = ax.scatter(cluster_0['child_mort'], cluster_0['life_expec'], cluster_0['total_fer'], c='c', s=10)\n",
        "plt_1 = ax.scatter(cluster_1['child_mort'], cluster_1['life_expec'], cluster_1['total_fer'], c='r', s=10)\n",
        "plt_2 = ax.scatter(cluster_2['child_mort'], cluster_2['life_expec'], cluster_2['total_fer'], c='g', s=10)\n",
        "ax.set_xlabel('child_mort')\n",
        "ax.set_ylabel('life_expec')\n",
        "ax.set_zlabel('total_fer')\n",
        "plt.tight_layout()\n",
        "plt.show()"
      ]
    },
    {
      "cell_type": "markdown",
      "metadata": {
        "id": "0IueftVUgZDn"
      },
      "source": [
        "We can see from the plot that cluster 2 are high child_mort, high total_fer and low life_expec, indicating poor social health, so we want to further cluster these data points based on their economic conditions."
      ]
    },
    {
      "cell_type": "code",
      "execution_count": 16,
      "metadata": {
        "colab": {
          "base_uri": "https://localhost:8080/",
          "height": 301
        },
        "id": "LGxSNZLBgZDn",
        "outputId": "94d1ce39-b397-4a32-f43a-345dfc791aaf"
      },
      "outputs": [
        {
          "output_type": "display_data",
          "data": {
            "text/plain": [
              "<Figure size 432x288 with 1 Axes>"
            ],
            "image/png": "[encoded data removed]"
          },
          "metadata": {}
        }
      ],
      "source": [
        "# clustering the samples based on economic factors(child_mort, life_expec, total_fer)\n",
        "data_clustering_2=cluster_2[['income', 'gdpp', 'inflation']]\n",
        "\n",
        "# plot sum of squared distances (elbow method)\n",
        "K = range(1,10)\n",
        "data_km = [KMeans(n_clusters=k).fit(data_clustering_2) for k in K]\n",
        "ssd = [data_km[k].inertia_ for k in range(len(data_km))]\n",
        "fig = plt.figure()\n",
        "ax = fig.add_subplot(111)\n",
        "ax.plot(K, ssd, 'b*-')\n",
        "plt.grid(True)\n",
        "plt.xlabel('Number of clusters')\n",
        "plt.ylabel('Sum of squared distances')\n",
        "plt.title('Elbow for KMeans clustering')\n",
        "plt.show()\n"
      ]
    },
    {
      "cell_type": "code",
      "execution_count": 17,
      "metadata": {
        "id": "NiyyfG-IgZDo"
      },
      "outputs": [],
      "source": [
        "kmeans = KMeans(n_clusters=2)\n",
        "model = kmeans.fit(data_clustering_2)"
      ]
    },
    {
      "cell_type": "code",
      "execution_count": 18,
      "metadata": {
        "scrolled": true,
        "colab": {
          "base_uri": "https://localhost:8080/",
          "height": 423
        },
        "id": "T7upz9iBgZDp",
        "outputId": "cdc828b9-95fb-40d5-983d-80498cb53e25"
      },
      "outputs": [
        {
          "output_type": "stream",
          "name": "stderr",
          "text": [
            "<ipython-input-18-a49e8f6702c0>:2: SettingWithCopyWarning: \n",
            "A value is trying to be set on a copy of a slice from a DataFrame.\n",
            "Try using .loc[row_indexer,col_indexer] = value instead\n",
            "\n",
            "See the caveats in the documentation: https://pandas.pydata.org/pandas-docs/stable/user_guide/indexing.html#returning-a-view-versus-a-copy\n",
            "  cluster_2['cluster_km'] = pred\n"
          ]
        },
        {
          "output_type": "execute_result",
          "data": {
            "text/plain": [
              "                          child_mort  exports  health  imports  income  \\\n",
              "country                                                                  \n",
              "Angola                         119.0     62.3    2.85     42.9    5900   \n",
              "Benin                          111.0     23.8    4.10     37.2    1820   \n",
              "Burkina Faso                   116.0     19.2    6.74     29.6    1430   \n",
              "Cameroon                       108.0     22.2    5.13     27.0    2660   \n",
              "Central African Republic       149.0     11.8    3.98     26.5     888   \n",
              "\n",
              "                          inflation  life_expec  total_fer  gdpp  cluster_km  \n",
              "country                                                                       \n",
              "Angola                       22.400        60.1       6.16  3530           0  \n",
              "Benin                         0.885        61.8       5.36   758           0  \n",
              "Burkina Faso                  6.810        57.9       5.87   575           0  \n",
              "Cameroon                      1.910        57.3       5.11  1310           0  \n",
              "Central African Republic      2.010        47.5       5.21   446           0  "
            ],
            "text/html": [
              "\n",
              "  <div id=\"df-c7d06f62-3c23-4845-8ed5-d5be1a0f1aa8\">\n",
              "    <div class=\"colab-df-container\">\n",
              "      <div>\n",
              "<style scoped>\n",
              "    .dataframe tbody tr th:only-of-type {\n",
              "        vertical-align: middle;\n",
              "    }\n",
              "\n",
              "    .dataframe tbody tr th {\n",
              "        vertical-align: top;\n",
              "    }\n",
              "\n",
              "    .dataframe thead th {\n",
              "        text-align: right;\n",
              "    }\n",
              "</style>\n",
              "<table border=\"1\" class=\"dataframe\">\n",
              "  <thead>\n",
              "    <tr style=\"text-align: right;\">\n",
              "      <th></th>\n",
              "      <th>child_mort</th>\n",
              "      <th>exports</th>\n",
              "      <th>health</th>\n",
              "      <th>imports</th>\n",
              "      <th>income</th>\n",
              "      <th>inflation</th>\n",
              "      <th>life_expec</th>\n",
              "      <th>total_fer</th>\n",
              "      <th>gdpp</th>\n",
              "      <th>cluster_km</th>\n",
              "    </tr>\n",
              "    <tr>\n",
              "      <th>country</th>\n",
              "      <th></th>\n",
              "      <th></th>\n",
              "      <th></th>\n",
              "      <th></th>\n",
              "      <th></th>\n",
              "      <th></th>\n",
              "      <th></th>\n",
              "      <th></th>\n",
              "      <th></th>\n",
              "      <th></th>\n",
              "    </tr>\n",
              "  </thead>\n",
              "  <tbody>\n",
              "    <tr>\n",
              "      <th>Angola</th>\n",
              "      <td>119.0</td>\n",
              "      <td>62.3</td>\n",
              "      <td>2.85</td>\n",
              "      <td>42.9</td>\n",
              "      <td>5900</td>\n",
              "      <td>22.400</td>\n",
              "      <td>60.1</td>\n",
              "      <td>6.16</td>\n",
              "      <td>3530</td>\n",
              "      <td>0</td>\n",
              "    </tr>\n",
              "    <tr>\n",
              "      <th>Benin</th>\n",
              "      <td>111.0</td>\n",
              "      <td>23.8</td>\n",
              "      <td>4.10</td>\n",
              "      <td>37.2</td>\n",
              "      <td>1820</td>\n",
              "      <td>0.885</td>\n",
              "      <td>61.8</td>\n",
              "      <td>5.36</td>\n",
              "      <td>758</td>\n",
              "      <td>0</td>\n",
              "    </tr>\n",
              "    <tr>\n",
              "      <th>Burkina Faso</th>\n",
              "      <td>116.0</td>\n",
              "      <td>19.2</td>\n",
              "      <td>6.74</td>\n",
              "      <td>29.6</td>\n",
              "      <td>1430</td>\n",
              "      <td>6.810</td>\n",
              "      <td>57.9</td>\n",
              "      <td>5.87</td>\n",
              "      <td>575</td>\n",
              "      <td>0</td>\n",
              "    </tr>\n",
              "    <tr>\n",
              "      <th>Cameroon</th>\n",
              "      <td>108.0</td>\n",
              "      <td>22.2</td>\n",
              "      <td>5.13</td>\n",
              "      <td>27.0</td>\n",
              "      <td>2660</td>\n",
              "      <td>1.910</td>\n",
              "      <td>57.3</td>\n",
              "      <td>5.11</td>\n",
              "      <td>1310</td>\n",
              "      <td>0</td>\n",
              "    </tr>\n",
              "    <tr>\n",
              "      <th>Central African Republic</th>\n",
              "      <td>149.0</td>\n",
              "      <td>11.8</td>\n",
              "      <td>3.98</td>\n",
              "      <td>26.5</td>\n",
              "      <td>888</td>\n",
              "      <td>2.010</td>\n",
              "      <td>47.5</td>\n",
              "      <td>5.21</td>\n",
              "      <td>446</td>\n",
              "      <td>0</td>\n",
              "    </tr>\n",
              "  </tbody>\n",
              "</table>\n",
              "</div>\n",
              "      <button class=\"colab-df-convert\" onclick=\"convertToInteractive('df-c7d06f62-3c23-4845-8ed5-d5be1a0f1aa8')\"\n",
              "              title=\"Convert this dataframe to an interactive table.\"\n",
              "              style=\"display:none;\">\n",
              "        \n",
              "  <svg xmlns=\"http://www.w3.org/2000/svg\" height=\"24px\"viewBox=\"0 0 24 24\"\n",
              "       width=\"24px\">\n",
              "    <path d=\"M0 0h24v24H0V0z\" fill=\"none\"/>\n",
              "    <path d=\"M18.56 5.44l.94 2.06.94-2.06 2.06-.94-2.06-.94-.94-2.06-.94 2.06-2.06.94zm-11 1L8.5 8.5l.94-2.06 2.06-.94-2.06-.94L8.5 2.5l-.94 2.06-2.06.94zm10 10l.94 2.06.94-2.06 2.06-.94-2.06-.94-.94-2.06-.94 2.06-2.06.94z\"/><path d=\"M17.41 7.96l-1.37-1.37c-.4-.4-.92-.59-1.43-.59-.52 0-1.04.2-1.43.59L10.3 9.45l-7.72 7.72c-.78.78-.78 2.05 0 2.83L4 21.41c.39.39.9.59 1.41.59.51 0 1.02-.2 1.41-.59l7.78-7.78 2.81-2.81c.8-.78.8-2.07 0-2.86zM5.41 20L4 18.59l7.72-7.72 1.47 1.35L5.41 20z\"/>\n",
              "  </svg>\n",
              "      </button>\n",
              "      \n",
              "  <style>\n",
              "    .colab-df-container {\n",
              "      display:flex;\n",
              "      flex-wrap:wrap;\n",
              "      gap: 12px;\n",
              "    }\n",
              "\n",
              "    .colab-df-convert {\n",
              "      background-color: #E8F0FE;\n",
              "      border: none;\n",
              "      border-radius: 50%;\n",
              "      cursor: pointer;\n",
              "      display: none;\n",
              "      fill: #1967D2;\n",
              "      height: 32px;\n",
              "      padding: 0 0 0 0;\n",
              "      width: 32px;\n",
              "    }\n",
              "\n",
              "    .colab-df-convert:hover {\n",
              "      background-color: #E2EBFA;\n",
              "      box-shadow: 0px 1px 2px rgba(60, 64, 67, 0.3), 0px 1px 3px 1px rgba(60, 64, 67, 0.15);\n",
              "      fill: #174EA6;\n",
              "    }\n",
              "\n",
              "    [theme=dark] .colab-df-convert {\n",
              "      background-color: #3B4455;\n",
              "      fill: #D2E3FC;\n",
              "    }\n",
              "\n",
              "    [theme=dark] .colab-df-convert:hover {\n",
              "      background-color: #434B5C;\n",
              "      box-shadow: 0px 1px 3px 1px rgba(0, 0, 0, 0.15);\n",
              "      filter: drop-shadow(0px 1px 2px rgba(0, 0, 0, 0.3));\n",
              "      fill: #FFFFFF;\n",
              "    }\n",
              "  </style>\n",
              "\n",
              "      <script>\n",
              "        const buttonEl =\n",
              "          document.querySelector('#df-c7d06f62-3c23-4845-8ed5-d5be1a0f1aa8 button.colab-df-convert');\n",
              "        buttonEl.style.display =\n",
              "          google.colab.kernel.accessAllowed ? 'block' : 'none';\n",
              "\n",
              "        async function convertToInteractive(key) {\n",
              "          const element = document.querySelector('#df-c7d06f62-3c23-4845-8ed5-d5be1a0f1aa8');\n",
              "          const dataTable =\n",
              "            await google.colab.kernel.invokeFunction('convertToInteractive',\n",
              "                                                     [key], {});\n",
              "          if (!dataTable) return;\n",
              "\n",
              "          const docLinkHtml = 'Like what you see? Visit the ' +\n",
              "            '<a target=\"_blank\" href=https://colab.research.google.com/notebooks/data_table.ipynb>data table notebook</a>'\n",
              "            + ' to learn more about interactive tables.';\n",
              "          element.innerHTML = '';\n",
              "          dataTable['output_type'] = 'display_data';\n",
              "          await google.colab.output.renderOutput(dataTable, element);\n",
              "          const docLink = document.createElement('div');\n",
              "          docLink.innerHTML = docLinkHtml;\n",
              "          element.appendChild(docLink);\n",
              "        }\n",
              "      </script>\n",
              "    </div>\n",
              "  </div>\n",
              "  "
            ]
          },
          "metadata": {},
          "execution_count": 18
        }
      ],
      "source": [
        "pred = model.labels_\n",
        "cluster_2['cluster_km'] = pred\n",
        "cluster_2.head()"
      ]
    },
    {
      "cell_type": "code",
      "execution_count": 19,
      "metadata": {
        "colab": {
          "base_uri": "https://localhost:8080/",
          "height": 293
        },
        "id": "trpVeGPLgZDp",
        "outputId": "d5c4d884-a42d-4644-a068-006ed91188ac"
      },
      "outputs": [
        {
          "output_type": "display_data",
          "data": {
            "text/plain": [
              "<Figure size 432x288 with 1 Axes>"
            ],
            "image/png": "[encoded data removed]"
          },
          "metadata": {}
        }
      ],
      "source": [
        "fig = plt.figure()\n",
        "ax = fig.add_subplot(111)\n",
        "cluster_2_0 = cluster_2.query('cluster_km==0')\n",
        "cluster_2_1 = cluster_2.query('cluster_km==1')\n",
        "cluster_2_2 = cluster_2.query('cluster_km==2')\n",
        "plt_0 = ax.scatter(cluster_2_0['income'], cluster_2_0['gdpp'], cluster_2_0['health'], c='c',  label='cluster0')\n",
        "plt_1 = ax.scatter(cluster_2_1['income'], cluster_2_1['gdpp'], cluster_2_1['health'], c='r', label='cluster1')\n",
        "ax.set_xlabel('income')\n",
        "ax.set_ylabel('gdpp')\n",
        "#ax.set_zlabel('health')\n",
        "ax.legend()\n",
        "plt.tight_layout()\n",
        "plt.show()"
      ]
    },
    {
      "cell_type": "markdown",
      "metadata": {
        "id": "4Id6_k76gZDq"
      },
      "source": [
        "From the plot we see that cluster 0 of the second k-means contains countries with low income and low gdpp. The inflation expenses vary."
      ]
    },
    {
      "cell_type": "code",
      "execution_count": 20,
      "metadata": {
        "colab": {
          "base_uri": "https://localhost:8080/",
          "height": 692
        },
        "id": "JQg1kl6xgZDr",
        "outputId": "73d1082c-39d8-40c5-e76e-b1d3f0207e14"
      },
      "outputs": [
        {
          "output_type": "execute_result",
          "data": {
            "text/plain": [
              "                          child_mort  exports  health  imports  income  \\\n",
              "country                                                                  \n",
              "Congo, Dem. Rep.               116.0     41.1    7.91     49.6     609   \n",
              "Niger                          123.0     22.2    5.16     49.1     814   \n",
              "Central African Republic       149.0     11.8    3.98     26.5     888   \n",
              "Mozambique                     101.0     31.5    5.21     46.2     918   \n",
              "Guinea                         109.0     30.3    4.93     43.2    1190   \n",
              "Sierra Leone                   160.0     16.8   13.10     34.5    1220   \n",
              "Guinea-Bissau                  114.0     14.9    8.50     35.2    1390   \n",
              "Burkina Faso                   116.0     19.2    6.74     29.6    1430   \n",
              "Haiti                          208.0     15.3    6.91     64.7    1500   \n",
              "Benin                          111.0     23.8    4.10     37.2    1820   \n",
              "Mali                           137.0     22.8    4.98     35.1    1870   \n",
              "Chad                           150.0     36.8    4.53     43.5    1930   \n",
              "Lesotho                         99.7     39.4   11.10    101.0    2380   \n",
              "Cameroon                       108.0     22.2    5.13     27.0    2660   \n",
              "Cote d'Ivoire                  111.0     50.6    5.30     43.3    2690   \n",
              "Nigeria                        130.0     25.3    5.07     17.4    5150   \n",
              "Angola                         119.0     62.3    2.85     42.9    5900   \n",
              "\n",
              "                          inflation  life_expec  total_fer  gdpp  cluster_km  \n",
              "country                                                                       \n",
              "Congo, Dem. Rep.             20.800        57.5       6.54   334           0  \n",
              "Niger                         2.550        58.8       7.49   348           0  \n",
              "Central African Republic      2.010        47.5       5.21   446           0  \n",
              "Mozambique                    7.640        54.5       5.56   419           0  \n",
              "Guinea                       16.100        58.0       5.34   648           0  \n",
              "Sierra Leone                 17.200        55.0       5.20   399           0  \n",
              "Guinea-Bissau                 2.970        55.6       5.05   547           0  \n",
              "Burkina Faso                  6.810        57.9       5.87   575           0  \n",
              "Haiti                         5.450        32.1       3.33   662           0  \n",
              "Benin                         0.885        61.8       5.36   758           0  \n",
              "Mali                          4.370        59.5       6.55   708           0  \n",
              "Chad                          6.390        56.5       6.59   897           0  \n",
              "Lesotho                       4.150        46.5       3.30  1170           0  \n",
              "Cameroon                      1.910        57.3       5.11  1310           0  \n",
              "Cote d'Ivoire                 5.390        56.3       5.27  1220           0  \n",
              "Nigeria                     104.000        60.5       5.84  2330           0  \n",
              "Angola                       22.400        60.1       6.16  3530           0  "
            ],
            "text/html": [
              "\n",
              "  <div id=\"df-05872c3b-e5e5-4ae4-ac5a-74221d88b8aa\">\n",
              "    <div class=\"colab-df-container\">\n",
              "      <div>\n",
              "<style scoped>\n",
              "    .dataframe tbody tr th:only-of-type {\n",
              "        vertical-align: middle;\n",
              "    }\n",
              "\n",
              "    .dataframe tbody tr th {\n",
              "        vertical-align: top;\n",
              "    }\n",
              "\n",
              "    .dataframe thead th {\n",
              "        text-align: right;\n",
              "    }\n",
              "</style>\n",
              "<table border=\"1\" class=\"dataframe\">\n",
              "  <thead>\n",
              "    <tr style=\"text-align: right;\">\n",
              "      <th></th>\n",
              "      <th>child_mort</th>\n",
              "      <th>exports</th>\n",
              "      <th>health</th>\n",
              "      <th>imports</th>\n",
              "      <th>income</th>\n",
              "      <th>inflation</th>\n",
              "      <th>life_expec</th>\n",
              "      <th>total_fer</th>\n",
              "      <th>gdpp</th>\n",
              "      <th>cluster_km</th>\n",
              "    </tr>\n",
              "    <tr>\n",
              "      <th>country</th>\n",
              "      <th></th>\n",
              "      <th></th>\n",
              "      <th></th>\n",
              "      <th></th>\n",
              "      <th></th>\n",
              "      <th></th>\n",
              "      <th></th>\n",
              "      <th></th>\n",
              "      <th></th>\n",
              "      <th></th>\n",
              "    </tr>\n",
              "  </thead>\n",
              "  <tbody>\n",
              "    <tr>\n",
              "      <th>Congo, Dem. Rep.</th>\n",
              "      <td>116.0</td>\n",
              "      <td>41.1</td>\n",
              "      <td>7.91</td>\n",
              "      <td>49.6</td>\n",
              "      <td>609</td>\n",
              "      <td>20.800</td>\n",
              "      <td>57.5</td>\n",
              "      <td>6.54</td>\n",
              "      <td>334</td>\n",
              "      <td>0</td>\n",
              "    </tr>\n",
              "    <tr>\n",
              "      <th>Niger</th>\n",
              "      <td>123.0</td>\n",
              "      <td>22.2</td>\n",
              "      <td>5.16</td>\n",
              "      <td>49.1</td>\n",
              "      <td>814</td>\n",
              "      <td>2.550</td>\n",
              "      <td>58.8</td>\n",
              "      <td>7.49</td>\n",
              "      <td>348</td>\n",
              "      <td>0</td>\n",
              "    </tr>\n",
              "    <tr>\n",
              "      <th>Central African Republic</th>\n",
              "      <td>149.0</td>\n",
              "      <td>11.8</td>\n",
              "      <td>3.98</td>\n",
              "      <td>26.5</td>\n",
              "      <td>888</td>\n",
              "      <td>2.010</td>\n",
              "      <td>47.5</td>\n",
              "      <td>5.21</td>\n",
              "      <td>446</td>\n",
              "      <td>0</td>\n",
              "    </tr>\n",
              "    <tr>\n",
              "      <th>Mozambique</th>\n",
              "      <td>101.0</td>\n",
              "      <td>31.5</td>\n",
              "      <td>5.21</td>\n",
              "      <td>46.2</td>\n",
              "      <td>918</td>\n",
              "      <td>7.640</td>\n",
              "      <td>54.5</td>\n",
              "      <td>5.56</td>\n",
              "      <td>419</td>\n",
              "      <td>0</td>\n",
              "    </tr>\n",
              "    <tr>\n",
              "      <th>Guinea</th>\n",
              "      <td>109.0</td>\n",
              "      <td>30.3</td>\n",
              "      <td>4.93</td>\n",
              "      <td>43.2</td>\n",
              "      <td>1190</td>\n",
              "      <td>16.100</td>\n",
              "      <td>58.0</td>\n",
              "      <td>5.34</td>\n",
              "      <td>648</td>\n",
              "      <td>0</td>\n",
              "    </tr>\n",
              "    <tr>\n",
              "      <th>Sierra Leone</th>\n",
              "      <td>160.0</td>\n",
              "      <td>16.8</td>\n",
              "      <td>13.10</td>\n",
              "      <td>34.5</td>\n",
              "      <td>1220</td>\n",
              "      <td>17.200</td>\n",
              "      <td>55.0</td>\n",
              "      <td>5.20</td>\n",
              "      <td>399</td>\n",
              "      <td>0</td>\n",
              "    </tr>\n",
              "    <tr>\n",
              "      <th>Guinea-Bissau</th>\n",
              "      <td>114.0</td>\n",
              "      <td>14.9</td>\n",
              "      <td>8.50</td>\n",
              "      <td>35.2</td>\n",
              "      <td>1390</td>\n",
              "      <td>2.970</td>\n",
              "      <td>55.6</td>\n",
              "      <td>5.05</td>\n",
              "      <td>547</td>\n",
              "      <td>0</td>\n",
              "    </tr>\n",
              "    <tr>\n",
              "      <th>Burkina Faso</th>\n",
              "      <td>116.0</td>\n",
              "      <td>19.2</td>\n",
              "      <td>6.74</td>\n",
              "      <td>29.6</td>\n",
              "      <td>1430</td>\n",
              "      <td>6.810</td>\n",
              "      <td>57.9</td>\n",
              "      <td>5.87</td>\n",
              "      <td>575</td>\n",
              "      <td>0</td>\n",
              "    </tr>\n",
              "    <tr>\n",
              "      <th>Haiti</th>\n",
              "      <td>208.0</td>\n",
              "      <td>15.3</td>\n",
              "      <td>6.91</td>\n",
              "      <td>64.7</td>\n",
              "      <td>1500</td>\n",
              "      <td>5.450</td>\n",
              "      <td>32.1</td>\n",
              "      <td>3.33</td>\n",
              "      <td>662</td>\n",
              "      <td>0</td>\n",
              "    </tr>\n",
              "    <tr>\n",
              "      <th>Benin</th>\n",
              "      <td>111.0</td>\n",
              "      <td>23.8</td>\n",
              "      <td>4.10</td>\n",
              "      <td>37.2</td>\n",
              "      <td>1820</td>\n",
              "      <td>0.885</td>\n",
              "      <td>61.8</td>\n",
              "      <td>5.36</td>\n",
              "      <td>758</td>\n",
              "      <td>0</td>\n",
              "    </tr>\n",
              "    <tr>\n",
              "      <th>Mali</th>\n",
              "      <td>137.0</td>\n",
              "      <td>22.8</td>\n",
              "      <td>4.98</td>\n",
              "      <td>35.1</td>\n",
              "      <td>1870</td>\n",
              "      <td>4.370</td>\n",
              "      <td>59.5</td>\n",
              "      <td>6.55</td>\n",
              "      <td>708</td>\n",
              "      <td>0</td>\n",
              "    </tr>\n",
              "    <tr>\n",
              "      <th>Chad</th>\n",
              "      <td>150.0</td>\n",
              "      <td>36.8</td>\n",
              "      <td>4.53</td>\n",
              "      <td>43.5</td>\n",
              "      <td>1930</td>\n",
              "      <td>6.390</td>\n",
              "      <td>56.5</td>\n",
              "      <td>6.59</td>\n",
              "      <td>897</td>\n",
              "      <td>0</td>\n",
              "    </tr>\n",
              "    <tr>\n",
              "      <th>Lesotho</th>\n",
              "      <td>99.7</td>\n",
              "      <td>39.4</td>\n",
              "      <td>11.10</td>\n",
              "      <td>101.0</td>\n",
              "      <td>2380</td>\n",
              "      <td>4.150</td>\n",
              "      <td>46.5</td>\n",
              "      <td>3.30</td>\n",
              "      <td>1170</td>\n",
              "      <td>0</td>\n",
              "    </tr>\n",
              "    <tr>\n",
              "      <th>Cameroon</th>\n",
              "      <td>108.0</td>\n",
              "      <td>22.2</td>\n",
              "      <td>5.13</td>\n",
              "      <td>27.0</td>\n",
              "      <td>2660</td>\n",
              "      <td>1.910</td>\n",
              "      <td>57.3</td>\n",
              "      <td>5.11</td>\n",
              "      <td>1310</td>\n",
              "      <td>0</td>\n",
              "    </tr>\n",
              "    <tr>\n",
              "      <th>Cote d'Ivoire</th>\n",
              "      <td>111.0</td>\n",
              "      <td>50.6</td>\n",
              "      <td>5.30</td>\n",
              "      <td>43.3</td>\n",
              "      <td>2690</td>\n",
              "      <td>5.390</td>\n",
              "      <td>56.3</td>\n",
              "      <td>5.27</td>\n",
              "      <td>1220</td>\n",
              "      <td>0</td>\n",
              "    </tr>\n",
              "    <tr>\n",
              "      <th>Nigeria</th>\n",
              "      <td>130.0</td>\n",
              "      <td>25.3</td>\n",
              "      <td>5.07</td>\n",
              "      <td>17.4</td>\n",
              "      <td>5150</td>\n",
              "      <td>104.000</td>\n",
              "      <td>60.5</td>\n",
              "      <td>5.84</td>\n",
              "      <td>2330</td>\n",
              "      <td>0</td>\n",
              "    </tr>\n",
              "    <tr>\n",
              "      <th>Angola</th>\n",
              "      <td>119.0</td>\n",
              "      <td>62.3</td>\n",
              "      <td>2.85</td>\n",
              "      <td>42.9</td>\n",
              "      <td>5900</td>\n",
              "      <td>22.400</td>\n",
              "      <td>60.1</td>\n",
              "      <td>6.16</td>\n",
              "      <td>3530</td>\n",
              "      <td>0</td>\n",
              "    </tr>\n",
              "  </tbody>\n",
              "</table>\n",
              "</div>\n",
              "      <button class=\"colab-df-convert\" onclick=\"convertToInteractive('df-05872c3b-e5e5-4ae4-ac5a-74221d88b8aa')\"\n",
              "              title=\"Convert this dataframe to an interactive table.\"\n",
              "              style=\"display:none;\">\n",
              "        \n",
              "  <svg xmlns=\"http://www.w3.org/2000/svg\" height=\"24px\"viewBox=\"0 0 24 24\"\n",
              "       width=\"24px\">\n",
              "    <path d=\"M0 0h24v24H0V0z\" fill=\"none\"/>\n",
              "    <path d=\"M18.56 5.44l.94 2.06.94-2.06 2.06-.94-2.06-.94-.94-2.06-.94 2.06-2.06.94zm-11 1L8.5 8.5l.94-2.06 2.06-.94-2.06-.94L8.5 2.5l-.94 2.06-2.06.94zm10 10l.94 2.06.94-2.06 2.06-.94-2.06-.94-.94-2.06-.94 2.06-2.06.94z\"/><path d=\"M17.41 7.96l-1.37-1.37c-.4-.4-.92-.59-1.43-.59-.52 0-1.04.2-1.43.59L10.3 9.45l-7.72 7.72c-.78.78-.78 2.05 0 2.83L4 21.41c.39.39.9.59 1.41.59.51 0 1.02-.2 1.41-.59l7.78-7.78 2.81-2.81c.8-.78.8-2.07 0-2.86zM5.41 20L4 18.59l7.72-7.72 1.47 1.35L5.41 20z\"/>\n",
              "  </svg>\n",
              "      </button>\n",
              "      \n",
              "  <style>\n",
              "    .colab-df-container {\n",
              "      display:flex;\n",
              "      flex-wrap:wrap;\n",
              "      gap: 12px;\n",
              "    }\n",
              "\n",
              "    .colab-df-convert {\n",
              "      background-color: #E8F0FE;\n",
              "      border: none;\n",
              "      border-radius: 50%;\n",
              "      cursor: pointer;\n",
              "      display: none;\n",
              "      fill: #1967D2;\n",
              "      height: 32px;\n",
              "      padding: 0 0 0 0;\n",
              "      width: 32px;\n",
              "    }\n",
              "\n",
              "    .colab-df-convert:hover {\n",
              "      background-color: #E2EBFA;\n",
              "      box-shadow: 0px 1px 2px rgba(60, 64, 67, 0.3), 0px 1px 3px 1px rgba(60, 64, 67, 0.15);\n",
              "      fill: #174EA6;\n",
              "    }\n",
              "\n",
              "    [theme=dark] .colab-df-convert {\n",
              "      background-color: #3B4455;\n",
              "      fill: #D2E3FC;\n",
              "    }\n",
              "\n",
              "    [theme=dark] .colab-df-convert:hover {\n",
              "      background-color: #434B5C;\n",
              "      box-shadow: 0px 1px 3px 1px rgba(0, 0, 0, 0.15);\n",
              "      filter: drop-shadow(0px 1px 2px rgba(0, 0, 0, 0.3));\n",
              "      fill: #FFFFFF;\n",
              "    }\n",
              "  </style>\n",
              "\n",
              "      <script>\n",
              "        const buttonEl =\n",
              "          document.querySelector('#df-05872c3b-e5e5-4ae4-ac5a-74221d88b8aa button.colab-df-convert');\n",
              "        buttonEl.style.display =\n",
              "          google.colab.kernel.accessAllowed ? 'block' : 'none';\n",
              "\n",
              "        async function convertToInteractive(key) {\n",
              "          const element = document.querySelector('#df-05872c3b-e5e5-4ae4-ac5a-74221d88b8aa');\n",
              "          const dataTable =\n",
              "            await google.colab.kernel.invokeFunction('convertToInteractive',\n",
              "                                                     [key], {});\n",
              "          if (!dataTable) return;\n",
              "\n",
              "          const docLinkHtml = 'Like what you see? Visit the ' +\n",
              "            '<a target=\"_blank\" href=https://colab.research.google.com/notebooks/data_table.ipynb>data table notebook</a>'\n",
              "            + ' to learn more about interactive tables.';\n",
              "          element.innerHTML = '';\n",
              "          dataTable['output_type'] = 'display_data';\n",
              "          await google.colab.output.renderOutput(dataTable, element);\n",
              "          const docLink = document.createElement('div');\n",
              "          docLink.innerHTML = docLinkHtml;\n",
              "          element.appendChild(docLink);\n",
              "        }\n",
              "      </script>\n",
              "    </div>\n",
              "  </div>\n",
              "  "
            ]
          },
          "metadata": {},
          "execution_count": 20
        }
      ],
      "source": [
        "# sort cluster0 by gdpp, income, health ascendingly\n",
        "cluster_2_0.sort_values(['income','gdpp','inflation'],ascending=True)"
      ]
    },
    {
      "cell_type": "markdown",
      "metadata": {
        "id": "mb9TjBBtgZDr"
      },
      "source": [
        "**Ans : Results suggest that the aid should be provided to the countries at the top of the list(Congo, Niger, Central African Republic, etc.).**"
      ]
    },
    {
      "cell_type": "markdown",
      "metadata": {
        "id": "ycUQehosgZDs"
      },
      "source": [
        "### Q3. Build a Kmeans model by selecting optimal number of clusters using elbow method ?"
      ]
    },
    {
      "cell_type": "code",
      "execution_count": 23,
      "metadata": {
        "id": "cvui24WegZDs"
      },
      "outputs": [],
      "source": [
        "df_Kmeans = raw_data.copy()\n"
      ]
    },
    {
      "cell_type": "code",
      "execution_count": 21,
      "metadata": {
        "colab": {
          "base_uri": "https://localhost:8080/",
          "height": 301
        },
        "id": "yaFB5ysIgZDt",
        "outputId": "4efbfeb3-e835-414a-b816-b32a0155b280"
      },
      "outputs": [
        {
          "output_type": "display_data",
          "data": {
            "text/plain": [
              "<Figure size 432x288 with 1 Axes>"
            ],
            "image/png": "[encoded data removed]"
          },
          "metadata": {}
        }
      ],
      "source": [
        "from sklearn import metrics\n",
        "from scipy.spatial.distance import cdist\n",
        "from sklearn.cluster import KMeans\n",
        "colors = ['b', 'g', 'r']\n",
        "markers = ['o', 'v', 's']\n",
        "\n",
        "# k means determine k\n",
        "distortions = []\n",
        "K = range(1,10)\n",
        "for k in K:\n",
        "    kmeanModel = KMeans(n_clusters=k)\n",
        "    kmeanModel.fit(data_num)\n",
        "    #distortions.append(sum(np.min(cdist(PrincipalComponents, kmeanModel.cluster_centers_, 'euclidean'), axis=1)) / PrincipalComponents.shape[0])\n",
        "    distortions.append(kmeanModel.inertia_)\n",
        "    \n",
        "# Plot the elbow\n",
        "plt.plot(K, distortions, 'bx-')\n",
        "plt.xlabel('k')\n",
        "plt.ylabel('Distortion')\n",
        "plt.title('The Elbow Method showing the optimal k')\n",
        "plt.show()"
      ]
    },
    {
      "cell_type": "markdown",
      "metadata": {
        "id": "9u1EJm1YgZDu"
      },
      "source": [
        "By using Elbow method we found k = 3 as optimal number of clusters"
      ]
    },
    {
      "cell_type": "code",
      "execution_count": 27,
      "metadata": {
        "colab": {
          "base_uri": "https://localhost:8080/",
          "height": 305
        },
        "id": "6g_ZUEYagZDu",
        "outputId": "acfe1dce-7423-4677-b4c8-4f9124fc14ef"
      },
      "outputs": [
        {
          "output_type": "display_data",
          "data": {
            "text/plain": [
              "<Figure size 432x288 with 1 Axes>"
            ],
            "image/png": "[encoded data removed]"
          },
          "metadata": {}
        }
      ],
      "source": [
        "\n",
        "Kmodel = KMeans(n_clusters= 3, random_state= 10)\n",
        "\n",
        "Kmodel.fit(data_num)\n",
        "KMeans(n_clusters=3, random_state=10)\n",
        "df_Kmeans['Cluster'] = Kmodel.fit_predict(data_num)\n",
        "sns.countplot(data= df_Kmeans, x = 'Cluster')\n",
        "\n",
        "\n",
        "plt.title('Cluster Sizes', fontsize = 15)\n",
        "plt.xlabel('Clusters', fontsize = 15)\n",
        "plt.ylabel('No. of Records', fontsize = 15)\n",
        "\n",
        "plt.show()"
      ]
    },
    {
      "cell_type": "markdown",
      "metadata": {
        "id": "Vf4suPSBgZDv"
      },
      "source": [
        "### Q4. Find optimal number of clusters using silhouette test ?"
      ]
    },
    {
      "cell_type": "code",
      "execution_count": 25,
      "metadata": {
        "colab": {
          "base_uri": "https://localhost:8080/"
        },
        "id": "nwUy2oytgZDw",
        "outputId": "9a8af074-c317-4a0a-8116-79248cac79a0"
      },
      "outputs": [
        {
          "output_type": "stream",
          "name": "stdout",
          "text": [
            "For n_clusters = 2, silhouette score is 0.7256314906273207)\n",
            "For n_clusters = 3, silhouette score is 0.7003508054481694)\n",
            "For n_clusters = 4, silhouette score is 0.6109297437247547)\n",
            "For n_clusters = 5, silhouette score is 0.5734773443272871)\n",
            "For n_clusters = 6, silhouette score is 0.589653373502461)\n",
            "For n_clusters = 7, silhouette score is 0.5944253756384579)\n",
            "For n_clusters = 8, silhouette score is 0.5964827694227414)\n"
          ]
        }
      ],
      "source": [
        "from sklearn.metrics import silhouette_score\n",
        "# create a list for different values of K\n",
        "n_clusters = [2,3,4, 5,6,7,8]\n",
        "\n",
        "# use 'for' loop to build the clusters\n",
        "# 'random_state' returns the same sample each time you run the code  \n",
        "# fit and predict on the scaled data\n",
        "# 'silhouette_score' function computes the silhouette score for each K\n",
        "for K in n_clusters :\n",
        "    cluster = KMeans (n_clusters= K, random_state= 10)\n",
        "    predict = cluster.fit_predict(data_num)\n",
        "    \n",
        "    score = silhouette_score(data_num, predict, random_state= 10)\n",
        "    print (\"For n_clusters = {}, silhouette score is {})\".format(K, score))"
      ]
    },
    {
      "cell_type": "markdown",
      "metadata": {
        "id": "f8q365_AgZDx"
      },
      "source": [
        "**The silhouette score is high when number of clusters are 2**"
      ]
    },
    {
      "cell_type": "code",
      "execution_count": 28,
      "metadata": {
        "colab": {
          "base_uri": "https://localhost:8080/",
          "height": 305
        },
        "id": "mivf3g9xgZDx",
        "outputId": "80a2de0a-b80f-468a-a065-91201d1d4efe"
      },
      "outputs": [
        {
          "output_type": "display_data",
          "data": {
            "text/plain": [
              "<Figure size 432x288 with 1 Axes>"
            ],
            "image/png": "[encoded data removed]"
          },
          "metadata": {}
        }
      ],
      "source": [
        "Kmodel = KMeans(n_clusters= 2, random_state= 10)\n",
        "\n",
        "Kmodel.fit(data_num)\n",
        "KMeans(n_clusters=2, random_state=10)\n",
        "df_Kmeans['Cluster'] = Kmodel.fit_predict(data_num)\n",
        "sns.countplot(data= df_Kmeans, x = 'Cluster')\n",
        "\n",
        "\n",
        "plt.title('Cluster Sizes', fontsize = 15)\n",
        "plt.xlabel('Clusters', fontsize = 15)\n",
        "plt.ylabel('No. of Records', fontsize = 15)\n",
        "\n",
        "plt.show()"
      ]
    }
  ],
  "metadata": {
    "kernelspec": {
      "display_name": "Python 3",
      "language": "python",
      "name": "python3"
    },
    "language_info": {
      "codemirror_mode": {
        "name": "ipython",
        "version": 3
      },
      "file_extension": ".py",
      "mimetype": "text/x-python",
      "name": "python",
      "nbconvert_exporter": "python",
      "pygments_lexer": "ipython3",
      "version": "3.8.5"
    },
    "colab": {
      "provenance": []
    }
  },
  "nbformat": 4,
  "nbformat_minor": 0
}