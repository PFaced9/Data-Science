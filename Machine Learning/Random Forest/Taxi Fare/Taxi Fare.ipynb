{
 "cells": [
  {
   "cell_type": "code",
   "execution_count": 12,
   "id": "initial_id",
   "metadata": {
    "collapsed": true,
    "ExecuteTime": {
     "end_time": "2023-09-12T09:17:27.036621700Z",
     "start_time": "2023-09-12T09:17:27.019935500Z"
    }
   },
   "outputs": [],
   "source": [
    "import pandas as pd\n",
    "# import numpy as np\n",
    "from warnings import filterwarnings\n",
    "import seaborn as sns\n",
    "filterwarnings('ignore')"
   ]
  },
  {
   "cell_type": "code",
   "execution_count": 13,
   "outputs": [
    {
     "data": {
      "text/plain": "  unique_id  amount      date_time_of_pickup  longitude_of_pickup  \\\n0   26:21.0     4.5  2009-06-15 17:26:21 UTC           -73.844311   \n1   52:16.0    16.9  2010-01-05 16:52:16 UTC           -74.016048   \n2   35:00.0     5.7  2011-08-18 00:35:00 UTC           -73.982738   \n3   30:42.0     7.7  2012-04-21 04:30:42 UTC           -73.987130   \n4   51:00.0     5.3  2010-03-09 07:51:00 UTC           -73.968095   \n\n   latitude_of_pickup  longitude_of_dropoff  latitude_of_dropoff  \\\n0           40.721319            -73.841610            40.712278   \n1           40.711303            -73.979268            40.782004   \n2           40.761270            -73.991242            40.750562   \n3           40.733143            -73.991567            40.758092   \n4           40.768008            -73.956655            40.783762   \n\n   no_of_passenger  \n0                1  \n1                1  \n2                2  \n3                1  \n4                1  ",
      "text/html": "<div>\n<style scoped>\n    .dataframe tbody tr th:only-of-type {\n        vertical-align: middle;\n    }\n\n    .dataframe tbody tr th {\n        vertical-align: top;\n    }\n\n    .dataframe thead th {\n        text-align: right;\n    }\n</style>\n<table border=\"1\" class=\"dataframe\">\n  <thead>\n    <tr style=\"text-align: right;\">\n      <th></th>\n      <th>unique_id</th>\n      <th>amount</th>\n      <th>date_time_of_pickup</th>\n      <th>longitude_of_pickup</th>\n      <th>latitude_of_pickup</th>\n      <th>longitude_of_dropoff</th>\n      <th>latitude_of_dropoff</th>\n      <th>no_of_passenger</th>\n    </tr>\n  </thead>\n  <tbody>\n    <tr>\n      <th>0</th>\n      <td>26:21.0</td>\n      <td>4.5</td>\n      <td>2009-06-15 17:26:21 UTC</td>\n      <td>-73.844311</td>\n      <td>40.721319</td>\n      <td>-73.841610</td>\n      <td>40.712278</td>\n      <td>1</td>\n    </tr>\n    <tr>\n      <th>1</th>\n      <td>52:16.0</td>\n      <td>16.9</td>\n      <td>2010-01-05 16:52:16 UTC</td>\n      <td>-74.016048</td>\n      <td>40.711303</td>\n      <td>-73.979268</td>\n      <td>40.782004</td>\n      <td>1</td>\n    </tr>\n    <tr>\n      <th>2</th>\n      <td>35:00.0</td>\n      <td>5.7</td>\n      <td>2011-08-18 00:35:00 UTC</td>\n      <td>-73.982738</td>\n      <td>40.761270</td>\n      <td>-73.991242</td>\n      <td>40.750562</td>\n      <td>2</td>\n    </tr>\n    <tr>\n      <th>3</th>\n      <td>30:42.0</td>\n      <td>7.7</td>\n      <td>2012-04-21 04:30:42 UTC</td>\n      <td>-73.987130</td>\n      <td>40.733143</td>\n      <td>-73.991567</td>\n      <td>40.758092</td>\n      <td>1</td>\n    </tr>\n    <tr>\n      <th>4</th>\n      <td>51:00.0</td>\n      <td>5.3</td>\n      <td>2010-03-09 07:51:00 UTC</td>\n      <td>-73.968095</td>\n      <td>40.768008</td>\n      <td>-73.956655</td>\n      <td>40.783762</td>\n      <td>1</td>\n    </tr>\n  </tbody>\n</table>\n</div>"
     },
     "execution_count": 13,
     "metadata": {},
     "output_type": "execute_result"
    }
   ],
   "source": [
    "data = pd.read_csv('TaxiFare.csv')\n",
    "data.head(5)"
   ],
   "metadata": {
    "collapsed": false,
    "ExecuteTime": {
     "end_time": "2023-09-12T09:17:27.880465900Z",
     "start_time": "2023-09-12T09:17:27.793828800Z"
    }
   },
   "id": "91d1ee75b8ce6b5e"
  },
  {
   "cell_type": "code",
   "execution_count": 24,
   "outputs": [],
   "source": [
    "features = data.drop(columns=['unique_id'])\n",
    "target = data['amount']"
   ],
   "metadata": {
    "collapsed": false,
    "ExecuteTime": {
     "end_time": "2023-09-12T09:22:22.061724500Z",
     "start_time": "2023-09-12T09:22:22.045816700Z"
    }
   },
   "id": "84618fe5a6662c37"
  },
  {
   "cell_type": "code",
   "execution_count": 1,
   "outputs": [
    {
     "ename": "NameError",
     "evalue": "name 'features' is not defined",
     "output_type": "error",
     "traceback": [
      "\u001B[1;31m---------------------------------------------------------------------------\u001B[0m",
      "\u001B[1;31mNameError\u001B[0m                                 Traceback (most recent call last)",
      "Cell \u001B[1;32mIn[1], line 1\u001B[0m\n\u001B[1;32m----> 1\u001B[0m cm \u001B[38;5;241m=\u001B[39m features\u001B[38;5;241m.\u001B[39mcorr()\n\u001B[0;32m      2\u001B[0m sns\u001B[38;5;241m.\u001B[39mheatmap(cm, linewidths\u001B[38;5;241m=\u001B[39m\u001B[38;5;241m.64\u001B[39m,annot\u001B[38;5;241m=\u001B[39m\u001B[38;5;28;01mTrue\u001B[39;00m,cmap\u001B[38;5;241m=\u001B[39m\u001B[38;5;124m'\u001B[39m\u001B[38;5;124mPastel2\u001B[39m\u001B[38;5;124m'\u001B[39m)\n",
      "\u001B[1;31mNameError\u001B[0m: name 'features' is not defined"
     ]
    }
   ],
   "source": [
    "cm = features.corr()\n",
    "sns.heatmap(cm, linewidths=.64,annot=True,cmap='Pastel2')"
   ],
   "metadata": {
    "collapsed": false,
    "ExecuteTime": {
     "end_time": "2023-09-12T14:22:42.406225100Z",
     "start_time": "2023-09-12T14:22:38.912349800Z"
    }
   },
   "id": "5bad0871ff181e7e"
  }
 ],
 "metadata": {
  "kernelspec": {
   "display_name": "Python 3",
   "language": "python",
   "name": "python3"
  },
  "language_info": {
   "codemirror_mode": {
    "name": "ipython",
    "version": 2
   },
   "file_extension": ".py",
   "mimetype": "text/x-python",
   "name": "python",
   "nbconvert_exporter": "python",
   "pygments_lexer": "ipython2",
   "version": "2.7.6"
  }
 },
 "nbformat": 4,
 "nbformat_minor": 5
}
