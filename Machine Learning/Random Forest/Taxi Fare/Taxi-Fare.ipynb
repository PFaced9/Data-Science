{
 "cells": [
  {
   "cell_type": "markdown",
   "id": "d3a7df9f",
   "metadata": {},
   "source": [
    "# Importing Dependancies"
   ]
  },
  {
   "cell_type": "code",
   "execution_count": 1,
   "id": "f8aba54e",
   "metadata": {
    "ExecuteTime": {
     "end_time": "2023-09-13T13:20:12.469868100Z",
     "start_time": "2023-09-13T13:20:12.437358200Z"
    }
   },
   "outputs": [],
   "source": [
    "import pandas as pd\n",
    "# import numpy as np\n",
    "import matplotlib.pyplot as plt\n",
    "from warnings import filterwarnings\n",
    "import seaborn as sns\n",
    "filterwarnings('ignore')"
   ]
  },
  {
   "cell_type": "markdown",
   "id": "e2f5e8a9",
   "metadata": {},
   "source": [
    "# Cleaning Data"
   ]
  },
  {
   "cell_type": "code",
   "execution_count": 2,
   "id": "916dc1b8",
   "metadata": {
    "ExecuteTime": {
     "end_time": "2023-09-13T13:20:39.277444400Z",
     "start_time": "2023-09-13T13:20:13.172199300Z"
    }
   },
   "outputs": [],
   "source": [
    "data = pd.read_csv('TaxiFare.csv')\n",
    "data.head(5)\n",
    "data['date_time_of_pickup'] = pd.to_datetime(data['date_time_of_pickup'])\n",
    "data['day'] = data['date_time_of_pickup'].dt.day\n",
    "data['month'] = data['date_time_of_pickup'].dt.month\n",
    "data['year'] = data['date_time_of_pickup'].dt.year"
   ]
  },
  {
   "cell_type": "code",
   "execution_count": 3,
   "id": "89da526a",
   "metadata": {
    "ExecuteTime": {
     "end_time": "2023-09-12T09:22:22.061724500Z",
     "start_time": "2023-09-12T09:22:22.045816700Z"
    }
   },
   "outputs": [
    {
     "data": {
      "text/html": [
       "<div>\n",
       "<style scoped>\n",
       "    .dataframe tbody tr th:only-of-type {\n",
       "        vertical-align: middle;\n",
       "    }\n",
       "\n",
       "    .dataframe tbody tr th {\n",
       "        vertical-align: top;\n",
       "    }\n",
       "\n",
       "    .dataframe thead th {\n",
       "        text-align: right;\n",
       "    }\n",
       "</style>\n",
       "<table border=\"1\" class=\"dataframe\">\n",
       "  <thead>\n",
       "    <tr style=\"text-align: right;\">\n",
       "      <th></th>\n",
       "      <th>longitude_of_pickup</th>\n",
       "      <th>latitude_of_pickup</th>\n",
       "      <th>longitude_of_dropoff</th>\n",
       "      <th>latitude_of_dropoff</th>\n",
       "      <th>no_of_passenger</th>\n",
       "      <th>day</th>\n",
       "      <th>month</th>\n",
       "      <th>year</th>\n",
       "    </tr>\n",
       "  </thead>\n",
       "  <tbody>\n",
       "    <tr>\n",
       "      <th>0</th>\n",
       "      <td>-73.844311</td>\n",
       "      <td>40.721319</td>\n",
       "      <td>-73.841610</td>\n",
       "      <td>40.712278</td>\n",
       "      <td>1</td>\n",
       "      <td>15</td>\n",
       "      <td>6</td>\n",
       "      <td>2009</td>\n",
       "    </tr>\n",
       "    <tr>\n",
       "      <th>1</th>\n",
       "      <td>-74.016048</td>\n",
       "      <td>40.711303</td>\n",
       "      <td>-73.979268</td>\n",
       "      <td>40.782004</td>\n",
       "      <td>1</td>\n",
       "      <td>5</td>\n",
       "      <td>1</td>\n",
       "      <td>2010</td>\n",
       "    </tr>\n",
       "    <tr>\n",
       "      <th>2</th>\n",
       "      <td>-73.982738</td>\n",
       "      <td>40.761270</td>\n",
       "      <td>-73.991242</td>\n",
       "      <td>40.750562</td>\n",
       "      <td>2</td>\n",
       "      <td>18</td>\n",
       "      <td>8</td>\n",
       "      <td>2011</td>\n",
       "    </tr>\n",
       "    <tr>\n",
       "      <th>3</th>\n",
       "      <td>-73.987130</td>\n",
       "      <td>40.733143</td>\n",
       "      <td>-73.991567</td>\n",
       "      <td>40.758092</td>\n",
       "      <td>1</td>\n",
       "      <td>21</td>\n",
       "      <td>4</td>\n",
       "      <td>2012</td>\n",
       "    </tr>\n",
       "    <tr>\n",
       "      <th>4</th>\n",
       "      <td>-73.968095</td>\n",
       "      <td>40.768008</td>\n",
       "      <td>-73.956655</td>\n",
       "      <td>40.783762</td>\n",
       "      <td>1</td>\n",
       "      <td>9</td>\n",
       "      <td>3</td>\n",
       "      <td>2010</td>\n",
       "    </tr>\n",
       "    <tr>\n",
       "      <th>...</th>\n",
       "      <td>...</td>\n",
       "      <td>...</td>\n",
       "      <td>...</td>\n",
       "      <td>...</td>\n",
       "      <td>...</td>\n",
       "      <td>...</td>\n",
       "      <td>...</td>\n",
       "      <td>...</td>\n",
       "    </tr>\n",
       "    <tr>\n",
       "      <th>49995</th>\n",
       "      <td>-73.999973</td>\n",
       "      <td>40.748531</td>\n",
       "      <td>-74.016899</td>\n",
       "      <td>40.705993</td>\n",
       "      <td>1</td>\n",
       "      <td>12</td>\n",
       "      <td>6</td>\n",
       "      <td>2013</td>\n",
       "    </tr>\n",
       "    <tr>\n",
       "      <th>49996</th>\n",
       "      <td>-73.984756</td>\n",
       "      <td>40.768211</td>\n",
       "      <td>-73.987366</td>\n",
       "      <td>40.760597</td>\n",
       "      <td>1</td>\n",
       "      <td>22</td>\n",
       "      <td>6</td>\n",
       "      <td>2015</td>\n",
       "    </tr>\n",
       "    <tr>\n",
       "      <th>49997</th>\n",
       "      <td>-74.002698</td>\n",
       "      <td>40.739428</td>\n",
       "      <td>-73.998108</td>\n",
       "      <td>40.759483</td>\n",
       "      <td>1</td>\n",
       "      <td>30</td>\n",
       "      <td>1</td>\n",
       "      <td>2011</td>\n",
       "    </tr>\n",
       "    <tr>\n",
       "      <th>49998</th>\n",
       "      <td>-73.946062</td>\n",
       "      <td>40.777567</td>\n",
       "      <td>-73.953450</td>\n",
       "      <td>40.779687</td>\n",
       "      <td>2</td>\n",
       "      <td>6</td>\n",
       "      <td>11</td>\n",
       "      <td>2012</td>\n",
       "    </tr>\n",
       "    <tr>\n",
       "      <th>49999</th>\n",
       "      <td>-73.932603</td>\n",
       "      <td>40.763805</td>\n",
       "      <td>-73.932603</td>\n",
       "      <td>40.763805</td>\n",
       "      <td>1</td>\n",
       "      <td>13</td>\n",
       "      <td>1</td>\n",
       "      <td>2010</td>\n",
       "    </tr>\n",
       "  </tbody>\n",
       "</table>\n",
       "<p>50000 rows × 8 columns</p>\n",
       "</div>"
      ],
      "text/plain": [
       "       longitude_of_pickup  latitude_of_pickup  longitude_of_dropoff  \\\n",
       "0               -73.844311           40.721319            -73.841610   \n",
       "1               -74.016048           40.711303            -73.979268   \n",
       "2               -73.982738           40.761270            -73.991242   \n",
       "3               -73.987130           40.733143            -73.991567   \n",
       "4               -73.968095           40.768008            -73.956655   \n",
       "...                    ...                 ...                   ...   \n",
       "49995           -73.999973           40.748531            -74.016899   \n",
       "49996           -73.984756           40.768211            -73.987366   \n",
       "49997           -74.002698           40.739428            -73.998108   \n",
       "49998           -73.946062           40.777567            -73.953450   \n",
       "49999           -73.932603           40.763805            -73.932603   \n",
       "\n",
       "       latitude_of_dropoff  no_of_passenger  day  month  year  \n",
       "0                40.712278                1   15      6  2009  \n",
       "1                40.782004                1    5      1  2010  \n",
       "2                40.750562                2   18      8  2011  \n",
       "3                40.758092                1   21      4  2012  \n",
       "4                40.783762                1    9      3  2010  \n",
       "...                    ...              ...  ...    ...   ...  \n",
       "49995            40.705993                1   12      6  2013  \n",
       "49996            40.760597                1   22      6  2015  \n",
       "49997            40.759483                1   30      1  2011  \n",
       "49998            40.779687                2    6     11  2012  \n",
       "49999            40.763805                1   13      1  2010  \n",
       "\n",
       "[50000 rows x 8 columns]"
      ]
     },
     "execution_count": 3,
     "metadata": {},
     "output_type": "execute_result"
    }
   ],
   "source": [
    "features = data.drop(columns=['date_time_of_pickup','unique_id','amount'], axis=1)\n",
    "target = data['amount']\n",
    "features.sample(5)\n",
    "features.shape\n",
    "features"
   ]
  },
  {
   "cell_type": "markdown",
   "id": "bedeaff8",
   "metadata": {},
   "source": [
    "## Scaling"
   ]
  },
  {
   "cell_type": "code",
   "execution_count": 4,
   "id": "a8709c52",
   "metadata": {},
   "outputs": [],
   "source": [
    "from sklearn.preprocessing import StandardScaler\n",
    "sc = StandardScaler()\n",
    "# sc.fit(features)"
   ]
  },
  {
   "cell_type": "code",
   "execution_count": 5,
   "id": "ca372e3c",
   "metadata": {},
   "outputs": [
    {
     "data": {
      "text/html": [
       "<div>\n",
       "<style scoped>\n",
       "    .dataframe tbody tr th:only-of-type {\n",
       "        vertical-align: middle;\n",
       "    }\n",
       "\n",
       "    .dataframe tbody tr th {\n",
       "        vertical-align: top;\n",
       "    }\n",
       "\n",
       "    .dataframe thead th {\n",
       "        text-align: right;\n",
       "    }\n",
       "</style>\n",
       "<table border=\"1\" class=\"dataframe\">\n",
       "  <thead>\n",
       "    <tr style=\"text-align: right;\">\n",
       "      <th></th>\n",
       "      <th>longitude_of_pickup</th>\n",
       "      <th>latitude_of_pickup</th>\n",
       "      <th>longitude_of_dropoff</th>\n",
       "      <th>latitude_of_dropoff</th>\n",
       "      <th>no_of_passenger</th>\n",
       "      <th>day</th>\n",
       "      <th>month</th>\n",
       "      <th>year</th>\n",
       "    </tr>\n",
       "  </thead>\n",
       "  <tbody>\n",
       "    <tr>\n",
       "      <th>0</th>\n",
       "      <td>-73.844311</td>\n",
       "      <td>40.721319</td>\n",
       "      <td>-73.841610</td>\n",
       "      <td>40.712278</td>\n",
       "      <td>1</td>\n",
       "      <td>15</td>\n",
       "      <td>6</td>\n",
       "      <td>2009</td>\n",
       "    </tr>\n",
       "    <tr>\n",
       "      <th>1</th>\n",
       "      <td>-74.016048</td>\n",
       "      <td>40.711303</td>\n",
       "      <td>-73.979268</td>\n",
       "      <td>40.782004</td>\n",
       "      <td>1</td>\n",
       "      <td>5</td>\n",
       "      <td>1</td>\n",
       "      <td>2010</td>\n",
       "    </tr>\n",
       "    <tr>\n",
       "      <th>2</th>\n",
       "      <td>-73.982738</td>\n",
       "      <td>40.761270</td>\n",
       "      <td>-73.991242</td>\n",
       "      <td>40.750562</td>\n",
       "      <td>2</td>\n",
       "      <td>18</td>\n",
       "      <td>8</td>\n",
       "      <td>2011</td>\n",
       "    </tr>\n",
       "    <tr>\n",
       "      <th>3</th>\n",
       "      <td>-73.987130</td>\n",
       "      <td>40.733143</td>\n",
       "      <td>-73.991567</td>\n",
       "      <td>40.758092</td>\n",
       "      <td>1</td>\n",
       "      <td>21</td>\n",
       "      <td>4</td>\n",
       "      <td>2012</td>\n",
       "    </tr>\n",
       "    <tr>\n",
       "      <th>4</th>\n",
       "      <td>-73.968095</td>\n",
       "      <td>40.768008</td>\n",
       "      <td>-73.956655</td>\n",
       "      <td>40.783762</td>\n",
       "      <td>1</td>\n",
       "      <td>9</td>\n",
       "      <td>3</td>\n",
       "      <td>2010</td>\n",
       "    </tr>\n",
       "    <tr>\n",
       "      <th>...</th>\n",
       "      <td>...</td>\n",
       "      <td>...</td>\n",
       "      <td>...</td>\n",
       "      <td>...</td>\n",
       "      <td>...</td>\n",
       "      <td>...</td>\n",
       "      <td>...</td>\n",
       "      <td>...</td>\n",
       "    </tr>\n",
       "    <tr>\n",
       "      <th>49995</th>\n",
       "      <td>-73.999973</td>\n",
       "      <td>40.748531</td>\n",
       "      <td>-74.016899</td>\n",
       "      <td>40.705993</td>\n",
       "      <td>1</td>\n",
       "      <td>12</td>\n",
       "      <td>6</td>\n",
       "      <td>2013</td>\n",
       "    </tr>\n",
       "    <tr>\n",
       "      <th>49996</th>\n",
       "      <td>-73.984756</td>\n",
       "      <td>40.768211</td>\n",
       "      <td>-73.987366</td>\n",
       "      <td>40.760597</td>\n",
       "      <td>1</td>\n",
       "      <td>22</td>\n",
       "      <td>6</td>\n",
       "      <td>2015</td>\n",
       "    </tr>\n",
       "    <tr>\n",
       "      <th>49997</th>\n",
       "      <td>-74.002698</td>\n",
       "      <td>40.739428</td>\n",
       "      <td>-73.998108</td>\n",
       "      <td>40.759483</td>\n",
       "      <td>1</td>\n",
       "      <td>30</td>\n",
       "      <td>1</td>\n",
       "      <td>2011</td>\n",
       "    </tr>\n",
       "    <tr>\n",
       "      <th>49998</th>\n",
       "      <td>-73.946062</td>\n",
       "      <td>40.777567</td>\n",
       "      <td>-73.953450</td>\n",
       "      <td>40.779687</td>\n",
       "      <td>2</td>\n",
       "      <td>6</td>\n",
       "      <td>11</td>\n",
       "      <td>2012</td>\n",
       "    </tr>\n",
       "    <tr>\n",
       "      <th>49999</th>\n",
       "      <td>-73.932603</td>\n",
       "      <td>40.763805</td>\n",
       "      <td>-73.932603</td>\n",
       "      <td>40.763805</td>\n",
       "      <td>1</td>\n",
       "      <td>13</td>\n",
       "      <td>1</td>\n",
       "      <td>2010</td>\n",
       "    </tr>\n",
       "  </tbody>\n",
       "</table>\n",
       "<p>50000 rows × 8 columns</p>\n",
       "</div>"
      ],
      "text/plain": [
       "       longitude_of_pickup  latitude_of_pickup  longitude_of_dropoff  \\\n",
       "0               -73.844311           40.721319            -73.841610   \n",
       "1               -74.016048           40.711303            -73.979268   \n",
       "2               -73.982738           40.761270            -73.991242   \n",
       "3               -73.987130           40.733143            -73.991567   \n",
       "4               -73.968095           40.768008            -73.956655   \n",
       "...                    ...                 ...                   ...   \n",
       "49995           -73.999973           40.748531            -74.016899   \n",
       "49996           -73.984756           40.768211            -73.987366   \n",
       "49997           -74.002698           40.739428            -73.998108   \n",
       "49998           -73.946062           40.777567            -73.953450   \n",
       "49999           -73.932603           40.763805            -73.932603   \n",
       "\n",
       "       latitude_of_dropoff  no_of_passenger  day  month  year  \n",
       "0                40.712278                1   15      6  2009  \n",
       "1                40.782004                1    5      1  2010  \n",
       "2                40.750562                2   18      8  2011  \n",
       "3                40.758092                1   21      4  2012  \n",
       "4                40.783762                1    9      3  2010  \n",
       "...                    ...              ...  ...    ...   ...  \n",
       "49995            40.705993                1   12      6  2013  \n",
       "49996            40.760597                1   22      6  2015  \n",
       "49997            40.759483                1   30      1  2011  \n",
       "49998            40.779687                2    6     11  2012  \n",
       "49999            40.763805                1   13      1  2010  \n",
       "\n",
       "[50000 rows x 8 columns]"
      ]
     },
     "execution_count": 5,
     "metadata": {},
     "output_type": "execute_result"
    }
   ],
   "source": [
    "# features=sc.fit_transform(features)\n",
    "# features = pd.DataFrame(features)\n",
    "features"
   ]
  },
  {
   "cell_type": "code",
   "execution_count": 6,
   "id": "0e8bdac3",
   "metadata": {
    "ExecuteTime": {
     "end_time": "2023-09-12T14:22:42.406225100Z",
     "start_time": "2023-09-12T14:22:38.912349800Z"
    }
   },
   "outputs": [
    {
     "data": {
      "image/png": "[encoded data removed]",
      "text/plain": [
       "<Figure size 640x480 with 2 Axes>"
      ]
     },
     "metadata": {},
     "output_type": "display_data"
    }
   ],
   "source": [
    "cm = features.corr()\n",
    "sns.heatmap(cm, linewidths=.64, annot=True, cmap='Pastel2', fmt='.2f')\n",
    "plt.show()"
   ]
  },
  {
   "cell_type": "markdown",
   "id": "899cde83",
   "metadata": {},
   "source": [
    "## Splitting The Data"
   ]
  },
  {
   "cell_type": "code",
   "execution_count": 7,
   "id": "f28c7d75",
   "metadata": {},
   "outputs": [],
   "source": [
    "from sklearn.model_selection import train_test_split\n",
    "X_train, X_test, y_train, y_test = train_test_split(features, target, test_size=0.2, random_state=0)"
   ]
  },
  {
   "cell_type": "code",
   "execution_count": 8,
   "id": "8327292e",
   "metadata": {},
   "outputs": [],
   "source": [
    "from sklearn.ensemble import RandomForestRegressor\n",
    "rfr = RandomForestRegressor(n_jobs=-1, oob_score=True, max_samples=7500, n_estimators= 65, max_depth = 55, max_features=7)"
   ]
  },
  {
   "cell_type": "code",
   "execution_count": 9,
   "id": "64c82265",
   "metadata": {
    "ExecuteTime": {
     "end_time": "2023-09-13T13:19:42.285855100Z",
     "start_time": "2023-09-13T13:19:40.511280Z"
    }
   },
   "outputs": [
    {
     "data": {
      "text/html": [
       "<style>#sk-container-id-1 {color: black;background-color: white;}#sk-container-id-1 pre{padding: 0;}#sk-container-id-1 div.sk-toggleable {background-color: white;}#sk-container-id-1 label.sk-toggleable__label {cursor: pointer;display: block;width: 100%;margin-bottom: 0;padding: 0.3em;box-sizing: border-box;text-align: center;}#sk-container-id-1 label.sk-toggleable__label-arrow:before {content: \"▸\";float: left;margin-right: 0.25em;color: #696969;}#sk-container-id-1 label.sk-toggleable__label-arrow:hover:before {color: black;}#sk-container-id-1 div.sk-estimator:hover label.sk-toggleable__label-arrow:before {color: black;}#sk-container-id-1 div.sk-toggleable__content {max-height: 0;max-width: 0;overflow: hidden;text-align: left;background-color: #f0f8ff;}#sk-container-id-1 div.sk-toggleable__content pre {margin: 0.2em;color: black;border-radius: 0.25em;background-color: #f0f8ff;}#sk-container-id-1 input.sk-toggleable__control:checked~div.sk-toggleable__content {max-height: 200px;max-width: 100%;overflow: auto;}#sk-container-id-1 input.sk-toggleable__control:checked~label.sk-toggleable__label-arrow:before {content: \"▾\";}#sk-container-id-1 div.sk-estimator input.sk-toggleable__control:checked~label.sk-toggleable__label {background-color: #d4ebff;}#sk-container-id-1 div.sk-label input.sk-toggleable__control:checked~label.sk-toggleable__label {background-color: #d4ebff;}#sk-container-id-1 input.sk-hidden--visually {border: 0;clip: rect(1px 1px 1px 1px);clip: rect(1px, 1px, 1px, 1px);height: 1px;margin: -1px;overflow: hidden;padding: 0;position: absolute;width: 1px;}#sk-container-id-1 div.sk-estimator {font-family: monospace;background-color: #f0f8ff;border: 1px dotted black;border-radius: 0.25em;box-sizing: border-box;margin-bottom: 0.5em;}#sk-container-id-1 div.sk-estimator:hover {background-color: #d4ebff;}#sk-container-id-1 div.sk-parallel-item::after {content: \"\";width: 100%;border-bottom: 1px solid gray;flex-grow: 1;}#sk-container-id-1 div.sk-label:hover label.sk-toggleable__label {background-color: #d4ebff;}#sk-container-id-1 div.sk-serial::before {content: \"\";position: absolute;border-left: 1px solid gray;box-sizing: border-box;top: 0;bottom: 0;left: 50%;z-index: 0;}#sk-container-id-1 div.sk-serial {display: flex;flex-direction: column;align-items: center;background-color: white;padding-right: 0.2em;padding-left: 0.2em;position: relative;}#sk-container-id-1 div.sk-item {position: relative;z-index: 1;}#sk-container-id-1 div.sk-parallel {display: flex;align-items: stretch;justify-content: center;background-color: white;position: relative;}#sk-container-id-1 div.sk-item::before, #sk-container-id-1 div.sk-parallel-item::before {content: \"\";position: absolute;border-left: 1px solid gray;box-sizing: border-box;top: 0;bottom: 0;left: 50%;z-index: -1;}#sk-container-id-1 div.sk-parallel-item {display: flex;flex-direction: column;z-index: 1;position: relative;background-color: white;}#sk-container-id-1 div.sk-parallel-item:first-child::after {align-self: flex-end;width: 50%;}#sk-container-id-1 div.sk-parallel-item:last-child::after {align-self: flex-start;width: 50%;}#sk-container-id-1 div.sk-parallel-item:only-child::after {width: 0;}#sk-container-id-1 div.sk-dashed-wrapped {border: 1px dashed gray;margin: 0 0.4em 0.5em 0.4em;box-sizing: border-box;padding-bottom: 0.4em;background-color: white;}#sk-container-id-1 div.sk-label label {font-family: monospace;font-weight: bold;display: inline-block;line-height: 1.2em;}#sk-container-id-1 div.sk-label-container {text-align: center;}#sk-container-id-1 div.sk-container {/* jupyter's `normalize.less` sets `[hidden] { display: none; }` but bootstrap.min.css set `[hidden] { display: none !important; }` so we also need the `!important` here to be able to override the default hidden behavior on the sphinx rendered scikit-learn.org. See: https://github.com/scikit-learn/scikit-learn/issues/21755 */display: inline-block !important;position: relative;}#sk-container-id-1 div.sk-text-repr-fallback {display: none;}</style><div id=\"sk-container-id-1\" class=\"sk-top-container\"><div class=\"sk-text-repr-fallback\"><pre>RandomForestRegressor(max_depth=55, max_features=7, max_samples=7500,\n",
       "                      n_estimators=65, n_jobs=-1, oob_score=True)</pre><b>In a Jupyter environment, please rerun this cell to show the HTML representation or trust the notebook. <br />On GitHub, the HTML representation is unable to render, please try loading this page with nbviewer.org.</b></div><div class=\"sk-container\" hidden><div class=\"sk-item\"><div class=\"sk-estimator sk-toggleable\"><input class=\"sk-toggleable__control sk-hidden--visually\" id=\"sk-estimator-id-1\" type=\"checkbox\" checked><label for=\"sk-estimator-id-1\" class=\"sk-toggleable__label sk-toggleable__label-arrow\">RandomForestRegressor</label><div class=\"sk-toggleable__content\"><pre>RandomForestRegressor(max_depth=55, max_features=7, max_samples=7500,\n",
       "                      n_estimators=65, n_jobs=-1, oob_score=True)</pre></div></div></div></div></div>"
      ],
      "text/plain": [
       "RandomForestRegressor(max_depth=55, max_features=7, max_samples=7500,\n",
       "                      n_estimators=65, n_jobs=-1, oob_score=True)"
      ]
     },
     "execution_count": 9,
     "metadata": {},
     "output_type": "execute_result"
    }
   ],
   "source": [
    "rfr.fit(X_train, y_train)"
   ]
  },
  {
   "cell_type": "markdown",
   "id": "59fd1433",
   "metadata": {},
   "source": [
    "## Predicting & Testing Accuracy"
   ]
  },
  {
   "cell_type": "code",
   "execution_count": 10,
   "id": "dbc078c3",
   "metadata": {},
   "outputs": [],
   "source": [
    "y_pred = rfr.predict(X_test)"
   ]
  },
  {
   "cell_type": "code",
   "execution_count": 11,
   "id": "c713d3c4",
   "metadata": {},
   "outputs": [
    {
     "name": "stdout",
     "output_type": "stream",
     "text": [
      "Accuracy is 79.2%\n",
      "Mean Squared Error is 17.98%\n"
     ]
    }
   ],
   "source": [
    "from sklearn.metrics import r2_score, mean_squared_error\n",
    "acc = r2_score(y_test, y_pred) * 100\n",
    "print(\"Accuracy is {}%\".format(round(acc,2)))\n",
    "print(\"Mean Squared Error is {}%\".format(round(mean_squared_error(y_test, y_pred),2)))"
   ]
  },
  {
   "cell_type": "markdown",
   "id": "2cbdc550",
   "metadata": {},
   "source": [
    "## Cross-Validation For Actual Accuracy"
   ]
  },
  {
   "cell_type": "code",
   "execution_count": null,
   "id": "75b8a661",
   "metadata": {},
   "outputs": [],
   "source": [
    "# from sklearn.model_selection import cross_val_score\n",
    "# np.mean(cross_val_score(RandomForestRegressor(),features,target,cv=5,scoring='accuracy'))"
   ]
  },
  {
   "cell_type": "code",
   "execution_count": 13,
   "id": "7c0ebc56",
   "metadata": {},
   "outputs": [
    {
     "name": "stdout",
     "output_type": "stream",
     "text": [
      "[0.27959902 0.11631522 0.36030028 0.15840168 0.00837456 0.02935305\n",
      " 0.02073858 0.02691761]\n"
     ]
    }
   ],
   "source": [
    "print(rfr.feature_importances_)"
   ]
  },
  {
   "cell_type": "code",
   "execution_count": 12,
   "id": "c1091fe8",
   "metadata": {},
   "outputs": [
    {
     "data": {
      "image/png": "[encoded data removed]",
      "text/plain": [
       "<Figure size 640x480 with 1 Axes>"
      ]
     },
     "metadata": {},
     "output_type": "display_data"
    }
   ],
   "source": [
    "sorted_idx=rfr.feature_importances_.argsort()[::-1]\n",
    "y_values = list(features.columns[sorted_idx])\n",
    "sns.barplot(x=rfr.feature_importances_[sorted_idx], y=y_values, palette=\"rainbow\")\n",
    "plt.title('Feature Importances')\n",
    "plt.xlabel('Importance')\n",
    "plt.ylabel('Features')\n",
    "plt.show()"
   ]
  },
  {
   "cell_type": "code",
   "execution_count": null,
   "id": "e5421244",
   "metadata": {},
   "outputs": [],
   "source": [
    "# from sklearn.model_selection import GridSearchCV\n",
    "# param_grid= {'max_features': ['auto', 'sqrt'],\n",
    "#              'max_depth': [1,10],\n",
    "#              'min_samples_split': [2,5,8,10],\n",
    "#              'min_samples_leaf': [1, 2, 4, 6],\n",
    "#              'bootstrap': [True, False]\n",
    "# }\n",
    "# grid_search = GridSearchCV(estimator=RandomForestRegressor(random_state=20), param_grid=param_grid, scoring='neg_mean_squared_error', cv=3, n_jobs=-1)  "
   ]
  },
  {
   "cell_type": "code",
   "execution_count": null,
   "id": "dd9ad907",
   "metadata": {},
   "outputs": [],
   "source": [
    "# grid_search.fit(X_train,y_train)"
   ]
  },
  {
   "cell_type": "code",
   "execution_count": null,
   "id": "857b35ea",
   "metadata": {},
   "outputs": [],
   "source": [
    "# grid_predictions = grid_search.predict(x_test)\n",
    "# acc = r2_score(y_test, grid_predictions) * 100\n",
    "# print(\"Accuracy is {}%\".format(round(acc,2)))\n",
    "# print(\"Mean Squared Error is {}%\".format(round(mean_squared_error(y_test, grid_predictions),2)))"
   ]
  },
  {
   "cell_type": "code",
   "execution_count": null,
   "id": "169ee6ee",
   "metadata": {},
   "outputs": [],
   "source": [
    "# 'from sklearn.model_selection import RandomizedSearchCV\n",
    "# param_grid= {'max_features': ['auto', 'sqrt'],\n",
    "#              'max_depth': [None,1,5],\n",
    "#              'min_samples_split': [2,5,8,10],\n",
    "#              'min_samples_leaf': [1, 2, 4, 6],\n",
    "#              'bootstrap': [True, False]\n",
    "# }\n",
    "# random_search = RandomizedSearchCV(estimator=RandomForestRegressor(random_state=40), param_distributions=param_grid,\n",
    "# n_iter = 100, scoring='neg_mean_squared_error', cv=3, verbose=2, random_state=40,n_jobs=-1) "
   ]
  }
 ],
 "metadata": {
  "kernelspec": {
   "display_name": "Python 3 (ipykernel)",
   "language": "python",
   "name": "python3"
  },
  "language_info": {
   "codemirror_mode": {
    "name": "ipython",
    "version": 3
   },
   "file_extension": ".py",
   "mimetype": "text/x-python",
   "name": "python",
   "nbconvert_exporter": "python",
   "pygments_lexer": "ipython3",
   "version": "3.11.3"
  },
  "varInspector": {
   "cols": {
    "lenName": 16,
    "lenType": 16,
    "lenVar": 40
   },
   "kernels_config": {
    "python": {
     "delete_cmd_postfix": "",
     "delete_cmd_prefix": "del ",
     "library": "var_list.py",
     "varRefreshCmd": "print(var_dic_list())"
    },
    "r": {
     "delete_cmd_postfix": ") ",
     "delete_cmd_prefix": "rm(",
     "library": "var_list.r",
     "varRefreshCmd": "cat(var_dic_list()) "
    }
   },
   "types_to_exclude": [
    "module",
    "function",
    "builtin_function_or_method",
    "instance",
    "_Feature"
   ],
   "window_display": false
  }
 },
 "nbformat": 4,
 "nbformat_minor": 5
}
