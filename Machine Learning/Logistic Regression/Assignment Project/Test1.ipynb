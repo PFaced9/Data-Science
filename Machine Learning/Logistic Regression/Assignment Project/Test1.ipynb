{
 "cells": [
  {
   "cell_type": "markdown",
   "id": "3916e1e734f200a4",
   "metadata": {},
   "source": [
    "### Importing The Libraries"
   ]
  },
  {
   "cell_type": "code",
   "execution_count": 1,
   "id": "eb943a3fefbf29f6",
   "metadata": {
    "ExecuteTime": {
     "end_time": "2023-09-06T09:27:36.005376300Z",
     "start_time": "2023-09-06T09:27:36.000802900Z"
    }
   },
   "outputs": [],
   "source": [
    "import numpy as np\n",
    "import pandas as pd\n",
    "import seaborn as sns\n",
    "import matplotlib.pyplot as plt\n",
    "from warnings import filterwarnings\n",
    "filterwarnings('ignore')"
   ]
  },
  {
   "cell_type": "markdown",
   "id": "7f0639570100b95a",
   "metadata": {},
   "source": [
    "### Analysing The Dataset"
   ]
  },
  {
   "cell_type": "code",
   "execution_count": 14,
   "id": "dea72ee41ad99a83",
   "metadata": {
    "ExecuteTime": {
     "end_time": "2023-09-06T09:33:48.831006900Z",
     "start_time": "2023-09-06T09:33:48.747355700Z"
    }
   },
   "outputs": [],
   "source": [
    "data = pd.read_csv('h1n1_vaccine_prediction.csv')\n",
    "# data.isna().sum()\n",
    "# data['h1n1_worry']\n",
    "# data['h1n1_worry'].unique()\n",
    "X = data.iloc[:,:-1]\n",
    "y = data.iloc[:,-1]\n",
    "\n",
    "#1-9,12-21,22,29,31,32 - Mode, 10,11,23,26,27,28 -Least"
   ]
  },
  {
   "cell_type": "code",
   "execution_count": 26,
   "outputs": [
    {
     "data": {
      "text/plain": "1747"
     },
     "execution_count": 26,
     "metadata": {},
     "output_type": "execute_result"
    }
   ],
   "source": [
    "### Least Occuring Value in the column\n",
    "def least_occ(df):\n",
    "    for i in df:\n",
    "        least = df[i].value_counts().min()\n",
    "    return least\n",
    "least_occ(X)"
   ],
   "metadata": {
    "collapsed": false,
    "ExecuteTime": {
     "end_time": "2023-09-06T09:48:58.770305100Z",
     "start_time": "2023-09-06T09:48:58.707063900Z"
    }
   },
   "id": "1941aca3242724a5"
  },
  {
   "cell_type": "markdown",
   "source": [
    "### Simple Imputing "
   ],
   "metadata": {
    "collapsed": false
   },
   "id": "513b588160109363"
  },
  {
   "cell_type": "code",
   "execution_count": 23,
   "outputs": [
    {
     "data": {
      "text/plain": "       unique_id  h1n1_worry  h1n1_awareness  antiviral_medication  \\\n0              0         1.0             0.0                   0.0   \n1              1         3.0             2.0                   0.0   \n2              2         1.0             1.0                   0.0   \n3              3         1.0             1.0                   0.0   \n4              4         2.0             1.0                   0.0   \n...          ...         ...             ...                   ...   \n26702      26702         2.0             0.0                   0.0   \n26703      26703         1.0             2.0                   0.0   \n26704      26704         2.0             2.0                   0.0   \n26705      26705         1.0             1.0                   0.0   \n26706      26706         0.0             0.0                   0.0   \n\n       contact_avoidance  bought_face_mask  wash_hands_frequently  \\\n0                    0.0               0.0                    0.0   \n1                    1.0               0.0                    1.0   \n2                    1.0               0.0                    0.0   \n3                    1.0               0.0                    1.0   \n4                    1.0               0.0                    1.0   \n...                  ...               ...                    ...   \n26702                1.0               0.0                    0.0   \n26703                1.0               0.0                    1.0   \n26704                1.0               1.0                    1.0   \n26705                0.0               0.0                    0.0   \n26706                1.0               0.0                    0.0   \n\n       avoid_large_gatherings  reduced_outside_home_cont  avoid_touch_face  \\\n0                         0.0                        1.0               1.0   \n1                         0.0                        1.0               1.0   \n2                         0.0                        0.0               0.0   \n3                         1.0                        0.0               0.0   \n4                         1.0                        0.0               1.0   \n...                       ...                        ...               ...   \n26702                     0.0                        1.0               0.0   \n26703                     0.0                        0.0               0.0   \n26704                     1.0                        0.0               1.0   \n26705                     0.0                        0.0               1.0   \n26706                     0.0                        0.0               0.0   \n\n       ...     qualification      race     sex               income_level  \\\n0      ...        < 12 Years     White  Female              Below Poverty   \n1      ...          12 Years     White    Male              Below Poverty   \n2      ...  College Graduate     White    Male  <= $75,000, Above Poverty   \n3      ...          12 Years     White  Female              Below Poverty   \n4      ...      Some College     White  Female  <= $75,000, Above Poverty   \n...    ...               ...       ...     ...                        ...   \n26702  ...      Some College     White  Female  <= $75,000, Above Poverty   \n26703  ...  College Graduate     White    Male  <= $75,000, Above Poverty   \n26704  ...      Some College     White  Female  <= $75,000, Above Poverty   \n26705  ...      Some College  Hispanic  Female  <= $75,000, Above Poverty   \n26706  ...      Some College     White    Male  <= $75,000, Above Poverty   \n\n       marital_status  housing_status          employment  \\\n0         Not Married             Own  Not in Labor Force   \n1         Not Married            Rent            Employed   \n2         Not Married             Own            Employed   \n3         Not Married            Rent  Not in Labor Force   \n4             Married             Own            Employed   \n...               ...             ...                 ...   \n26702     Not Married             Own  Not in Labor Force   \n26703     Not Married            Rent            Employed   \n26704     Not Married             Own            Employed   \n26705         Married            Rent            Employed   \n26706         Married             Own  Not in Labor Force   \n\n                     census_msa  no_of_adults  no_of_children  \n0                       Non-MSA           0.0             0.0  \n1      MSA, Not Principle  City           0.0             0.0  \n2      MSA, Not Principle  City           2.0             0.0  \n3           MSA, Principle City           0.0             0.0  \n4      MSA, Not Principle  City           1.0             0.0  \n...                         ...           ...             ...  \n26702                   Non-MSA           0.0             0.0  \n26703       MSA, Principle City           1.0             0.0  \n26704  MSA, Not Principle  City           0.0             0.0  \n26705                   Non-MSA           1.0             0.0  \n26706       MSA, Principle City           1.0             0.0  \n\n[26707 rows x 33 columns]",
      "text/html": "<div>\n<style scoped>\n    .dataframe tbody tr th:only-of-type {\n        vertical-align: middle;\n    }\n\n    .dataframe tbody tr th {\n        vertical-align: top;\n    }\n\n    .dataframe thead th {\n        text-align: right;\n    }\n</style>\n<table border=\"1\" class=\"dataframe\">\n  <thead>\n    <tr style=\"text-align: right;\">\n      <th></th>\n      <th>unique_id</th>\n      <th>h1n1_worry</th>\n      <th>h1n1_awareness</th>\n      <th>antiviral_medication</th>\n      <th>contact_avoidance</th>\n      <th>bought_face_mask</th>\n      <th>wash_hands_frequently</th>\n      <th>avoid_large_gatherings</th>\n      <th>reduced_outside_home_cont</th>\n      <th>avoid_touch_face</th>\n      <th>...</th>\n      <th>qualification</th>\n      <th>race</th>\n      <th>sex</th>\n      <th>income_level</th>\n      <th>marital_status</th>\n      <th>housing_status</th>\n      <th>employment</th>\n      <th>census_msa</th>\n      <th>no_of_adults</th>\n      <th>no_of_children</th>\n    </tr>\n  </thead>\n  <tbody>\n    <tr>\n      <th>0</th>\n      <td>0</td>\n      <td>1.0</td>\n      <td>0.0</td>\n      <td>0.0</td>\n      <td>0.0</td>\n      <td>0.0</td>\n      <td>0.0</td>\n      <td>0.0</td>\n      <td>1.0</td>\n      <td>1.0</td>\n      <td>...</td>\n      <td>&lt; 12 Years</td>\n      <td>White</td>\n      <td>Female</td>\n      <td>Below Poverty</td>\n      <td>Not Married</td>\n      <td>Own</td>\n      <td>Not in Labor Force</td>\n      <td>Non-MSA</td>\n      <td>0.0</td>\n      <td>0.0</td>\n    </tr>\n    <tr>\n      <th>1</th>\n      <td>1</td>\n      <td>3.0</td>\n      <td>2.0</td>\n      <td>0.0</td>\n      <td>1.0</td>\n      <td>0.0</td>\n      <td>1.0</td>\n      <td>0.0</td>\n      <td>1.0</td>\n      <td>1.0</td>\n      <td>...</td>\n      <td>12 Years</td>\n      <td>White</td>\n      <td>Male</td>\n      <td>Below Poverty</td>\n      <td>Not Married</td>\n      <td>Rent</td>\n      <td>Employed</td>\n      <td>MSA, Not Principle  City</td>\n      <td>0.0</td>\n      <td>0.0</td>\n    </tr>\n    <tr>\n      <th>2</th>\n      <td>2</td>\n      <td>1.0</td>\n      <td>1.0</td>\n      <td>0.0</td>\n      <td>1.0</td>\n      <td>0.0</td>\n      <td>0.0</td>\n      <td>0.0</td>\n      <td>0.0</td>\n      <td>0.0</td>\n      <td>...</td>\n      <td>College Graduate</td>\n      <td>White</td>\n      <td>Male</td>\n      <td>&lt;= $75,000, Above Poverty</td>\n      <td>Not Married</td>\n      <td>Own</td>\n      <td>Employed</td>\n      <td>MSA, Not Principle  City</td>\n      <td>2.0</td>\n      <td>0.0</td>\n    </tr>\n    <tr>\n      <th>3</th>\n      <td>3</td>\n      <td>1.0</td>\n      <td>1.0</td>\n      <td>0.0</td>\n      <td>1.0</td>\n      <td>0.0</td>\n      <td>1.0</td>\n      <td>1.0</td>\n      <td>0.0</td>\n      <td>0.0</td>\n      <td>...</td>\n      <td>12 Years</td>\n      <td>White</td>\n      <td>Female</td>\n      <td>Below Poverty</td>\n      <td>Not Married</td>\n      <td>Rent</td>\n      <td>Not in Labor Force</td>\n      <td>MSA, Principle City</td>\n      <td>0.0</td>\n      <td>0.0</td>\n    </tr>\n    <tr>\n      <th>4</th>\n      <td>4</td>\n      <td>2.0</td>\n      <td>1.0</td>\n      <td>0.0</td>\n      <td>1.0</td>\n      <td>0.0</td>\n      <td>1.0</td>\n      <td>1.0</td>\n      <td>0.0</td>\n      <td>1.0</td>\n      <td>...</td>\n      <td>Some College</td>\n      <td>White</td>\n      <td>Female</td>\n      <td>&lt;= $75,000, Above Poverty</td>\n      <td>Married</td>\n      <td>Own</td>\n      <td>Employed</td>\n      <td>MSA, Not Principle  City</td>\n      <td>1.0</td>\n      <td>0.0</td>\n    </tr>\n    <tr>\n      <th>...</th>\n      <td>...</td>\n      <td>...</td>\n      <td>...</td>\n      <td>...</td>\n      <td>...</td>\n      <td>...</td>\n      <td>...</td>\n      <td>...</td>\n      <td>...</td>\n      <td>...</td>\n      <td>...</td>\n      <td>...</td>\n      <td>...</td>\n      <td>...</td>\n      <td>...</td>\n      <td>...</td>\n      <td>...</td>\n      <td>...</td>\n      <td>...</td>\n      <td>...</td>\n      <td>...</td>\n    </tr>\n    <tr>\n      <th>26702</th>\n      <td>26702</td>\n      <td>2.0</td>\n      <td>0.0</td>\n      <td>0.0</td>\n      <td>1.0</td>\n      <td>0.0</td>\n      <td>0.0</td>\n      <td>0.0</td>\n      <td>1.0</td>\n      <td>0.0</td>\n      <td>...</td>\n      <td>Some College</td>\n      <td>White</td>\n      <td>Female</td>\n      <td>&lt;= $75,000, Above Poverty</td>\n      <td>Not Married</td>\n      <td>Own</td>\n      <td>Not in Labor Force</td>\n      <td>Non-MSA</td>\n      <td>0.0</td>\n      <td>0.0</td>\n    </tr>\n    <tr>\n      <th>26703</th>\n      <td>26703</td>\n      <td>1.0</td>\n      <td>2.0</td>\n      <td>0.0</td>\n      <td>1.0</td>\n      <td>0.0</td>\n      <td>1.0</td>\n      <td>0.0</td>\n      <td>0.0</td>\n      <td>0.0</td>\n      <td>...</td>\n      <td>College Graduate</td>\n      <td>White</td>\n      <td>Male</td>\n      <td>&lt;= $75,000, Above Poverty</td>\n      <td>Not Married</td>\n      <td>Rent</td>\n      <td>Employed</td>\n      <td>MSA, Principle City</td>\n      <td>1.0</td>\n      <td>0.0</td>\n    </tr>\n    <tr>\n      <th>26704</th>\n      <td>26704</td>\n      <td>2.0</td>\n      <td>2.0</td>\n      <td>0.0</td>\n      <td>1.0</td>\n      <td>1.0</td>\n      <td>1.0</td>\n      <td>1.0</td>\n      <td>0.0</td>\n      <td>1.0</td>\n      <td>...</td>\n      <td>Some College</td>\n      <td>White</td>\n      <td>Female</td>\n      <td>&lt;= $75,000, Above Poverty</td>\n      <td>Not Married</td>\n      <td>Own</td>\n      <td>Employed</td>\n      <td>MSA, Not Principle  City</td>\n      <td>0.0</td>\n      <td>0.0</td>\n    </tr>\n    <tr>\n      <th>26705</th>\n      <td>26705</td>\n      <td>1.0</td>\n      <td>1.0</td>\n      <td>0.0</td>\n      <td>0.0</td>\n      <td>0.0</td>\n      <td>0.0</td>\n      <td>0.0</td>\n      <td>0.0</td>\n      <td>1.0</td>\n      <td>...</td>\n      <td>Some College</td>\n      <td>Hispanic</td>\n      <td>Female</td>\n      <td>&lt;= $75,000, Above Poverty</td>\n      <td>Married</td>\n      <td>Rent</td>\n      <td>Employed</td>\n      <td>Non-MSA</td>\n      <td>1.0</td>\n      <td>0.0</td>\n    </tr>\n    <tr>\n      <th>26706</th>\n      <td>26706</td>\n      <td>0.0</td>\n      <td>0.0</td>\n      <td>0.0</td>\n      <td>1.0</td>\n      <td>0.0</td>\n      <td>0.0</td>\n      <td>0.0</td>\n      <td>0.0</td>\n      <td>0.0</td>\n      <td>...</td>\n      <td>Some College</td>\n      <td>White</td>\n      <td>Male</td>\n      <td>&lt;= $75,000, Above Poverty</td>\n      <td>Married</td>\n      <td>Own</td>\n      <td>Not in Labor Force</td>\n      <td>MSA, Principle City</td>\n      <td>1.0</td>\n      <td>0.0</td>\n    </tr>\n  </tbody>\n</table>\n<p>26707 rows × 33 columns</p>\n</div>"
     },
     "execution_count": 23,
     "metadata": {},
     "output_type": "execute_result"
    }
   ],
   "source": [
    "from sklearn.impute import SimpleImputer\n",
    "imp_numeric = SimpleImputer(missing_values=np.nan, strategy='most_frequent')\n",
    "# X.iloc[:,] = imp_numeric.fit_transform(X.iloc[:,:1,2,3,4,5,6,7,8,9,12,13,14,15,16,17,18,19,20,21,22,29,31,32]]\n",
    "X.iloc[:, [1,2,3,4,5,6,7,8,9,12,13,14,15,16,17,18,19,20,21,22,29,31,32]] = imp_numeric.fit_transform(X.iloc[:, [1,2,3,4,5,6,7,8,9,12,13,14,15,16,17,18,19,20,21,22,29,31,32]])\n",
    "imp_least = SimpleImputer(missing_values=np.nan, strategy='constant', fill_value=)\n",
    "X.iloc[:,[10,11,23,26,27,28]] = imp_least.fit_transform(X.iloc[:,[10,11,23,26,27,28]])"
   ],
   "metadata": {
    "collapsed": false,
    "ExecuteTime": {
     "end_time": "2023-09-06T09:42:10.322523800Z",
     "start_time": "2023-09-06T09:42:10.023079300Z"
    }
   },
   "id": "dea6fb865364f21"
  },
  {
   "cell_type": "code",
   "execution_count": 16,
   "outputs": [
    {
     "name": "stdout",
     "output_type": "stream",
     "text": [
      "unique_id 0\n",
      "h1n1_worry 0\n",
      "h1n1_awareness 0\n",
      "antiviral_medication 0\n",
      "contact_avoidance 0\n",
      "bought_face_mask 0\n",
      "wash_hands_frequently 0\n",
      "avoid_large_gatherings 0\n",
      "reduced_outside_home_cont 0\n",
      "avoid_touch_face 0\n",
      "dr_recc_h1n1_vacc 2160\n",
      "dr_recc_seasonal_vacc 2160\n",
      "chronic_medic_condition 0\n",
      "cont_child_undr_6_mnths 0\n",
      "is_health_worker 0\n",
      "has_health_insur 0\n",
      "is_h1n1_vacc_effective 0\n",
      "is_h1n1_risky 0\n",
      "sick_from_h1n1_vacc 0\n",
      "is_seas_vacc_effective 0\n",
      "is_seas_risky 0\n",
      "sick_from_seas_vacc 0\n",
      "age_bracket 0\n",
      "qualification 1407\n",
      "race 0\n",
      "sex 0\n",
      "income_level 4423\n",
      "marital_status 1408\n",
      "housing_status 2042\n",
      "employment 0\n",
      "census_msa 0\n",
      "no_of_adults 0\n",
      "no_of_children 0\n"
     ]
    }
   ],
   "source": [
    "for col in X:\n",
    "    print(col, X[col].isna().sum())"
   ],
   "metadata": {
    "collapsed": false,
    "ExecuteTime": {
     "end_time": "2023-09-06T09:34:17.618980400Z",
     "start_time": "2023-09-06T09:34:17.591056300Z"
    }
   },
   "id": "e0287e80bddd2d1c"
  },
  {
   "cell_type": "code",
   "execution_count": null,
   "outputs": [],
   "source": [
    "from sklearn.preprocessing import OneHotEncoder, OrdinalEncoder\n",
    "from sklearn.compose import ColumnTransformer\n",
    "transformer = ColumnTransformer(transformers=[\n",
    "    ('tnf1', OrdinalEncoder(categories=[[]]))\n",
    "])"
   ],
   "metadata": {
    "collapsed": false,
    "ExecuteTime": {
     "start_time": "2023-09-06T09:27:11.196755200Z"
    }
   },
   "id": "2fea666f75b27de9"
  },
  {
   "cell_type": "markdown",
   "source": [
    "### Selecting The Best Features"
   ],
   "metadata": {
    "collapsed": false
   },
   "id": "a6c9a9e1dbcfd042"
  },
  {
   "cell_type": "code",
   "execution_count": null,
   "outputs": [],
   "source": [
    "from sklearn.feature_selection import SelectKBest, f_classif\n",
    "selector = SelectKBest(score_func=f_classif(),k=5) \n",
    "X_new = selector.fit_transform(X,y)"
   ],
   "metadata": {
    "collapsed": false,
    "ExecuteTime": {
     "start_time": "2023-09-06T09:27:11.196755200Z"
    }
   },
   "id": "a27be7b6b0fd1e16"
  },
  {
   "cell_type": "markdown",
   "id": "e80beaf1f2ae80b1",
   "metadata": {},
   "source": [
    "### Cleaning The Dataset"
   ]
  },
  {
   "cell_type": "code",
   "execution_count": null,
   "id": "aed19a0b4be702da",
   "metadata": {
    "ExecuteTime": {
     "start_time": "2023-09-06T09:27:11.196755200Z"
    }
   },
   "outputs": [],
   "source": [
    "# X['h1n1_worry'].value_counts(dropna=False)\n",
    "# X['antiviral_medication'].value_counts(dropna=False)\n",
    "\n",
    "# X['h1n1_worry'].fillna(2,inplace=True)\n",
    "# X['h1n1_awareness'].fillna(1,inplace=True)\n",
    "# X['antiviral_medication'].fillna(0,inplace=True)\n",
    "# X['contact_avoidance'].fillna(1,inplace=True)\n",
    "# X['h1n1_worry'].astype(int)\n",
    "# X['h1n1_awareness'].astype(int)\n",
    "# X['antiviral_medication'].astype(int)\n",
    "X = X.astype({\"h1n1_awareness\":'int', \"h1n1_worry\":'int', 'antiviral_medication':'int'}) \n",
    "X.dtypes\n",
    "# X['contact_avoidance'].value_counts(dropna = False)"
   ]
  },
  {
   "cell_type": "markdown",
   "id": "3d6ee63b13098db4",
   "metadata": {},
   "source": [
    "### Splitting The Data"
   ]
  },
  {
   "cell_type": "code",
   "execution_count": null,
   "id": "c28cf435b10bdb8",
   "metadata": {
    "ExecuteTime": {
     "start_time": "2023-09-06T09:27:11.196755200Z"
    }
   },
   "outputs": [],
   "source": [
    "from sklearn.model_selection import train_test_split\n",
    "X_train, X_test, y_train, y_test = train_test_split(X,y,test_size=0.2, random_state=5)\n",
    "# X_train['antiviral_medication'].value_counts(dropna=False)\n",
    "X_train.reset_index()\n",
    "X['h1n1_awareness'].value_counts(dropna=False)"
   ]
  },
  {
   "cell_type": "markdown",
   "id": "d308c6f9bf56b00a",
   "metadata": {},
   "source": [
    "### Scaling The Values"
   ]
  },
  {
   "cell_type": "code",
   "execution_count": null,
   "id": "932c3f1855f7376a",
   "metadata": {
    "ExecuteTime": {
     "start_time": "2023-09-06T09:27:11.212388900Z"
    }
   },
   "outputs": [],
   "source": [
    "from sklearn.preprocessing import StandardScaler\n",
    "standard = StandardScaler()\n",
    "X_train = standard.fit_transform(X_train)\n",
    "X_train = standard.transform(X_train)"
   ]
  },
  {
   "cell_type": "code",
   "execution_count": null,
   "id": "fac66bf7f5672252",
   "metadata": {
    "ExecuteTime": {
     "start_time": "2023-09-06T09:27:11.212388900Z"
    }
   },
   "outputs": [],
   "source": [
    "from sklearn.linear_model import LogisticRegression\n",
    "classifier = LogisticRegression(random_state = 0)\n",
    "classifier.fit(X_train, y_train)"
   ]
  },
  {
   "cell_type": "code",
   "execution_count": null,
   "id": "393413d5416a7e1e",
   "metadata": {
    "ExecuteTime": {
     "start_time": "2023-09-06T09:27:11.212388900Z"
    }
   },
   "outputs": [],
   "source": [
    "from sklearn.metrics import confusion_matrix, accuracy_score\n",
    "y_pred = classifier.predict(X_test)\n",
    "cm = confusion_matrix(y_test, y_pred)\n",
    "print(cm)\n",
    "accuracy_score(y_test, y_pred)"
   ]
  },
  {
   "cell_type": "code",
   "execution_count": null,
   "id": "688facfb9f089976",
   "metadata": {
    "ExecuteTime": {
     "start_time": "2023-09-06T09:27:11.212388900Z"
    }
   },
   "outputs": [],
   "source": [
    "cd = X.corr()\n",
    "sns.heatmap(cd, annot=True, cmap='Pastel2_r')\n"
   ]
  }
 ],
 "metadata": {
  "kernelspec": {
   "display_name": "Python 3 (ipykernel)",
   "language": "python",
   "name": "python3"
  },
  "language_info": {
   "codemirror_mode": {
    "name": "ipython",
    "version": 3
   },
   "file_extension": ".py",
   "mimetype": "text/x-python",
   "name": "python",
   "nbconvert_exporter": "python",
   "pygments_lexer": "ipython3",
   "version": "3.11.3"
  }
 },
 "nbformat": 4,
 "nbformat_minor": 5
}
