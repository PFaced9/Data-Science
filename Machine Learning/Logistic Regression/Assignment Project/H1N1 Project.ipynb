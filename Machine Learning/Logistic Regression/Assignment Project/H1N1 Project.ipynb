{
 "cells": [
  {
   "cell_type": "markdown",
   "source": [
    "### Importing The Libraries"
   ],
   "metadata": {
    "collapsed": false
   },
   "id": "3916e1e734f200a4"
  },
  {
   "cell_type": "code",
   "execution_count": 1,
   "outputs": [],
   "source": [
    "import numpy as np\n",
    "import pandas as pd\n",
    "import seaborn as sns\n",
    "import matplotlib.pyplot as plt\n",
    "from warnings import filterwarnings\n",
    "filterwarnings('ignore')"
   ],
   "metadata": {
    "collapsed": false,
    "ExecuteTime": {
     "end_time": "2023-09-05T18:12:17.087125200Z",
     "start_time": "2023-09-05T18:12:17.084288600Z"
    }
   },
   "id": "eb943a3fefbf29f6"
  },
  {
   "cell_type": "markdown",
   "source": [
    "### Analysing The Dataset"
   ],
   "metadata": {
    "collapsed": false
   },
   "id": "7f0639570100b95a"
  },
  {
   "cell_type": "code",
   "execution_count": 59,
   "outputs": [
    {
     "name": "stdout",
     "output_type": "stream",
     "text": [
      "(26707, 34)\n"
     ]
    },
    {
     "data": {
      "text/plain": "   unique_id  h1n1_worry  h1n1_awareness  antiviral_medication  \\\n0          0         1.0             0.0                   0.0   \n1          1         3.0             2.0                   0.0   \n2          2         1.0             1.0                   0.0   \n3          3         1.0             1.0                   0.0   \n4          4         2.0             1.0                   0.0   \n\n   contact_avoidance  bought_face_mask  wash_hands_frequently  \\\n0                0.0               0.0                    0.0   \n1                1.0               0.0                    1.0   \n2                1.0               0.0                    0.0   \n3                1.0               0.0                    1.0   \n4                1.0               0.0                    1.0   \n\n   avoid_large_gatherings  reduced_outside_home_cont  avoid_touch_face  ...  \\\n0                     0.0                        1.0               1.0  ...   \n1                     0.0                        1.0               1.0  ...   \n2                     0.0                        0.0               0.0  ...   \n3                     1.0                        0.0               0.0  ...   \n4                     1.0                        0.0               1.0  ...   \n\n    race     sex               income_level  marital_status  housing_status  \\\n0  White  Female              Below Poverty     Not Married             Own   \n1  White    Male              Below Poverty     Not Married            Rent   \n2  White    Male  <= $75,000, Above Poverty     Not Married             Own   \n3  White  Female              Below Poverty     Not Married            Rent   \n4  White  Female  <= $75,000, Above Poverty         Married             Own   \n\n           employment                census_msa  no_of_adults  no_of_children  \\\n0  Not in Labor Force                   Non-MSA           0.0             0.0   \n1            Employed  MSA, Not Principle  City           0.0             0.0   \n2            Employed  MSA, Not Principle  City           2.0             0.0   \n3  Not in Labor Force       MSA, Principle City           0.0             0.0   \n4            Employed  MSA, Not Principle  City           1.0             0.0   \n\n   h1n1_vaccine  \n0             0  \n1             0  \n2             0  \n3             0  \n4             0  \n\n[5 rows x 34 columns]",
      "text/html": "<div>\n<style scoped>\n    .dataframe tbody tr th:only-of-type {\n        vertical-align: middle;\n    }\n\n    .dataframe tbody tr th {\n        vertical-align: top;\n    }\n\n    .dataframe thead th {\n        text-align: right;\n    }\n</style>\n<table border=\"1\" class=\"dataframe\">\n  <thead>\n    <tr style=\"text-align: right;\">\n      <th></th>\n      <th>unique_id</th>\n      <th>h1n1_worry</th>\n      <th>h1n1_awareness</th>\n      <th>antiviral_medication</th>\n      <th>contact_avoidance</th>\n      <th>bought_face_mask</th>\n      <th>wash_hands_frequently</th>\n      <th>avoid_large_gatherings</th>\n      <th>reduced_outside_home_cont</th>\n      <th>avoid_touch_face</th>\n      <th>...</th>\n      <th>race</th>\n      <th>sex</th>\n      <th>income_level</th>\n      <th>marital_status</th>\n      <th>housing_status</th>\n      <th>employment</th>\n      <th>census_msa</th>\n      <th>no_of_adults</th>\n      <th>no_of_children</th>\n      <th>h1n1_vaccine</th>\n    </tr>\n  </thead>\n  <tbody>\n    <tr>\n      <th>0</th>\n      <td>0</td>\n      <td>1.0</td>\n      <td>0.0</td>\n      <td>0.0</td>\n      <td>0.0</td>\n      <td>0.0</td>\n      <td>0.0</td>\n      <td>0.0</td>\n      <td>1.0</td>\n      <td>1.0</td>\n      <td>...</td>\n      <td>White</td>\n      <td>Female</td>\n      <td>Below Poverty</td>\n      <td>Not Married</td>\n      <td>Own</td>\n      <td>Not in Labor Force</td>\n      <td>Non-MSA</td>\n      <td>0.0</td>\n      <td>0.0</td>\n      <td>0</td>\n    </tr>\n    <tr>\n      <th>1</th>\n      <td>1</td>\n      <td>3.0</td>\n      <td>2.0</td>\n      <td>0.0</td>\n      <td>1.0</td>\n      <td>0.0</td>\n      <td>1.0</td>\n      <td>0.0</td>\n      <td>1.0</td>\n      <td>1.0</td>\n      <td>...</td>\n      <td>White</td>\n      <td>Male</td>\n      <td>Below Poverty</td>\n      <td>Not Married</td>\n      <td>Rent</td>\n      <td>Employed</td>\n      <td>MSA, Not Principle  City</td>\n      <td>0.0</td>\n      <td>0.0</td>\n      <td>0</td>\n    </tr>\n    <tr>\n      <th>2</th>\n      <td>2</td>\n      <td>1.0</td>\n      <td>1.0</td>\n      <td>0.0</td>\n      <td>1.0</td>\n      <td>0.0</td>\n      <td>0.0</td>\n      <td>0.0</td>\n      <td>0.0</td>\n      <td>0.0</td>\n      <td>...</td>\n      <td>White</td>\n      <td>Male</td>\n      <td>&lt;= $75,000, Above Poverty</td>\n      <td>Not Married</td>\n      <td>Own</td>\n      <td>Employed</td>\n      <td>MSA, Not Principle  City</td>\n      <td>2.0</td>\n      <td>0.0</td>\n      <td>0</td>\n    </tr>\n    <tr>\n      <th>3</th>\n      <td>3</td>\n      <td>1.0</td>\n      <td>1.0</td>\n      <td>0.0</td>\n      <td>1.0</td>\n      <td>0.0</td>\n      <td>1.0</td>\n      <td>1.0</td>\n      <td>0.0</td>\n      <td>0.0</td>\n      <td>...</td>\n      <td>White</td>\n      <td>Female</td>\n      <td>Below Poverty</td>\n      <td>Not Married</td>\n      <td>Rent</td>\n      <td>Not in Labor Force</td>\n      <td>MSA, Principle City</td>\n      <td>0.0</td>\n      <td>0.0</td>\n      <td>0</td>\n    </tr>\n    <tr>\n      <th>4</th>\n      <td>4</td>\n      <td>2.0</td>\n      <td>1.0</td>\n      <td>0.0</td>\n      <td>1.0</td>\n      <td>0.0</td>\n      <td>1.0</td>\n      <td>1.0</td>\n      <td>0.0</td>\n      <td>1.0</td>\n      <td>...</td>\n      <td>White</td>\n      <td>Female</td>\n      <td>&lt;= $75,000, Above Poverty</td>\n      <td>Married</td>\n      <td>Own</td>\n      <td>Employed</td>\n      <td>MSA, Not Principle  City</td>\n      <td>1.0</td>\n      <td>0.0</td>\n      <td>0</td>\n    </tr>\n  </tbody>\n</table>\n<p>5 rows × 34 columns</p>\n</div>"
     },
     "execution_count": 59,
     "metadata": {},
     "output_type": "execute_result"
    }
   ],
   "source": [
    "data = pd.read_csv('h1n1_vaccine_prediction.csv')\n",
    "print(data.shape)\n",
    "data.head()\n",
    "# data.isna().sum()\n",
    "# data['h1n1_worry']\n",
    "# data['h1n1_worry'].unique()"
   ],
   "metadata": {
    "collapsed": false,
    "ExecuteTime": {
     "end_time": "2023-09-05T18:44:08.661923200Z",
     "start_time": "2023-09-05T18:44:08.576054900Z"
    }
   },
   "id": "dea72ee41ad99a83"
  },
  {
   "cell_type": "code",
   "execution_count": 72,
   "outputs": [],
   "source": [
    "X = data.iloc[:,[1,2,3]]\n",
    "y = data.iloc[:,-1]\n",
    "from sklearn.model_selection import train_test_split\n",
    "X_train, X_test, y_train, y_test = train_test_split(X,y,test_size=0.2, random_state=5)\n"
   ],
   "metadata": {
    "collapsed": false,
    "ExecuteTime": {
     "end_time": "2023-09-05T18:51:59.790358800Z",
     "start_time": "2023-09-05T18:51:53.213274400Z"
    }
   },
   "id": "c28cf435b10bdb8"
  }
 ],
 "metadata": {
  "kernelspec": {
   "display_name": "Python 3",
   "language": "python",
   "name": "python3"
  },
  "language_info": {
   "codemirror_mode": {
    "name": "ipython",
    "version": 2
   },
   "file_extension": ".py",
   "mimetype": "text/x-python",
   "name": "python",
   "nbconvert_exporter": "python",
   "pygments_lexer": "ipython2",
   "version": "2.7.6"
  }
 },
 "nbformat": 4,
 "nbformat_minor": 5
}
