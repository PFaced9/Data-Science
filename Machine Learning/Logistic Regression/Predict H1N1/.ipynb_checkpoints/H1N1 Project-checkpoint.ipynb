{
 "cells": [
  {
   "cell_type": "markdown",
   "id": "3916e1e734f200a4",
   "metadata": {},
   "source": [
    "### Importing The Libraries"
   ]
  },
  {
   "cell_type": "code",
   "execution_count": 86,
   "id": "eb943a3fefbf29f6",
   "metadata": {
    "ExecuteTime": {
     "end_time": "2023-09-06T04:57:57.152354Z",
     "start_time": "2023-09-06T04:57:57.082035200Z"
    }
   },
   "outputs": [],
   "source": [
    "import numpy as np\n",
    "import pandas as pd\n",
    "import seaborn as sns\n",
    "import matplotlib.pyplot as plt\n",
    "from warnings import filterwarnings\n",
    "filterwarnings('ignore')"
   ]
  },
  {
   "cell_type": "markdown",
   "id": "7f0639570100b95a",
   "metadata": {},
   "source": [
    "### Analysing The Dataset"
   ]
  },
  {
   "cell_type": "code",
   "execution_count": 99,
   "id": "dea72ee41ad99a83",
   "metadata": {
    "ExecuteTime": {
     "end_time": "2023-09-06T05:09:03.295104600Z",
     "start_time": "2023-09-06T05:09:03.172030500Z"
    }
   },
   "outputs": [
    {
     "name": "stdout",
     "output_type": "stream",
     "text": [
      "(26707, 34)\n"
     ]
    },
    {
     "data": {
      "text/plain": [
       "0.0    25335\n",
       "1.0     1301\n",
       "Name: antiviral_medication, dtype: int64"
      ]
     },
     "execution_count": 99,
     "metadata": {},
     "output_type": "execute_result"
    }
   ],
   "source": [
    "data = pd.read_csv('h1n1_vaccine_prediction.csv')\n",
    "print(data.shape)\n",
    "# data.isna().sum()\n",
    "# data['h1n1_worry']\n",
    "# data['h1n1_worry'].unique()\n",
    "X = data.iloc[:,[1,2,3,4,5]]\n",
    "y = data.iloc[:,-1]\n",
    "data['antiviral_medication'].value_counts()"
   ]
  },
  {
   "cell_type": "markdown",
   "id": "e80beaf1f2ae80b1",
   "metadata": {},
   "source": [
    "### Cleaning The Dataset"
   ]
  },
  {
   "cell_type": "code",
   "execution_count": 88,
   "id": "aed19a0b4be702da",
   "metadata": {
    "ExecuteTime": {
     "end_time": "2023-09-06T04:57:57.281518200Z",
     "start_time": "2023-09-06T04:57:57.236327300Z"
    }
   },
   "outputs": [
    {
     "data": {
      "text/plain": [
       "h1n1_worry                int32\n",
       "h1n1_awareness            int32\n",
       "antiviral_medication      int32\n",
       "contact_avoidance       float64\n",
       "dtype: object"
      ]
     },
     "execution_count": 88,
     "metadata": {},
     "output_type": "execute_result"
    }
   ],
   "source": [
    "# X['h1n1_worry'].value_counts(dropna=False)\n",
    "# X['antiviral_medication'].value_counts(dropna=False)\n",
    "\n",
    "X['h1n1_worry'].fillna(2,inplace=True)\n",
    "X['h1n1_awareness'].fillna(1,inplace=True)\n",
    "X['antiviral_medication'].fillna(0,inplace=True)\n",
    "X['contact_avoidance'].fillna(1,inplace=True)\n",
    "# X['h1n1_worry'].astype(int)\n",
    "# X['h1n1_awareness'].astype(int)\n",
    "# X['antiviral_medication'].astype(int)\n",
    "X = X.astype({\"h1n1_awareness\":'int', \"h1n1_worry\":'int', 'antiviral_medication':'int'}) \n",
    "X.dtypes\n",
    "# X['contact_avoidance'].value_counts(dropna = False)"
   ]
  },
  {
   "cell_type": "markdown",
   "id": "3d6ee63b13098db4",
   "metadata": {},
   "source": [
    "### Splitting The Data"
   ]
  },
  {
   "cell_type": "code",
   "execution_count": 89,
   "id": "c28cf435b10bdb8",
   "metadata": {
    "ExecuteTime": {
     "end_time": "2023-09-06T04:57:57.281518200Z",
     "start_time": "2023-09-06T04:57:57.246895200Z"
    }
   },
   "outputs": [
    {
     "data": {
      "text/html": [
       "<div>\n",
       "<style scoped>\n",
       "    .dataframe tbody tr th:only-of-type {\n",
       "        vertical-align: middle;\n",
       "    }\n",
       "\n",
       "    .dataframe tbody tr th {\n",
       "        vertical-align: top;\n",
       "    }\n",
       "\n",
       "    .dataframe thead th {\n",
       "        text-align: right;\n",
       "    }\n",
       "</style>\n",
       "<table border=\"1\" class=\"dataframe\">\n",
       "  <thead>\n",
       "    <tr style=\"text-align: right;\">\n",
       "      <th></th>\n",
       "      <th>index</th>\n",
       "      <th>h1n1_worry</th>\n",
       "      <th>h1n1_awareness</th>\n",
       "      <th>antiviral_medication</th>\n",
       "      <th>contact_avoidance</th>\n",
       "    </tr>\n",
       "  </thead>\n",
       "  <tbody>\n",
       "    <tr>\n",
       "      <th>0</th>\n",
       "      <td>11193</td>\n",
       "      <td>3</td>\n",
       "      <td>1</td>\n",
       "      <td>1</td>\n",
       "      <td>1.0</td>\n",
       "    </tr>\n",
       "    <tr>\n",
       "      <th>1</th>\n",
       "      <td>18171</td>\n",
       "      <td>2</td>\n",
       "      <td>1</td>\n",
       "      <td>0</td>\n",
       "      <td>0.0</td>\n",
       "    </tr>\n",
       "    <tr>\n",
       "      <th>2</th>\n",
       "      <td>24553</td>\n",
       "      <td>2</td>\n",
       "      <td>1</td>\n",
       "      <td>0</td>\n",
       "      <td>1.0</td>\n",
       "    </tr>\n",
       "    <tr>\n",
       "      <th>3</th>\n",
       "      <td>17744</td>\n",
       "      <td>1</td>\n",
       "      <td>2</td>\n",
       "      <td>0</td>\n",
       "      <td>0.0</td>\n",
       "    </tr>\n",
       "    <tr>\n",
       "      <th>4</th>\n",
       "      <td>5190</td>\n",
       "      <td>0</td>\n",
       "      <td>1</td>\n",
       "      <td>0</td>\n",
       "      <td>1.0</td>\n",
       "    </tr>\n",
       "    <tr>\n",
       "      <th>...</th>\n",
       "      <td>...</td>\n",
       "      <td>...</td>\n",
       "      <td>...</td>\n",
       "      <td>...</td>\n",
       "      <td>...</td>\n",
       "    </tr>\n",
       "    <tr>\n",
       "      <th>21360</th>\n",
       "      <td>3046</td>\n",
       "      <td>2</td>\n",
       "      <td>2</td>\n",
       "      <td>0</td>\n",
       "      <td>1.0</td>\n",
       "    </tr>\n",
       "    <tr>\n",
       "      <th>21361</th>\n",
       "      <td>26301</td>\n",
       "      <td>1</td>\n",
       "      <td>1</td>\n",
       "      <td>0</td>\n",
       "      <td>0.0</td>\n",
       "    </tr>\n",
       "    <tr>\n",
       "      <th>21362</th>\n",
       "      <td>20463</td>\n",
       "      <td>3</td>\n",
       "      <td>1</td>\n",
       "      <td>0</td>\n",
       "      <td>0.0</td>\n",
       "    </tr>\n",
       "    <tr>\n",
       "      <th>21363</th>\n",
       "      <td>18638</td>\n",
       "      <td>1</td>\n",
       "      <td>1</td>\n",
       "      <td>0</td>\n",
       "      <td>1.0</td>\n",
       "    </tr>\n",
       "    <tr>\n",
       "      <th>21364</th>\n",
       "      <td>2915</td>\n",
       "      <td>2</td>\n",
       "      <td>0</td>\n",
       "      <td>0</td>\n",
       "      <td>0.0</td>\n",
       "    </tr>\n",
       "  </tbody>\n",
       "</table>\n",
       "<p>21365 rows × 5 columns</p>\n",
       "</div>"
      ],
      "text/plain": [
       "       index  h1n1_worry  h1n1_awareness  antiviral_medication  \\\n",
       "0      11193           3               1                     1   \n",
       "1      18171           2               1                     0   \n",
       "2      24553           2               1                     0   \n",
       "3      17744           1               2                     0   \n",
       "4       5190           0               1                     0   \n",
       "...      ...         ...             ...                   ...   \n",
       "21360   3046           2               2                     0   \n",
       "21361  26301           1               1                     0   \n",
       "21362  20463           3               1                     0   \n",
       "21363  18638           1               1                     0   \n",
       "21364   2915           2               0                     0   \n",
       "\n",
       "       contact_avoidance  \n",
       "0                    1.0  \n",
       "1                    0.0  \n",
       "2                    1.0  \n",
       "3                    0.0  \n",
       "4                    1.0  \n",
       "...                  ...  \n",
       "21360                1.0  \n",
       "21361                0.0  \n",
       "21362                0.0  \n",
       "21363                1.0  \n",
       "21364                0.0  \n",
       "\n",
       "[21365 rows x 5 columns]"
      ]
     },
     "execution_count": 89,
     "metadata": {},
     "output_type": "execute_result"
    }
   ],
   "source": [
    "from sklearn.model_selection import train_test_split\n",
    "X_train, X_test, y_train, y_test = train_test_split(X,y,test_size=0.2, random_state=5)\n",
    "# X_train['antiviral_medication'].value_counts(dropna=False)\n",
    "X_train.reset_index()"
   ]
  },
  {
   "cell_type": "markdown",
   "id": "d308c6f9bf56b00a",
   "metadata": {},
   "source": [
    "### Scaling The Values"
   ]
  },
  {
   "cell_type": "code",
   "execution_count": 90,
   "id": "932c3f1855f7376a",
   "metadata": {
    "ExecuteTime": {
     "end_time": "2023-09-06T04:57:57.351202300Z",
     "start_time": "2023-09-06T04:57:57.267365500Z"
    }
   },
   "outputs": [],
   "source": [
    "from sklearn.preprocessing import StandardScaler\n",
    "standard = StandardScaler()\n",
    "X_train = standard.fit_transform(X_train)\n",
    "X_train = standard.transform(X_train)"
   ]
  },
  {
   "cell_type": "code",
   "execution_count": 91,
   "id": "fac66bf7f5672252",
   "metadata": {
    "ExecuteTime": {
     "end_time": "2023-09-06T04:57:57.492176400Z",
     "start_time": "2023-09-06T04:57:57.281518200Z"
    }
   },
   "outputs": [
    {
     "data": {
      "text/html": [
       "<style>#sk-container-id-11 {color: black;background-color: white;}#sk-container-id-11 pre{padding: 0;}#sk-container-id-11 div.sk-toggleable {background-color: white;}#sk-container-id-11 label.sk-toggleable__label {cursor: pointer;display: block;width: 100%;margin-bottom: 0;padding: 0.3em;box-sizing: border-box;text-align: center;}#sk-container-id-11 label.sk-toggleable__label-arrow:before {content: \"▸\";float: left;margin-right: 0.25em;color: #696969;}#sk-container-id-11 label.sk-toggleable__label-arrow:hover:before {color: black;}#sk-container-id-11 div.sk-estimator:hover label.sk-toggleable__label-arrow:before {color: black;}#sk-container-id-11 div.sk-toggleable__content {max-height: 0;max-width: 0;overflow: hidden;text-align: left;background-color: #f0f8ff;}#sk-container-id-11 div.sk-toggleable__content pre {margin: 0.2em;color: black;border-radius: 0.25em;background-color: #f0f8ff;}#sk-container-id-11 input.sk-toggleable__control:checked~div.sk-toggleable__content {max-height: 200px;max-width: 100%;overflow: auto;}#sk-container-id-11 input.sk-toggleable__control:checked~label.sk-toggleable__label-arrow:before {content: \"▾\";}#sk-container-id-11 div.sk-estimator input.sk-toggleable__control:checked~label.sk-toggleable__label {background-color: #d4ebff;}#sk-container-id-11 div.sk-label input.sk-toggleable__control:checked~label.sk-toggleable__label {background-color: #d4ebff;}#sk-container-id-11 input.sk-hidden--visually {border: 0;clip: rect(1px 1px 1px 1px);clip: rect(1px, 1px, 1px, 1px);height: 1px;margin: -1px;overflow: hidden;padding: 0;position: absolute;width: 1px;}#sk-container-id-11 div.sk-estimator {font-family: monospace;background-color: #f0f8ff;border: 1px dotted black;border-radius: 0.25em;box-sizing: border-box;margin-bottom: 0.5em;}#sk-container-id-11 div.sk-estimator:hover {background-color: #d4ebff;}#sk-container-id-11 div.sk-parallel-item::after {content: \"\";width: 100%;border-bottom: 1px solid gray;flex-grow: 1;}#sk-container-id-11 div.sk-label:hover label.sk-toggleable__label {background-color: #d4ebff;}#sk-container-id-11 div.sk-serial::before {content: \"\";position: absolute;border-left: 1px solid gray;box-sizing: border-box;top: 0;bottom: 0;left: 50%;z-index: 0;}#sk-container-id-11 div.sk-serial {display: flex;flex-direction: column;align-items: center;background-color: white;padding-right: 0.2em;padding-left: 0.2em;position: relative;}#sk-container-id-11 div.sk-item {position: relative;z-index: 1;}#sk-container-id-11 div.sk-parallel {display: flex;align-items: stretch;justify-content: center;background-color: white;position: relative;}#sk-container-id-11 div.sk-item::before, #sk-container-id-11 div.sk-parallel-item::before {content: \"\";position: absolute;border-left: 1px solid gray;box-sizing: border-box;top: 0;bottom: 0;left: 50%;z-index: -1;}#sk-container-id-11 div.sk-parallel-item {display: flex;flex-direction: column;z-index: 1;position: relative;background-color: white;}#sk-container-id-11 div.sk-parallel-item:first-child::after {align-self: flex-end;width: 50%;}#sk-container-id-11 div.sk-parallel-item:last-child::after {align-self: flex-start;width: 50%;}#sk-container-id-11 div.sk-parallel-item:only-child::after {width: 0;}#sk-container-id-11 div.sk-dashed-wrapped {border: 1px dashed gray;margin: 0 0.4em 0.5em 0.4em;box-sizing: border-box;padding-bottom: 0.4em;background-color: white;}#sk-container-id-11 div.sk-label label {font-family: monospace;font-weight: bold;display: inline-block;line-height: 1.2em;}#sk-container-id-11 div.sk-label-container {text-align: center;}#sk-container-id-11 div.sk-container {/* jupyter's `normalize.less` sets `[hidden] { display: none; }` but bootstrap.min.css set `[hidden] { display: none !important; }` so we also need the `!important` here to be able to override the default hidden behavior on the sphinx rendered scikit-learn.org. See: https://github.com/scikit-learn/scikit-learn/issues/21755 */display: inline-block !important;position: relative;}#sk-container-id-11 div.sk-text-repr-fallback {display: none;}</style><div id=\"sk-container-id-11\" class=\"sk-top-container\"><div class=\"sk-text-repr-fallback\"><pre>LogisticRegression(random_state=0)</pre><b>In a Jupyter environment, please rerun this cell to show the HTML representation or trust the notebook. <br />On GitHub, the HTML representation is unable to render, please try loading this page with nbviewer.org.</b></div><div class=\"sk-container\" hidden><div class=\"sk-item\"><div class=\"sk-estimator sk-toggleable\"><input class=\"sk-toggleable__control sk-hidden--visually\" id=\"sk-estimator-id-11\" type=\"checkbox\" checked><label for=\"sk-estimator-id-11\" class=\"sk-toggleable__label sk-toggleable__label-arrow\">LogisticRegression</label><div class=\"sk-toggleable__content\"><pre>LogisticRegression(random_state=0)</pre></div></div></div></div></div>"
      ],
      "text/plain": [
       "LogisticRegression(random_state=0)"
      ]
     },
     "execution_count": 91,
     "metadata": {},
     "output_type": "execute_result"
    }
   ],
   "source": [
    "from sklearn.linear_model import LogisticRegression\n",
    "classifier = LogisticRegression(random_state = 0)\n",
    "classifier.fit(X_train, y_train)"
   ]
  },
  {
   "cell_type": "code",
   "execution_count": 92,
   "id": "393413d5416a7e1e",
   "metadata": {
    "ExecuteTime": {
     "end_time": "2023-09-06T04:57:57.492176400Z",
     "start_time": "2023-09-06T04:57:57.334838Z"
    }
   },
   "outputs": [
    {
     "name": "stdout",
     "output_type": "stream",
     "text": [
      "[[1487 2726]\n",
      " [ 247  882]]\n"
     ]
    },
    {
     "data": {
      "text/plain": [
       "0.44346686634219395"
      ]
     },
     "execution_count": 92,
     "metadata": {},
     "output_type": "execute_result"
    }
   ],
   "source": [
    "from sklearn.metrics import confusion_matrix, accuracy_score\n",
    "y_pred = classifier.predict(X_test)\n",
    "cm = confusion_matrix(y_test, y_pred)\n",
    "print(cm)\n",
    "accuracy_score(y_test, y_pred)"
   ]
  },
  {
   "cell_type": "code",
   "execution_count": 106,
   "id": "688facfb9f089976",
   "metadata": {
    "ExecuteTime": {
     "end_time": "2023-09-06T05:43:25.094240200Z",
     "start_time": "2023-09-06T05:43:24.668034200Z"
    }
   },
   "outputs": [
    {
     "data": {
      "text/plain": [
       "<Axes: >"
      ]
     },
     "execution_count": 106,
     "metadata": {},
     "output_type": "execute_result"
    },
    {
     "data": {
      "image/png": "[encoded data removed]",
      "text/plain": [
       "<Figure size 640x480 with 2 Axes>"
      ]
     },
     "metadata": {},
     "output_type": "display_data"
    }
   ],
   "source": [
    "cd = X.corr()\n",
    "sns.heatmap(cd, annot=True, cmap='Pastel2_r')"
   ]
  }
 ],
 "metadata": {
  "kernelspec": {
   "display_name": "Python 3 (ipykernel)",
   "language": "python",
   "name": "python3"
  },
  "language_info": {
   "codemirror_mode": {
    "name": "ipython",
    "version": 3
   },
   "file_extension": ".py",
   "mimetype": "text/x-python",
   "name": "python",
   "nbconvert_exporter": "python",
   "pygments_lexer": "ipython3",
   "version": "3.11.3"
  }
 },
 "nbformat": 4,
 "nbformat_minor": 5
}
