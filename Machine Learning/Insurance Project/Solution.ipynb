{
 "cells": [
  {
   "cell_type": "markdown",
   "id": "69d4a436c9c9561e",
   "metadata": {},
   "source": [
    "#### IMPORTING THE LIBRARIES"
   ]
  },
  {
   "cell_type": "code",
   "execution_count": 5,
   "id": "104a9f392cc16a61",
   "metadata": {
    "ExecuteTime": {
     "end_time": "2023-09-04T03:44:52.985996300Z",
     "start_time": "2023-09-04T03:44:52.781506500Z"
    }
   },
   "outputs": [],
   "source": [
    "import pandas as pd\n",
    "import numpy as np\n",
    "import seaborn as sns\n",
    "import matplotlib.pyplot as plt\n",
    "from warnings import filterwarnings\n",
    "filterwarnings('ignore')"
   ]
  },
  {
   "cell_type": "markdown",
   "id": "6a1eba605c1d43ec",
   "metadata": {},
   "source": [
    "#### IMPORTING THE DATA"
   ]
  },
  {
   "cell_type": "code",
   "execution_count": 6,
   "id": "aaeefcd4794b9940",
   "metadata": {
    "ExecuteTime": {
     "end_time": "2023-09-04T03:44:53.017228800Z",
     "start_time": "2023-09-04T03:44:52.812762600Z"
    }
   },
   "outputs": [
    {
     "name": "stdout",
     "output_type": "stream",
     "text": [
      "   age     sex     bmi  children smoker     region      charges\n",
      "0   19  female  27.900         0    yes  southwest  16884.92400\n",
      "1   18    male  33.770         1     no  southeast   1725.55230\n",
      "2   28    male  33.000         3     no  southeast   4449.46200\n",
      "3   33    male  22.705         0     no  northwest  21984.47061\n",
      "4   32    male  28.880         0     no  northwest   3866.85520\n",
      "[[19 'female' 27.9 0 'yes' 'southwest']\n",
      " [18 'male' 33.77 1 'no' 'southeast']\n",
      " [28 'male' 33.0 3 'no' 'southeast']\n",
      " ...\n",
      " [18 'female' 36.85 0 'no' 'southeast']\n",
      " [21 'female' 25.8 0 'no' 'southwest']\n",
      " [61 'female' 29.07 0 'yes' 'northwest']] [16884.924   1725.5523  4449.462  ...  1629.8335  2007.945  29141.3603]\n"
     ]
    }
   ],
   "source": [
    "dataset = pd.read_csv(\"Dataset/insurance.csv\")\n",
    "print(dataset.head())\n",
    "X = dataset.iloc[:,:-1].values\n",
    "Y = dataset.iloc[:,-1].values\n",
    "print(X,Y)"
   ]
  },
  {
   "cell_type": "markdown",
   "id": "b35544ac3d7a97ec",
   "metadata": {},
   "source": [
    "#### ENCODING CATEGORICAL DATA"
   ]
  },
  {
   "cell_type": "code",
   "execution_count": 7,
   "id": "33754881c295369b",
   "metadata": {
    "ExecuteTime": {
     "end_time": "2023-09-04T03:44:53.471110200Z",
     "start_time": "2023-09-04T03:44:52.844481Z"
    }
   },
   "outputs": [
    {
     "name": "stdout",
     "output_type": "stream",
     "text": [
      "[[1.0 0.0 0.0 1.0 0.0 0.0 0.0 1.0 19 27.9 0]\n",
      " [0.0 1.0 1.0 0.0 0.0 0.0 1.0 0.0 18 33.77 1]]\n"
     ]
    }
   ],
   "source": [
    "from sklearn.compose import ColumnTransformer\n",
    "from sklearn.preprocessing import OneHotEncoder\n",
    "ct = ColumnTransformer(transformers=[('encoder', OneHotEncoder(),[1,4,5])], remainder=\"passthrough\")\n",
    "X = np.array((ct.fit_transform(X)))\n",
    "print(X[0:2])"
   ]
  },
  {
   "cell_type": "markdown",
   "id": "5486a041cc8ba79f",
   "metadata": {},
   "source": [
    "#### SPLITTING THE DATA SET INTO THE TRAINING SET AND TEST"
   ]
  },
  {
   "cell_type": "code",
   "execution_count": 8,
   "id": "c30da02e30d624f6",
   "metadata": {
    "ExecuteTime": {
     "end_time": "2023-09-04T03:44:53.633012300Z",
     "start_time": "2023-09-04T03:44:53.471110200Z"
    }
   },
   "outputs": [],
   "source": [
    "from sklearn.model_selection import train_test_split\n",
    "X_train, X_test, Y_train, Y_test = train_test_split(X,Y, test_size=0.3, random_state=0)"
   ]
  },
  {
   "cell_type": "code",
   "execution_count": 8,
   "id": "24c4ed7327d9c441",
   "metadata": {
    "ExecuteTime": {
     "end_time": "2023-09-04T03:44:53.641519900Z",
     "start_time": "2023-09-04T03:44:53.633012300Z"
    }
   },
   "outputs": [],
   "source": []
  },
  {
   "cell_type": "code",
   "execution_count": 9,
   "id": "c3c19679a8406c0",
   "metadata": {
    "ExecuteTime": {
     "end_time": "2023-09-04T03:44:53.908851400Z",
     "start_time": "2023-09-04T03:44:53.633012300Z"
    }
   },
   "outputs": [
    {
     "data": {
      "text/plain": "LinearRegression()",
      "text/html": "<style>#sk-container-id-1 {color: black;background-color: white;}#sk-container-id-1 pre{padding: 0;}#sk-container-id-1 div.sk-toggleable {background-color: white;}#sk-container-id-1 label.sk-toggleable__label {cursor: pointer;display: block;width: 100%;margin-bottom: 0;padding: 0.3em;box-sizing: border-box;text-align: center;}#sk-container-id-1 label.sk-toggleable__label-arrow:before {content: \"▸\";float: left;margin-right: 0.25em;color: #696969;}#sk-container-id-1 label.sk-toggleable__label-arrow:hover:before {color: black;}#sk-container-id-1 div.sk-estimator:hover label.sk-toggleable__label-arrow:before {color: black;}#sk-container-id-1 div.sk-toggleable__content {max-height: 0;max-width: 0;overflow: hidden;text-align: left;background-color: #f0f8ff;}#sk-container-id-1 div.sk-toggleable__content pre {margin: 0.2em;color: black;border-radius: 0.25em;background-color: #f0f8ff;}#sk-container-id-1 input.sk-toggleable__control:checked~div.sk-toggleable__content {max-height: 200px;max-width: 100%;overflow: auto;}#sk-container-id-1 input.sk-toggleable__control:checked~label.sk-toggleable__label-arrow:before {content: \"▾\";}#sk-container-id-1 div.sk-estimator input.sk-toggleable__control:checked~label.sk-toggleable__label {background-color: #d4ebff;}#sk-container-id-1 div.sk-label input.sk-toggleable__control:checked~label.sk-toggleable__label {background-color: #d4ebff;}#sk-container-id-1 input.sk-hidden--visually {border: 0;clip: rect(1px 1px 1px 1px);clip: rect(1px, 1px, 1px, 1px);height: 1px;margin: -1px;overflow: hidden;padding: 0;position: absolute;width: 1px;}#sk-container-id-1 div.sk-estimator {font-family: monospace;background-color: #f0f8ff;border: 1px dotted black;border-radius: 0.25em;box-sizing: border-box;margin-bottom: 0.5em;}#sk-container-id-1 div.sk-estimator:hover {background-color: #d4ebff;}#sk-container-id-1 div.sk-parallel-item::after {content: \"\";width: 100%;border-bottom: 1px solid gray;flex-grow: 1;}#sk-container-id-1 div.sk-label:hover label.sk-toggleable__label {background-color: #d4ebff;}#sk-container-id-1 div.sk-serial::before {content: \"\";position: absolute;border-left: 1px solid gray;box-sizing: border-box;top: 0;bottom: 0;left: 50%;z-index: 0;}#sk-container-id-1 div.sk-serial {display: flex;flex-direction: column;align-items: center;background-color: white;padding-right: 0.2em;padding-left: 0.2em;position: relative;}#sk-container-id-1 div.sk-item {position: relative;z-index: 1;}#sk-container-id-1 div.sk-parallel {display: flex;align-items: stretch;justify-content: center;background-color: white;position: relative;}#sk-container-id-1 div.sk-item::before, #sk-container-id-1 div.sk-parallel-item::before {content: \"\";position: absolute;border-left: 1px solid gray;box-sizing: border-box;top: 0;bottom: 0;left: 50%;z-index: -1;}#sk-container-id-1 div.sk-parallel-item {display: flex;flex-direction: column;z-index: 1;position: relative;background-color: white;}#sk-container-id-1 div.sk-parallel-item:first-child::after {align-self: flex-end;width: 50%;}#sk-container-id-1 div.sk-parallel-item:last-child::after {align-self: flex-start;width: 50%;}#sk-container-id-1 div.sk-parallel-item:only-child::after {width: 0;}#sk-container-id-1 div.sk-dashed-wrapped {border: 1px dashed gray;margin: 0 0.4em 0.5em 0.4em;box-sizing: border-box;padding-bottom: 0.4em;background-color: white;}#sk-container-id-1 div.sk-label label {font-family: monospace;font-weight: bold;display: inline-block;line-height: 1.2em;}#sk-container-id-1 div.sk-label-container {text-align: center;}#sk-container-id-1 div.sk-container {/* jupyter's `normalize.less` sets `[hidden] { display: none; }` but bootstrap.min.css set `[hidden] { display: none !important; }` so we also need the `!important` here to be able to override the default hidden behavior on the sphinx rendered scikit-learn.org. See: https://github.com/scikit-learn/scikit-learn/issues/21755 */display: inline-block !important;position: relative;}#sk-container-id-1 div.sk-text-repr-fallback {display: none;}</style><div id=\"sk-container-id-1\" class=\"sk-top-container\"><div class=\"sk-text-repr-fallback\"><pre>LinearRegression()</pre><b>In a Jupyter environment, please rerun this cell to show the HTML representation or trust the notebook. <br />On GitHub, the HTML representation is unable to render, please try loading this page with nbviewer.org.</b></div><div class=\"sk-container\" hidden><div class=\"sk-item\"><div class=\"sk-estimator sk-toggleable\"><input class=\"sk-toggleable__control sk-hidden--visually\" id=\"sk-estimator-id-1\" type=\"checkbox\" checked><label for=\"sk-estimator-id-1\" class=\"sk-toggleable__label sk-toggleable__label-arrow\">LinearRegression</label><div class=\"sk-toggleable__content\"><pre>LinearRegression()</pre></div></div></div></div></div>"
     },
     "execution_count": 9,
     "metadata": {},
     "output_type": "execute_result"
    }
   ],
   "source": [
    "from sklearn.linear_model import LinearRegression\n",
    "regressor = LinearRegression()\n",
    "regressor.fit(X_train,Y_train)"
   ]
  },
  {
   "cell_type": "markdown",
   "id": "a65c23338c4dab7f",
   "metadata": {},
   "source": [
    "#### TRAINING THE MULTIPLE LINEAR REGRESSION\n"
   ]
  },
  {
   "cell_type": "code",
   "execution_count": 10,
   "id": "dbc446b59e0e0d51",
   "metadata": {
    "ExecuteTime": {
     "end_time": "2023-09-04T03:44:53.987287100Z",
     "start_time": "2023-09-04T03:44:53.908851400Z"
    }
   },
   "outputs": [
    {
     "name": "stdout",
     "output_type": "stream",
     "text": [
      "[[ 1.1253e+04  9.7245e+03]\n",
      " [ 9.5449e+03  8.5477e+03]\n",
      " [ 3.7850e+04  4.5702e+04]\n",
      " [ 1.6069e+04  1.2950e+04]\n",
      " [ 6.7344e+03  9.6443e+03]\n",
      " [ 4.0045e+03  4.5003e+03]\n",
      " [ 1.6058e+03  2.1982e+03]\n",
      " [ 1.4302e+04  1.1437e+04]\n",
      " [ 8.8970e+03  7.5372e+03]\n",
      " [ 7.3411e+03  5.4250e+03]\n",
      " [ 4.6736e+03  6.7530e+03]\n",
      " [ 1.0163e+04  1.0494e+04]\n",
      " [ 8.8922e+03  7.3377e+03]\n",
      " [ 3.7851e+03  4.1851e+03]\n",
      " [ 2.7473e+04  1.8311e+04]\n",
      " [ 1.0854e+04  1.0703e+04]\n",
      " [ 1.1098e+04  1.2524e+04]\n",
      " [ 6.1533e+03  3.4905e+03]\n",
      " [ 8.0581e+03  6.4578e+03]\n",
      " [ 2.6973e+04  3.3476e+04]\n",
      " [ 3.3330e+04  2.3967e+04]\n",
      " [ 1.4251e+04  1.2643e+04]\n",
      " [ 1.1854e+04  2.3046e+04]\n",
      " [ 3.1992e+04  2.3065e+04]\n",
      " [ 4.0894e+03  1.6746e+03]\n",
      " [ 9.3168e+03  4.6676e+03]\n",
      " [ 1.1434e+03  3.7326e+03]\n",
      " [ 9.9127e+03  7.6827e+03]\n",
      " [ 3.7518e+03  3.7566e+03]\n",
      " [ 1.0267e+04  8.4135e+03]\n",
      " [ 8.9001e+03  8.0597e+03]\n",
      " [ 3.9958e+04  4.8970e+04]\n",
      " [ 1.5759e+04  1.2979e+04]\n",
      " [ 1.3931e+04  2.0630e+04]\n",
      " [ 2.4637e+04  1.4572e+04]\n",
      " [ 5.2246e+03  4.1375e+03]\n",
      " [ 1.2665e+04  8.3472e+03]\n",
      " [ 3.0614e+04  5.1195e+04]\n",
      " [ 3.3233e+04  4.0003e+04]\n",
      " [ 3.6617e+03  1.8805e+03]\n",
      " [ 4.0551e+03  5.4580e+03]\n",
      " [ 3.9292e+03  2.8671e+03]\n",
      " [ 3.0411e+04  2.0149e+04]\n",
      " [ 3.9203e+04  4.7496e+04]\n",
      " [ 2.7580e+04  3.6149e+04]\n",
      " [ 4.8932e+03  2.6019e+04]\n",
      " [ 1.0743e+04  1.9749e+04]\n",
      " [ 7.6235e+03  6.9409e+03]\n",
      " [ 3.6901e+03  4.7182e+03]\n",
      " [ 1.0302e+04  2.2192e+04]\n",
      " [ 5.7553e+03  2.8995e+03]\n",
      " [ 3.2601e+03  1.8839e+04]\n",
      " [ 3.2926e+04  2.3568e+04]\n",
      " [ 3.8522e+04  4.6255e+04]\n",
      " [ 1.6099e+04  2.4227e+04]\n",
      " [ 7.1811e+03  3.2688e+03]\n",
      " [ 5.6685e+03  2.3226e+03]\n",
      " [ 9.2341e+03  8.8272e+03]\n",
      " [ 9.0713e+03  1.4478e+04]\n",
      " [ 1.1570e+04  1.3113e+04]\n",
      " [ 1.8151e+03  1.2539e+03]\n",
      " [ 3.8663e+04  4.6718e+04]\n",
      " [ 1.5031e+04  1.3920e+04]\n",
      " [ 1.1917e+04  9.6304e+03]\n",
      " [ 1.4264e+04  1.0737e+04]\n",
      " [ 1.4163e+04  9.8801e+03]\n",
      " [ 2.5576e+04  3.2548e+04]\n",
      " [ 3.1892e+04  3.8746e+04]\n",
      " [ 8.4173e+02  3.1805e+03]\n",
      " [ 1.0058e+04  8.1627e+03]\n",
      " [ 1.2465e+04  1.3042e+04]\n",
      " [ 1.1582e+04  1.1554e+04]\n",
      " [ 2.5038e+04  1.6233e+04]\n",
      " [ 1.5684e+04  1.3888e+04]\n",
      " [ 1.1050e+04  1.3012e+04]\n",
      " [ 1.2790e+04  1.3217e+04]\n",
      " [ 6.5925e+03  7.1471e+03]\n",
      " [ 9.6435e+03  7.7314e+03]\n",
      " [ 3.0132e+04  2.0297e+04]\n",
      " [ 3.9043e+04  4.7404e+04]\n",
      " [ 1.2179e+04  1.1658e+04]\n",
      " [ 3.7127e+04  4.5863e+04]\n",
      " [ 3.9655e+03  2.0553e+03]\n",
      " [ 9.4581e+03  7.4411e+03]\n",
      " [ 3.4777e+04  4.1034e+04]\n",
      " [ 2.8707e+04  1.8972e+04]\n",
      " [ 8.7249e+03  3.4103e+03]\n",
      " [ 4.6408e+03  2.6996e+03]\n",
      " [ 1.2143e+04  1.2334e+04]\n",
      " [ 3.0285e+04  3.6837e+04]\n",
      " [ 1.0246e+04  6.3343e+03]\n",
      " [ 1.1449e+04  1.0215e+04]\n",
      " [ 8.4347e+03  1.7879e+04]\n",
      " [ 8.9883e+03  8.5158e+03]\n",
      " [ 8.4649e+03  4.5188e+03]\n",
      " [ 7.4209e+03  5.1486e+03]\n",
      " [ 3.5948e+04  4.2304e+04]\n",
      " [ 3.3110e+04  3.8999e+04]\n",
      " [ 7.4894e+03  5.3274e+03]\n",
      " [ 1.5193e+04  1.0602e+04]\n",
      " [ 3.9400e+03  1.8243e+03]\n",
      " [ 8.6018e+03  5.3775e+03]\n",
      " [ 6.3627e+03  4.3495e+03]\n",
      " [ 3.1337e+04  3.7743e+04]\n",
      " [ 3.2674e+04  3.2787e+04]\n",
      " [ 1.7269e+03  3.3535e+03]\n",
      " [ 9.0897e+03  1.0577e+04]\n",
      " [ 6.4438e+03  3.5569e+03]\n",
      " [ 1.4683e+04  1.1945e+04]\n",
      " [ 3.7140e+04  5.2591e+04]\n",
      " [ 1.0069e+04  1.2475e+04]\n",
      " [ 1.0591e+04  4.2662e+03]\n",
      " [ 1.0070e+04  9.2495e+03]\n",
      " [ 2.6810e+04  3.3733e+04]\n",
      " [ 3.9777e+04  4.8676e+04]\n",
      " [ 8.5944e+03  7.7296e+03]\n",
      " [ 2.9723e+02  1.9648e+03]\n",
      " [ 9.0603e+03  8.4445e+03]\n",
      " [ 1.5362e+04  1.2347e+04]\n",
      " [ 9.4035e+03  9.3019e+03]\n",
      " [ 3.5066e+04  4.2125e+04]\n",
      " [ 7.0864e+03  9.9910e+03]\n",
      " [ 1.7091e+04  1.4319e+04]\n",
      " [ 9.7812e+03  5.4287e+03]\n",
      " [ 8.3438e+03  7.6270e+03]\n",
      " [ 2.7710e+03  4.9064e+03]\n",
      " [ 3.2887e+04  2.3401e+04]\n",
      " [ 3.1155e+04  2.1099e+04]\n",
      " [ 3.9521e+04  4.8173e+04]\n",
      " [ 5.3021e+03  1.9173e+03]\n",
      " [ 9.3959e+03  8.2192e+03]\n",
      " [ 3.5364e+03  1.7256e+03]\n",
      " [ 7.6797e+03  5.9768e+03]\n",
      " [ 8.7143e+03  9.3613e+03]\n",
      " [ 3.1585e+04  2.2144e+04]\n",
      " [ 2.9802e+04  3.5492e+04]\n",
      " [ 2.9592e+04  1.9516e+04]\n",
      " [ 8.8317e+03  1.0107e+04]\n",
      " [ 3.2343e+04  2.3245e+04]\n",
      " [ 3.1017e+03  2.7891e+03]\n",
      " [ 3.4365e+03  2.2616e+03]\n",
      " [ 1.0930e+04  1.0595e+04]\n",
      " [ 1.3213e+04  9.3047e+03]\n",
      " [ 1.2956e+04  1.0435e+04]\n",
      " [ 5.2215e+03  4.8948e+03]\n",
      " [ 1.5645e+04  1.4314e+04]\n",
      " [ 1.5020e+04  2.8288e+04]\n",
      " [ 2.2201e+03  1.4426e+04]\n",
      " [-2.7653e+02  1.6273e+03]\n",
      " [ 1.0976e+04  2.5517e+04]\n",
      " [ 7.5258e+03  6.5551e+03]\n",
      " [ 3.1611e+04  3.9612e+04]\n",
      " [ 1.2500e+04  9.9641e+03]\n",
      " [ 2.2821e+03  1.7204e+03]\n",
      " [ 6.2334e+03  2.7301e+03]\n",
      " [ 7.8974e+03  6.5002e+03]\n",
      " [ 4.1834e+03  2.6433e+03]\n",
      " [ 2.0607e+03  1.7194e+03]\n",
      " [ 1.1273e+04  1.1086e+04]\n",
      " [ 1.2447e+04  1.0115e+04]\n",
      " [ 7.3870e+03  4.8469e+03]\n",
      " [ 1.6413e+04  1.2983e+04]\n",
      " [ 1.1655e+04  2.8923e+04]\n",
      " [ 1.4183e+04  9.3913e+03]\n",
      " [ 3.2524e+03  4.5442e+03]\n",
      " [ 7.4409e+03  1.7128e+04]\n",
      " [ 2.2951e+04  1.3845e+04]\n",
      " [ 7.7594e+03  6.1132e+03]\n",
      " [ 5.5557e+03  4.4412e+03]\n",
      " [ 5.1402e+03  1.6340e+03]\n",
      " [ 6.5436e+03  4.0587e+03]\n",
      " [ 5.2910e+03  4.4351e+03]\n",
      " [ 9.8657e+03  8.3108e+03]\n",
      " [ 5.3032e+03  1.9869e+03]\n",
      " [ 5.8213e+03  4.2607e+03]\n",
      " [ 6.7126e+03  4.5047e+03]\n",
      " [ 3.7936e+03  4.4289e+03]\n",
      " [ 5.3567e+03  6.1175e+03]\n",
      " [ 3.8105e+04  3.0185e+04]\n",
      " [ 1.4945e+03  1.7089e+03]\n",
      " [ 1.2524e+04  1.1188e+04]\n",
      " [ 8.8160e+03  6.7969e+03]\n",
      " [ 1.3578e+04  1.1357e+04]\n",
      " [ 5.3347e+03  2.4984e+03]\n",
      " [ 5.3003e+03  2.7376e+04]\n",
      " [ 3.6405e+04  2.8101e+04]\n",
      " [ 4.4000e+03  2.2548e+03]\n",
      " [ 2.0768e+03  2.5978e+03]\n",
      " [ 1.5070e+04  1.4693e+04]\n",
      " [ 1.2858e+04  1.0371e+04]\n",
      " [ 3.5048e+04  4.1097e+04]\n",
      " [ 4.8169e+03  3.9820e+03]\n",
      " [ 5.7557e+03  5.4724e+03]\n",
      " [ 3.1057e+04  2.1224e+04]\n",
      " [ 5.9137e+03  2.5344e+03]\n",
      " [ 2.1247e+03  1.9730e+03]\n",
      " [ 8.5547e+03  6.4064e+03]\n",
      " [ 1.0216e+04  6.5518e+03]\n",
      " [ 8.0104e+03  4.0581e+03]\n",
      " [ 5.5673e+03  4.2436e+03]\n",
      " [ 1.3317e+04  1.1512e+04]\n",
      " [ 3.8333e+04  4.6889e+04]\n",
      " [ 1.3644e+04  1.2269e+04]\n",
      " [ 2.8807e+04  1.9200e+04]\n",
      " [ 6.5786e+03  4.4334e+03]\n",
      " [ 3.5416e+04  4.2970e+04]\n",
      " [ 3.8526e+03  2.3241e+04]\n",
      " [ 1.1893e+04  9.1410e+03]\n",
      " [ 9.1169e+03  5.8365e+03]\n",
      " [ 6.1625e+03  1.1494e+03]\n",
      " [ 1.1169e+04  8.7652e+03]\n",
      " [ 1.4705e+04  1.4043e+04]\n",
      " [ 5.0263e+03  5.3122e+03]\n",
      " [ 4.4646e+03  1.0796e+04]\n",
      " [ 7.9629e+03  6.2822e+03]\n",
      " [ 1.3198e+03  1.9696e+03]\n",
      " [ 8.0064e+03  6.7467e+03]\n",
      " [ 4.5232e+03  5.3541e+03]\n",
      " [ 1.3051e+04  1.4001e+04]\n",
      " [ 4.3968e+03  6.8780e+03]\n",
      " [ 1.0246e+04  6.1964e+03]\n",
      " [ 7.3895e+03  7.9865e+03]\n",
      " [ 9.3663e+03  8.2775e+03]\n",
      " [ 2.4450e+03  3.2065e+03]\n",
      " [ 1.3339e+04  1.1848e+04]\n",
      " [ 1.6679e+04  1.4211e+04]\n",
      " [ 1.5055e+04  1.2266e+04]\n",
      " [ 1.0690e+04  1.1837e+04]\n",
      " [ 5.3681e+03  6.6525e+03]\n",
      " [ 2.1657e+03  2.1377e+03]\n",
      " [ 1.8463e+03  1.1315e+03]\n",
      " [ 1.3608e+04  8.3429e+03]\n",
      " [ 1.4105e+04  1.2245e+04]\n",
      " [ 5.1852e+03  4.5612e+03]\n",
      " [ 3.7801e+03  1.7626e+04]\n",
      " [ 9.5759e+03  6.8760e+03]\n",
      " [ 1.0122e+04  9.4474e+03]\n",
      " [ 2.8126e+04  3.4254e+04]\n",
      " [ 7.7331e+03  6.0671e+03]\n",
      " [ 1.0666e+04  1.1730e+04]\n",
      " [ 6.3660e+03  5.3835e+03]\n",
      " [ 2.9486e+04  3.7465e+04]\n",
      " [ 1.1267e+04  7.3718e+03]\n",
      " [ 7.6025e+03  7.3250e+03]\n",
      " [ 1.0100e+04  8.4100e+03]\n",
      " [ 1.2069e+04  1.0462e+04]\n",
      " [ 3.0818e+03  3.2799e+03]\n",
      " [ 1.0699e+04  7.7273e+03]\n",
      " [ 1.5801e+03  2.7319e+03]\n",
      " [ 7.1324e+03  6.8585e+03]\n",
      " [ 2.8289e+04  1.9522e+04]\n",
      " [ 3.8701e+04  4.7305e+04]\n",
      " [ 6.4476e+03  3.9879e+03]\n",
      " [ 8.1826e+03  3.2384e+03]\n",
      " [ 2.5616e+03  7.3237e+03]\n",
      " [ 4.4312e+02  1.7046e+03]\n",
      " [ 1.0632e+04  7.4459e+03]\n",
      " [ 4.1441e+03  1.6298e+03]\n",
      " [ 4.8096e+03  4.8780e+03]\n",
      " [ 2.3503e+03  3.5619e+03]\n",
      " [ 6.9049e+03  8.6054e+03]\n",
      " [ 3.3352e+04  2.4520e+04]\n",
      " [ 3.8189e+04  4.5710e+04]\n",
      " [ 1.4674e+04  1.5020e+04]\n",
      " [ 8.0680e+03  6.6647e+03]\n",
      " [ 1.6243e+04  2.0709e+04]\n",
      " [ 3.2813e+04  4.0932e+04]\n",
      " [ 9.6468e+03  9.5006e+03]\n",
      " [ 3.3569e+04  4.0182e+04]\n",
      " [ 3.2850e+03  1.1375e+03]\n",
      " [ 3.0742e+04  3.8512e+04]\n",
      " [ 8.2740e+03  4.6706e+03]\n",
      " [ 1.4375e+04  1.3019e+04]\n",
      " [ 3.9436e+03  4.1891e+03]\n",
      " [ 3.2068e+04  3.8709e+04]\n",
      " [ 8.5072e+03  5.5948e+03]\n",
      " [ 1.1227e+04  2.7346e+04]\n",
      " [ 9.1784e+03  9.7889e+03]\n",
      " [ 4.0209e+03  2.3622e+03]\n",
      " [ 1.2849e+04  1.3225e+04]\n",
      " [ 1.1588e+04  1.2223e+04]\n",
      " [ 8.2853e+03  4.3204e+03]\n",
      " [ 1.3444e+04  1.2731e+04]\n",
      " [ 2.8802e+03  2.2035e+03]\n",
      " [ 1.0760e+04  6.0797e+03]\n",
      " [ 5.6004e+03  3.5915e+03]\n",
      " [ 1.1044e+04  8.5968e+03]\n",
      " [ 3.1575e+04  2.1771e+04]\n",
      " [ 9.8671e+03  2.9271e+03]\n",
      " [ 1.2715e+03  1.7080e+03]\n",
      " [ 2.8657e+02  2.8037e+03]\n",
      " [ 3.9918e+04  4.8518e+04]\n",
      " [ 9.8211e+03  9.2825e+03]\n",
      " [ 6.9849e+03  4.7383e+03]\n",
      " [ 1.3899e+04  1.2270e+04]\n",
      " [ 1.3606e+04  1.1879e+04]\n",
      " [ 2.7230e+04  3.4166e+04]\n",
      " [ 7.2845e+03  6.4969e+03]\n",
      " [ 6.9944e+03  4.7511e+03]\n",
      " [ 1.2280e+04  8.4578e+03]\n",
      " [ 2.6865e+03  1.6396e+03]\n",
      " [ 3.6366e+03  2.5665e+03]\n",
      " [ 2.4980e+04  1.4456e+04]\n",
      " [ 2.5830e+04  1.6578e+04]\n",
      " [ 1.3103e+04  1.3458e+04]\n",
      " [ 3.3214e+03  2.7213e+03]\n",
      " [ 4.8625e+03  1.8218e+04]\n",
      " [ 9.4981e+03  8.6153e+03]\n",
      " [ 1.2603e+04  9.7228e+03]\n",
      " [ 2.3481e+04  1.4283e+04]\n",
      " [ 3.0519e+04  2.1472e+04]\n",
      " [ 1.0292e+04  5.9724e+03]\n",
      " [ 2.3686e+04  1.4712e+04]\n",
      " [ 2.7021e+03  2.1284e+03]\n",
      " [ 1.1361e+04  5.4387e+03]\n",
      " [ 7.3142e+03  3.9352e+03]\n",
      " [ 8.3733e+03  8.5347e+03]\n",
      " [-1.2009e+01  1.1884e+04]\n",
      " [ 7.8735e+03  6.8374e+03]\n",
      " [ 3.5385e+04  4.2983e+04]\n",
      " [ 6.3488e+03  3.9258e+03]\n",
      " [ 6.4254e+03  1.8903e+04]\n",
      " [ 2.5897e+01  2.1173e+03]\n",
      " [ 1.0657e+04  8.2837e+03]\n",
      " [ 6.5222e+03  3.3667e+03]\n",
      " [ 9.6796e+03  1.1834e+04]\n",
      " [ 3.9021e+04  4.7928e+04]\n",
      " [ 2.7340e+04  1.7362e+04]\n",
      " [ 1.1669e+04  9.2901e+03]\n",
      " [ 3.5295e+04  4.2560e+04]\n",
      " [ 1.5228e+04  1.3224e+04]\n",
      " [ 6.7060e+03  4.4339e+03]\n",
      " [ 1.0744e+04  9.3779e+03]\n",
      " [ 7.0760e+03  3.5976e+03]\n",
      " [ 3.6431e+04  2.9141e+04]\n",
      " [ 5.7722e+03  4.5628e+03]\n",
      " [ 1.1199e+04  1.3616e+04]\n",
      " [ 9.1276e+02  1.8372e+03]\n",
      " [ 2.3924e+04  2.6126e+04]\n",
      " [ 1.7254e+03  3.1763e+03]\n",
      " [ 3.4437e+04  2.5382e+04]\n",
      " [ 1.1189e+04  5.6622e+03]\n",
      " [ 1.6428e+03  2.3530e+03]\n",
      " [ 3.2308e+04  4.0904e+04]\n",
      " [ 6.8393e+03  5.3257e+03]\n",
      " [ 5.3836e+03  4.8839e+03]\n",
      " [ 3.7701e+04  3.0942e+04]\n",
      " [ 2.3852e+03  1.2563e+03]\n",
      " [ 9.7377e+03  8.6062e+03]\n",
      " [ 2.5168e+03  2.2494e+04]\n",
      " [ 1.2992e+04  1.1553e+04]\n",
      " [ 1.1456e+03  3.3789e+03]\n",
      " [ 1.0916e+04  5.1242e+03]\n",
      " [ 6.8212e+03  4.8376e+03]\n",
      " [ 3.6582e+04  4.3254e+04]\n",
      " [ 7.3206e+03  8.2690e+03]\n",
      " [ 3.0362e+04  4.3944e+04]\n",
      " [ 2.9289e+04  3.7165e+04]\n",
      " [ 6.8205e+03  5.4845e+03]\n",
      " [ 1.0935e+04  9.2224e+03]\n",
      " [ 1.7625e+03  1.6357e+03]\n",
      " [ 2.3714e+03  2.9741e+03]\n",
      " [ 3.6794e+03  2.4060e+04]\n",
      " [ 1.2635e+04  2.8469e+04]\n",
      " [ 3.6824e+04  4.4261e+04]\n",
      " [ 9.8828e+03  1.0959e+04]\n",
      " [ 5.2113e+02  1.7374e+03]\n",
      " [ 1.1530e+04  1.2324e+04]\n",
      " [ 4.9673e+03  2.4047e+03]\n",
      " [ 1.0006e+04  7.3451e+03]\n",
      " [ 5.7438e+03  4.0406e+03]\n",
      " [ 7.0757e+03  1.8373e+03]\n",
      " [ 4.0384e+03  2.9029e+03]\n",
      " [ 2.8257e+04  3.6219e+04]\n",
      " [ 4.4463e+03  6.6405e+03]\n",
      " [-1.2419e+03  1.6075e+03]\n",
      " [ 3.2951e+04  3.9872e+04]\n",
      " [ 1.2656e+04  1.0807e+04]\n",
      " [ 3.5991e+04  4.2857e+04]\n",
      " [ 1.0005e+04  1.1346e+04]\n",
      " [ 7.5761e+03  4.4627e+03]\n",
      " [-2.7031e+02  2.1595e+04]\n",
      " [ 2.4488e+03  2.2575e+03]\n",
      " [ 1.1730e+04  1.0118e+04]\n",
      " [ 5.8541e+03  4.7463e+03]\n",
      " [ 3.4855e+03  2.2060e+03]\n",
      " [ 1.2295e+04  1.0797e+04]\n",
      " [ 7.9183e+03  7.1511e+03]\n",
      " [ 7.1094e+03  5.9697e+03]\n",
      " [ 5.6222e+03  4.5642e+03]\n",
      " [ 2.9314e+03  2.6901e+03]\n",
      " [ 3.2069e+04  3.9241e+04]\n",
      " [ 3.4223e+03  1.9095e+03]\n",
      " [ 8.7725e+03  8.9321e+03]\n",
      " [ 4.5868e+03  1.6317e+03]\n",
      " [ 1.3267e+04  7.6508e+03]\n",
      " [ 1.4959e+04  1.0601e+04]\n",
      " [ 7.4128e+03  3.2772e+03]\n",
      " [ 2.6649e+04  1.7942e+04]\n",
      " [ 1.4064e+04  1.0226e+04]\n",
      " [ 1.7140e+04  1.4418e+04]\n",
      " [ 1.1648e+04  1.3451e+04]]\n"
     ]
    }
   ],
   "source": [
    "Y_pred = regressor.predict(X_test)\n",
    "np.set_printoptions(precision=4)\n",
    "print(np.concatenate((Y_pred.reshape(len(Y_pred),1),Y_test.reshape(len(Y_test),1)),1))"
   ]
  },
  {
   "cell_type": "code",
   "execution_count": 11,
   "id": "31dbaabd92e36851",
   "metadata": {
    "ExecuteTime": {
     "end_time": "2023-09-04T03:44:53.987287100Z",
     "start_time": "2023-09-04T03:44:53.955999Z"
    }
   },
   "outputs": [
    {
     "name": "stdout",
     "output_type": "stream",
     "text": [
      "Accuracy : 79.09%"
     ]
    }
   ],
   "source": [
    "from sklearn.metrics import r2_score\n",
    "Accuracy = (r2_score(Y_test, Y_pred)) * 100\n",
    "print(\"Accuracy :\", round(Accuracy,2), end='%') \n"
   ]
  },
  {
   "cell_type": "code",
   "execution_count": 12,
   "id": "c7e092b8dc8c429f",
   "metadata": {
    "ExecuteTime": {
     "end_time": "2023-09-04T03:44:54.806486700Z",
     "start_time": "2023-09-04T03:44:53.971646300Z"
    }
   },
   "outputs": [
    {
     "data": {
      "text/plain": "<Figure size 640x480 with 2 Axes>",
      "image/png": "[encoded data removed]"
     },
     "metadata": {},
     "output_type": "display_data"
    }
   ],
   "source": [
    "sizes = np.random.randint(200, size=len(Y_pred))\n",
    "colors = np.random.randint(60000, size=len(Y_pred))\n",
    "plt.scatter(Y_test, Y_pred, c=colors,cmap='Pastel2', edgecolors='gray' ,s=sizes)\n",
    "plt.plot([min(Y_test), max(Y_test)] , [min(Y_test), max(Y_test)], 'k--', lw=1.5)\n",
    "plt.xlabel(\"True\")\n",
    "plt.ylabel(\"Predicted\")\n",
    "plt.colorbar()\n",
    "plt.show()"
   ]
  },
  {
   "cell_type": "code",
   "execution_count": 13,
   "id": "f2bc1dc187fbd2d2",
   "metadata": {
    "ExecuteTime": {
     "end_time": "2023-09-04T03:44:55.177723200Z",
     "start_time": "2023-09-04T03:44:54.806486700Z"
    }
   },
   "outputs": [
    {
     "data": {
      "text/plain": "<Figure size 640x480 with 2 Axes>",
      "image/png": "[encoded data removed]"
     },
     "metadata": {},
     "output_type": "display_data"
    }
   ],
   "source": [
    "corr_relation = dataset.corr()\n",
    "sns.heatmap(corr_relation, cmap='rocket', annot=True)\n",
    "plt.show()"
   ]
  }
 ],
 "metadata": {
  "kernelspec": {
   "display_name": "Python 3 (ipykernel)",
   "language": "python",
   "name": "python3"
  },
  "language_info": {
   "codemirror_mode": {
    "name": "ipython",
    "version": 3
   },
   "file_extension": ".py",
   "mimetype": "text/x-python",
   "name": "python",
   "nbconvert_exporter": "python",
   "pygments_lexer": "ipython3",
   "version": "3.11.3"
  }
 },
 "nbformat": 4,
 "nbformat_minor": 5
}
