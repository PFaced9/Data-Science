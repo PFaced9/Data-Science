{
 "cells": [
  {
   "cell_type": "markdown",
   "metadata": {},
   "source": [
    "### About the dataset\n",
    "* Temperature:- Temperature in Kelvin\n",
    "* Ro :- Radius of star wrt to the sun\n",
    "* Lo:- Luminosity of the star relative to the sun\n",
    "* Color :- Color of the star\n",
    "* Spectral_Class:- An asteroid spectral type is assigned to asteroids based on their emission spectrum, color, and sometimes albedo. These types are thought to correspond to an asteroid's surface composition.\n",
    "* Type:- Red Dwarf - 0 Brown Dwarf - 1 White Dwarf - 2 Main Sequence - 3 Super Giants - 4 Hyper Giants - 5\n",
    "* Approach Overview\n",
    "#### We used PCA - Principal Component Analysis & Random Forest classification to get an optimum model for the dataset along with some preprocessing and analysis of the data."
   ]
  },
  {
   "cell_type": "markdown",
   "metadata": {},
   "source": [
    "# 1. Importing Dependencies"
   ]
  },
  {
   "cell_type": "code",
   "execution_count": 1,
   "metadata": {
    "execution": {
     "iopub.execute_input": "2023-09-17T14:15:43.791380Z",
     "iopub.status.busy": "2023-09-17T14:15:43.790304Z",
     "iopub.status.idle": "2023-09-17T14:15:43.803142Z",
     "shell.execute_reply": "2023-09-17T14:15:43.801758Z",
     "shell.execute_reply.started": "2023-09-17T14:15:43.791329Z"
    }
   },
   "outputs": [],
   "source": [
    "import pandas as pd \n",
    "import numpy as np\n",
    "import matplotlib.pyplot as plt\n",
    "import seaborn as sns\n",
    "from warnings import filterwarnings\n",
    "filterwarnings('ignore')\n",
    "import time\n",
    "from sklearn.preprocessing import StandardScaler\n",
    "from sklearn.preprocessing import LabelEncoder\n",
    "from sklearn.decomposition import PCA\n",
    "from sklearn.ensemble import RandomForestClassifier\n",
    "from sklearn.metrics import accuracy_score\n",
    "pd.options.display.max_columns = None\n",
    "pd.options.display.max_rows = 80\n",
    "%matplotlib inline"
   ]
  },
  {
   "cell_type": "markdown",
   "metadata": {},
   "source": [
    "# 2. Reading Dataset"
   ]
  },
  {
   "cell_type": "code",
   "execution_count": 2,
   "metadata": {
    "execution": {
     "iopub.execute_input": "2023-09-17T14:15:43.806387Z",
     "iopub.status.busy": "2023-09-17T14:15:43.805399Z",
     "iopub.status.idle": "2023-09-17T14:15:43.837717Z",
     "shell.execute_reply": "2023-09-17T14:15:43.836141Z",
     "shell.execute_reply.started": "2023-09-17T14:15:43.806338Z"
    },
    "is_executing": true
   },
   "outputs": [
    {
     "data": {
      "text/html": [
       "<div>\n",
       "<style scoped>\n",
       "    .dataframe tbody tr th:only-of-type {\n",
       "        vertical-align: middle;\n",
       "    }\n",
       "\n",
       "    .dataframe tbody tr th {\n",
       "        vertical-align: top;\n",
       "    }\n",
       "\n",
       "    .dataframe thead th {\n",
       "        text-align: right;\n",
       "    }\n",
       "</style>\n",
       "<table border=\"1\" class=\"dataframe\">\n",
       "  <thead>\n",
       "    <tr style=\"text-align: right;\">\n",
       "      <th></th>\n",
       "      <th>Temperature</th>\n",
       "      <th>L</th>\n",
       "      <th>R</th>\n",
       "      <th>A_M</th>\n",
       "      <th>Color</th>\n",
       "      <th>Spectral_Class</th>\n",
       "      <th>Type</th>\n",
       "    </tr>\n",
       "  </thead>\n",
       "  <tbody>\n",
       "    <tr>\n",
       "      <th>0</th>\n",
       "      <td>3068</td>\n",
       "      <td>0.002400</td>\n",
       "      <td>0.1700</td>\n",
       "      <td>16.12</td>\n",
       "      <td>Red</td>\n",
       "      <td>M</td>\n",
       "      <td>0</td>\n",
       "    </tr>\n",
       "    <tr>\n",
       "      <th>1</th>\n",
       "      <td>3042</td>\n",
       "      <td>0.000500</td>\n",
       "      <td>0.1542</td>\n",
       "      <td>16.60</td>\n",
       "      <td>Red</td>\n",
       "      <td>M</td>\n",
       "      <td>0</td>\n",
       "    </tr>\n",
       "    <tr>\n",
       "      <th>2</th>\n",
       "      <td>2600</td>\n",
       "      <td>0.000300</td>\n",
       "      <td>0.1020</td>\n",
       "      <td>18.70</td>\n",
       "      <td>Red</td>\n",
       "      <td>M</td>\n",
       "      <td>0</td>\n",
       "    </tr>\n",
       "    <tr>\n",
       "      <th>3</th>\n",
       "      <td>2800</td>\n",
       "      <td>0.000200</td>\n",
       "      <td>0.1600</td>\n",
       "      <td>16.65</td>\n",
       "      <td>Red</td>\n",
       "      <td>M</td>\n",
       "      <td>0</td>\n",
       "    </tr>\n",
       "    <tr>\n",
       "      <th>4</th>\n",
       "      <td>1939</td>\n",
       "      <td>0.000138</td>\n",
       "      <td>0.1030</td>\n",
       "      <td>20.06</td>\n",
       "      <td>Red</td>\n",
       "      <td>M</td>\n",
       "      <td>0</td>\n",
       "    </tr>\n",
       "  </tbody>\n",
       "</table>\n",
       "</div>"
      ],
      "text/plain": [
       "   Temperature         L       R    A_M Color Spectral_Class  Type\n",
       "0         3068  0.002400  0.1700  16.12   Red              M     0\n",
       "1         3042  0.000500  0.1542  16.60   Red              M     0\n",
       "2         2600  0.000300  0.1020  18.70   Red              M     0\n",
       "3         2800  0.000200  0.1600  16.65   Red              M     0\n",
       "4         1939  0.000138  0.1030  20.06   Red              M     0"
      ]
     },
     "execution_count": 2,
     "metadata": {},
     "output_type": "execute_result"
    }
   ],
   "source": [
    "data = pd.read_csv('Stars.csv')\n",
    "data.head()"
   ]
  },
  {
   "cell_type": "markdown",
   "metadata": {},
   "source": [
    "# 3. Understanding Data"
   ]
  },
  {
   "cell_type": "code",
   "execution_count": 3,
   "metadata": {
    "execution": {
     "iopub.execute_input": "2023-09-17T14:15:43.840243Z",
     "iopub.status.busy": "2023-09-17T14:15:43.839560Z",
     "iopub.status.idle": "2023-09-17T14:15:43.846942Z",
     "shell.execute_reply": "2023-09-17T14:15:43.845864Z",
     "shell.execute_reply.started": "2023-09-17T14:15:43.840181Z"
    }
   },
   "outputs": [
    {
     "data": {
      "text/plain": [
       "(240, 7)"
      ]
     },
     "execution_count": 3,
     "metadata": {},
     "output_type": "execute_result"
    }
   ],
   "source": [
    "data.shape"
   ]
  },
  {
   "cell_type": "markdown",
   "metadata": {},
   "source": [
    "#### It's a compartively `small dataset` with 240 rows and 7 features"
   ]
  },
  {
   "cell_type": "code",
   "execution_count": 4,
   "metadata": {
    "execution": {
     "iopub.execute_input": "2023-09-17T14:15:43.850366Z",
     "iopub.status.busy": "2023-09-17T14:15:43.849959Z",
     "iopub.status.idle": "2023-09-17T14:15:43.872509Z",
     "shell.execute_reply": "2023-09-17T14:15:43.871308Z",
     "shell.execute_reply.started": "2023-09-17T14:15:43.850334Z"
    }
   },
   "outputs": [
    {
     "name": "stdout",
     "output_type": "stream",
     "text": [
      "<class 'pandas.core.frame.DataFrame'>\n",
      "RangeIndex: 240 entries, 0 to 239\n",
      "Data columns (total 7 columns):\n",
      " #   Column          Non-Null Count  Dtype  \n",
      "---  ------          --------------  -----  \n",
      " 0   Temperature     240 non-null    int64  \n",
      " 1   L               240 non-null    float64\n",
      " 2   R               240 non-null    float64\n",
      " 3   A_M             240 non-null    float64\n",
      " 4   Color           240 non-null    object \n",
      " 5   Spectral_Class  240 non-null    object \n",
      " 6   Type            240 non-null    int64  \n",
      "dtypes: float64(3), int64(2), object(2)\n",
      "memory usage: 13.3+ KB\n"
     ]
    }
   ],
   "source": [
    "data.info()"
   ]
  },
  {
   "cell_type": "markdown",
   "metadata": {},
   "source": [
    "#### We have 2 `int`, 3 `float`, 2 `objects` datatypes."
   ]
  },
  {
   "cell_type": "markdown",
   "metadata": {},
   "source": [
    "## 3.1 Checking Null Values"
   ]
  },
  {
   "cell_type": "code",
   "execution_count": 5,
   "metadata": {
    "execution": {
     "iopub.execute_input": "2023-09-17T14:15:43.878595Z",
     "iopub.status.busy": "2023-09-17T14:15:43.877625Z",
     "iopub.status.idle": "2023-09-17T14:15:43.890468Z",
     "shell.execute_reply": "2023-09-17T14:15:43.888280Z",
     "shell.execute_reply.started": "2023-09-17T14:15:43.878551Z"
    }
   },
   "outputs": [
    {
     "data": {
      "text/plain": [
       "Temperature       0\n",
       "L                 0\n",
       "R                 0\n",
       "A_M               0\n",
       "Color             0\n",
       "Spectral_Class    0\n",
       "Type              0\n",
       "dtype: int64"
      ]
     },
     "execution_count": 5,
     "metadata": {},
     "output_type": "execute_result"
    }
   ],
   "source": [
    "data.isnull().sum()"
   ]
  },
  {
   "cell_type": "markdown",
   "metadata": {},
   "source": [
    "#### We have `zero` missing values."
   ]
  },
  {
   "cell_type": "markdown",
   "metadata": {},
   "source": [
    "## 3.2 Checking Different Types Of Categories"
   ]
  },
  {
   "cell_type": "code",
   "execution_count": 6,
   "metadata": {
    "execution": {
     "iopub.execute_input": "2023-09-17T14:15:43.893328Z",
     "iopub.status.busy": "2023-09-17T14:15:43.892122Z",
     "iopub.status.idle": "2023-09-17T14:15:43.920504Z",
     "shell.execute_reply": "2023-09-17T14:15:43.918116Z",
     "shell.execute_reply.started": "2023-09-17T14:15:43.893278Z"
    }
   },
   "outputs": [
    {
     "name": "stdout",
     "output_type": "stream",
     "text": [
      "3600     3\n",
      "3218     2\n",
      "2650     2\n",
      "3625     2\n",
      "3324     2\n",
      "        ..\n",
      "10980    1\n",
      "13720    1\n",
      "19860    1\n",
      "5300     1\n",
      "37882    1\n",
      "Name: Temperature, Length: 228, dtype: int64\n",
      "200000.00000    5\n",
      "0.00067         3\n",
      "0.00014         3\n",
      "0.00098         3\n",
      "0.00050         2\n",
      "               ..\n",
      "0.59000         1\n",
      "0.15300         1\n",
      "0.08500         1\n",
      "0.35700         1\n",
      "294903.00000    1\n",
      "Name: L, Length: 208, dtype: int64\n",
      "36.0000      3\n",
      "0.1100       3\n",
      "1324.0000    3\n",
      "0.2400       3\n",
      "83.0000      2\n",
      "            ..\n",
      "0.0089       1\n",
      "0.0109       1\n",
      "0.0087       1\n",
      "0.0131       1\n",
      "1783.0000    1\n",
      "Name: R, Length: 216, dtype: int64\n",
      " 12.23    3\n",
      " 11.34    2\n",
      "-10.70    2\n",
      "-7.22     2\n",
      " 14.23    2\n",
      "         ..\n",
      " 13.78    1\n",
      " 12.45    1\n",
      " 12.17    1\n",
      " 12.13    1\n",
      "-7.80     1\n",
      "Name: A_M, Length: 228, dtype: int64\n",
      "Red                   112\n",
      "Blue                   56\n",
      "Blue-white             26\n",
      "Blue White             10\n",
      "yellow-white            8\n",
      "White                   7\n",
      "Blue white              4\n",
      "white                   3\n",
      "Yellowish White         3\n",
      "yellowish               2\n",
      "Whitish                 2\n",
      "Orange                  2\n",
      "White-Yellow            1\n",
      "Pale yellow orange      1\n",
      "Yellowish               1\n",
      "Orange-Red              1\n",
      "Blue-White              1\n",
      "Name: Color, dtype: int64\n",
      "M    111\n",
      "B     46\n",
      "O     40\n",
      "A     19\n",
      "F     17\n",
      "K      6\n",
      "G      1\n",
      "Name: Spectral_Class, dtype: int64\n",
      "0    40\n",
      "1    40\n",
      "2    40\n",
      "3    40\n",
      "4    40\n",
      "5    40\n",
      "Name: Type, dtype: int64\n"
     ]
    }
   ],
   "source": [
    "for col in data.columns:\n",
    "    print(data[col].value_counts())"
   ]
  },
  {
   "cell_type": "markdown",
   "metadata": {},
   "source": [
    "#### There are multiple categories with Small name in `Color Category` example: Blue-White, Blue-white, Blue White and many other. We need to `clean` them."
   ]
  },
  {
   "cell_type": "code",
   "execution_count": 7,
   "metadata": {
    "execution": {
     "iopub.execute_input": "2023-09-17T14:15:43.923063Z",
     "iopub.status.busy": "2023-09-17T14:15:43.922542Z",
     "iopub.status.idle": "2023-09-17T14:15:43.932124Z",
     "shell.execute_reply": "2023-09-17T14:15:43.931023Z",
     "shell.execute_reply.started": "2023-09-17T14:15:43.923017Z"
    }
   },
   "outputs": [
    {
     "data": {
      "text/plain": [
       "array(['Red', 'Blue White', 'White', 'Yellowish White', 'Blue white',\n",
       "       'Pale yellow orange', 'Blue', 'Blue-white', 'Whitish',\n",
       "       'yellow-white', 'Orange', 'White-Yellow', 'white', 'yellowish',\n",
       "       'Yellowish', 'Orange-Red', 'Blue-White'], dtype=object)"
      ]
     },
     "execution_count": 7,
     "metadata": {},
     "output_type": "execute_result"
    }
   ],
   "source": [
    "data['Color'].unique()"
   ]
  },
  {
   "cell_type": "code",
   "execution_count": 8,
   "metadata": {
    "execution": {
     "iopub.execute_input": "2023-09-17T14:15:43.934593Z",
     "iopub.status.busy": "2023-09-17T14:15:43.933902Z",
     "iopub.status.idle": "2023-09-17T14:15:44.911318Z",
     "shell.execute_reply": "2023-09-17T14:15:44.909267Z",
     "shell.execute_reply.started": "2023-09-17T14:15:43.934550Z"
    }
   },
   "outputs": [
    {
     "data": {
      "text/plain": [
       "<seaborn.axisgrid.FacetGrid at 0x21e3cb6b790>"
      ]
     },
     "execution_count": 8,
     "metadata": {},
     "output_type": "execute_result"
    },
    {
     "data": {
      "image/png": "[encoded data removed]",
      "text/plain": [
       "<Figure size 1735.9x1227 with 1 Axes>"
      ]
     },
     "metadata": {},
     "output_type": "display_data"
    }
   ],
   "source": [
    "sns.displot(x='Color', data=data,height=12.27, aspect=11.7/8.27, kde=True, color='Black')"
   ]
  },
  {
   "cell_type": "markdown",
   "metadata": {},
   "source": [
    "#### There are 17 types of Colors but Actual Groups should be just : `Red, Blue, White, Blue White, Yellow Shade`."
   ]
  },
  {
   "cell_type": "code",
   "execution_count": 9,
   "metadata": {
    "execution": {
     "iopub.execute_input": "2023-09-17T14:15:44.917253Z",
     "iopub.status.busy": "2023-09-17T14:15:44.916732Z",
     "iopub.status.idle": "2023-09-17T14:15:44.929517Z",
     "shell.execute_reply": "2023-09-17T14:15:44.927956Z",
     "shell.execute_reply.started": "2023-09-17T14:15:44.917207Z"
    }
   },
   "outputs": [],
   "source": [
    "color_mapping = {\n",
    "    'Red': 'Red',\n",
    "    'Orange-Red': 'Red',\n",
    "    'Blue White': 'Blue White',\n",
    "    'Blue white': 'Blue White',\n",
    "    'Blue': 'Blue',\n",
    "    'Blue-white': 'Blue White',\n",
    "    'Blue-White': 'Blue White',\n",
    "    'White': 'White',\n",
    "    'Whitish': 'White',\n",
    "    'white': 'White',\n",
    "    'Yellowish White': 'Yellow Shade',\n",
    "    'yellow-white': 'Yellow Shade',\n",
    "    'White-Yellow': 'Yellow Shade',\n",
    "    'yellowish': 'Yellow Shade',\n",
    "    'Yellowish': 'Yellow Shade',\n",
    "    'Pale yellow orange': 'Yellow Shade',\n",
    "    'Orange': 'Red'\n",
    "}\n",
    "\n",
    "data['Category'] = data['Color'].map(color_mapping)\n",
    "# Added Orange in Red group because Orange is occuring just 2 times."
   ]
  },
  {
   "cell_type": "code",
   "execution_count": 10,
   "metadata": {
    "execution": {
     "iopub.execute_input": "2023-09-17T14:15:44.931959Z",
     "iopub.status.busy": "2023-09-17T14:15:44.931507Z",
     "iopub.status.idle": "2023-09-17T14:15:44.948463Z",
     "shell.execute_reply": "2023-09-17T14:15:44.947246Z",
     "shell.execute_reply.started": "2023-09-17T14:15:44.931919Z"
    }
   },
   "outputs": [],
   "source": [
    "data = data.drop(['Color'], axis=1)\n",
    "data = data.rename(columns={'Category':'Color'})"
   ]
  },
  {
   "cell_type": "code",
   "execution_count": 11,
   "metadata": {
    "execution": {
     "iopub.execute_input": "2023-09-17T14:15:44.950995Z",
     "iopub.status.busy": "2023-09-17T14:15:44.950438Z",
     "iopub.status.idle": "2023-09-17T14:15:44.967983Z",
     "shell.execute_reply": "2023-09-17T14:15:44.966430Z",
     "shell.execute_reply.started": "2023-09-17T14:15:44.950946Z"
    }
   },
   "outputs": [
    {
     "data": {
      "text/plain": [
       "Red             115\n",
       "Blue             56\n",
       "Blue White       41\n",
       "Yellow Shade     16\n",
       "White            12\n",
       "Name: Color, dtype: int64"
      ]
     },
     "execution_count": 11,
     "metadata": {},
     "output_type": "execute_result"
    }
   ],
   "source": [
    "data['Color'].value_counts()"
   ]
  },
  {
   "cell_type": "code",
   "execution_count": 12,
   "metadata": {
    "execution": {
     "iopub.execute_input": "2023-09-17T14:15:44.970631Z",
     "iopub.status.busy": "2023-09-17T14:15:44.970092Z",
     "iopub.status.idle": "2023-09-17T14:15:45.433184Z",
     "shell.execute_reply": "2023-09-17T14:15:45.431893Z",
     "shell.execute_reply.started": "2023-09-17T14:15:44.970595Z"
    }
   },
   "outputs": [
    {
     "data": {
      "image/png": "[encoded data removed]",
      "text/plain": [
       "<Figure size 554.401x527 with 1 Axes>"
      ]
     },
     "metadata": {},
     "output_type": "display_data"
    }
   ],
   "source": [
    "sns.displot(x='Color', data=data,height=5.27, aspect=8.7/8.27,color='red')\n",
    "plt.show()"
   ]
  },
  {
   "cell_type": "code",
   "execution_count": 13,
   "metadata": {
    "execution": {
     "iopub.execute_input": "2023-09-17T14:15:45.436514Z",
     "iopub.status.busy": "2023-09-17T14:15:45.435576Z",
     "iopub.status.idle": "2023-09-17T14:15:45.816282Z",
     "shell.execute_reply": "2023-09-17T14:15:45.814908Z",
     "shell.execute_reply.started": "2023-09-17T14:15:45.436461Z"
    }
   },
   "outputs": [
    {
     "data": {
      "image/png": "[encoded data removed]",
      "text/plain": [
       "<Figure size 640x480 with 2 Axes>"
      ]
     },
     "metadata": {},
     "output_type": "display_data"
    }
   ],
   "source": [
    "data_corr = data.drop(columns=['Color', 'Spectral_Class', 'Type']).corr()\n",
    "sns.heatmap(data_corr, annot=True, fmt='0.2f', linewidth=0.45, cmap='Greens')\n",
    "plt.show()"
   ]
  },
  {
   "cell_type": "code",
   "execution_count": 14,
   "metadata": {
    "execution": {
     "iopub.execute_input": "2023-09-17T14:15:45.818418Z",
     "iopub.status.busy": "2023-09-17T14:15:45.818019Z",
     "iopub.status.idle": "2023-09-17T14:15:45.825744Z",
     "shell.execute_reply": "2023-09-17T14:15:45.824012Z",
     "shell.execute_reply.started": "2023-09-17T14:15:45.818386Z"
    }
   },
   "outputs": [],
   "source": [
    "data2 = data.copy()"
   ]
  },
  {
   "cell_type": "markdown",
   "metadata": {
    "execution": {
     "iopub.execute_input": "2023-09-17T13:40:54.200855Z",
     "iopub.status.busy": "2023-09-17T13:40:54.200434Z",
     "iopub.status.idle": "2023-09-17T13:40:54.209859Z",
     "shell.execute_reply": "2023-09-17T13:40:54.208988Z",
     "shell.execute_reply.started": "2023-09-17T13:40:54.200822Z"
    }
   },
   "source": [
    "# Encoding "
   ]
  },
  {
   "cell_type": "code",
   "execution_count": 15,
   "metadata": {
    "execution": {
     "iopub.execute_input": "2023-09-17T14:15:45.827849Z",
     "iopub.status.busy": "2023-09-17T14:15:45.827401Z",
     "iopub.status.idle": "2023-09-17T14:15:45.853371Z",
     "shell.execute_reply": "2023-09-17T14:15:45.851865Z",
     "shell.execute_reply.started": "2023-09-17T14:15:45.827808Z"
    }
   },
   "outputs": [
    {
     "data": {
      "text/html": [
       "<div>\n",
       "<style scoped>\n",
       "    .dataframe tbody tr th:only-of-type {\n",
       "        vertical-align: middle;\n",
       "    }\n",
       "\n",
       "    .dataframe tbody tr th {\n",
       "        vertical-align: top;\n",
       "    }\n",
       "\n",
       "    .dataframe thead th {\n",
       "        text-align: right;\n",
       "    }\n",
       "</style>\n",
       "<table border=\"1\" class=\"dataframe\">\n",
       "  <thead>\n",
       "    <tr style=\"text-align: right;\">\n",
       "      <th></th>\n",
       "      <th>Temperature</th>\n",
       "      <th>L</th>\n",
       "      <th>R</th>\n",
       "      <th>A_M</th>\n",
       "      <th>Spectral_Class</th>\n",
       "      <th>Type</th>\n",
       "      <th>Color</th>\n",
       "    </tr>\n",
       "  </thead>\n",
       "  <tbody>\n",
       "    <tr>\n",
       "      <th>0</th>\n",
       "      <td>3068</td>\n",
       "      <td>0.002400</td>\n",
       "      <td>0.1700</td>\n",
       "      <td>16.12</td>\n",
       "      <td>M</td>\n",
       "      <td>0</td>\n",
       "      <td>Red</td>\n",
       "    </tr>\n",
       "    <tr>\n",
       "      <th>1</th>\n",
       "      <td>3042</td>\n",
       "      <td>0.000500</td>\n",
       "      <td>0.1542</td>\n",
       "      <td>16.60</td>\n",
       "      <td>M</td>\n",
       "      <td>0</td>\n",
       "      <td>Red</td>\n",
       "    </tr>\n",
       "    <tr>\n",
       "      <th>2</th>\n",
       "      <td>2600</td>\n",
       "      <td>0.000300</td>\n",
       "      <td>0.1020</td>\n",
       "      <td>18.70</td>\n",
       "      <td>M</td>\n",
       "      <td>0</td>\n",
       "      <td>Red</td>\n",
       "    </tr>\n",
       "    <tr>\n",
       "      <th>3</th>\n",
       "      <td>2800</td>\n",
       "      <td>0.000200</td>\n",
       "      <td>0.1600</td>\n",
       "      <td>16.65</td>\n",
       "      <td>M</td>\n",
       "      <td>0</td>\n",
       "      <td>Red</td>\n",
       "    </tr>\n",
       "    <tr>\n",
       "      <th>4</th>\n",
       "      <td>1939</td>\n",
       "      <td>0.000138</td>\n",
       "      <td>0.1030</td>\n",
       "      <td>20.06</td>\n",
       "      <td>M</td>\n",
       "      <td>0</td>\n",
       "      <td>Red</td>\n",
       "    </tr>\n",
       "    <tr>\n",
       "      <th>5</th>\n",
       "      <td>2840</td>\n",
       "      <td>0.000650</td>\n",
       "      <td>0.1100</td>\n",
       "      <td>16.98</td>\n",
       "      <td>M</td>\n",
       "      <td>0</td>\n",
       "      <td>Red</td>\n",
       "    </tr>\n",
       "    <tr>\n",
       "      <th>6</th>\n",
       "      <td>2637</td>\n",
       "      <td>0.000730</td>\n",
       "      <td>0.1270</td>\n",
       "      <td>17.22</td>\n",
       "      <td>M</td>\n",
       "      <td>0</td>\n",
       "      <td>Red</td>\n",
       "    </tr>\n",
       "    <tr>\n",
       "      <th>7</th>\n",
       "      <td>2600</td>\n",
       "      <td>0.000400</td>\n",
       "      <td>0.0960</td>\n",
       "      <td>17.40</td>\n",
       "      <td>M</td>\n",
       "      <td>0</td>\n",
       "      <td>Red</td>\n",
       "    </tr>\n",
       "    <tr>\n",
       "      <th>8</th>\n",
       "      <td>2650</td>\n",
       "      <td>0.000690</td>\n",
       "      <td>0.1100</td>\n",
       "      <td>17.45</td>\n",
       "      <td>M</td>\n",
       "      <td>0</td>\n",
       "      <td>Red</td>\n",
       "    </tr>\n",
       "  </tbody>\n",
       "</table>\n",
       "</div>"
      ],
      "text/plain": [
       "   Temperature         L       R    A_M Spectral_Class  Type Color\n",
       "0         3068  0.002400  0.1700  16.12              M     0   Red\n",
       "1         3042  0.000500  0.1542  16.60              M     0   Red\n",
       "2         2600  0.000300  0.1020  18.70              M     0   Red\n",
       "3         2800  0.000200  0.1600  16.65              M     0   Red\n",
       "4         1939  0.000138  0.1030  20.06              M     0   Red\n",
       "5         2840  0.000650  0.1100  16.98              M     0   Red\n",
       "6         2637  0.000730  0.1270  17.22              M     0   Red\n",
       "7         2600  0.000400  0.0960  17.40              M     0   Red\n",
       "8         2650  0.000690  0.1100  17.45              M     0   Red"
      ]
     },
     "execution_count": 15,
     "metadata": {},
     "output_type": "execute_result"
    }
   ],
   "source": [
    "data2.head(9)"
   ]
  },
  {
   "cell_type": "markdown",
   "metadata": {
    "execution": {
     "iopub.execute_input": "2023-09-17T13:42:20.495105Z",
     "iopub.status.busy": "2023-09-17T13:42:20.494684Z",
     "iopub.status.idle": "2023-09-17T13:42:20.501705Z",
     "shell.execute_reply": "2023-09-17T13:42:20.500514Z",
     "shell.execute_reply.started": "2023-09-17T13:42:20.495072Z"
    }
   },
   "source": [
    "#### There are 2 Columns we need to apply encoding on. \n",
    "* Spectral_Class\n",
    "* Color"
   ]
  },
  {
   "cell_type": "code",
   "execution_count": 16,
   "metadata": {
    "execution": {
     "iopub.execute_input": "2023-09-17T14:15:45.855458Z",
     "iopub.status.busy": "2023-09-17T14:15:45.855041Z",
     "iopub.status.idle": "2023-09-17T14:15:45.870622Z",
     "shell.execute_reply": "2023-09-17T14:15:45.869018Z",
     "shell.execute_reply.started": "2023-09-17T14:15:45.855426Z"
    }
   },
   "outputs": [],
   "source": [
    "le = LabelEncoder()\n",
    "data2['Color'] = le.fit_transform(data2['Color'])\n",
    "data2['Spectral_Class'] = le.fit_transform(data2['Spectral_Class'])"
   ]
  },
  {
   "cell_type": "markdown",
   "metadata": {},
   "source": [
    "# Splitting The Data"
   ]
  },
  {
   "cell_type": "code",
   "execution_count": 17,
   "metadata": {
    "execution": {
     "iopub.execute_input": "2023-09-17T14:15:45.872605Z",
     "iopub.status.busy": "2023-09-17T14:15:45.872229Z",
     "iopub.status.idle": "2023-09-17T14:15:45.885657Z",
     "shell.execute_reply": "2023-09-17T14:15:45.884399Z",
     "shell.execute_reply.started": "2023-09-17T14:15:45.872577Z"
    }
   },
   "outputs": [],
   "source": [
    "X = data2.drop(columns=['Type'])\n",
    "y = data2['Type']"
   ]
  },
  {
   "cell_type": "markdown",
   "metadata": {
    "execution": {
     "iopub.execute_input": "2023-09-17T13:48:34.586363Z",
     "iopub.status.busy": "2023-09-17T13:48:34.585972Z",
     "iopub.status.idle": "2023-09-17T13:48:34.607003Z",
     "shell.execute_reply": "2023-09-17T13:48:34.605664Z",
     "shell.execute_reply.started": "2023-09-17T13:48:34.586335Z"
    }
   },
   "source": [
    "# Standarise Scaling "
   ]
  },
  {
   "cell_type": "code",
   "execution_count": 18,
   "metadata": {
    "execution": {
     "iopub.execute_input": "2023-09-17T14:15:45.888900Z",
     "iopub.status.busy": "2023-09-17T14:15:45.888021Z",
     "iopub.status.idle": "2023-09-17T14:15:45.906395Z",
     "shell.execute_reply": "2023-09-17T14:15:45.904661Z",
     "shell.execute_reply.started": "2023-09-17T14:15:45.888846Z"
    }
   },
   "outputs": [],
   "source": [
    "sc = StandardScaler()\n",
    "data2 = sc.fit_transform(data2)"
   ]
  },
  {
   "cell_type": "code",
   "execution_count": 19,
   "metadata": {
    "execution": {
     "iopub.execute_input": "2023-09-17T14:15:45.908900Z",
     "iopub.status.busy": "2023-09-17T14:15:45.908456Z",
     "iopub.status.idle": "2023-09-17T14:15:45.923536Z",
     "shell.execute_reply": "2023-09-17T14:15:45.921926Z",
     "shell.execute_reply.started": "2023-09-17T14:15:45.908866Z"
    }
   },
   "outputs": [],
   "source": [
    "data2 = pd.DataFrame(data2, columns=data.columns)"
   ]
  },
  {
   "cell_type": "code",
   "execution_count": 20,
   "metadata": {
    "execution": {
     "iopub.execute_input": "2023-09-17T14:15:45.925965Z",
     "iopub.status.busy": "2023-09-17T14:15:45.925478Z",
     "iopub.status.idle": "2023-09-17T14:15:45.938456Z",
     "shell.execute_reply": "2023-09-17T14:15:45.936978Z",
     "shell.execute_reply.started": "2023-09-17T14:15:45.925919Z"
    }
   },
   "outputs": [],
   "source": [
    "data_final = data2.copy()"
   ]
  },
  {
   "cell_type": "code",
   "execution_count": 21,
   "metadata": {
    "execution": {
     "iopub.execute_input": "2023-09-17T14:15:45.944817Z",
     "iopub.status.busy": "2023-09-17T14:15:45.944398Z",
     "iopub.status.idle": "2023-09-17T14:15:45.964750Z",
     "shell.execute_reply": "2023-09-17T14:15:45.963347Z",
     "shell.execute_reply.started": "2023-09-17T14:15:45.944784Z"
    }
   },
   "outputs": [
    {
     "data": {
      "text/html": [
       "<div>\n",
       "<style scoped>\n",
       "    .dataframe tbody tr th:only-of-type {\n",
       "        vertical-align: middle;\n",
       "    }\n",
       "\n",
       "    .dataframe tbody tr th {\n",
       "        vertical-align: top;\n",
       "    }\n",
       "\n",
       "    .dataframe thead th {\n",
       "        text-align: right;\n",
       "    }\n",
       "</style>\n",
       "<table border=\"1\" class=\"dataframe\">\n",
       "  <thead>\n",
       "    <tr style=\"text-align: right;\">\n",
       "      <th></th>\n",
       "      <th>Temperature</th>\n",
       "      <th>L</th>\n",
       "      <th>R</th>\n",
       "      <th>A_M</th>\n",
       "      <th>Spectral_Class</th>\n",
       "      <th>Type</th>\n",
       "      <th>Color</th>\n",
       "    </tr>\n",
       "  </thead>\n",
       "  <tbody>\n",
       "    <tr>\n",
       "      <th>0</th>\n",
       "      <td>-0.779382</td>\n",
       "      <td>-0.598624</td>\n",
       "      <td>-0.459210</td>\n",
       "      <td>1.116745</td>\n",
       "      <td>0.595338</td>\n",
       "      <td>-1.46385</td>\n",
       "      <td>0.412102</td>\n",
       "    </tr>\n",
       "    <tr>\n",
       "      <th>1</th>\n",
       "      <td>-0.782110</td>\n",
       "      <td>-0.598624</td>\n",
       "      <td>-0.459241</td>\n",
       "      <td>1.162414</td>\n",
       "      <td>0.595338</td>\n",
       "      <td>-1.46385</td>\n",
       "      <td>0.412102</td>\n",
       "    </tr>\n",
       "    <tr>\n",
       "      <th>2</th>\n",
       "      <td>-0.828477</td>\n",
       "      <td>-0.598624</td>\n",
       "      <td>-0.459342</td>\n",
       "      <td>1.362213</td>\n",
       "      <td>0.595338</td>\n",
       "      <td>-1.46385</td>\n",
       "      <td>0.412102</td>\n",
       "    </tr>\n",
       "    <tr>\n",
       "      <th>3</th>\n",
       "      <td>-0.807496</td>\n",
       "      <td>-0.598624</td>\n",
       "      <td>-0.459229</td>\n",
       "      <td>1.167171</td>\n",
       "      <td>0.595338</td>\n",
       "      <td>-1.46385</td>\n",
       "      <td>0.412102</td>\n",
       "    </tr>\n",
       "    <tr>\n",
       "      <th>4</th>\n",
       "      <td>-0.897819</td>\n",
       "      <td>-0.598624</td>\n",
       "      <td>-0.459340</td>\n",
       "      <td>1.491607</td>\n",
       "      <td>0.595338</td>\n",
       "      <td>-1.46385</td>\n",
       "      <td>0.412102</td>\n",
       "    </tr>\n",
       "  </tbody>\n",
       "</table>\n",
       "</div>"
      ],
      "text/plain": [
       "   Temperature         L         R       A_M  Spectral_Class     Type  \\\n",
       "0    -0.779382 -0.598624 -0.459210  1.116745        0.595338 -1.46385   \n",
       "1    -0.782110 -0.598624 -0.459241  1.162414        0.595338 -1.46385   \n",
       "2    -0.828477 -0.598624 -0.459342  1.362213        0.595338 -1.46385   \n",
       "3    -0.807496 -0.598624 -0.459229  1.167171        0.595338 -1.46385   \n",
       "4    -0.897819 -0.598624 -0.459340  1.491607        0.595338 -1.46385   \n",
       "\n",
       "      Color  \n",
       "0  0.412102  \n",
       "1  0.412102  \n",
       "2  0.412102  \n",
       "3  0.412102  \n",
       "4  0.412102  "
      ]
     },
     "execution_count": 21,
     "metadata": {},
     "output_type": "execute_result"
    }
   ],
   "source": [
    "data_final.head()"
   ]
  },
  {
   "cell_type": "markdown",
   "metadata": {},
   "source": [
    "# Applying PCA (Principal Component Analysis)"
   ]
  },
  {
   "cell_type": "code",
   "execution_count": 22,
   "metadata": {
    "execution": {
     "iopub.execute_input": "2023-09-17T14:15:45.966404Z",
     "iopub.status.busy": "2023-09-17T14:15:45.966029Z",
     "iopub.status.idle": "2023-09-17T14:15:45.975625Z",
     "shell.execute_reply": "2023-09-17T14:15:45.974530Z",
     "shell.execute_reply.started": "2023-09-17T14:15:45.966373Z"
    }
   },
   "outputs": [],
   "source": [
    "pca_1 = PCA()\n",
    "X_1 = pca_1.fit_transform(X)"
   ]
  },
  {
   "cell_type": "code",
   "execution_count": 23,
   "metadata": {
    "execution": {
     "iopub.execute_input": "2023-09-17T14:15:45.978124Z",
     "iopub.status.busy": "2023-09-17T14:15:45.976822Z",
     "iopub.status.idle": "2023-09-17T14:15:45.992514Z",
     "shell.execute_reply": "2023-09-17T14:15:45.991171Z",
     "shell.execute_reply.started": "2023-09-17T14:15:45.978090Z"
    }
   },
   "outputs": [
    {
     "data": {
      "text/plain": [
       "array([9.97606313e-01, 2.38789923e-03, 5.78677506e-06, 1.34288902e-09,\n",
       "       1.08396515e-10, 1.88401925e-11])"
      ]
     },
     "execution_count": 23,
     "metadata": {},
     "output_type": "execute_result"
    }
   ],
   "source": [
    "explained_variance = pca_1.explained_variance_ratio_\n",
    "explained_variance"
   ]
  },
  {
   "cell_type": "markdown",
   "metadata": {},
   "source": [
    "## Using n_components 2"
   ]
  },
  {
   "cell_type": "code",
   "execution_count": 24,
   "metadata": {
    "execution": {
     "iopub.execute_input": "2023-09-17T14:15:45.995522Z",
     "iopub.status.busy": "2023-09-17T14:15:45.994714Z",
     "iopub.status.idle": "2023-09-17T14:15:46.751373Z",
     "shell.execute_reply": "2023-09-17T14:15:46.750058Z",
     "shell.execute_reply.started": "2023-09-17T14:15:45.995467Z"
    }
   },
   "outputs": [
    {
     "name": "stdout",
     "output_type": "stream",
     "text": [
      "Accuracy:  0.6666666666666666\n"
     ]
    }
   ],
   "source": [
    "pca_2 = PCA(n_components = 2)\n",
    "X_2 = pca_2.fit_transform(X)\n",
    "from sklearn.model_selection import train_test_split\n",
    "X_train, X_test, y_train, y_test = train_test_split(X_2, y, test_size=0.2, random_state=5)\n",
    "rfc_1 = RandomForestClassifier(max_depth=5, n_jobs=-1, random_state=0)\n",
    "rfc_1.fit(X_2, y)\n",
    "rfc_1.fit(X_train, y_train)\n",
    "y_pred = rfc_1.predict(X_test)\n",
    "print('Accuracy: ' , accuracy_score(y_test, y_pred))"
   ]
  },
  {
   "cell_type": "markdown",
   "metadata": {
    "execution": {
     "iopub.execute_input": "2023-09-17T14:08:46.825048Z",
     "iopub.status.busy": "2023-09-17T14:08:46.824651Z",
     "iopub.status.idle": "2023-09-17T14:08:46.830649Z",
     "shell.execute_reply": "2023-09-17T14:08:46.829532Z",
     "shell.execute_reply.started": "2023-09-17T14:08:46.825018Z"
    }
   },
   "source": [
    "## Using n_components - 3"
   ]
  },
  {
   "cell_type": "code",
   "execution_count": 25,
   "metadata": {
    "execution": {
     "iopub.execute_input": "2023-09-17T14:15:46.753428Z",
     "iopub.status.busy": "2023-09-17T14:15:46.753033Z",
     "iopub.status.idle": "2023-09-17T14:15:46.999878Z",
     "shell.execute_reply": "2023-09-17T14:15:46.998607Z",
     "shell.execute_reply.started": "2023-09-17T14:15:46.753395Z"
    }
   },
   "outputs": [
    {
     "name": "stdout",
     "output_type": "stream",
     "text": [
      "Accuracy:  0.8541666666666666\n"
     ]
    }
   ],
   "source": [
    "from sklearn.decomposition import PCA\n",
    "pca3 = PCA(n_components=3)\n",
    "X_3 = pca3.fit_transform(X)\n",
    "X_train, X_test, y_train, y_test = train_test_split(X_3, y, test_size=0.2, random_state=5)\n",
    "classifier = RandomForestClassifier(max_depth=7, random_state=0)\n",
    "classifier.fit(X_train, y_train)\n",
    "# Predicting the Test set results\n",
    "y_pred = classifier.predict(X_test)\n",
    "print('Accuracy: ' , accuracy_score(y_test, y_pred))"
   ]
  },
  {
   "cell_type": "markdown",
   "metadata": {},
   "source": [
    "## Using n_components - 4"
   ]
  },
  {
   "cell_type": "code",
   "execution_count": 26,
   "metadata": {
    "execution": {
     "iopub.execute_input": "2023-09-17T14:15:47.001948Z",
     "iopub.status.busy": "2023-09-17T14:15:47.001419Z",
     "iopub.status.idle": "2023-09-17T14:15:47.267018Z",
     "shell.execute_reply": "2023-09-17T14:15:47.265372Z",
     "shell.execute_reply.started": "2023-09-17T14:15:47.001915Z"
    }
   },
   "outputs": [
    {
     "name": "stdout",
     "output_type": "stream",
     "text": [
      "Accuracy:  1.0\n"
     ]
    }
   ],
   "source": [
    "from sklearn.decomposition import PCA\n",
    "pca4 = PCA(n_components=4)\n",
    "X_4 = pca4.fit_transform(X)\n",
    "X_train, X_test, y_train, y_test = train_test_split(X_4, y, test_size=0.2, random_state=5)\n",
    "classifier = RandomForestClassifier(max_depth=5, random_state=42)\n",
    "classifier.fit(X_train, y_train)\n",
    "# Predicting the Test set results\n",
    "y_pred = classifier.predict(X_test)\n",
    "print('Accuracy: ' , accuracy_score(y_test, y_pred))"
   ]
  }
 ],
 "metadata": {
  "kernelspec": {
   "display_name": "Python 3 (ipykernel)",
   "language": "python",
   "name": "python3"
  },
  "language_info": {
   "codemirror_mode": {
    "name": "ipython",
    "version": 3
   },
   "file_extension": ".py",
   "mimetype": "text/x-python",
   "name": "python",
   "nbconvert_exporter": "python",
   "pygments_lexer": "ipython3",
   "version": "3.11.3"
  },
  "varInspector": {
   "cols": {
    "lenName": 16,
    "lenType": 16,
    "lenVar": 40
   },
   "kernels_config": {
    "python": {
     "delete_cmd_postfix": "",
     "delete_cmd_prefix": "del ",
     "library": "var_list.py",
     "varRefreshCmd": "print(var_dic_list())"
    },
    "r": {
     "delete_cmd_postfix": ") ",
     "delete_cmd_prefix": "rm(",
     "library": "var_list.r",
     "varRefreshCmd": "cat(var_dic_list()) "
    }
   },
   "types_to_exclude": [
    "module",
    "function",
    "builtin_function_or_method",
    "instance",
    "_Feature"
   ],
   "window_display": false
  }
 },
 "nbformat": 4,
 "nbformat_minor": 4
}
