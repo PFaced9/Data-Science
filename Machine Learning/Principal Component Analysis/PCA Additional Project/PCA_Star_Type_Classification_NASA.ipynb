{
  "nbformat": 4,
  "nbformat_minor": 0,
  "metadata": {
    "colab": {
      "provenance": []
    },
    "kernelspec": {
      "name": "python3",
      "display_name": "Python 3"
    },
    "language_info": {
      "name": "python"
    }
  },
  "cells": [
    {
      "cell_type": "code",
      "execution_count": null,
      "metadata": {
        "colab": {
          "base_uri": "https://localhost:8080/"
        },
        "id": "Tdu4CS63QJ6r",
        "outputId": "208602bd-18e2-4da8-8316-834c59658fbb"
      },
      "outputs": [
        {
          "output_type": "stream",
          "name": "stdout",
          "text": [
            "Mounted at /content/drive\n"
          ]
        }
      ],
      "source": [
        "import numpy as np # linear algebra\n",
        "import pandas as pd # data processing, CSV file I/O (e.g. pd.read_csv)\n",
        "import seaborn as sns\n",
        "import matplotlib.pyplot as plt\n",
        "%matplotlib inline\n",
        "sns.set_theme(style = \"darkgrid\")\n",
        "from google.colab import drive\n",
        "drive.mount('/content/drive')"
      ]
    },
    {
      "cell_type": "code",
      "source": [
        "data = pd.read_csv('/content/drive/MyDrive/resources/Stars.csv')\n",
        "data.head()"
      ],
      "metadata": {
        "colab": {
          "base_uri": "https://localhost:8080/",
          "height": 206
        },
        "id": "aoEFv5-fQQaF",
        "outputId": "b5276870-15f2-4dff-a22c-8bed7b54a068"
      },
      "execution_count": null,
      "outputs": [
        {
          "output_type": "execute_result",
          "data": {
            "text/plain": [
              "   Temperature         L       R    A_M Color Spectral_Class  Type\n",
              "0         3068  0.002400  0.1700  16.12   Red              M     0\n",
              "1         3042  0.000500  0.1542  16.60   Red              M     0\n",
              "2         2600  0.000300  0.1020  18.70   Red              M     0\n",
              "3         2800  0.000200  0.1600  16.65   Red              M     0\n",
              "4         1939  0.000138  0.1030  20.06   Red              M     0"
            ],
            "text/html": [
              "\n",
              "  <div id=\"df-08d3d489-3fae-4ca1-ae86-f5527c49ff74\">\n",
              "    <div class=\"colab-df-container\">\n",
              "      <div>\n",
              "<style scoped>\n",
              "    .dataframe tbody tr th:only-of-type {\n",
              "        vertical-align: middle;\n",
              "    }\n",
              "\n",
              "    .dataframe tbody tr th {\n",
              "        vertical-align: top;\n",
              "    }\n",
              "\n",
              "    .dataframe thead th {\n",
              "        text-align: right;\n",
              "    }\n",
              "</style>\n",
              "<table border=\"1\" class=\"dataframe\">\n",
              "  <thead>\n",
              "    <tr style=\"text-align: right;\">\n",
              "      <th></th>\n",
              "      <th>Temperature</th>\n",
              "      <th>L</th>\n",
              "      <th>R</th>\n",
              "      <th>A_M</th>\n",
              "      <th>Color</th>\n",
              "      <th>Spectral_Class</th>\n",
              "      <th>Type</th>\n",
              "    </tr>\n",
              "  </thead>\n",
              "  <tbody>\n",
              "    <tr>\n",
              "      <th>0</th>\n",
              "      <td>3068</td>\n",
              "      <td>0.002400</td>\n",
              "      <td>0.1700</td>\n",
              "      <td>16.12</td>\n",
              "      <td>Red</td>\n",
              "      <td>M</td>\n",
              "      <td>0</td>\n",
              "    </tr>\n",
              "    <tr>\n",
              "      <th>1</th>\n",
              "      <td>3042</td>\n",
              "      <td>0.000500</td>\n",
              "      <td>0.1542</td>\n",
              "      <td>16.60</td>\n",
              "      <td>Red</td>\n",
              "      <td>M</td>\n",
              "      <td>0</td>\n",
              "    </tr>\n",
              "    <tr>\n",
              "      <th>2</th>\n",
              "      <td>2600</td>\n",
              "      <td>0.000300</td>\n",
              "      <td>0.1020</td>\n",
              "      <td>18.70</td>\n",
              "      <td>Red</td>\n",
              "      <td>M</td>\n",
              "      <td>0</td>\n",
              "    </tr>\n",
              "    <tr>\n",
              "      <th>3</th>\n",
              "      <td>2800</td>\n",
              "      <td>0.000200</td>\n",
              "      <td>0.1600</td>\n",
              "      <td>16.65</td>\n",
              "      <td>Red</td>\n",
              "      <td>M</td>\n",
              "      <td>0</td>\n",
              "    </tr>\n",
              "    <tr>\n",
              "      <th>4</th>\n",
              "      <td>1939</td>\n",
              "      <td>0.000138</td>\n",
              "      <td>0.1030</td>\n",
              "      <td>20.06</td>\n",
              "      <td>Red</td>\n",
              "      <td>M</td>\n",
              "      <td>0</td>\n",
              "    </tr>\n",
              "  </tbody>\n",
              "</table>\n",
              "</div>\n",
              "      <button class=\"colab-df-convert\" onclick=\"convertToInteractive('df-08d3d489-3fae-4ca1-ae86-f5527c49ff74')\"\n",
              "              title=\"Convert this dataframe to an interactive table.\"\n",
              "              style=\"display:none;\">\n",
              "        \n",
              "  <svg xmlns=\"http://www.w3.org/2000/svg\" height=\"24px\"viewBox=\"0 0 24 24\"\n",
              "       width=\"24px\">\n",
              "    <path d=\"M0 0h24v24H0V0z\" fill=\"none\"/>\n",
              "    <path d=\"M18.56 5.44l.94 2.06.94-2.06 2.06-.94-2.06-.94-.94-2.06-.94 2.06-2.06.94zm-11 1L8.5 8.5l.94-2.06 2.06-.94-2.06-.94L8.5 2.5l-.94 2.06-2.06.94zm10 10l.94 2.06.94-2.06 2.06-.94-2.06-.94-.94-2.06-.94 2.06-2.06.94z\"/><path d=\"M17.41 7.96l-1.37-1.37c-.4-.4-.92-.59-1.43-.59-.52 0-1.04.2-1.43.59L10.3 9.45l-7.72 7.72c-.78.78-.78 2.05 0 2.83L4 21.41c.39.39.9.59 1.41.59.51 0 1.02-.2 1.41-.59l7.78-7.78 2.81-2.81c.8-.78.8-2.07 0-2.86zM5.41 20L4 18.59l7.72-7.72 1.47 1.35L5.41 20z\"/>\n",
              "  </svg>\n",
              "      </button>\n",
              "      \n",
              "  <style>\n",
              "    .colab-df-container {\n",
              "      display:flex;\n",
              "      flex-wrap:wrap;\n",
              "      gap: 12px;\n",
              "    }\n",
              "\n",
              "    .colab-df-convert {\n",
              "      background-color: #E8F0FE;\n",
              "      border: none;\n",
              "      border-radius: 50%;\n",
              "      cursor: pointer;\n",
              "      display: none;\n",
              "      fill: #1967D2;\n",
              "      height: 32px;\n",
              "      padding: 0 0 0 0;\n",
              "      width: 32px;\n",
              "    }\n",
              "\n",
              "    .colab-df-convert:hover {\n",
              "      background-color: #E2EBFA;\n",
              "      box-shadow: 0px 1px 2px rgba(60, 64, 67, 0.3), 0px 1px 3px 1px rgba(60, 64, 67, 0.15);\n",
              "      fill: #174EA6;\n",
              "    }\n",
              "\n",
              "    [theme=dark] .colab-df-convert {\n",
              "      background-color: #3B4455;\n",
              "      fill: #D2E3FC;\n",
              "    }\n",
              "\n",
              "    [theme=dark] .colab-df-convert:hover {\n",
              "      background-color: #434B5C;\n",
              "      box-shadow: 0px 1px 3px 1px rgba(0, 0, 0, 0.15);\n",
              "      filter: drop-shadow(0px 1px 2px rgba(0, 0, 0, 0.3));\n",
              "      fill: #FFFFFF;\n",
              "    }\n",
              "  </style>\n",
              "\n",
              "      <script>\n",
              "        const buttonEl =\n",
              "          document.querySelector('#df-08d3d489-3fae-4ca1-ae86-f5527c49ff74 button.colab-df-convert');\n",
              "        buttonEl.style.display =\n",
              "          google.colab.kernel.accessAllowed ? 'block' : 'none';\n",
              "\n",
              "        async function convertToInteractive(key) {\n",
              "          const element = document.querySelector('#df-08d3d489-3fae-4ca1-ae86-f5527c49ff74');\n",
              "          const dataTable =\n",
              "            await google.colab.kernel.invokeFunction('convertToInteractive',\n",
              "                                                     [key], {});\n",
              "          if (!dataTable) return;\n",
              "\n",
              "          const docLinkHtml = 'Like what you see? Visit the ' +\n",
              "            '<a target=\"_blank\" href=https://colab.research.google.com/notebooks/data_table.ipynb>data table notebook</a>'\n",
              "            + ' to learn more about interactive tables.';\n",
              "          element.innerHTML = '';\n",
              "          dataTable['output_type'] = 'display_data';\n",
              "          await google.colab.output.renderOutput(dataTable, element);\n",
              "          const docLink = document.createElement('div');\n",
              "          docLink.innerHTML = docLinkHtml;\n",
              "          element.appendChild(docLink);\n",
              "        }\n",
              "      </script>\n",
              "    </div>\n",
              "  </div>\n",
              "  "
            ]
          },
          "metadata": {},
          "execution_count": 3
        }
      ]
    },
    {
      "cell_type": "markdown",
      "source": [
        "So, we can see the data. Let us get some idea about the problem at hand.\n",
        "\n",
        "There are many types of stars in the Universe, ranging from Protostars to Red Supergiants. They are classified based on their mass and temperature. The spectra of stars can also organize them (the elements they absorb). A star’s spectral class and its brightness (apparent magnitude) may reveal a lot about it to astronomers."
      ],
      "metadata": {
        "id": "RG8XHxRnZz2_"
      }
    },
    {
      "cell_type": "markdown",
      "source": [
        "The data features are as follows:\n",
        "\n",
        "Temperature — K\n",
        "L — L/Lo\n",
        "R — R/Ro\n",
        "AM — Mv\n",
        "Colour — General Color of Spectrum\n",
        "Spectral_Class — O,B,A,F,G,K,M\n",
        "Type — Red Dwarf, Brown Dwarf, White Dwarf, Main Sequence, Super Giants, Hyper Giants"
      ],
      "metadata": {
        "id": "01rOKgcqZ8qV"
      }
    },
    {
      "cell_type": "markdown",
      "source": [
        "Target features are as follows:\n",
        "\n",
        "From 0 to 5\n",
        "\n",
        "Red Dwarf – 0\n",
        "Brown Dwarf – 1\n",
        "White Dwarf – 2\n",
        "Main Sequence – 3\n",
        "Super Giants – 4\n",
        "Hyper Giants – 5\n",
        "Lo = 3.828 x 10^26 Watts\n",
        "(Avg Luminosity of Sun)\n",
        "Ro = 6.9551 x 10^8 m\n",
        "(Avg Radius of Sun)"
      ],
      "metadata": {
        "id": "UlHY1awIaIOL"
      }
    },
    {
      "cell_type": "code",
      "source": [
        "print(data.shape)"
      ],
      "metadata": {
        "colab": {
          "base_uri": "https://localhost:8080/"
        },
        "id": "3A29qsdrZ_fP",
        "outputId": "780eaf1c-70ca-4f27-c4e2-9f532ff78a33"
      },
      "execution_count": null,
      "outputs": [
        {
          "output_type": "stream",
          "name": "stdout",
          "text": [
            "(240, 7)\n"
          ]
        }
      ]
    },
    {
      "cell_type": "code",
      "source": [
        "data.info()"
      ],
      "metadata": {
        "colab": {
          "base_uri": "https://localhost:8080/"
        },
        "id": "1bN7ixfgZ1l8",
        "outputId": "c4448853-9085-40a7-dc70-01899646419a"
      },
      "execution_count": null,
      "outputs": [
        {
          "output_type": "stream",
          "name": "stdout",
          "text": [
            "<class 'pandas.core.frame.DataFrame'>\n",
            "RangeIndex: 240 entries, 0 to 239\n",
            "Data columns (total 7 columns):\n",
            " #   Column          Non-Null Count  Dtype  \n",
            "---  ------          --------------  -----  \n",
            " 0   Temperature     240 non-null    int64  \n",
            " 1   L               240 non-null    float64\n",
            " 2   R               240 non-null    float64\n",
            " 3   A_M             240 non-null    float64\n",
            " 4   Color           240 non-null    object \n",
            " 5   Spectral_Class  240 non-null    object \n",
            " 6   Type            240 non-null    int64  \n",
            "dtypes: float64(3), int64(2), object(2)\n",
            "memory usage: 13.2+ KB\n"
          ]
        }
      ]
    },
    {
      "cell_type": "markdown",
      "source": [
        "Now, we check for missing values."
      ],
      "metadata": {
        "id": "XOYoQhsfafOl"
      }
    },
    {
      "cell_type": "code",
      "source": [
        "#Missing Value Analysis\n",
        "data.isnull().sum()"
      ],
      "metadata": {
        "colab": {
          "base_uri": "https://localhost:8080/"
        },
        "id": "k8wjfOFZag-k",
        "outputId": "f28a7445-131f-45fe-e0cb-e89df23455ab"
      },
      "execution_count": null,
      "outputs": [
        {
          "output_type": "execute_result",
          "data": {
            "text/plain": [
              "Temperature       0\n",
              "L                 0\n",
              "R                 0\n",
              "A_M               0\n",
              "Color             0\n",
              "Spectral_Class    0\n",
              "Type              0\n",
              "dtype: int64"
            ]
          },
          "metadata": {},
          "execution_count": 6
        }
      ]
    },
    {
      "cell_type": "markdown",
      "source": [
        "Let us perform some analysis of the data distribution."
      ],
      "metadata": {
        "id": "o3NuwJBias-p"
      }
    },
    {
      "cell_type": "code",
      "source": [
        "# Star Colour Analysis:\n",
        "\n",
        "a= pd.DataFrame(data['Color'].value_counts())\n",
        "plt.figure(figsize=(8,6))\n",
        "sns.barplot(data= a, x='Color',y= a.index, palette= 'Spectral')\n",
        "plt.title(\"Star Color Analysis\")"
      ],
      "metadata": {
        "colab": {
          "base_uri": "https://localhost:8080/",
          "height": 427
        },
        "id": "MkoRItlhauVb",
        "outputId": "2c2075a5-8221-45f4-f4be-46bad38f7e48"
      },
      "execution_count": null,
      "outputs": [
        {
          "output_type": "execute_result",
          "data": {
            "text/plain": [
              "Text(0.5, 1.0, 'Star Color Analysis')"
            ]
          },
          "metadata": {},
          "execution_count": 7
        },
        {
          "output_type": "display_data",
          "data": {
            "text/plain": [
              "<Figure size 576x432 with 1 Axes>"
            ],
            "image/png": "[encoded data removed]"
          },
          "metadata": {}
        }
      ]
    },
    {
      "cell_type": "code",
      "source": [
        "# Star Spectral Class Analysis:\n",
        "\n",
        "a= pd.DataFrame(data['Spectral_Class'].value_counts())\n",
        "plt.figure(figsize=(8,6))\n",
        "sns.barplot(data=a, x='Spectral_Class',y= a.index, palette= 'rainbow')\n",
        "plt.title(\"Star Spectral Class Analysis\")"
      ],
      "metadata": {
        "colab": {
          "base_uri": "https://localhost:8080/",
          "height": 427
        },
        "id": "H0J8RSPLa3eZ",
        "outputId": "1f94ff23-e080-4531-997b-090280bc6669"
      },
      "execution_count": null,
      "outputs": [
        {
          "output_type": "execute_result",
          "data": {
            "text/plain": [
              "Text(0.5, 1.0, 'Star Spectral Class Analysis')"
            ]
          },
          "metadata": {},
          "execution_count": 8
        },
        {
          "output_type": "display_data",
          "data": {
            "text/plain": [
              "<Figure size 576x432 with 1 Axes>"
            ],
            "image/png": "[encoded data removed]"
          },
          "metadata": {}
        }
      ]
    },
    {
      "cell_type": "code",
      "source": [
        "# Star Type Analysis:\n",
        "\n",
        "a =pd.DataFrame(data['Type'].value_counts())\n",
        "plt.figure(figsize=(10,8))\n",
        "plt.pie(data=a, x='Type',labels=a.index,autopct='%1.1f%%')\n",
        "plt.title(\"Percentage Distribution of Star Type\")"
      ],
      "metadata": {
        "colab": {
          "base_uri": "https://localhost:8080/",
          "height": 499
        },
        "id": "VtDujnV1a71H",
        "outputId": "ff3a058c-b000-4cb9-f40f-f37edf2720d3"
      },
      "execution_count": null,
      "outputs": [
        {
          "output_type": "execute_result",
          "data": {
            "text/plain": [
              "Text(0.5, 1.0, 'Percentage Distribution of Star Type')"
            ]
          },
          "metadata": {},
          "execution_count": 9
        },
        {
          "output_type": "display_data",
          "data": {
            "text/plain": [
              "<Figure size 720x576 with 1 Axes>"
            ],
            "image/png": "[encoded data removed]"
          },
          "metadata": {}
        }
      ]
    },
    {
      "cell_type": "code",
      "source": [
        "# Correlation Analysis:\n",
        "\n",
        "matrix= data.corr()\n",
        "mask = np.zeros_like(matrix, dtype=float)\n",
        "mask[np.triu_indices_from(mask)]= True\n",
        "plt.figure(figsize=(11,6))\n",
        "sns.heatmap(matrix,annot=True,cmap='viridis',annot_kws = {'size': 10},mask=mask)\n",
        "plt.title(\"Correlation Analysis\")\n",
        "plt.show()"
      ],
      "metadata": {
        "colab": {
          "base_uri": "https://localhost:8080/",
          "height": 393
        },
        "id": "7Cr4hoJRbFBV",
        "outputId": "07046461-7bfa-46ba-f01b-69612f4a1bb5"
      },
      "execution_count": null,
      "outputs": [
        {
          "output_type": "display_data",
          "data": {
            "text/plain": [
              "<Figure size 792x432 with 2 Axes>"
            ],
            "image/png": "[encoded data removed]"
          },
          "metadata": {}
        }
      ]
    },
    {
      "cell_type": "markdown",
      "source": [
        "Label Encoding\n",
        "A label is a notation for a feature.\n",
        "\n",
        "![11.png](data:image/png;base64,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)"
      ],
      "metadata": {
        "id": "oFuioU_yjFLE"
      }
    },
    {
      "cell_type": "code",
      "source": [
        "# Now, let us implement the label encoding.\n",
        "\n",
        "from sklearn import preprocessing\n",
        "# label_encoder \n",
        "label_encoder = preprocessing.LabelEncoder()"
      ],
      "metadata": {
        "id": "JhSPhUUFgIiu"
      },
      "execution_count": null,
      "outputs": []
    },
    {
      "cell_type": "code",
      "source": [
        "# Now, we apply the encoder to the dataset.\n",
        "\n",
        "data['Color_Label']= label_encoder.fit_transform(data['Color'])\n",
        "data['Spectral_Class_Label']= label_encoder.fit_transform(data['Spectral_Class'])"
      ],
      "metadata": {
        "id": "KW1q3JQGjaH5"
      },
      "execution_count": null,
      "outputs": []
    },
    {
      "cell_type": "code",
      "source": [
        "# Now, let us see what the data looks like.\n",
        "\n",
        "data.head()"
      ],
      "metadata": {
        "colab": {
          "base_uri": "https://localhost:8080/",
          "height": 206
        },
        "id": "LGQkj-ytkMn5",
        "outputId": "f1634a77-6cb2-4789-b050-a89d14d87649"
      },
      "execution_count": null,
      "outputs": [
        {
          "output_type": "execute_result",
          "data": {
            "text/plain": [
              "   Temperature         L       R    A_M Color Spectral_Class  Type  \\\n",
              "0         3068  0.002400  0.1700  16.12   Red              M     0   \n",
              "1         3042  0.000500  0.1542  16.60   Red              M     0   \n",
              "2         2600  0.000300  0.1020  18.70   Red              M     0   \n",
              "3         2800  0.000200  0.1600  16.65   Red              M     0   \n",
              "4         1939  0.000138  0.1030  20.06   Red              M     0   \n",
              "\n",
              "   Color_Label  Spectral_Class_Label  \n",
              "0            8                     5  \n",
              "1            8                     5  \n",
              "2            8                     5  \n",
              "3            8                     5  \n",
              "4            8                     5  "
            ],
            "text/html": [
              "\n",
              "  <div id=\"df-f7f6bec4-67ce-432f-adbb-5c22299d4255\">\n",
              "    <div class=\"colab-df-container\">\n",
              "      <div>\n",
              "<style scoped>\n",
              "    .dataframe tbody tr th:only-of-type {\n",
              "        vertical-align: middle;\n",
              "    }\n",
              "\n",
              "    .dataframe tbody tr th {\n",
              "        vertical-align: top;\n",
              "    }\n",
              "\n",
              "    .dataframe thead th {\n",
              "        text-align: right;\n",
              "    }\n",
              "</style>\n",
              "<table border=\"1\" class=\"dataframe\">\n",
              "  <thead>\n",
              "    <tr style=\"text-align: right;\">\n",
              "      <th></th>\n",
              "      <th>Temperature</th>\n",
              "      <th>L</th>\n",
              "      <th>R</th>\n",
              "      <th>A_M</th>\n",
              "      <th>Color</th>\n",
              "      <th>Spectral_Class</th>\n",
              "      <th>Type</th>\n",
              "      <th>Color_Label</th>\n",
              "      <th>Spectral_Class_Label</th>\n",
              "    </tr>\n",
              "  </thead>\n",
              "  <tbody>\n",
              "    <tr>\n",
              "      <th>0</th>\n",
              "      <td>3068</td>\n",
              "      <td>0.002400</td>\n",
              "      <td>0.1700</td>\n",
              "      <td>16.12</td>\n",
              "      <td>Red</td>\n",
              "      <td>M</td>\n",
              "      <td>0</td>\n",
              "      <td>8</td>\n",
              "      <td>5</td>\n",
              "    </tr>\n",
              "    <tr>\n",
              "      <th>1</th>\n",
              "      <td>3042</td>\n",
              "      <td>0.000500</td>\n",
              "      <td>0.1542</td>\n",
              "      <td>16.60</td>\n",
              "      <td>Red</td>\n",
              "      <td>M</td>\n",
              "      <td>0</td>\n",
              "      <td>8</td>\n",
              "      <td>5</td>\n",
              "    </tr>\n",
              "    <tr>\n",
              "      <th>2</th>\n",
              "      <td>2600</td>\n",
              "      <td>0.000300</td>\n",
              "      <td>0.1020</td>\n",
              "      <td>18.70</td>\n",
              "      <td>Red</td>\n",
              "      <td>M</td>\n",
              "      <td>0</td>\n",
              "      <td>8</td>\n",
              "      <td>5</td>\n",
              "    </tr>\n",
              "    <tr>\n",
              "      <th>3</th>\n",
              "      <td>2800</td>\n",
              "      <td>0.000200</td>\n",
              "      <td>0.1600</td>\n",
              "      <td>16.65</td>\n",
              "      <td>Red</td>\n",
              "      <td>M</td>\n",
              "      <td>0</td>\n",
              "      <td>8</td>\n",
              "      <td>5</td>\n",
              "    </tr>\n",
              "    <tr>\n",
              "      <th>4</th>\n",
              "      <td>1939</td>\n",
              "      <td>0.000138</td>\n",
              "      <td>0.1030</td>\n",
              "      <td>20.06</td>\n",
              "      <td>Red</td>\n",
              "      <td>M</td>\n",
              "      <td>0</td>\n",
              "      <td>8</td>\n",
              "      <td>5</td>\n",
              "    </tr>\n",
              "  </tbody>\n",
              "</table>\n",
              "</div>\n",
              "      <button class=\"colab-df-convert\" onclick=\"convertToInteractive('df-f7f6bec4-67ce-432f-adbb-5c22299d4255')\"\n",
              "              title=\"Convert this dataframe to an interactive table.\"\n",
              "              style=\"display:none;\">\n",
              "        \n",
              "  <svg xmlns=\"http://www.w3.org/2000/svg\" height=\"24px\"viewBox=\"0 0 24 24\"\n",
              "       width=\"24px\">\n",
              "    <path d=\"M0 0h24v24H0V0z\" fill=\"none\"/>\n",
              "    <path d=\"M18.56 5.44l.94 2.06.94-2.06 2.06-.94-2.06-.94-.94-2.06-.94 2.06-2.06.94zm-11 1L8.5 8.5l.94-2.06 2.06-.94-2.06-.94L8.5 2.5l-.94 2.06-2.06.94zm10 10l.94 2.06.94-2.06 2.06-.94-2.06-.94-.94-2.06-.94 2.06-2.06.94z\"/><path d=\"M17.41 7.96l-1.37-1.37c-.4-.4-.92-.59-1.43-.59-.52 0-1.04.2-1.43.59L10.3 9.45l-7.72 7.72c-.78.78-.78 2.05 0 2.83L4 21.41c.39.39.9.59 1.41.59.51 0 1.02-.2 1.41-.59l7.78-7.78 2.81-2.81c.8-.78.8-2.07 0-2.86zM5.41 20L4 18.59l7.72-7.72 1.47 1.35L5.41 20z\"/>\n",
              "  </svg>\n",
              "      </button>\n",
              "      \n",
              "  <style>\n",
              "    .colab-df-container {\n",
              "      display:flex;\n",
              "      flex-wrap:wrap;\n",
              "      gap: 12px;\n",
              "    }\n",
              "\n",
              "    .colab-df-convert {\n",
              "      background-color: #E8F0FE;\n",
              "      border: none;\n",
              "      border-radius: 50%;\n",
              "      cursor: pointer;\n",
              "      display: none;\n",
              "      fill: #1967D2;\n",
              "      height: 32px;\n",
              "      padding: 0 0 0 0;\n",
              "      width: 32px;\n",
              "    }\n",
              "\n",
              "    .colab-df-convert:hover {\n",
              "      background-color: #E2EBFA;\n",
              "      box-shadow: 0px 1px 2px rgba(60, 64, 67, 0.3), 0px 1px 3px 1px rgba(60, 64, 67, 0.15);\n",
              "      fill: #174EA6;\n",
              "    }\n",
              "\n",
              "    [theme=dark] .colab-df-convert {\n",
              "      background-color: #3B4455;\n",
              "      fill: #D2E3FC;\n",
              "    }\n",
              "\n",
              "    [theme=dark] .colab-df-convert:hover {\n",
              "      background-color: #434B5C;\n",
              "      box-shadow: 0px 1px 3px 1px rgba(0, 0, 0, 0.15);\n",
              "      filter: drop-shadow(0px 1px 2px rgba(0, 0, 0, 0.3));\n",
              "      fill: #FFFFFF;\n",
              "    }\n",
              "  </style>\n",
              "\n",
              "      <script>\n",
              "        const buttonEl =\n",
              "          document.querySelector('#df-f7f6bec4-67ce-432f-adbb-5c22299d4255 button.colab-df-convert');\n",
              "        buttonEl.style.display =\n",
              "          google.colab.kernel.accessAllowed ? 'block' : 'none';\n",
              "\n",
              "        async function convertToInteractive(key) {\n",
              "          const element = document.querySelector('#df-f7f6bec4-67ce-432f-adbb-5c22299d4255');\n",
              "          const dataTable =\n",
              "            await google.colab.kernel.invokeFunction('convertToInteractive',\n",
              "                                                     [key], {});\n",
              "          if (!dataTable) return;\n",
              "\n",
              "          const docLinkHtml = 'Like what you see? Visit the ' +\n",
              "            '<a target=\"_blank\" href=https://colab.research.google.com/notebooks/data_table.ipynb>data table notebook</a>'\n",
              "            + ' to learn more about interactive tables.';\n",
              "          element.innerHTML = '';\n",
              "          dataTable['output_type'] = 'display_data';\n",
              "          await google.colab.output.renderOutput(dataTable, element);\n",
              "          const docLink = document.createElement('div');\n",
              "          docLink.innerHTML = docLinkHtml;\n",
              "          element.appendChild(docLink);\n",
              "        }\n",
              "      </script>\n",
              "    </div>\n",
              "  </div>\n",
              "  "
            ]
          },
          "metadata": {},
          "execution_count": 14
        }
      ]
    },
    {
      "cell_type": "code",
      "source": [
        "# Now, we check the original labels for the colours and see what labels are assigned.\n",
        "\n",
        "print(\"Original Colours:\")\n",
        "print(data['Color'].unique())\n",
        "print(\"Labels:\")\n",
        "print(data['Color_Label'].unique())"
      ],
      "metadata": {
        "colab": {
          "base_uri": "https://localhost:8080/"
        },
        "id": "bRxENMHzkTQA",
        "outputId": "2f8e1e9f-ca50-44a7-8512-79087fd7dfc4"
      },
      "execution_count": null,
      "outputs": [
        {
          "output_type": "stream",
          "name": "stdout",
          "text": [
            "Original Colours:\n",
            "['Red' 'Blue White' 'White' 'Yellowish White' 'Blue white'\n",
            " 'Pale yellow orange' 'Blue' 'Blue-white' 'Whitish' 'yellow-white'\n",
            " 'Orange' 'White-Yellow' 'white' 'yellowish' 'Yellowish' 'Orange-Red'\n",
            " 'Blue-White']\n",
            "Labels:\n",
            "[ 8  1  9 13  2  7  0  4 11 15  5 10 14 16 12  6  3]\n"
          ]
        }
      ]
    },
    {
      "cell_type": "code",
      "source": [
        "# Now, we check the same for the Spectral class feature.\n",
        "\n",
        "print(\"Original Spectral Class:\")\n",
        "print(data['Spectral_Class'].unique())\n",
        "print(\"Labels:\")\n",
        "print(data['Spectral_Class_Label'].unique())"
      ],
      "metadata": {
        "colab": {
          "base_uri": "https://localhost:8080/"
        },
        "id": "EY1NaRx2kaJW",
        "outputId": "2353ffc9-5b97-456f-fc85-3fe4faf5fae8"
      },
      "execution_count": null,
      "outputs": [
        {
          "output_type": "stream",
          "name": "stdout",
          "text": [
            "Original Spectral Class:\n",
            "['M' 'B' 'A' 'F' 'O' 'K' 'G']\n",
            "Labels:\n",
            "[5 1 0 2 6 4 3]\n"
          ]
        }
      ]
    },
    {
      "cell_type": "markdown",
      "source": [
        "# Splitting Dataset\n",
        "Now, we split the dataset into X and y."
      ],
      "metadata": {
        "id": "ofuWrP01kgqG"
      }
    },
    {
      "cell_type": "code",
      "source": [
        "y= data[\"Spectral_Class_Label\"].values\n",
        "X = data.drop(labels=['Spectral_Class_Label','Color','Spectral_Class'], axis=1).values"
      ],
      "metadata": {
        "id": "XiI8Qtoekh8C"
      },
      "execution_count": null,
      "outputs": []
    },
    {
      "cell_type": "markdown",
      "source": [
        "#Standard Scalar Normalization\n",
        "Now, we shall perform Standard Scalar Normalization. StandardScaler adheres to the Standard Normal Distribution (SND). As a result, it sets the mean to 0 and scales the data to unit variance."
      ],
      "metadata": {
        "id": "JfsP4LktoO3A"
      }
    },
    {
      "cell_type": "code",
      "source": [
        "from sklearn.preprocessing import StandardScaler\n",
        "sc = StandardScaler()\n",
        "X = sc.fit_transform(X)"
      ],
      "metadata": {
        "id": "bpKD4uE_oREE"
      },
      "execution_count": null,
      "outputs": []
    },
    {
      "cell_type": "markdown",
      "source": [
        "# PCA\n",
        "Implementation of PCA:"
      ],
      "metadata": {
        "id": "_tOOFo8aoYeA"
      }
    },
    {
      "cell_type": "code",
      "source": [
        "from sklearn.decomposition import PCA\n",
        "pca = PCA()\n",
        "X = pca.fit_transform(X)"
      ],
      "metadata": {
        "id": "CArj2Neqob5N"
      },
      "execution_count": null,
      "outputs": []
    },
    {
      "cell_type": "markdown",
      "source": [
        "# The explained variance ratio function in the PCA class returns the variance produced by each principal component."
      ],
      "metadata": {
        "id": "T68WOyWqrh9p"
      }
    },
    {
      "cell_type": "code",
      "source": [
        "explained_variance = pca.explained_variance_ratio_\n",
        "explained_variance"
      ],
      "metadata": {
        "colab": {
          "base_uri": "https://localhost:8080/"
        },
        "id": "tKXF2w_irowe",
        "outputId": "54629f2d-7174-4f1e-f37e-1bb3684575ca"
      },
      "execution_count": null,
      "outputs": [
        {
          "output_type": "execute_result",
          "data": {
            "text/plain": [
              "array([0.58015798, 0.23500814, 0.06856623, 0.0601706 , 0.04920672,\n",
              "       0.00689033])"
            ]
          },
          "metadata": {},
          "execution_count": 20
        }
      ]
    },
    {
      "cell_type": "markdown",
      "source": [
        "# Training with Two Principal Components\n",
        "First, we train the Classifier model by taking the two top features. We shall be training a Random Forest Classifier model.\n",
        "\n",
        "Random forests, also known as random decision forests, are an ensemble learning approach for classification, regression, and other problems that work by training many decision trees. For classification tasks, the random forest’s output is the class chosen by most trees. A random forest comprises Decision Trees, each making its prediction. The values are then averaged (Regression) or max voted (Classification) to arrive at the final result.\n",
        "\n",
        "The power of this model comes from the ability to create several trees with various sub-features from the features. Because the characteristics chosen for each tree are random, the trees do not grow in-depth and are just focused on the set of features."
      ],
      "metadata": {
        "id": "GL89ztsztSw4"
      }
    },
    {
      "cell_type": "code",
      "source": [
        "from sklearn.decomposition import PCA\n",
        "pca2 = PCA(n_components=2)\n",
        "X_2 = pca2.fit_transform(X)"
      ],
      "metadata": {
        "id": "qXELHqhmtWaX"
      },
      "execution_count": null,
      "outputs": []
    },
    {
      "cell_type": "code",
      "source": [
        "from sklearn.model_selection import train_test_split\n",
        "X_train, X_test, y_train, y_test = train_test_split(X_2, y, test_size=0.2, random_state=5)"
      ],
      "metadata": {
        "id": "JdSOzagptecL"
      },
      "execution_count": null,
      "outputs": []
    },
    {
      "cell_type": "code",
      "source": [
        "from sklearn.ensemble import RandomForestClassifier\n",
        "classifier = RandomForestClassifier(max_depth=2, random_state=0)\n",
        "classifier.fit(X_train, y_train)\n",
        "# Predicting the Test set results\n",
        "y_pred = classifier.predict(X_test)"
      ],
      "metadata": {
        "id": "xNOZYaqathpH"
      },
      "execution_count": null,
      "outputs": []
    },
    {
      "cell_type": "code",
      "source": [
        "from sklearn.metrics import accuracy_score\n",
        "print('Accuracy: ' , accuracy_score(y_test, y_pred))"
      ],
      "metadata": {
        "colab": {
          "base_uri": "https://localhost:8080/"
        },
        "id": "nfLw4UDZtlAG",
        "outputId": "c4cd4843-a5ec-4fef-e1d1-462792f20695"
      },
      "execution_count": null,
      "outputs": [
        {
          "output_type": "stream",
          "name": "stdout",
          "text": [
            "Accuracy:  0.6875\n"
          ]
        }
      ]
    },
    {
      "cell_type": "markdown",
      "source": [
        "# Training with Three Principal Components\n",
        "Now, we proceed with the number of principal components=3."
      ],
      "metadata": {
        "id": "okyWE2T9uOjQ"
      }
    },
    {
      "cell_type": "code",
      "source": [
        "from sklearn.decomposition import PCA\n",
        "pca3 = PCA(n_components=3)\n",
        "X_3 = pca3.fit_transform(X)\n",
        "X_train, X_test, y_train, y_test = train_test_split(X_3, y, test_size=0.2, random_state=5)"
      ],
      "metadata": {
        "id": "pzxPMTzkuUvY"
      },
      "execution_count": null,
      "outputs": []
    },
    {
      "cell_type": "code",
      "source": [
        "classifier = RandomForestClassifier(max_depth=2, random_state=0)\n",
        "classifier.fit(X_train, y_train)\n",
        "# Predicting the Test set results\n",
        "y_pred = classifier.predict(X_test)\n",
        "print('Accuracy: ' , accuracy_score(y_test, y_pred))"
      ],
      "metadata": {
        "colab": {
          "base_uri": "https://localhost:8080/"
        },
        "id": "pozweTPOub6s",
        "outputId": "7f9c5eae-42e2-4993-ba7d-b7c6ca3f9a9b"
      },
      "execution_count": null,
      "outputs": [
        {
          "output_type": "stream",
          "name": "stdout",
          "text": [
            "Accuracy:  0.7083333333333334\n"
          ]
        }
      ]
    },
    {
      "cell_type": "markdown",
      "source": [
        "# Training with Four Principal Components\n",
        "Now, we take the number of principal components=4."
      ],
      "metadata": {
        "id": "Lo86weXbujzI"
      }
    },
    {
      "cell_type": "code",
      "source": [
        "from sklearn.decomposition import PCA\n",
        "pca4 = PCA(n_components=4)\n",
        "X_4 = pca4.fit_transform(X)\n",
        "X_train, X_test, y_train, y_test = train_test_split(X_4, y, test_size=0.2, random_state=5)"
      ],
      "metadata": {
        "id": "d3XX4wnTumJ7"
      },
      "execution_count": null,
      "outputs": []
    },
    {
      "cell_type": "code",
      "source": [
        "classifier = RandomForestClassifier(max_depth=2, random_state=0)\n",
        "classifier.fit(X_train, y_train)\n",
        "# Predicting the Test set results\n",
        "y_pred = classifier.predict(X_test)\n",
        "print('Accuracy: ' , accuracy_score(y_test, y_pred))"
      ],
      "metadata": {
        "colab": {
          "base_uri": "https://localhost:8080/"
        },
        "id": "deHky5_ourbL",
        "outputId": "01a79945-d571-49c5-b4f1-e5d3fc6e0fbd"
      },
      "execution_count": null,
      "outputs": [
        {
          "output_type": "stream",
          "name": "stdout",
          "text": [
            "Accuracy:  0.7708333333333334\n"
          ]
        }
      ]
    },
    {
      "cell_type": "markdown",
      "source": [
        "# Conclusion\n",
        "As we increased the number of features, the model’s accuracy improved.\n",
        "PCA can be an excellent way to understand which features are more relevant for a particular machine learning problem.\n",
        "PCA is a practical mathematical approach for reducing data complexity. It finds linear combinations of the input fields that best represent the statistical variation in the complete set of areas. The data components are orthogonal to and unrelated to one another.\n",
        "We can use PCA to select the most relevant data features."
      ],
      "metadata": {
        "id": "u90PfvkduzmK"
      }
    },
    {
      "cell_type": "code",
      "source": [],
      "metadata": {
        "id": "vfMF6p24u3YC"
      },
      "execution_count": null,
      "outputs": []
    }
  ]
}