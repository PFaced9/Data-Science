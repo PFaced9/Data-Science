{
 "cells": [
  {
   "cell_type": "markdown",
   "source": [
    "### IMPORT THE LIBRARIES"
   ],
   "metadata": {
    "collapsed": false
   },
   "id": "e3619076dfb0b02b"
  },
  {
   "cell_type": "code",
   "execution_count": null,
   "id": "initial_id",
   "metadata": {
    "collapsed": true
   },
   "outputs": [],
   "source": [
    "import numpy as np\n",
    "import pandas as pd"
   ]
  },
  {
   "cell_type": "markdown",
   "source": [
    "### IMPORTING THE DATA SET"
   ],
   "metadata": {
    "collapsed": false
   },
   "id": "b2ec3d62f26882e0"
  },
  {
   "cell_type": "code",
   "execution_count": null,
   "outputs": [],
   "source": [
    "dataset = pd.read_csv('CompaniesProfit.csv')\n",
    "x = dataset.iloc[:,:-1].values\n",
    "y = dataset.iloc[:,-1].values"
   ],
   "metadata": {
    "collapsed": false
   },
   "id": "3b90b75fa27d6940"
  },
  {
   "cell_type": "code",
   "execution_count": null,
   "outputs": [],
   "source": [
    "print(x[:5,:])"
   ],
   "metadata": {
    "collapsed": false
   },
   "id": "791cc1ac6f2447b3"
  },
  {
   "cell_type": "markdown",
   "source": [
    "### ENCODING CATEGORICAL DATA"
   ],
   "metadata": {
    "collapsed": false
   },
   "id": "4fd1b020c0ffa22f"
  },
  {
   "cell_type": "code",
   "execution_count": null,
   "outputs": [],
   "source": [
    "from sklearn.compose import ColumnTransformer\n",
    "from sklearn.preprocessing import OneHotEncoder\n",
    "ct = ColumnTransformer(transformers=[('encoder', OneHotEncoder(), [3])], remainder=\"passthrough\")\n",
    "x = np.array(ct.fit_transform(x))\n",
    "print(x)"
   ],
   "metadata": {
    "collapsed": false
   },
   "id": "76c0044b9e372da3"
  },
  {
   "cell_type": "markdown",
   "source": [
    "### SPLITTING THE DATA SET INTO THE TRAINING SET AND TEST SET"
   ],
   "metadata": {
    "collapsed": false
   },
   "id": "2e4a6a7146e7d6bb"
  },
  {
   "cell_type": "code",
   "execution_count": null,
   "outputs": [],
   "source": [
    "from sklearn.model_selection import train_test_split\n",
    "x_train, x_test, y_train, y_test = train_test_split(x,y,test_size=0.2, random_state=0)"
   ],
   "metadata": {
    "collapsed": false
   },
   "id": "611b69dc4aa9b6a1"
  },
  {
   "cell_type": "markdown",
   "source": [
    "### TRAINING THE MULTIPLE LINEAR REGRESSION MODEL ON THE TRAINING"
   ],
   "metadata": {
    "collapsed": false
   },
   "id": "783c52da8ef8ed47"
  },
  {
   "cell_type": "code",
   "execution_count": null,
   "outputs": [],
   "source": [
    "from sklearn.linear_model import LinearRegression\n",
    "regressor = LinearRegression()\n",
    "regressor.fit(x_train, y_train)"
   ],
   "metadata": {
    "collapsed": false
   },
   "id": "132337f6418d5106"
  },
  {
   "cell_type": "markdown",
   "source": [
    "### PREDICTING THE TEST SET RESULTS"
   ],
   "metadata": {
    "collapsed": false
   },
   "id": "9f8ebc376da4786a"
  },
  {
   "cell_type": "code",
   "execution_count": null,
   "outputs": [],
   "source": [
    "y_pred = regressor.predict(x_test)\n",
    "np.set_printoptions(precision=2)\n",
    "print(np.concatenate((y_pred.reshape(len(y_pred),1),y_test.reshape(len(y_test),1)),1))"
   ],
   "metadata": {
    "collapsed": false
   },
   "id": "a0afef77a43c2d3f"
  },
  {
   "cell_type": "markdown",
   "source": [
    "### EVALUATING THE MODEL PERFORMANCE"
   ],
   "metadata": {
    "collapsed": false
   },
   "id": "7f49e44080a21cda"
  },
  {
   "cell_type": "code",
   "execution_count": null,
   "outputs": [],
   "source": [
    "from sklearn.metrics import r2_score\n",
    "r2_score(y_test, y_pred)"
   ],
   "metadata": {
    "collapsed": false
   },
   "id": "5cd6b316591b1e55"
  }
 ],
 "metadata": {
  "kernelspec": {
   "display_name": "Python 3",
   "language": "python",
   "name": "python3"
  },
  "language_info": {
   "codemirror_mode": {
    "name": "ipython",
    "version": 2
   },
   "file_extension": ".py",
   "mimetype": "text/x-python",
   "name": "python",
   "nbconvert_exporter": "python",
   "pygments_lexer": "ipython2",
   "version": "2.7.6"
  }
 },
 "nbformat": 4,
 "nbformat_minor": 5
}
