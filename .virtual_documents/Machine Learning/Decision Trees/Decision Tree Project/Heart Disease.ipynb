import matplotlib.pyplot as plt
import pandas as pd
import seaborn as sns
import numpy as np
from warnings import filterwarnings
filterwarnings('ignore')


data = pd.read_csv('HeartDisease.csv')
data.head(5)
X = data.drop(columns='target')
y = data['target']
X


from sklearn.model_selection import train_test_split
X_train, X_test, y_train, y_test = train_test_split(X,y, test_size=0.3, random_state=30)


from sklearn.tree import DecisionTreeClassifier
from sklearn.model_selection import GridSearchCV
params = {
    'max_depth' : [None,1,2,4,8,10],
    'min_samples_split' : [1,2,4, 10],
    'min_samples_leaf' : [1, 2],
    'max_features' : ['auto','sqrt','log2'],
    'criterion' : ['gini','entropy']
}


dtree = DecisionTreeClassifier()
grid_search = GridSearchCV(estimator=dtree,
                           param_grid=params,
                           cv=5,
                           scoring='accuracy',
                           n_jobs=-1)
grid_search.fit(X_train, y_train)


# dtree.fit(X_train, X_test)
# from sklearn import tree
# plt.figure(figsize=(15,10))
# tree.plot_tree(dtree,filled=True)


# print(grid_search.best_score_)
# print(grid_search.best_params_)


y_pred = grid_search.predict(X_test)





from sklearn.metrics import accuracy_score,confusion_matrix

accuracy_score(y_test, y_pred)


# confusion_matrix(y_test,y_pred)



