{
 "cells": [
  {
   "cell_type": "markdown",
   "metadata": {
    "colab_type": "text",
    "id": "lP6JLo1tGNBg"
   },
   "source": [
    "# Artificial Neural Network"
   ]
  },
  {
   "cell_type": "markdown",
   "metadata": {
    "colab_type": "text",
    "id": "gWZyYmS_UE_L"
   },
   "source": [
    "### Importing the libraries"
   ]
  },
  {
   "cell_type": "code",
   "execution_count": 2,
   "metadata": {
    "colab": {},
    "colab_type": "code",
    "id": "MxkJoQBkUIHC"
   },
   "outputs": [
    {
     "name": "stdout",
     "output_type": "stream",
     "text": [
      "Collecting tensorflow\n",
      "  Downloading tensorflow-2.14.0-cp311-cp311-win_amd64.whl (2.1 kB)\n",
      "Collecting tensorflow-intel==2.14.0 (from tensorflow)\n",
      "  Downloading tensorflow_intel-2.14.0-cp311-cp311-win_amd64.whl (284.2 MB)\n",
      "                                              0.0/284.2 MB ? eta -:--:--\n",
      "                                            0.0/284.2 MB 991.0 kB/s eta 0:04:47\n",
      "                                              0.1/284.2 MB 1.7 MB/s eta 0:02:47\n",
      "                                              0.4/284.2 MB 2.4 MB/s eta 0:02:01\n",
      "                                              1.1/284.2 MB 5.0 MB/s eta 0:00:58\n",
      "                                              2.3/284.2 MB 9.1 MB/s eta 0:00:31\n",
      "                                             3.6/284.2 MB 12.1 MB/s eta 0:00:24\n",
      "                                             5.3/284.2 MB 15.3 MB/s eta 0:00:19\n",
      "                                             7.0/284.2 MB 17.9 MB/s eta 0:00:16\n",
      "                                             7.1/284.2 MB 17.5 MB/s eta 0:00:16\n",
      "                                             7.1/284.2 MB 17.5 MB/s eta 0:00:16\n",
      "     -                                       9.0/284.2 MB 16.9 MB/s eta 0:00:17\n",
      "     -                                      11.9/284.2 MB 29.7 MB/s eta 0:00:10\n",
      "     -                                      13.4/284.2 MB 29.7 MB/s eta 0:00:10\n",
      "     -                                      14.3/284.2 MB 29.7 MB/s eta 0:00:10\n",
      "     --                                     16.0/284.2 MB 28.4 MB/s eta 0:00:10\n",
      "     --                                     17.8/284.2 MB 40.9 MB/s eta 0:00:07\n",
      "     --                                     19.3/284.2 MB 38.6 MB/s eta 0:00:07\n",
      "     --                                     20.6/284.2 MB 34.4 MB/s eta 0:00:08\n",
      "     --                                     22.4/284.2 MB 32.8 MB/s eta 0:00:08\n",
      "     ---                                    24.1/284.2 MB 36.4 MB/s eta 0:00:08\n",
      "     ---                                    25.7/284.2 MB 34.4 MB/s eta 0:00:08\n",
      "     ---                                    26.1/284.2 MB 31.2 MB/s eta 0:00:09\n",
      "     ---                                    27.8/284.2 MB 31.2 MB/s eta 0:00:09\n",
      "     ---                                    29.2/284.2 MB 29.7 MB/s eta 0:00:09\n",
      "     ----                                   31.3/284.2 MB 32.8 MB/s eta 0:00:08\n",
      "     ----                                   32.8/284.2 MB 32.8 MB/s eta 0:00:08\n",
      "     ----                                   34.7/284.2 MB 32.8 MB/s eta 0:00:08\n",
      "     ----                                   36.5/284.2 MB 38.5 MB/s eta 0:00:07\n",
      "     -----                                  38.2/284.2 MB 38.5 MB/s eta 0:00:07\n",
      "     -----                                  40.0/284.2 MB 40.9 MB/s eta 0:00:06\n",
      "     -----                                  41.5/284.2 MB 36.3 MB/s eta 0:00:07\n",
      "     -----                                  43.5/284.2 MB 38.5 MB/s eta 0:00:07\n",
      "     -----                                  43.8/284.2 MB 38.5 MB/s eta 0:00:07\n",
      "     ------                                 45.6/284.2 MB 32.8 MB/s eta 0:00:08\n",
      "     ------                                 47.2/284.2 MB 32.8 MB/s eta 0:00:08\n",
      "     ------                                 48.9/284.2 MB 32.8 MB/s eta 0:00:08\n",
      "     ------                                 50.4/284.2 MB 31.2 MB/s eta 0:00:08\n",
      "     ------                                 51.7/284.2 MB 31.2 MB/s eta 0:00:08\n",
      "     -------                                53.6/284.2 MB 31.2 MB/s eta 0:00:08\n",
      "     -------                                55.4/284.2 MB 34.4 MB/s eta 0:00:07\n",
      "     -------                                57.1/284.2 MB 38.5 MB/s eta 0:00:06\n",
      "     -------                                58.7/284.2 MB 36.3 MB/s eta 0:00:07\n",
      "     --------                               60.5/284.2 MB 36.3 MB/s eta 0:00:07\n",
      "     --------                               62.2/284.2 MB 38.6 MB/s eta 0:00:06\n",
      "     --------                               62.7/284.2 MB 38.5 MB/s eta 0:00:06\n",
      "     --------                               63.0/284.2 MB 29.7 MB/s eta 0:00:08\n",
      "     --------                               65.4/284.2 MB 31.2 MB/s eta 0:00:08\n",
      "     ---------                              69.3/284.2 MB 38.5 MB/s eta 0:00:06\n",
      "     ---------                              71.3/284.2 MB 40.9 MB/s eta 0:00:06\n",
      "     ---------                              73.1/284.2 MB 54.4 MB/s eta 0:00:04\n",
      "     ---------                              74.8/284.2 MB 50.1 MB/s eta 0:00:05\n",
      "     ----------                             76.7/284.2 MB 46.9 MB/s eta 0:00:05\n",
      "     ----------                             78.4/284.2 MB 43.7 MB/s eta 0:00:05\n",
      "     ----------                             80.2/284.2 MB 38.6 MB/s eta 0:00:06\n",
      "     ----------                             81.9/284.2 MB 38.5 MB/s eta 0:00:06\n",
      "     -----------                            83.8/284.2 MB 38.5 MB/s eta 0:00:06\n",
      "     -----------                            85.6/284.2 MB 38.5 MB/s eta 0:00:06\n",
      "     -----------                            87.3/284.2 MB 38.5 MB/s eta 0:00:06\n",
      "     -----------                            89.0/284.2 MB 38.5 MB/s eta 0:00:06\n",
      "     ------------                           90.7/284.2 MB 38.6 MB/s eta 0:00:06\n",
      "     ------------                           92.5/284.2 MB 38.6 MB/s eta 0:00:05\n",
      "     ------------                           94.3/284.2 MB 38.6 MB/s eta 0:00:05\n",
      "     ------------                           96.1/284.2 MB 38.5 MB/s eta 0:00:05\n",
      "     -------------                          97.9/284.2 MB 38.5 MB/s eta 0:00:05\n",
      "     -------------                          99.6/284.2 MB 38.5 MB/s eta 0:00:05\n",
      "     -------------                         101.4/284.2 MB 38.5 MB/s eta 0:00:05\n",
      "     -------------                         103.1/284.2 MB 38.5 MB/s eta 0:00:05\n",
      "     -------------                         104.9/284.2 MB 38.6 MB/s eta 0:00:05\n",
      "     -------------                         106.5/284.2 MB 36.4 MB/s eta 0:00:05\n",
      "     --------------                        108.4/284.2 MB 36.4 MB/s eta 0:00:05\n",
      "     --------------                        110.3/284.2 MB 38.5 MB/s eta 0:00:05\n",
      "     --------------                        111.9/284.2 MB 36.4 MB/s eta 0:00:05\n",
      "     --------------                        113.7/284.2 MB 36.4 MB/s eta 0:00:05\n",
      "     ---------------                       115.5/284.2 MB 36.3 MB/s eta 0:00:05\n",
      "     ---------------                       117.3/284.2 MB 38.5 MB/s eta 0:00:05\n",
      "     ---------------                       119.1/284.2 MB 38.6 MB/s eta 0:00:05\n",
      "     ---------------                       121.0/284.2 MB 40.9 MB/s eta 0:00:04\n",
      "     ----------------                      123.0/284.2 MB 38.6 MB/s eta 0:00:05\n",
      "     ----------------                      124.7/284.2 MB 40.9 MB/s eta 0:00:04\n",
      "     ----------------                      126.6/284.2 MB 38.5 MB/s eta 0:00:05\n",
      "     ----------------                      128.4/284.2 MB 38.5 MB/s eta 0:00:05\n",
      "     ----------------                      130.3/284.2 MB 38.5 MB/s eta 0:00:05\n",
      "     -----------------                     132.0/284.2 MB 38.5 MB/s eta 0:00:04\n",
      "     -----------------                     133.9/284.2 MB 40.9 MB/s eta 0:00:04\n",
      "     -----------------                     135.8/284.2 MB 40.9 MB/s eta 0:00:04\n",
      "     -----------------                     137.6/284.2 MB 40.9 MB/s eta 0:00:04\n",
      "     ------------------                    139.4/284.2 MB 40.9 MB/s eta 0:00:04\n",
      "     ------------------                    141.1/284.2 MB 40.9 MB/s eta 0:00:04\n",
      "     ------------------                    143.0/284.2 MB 40.9 MB/s eta 0:00:04\n",
      "     ------------------                    144.7/284.2 MB 38.5 MB/s eta 0:00:04\n",
      "     -------------------                   146.6/284.2 MB 40.9 MB/s eta 0:00:04\n",
      "     -------------------                   148.3/284.2 MB 38.5 MB/s eta 0:00:04\n",
      "     -------------------                   150.1/284.2 MB 38.5 MB/s eta 0:00:04\n",
      "     -------------------                   151.8/284.2 MB 38.5 MB/s eta 0:00:04\n",
      "     --------------------                  153.7/284.2 MB 38.6 MB/s eta 0:00:04\n",
      "     --------------------                  155.6/284.2 MB 38.6 MB/s eta 0:00:04\n",
      "     --------------------                  157.3/284.2 MB 38.6 MB/s eta 0:00:04\n",
      "     --------------------                  159.0/284.2 MB 38.5 MB/s eta 0:00:04\n",
      "     --------------------                  160.8/284.2 MB 38.5 MB/s eta 0:00:04\n",
      "     ---------------------                 162.5/284.2 MB 38.5 MB/s eta 0:00:04\n",
      "     ---------------------                 164.1/284.2 MB 38.5 MB/s eta 0:00:04\n",
      "     ---------------------                 165.9/284.2 MB 38.5 MB/s eta 0:00:04\n",
      "     ---------------------                 167.7/284.2 MB 38.6 MB/s eta 0:00:04\n",
      "     ----------------------                169.4/284.2 MB 38.6 MB/s eta 0:00:03\n",
      "     ----------------------                171.1/284.2 MB 38.6 MB/s eta 0:00:03\n",
      "     ----------------------                172.9/284.2 MB 38.5 MB/s eta 0:00:03\n",
      "     ----------------------                174.6/284.2 MB 38.5 MB/s eta 0:00:03\n",
      "     ----------------------                176.4/284.2 MB 38.5 MB/s eta 0:00:03\n",
      "     -----------------------               178.2/284.2 MB 38.5 MB/s eta 0:00:03\n",
      "     -----------------------               179.8/284.2 MB 38.5 MB/s eta 0:00:03\n",
      "     -----------------------               181.2/284.2 MB 36.4 MB/s eta 0:00:03\n",
      "     -----------------------               181.2/284.2 MB 36.4 MB/s eta 0:00:03\n",
      "     -----------------------               182.0/284.2 MB 28.5 MB/s eta 0:00:04\n",
      "     ------------------------              185.7/284.2 MB 34.4 MB/s eta 0:00:03\n",
      "     ------------------------              188.5/284.2 MB 36.4 MB/s eta 0:00:03\n",
      "     ------------------------              190.0/284.2 MB 36.4 MB/s eta 0:00:03\n",
      "     ------------------------              191.8/284.2 MB 54.4 MB/s eta 0:00:02\n",
      "     -------------------------             193.4/284.2 MB 46.7 MB/s eta 0:00:02\n",
      "     -------------------------             195.4/284.2 MB 43.7 MB/s eta 0:00:03\n",
      "     -------------------------             197.2/284.2 MB 38.6 MB/s eta 0:00:03\n",
      "     -------------------------             197.4/284.2 MB 32.8 MB/s eta 0:00:03\n",
      "     -------------------------             199.1/284.2 MB 32.8 MB/s eta 0:00:03\n",
      "     --------------------------            200.8/284.2 MB 32.7 MB/s eta 0:00:03\n",
      "     --------------------------            202.5/284.2 MB 32.7 MB/s eta 0:00:03\n",
      "     --------------------------            204.3/284.2 MB 32.7 MB/s eta 0:00:03\n",
      "     --------------------------            206.3/284.2 MB 32.7 MB/s eta 0:00:03\n",
      "     ---------------------------           208.1/284.2 MB 38.6 MB/s eta 0:00:02\n",
      "     ---------------------------           210.1/284.2 MB 38.6 MB/s eta 0:00:02\n",
      "     ---------------------------           211.8/284.2 MB 38.6 MB/s eta 0:00:02\n",
      "     ---------------------------           213.6/284.2 MB 38.5 MB/s eta 0:00:02\n",
      "     ----------------------------          215.6/284.2 MB 38.5 MB/s eta 0:00:02\n",
      "     ----------------------------          217.3/284.2 MB 38.5 MB/s eta 0:00:02\n",
      "     ----------------------------          219.0/284.2 MB 38.5 MB/s eta 0:00:02\n",
      "     ----------------------------          220.9/284.2 MB 38.5 MB/s eta 0:00:02\n",
      "     ----------------------------          222.7/284.2 MB 38.6 MB/s eta 0:00:02\n",
      "     -----------------------------         224.4/284.2 MB 38.6 MB/s eta 0:00:02\n",
      "     -----------------------------         226.3/284.2 MB 36.4 MB/s eta 0:00:02\n",
      "     -----------------------------         228.1/284.2 MB 38.5 MB/s eta 0:00:02\n",
      "     -----------------------------         229.8/284.2 MB 38.5 MB/s eta 0:00:02\n",
      "     ------------------------------        231.6/284.2 MB 38.5 MB/s eta 0:00:02\n",
      "     ------------------------------        233.4/284.2 MB 38.5 MB/s eta 0:00:02\n",
      "     ------------------------------        234.5/284.2 MB 34.4 MB/s eta 0:00:02\n",
      "     ------------------------------        236.2/284.2 MB 34.6 MB/s eta 0:00:02\n",
      "     ------------------------------        237.9/284.2 MB 34.4 MB/s eta 0:00:02\n",
      "     -------------------------------       238.6/284.2 MB 34.4 MB/s eta 0:00:02\n",
      "     -------------------------------       238.6/284.2 MB 28.5 MB/s eta 0:00:02\n",
      "     -------------------------------       241.0/284.2 MB 29.8 MB/s eta 0:00:02\n",
      "     -------------------------------       243.6/284.2 MB 32.8 MB/s eta 0:00:02\n",
      "     --------------------------------      246.3/284.2 MB 36.4 MB/s eta 0:00:02\n",
      "     --------------------------------      248.7/284.2 MB 38.5 MB/s eta 0:00:01\n",
      "     --------------------------------      250.4/284.2 MB 54.4 MB/s eta 0:00:01\n",
      "     --------------------------------      252.1/284.2 MB 50.4 MB/s eta 0:00:01\n",
      "     ---------------------------------     253.9/284.2 MB 46.7 MB/s eta 0:00:01\n",
      "     ---------------------------------     255.7/284.2 MB 43.7 MB/s eta 0:00:01\n",
      "     ---------------------------------     257.4/284.2 MB 40.9 MB/s eta 0:00:01\n",
      "     ---------------------------------     257.7/284.2 MB 34.4 MB/s eta 0:00:01\n",
      "     ---------------------------------     259.6/284.2 MB 34.4 MB/s eta 0:00:01\n",
      "     ----------------------------------    261.2/284.2 MB 34.4 MB/s eta 0:00:01\n",
      "     ----------------------------------    263.1/284.2 MB 34.4 MB/s eta 0:00:01\n",
      "     ----------------------------------    264.8/284.2 MB 34.4 MB/s eta 0:00:01\n",
      "     ----------------------------------    266.6/284.2 MB 32.7 MB/s eta 0:00:01\n",
      "     ----------------------------------    268.4/284.2 MB 38.6 MB/s eta 0:00:01\n",
      "     -----------------------------------   270.2/284.2 MB 38.6 MB/s eta 0:00:01\n",
      "     -----------------------------------   271.9/284.2 MB 38.6 MB/s eta 0:00:01\n",
      "     -----------------------------------   273.7/284.2 MB 38.5 MB/s eta 0:00:01\n",
      "     -----------------------------------   275.7/284.2 MB 38.5 MB/s eta 0:00:01\n",
      "     ------------------------------------  277.4/284.2 MB 38.5 MB/s eta 0:00:01\n",
      "     ------------------------------------  279.3/284.2 MB 38.5 MB/s eta 0:00:01\n",
      "     ------------------------------------  281.0/284.2 MB 38.5 MB/s eta 0:00:01\n",
      "     ------------------------------------  282.9/284.2 MB 38.6 MB/s eta 0:00:01\n",
      "     ------------------------------------  284.2/284.2 MB 40.9 MB/s eta 0:00:01\n",
      "     ------------------------------------  284.2/284.2 MB 40.9 MB/s eta 0:00:01\n",
      "     ------------------------------------  284.2/284.2 MB 40.9 MB/s eta 0:00:01\n",
      "     ------------------------------------  284.2/284.2 MB 40.9 MB/s eta 0:00:01\n",
      "     ------------------------------------  284.2/284.2 MB 40.9 MB/s eta 0:00:01\n",
      "     ------------------------------------  284.2/284.2 MB 40.9 MB/s eta 0:00:01\n",
      "     ------------------------------------  284.2/284.2 MB 40.9 MB/s eta 0:00:01\n",
      "     ------------------------------------  284.2/284.2 MB 40.9 MB/s eta 0:00:01\n",
      "     ------------------------------------  284.2/284.2 MB 40.9 MB/s eta 0:00:01\n",
      "     ------------------------------------  284.2/284.2 MB 40.9 MB/s eta 0:00:01\n",
      "     ------------------------------------  284.2/284.2 MB 40.9 MB/s eta 0:00:01\n",
      "     ------------------------------------  284.2/284.2 MB 40.9 MB/s eta 0:00:01\n",
      "     ------------------------------------  284.2/284.2 MB 40.9 MB/s eta 0:00:01\n",
      "     ------------------------------------  284.2/284.2 MB 40.9 MB/s eta 0:00:01\n",
      "     ------------------------------------  284.2/284.2 MB 40.9 MB/s eta 0:00:01\n",
      "     ------------------------------------  284.2/284.2 MB 40.9 MB/s eta 0:00:01\n",
      "     ------------------------------------  284.2/284.2 MB 40.9 MB/s eta 0:00:01\n",
      "     -------------------------------------- 284.2/284.2 MB 7.4 MB/s eta 0:00:00\n",
      "Collecting absl-py>=1.0.0 (from tensorflow-intel==2.14.0->tensorflow)\n",
      "  Downloading absl_py-2.0.0-py3-none-any.whl (130 kB)\n",
      "                                              0.0/130.2 kB ? eta -:--:--\n",
      "     -------------------------------------    122.9/130.2 kB ? eta -:--:--\n",
      "     -------------------------------------- 130.2/130.2 kB 1.5 MB/s eta 0:00:00\n",
      "Collecting astunparse>=1.6.0 (from tensorflow-intel==2.14.0->tensorflow)\n",
      "  Downloading astunparse-1.6.3-py2.py3-none-any.whl (12 kB)\n",
      "Collecting flatbuffers>=23.5.26 (from tensorflow-intel==2.14.0->tensorflow)\n",
      "  Downloading flatbuffers-23.5.26-py2.py3-none-any.whl (26 kB)\n",
      "Collecting gast!=0.5.0,!=0.5.1,!=0.5.2,>=0.2.1 (from tensorflow-intel==2.14.0->tensorflow)\n",
      "  Using cached gast-0.5.4-py3-none-any.whl (19 kB)\n",
      "Collecting google-pasta>=0.1.1 (from tensorflow-intel==2.14.0->tensorflow)\n",
      "  Downloading google_pasta-0.2.0-py3-none-any.whl (57 kB)\n",
      "                                              0.0/57.5 kB ? eta -:--:--\n",
      "     ---------------------------------------- 57.5/57.5 kB 3.0 MB/s eta 0:00:00\n",
      "Requirement already satisfied: h5py>=2.9.0 in c:\\users\\sumit kaushik\\anaconda3\\lib\\site-packages (from tensorflow-intel==2.14.0->tensorflow) (3.7.0)\n",
      "Collecting libclang>=13.0.0 (from tensorflow-intel==2.14.0->tensorflow)\n",
      "  Downloading libclang-16.0.6-py2.py3-none-win_amd64.whl (24.4 MB)\n",
      "                                              0.0/24.4 MB ? eta -:--:--\n",
      "     --                                       1.6/24.4 MB 33.6 MB/s eta 0:00:01\n",
      "     ------                                   4.0/24.4 MB 41.9 MB/s eta 0:00:01\n",
      "     ---------                                5.6/24.4 MB 39.7 MB/s eta 0:00:01\n",
      "     ------------                             7.5/24.4 MB 40.1 MB/s eta 0:00:01\n",
      "     ---------------                          9.4/24.4 MB 39.8 MB/s eta 0:00:01\n",
      "     -----------------                       10.8/24.4 MB 40.9 MB/s eta 0:00:01\n",
      "     ------------------                      11.4/24.4 MB 34.6 MB/s eta 0:00:01\n",
      "     ---------------------                   13.2/24.4 MB 34.4 MB/s eta 0:00:01\n",
      "     -----------------------                 14.7/24.4 MB 32.8 MB/s eta 0:00:01\n",
      "     --------------------------              16.4/24.4 MB 32.8 MB/s eta 0:00:01\n",
      "     -----------------------------           18.2/24.4 MB 32.7 MB/s eta 0:00:01\n",
      "     -------------------------------         20.0/24.4 MB 32.7 MB/s eta 0:00:01\n",
      "     ----------------------------------      21.9/24.4 MB 38.5 MB/s eta 0:00:01\n",
      "     -------------------------------------   23.6/24.4 MB 36.3 MB/s eta 0:00:01\n",
      "     --------------------------------------  24.4/24.4 MB 38.6 MB/s eta 0:00:01\n",
      "     --------------------------------------  24.4/24.4 MB 38.6 MB/s eta 0:00:01\n",
      "     --------------------------------------  24.4/24.4 MB 38.6 MB/s eta 0:00:01\n",
      "     --------------------------------------  24.4/24.4 MB 38.6 MB/s eta 0:00:01\n",
      "     --------------------------------------- 24.4/24.4 MB 21.8 MB/s eta 0:00:00\n",
      "Collecting ml-dtypes==0.2.0 (from tensorflow-intel==2.14.0->tensorflow)\n",
      "  Downloading ml_dtypes-0.2.0-cp311-cp311-win_amd64.whl (938 kB)\n",
      "                                              0.0/938.7 kB ? eta -:--:--\n",
      "     ------------------------------------  931.8/938.7 kB 57.6 MB/s eta 0:00:01\n",
      "     ------------------------------------  931.8/938.7 kB 57.6 MB/s eta 0:00:01\n",
      "     -------------------------------------- 938.7/938.7 kB 7.4 MB/s eta 0:00:00\n",
      "Requirement already satisfied: numpy>=1.23.5 in c:\\users\\sumit kaushik\\anaconda3\\lib\\site-packages (from tensorflow-intel==2.14.0->tensorflow) (1.24.3)\n",
      "Collecting opt-einsum>=2.3.2 (from tensorflow-intel==2.14.0->tensorflow)\n",
      "  Downloading opt_einsum-3.3.0-py3-none-any.whl (65 kB)\n",
      "                                              0.0/65.5 kB ? eta -:--:--\n",
      "     ---------------------------------------- 65.5/65.5 kB 3.5 MB/s eta 0:00:00\n",
      "Requirement already satisfied: packaging in c:\\users\\sumit kaushik\\anaconda3\\lib\\site-packages (from tensorflow-intel==2.14.0->tensorflow) (23.0)\n",
      "Collecting protobuf!=4.21.0,!=4.21.1,!=4.21.2,!=4.21.3,!=4.21.4,!=4.21.5,<5.0.0dev,>=3.20.3 (from tensorflow-intel==2.14.0->tensorflow)\n",
      "  Downloading protobuf-4.24.4-cp310-abi3-win_amd64.whl (430 kB)\n",
      "                                              0.0/430.5 kB ? eta -:--:--\n",
      "     ------------------------------------  430.1/430.5 kB 26.2 MB/s eta 0:00:01\n",
      "     -------------------------------------- 430.5/430.5 kB 4.5 MB/s eta 0:00:00\n",
      "Requirement already satisfied: setuptools in c:\\users\\sumit kaushik\\anaconda3\\lib\\site-packages (from tensorflow-intel==2.14.0->tensorflow) (67.8.0)\n",
      "Requirement already satisfied: six>=1.12.0 in c:\\users\\sumit kaushik\\anaconda3\\lib\\site-packages (from tensorflow-intel==2.14.0->tensorflow) (1.16.0)\n",
      "Collecting termcolor>=1.1.0 (from tensorflow-intel==2.14.0->tensorflow)\n",
      "  Downloading termcolor-2.3.0-py3-none-any.whl (6.9 kB)\n",
      "Requirement already satisfied: typing-extensions>=3.6.6 in c:\\users\\sumit kaushik\\anaconda3\\lib\\site-packages (from tensorflow-intel==2.14.0->tensorflow) (4.6.3)\n",
      "Requirement already satisfied: wrapt<1.15,>=1.11.0 in c:\\users\\sumit kaushik\\anaconda3\\lib\\site-packages (from tensorflow-intel==2.14.0->tensorflow) (1.14.1)\n",
      "Collecting tensorflow-io-gcs-filesystem>=0.23.1 (from tensorflow-intel==2.14.0->tensorflow)\n",
      "  Downloading tensorflow_io_gcs_filesystem-0.31.0-cp311-cp311-win_amd64.whl (1.5 MB)\n",
      "                                              0.0/1.5 MB ? eta -:--:--\n",
      "     ---------------------------------------  1.5/1.5 MB 46.1 MB/s eta 0:00:01\n",
      "     ---------------------------------------- 1.5/1.5 MB 31.4 MB/s eta 0:00:00\n",
      "Collecting grpcio<2.0,>=1.24.3 (from tensorflow-intel==2.14.0->tensorflow)\n",
      "  Downloading grpcio-1.59.2-cp311-cp311-win_amd64.whl (3.7 MB)\n",
      "                                              0.0/3.7 MB ? eta -:--:--\n",
      "     ----------------                         1.5/3.7 MB 31.4 MB/s eta 0:00:01\n",
      "     ---------------------------------------  3.7/3.7 MB 46.9 MB/s eta 0:00:01\n",
      "     ---------------------------------------- 3.7/3.7 MB 33.6 MB/s eta 0:00:00\n",
      "Collecting tensorboard<2.15,>=2.14 (from tensorflow-intel==2.14.0->tensorflow)\n",
      "  Downloading tensorboard-2.14.1-py3-none-any.whl (5.5 MB)\n",
      "                                              0.0/5.5 MB ? eta -:--:--\n",
      "     -------------                            1.9/5.5 MB 60.4 MB/s eta 0:00:01\n",
      "     --------------------------               3.6/5.5 MB 46.6 MB/s eta 0:00:01\n",
      "     -------------------------------------    5.2/5.5 MB 41.5 MB/s eta 0:00:01\n",
      "     ---------------------------------------  5.5/5.5 MB 38.9 MB/s eta 0:00:01\n",
      "     ---------------------------------------  5.5/5.5 MB 38.9 MB/s eta 0:00:01\n",
      "     ---------------------------------------- 5.5/5.5 MB 20.7 MB/s eta 0:00:00\n",
      "Collecting tensorflow-estimator<2.15,>=2.14.0 (from tensorflow-intel==2.14.0->tensorflow)\n",
      "  Downloading tensorflow_estimator-2.14.0-py2.py3-none-any.whl (440 kB)\n",
      "                                              0.0/440.7 kB ? eta -:--:--\n",
      "     ------------------------------------- 440.7/440.7 kB 13.9 MB/s eta 0:00:00\n",
      "Collecting keras<2.15,>=2.14.0 (from tensorflow-intel==2.14.0->tensorflow)\n",
      "  Downloading keras-2.14.0-py3-none-any.whl (1.7 MB)\n",
      "                                              0.0/1.7 MB ? eta -:--:--\n",
      "     ---------------------------------------  1.7/1.7 MB 105.6 MB/s eta 0:00:01\n",
      "     ---------------------------------------- 1.7/1.7 MB 54.8 MB/s eta 0:00:00\n",
      "Requirement already satisfied: wheel<1.0,>=0.23.0 in c:\\users\\sumit kaushik\\anaconda3\\lib\\site-packages (from astunparse>=1.6.0->tensorflow-intel==2.14.0->tensorflow) (0.38.4)\n",
      "Collecting google-auth<3,>=1.6.3 (from tensorboard<2.15,>=2.14->tensorflow-intel==2.14.0->tensorflow)\n",
      "  Downloading google_auth-2.23.4-py2.py3-none-any.whl (183 kB)\n",
      "                                              0.0/183.3 kB ? eta -:--:--\n",
      "     -----------------------------------   174.1/183.3 kB 10.2 MB/s eta 0:00:01\n",
      "     -------------------------------------- 183.3/183.3 kB 2.7 MB/s eta 0:00:00\n",
      "Collecting google-auth-oauthlib<1.1,>=0.5 (from tensorboard<2.15,>=2.14->tensorflow-intel==2.14.0->tensorflow)\n",
      "  Downloading google_auth_oauthlib-1.0.0-py2.py3-none-any.whl (18 kB)\n",
      "Requirement already satisfied: markdown>=2.6.8 in c:\\users\\sumit kaushik\\anaconda3\\lib\\site-packages (from tensorboard<2.15,>=2.14->tensorflow-intel==2.14.0->tensorflow) (3.4.1)\n",
      "Requirement already satisfied: requests<3,>=2.21.0 in c:\\users\\sumit kaushik\\anaconda3\\lib\\site-packages (from tensorboard<2.15,>=2.14->tensorflow-intel==2.14.0->tensorflow) (2.29.0)\n",
      "Collecting tensorboard-data-server<0.8.0,>=0.7.0 (from tensorboard<2.15,>=2.14->tensorflow-intel==2.14.0->tensorflow)\n",
      "  Downloading tensorboard_data_server-0.7.2-py3-none-any.whl (2.4 kB)\n",
      "Requirement already satisfied: werkzeug>=1.0.1 in c:\\users\\sumit kaushik\\anaconda3\\lib\\site-packages (from tensorboard<2.15,>=2.14->tensorflow-intel==2.14.0->tensorflow) (2.2.3)\n",
      "Collecting cachetools<6.0,>=2.0.0 (from google-auth<3,>=1.6.3->tensorboard<2.15,>=2.14->tensorflow-intel==2.14.0->tensorflow)\n",
      "  Downloading cachetools-5.3.2-py3-none-any.whl (9.3 kB)\n",
      "Requirement already satisfied: pyasn1-modules>=0.2.1 in c:\\users\\sumit kaushik\\anaconda3\\lib\\site-packages (from google-auth<3,>=1.6.3->tensorboard<2.15,>=2.14->tensorflow-intel==2.14.0->tensorflow) (0.2.8)\n",
      "Collecting rsa<5,>=3.1.4 (from google-auth<3,>=1.6.3->tensorboard<2.15,>=2.14->tensorflow-intel==2.14.0->tensorflow)\n",
      "  Downloading rsa-4.9-py3-none-any.whl (34 kB)\n",
      "Collecting requests-oauthlib>=0.7.0 (from google-auth-oauthlib<1.1,>=0.5->tensorboard<2.15,>=2.14->tensorflow-intel==2.14.0->tensorflow)\n",
      "  Downloading requests_oauthlib-1.3.1-py2.py3-none-any.whl (23 kB)\n",
      "Requirement already satisfied: charset-normalizer<4,>=2 in c:\\users\\sumit kaushik\\anaconda3\\lib\\site-packages (from requests<3,>=2.21.0->tensorboard<2.15,>=2.14->tensorflow-intel==2.14.0->tensorflow) (2.0.4)\n",
      "Requirement already satisfied: idna<4,>=2.5 in c:\\users\\sumit kaushik\\anaconda3\\lib\\site-packages (from requests<3,>=2.21.0->tensorboard<2.15,>=2.14->tensorflow-intel==2.14.0->tensorflow) (3.4)\n",
      "Requirement already satisfied: urllib3<1.27,>=1.21.1 in c:\\users\\sumit kaushik\\anaconda3\\lib\\site-packages (from requests<3,>=2.21.0->tensorboard<2.15,>=2.14->tensorflow-intel==2.14.0->tensorflow) (1.26.16)\n",
      "Requirement already satisfied: certifi>=2017.4.17 in c:\\users\\sumit kaushik\\anaconda3\\lib\\site-packages (from requests<3,>=2.21.0->tensorboard<2.15,>=2.14->tensorflow-intel==2.14.0->tensorflow) (2023.5.7)\n",
      "Requirement already satisfied: MarkupSafe>=2.1.1 in c:\\users\\sumit kaushik\\anaconda3\\lib\\site-packages (from werkzeug>=1.0.1->tensorboard<2.15,>=2.14->tensorflow-intel==2.14.0->tensorflow) (2.1.1)\n",
      "Requirement already satisfied: pyasn1<0.5.0,>=0.4.6 in c:\\users\\sumit kaushik\\anaconda3\\lib\\site-packages (from pyasn1-modules>=0.2.1->google-auth<3,>=1.6.3->tensorboard<2.15,>=2.14->tensorflow-intel==2.14.0->tensorflow) (0.4.8)\n",
      "Collecting oauthlib>=3.0.0 (from requests-oauthlib>=0.7.0->google-auth-oauthlib<1.1,>=0.5->tensorboard<2.15,>=2.14->tensorflow-intel==2.14.0->tensorflow)\n",
      "  Downloading oauthlib-3.2.2-py3-none-any.whl (151 kB)\n",
      "                                              0.0/151.7 kB ? eta -:--:--\n",
      "     -------------------------------------- 151.7/151.7 kB 4.6 MB/s eta 0:00:00\n",
      "Installing collected packages: libclang, flatbuffers, termcolor, tensorflow-io-gcs-filesystem, tensorflow-estimator, tensorboard-data-server, rsa, protobuf, opt-einsum, oauthlib, ml-dtypes, keras, grpcio, google-pasta, gast, cachetools, astunparse, absl-py, requests-oauthlib, google-auth, google-auth-oauthlib, tensorboard, tensorflow-intel, tensorflow\n",
      "Successfully installed absl-py-2.0.0 astunparse-1.6.3 cachetools-5.3.2 flatbuffers-23.5.26 gast-0.5.4 google-auth-2.23.4 google-auth-oauthlib-1.0.0 google-pasta-0.2.0 grpcio-1.59.2 keras-2.14.0 libclang-16.0.6 ml-dtypes-0.2.0 oauthlib-3.2.2 opt-einsum-3.3.0 protobuf-4.24.4 requests-oauthlib-1.3.1 rsa-4.9 tensorboard-2.14.1 tensorboard-data-server-0.7.2 tensorflow-2.14.0 tensorflow-estimator-2.14.0 tensorflow-intel-2.14.0 tensorflow-io-gcs-filesystem-0.31.0 termcolor-2.3.0\n"
     ]
    }
   ],
   "source": [
    "!pip install tensorflow\n",
    "import numpy as np\n",
    "import pandas as pd\n",
    "import tensorflow as tf"
   ]
  },
  {
   "cell_type": "code",
   "execution_count": 3,
   "metadata": {
    "colab": {
     "base_uri": "https://localhost:8080/",
     "height": 34
    },
    "colab_type": "code",
    "executionInfo": {
     "elapsed": 2400,
     "status": "ok",
     "timestamp": 1590257449959,
     "user": {
      "displayName": "Hadelin de Ponteves",
      "photoUrl": "https://lh3.googleusercontent.com/a-/AOh14GhEuXdT7eQweUmRPW8_laJuPggSK6hfvpl5a6WBaA=s64",
      "userId": "15047218817161520419"
     },
     "user_tz": -240
    },
    "id": "ZaTwK7ojXr2F",
    "outputId": "0b27a96d-d11a-43e8-ab4b-87c1f01896fe"
   },
   "outputs": [
    {
     "data": {
      "text/plain": [
       "'2.14.0'"
      ]
     },
     "execution_count": 3,
     "metadata": {},
     "output_type": "execute_result"
    }
   ],
   "source": [
    "tf.__version__"
   ]
  },
  {
   "cell_type": "markdown",
   "metadata": {
    "colab_type": "text",
    "id": "1E0Q3aoKUCRX"
   },
   "source": [
    "## Part 1 - Data Preprocessing"
   ]
  },
  {
   "cell_type": "markdown",
   "metadata": {
    "colab_type": "text",
    "id": "cKWAkFVGUU0Z"
   },
   "source": [
    "### Importing the dataset"
   ]
  },
  {
   "cell_type": "code",
   "execution_count": 4,
   "metadata": {
    "colab": {},
    "colab_type": "code",
    "id": "MXUkhkMfU4wq"
   },
   "outputs": [],
   "source": [
    "dataset = pd.read_csv('Churn_Modelling.csv')\n",
    "X = dataset.iloc[:, 3:-1].values\n",
    "y = dataset.iloc[:, -1].values"
   ]
  },
  {
   "cell_type": "code",
   "execution_count": 5,
   "metadata": {
    "colab": {
     "base_uri": "https://localhost:8080/",
     "height": 137
    },
    "colab_type": "code",
    "executionInfo": {
     "elapsed": 2396,
     "status": "ok",
     "timestamp": 1590257449961,
     "user": {
      "displayName": "Hadelin de Ponteves",
      "photoUrl": "https://lh3.googleusercontent.com/a-/AOh14GhEuXdT7eQweUmRPW8_laJuPggSK6hfvpl5a6WBaA=s64",
      "userId": "15047218817161520419"
     },
     "user_tz": -240
    },
    "id": "VYP9cQTWbzuI",
    "outputId": "797e7a64-9bac-436a-8c9c-94437e5e7587"
   },
   "outputs": [
    {
     "name": "stdout",
     "output_type": "stream",
     "text": [
      "[[619 'France' 'Female' ... 1 1 101348.88]\n",
      " [608 'Spain' 'Female' ... 0 1 112542.58]\n",
      " [502 'France' 'Female' ... 1 0 113931.57]\n",
      " ...\n",
      " [709 'France' 'Female' ... 0 1 42085.58]\n",
      " [772 'Germany' 'Male' ... 1 0 92888.52]\n",
      " [792 'France' 'Female' ... 1 0 38190.78]]\n"
     ]
    }
   ],
   "source": [
    "print(X)"
   ]
  },
  {
   "cell_type": "code",
   "execution_count": 6,
   "metadata": {
    "colab": {
     "base_uri": "https://localhost:8080/",
     "height": 34
    },
    "colab_type": "code",
    "executionInfo": {
     "elapsed": 2391,
     "status": "ok",
     "timestamp": 1590257449961,
     "user": {
      "displayName": "Hadelin de Ponteves",
      "photoUrl": "https://lh3.googleusercontent.com/a-/AOh14GhEuXdT7eQweUmRPW8_laJuPggSK6hfvpl5a6WBaA=s64",
      "userId": "15047218817161520419"
     },
     "user_tz": -240
    },
    "id": "38vKGE6Nb2RR",
    "outputId": "a815e42a-e0dd-4cb5-ab97-b17ead98fbc3"
   },
   "outputs": [
    {
     "name": "stdout",
     "output_type": "stream",
     "text": [
      "[1 0 1 ... 1 1 0]\n"
     ]
    }
   ],
   "source": [
    "print(y)"
   ]
  },
  {
   "cell_type": "markdown",
   "metadata": {
    "colab_type": "text",
    "id": "N6bQ0UgSU-NJ"
   },
   "source": [
    "### Encoding categorical data"
   ]
  },
  {
   "cell_type": "markdown",
   "metadata": {
    "colab_type": "text",
    "id": "le5MJreAbW52"
   },
   "source": [
    "Label Encoding the \"Gender\" column"
   ]
  },
  {
   "cell_type": "code",
   "execution_count": 7,
   "metadata": {
    "colab": {},
    "colab_type": "code",
    "id": "PxVKWXxLbczC"
   },
   "outputs": [],
   "source": [
    "from sklearn.preprocessing import LabelEncoder\n",
    "le = LabelEncoder()\n",
    "X[:, 2] = le.fit_transform(X[:, 2])"
   ]
  },
  {
   "cell_type": "code",
   "execution_count": 8,
   "metadata": {
    "colab": {
     "base_uri": "https://localhost:8080/",
     "height": 137
    },
    "colab_type": "code",
    "executionInfo": {
     "elapsed": 2719,
     "status": "ok",
     "timestamp": 1590257450295,
     "user": {
      "displayName": "Hadelin de Ponteves",
      "photoUrl": "https://lh3.googleusercontent.com/a-/AOh14GhEuXdT7eQweUmRPW8_laJuPggSK6hfvpl5a6WBaA=s64",
      "userId": "15047218817161520419"
     },
     "user_tz": -240
    },
    "id": "-M1KboxFb6OO",
    "outputId": "e2b8c7e8-0cbc-4cdf-f4eb-7f0853a00b88"
   },
   "outputs": [
    {
     "name": "stdout",
     "output_type": "stream",
     "text": [
      "[[619 'France' 0 ... 1 1 101348.88]\n",
      " [608 'Spain' 0 ... 0 1 112542.58]\n",
      " [502 'France' 0 ... 1 0 113931.57]\n",
      " ...\n",
      " [709 'France' 0 ... 0 1 42085.58]\n",
      " [772 'Germany' 1 ... 1 0 92888.52]\n",
      " [792 'France' 0 ... 1 0 38190.78]]\n"
     ]
    }
   ],
   "source": [
    "print(X)"
   ]
  },
  {
   "cell_type": "markdown",
   "metadata": {
    "colab_type": "text",
    "id": "CUxGZezpbMcb"
   },
   "source": [
    "One Hot Encoding the \"Geography\" column"
   ]
  },
  {
   "cell_type": "code",
   "execution_count": 9,
   "metadata": {
    "colab": {},
    "colab_type": "code",
    "id": "AMXC8-KMVirw"
   },
   "outputs": [],
   "source": [
    "from sklearn.compose import ColumnTransformer\n",
    "from sklearn.preprocessing import OneHotEncoder\n",
    "ct = ColumnTransformer(transformers=[('encoder', OneHotEncoder(), [1])], remainder='passthrough')\n",
    "X = np.array(ct.fit_transform(X))"
   ]
  },
  {
   "cell_type": "code",
   "execution_count": 10,
   "metadata": {
    "colab": {
     "base_uri": "https://localhost:8080/",
     "height": 137
    },
    "colab_type": "code",
    "executionInfo": {
     "elapsed": 2713,
     "status": "ok",
     "timestamp": 1590257450296,
     "user": {
      "displayName": "Hadelin de Ponteves",
      "photoUrl": "https://lh3.googleusercontent.com/a-/AOh14GhEuXdT7eQweUmRPW8_laJuPggSK6hfvpl5a6WBaA=s64",
      "userId": "15047218817161520419"
     },
     "user_tz": -240
    },
    "id": "ZcxwEon-b8nV",
    "outputId": "23a98af4-5e33-4b26-c27b-f06e3c5d2baf"
   },
   "outputs": [
    {
     "name": "stdout",
     "output_type": "stream",
     "text": [
      "[[1.0 0.0 0.0 ... 1 1 101348.88]\n",
      " [0.0 0.0 1.0 ... 0 1 112542.58]\n",
      " [1.0 0.0 0.0 ... 1 0 113931.57]\n",
      " ...\n",
      " [1.0 0.0 0.0 ... 0 1 42085.58]\n",
      " [0.0 1.0 0.0 ... 1 0 92888.52]\n",
      " [1.0 0.0 0.0 ... 1 0 38190.78]]\n"
     ]
    }
   ],
   "source": [
    "print(X)"
   ]
  },
  {
   "cell_type": "markdown",
   "metadata": {
    "colab_type": "text",
    "id": "vHol938cW8zd"
   },
   "source": [
    "### Splitting the dataset into the Training set and Test set"
   ]
  },
  {
   "cell_type": "code",
   "execution_count": 11,
   "metadata": {
    "colab": {},
    "colab_type": "code",
    "id": "Z-TDt0Y_XEfc"
   },
   "outputs": [],
   "source": [
    "from sklearn.model_selection import train_test_split\n",
    "X_train, X_test, y_train, y_test = train_test_split(X, y, test_size = 0.2, random_state = 0)"
   ]
  },
  {
   "cell_type": "markdown",
   "metadata": {
    "colab_type": "text",
    "id": "RE_FcHyfV3TQ"
   },
   "source": [
    "### Feature Scaling"
   ]
  },
  {
   "cell_type": "code",
   "execution_count": 12,
   "metadata": {
    "colab": {},
    "colab_type": "code",
    "id": "ViCrE00rV8Sk"
   },
   "outputs": [],
   "source": [
    "from sklearn.preprocessing import StandardScaler\n",
    "sc = StandardScaler()\n",
    "X_train = sc.fit_transform(X_train)\n",
    "X_test = sc.transform(X_test)"
   ]
  },
  {
   "cell_type": "markdown",
   "metadata": {
    "colab_type": "text",
    "id": "-zfEzkRVXIwF"
   },
   "source": [
    "## Part 2 - Building the ANN"
   ]
  },
  {
   "cell_type": "markdown",
   "metadata": {
    "colab_type": "text",
    "id": "KvdeScabXtlB"
   },
   "source": [
    "### Initializing the ANN"
   ]
  },
  {
   "cell_type": "code",
   "execution_count": 13,
   "metadata": {
    "colab": {},
    "colab_type": "code",
    "id": "3dtrScHxXQox"
   },
   "outputs": [],
   "source": [
    "ann = tf.keras.models.Sequential()"
   ]
  },
  {
   "cell_type": "markdown",
   "metadata": {
    "colab_type": "text",
    "id": "rP6urV6SX7kS"
   },
   "source": [
    "### Adding the input layer and the first hidden layer"
   ]
  },
  {
   "cell_type": "code",
   "execution_count": 14,
   "metadata": {
    "colab": {},
    "colab_type": "code",
    "id": "bppGycBXYCQr"
   },
   "outputs": [],
   "source": [
    "ann.add(tf.keras.layers.Dense(units=6, activation='relu'))"
   ]
  },
  {
   "cell_type": "markdown",
   "metadata": {
    "colab_type": "text",
    "id": "BELWAc_8YJze"
   },
   "source": [
    "### Adding the second hidden layer"
   ]
  },
  {
   "cell_type": "code",
   "execution_count": 15,
   "metadata": {
    "colab": {},
    "colab_type": "code",
    "id": "JneR0u0sYRTd"
   },
   "outputs": [],
   "source": [
    "ann.add(tf.keras.layers.Dense(units=6, activation='relu'))"
   ]
  },
  {
   "cell_type": "markdown",
   "metadata": {
    "colab_type": "text",
    "id": "OyNEe6RXYcU4"
   },
   "source": [
    "### Adding the output layer"
   ]
  },
  {
   "cell_type": "code",
   "execution_count": 16,
   "metadata": {
    "colab": {},
    "colab_type": "code",
    "id": "Cn3x41RBYfvY"
   },
   "outputs": [],
   "source": [
    "ann.add(tf.keras.layers.Dense(units=1, activation='sigmoid'))"
   ]
  },
  {
   "cell_type": "markdown",
   "metadata": {
    "colab_type": "text",
    "id": "JT4u2S1_Y4WG"
   },
   "source": [
    "## Part 3 - Training the ANN"
   ]
  },
  {
   "cell_type": "markdown",
   "metadata": {
    "colab_type": "text",
    "id": "8GWlJChhY_ZI"
   },
   "source": [
    "### Compiling the ANN"
   ]
  },
  {
   "cell_type": "code",
   "execution_count": 17,
   "metadata": {
    "colab": {},
    "colab_type": "code",
    "id": "fG3RrwDXZEaS"
   },
   "outputs": [],
   "source": [
    "ann.compile(optimizer = 'adam', loss = 'binary_crossentropy', metrics = ['accuracy'])"
   ]
  },
  {
   "cell_type": "markdown",
   "metadata": {
    "colab_type": "text",
    "id": "0QR_G5u7ZLSM"
   },
   "source": [
    "### Training the ANN on the Training set"
   ]
  },
  {
   "cell_type": "code",
   "execution_count": 18,
   "metadata": {
    "colab": {
     "base_uri": "https://localhost:8080/",
     "height": 1000
    },
    "colab_type": "code",
    "executionInfo": {
     "elapsed": 33685,
     "status": "ok",
     "timestamp": 1590257481284,
     "user": {
      "displayName": "Hadelin de Ponteves",
      "photoUrl": "https://lh3.googleusercontent.com/a-/AOh14GhEuXdT7eQweUmRPW8_laJuPggSK6hfvpl5a6WBaA=s64",
      "userId": "15047218817161520419"
     },
     "user_tz": -240
    },
    "id": "nHZ-LKv_ZRb3",
    "outputId": "718cc4b0-b5aa-40f0-9b20-d3d31730a531"
   },
   "outputs": [
    {
     "name": "stdout",
     "output_type": "stream",
     "text": [
      "Epoch 1/100\n",
      "250/250 [==============================] - 1s 2ms/step - loss: 0.5357 - accuracy: 0.7789\n",
      "Epoch 2/100\n",
      "250/250 [==============================] - 0s 2ms/step - loss: 0.4564 - accuracy: 0.7961\n",
      "Epoch 3/100\n",
      "250/250 [==============================] - 0s 2ms/step - loss: 0.4363 - accuracy: 0.7997\n",
      "Epoch 4/100\n",
      "250/250 [==============================] - 0s 2ms/step - loss: 0.4242 - accuracy: 0.8049\n",
      "Epoch 5/100\n",
      "250/250 [==============================] - 0s 2ms/step - loss: 0.4142 - accuracy: 0.8080\n",
      "Epoch 6/100\n",
      "250/250 [==============================] - 0s 2ms/step - loss: 0.4050 - accuracy: 0.8106\n",
      "Epoch 7/100\n",
      "250/250 [==============================] - 0s 2ms/step - loss: 0.3960 - accuracy: 0.8160\n",
      "Epoch 8/100\n",
      "250/250 [==============================] - 0s 2ms/step - loss: 0.3884 - accuracy: 0.8200\n",
      "Epoch 9/100\n",
      "250/250 [==============================] - 0s 2ms/step - loss: 0.3822 - accuracy: 0.8248\n",
      "Epoch 10/100\n",
      "250/250 [==============================] - 0s 2ms/step - loss: 0.3765 - accuracy: 0.8292\n",
      "Epoch 11/100\n",
      "250/250 [==============================] - 0s 2ms/step - loss: 0.3713 - accuracy: 0.8340\n",
      "Epoch 12/100\n",
      "250/250 [==============================] - 0s 2ms/step - loss: 0.3666 - accuracy: 0.8405\n",
      "Epoch 13/100\n",
      "250/250 [==============================] - 0s 2ms/step - loss: 0.3635 - accuracy: 0.8435\n",
      "Epoch 14/100\n",
      "250/250 [==============================] - 0s 2ms/step - loss: 0.3612 - accuracy: 0.8478\n",
      "Epoch 15/100\n",
      "250/250 [==============================] - 0s 2ms/step - loss: 0.3587 - accuracy: 0.8501\n",
      "Epoch 16/100\n",
      "250/250 [==============================] - 0s 2ms/step - loss: 0.3572 - accuracy: 0.8509\n",
      "Epoch 17/100\n",
      "250/250 [==============================] - 1s 2ms/step - loss: 0.3554 - accuracy: 0.8525\n",
      "Epoch 18/100\n",
      "250/250 [==============================] - 0s 2ms/step - loss: 0.3536 - accuracy: 0.8528\n",
      "Epoch 19/100\n",
      "250/250 [==============================] - 1s 2ms/step - loss: 0.3524 - accuracy: 0.8536\n",
      "Epoch 20/100\n",
      "250/250 [==============================] - 0s 2ms/step - loss: 0.3509 - accuracy: 0.8554\n",
      "Epoch 21/100\n",
      "250/250 [==============================] - 0s 2ms/step - loss: 0.3503 - accuracy: 0.8556\n",
      "Epoch 22/100\n",
      "250/250 [==============================] - 0s 2ms/step - loss: 0.3495 - accuracy: 0.8558\n",
      "Epoch 23/100\n",
      "250/250 [==============================] - 0s 2ms/step - loss: 0.3484 - accuracy: 0.8594\n",
      "Epoch 24/100\n",
      "250/250 [==============================] - 1s 2ms/step - loss: 0.3482 - accuracy: 0.8574\n",
      "Epoch 25/100\n",
      "250/250 [==============================] - 0s 2ms/step - loss: 0.3472 - accuracy: 0.8586\n",
      "Epoch 26/100\n",
      "250/250 [==============================] - 0s 2ms/step - loss: 0.3471 - accuracy: 0.8579\n",
      "Epoch 27/100\n",
      "250/250 [==============================] - 0s 2ms/step - loss: 0.3466 - accuracy: 0.8587\n",
      "Epoch 28/100\n",
      "250/250 [==============================] - 1s 2ms/step - loss: 0.3461 - accuracy: 0.8594\n",
      "Epoch 29/100\n",
      "250/250 [==============================] - 0s 2ms/step - loss: 0.3459 - accuracy: 0.8581\n",
      "Epoch 30/100\n",
      "250/250 [==============================] - 1s 2ms/step - loss: 0.3454 - accuracy: 0.8600\n",
      "Epoch 31/100\n",
      "250/250 [==============================] - 0s 2ms/step - loss: 0.3453 - accuracy: 0.8597\n",
      "Epoch 32/100\n",
      "250/250 [==============================] - 1s 2ms/step - loss: 0.3449 - accuracy: 0.8597\n",
      "Epoch 33/100\n",
      "250/250 [==============================] - 1s 2ms/step - loss: 0.3446 - accuracy: 0.8589\n",
      "Epoch 34/100\n",
      "250/250 [==============================] - 0s 2ms/step - loss: 0.3446 - accuracy: 0.8579\n",
      "Epoch 35/100\n",
      "250/250 [==============================] - 0s 2ms/step - loss: 0.3440 - accuracy: 0.8587\n",
      "Epoch 36/100\n",
      "250/250 [==============================] - 1s 2ms/step - loss: 0.3437 - accuracy: 0.8609\n",
      "Epoch 37/100\n",
      "250/250 [==============================] - 0s 2ms/step - loss: 0.3439 - accuracy: 0.8594\n",
      "Epoch 38/100\n",
      "250/250 [==============================] - 1s 2ms/step - loss: 0.3437 - accuracy: 0.8609\n",
      "Epoch 39/100\n",
      "250/250 [==============================] - 0s 2ms/step - loss: 0.3429 - accuracy: 0.8616\n",
      "Epoch 40/100\n",
      "250/250 [==============================] - 0s 2ms/step - loss: 0.3428 - accuracy: 0.8595\n",
      "Epoch 41/100\n",
      "250/250 [==============================] - 1s 2ms/step - loss: 0.3423 - accuracy: 0.8599\n",
      "Epoch 42/100\n",
      "250/250 [==============================] - 0s 2ms/step - loss: 0.3419 - accuracy: 0.8604\n",
      "Epoch 43/100\n",
      "250/250 [==============================] - 1s 2ms/step - loss: 0.3415 - accuracy: 0.8600\n",
      "Epoch 44/100\n",
      "250/250 [==============================] - 0s 2ms/step - loss: 0.3413 - accuracy: 0.8606\n",
      "Epoch 45/100\n",
      "250/250 [==============================] - 0s 2ms/step - loss: 0.3411 - accuracy: 0.8621\n",
      "Epoch 46/100\n",
      "250/250 [==============================] - 0s 2ms/step - loss: 0.3407 - accuracy: 0.8610\n",
      "Epoch 47/100\n",
      "250/250 [==============================] - 0s 2ms/step - loss: 0.3405 - accuracy: 0.8619\n",
      "Epoch 48/100\n",
      "250/250 [==============================] - 1s 2ms/step - loss: 0.3402 - accuracy: 0.8601\n",
      "Epoch 49/100\n",
      "250/250 [==============================] - 0s 2ms/step - loss: 0.3396 - accuracy: 0.8614\n",
      "Epoch 50/100\n",
      "250/250 [==============================] - 0s 2ms/step - loss: 0.3393 - accuracy: 0.8597\n",
      "Epoch 51/100\n",
      "250/250 [==============================] - 0s 2ms/step - loss: 0.3391 - accuracy: 0.8625\n",
      "Epoch 52/100\n",
      "250/250 [==============================] - 0s 2ms/step - loss: 0.3385 - accuracy: 0.8618\n",
      "Epoch 53/100\n",
      "250/250 [==============================] - 0s 2ms/step - loss: 0.3384 - accuracy: 0.8610\n",
      "Epoch 54/100\n",
      "250/250 [==============================] - 0s 2ms/step - loss: 0.3381 - accuracy: 0.8622\n",
      "Epoch 55/100\n",
      "250/250 [==============================] - 0s 2ms/step - loss: 0.3379 - accuracy: 0.8610\n",
      "Epoch 56/100\n",
      "250/250 [==============================] - 0s 2ms/step - loss: 0.3376 - accuracy: 0.8605\n",
      "Epoch 57/100\n",
      "250/250 [==============================] - 0s 2ms/step - loss: 0.3371 - accuracy: 0.8621\n",
      "Epoch 58/100\n",
      "250/250 [==============================] - 0s 2ms/step - loss: 0.3372 - accuracy: 0.8610\n",
      "Epoch 59/100\n",
      "250/250 [==============================] - 1s 2ms/step - loss: 0.3373 - accuracy: 0.8621\n",
      "Epoch 60/100\n",
      "250/250 [==============================] - 0s 2ms/step - loss: 0.3371 - accuracy: 0.8601\n",
      "Epoch 61/100\n",
      "250/250 [==============================] - 1s 2ms/step - loss: 0.3373 - accuracy: 0.8616\n",
      "Epoch 62/100\n",
      "250/250 [==============================] - 1s 2ms/step - loss: 0.3367 - accuracy: 0.8616\n",
      "Epoch 63/100\n",
      "250/250 [==============================] - 0s 2ms/step - loss: 0.3367 - accuracy: 0.8611\n",
      "Epoch 64/100\n",
      "250/250 [==============================] - 0s 2ms/step - loss: 0.3368 - accuracy: 0.8599\n",
      "Epoch 65/100\n",
      "250/250 [==============================] - 0s 2ms/step - loss: 0.3357 - accuracy: 0.8621\n",
      "Epoch 66/100\n",
      "250/250 [==============================] - 1s 2ms/step - loss: 0.3362 - accuracy: 0.8608\n",
      "Epoch 67/100\n",
      "250/250 [==============================] - 1s 2ms/step - loss: 0.3357 - accuracy: 0.8616\n",
      "Epoch 68/100\n",
      "250/250 [==============================] - 1s 2ms/step - loss: 0.3361 - accuracy: 0.8619\n",
      "Epoch 69/100\n",
      "250/250 [==============================] - 1s 2ms/step - loss: 0.3352 - accuracy: 0.8612\n",
      "Epoch 70/100\n",
      "250/250 [==============================] - 0s 2ms/step - loss: 0.3353 - accuracy: 0.8620\n",
      "Epoch 71/100\n",
      "250/250 [==============================] - 1s 2ms/step - loss: 0.3352 - accuracy: 0.8625\n",
      "Epoch 72/100\n",
      "250/250 [==============================] - 0s 2ms/step - loss: 0.3351 - accuracy: 0.8625\n",
      "Epoch 73/100\n",
      "250/250 [==============================] - 0s 2ms/step - loss: 0.3347 - accuracy: 0.8602\n",
      "Epoch 74/100\n",
      "250/250 [==============================] - 1s 2ms/step - loss: 0.3349 - accuracy: 0.8611\n",
      "Epoch 75/100\n",
      "250/250 [==============================] - 0s 2ms/step - loss: 0.3345 - accuracy: 0.8621\n",
      "Epoch 76/100\n",
      "250/250 [==============================] - 1s 2ms/step - loss: 0.3346 - accuracy: 0.8622\n",
      "Epoch 77/100\n",
      "250/250 [==============================] - 0s 2ms/step - loss: 0.3343 - accuracy: 0.8611\n",
      "Epoch 78/100\n",
      "250/250 [==============================] - 0s 2ms/step - loss: 0.3341 - accuracy: 0.8600\n",
      "Epoch 79/100\n",
      "250/250 [==============================] - 0s 2ms/step - loss: 0.3340 - accuracy: 0.8614\n",
      "Epoch 80/100\n",
      "250/250 [==============================] - 1s 2ms/step - loss: 0.3343 - accuracy: 0.8599\n",
      "Epoch 81/100\n"
     ]
    },
    {
     "name": "stdout",
     "output_type": "stream",
     "text": [
      "250/250 [==============================] - 0s 2ms/step - loss: 0.3340 - accuracy: 0.8614\n",
      "Epoch 82/100\n",
      "250/250 [==============================] - 0s 2ms/step - loss: 0.3337 - accuracy: 0.8631\n",
      "Epoch 83/100\n",
      "250/250 [==============================] - 0s 2ms/step - loss: 0.3335 - accuracy: 0.8619\n",
      "Epoch 84/100\n",
      "250/250 [==============================] - 0s 2ms/step - loss: 0.3339 - accuracy: 0.8608\n",
      "Epoch 85/100\n",
      "250/250 [==============================] - 0s 2ms/step - loss: 0.3337 - accuracy: 0.8627\n",
      "Epoch 86/100\n",
      "250/250 [==============================] - 0s 2ms/step - loss: 0.3340 - accuracy: 0.8609\n",
      "Epoch 87/100\n",
      "250/250 [==============================] - 0s 2ms/step - loss: 0.3335 - accuracy: 0.8610\n",
      "Epoch 88/100\n",
      "250/250 [==============================] - 0s 2ms/step - loss: 0.3336 - accuracy: 0.8622\n",
      "Epoch 89/100\n",
      "250/250 [==============================] - 0s 2ms/step - loss: 0.3337 - accuracy: 0.8626\n",
      "Epoch 90/100\n",
      "250/250 [==============================] - 0s 2ms/step - loss: 0.3335 - accuracy: 0.8619\n",
      "Epoch 91/100\n",
      "250/250 [==============================] - 0s 2ms/step - loss: 0.3332 - accuracy: 0.8614\n",
      "Epoch 92/100\n",
      "250/250 [==============================] - 0s 2ms/step - loss: 0.3335 - accuracy: 0.8620\n",
      "Epoch 93/100\n",
      "250/250 [==============================] - 0s 2ms/step - loss: 0.3331 - accuracy: 0.8615\n",
      "Epoch 94/100\n",
      "250/250 [==============================] - 0s 2ms/step - loss: 0.3332 - accuracy: 0.8612\n",
      "Epoch 95/100\n",
      "250/250 [==============================] - 0s 2ms/step - loss: 0.3329 - accuracy: 0.8622\n",
      "Epoch 96/100\n",
      "250/250 [==============================] - 0s 2ms/step - loss: 0.3330 - accuracy: 0.8624\n",
      "Epoch 97/100\n",
      "250/250 [==============================] - 0s 2ms/step - loss: 0.3327 - accuracy: 0.8621\n",
      "Epoch 98/100\n",
      "250/250 [==============================] - 1s 2ms/step - loss: 0.3326 - accuracy: 0.8621\n",
      "Epoch 99/100\n",
      "250/250 [==============================] - 0s 2ms/step - loss: 0.3329 - accuracy: 0.8634\n",
      "Epoch 100/100\n",
      "250/250 [==============================] - 0s 2ms/step - loss: 0.3327 - accuracy: 0.8625\n"
     ]
    },
    {
     "data": {
      "text/plain": [
       "<keras.src.callbacks.History at 0x21103f05f90>"
      ]
     },
     "execution_count": 18,
     "metadata": {},
     "output_type": "execute_result"
    }
   ],
   "source": [
    "ann.fit(X_train, y_train, batch_size = 32, epochs = 100)"
   ]
  },
  {
   "cell_type": "markdown",
   "metadata": {
    "colab_type": "text",
    "id": "tJj5k2MxZga3"
   },
   "source": [
    "## Part 4 - Making the predictions and evaluating the model"
   ]
  },
  {
   "cell_type": "markdown",
   "metadata": {
    "colab_type": "text",
    "id": "84QFoqGYeXHL"
   },
   "source": [
    "### Predicting the result of a single observation"
   ]
  },
  {
   "cell_type": "markdown",
   "metadata": {
    "colab_type": "text",
    "id": "CGRo3eacgDdC"
   },
   "source": [
    "**Homework**\n",
    "\n",
    "Use our ANN model to predict if the customer with the following informations will leave the bank: \n",
    "\n",
    "Geography: France\n",
    "\n",
    "Credit Score: 600\n",
    "\n",
    "Gender: Male\n",
    "\n",
    "Age: 40 years old\n",
    "\n",
    "Tenure: 3 years\n",
    "\n",
    "Balance: \\$ 60000\n",
    "\n",
    "Number of Products: 2\n",
    "\n",
    "Does this customer have a credit card? Yes\n",
    "\n",
    "Is this customer an Active Member: Yes\n",
    "\n",
    "Estimated Salary: \\$ 50000\n",
    "\n",
    "So, should we say goodbye to that customer?"
   ]
  },
  {
   "cell_type": "markdown",
   "metadata": {
    "colab_type": "text",
    "id": "ZhU1LTgPg-kH"
   },
   "source": [
    "**Solution**"
   ]
  },
  {
   "cell_type": "code",
   "execution_count": 23,
   "metadata": {
    "colab": {
     "base_uri": "https://localhost:8080/",
     "height": 34
    },
    "colab_type": "code",
    "executionInfo": {
     "elapsed": 33990,
     "status": "ok",
     "timestamp": 1590257481594,
     "user": {
      "displayName": "Hadelin de Ponteves",
      "photoUrl": "https://lh3.googleusercontent.com/a-/AOh14GhEuXdT7eQweUmRPW8_laJuPggSK6hfvpl5a6WBaA=s64",
      "userId": "15047218817161520419"
     },
     "user_tz": -240
    },
    "id": "2d8IoCCkeWGL",
    "outputId": "957f3970-e197-4c3b-a150-7f69dc567f5d"
   },
   "outputs": [
    {
     "name": "stdout",
     "output_type": "stream",
     "text": [
      "1/1 [==============================] - 0s 29ms/step\n",
      "[[False]]\n"
     ]
    }
   ],
   "source": [
    "print(ann.predict(sc.transform([[1, 0, 0, 600, 1, 40, 3, 60000, 2, 1, 1, 50000]]))>0.5)"
   ]
  },
  {
   "cell_type": "markdown",
   "metadata": {
    "colab_type": "text",
    "id": "wGjx94g2n7OV"
   },
   "source": [
    "Therefore, our ANN model predicts that this customer stays in the bank!\n",
    "\n",
    "**Important note 1:** Notice that the values of the features were all input in a double pair of square brackets. That's because the \"predict\" method always expects a 2D array as the format of its inputs. And putting our values into a double pair of square brackets makes the input exactly a 2D array.\n",
    "\n",
    "**Important note 2:** Notice also that the \"France\" country was not input as a string in the last column but as \"1, 0, 0\" in the first three columns. That's because of course the predict method expects the one-hot-encoded values of the state, and as we see in the first row of the matrix of features X, \"France\" was encoded as \"1, 0, 0\". And be careful to include these values in the first three columns, because the dummy variables are always created in the first columns."
   ]
  },
  {
   "cell_type": "markdown",
   "metadata": {
    "colab_type": "text",
    "id": "u7yx47jPZt11"
   },
   "source": [
    "### Predicting the Test set results"
   ]
  },
  {
   "cell_type": "code",
   "execution_count": 20,
   "metadata": {
    "colab": {
     "base_uri": "https://localhost:8080/",
     "height": 137
    },
    "colab_type": "code",
    "executionInfo": {
     "elapsed": 33987,
     "status": "ok",
     "timestamp": 1590257481595,
     "user": {
      "displayName": "Hadelin de Ponteves",
      "photoUrl": "https://lh3.googleusercontent.com/a-/AOh14GhEuXdT7eQweUmRPW8_laJuPggSK6hfvpl5a6WBaA=s64",
      "userId": "15047218817161520419"
     },
     "user_tz": -240
    },
    "id": "nIyEeQdRZwgs",
    "outputId": "82330ba8-9bdc-4fd1-d3cf-b6d78ee7c2a3"
   },
   "outputs": [
    {
     "name": "stdout",
     "output_type": "stream",
     "text": [
      "63/63 [==============================] - 0s 1ms/step\n",
      "[[0 0]\n",
      " [0 1]\n",
      " [0 0]\n",
      " ...\n",
      " [0 0]\n",
      " [0 0]\n",
      " [0 0]]\n"
     ]
    }
   ],
   "source": [
    "y_pred = ann.predict(X_test)\n",
    "y_pred = (y_pred > 0.5)\n",
    "print(np.concatenate((y_pred.reshape(len(y_pred),1), y_test.reshape(len(y_test),1)),1))"
   ]
  },
  {
   "cell_type": "markdown",
   "metadata": {
    "colab_type": "text",
    "id": "o0oyfLWoaEGw"
   },
   "source": [
    "### Making the Confusion Matrix"
   ]
  },
  {
   "cell_type": "code",
   "execution_count": 21,
   "metadata": {
    "colab": {
     "base_uri": "https://localhost:8080/",
     "height": 68
    },
    "colab_type": "code",
    "executionInfo": {
     "elapsed": 33981,
     "status": "ok",
     "timestamp": 1590257481595,
     "user": {
      "displayName": "Hadelin de Ponteves",
      "photoUrl": "https://lh3.googleusercontent.com/a-/AOh14GhEuXdT7eQweUmRPW8_laJuPggSK6hfvpl5a6WBaA=s64",
      "userId": "15047218817161520419"
     },
     "user_tz": -240
    },
    "id": "ci6K_r6LaF6P",
    "outputId": "4d854e9e-22d5-432f-f6e5-a102fe3ae0bd"
   },
   "outputs": [
    {
     "name": "stdout",
     "output_type": "stream",
     "text": [
      "[[1510   85]\n",
      " [ 196  209]]\n"
     ]
    },
    {
     "data": {
      "text/plain": [
       "0.8595"
      ]
     },
     "execution_count": 21,
     "metadata": {},
     "output_type": "execute_result"
    }
   ],
   "source": [
    "from sklearn.metrics import confusion_matrix, accuracy_score\n",
    "cm = confusion_matrix(y_test, y_pred)\n",
    "print(cm)\n",
    "accuracy_score(y_test, y_pred)"
   ]
  },
  {
   "cell_type": "code",
   "execution_count": null,
   "metadata": {},
   "outputs": [],
   "source": []
  }
 ],
 "metadata": {
  "colab": {
   "authorship_tag": "ABX9TyMeRFWFoGrdaL5S3dx5MWmb",
   "collapsed_sections": [],
   "name": "artificial_neural_network.ipynb",
   "provenance": [],
   "toc_visible": true
  },
  "kernelspec": {
   "display_name": "Python 3 (ipykernel)",
   "language": "python",
   "name": "python3"
  },
  "language_info": {
   "codemirror_mode": {
    "name": "ipython",
    "version": 3
   },
   "file_extension": ".py",
   "mimetype": "text/x-python",
   "name": "python",
   "nbconvert_exporter": "python",
   "pygments_lexer": "ipython3",
   "version": "3.11.3"
  }
 },
 "nbformat": 4,
 "nbformat_minor": 1
}
