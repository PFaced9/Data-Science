{
 "cells": [
  {
   "cell_type": "code",
   "execution_count": 50,
   "id": "d10d2a13",
   "metadata": {},
   "outputs": [],
   "source": [
    "import pandas as pd \n",
    "import numpy as np\n",
    "import matplotlib.pyplot as plt\n",
    "import seaborn as sns\n",
    "from warnings import filterwarnings\n",
    "filterwarnings('ignore')\n",
    "import time\n",
    "pd.options.display.max_columns = None\n",
    "pd.options.display.max_rows = 80\n",
    "%matplotlib inline"
   ]
  },
  {
   "cell_type": "code",
   "execution_count": 51,
   "id": "43f6ee8e",
   "metadata": {},
   "outputs": [],
   "source": [
    "df = pd.read_csv(\"RFM data.csv\")"
   ]
  },
  {
   "cell_type": "code",
   "execution_count": 52,
   "id": "1098be9e",
   "metadata": {},
   "outputs": [
    {
     "data": {
      "text/html": [
       "<div>\n",
       "<style scoped>\n",
       "    .dataframe tbody tr th:only-of-type {\n",
       "        vertical-align: middle;\n",
       "    }\n",
       "\n",
       "    .dataframe tbody tr th {\n",
       "        vertical-align: top;\n",
       "    }\n",
       "\n",
       "    .dataframe thead th {\n",
       "        text-align: right;\n",
       "    }\n",
       "</style>\n",
       "<table border=\"1\" class=\"dataframe\">\n",
       "  <thead>\n",
       "    <tr style=\"text-align: right;\">\n",
       "      <th></th>\n",
       "      <th>InvoiceNo</th>\n",
       "      <th>StockCode</th>\n",
       "      <th>Description</th>\n",
       "      <th>Quantity</th>\n",
       "      <th>InvoiceDate</th>\n",
       "      <th>UnitPrice</th>\n",
       "      <th>CustomerID</th>\n",
       "      <th>Country</th>\n",
       "      <th>TotalPrice</th>\n",
       "    </tr>\n",
       "  </thead>\n",
       "  <tbody>\n",
       "    <tr>\n",
       "      <th>0</th>\n",
       "      <td>536365</td>\n",
       "      <td>85123A</td>\n",
       "      <td>white hanging heart t-light holder</td>\n",
       "      <td>6</td>\n",
       "      <td>2010-12-01 08:26:00</td>\n",
       "      <td>2.55</td>\n",
       "      <td>17850.0</td>\n",
       "      <td>United Kingdom</td>\n",
       "      <td>15.30</td>\n",
       "    </tr>\n",
       "    <tr>\n",
       "      <th>1</th>\n",
       "      <td>536365</td>\n",
       "      <td>71053</td>\n",
       "      <td>white metal lantern</td>\n",
       "      <td>6</td>\n",
       "      <td>2010-12-01 08:26:00</td>\n",
       "      <td>3.39</td>\n",
       "      <td>17850.0</td>\n",
       "      <td>United Kingdom</td>\n",
       "      <td>20.34</td>\n",
       "    </tr>\n",
       "    <tr>\n",
       "      <th>2</th>\n",
       "      <td>536365</td>\n",
       "      <td>84406B</td>\n",
       "      <td>cream cupid hearts coat hanger</td>\n",
       "      <td>8</td>\n",
       "      <td>2010-12-01 08:26:00</td>\n",
       "      <td>2.75</td>\n",
       "      <td>17850.0</td>\n",
       "      <td>United Kingdom</td>\n",
       "      <td>22.00</td>\n",
       "    </tr>\n",
       "    <tr>\n",
       "      <th>3</th>\n",
       "      <td>536365</td>\n",
       "      <td>84029G</td>\n",
       "      <td>knitted union flag hot water bottle</td>\n",
       "      <td>6</td>\n",
       "      <td>2010-12-01 08:26:00</td>\n",
       "      <td>3.39</td>\n",
       "      <td>17850.0</td>\n",
       "      <td>United Kingdom</td>\n",
       "      <td>20.34</td>\n",
       "    </tr>\n",
       "  </tbody>\n",
       "</table>\n",
       "</div>"
      ],
      "text/plain": [
       "   InvoiceNo StockCode                          Description  Quantity  \\\n",
       "0     536365    85123A   white hanging heart t-light holder         6   \n",
       "1     536365     71053                  white metal lantern         6   \n",
       "2     536365    84406B       cream cupid hearts coat hanger         8   \n",
       "3     536365    84029G  knitted union flag hot water bottle         6   \n",
       "\n",
       "           InvoiceDate  UnitPrice  CustomerID         Country  TotalPrice  \n",
       "0  2010-12-01 08:26:00       2.55     17850.0  United Kingdom       15.30  \n",
       "1  2010-12-01 08:26:00       3.39     17850.0  United Kingdom       20.34  \n",
       "2  2010-12-01 08:26:00       2.75     17850.0  United Kingdom       22.00  \n",
       "3  2010-12-01 08:26:00       3.39     17850.0  United Kingdom       20.34  "
      ]
     },
     "execution_count": 52,
     "metadata": {},
     "output_type": "execute_result"
    }
   ],
   "source": [
    "df.head(4)"
   ]
  },
  {
   "cell_type": "code",
   "execution_count": 53,
   "id": "c48b49fd",
   "metadata": {},
   "outputs": [
    {
     "data": {
      "text/plain": [
       "(392735, 9)"
      ]
     },
     "execution_count": 53,
     "metadata": {},
     "output_type": "execute_result"
    }
   ],
   "source": [
    "df.shape"
   ]
  },
  {
   "cell_type": "code",
   "execution_count": 54,
   "id": "10da2d09",
   "metadata": {},
   "outputs": [
    {
     "name": "stdout",
     "output_type": "stream",
     "text": [
      "<class 'pandas.core.frame.DataFrame'>\n",
      "RangeIndex: 392735 entries, 0 to 392734\n",
      "Data columns (total 9 columns):\n",
      " #   Column       Non-Null Count   Dtype  \n",
      "---  ------       --------------   -----  \n",
      " 0   InvoiceNo    392735 non-null  int64  \n",
      " 1   StockCode    392735 non-null  object \n",
      " 2   Description  392735 non-null  object \n",
      " 3   Quantity     392735 non-null  int64  \n",
      " 4   InvoiceDate  392735 non-null  object \n",
      " 5   UnitPrice    392735 non-null  float64\n",
      " 6   CustomerID   392735 non-null  float64\n",
      " 7   Country      392735 non-null  object \n",
      " 8   TotalPrice   392735 non-null  float64\n",
      "dtypes: float64(3), int64(2), object(4)\n",
      "memory usage: 27.0+ MB\n"
     ]
    }
   ],
   "source": [
    "df.info()"
   ]
  },
  {
   "cell_type": "markdown",
   "id": "651c2643",
   "metadata": {},
   "source": [
    "## RECENCY"
   ]
  },
  {
   "cell_type": "code",
   "execution_count": 55,
   "id": "c302fb93",
   "metadata": {},
   "outputs": [
    {
     "data": {
      "text/plain": [
       "(datetime.date(2011, 12, 9), datetime.date(2010, 12, 1))"
      ]
     },
     "execution_count": 55,
     "metadata": {},
     "output_type": "execute_result"
    }
   ],
   "source": [
    "df['InvoiceDate'] = pd.to_datetime(df['InvoiceDate'])\n",
    "df['InvoiceDate'] = df['InvoiceDate'].dt.date\n",
    "df['InvoiceDate'].max(), df['InvoiceDate'].min() "
   ]
  },
  {
   "cell_type": "code",
   "execution_count": 56,
   "id": "e3995d78",
   "metadata": {},
   "outputs": [],
   "source": [
    "recency = df.groupby(by='CustomerID', as_index=False)['InvoiceDate'].max()\n",
    "recency.columns = ['Customer Name', 'LastOrderDate']\n",
    "lastDate = recency['LastOrderDate'].max()\n",
    "recency['Recency'] = recency['LastOrderDate'].apply(lambda x:(lastDate - x).days)"
   ]
  },
  {
   "cell_type": "code",
   "execution_count": 57,
   "id": "0ca56bd1",
   "metadata": {
    "scrolled": false
   },
   "outputs": [
    {
     "data": {
      "text/html": [
       "<div>\n",
       "<style scoped>\n",
       "    .dataframe tbody tr th:only-of-type {\n",
       "        vertical-align: middle;\n",
       "    }\n",
       "\n",
       "    .dataframe tbody tr th {\n",
       "        vertical-align: top;\n",
       "    }\n",
       "\n",
       "    .dataframe thead th {\n",
       "        text-align: right;\n",
       "    }\n",
       "</style>\n",
       "<table border=\"1\" class=\"dataframe\">\n",
       "  <thead>\n",
       "    <tr style=\"text-align: right;\">\n",
       "      <th></th>\n",
       "      <th>Customer Name</th>\n",
       "      <th>LastOrderDate</th>\n",
       "      <th>Recency</th>\n",
       "    </tr>\n",
       "  </thead>\n",
       "  <tbody>\n",
       "    <tr>\n",
       "      <th>0</th>\n",
       "      <td>12347.0</td>\n",
       "      <td>2011-12-07</td>\n",
       "      <td>2</td>\n",
       "    </tr>\n",
       "    <tr>\n",
       "      <th>1</th>\n",
       "      <td>12348.0</td>\n",
       "      <td>2011-09-25</td>\n",
       "      <td>75</td>\n",
       "    </tr>\n",
       "    <tr>\n",
       "      <th>2</th>\n",
       "      <td>12349.0</td>\n",
       "      <td>2011-11-21</td>\n",
       "      <td>18</td>\n",
       "    </tr>\n",
       "  </tbody>\n",
       "</table>\n",
       "</div>"
      ],
      "text/plain": [
       "   Customer Name LastOrderDate  Recency\n",
       "0        12347.0    2011-12-07        2\n",
       "1        12348.0    2011-09-25       75\n",
       "2        12349.0    2011-11-21       18"
      ]
     },
     "execution_count": 57,
     "metadata": {},
     "output_type": "execute_result"
    }
   ],
   "source": [
    "recency.head(3)"
   ]
  },
  {
   "cell_type": "code",
   "execution_count": 58,
   "id": "1ff6dbcc",
   "metadata": {},
   "outputs": [
    {
     "data": {
      "text/plain": [
       "373"
      ]
     },
     "execution_count": 58,
     "metadata": {},
     "output_type": "execute_result"
    }
   ],
   "source": [
    "recency['Recency'].max()"
   ]
  },
  {
   "cell_type": "markdown",
   "id": "82fee407",
   "metadata": {},
   "source": [
    "## Frequency"
   ]
  },
  {
   "cell_type": "code",
   "execution_count": 59,
   "id": "6c2d1e03",
   "metadata": {},
   "outputs": [
    {
     "data": {
      "text/plain": [
       "InvoiceNo      0\n",
       "StockCode      0\n",
       "Description    0\n",
       "Quantity       0\n",
       "InvoiceDate    0\n",
       "UnitPrice      0\n",
       "CustomerID     0\n",
       "Country        0\n",
       "TotalPrice     0\n",
       "dtype: int64"
      ]
     },
     "execution_count": 59,
     "metadata": {},
     "output_type": "execute_result"
    }
   ],
   "source": [
    "df.isna().sum()"
   ]
  },
  {
   "cell_type": "code",
   "execution_count": 60,
   "id": "95b12a95",
   "metadata": {},
   "outputs": [],
   "source": [
    "frequency = df.groupby(by='CustomerID', as_index=False)['InvoiceDate'].count()\n",
    "frequency.columns = ['Customer Name', 'Frequency']"
   ]
  },
  {
   "cell_type": "code",
   "execution_count": 61,
   "id": "51ba8c36",
   "metadata": {},
   "outputs": [
    {
     "data": {
      "text/html": [
       "<div>\n",
       "<style scoped>\n",
       "    .dataframe tbody tr th:only-of-type {\n",
       "        vertical-align: middle;\n",
       "    }\n",
       "\n",
       "    .dataframe tbody tr th {\n",
       "        vertical-align: top;\n",
       "    }\n",
       "\n",
       "    .dataframe thead th {\n",
       "        text-align: right;\n",
       "    }\n",
       "</style>\n",
       "<table border=\"1\" class=\"dataframe\">\n",
       "  <thead>\n",
       "    <tr style=\"text-align: right;\">\n",
       "      <th></th>\n",
       "      <th>Customer Name</th>\n",
       "      <th>Frequency</th>\n",
       "    </tr>\n",
       "  </thead>\n",
       "  <tbody>\n",
       "    <tr>\n",
       "      <th>3977</th>\n",
       "      <td>17841.0</td>\n",
       "      <td>7818</td>\n",
       "    </tr>\n",
       "    <tr>\n",
       "      <th>1868</th>\n",
       "      <td>14911.0</td>\n",
       "      <td>5542</td>\n",
       "    </tr>\n",
       "    <tr>\n",
       "      <th>1281</th>\n",
       "      <td>14096.0</td>\n",
       "      <td>5062</td>\n",
       "    </tr>\n",
       "    <tr>\n",
       "      <th>325</th>\n",
       "      <td>12748.0</td>\n",
       "      <td>4557</td>\n",
       "    </tr>\n",
       "  </tbody>\n",
       "</table>\n",
       "</div>"
      ],
      "text/plain": [
       "      Customer Name  Frequency\n",
       "3977        17841.0       7818\n",
       "1868        14911.0       5542\n",
       "1281        14096.0       5062\n",
       "325         12748.0       4557"
      ]
     },
     "execution_count": 61,
     "metadata": {},
     "output_type": "execute_result"
    }
   ],
   "source": [
    "frequency.sort_values(by='Frequency', ascending=False).head(4)"
   ]
  },
  {
   "cell_type": "markdown",
   "id": "56f4a663",
   "metadata": {},
   "source": [
    "## Monetary"
   ]
  },
  {
   "cell_type": "code",
   "execution_count": 62,
   "id": "ab4aa134",
   "metadata": {},
   "outputs": [],
   "source": [
    "df['Total'] = round(df['Quantity'] * df['UnitPrice'], 0)\n",
    "monetary = df.groupby(by='CustomerID', as_index=False)['Total'].sum()\n",
    "monetary.columns = ['Customer Name', 'Monetary']"
   ]
  },
  {
   "cell_type": "code",
   "execution_count": 63,
   "id": "2486f619",
   "metadata": {},
   "outputs": [
    {
     "data": {
      "text/html": [
       "<div>\n",
       "<style scoped>\n",
       "    .dataframe tbody tr th:only-of-type {\n",
       "        vertical-align: middle;\n",
       "    }\n",
       "\n",
       "    .dataframe tbody tr th {\n",
       "        vertical-align: top;\n",
       "    }\n",
       "\n",
       "    .dataframe thead th {\n",
       "        text-align: right;\n",
       "    }\n",
       "</style>\n",
       "<table border=\"1\" class=\"dataframe\">\n",
       "  <thead>\n",
       "    <tr style=\"text-align: right;\">\n",
       "      <th></th>\n",
       "      <th>Customer Name</th>\n",
       "      <th>Monetary</th>\n",
       "    </tr>\n",
       "  </thead>\n",
       "  <tbody>\n",
       "    <tr>\n",
       "      <th>1678</th>\n",
       "      <td>14646.0</td>\n",
       "      <td>189753.0</td>\n",
       "    </tr>\n",
       "    <tr>\n",
       "      <th>1868</th>\n",
       "      <td>14911.0</td>\n",
       "      <td>129828.0</td>\n",
       "    </tr>\n",
       "    <tr>\n",
       "      <th>54</th>\n",
       "      <td>12415.0</td>\n",
       "      <td>81465.0</td>\n",
       "    </tr>\n",
       "    <tr>\n",
       "      <th>1325</th>\n",
       "      <td>14156.0</td>\n",
       "      <td>81323.0</td>\n",
       "    </tr>\n",
       "  </tbody>\n",
       "</table>\n",
       "</div>"
      ],
      "text/plain": [
       "      Customer Name  Monetary\n",
       "1678        14646.0  189753.0\n",
       "1868        14911.0  129828.0\n",
       "54          12415.0   81465.0\n",
       "1325        14156.0   81323.0"
      ]
     },
     "execution_count": 63,
     "metadata": {},
     "output_type": "execute_result"
    }
   ],
   "source": [
    "monetary.sort_values(by='Monetary', ascending=False).head(4)"
   ]
  },
  {
   "cell_type": "code",
   "execution_count": 64,
   "id": "5ea2c36c",
   "metadata": {},
   "outputs": [],
   "source": [
    "rf_df = recency.merge(frequency, on='Customer Name')\n",
    "rfm_df = rf_df.merge(monetary, on='Customer Name')"
   ]
  },
  {
   "cell_type": "code",
   "execution_count": 65,
   "id": "803b5ff2",
   "metadata": {},
   "outputs": [],
   "source": [
    "rfm_df.drop(columns=['LastOrderDate'], inplace=True)"
   ]
  },
  {
   "cell_type": "code",
   "execution_count": 66,
   "id": "5ec8cb01",
   "metadata": {},
   "outputs": [
    {
     "data": {
      "text/html": [
       "<div>\n",
       "<style scoped>\n",
       "    .dataframe tbody tr th:only-of-type {\n",
       "        vertical-align: middle;\n",
       "    }\n",
       "\n",
       "    .dataframe tbody tr th {\n",
       "        vertical-align: top;\n",
       "    }\n",
       "\n",
       "    .dataframe thead th {\n",
       "        text-align: right;\n",
       "    }\n",
       "</style>\n",
       "<table border=\"1\" class=\"dataframe\">\n",
       "  <thead>\n",
       "    <tr style=\"text-align: right;\">\n",
       "      <th></th>\n",
       "      <th>Customer Name</th>\n",
       "      <th>Recency</th>\n",
       "      <th>Frequency</th>\n",
       "      <th>Monetary</th>\n",
       "    </tr>\n",
       "  </thead>\n",
       "  <tbody>\n",
       "    <tr>\n",
       "      <th>0</th>\n",
       "      <td>12347.0</td>\n",
       "      <td>2</td>\n",
       "      <td>181</td>\n",
       "      <td>4048.0</td>\n",
       "    </tr>\n",
       "    <tr>\n",
       "      <th>1</th>\n",
       "      <td>12348.0</td>\n",
       "      <td>75</td>\n",
       "      <td>27</td>\n",
       "      <td>1437.0</td>\n",
       "    </tr>\n",
       "    <tr>\n",
       "      <th>2</th>\n",
       "      <td>12349.0</td>\n",
       "      <td>18</td>\n",
       "      <td>71</td>\n",
       "      <td>1419.0</td>\n",
       "    </tr>\n",
       "  </tbody>\n",
       "</table>\n",
       "</div>"
      ],
      "text/plain": [
       "   Customer Name  Recency  Frequency  Monetary\n",
       "0        12347.0        2        181    4048.0\n",
       "1        12348.0       75         27    1437.0\n",
       "2        12349.0       18         71    1419.0"
      ]
     },
     "execution_count": 66,
     "metadata": {},
     "output_type": "execute_result"
    }
   ],
   "source": [
    "rfm_df.head(3)"
   ]
  },
  {
   "cell_type": "code",
   "execution_count": 67,
   "id": "cd3066d8",
   "metadata": {},
   "outputs": [],
   "source": [
    "rfm_df['Customer Name'] = rfm_df['Customer Name'].astype(int)"
   ]
  },
  {
   "cell_type": "code",
   "execution_count": 68,
   "id": "034a65c4",
   "metadata": {},
   "outputs": [
    {
     "data": {
      "text/html": [
       "<div>\n",
       "<style scoped>\n",
       "    .dataframe tbody tr th:only-of-type {\n",
       "        vertical-align: middle;\n",
       "    }\n",
       "\n",
       "    .dataframe tbody tr th {\n",
       "        vertical-align: top;\n",
       "    }\n",
       "\n",
       "    .dataframe thead th {\n",
       "        text-align: right;\n",
       "    }\n",
       "</style>\n",
       "<table border=\"1\" class=\"dataframe\">\n",
       "  <thead>\n",
       "    <tr style=\"text-align: right;\">\n",
       "      <th></th>\n",
       "      <th>Customer Name</th>\n",
       "      <th>Recency</th>\n",
       "      <th>Frequency</th>\n",
       "      <th>Monetary</th>\n",
       "    </tr>\n",
       "  </thead>\n",
       "  <tbody>\n",
       "    <tr>\n",
       "      <th>0</th>\n",
       "      <td>12347</td>\n",
       "      <td>2</td>\n",
       "      <td>181</td>\n",
       "      <td>4048.0</td>\n",
       "    </tr>\n",
       "    <tr>\n",
       "      <th>1</th>\n",
       "      <td>12348</td>\n",
       "      <td>75</td>\n",
       "      <td>27</td>\n",
       "      <td>1437.0</td>\n",
       "    </tr>\n",
       "    <tr>\n",
       "      <th>2</th>\n",
       "      <td>12349</td>\n",
       "      <td>18</td>\n",
       "      <td>71</td>\n",
       "      <td>1419.0</td>\n",
       "    </tr>\n",
       "  </tbody>\n",
       "</table>\n",
       "</div>"
      ],
      "text/plain": [
       "   Customer Name  Recency  Frequency  Monetary\n",
       "0          12347        2        181    4048.0\n",
       "1          12348       75         27    1437.0\n",
       "2          12349       18         71    1419.0"
      ]
     },
     "execution_count": 68,
     "metadata": {},
     "output_type": "execute_result"
    }
   ],
   "source": [
    "rfm_df.head(3)"
   ]
  },
  {
   "cell_type": "code",
   "execution_count": 69,
   "id": "706efd28",
   "metadata": {},
   "outputs": [],
   "source": [
    "rfm_df['R_rank'] = rfm_df['Recency'].rank(ascending=False)\n",
    "rfm_df['F_rank'] = rfm_df['Frequency'].rank(ascending=True)\n",
    "rfm_df['M_rank'] = rfm_df['Monetary'].rank(ascending=True)"
   ]
  },
  {
   "cell_type": "code",
   "execution_count": 75,
   "id": "4907c5bd",
   "metadata": {},
   "outputs": [
    {
     "data": {
      "text/html": [
       "<div>\n",
       "<style scoped>\n",
       "    .dataframe tbody tr th:only-of-type {\n",
       "        vertical-align: middle;\n",
       "    }\n",
       "\n",
       "    .dataframe tbody tr th {\n",
       "        vertical-align: top;\n",
       "    }\n",
       "\n",
       "    .dataframe thead th {\n",
       "        text-align: right;\n",
       "    }\n",
       "</style>\n",
       "<table border=\"1\" class=\"dataframe\">\n",
       "  <thead>\n",
       "    <tr style=\"text-align: right;\">\n",
       "      <th></th>\n",
       "      <th>Customer Name</th>\n",
       "      <th>Recency</th>\n",
       "      <th>Frequency</th>\n",
       "      <th>Monetary</th>\n",
       "      <th>R_rank</th>\n",
       "      <th>F_rank</th>\n",
       "      <th>M_rank</th>\n",
       "    </tr>\n",
       "  </thead>\n",
       "  <tbody>\n",
       "    <tr>\n",
       "      <th>0</th>\n",
       "      <td>12347</td>\n",
       "      <td>2</td>\n",
       "      <td>181</td>\n",
       "      <td>4048.0</td>\n",
       "      <td>4119.5</td>\n",
       "      <td>3785.0</td>\n",
       "      <td>3976.5</td>\n",
       "    </tr>\n",
       "    <tr>\n",
       "      <th>1</th>\n",
       "      <td>12348</td>\n",
       "      <td>75</td>\n",
       "      <td>27</td>\n",
       "      <td>1437.0</td>\n",
       "      <td>1628.0</td>\n",
       "      <td>1599.0</td>\n",
       "      <td>3130.5</td>\n",
       "    </tr>\n",
       "    <tr>\n",
       "      <th>2</th>\n",
       "      <td>12349</td>\n",
       "      <td>18</td>\n",
       "      <td>71</td>\n",
       "      <td>1419.0</td>\n",
       "      <td>3183.0</td>\n",
       "      <td>2835.5</td>\n",
       "      <td>3111.0</td>\n",
       "    </tr>\n",
       "    <tr>\n",
       "      <th>3</th>\n",
       "      <td>12350</td>\n",
       "      <td>310</td>\n",
       "      <td>16</td>\n",
       "      <td>293.0</td>\n",
       "      <td>223.5</td>\n",
       "      <td>1004.0</td>\n",
       "      <td>1069.0</td>\n",
       "    </tr>\n",
       "    <tr>\n",
       "      <th>4</th>\n",
       "      <td>12352</td>\n",
       "      <td>36</td>\n",
       "      <td>77</td>\n",
       "      <td>1388.0</td>\n",
       "      <td>2480.0</td>\n",
       "      <td>2918.5</td>\n",
       "      <td>3089.0</td>\n",
       "    </tr>\n",
       "    <tr>\n",
       "      <th>...</th>\n",
       "      <td>...</td>\n",
       "      <td>...</td>\n",
       "      <td>...</td>\n",
       "      <td>...</td>\n",
       "      <td>...</td>\n",
       "      <td>...</td>\n",
       "      <td>...</td>\n",
       "    </tr>\n",
       "    <tr>\n",
       "      <th>4293</th>\n",
       "      <td>18280</td>\n",
       "      <td>277</td>\n",
       "      <td>10</td>\n",
       "      <td>182.0</td>\n",
       "      <td>354.0</td>\n",
       "      <td>606.0</td>\n",
       "      <td>612.0</td>\n",
       "    </tr>\n",
       "    <tr>\n",
       "      <th>4294</th>\n",
       "      <td>18281</td>\n",
       "      <td>180</td>\n",
       "      <td>7</td>\n",
       "      <td>80.0</td>\n",
       "      <td>854.0</td>\n",
       "      <td>388.5</td>\n",
       "      <td>120.5</td>\n",
       "    </tr>\n",
       "    <tr>\n",
       "      <th>4295</th>\n",
       "      <td>18282</td>\n",
       "      <td>7</td>\n",
       "      <td>12</td>\n",
       "      <td>181.0</td>\n",
       "      <td>3805.5</td>\n",
       "      <td>750.0</td>\n",
       "      <td>607.5</td>\n",
       "    </tr>\n",
       "    <tr>\n",
       "      <th>4296</th>\n",
       "      <td>18283</td>\n",
       "      <td>3</td>\n",
       "      <td>754</td>\n",
       "      <td>2111.0</td>\n",
       "      <td>4029.0</td>\n",
       "      <td>4269.0</td>\n",
       "      <td>3519.5</td>\n",
       "    </tr>\n",
       "    <tr>\n",
       "      <th>4297</th>\n",
       "      <td>18287</td>\n",
       "      <td>42</td>\n",
       "      <td>70</td>\n",
       "      <td>1836.0</td>\n",
       "      <td>2334.0</td>\n",
       "      <td>2817.0</td>\n",
       "      <td>3385.5</td>\n",
       "    </tr>\n",
       "  </tbody>\n",
       "</table>\n",
       "<p>4298 rows × 7 columns</p>\n",
       "</div>"
      ],
      "text/plain": [
       "      Customer Name  Recency  Frequency  Monetary  R_rank  F_rank  M_rank\n",
       "0             12347        2        181    4048.0  4119.5  3785.0  3976.5\n",
       "1             12348       75         27    1437.0  1628.0  1599.0  3130.5\n",
       "2             12349       18         71    1419.0  3183.0  2835.5  3111.0\n",
       "3             12350      310         16     293.0   223.5  1004.0  1069.0\n",
       "4             12352       36         77    1388.0  2480.0  2918.5  3089.0\n",
       "...             ...      ...        ...       ...     ...     ...     ...\n",
       "4293          18280      277         10     182.0   354.0   606.0   612.0\n",
       "4294          18281      180          7      80.0   854.0   388.5   120.5\n",
       "4295          18282        7         12     181.0  3805.5   750.0   607.5\n",
       "4296          18283        3        754    2111.0  4029.0  4269.0  3519.5\n",
       "4297          18287       42         70    1836.0  2334.0  2817.0  3385.5\n",
       "\n",
       "[4298 rows x 7 columns]"
      ]
     },
     "execution_count": 75,
     "metadata": {},
     "output_type": "execute_result"
    }
   ],
   "source": [
    "rfm_df"
   ]
  },
  {
   "cell_type": "code",
   "execution_count": 43,
   "id": "88d2677f",
   "metadata": {},
   "outputs": [],
   "source": [
    "rfm_df['R_normal'] = round((rfm_df['R_rank'] / rfm_df['R_rank'].max()) * 100, 0)\n",
    "rfm_df['F_normal'] = round((rfm_df['F_rank'] / rfm_df['F_rank'].max()) * 100, 0)\n",
    "rfm_df['M_normal'] = round((rfm_df['M_rank'] / rfm_df['M_rank'].max()) * 100, 0)"
   ]
  },
  {
   "cell_type": "code",
   "execution_count": null,
   "id": "3ce9a1c0",
   "metadata": {},
   "outputs": [],
   "source": [
    "        range(0,380,35)\n",
    "        \n",
    "1: 0-30 days\n",
    "2: 31-60 days\n",
    "3: 61-90 days\n",
    "4: 91-180 days\n",
    "5: 181-365 days"
   ]
  },
  {
   "cell_type": "code",
   "execution_count": 72,
   "id": "d3f9ba30",
   "metadata": {},
   "outputs": [
    {
     "data": {
      "text/html": [
       "<div>\n",
       "<style scoped>\n",
       "    .dataframe tbody tr th:only-of-type {\n",
       "        vertical-align: middle;\n",
       "    }\n",
       "\n",
       "    .dataframe tbody tr th {\n",
       "        vertical-align: top;\n",
       "    }\n",
       "\n",
       "    .dataframe thead th {\n",
       "        text-align: right;\n",
       "    }\n",
       "</style>\n",
       "<table border=\"1\" class=\"dataframe\">\n",
       "  <thead>\n",
       "    <tr style=\"text-align: right;\">\n",
       "      <th></th>\n",
       "      <th>Customer Name</th>\n",
       "      <th>Recency</th>\n",
       "      <th>Frequency</th>\n",
       "      <th>Monetary</th>\n",
       "      <th>R_rank</th>\n",
       "      <th>F_rank</th>\n",
       "      <th>M_rank</th>\n",
       "    </tr>\n",
       "  </thead>\n",
       "  <tbody>\n",
       "    <tr>\n",
       "      <th>count</th>\n",
       "      <td>4298.000000</td>\n",
       "      <td>4298.000000</td>\n",
       "      <td>4298.000000</td>\n",
       "      <td>4298.000000</td>\n",
       "      <td>4298.000000</td>\n",
       "      <td>4298.000000</td>\n",
       "      <td>4298.000000</td>\n",
       "    </tr>\n",
       "    <tr>\n",
       "      <th>mean</th>\n",
       "      <td>15295.001629</td>\n",
       "      <td>92.151698</td>\n",
       "      <td>91.376221</td>\n",
       "      <td>1667.060959</td>\n",
       "      <td>2149.500000</td>\n",
       "      <td>2149.500000</td>\n",
       "      <td>2149.500000</td>\n",
       "    </tr>\n",
       "    <tr>\n",
       "      <th>std</th>\n",
       "      <td>1720.435019</td>\n",
       "      <td>100.038379</td>\n",
       "      <td>226.958443</td>\n",
       "      <td>5335.708763</td>\n",
       "      <td>1240.799881</td>\n",
       "      <td>1240.808433</td>\n",
       "      <td>1240.869517</td>\n",
       "    </tr>\n",
       "    <tr>\n",
       "      <th>min</th>\n",
       "      <td>12347.000000</td>\n",
       "      <td>0.000000</td>\n",
       "      <td>1.000000</td>\n",
       "      <td>3.000000</td>\n",
       "      <td>9.000000</td>\n",
       "      <td>32.500000</td>\n",
       "      <td>1.000000</td>\n",
       "    </tr>\n",
       "    <tr>\n",
       "      <th>25%</th>\n",
       "      <td>13811.250000</td>\n",
       "      <td>17.000000</td>\n",
       "      <td>17.000000</td>\n",
       "      <td>295.000000</td>\n",
       "      <td>1077.000000</td>\n",
       "      <td>1061.500000</td>\n",
       "      <td>1076.500000</td>\n",
       "    </tr>\n",
       "    <tr>\n",
       "      <th>50%</th>\n",
       "      <td>15289.500000</td>\n",
       "      <td>50.000000</td>\n",
       "      <td>41.000000</td>\n",
       "      <td>645.000000</td>\n",
       "      <td>2166.000000</td>\n",
       "      <td>2142.000000</td>\n",
       "      <td>2150.000000</td>\n",
       "    </tr>\n",
       "    <tr>\n",
       "      <th>75%</th>\n",
       "      <td>16774.750000</td>\n",
       "      <td>142.000000</td>\n",
       "      <td>100.000000</td>\n",
       "      <td>1570.250000</td>\n",
       "      <td>3244.500000</td>\n",
       "      <td>3227.000000</td>\n",
       "      <td>3223.625000</td>\n",
       "    </tr>\n",
       "    <tr>\n",
       "      <th>max</th>\n",
       "      <td>18287.000000</td>\n",
       "      <td>373.000000</td>\n",
       "      <td>7818.000000</td>\n",
       "      <td>189753.000000</td>\n",
       "      <td>4281.500000</td>\n",
       "      <td>4298.000000</td>\n",
       "      <td>4298.000000</td>\n",
       "    </tr>\n",
       "  </tbody>\n",
       "</table>\n",
       "</div>"
      ],
      "text/plain": [
       "       Customer Name      Recency    Frequency       Monetary       R_rank  \\\n",
       "count    4298.000000  4298.000000  4298.000000    4298.000000  4298.000000   \n",
       "mean    15295.001629    92.151698    91.376221    1667.060959  2149.500000   \n",
       "std      1720.435019   100.038379   226.958443    5335.708763  1240.799881   \n",
       "min     12347.000000     0.000000     1.000000       3.000000     9.000000   \n",
       "25%     13811.250000    17.000000    17.000000     295.000000  1077.000000   \n",
       "50%     15289.500000    50.000000    41.000000     645.000000  2166.000000   \n",
       "75%     16774.750000   142.000000   100.000000    1570.250000  3244.500000   \n",
       "max     18287.000000   373.000000  7818.000000  189753.000000  4281.500000   \n",
       "\n",
       "            F_rank       M_rank  \n",
       "count  4298.000000  4298.000000  \n",
       "mean   2149.500000  2149.500000  \n",
       "std    1240.808433  1240.869517  \n",
       "min      32.500000     1.000000  \n",
       "25%    1061.500000  1076.500000  \n",
       "50%    2142.000000  2150.000000  \n",
       "75%    3227.000000  3223.625000  \n",
       "max    4298.000000  4298.000000  "
      ]
     },
     "execution_count": 72,
     "metadata": {},
     "output_type": "execute_result"
    }
   ],
   "source": [
    "rfm_df.describe()"
   ]
  },
  {
   "cell_type": "code",
   "execution_count": 70,
   "id": "3a7c4f42",
   "metadata": {},
   "outputs": [],
   "source": [
    "# rfm_df.drop(columns=['R_rank', 'F_rank', 'M_rank'], inplace=True)"
   ]
  },
  {
   "cell_type": "code",
   "execution_count": 71,
   "id": "c47eebe7",
   "metadata": {},
   "outputs": [
    {
     "data": {
      "text/html": [
       "<div>\n",
       "<style scoped>\n",
       "    .dataframe tbody tr th:only-of-type {\n",
       "        vertical-align: middle;\n",
       "    }\n",
       "\n",
       "    .dataframe tbody tr th {\n",
       "        vertical-align: top;\n",
       "    }\n",
       "\n",
       "    .dataframe thead th {\n",
       "        text-align: right;\n",
       "    }\n",
       "</style>\n",
       "<table border=\"1\" class=\"dataframe\">\n",
       "  <thead>\n",
       "    <tr style=\"text-align: right;\">\n",
       "      <th></th>\n",
       "      <th>Customer Name</th>\n",
       "      <th>Recency</th>\n",
       "      <th>Frequency</th>\n",
       "      <th>Monetary</th>\n",
       "      <th>R_rank</th>\n",
       "      <th>F_rank</th>\n",
       "      <th>M_rank</th>\n",
       "    </tr>\n",
       "  </thead>\n",
       "  <tbody>\n",
       "    <tr>\n",
       "      <th>0</th>\n",
       "      <td>12347</td>\n",
       "      <td>2</td>\n",
       "      <td>181</td>\n",
       "      <td>4048.0</td>\n",
       "      <td>4119.5</td>\n",
       "      <td>3785.0</td>\n",
       "      <td>3976.5</td>\n",
       "    </tr>\n",
       "    <tr>\n",
       "      <th>1</th>\n",
       "      <td>12348</td>\n",
       "      <td>75</td>\n",
       "      <td>27</td>\n",
       "      <td>1437.0</td>\n",
       "      <td>1628.0</td>\n",
       "      <td>1599.0</td>\n",
       "      <td>3130.5</td>\n",
       "    </tr>\n",
       "    <tr>\n",
       "      <th>2</th>\n",
       "      <td>12349</td>\n",
       "      <td>18</td>\n",
       "      <td>71</td>\n",
       "      <td>1419.0</td>\n",
       "      <td>3183.0</td>\n",
       "      <td>2835.5</td>\n",
       "      <td>3111.0</td>\n",
       "    </tr>\n",
       "    <tr>\n",
       "      <th>3</th>\n",
       "      <td>12350</td>\n",
       "      <td>310</td>\n",
       "      <td>16</td>\n",
       "      <td>293.0</td>\n",
       "      <td>223.5</td>\n",
       "      <td>1004.0</td>\n",
       "      <td>1069.0</td>\n",
       "    </tr>\n",
       "  </tbody>\n",
       "</table>\n",
       "</div>"
      ],
      "text/plain": [
       "   Customer Name  Recency  Frequency  Monetary  R_rank  F_rank  M_rank\n",
       "0          12347        2        181    4048.0  4119.5  3785.0  3976.5\n",
       "1          12348       75         27    1437.0  1628.0  1599.0  3130.5\n",
       "2          12349       18         71    1419.0  3183.0  2835.5  3111.0\n",
       "3          12350      310         16     293.0   223.5  1004.0  1069.0"
      ]
     },
     "execution_count": 71,
     "metadata": {},
     "output_type": "execute_result"
    }
   ],
   "source": [
    "rfm_df.head(4)"
   ]
  },
  {
   "cell_type": "code",
   "execution_count": 46,
   "id": "86d46491",
   "metadata": {},
   "outputs": [],
   "source": [
    "rfm_df['RFM_score'] = 0.15 * rfm_df['R_normal']+0.28 * rfm_df['F_normal']+0.57 * rfm_df['M_normal']"
   ]
  },
  {
   "cell_type": "code",
   "execution_count": 47,
   "id": "67486f89",
   "metadata": {},
   "outputs": [],
   "source": [
    "rfm_df['RFM_score'] *= 0.05\n",
    "rfm_df = rfm_df.round(2)"
   ]
  },
  {
   "cell_type": "code",
   "execution_count": 48,
   "id": "0a5fe5eb",
   "metadata": {},
   "outputs": [
    {
     "data": {
      "text/html": [
       "<div>\n",
       "<style scoped>\n",
       "    .dataframe tbody tr th:only-of-type {\n",
       "        vertical-align: middle;\n",
       "    }\n",
       "\n",
       "    .dataframe tbody tr th {\n",
       "        vertical-align: top;\n",
       "    }\n",
       "\n",
       "    .dataframe thead th {\n",
       "        text-align: right;\n",
       "    }\n",
       "</style>\n",
       "<table border=\"1\" class=\"dataframe\">\n",
       "  <thead>\n",
       "    <tr style=\"text-align: right;\">\n",
       "      <th></th>\n",
       "      <th>Customer Name</th>\n",
       "      <th>RFM_score</th>\n",
       "    </tr>\n",
       "  </thead>\n",
       "  <tbody>\n",
       "    <tr>\n",
       "      <th>0</th>\n",
       "      <td>12347</td>\n",
       "      <td>4.60</td>\n",
       "    </tr>\n",
       "    <tr>\n",
       "      <th>1</th>\n",
       "      <td>12348</td>\n",
       "      <td>2.88</td>\n",
       "    </tr>\n",
       "    <tr>\n",
       "      <th>2</th>\n",
       "      <td>12349</td>\n",
       "      <td>3.53</td>\n",
       "    </tr>\n",
       "    <tr>\n",
       "      <th>3</th>\n",
       "      <td>12350</td>\n",
       "      <td>1.07</td>\n",
       "    </tr>\n",
       "  </tbody>\n",
       "</table>\n",
       "</div>"
      ],
      "text/plain": [
       "   Customer Name  RFM_score\n",
       "0          12347       4.60\n",
       "1          12348       2.88\n",
       "2          12349       3.53\n",
       "3          12350       1.07"
      ]
     },
     "execution_count": 48,
     "metadata": {},
     "output_type": "execute_result"
    }
   ],
   "source": [
    "rfm_df[['Customer Name', 'RFM_score']].head(4)"
   ]
  },
  {
   "cell_type": "code",
   "execution_count": 49,
   "id": "4464e953",
   "metadata": {},
   "outputs": [
    {
     "data": {
      "text/plain": [
       "(0.74, 2.475, 3.83, 4.64)"
      ]
     },
     "execution_count": 49,
     "metadata": {},
     "output_type": "execute_result"
    }
   ],
   "source": [
    "rfm_df['RFM_score'].quantile(.10) ,rfm_df['RFM_score'].quantile(.50), rfm_df['RFM_score'].quantile(.80), rfm_df['RFM_score'].quantile(.96) "
   ]
  },
  {
   "cell_type": "code",
   "execution_count": null,
   "id": "243dae6e",
   "metadata": {},
   "outputs": [],
   "source": [
    "rfm_df['Segment'] = np.where(rfm_df['RFM_score'] > 4.30, 'Top Customer',\n",
    "                             np.where(rfm_df['RFM_score'] > 3.70, 'High Customer',\n",
    "                                      np.where(rfm_df['RFM_score'] > 2.54, 'Medium Customer', \n",
    "                                               np.where(rfm_df['RFM_score'] > 0.84, 'Low Customer', 'Lost Customer'))))"
   ]
  },
  {
   "cell_type": "code",
   "execution_count": 77,
   "id": "1cf7f339",
   "metadata": {},
   "outputs": [
    {
     "data": {
      "image/png": "[encoded data removed]",
      "text/plain": [
       "<Figure size 1000x800 with 1 Axes>"
      ]
     },
     "metadata": {},
     "output_type": "display_data"
    }
   ],
   "source": [
    "r_labels = range(5, 0, -1)\n",
    "fm_labels = range(1, 6)\n",
    "\n",
    "rfm_df[\"R\"] = pd.qcut(rfm_df[\"Recency\"], 5, labels = r_labels)\n",
    "rfm_df[\"F\"] = pd.qcut(rfm_df[\"Frequency\"].rank(method = 'first'), 5, labels = fm_labels)\n",
    "rfm_df[\"M\"] = pd.qcut(rfm_df[\"Monetary\"], 5, labels = fm_labels)\n",
    "\n",
    "rfm_df.head()\n",
    "rfm_df[\"RFM_Segment\"] = rfm_df[\"R\"].astype(str) + rfm_df[\"F\"].astype(str) + rfm_df[\"M\"].astype(str)\n",
    "rfm_df[\"RFM_Score\"] = rfm_df[[\"R\", \"F\", \"M\"]].sum(axis = 1)\n",
    "\n",
    "rfm_df.head()\n",
    "\n",
    "segt_map = {\n",
    "    r'[1-2][1-2]': 'Hibernating',\n",
    "    r'[1-2][3-4]': 'At-Risk',\n",
    "    r'[1-2]5': 'Cannot lose them',\n",
    "    r'3[1-2]': 'About To Sleep',\n",
    "    r'33': 'Need Attention',\n",
    "    r'[3-4][4-5]': 'Loyal Customers',\n",
    "    r'41': 'Promising',\n",
    "    r'51': 'New Customers',\n",
    "    r'[4-5][2-3]': 'Potential Loyalists',\n",
    "    r'5[4-5]': 'Champions'\n",
    "}\n",
    "rfm_df['Segment'] = rfm_df['R'].astype(str) + rfm_df['F'].astype(str)\n",
    "rfm_df['Segment'] = rfm_df['Segment'].replace(segt_map, regex=True)\n",
    "rfm_df.head()\n",
    "\n",
    "plt.figure(figsize=(10,8))\n",
    "palette = [\"#F94144\", \"#90BE6D\", \"#F3722C\", \"#43AA8B\",  \"#F8961E\", \"#4D908E\", \"#F9844A\", \"#577590\", \"#F9C74F\", \"#277DA1\"]\n",
    "plt.pie(rfm_df.Segment.value_counts(), labels=rfm_df.Segment.value_counts().index, autopct='%.0f%%', colors=palette)\n",
    "plt.show()"
   ]
  },
  {
   "cell_type": "code",
   "execution_count": null,
   "id": "f8195c36",
   "metadata": {},
   "outputs": [],
   "source": []
  }
 ],
 "metadata": {
  "kernelspec": {
   "display_name": "Python 3 (ipykernel)",
   "language": "python",
   "name": "python3"
  },
  "language_info": {
   "codemirror_mode": {
    "name": "ipython",
    "version": 3
   },
   "file_extension": ".py",
   "mimetype": "text/x-python",
   "name": "python",
   "nbconvert_exporter": "python",
   "pygments_lexer": "ipython3",
   "version": "3.11.4"
  },
  "varInspector": {
   "cols": {
    "lenName": 16,
    "lenType": 16,
    "lenVar": 40
   },
   "kernels_config": {
    "python": {
     "delete_cmd_postfix": "",
     "delete_cmd_prefix": "del ",
     "library": "var_list.py",
     "varRefreshCmd": "print(var_dic_list())"
    },
    "r": {
     "delete_cmd_postfix": ") ",
     "delete_cmd_prefix": "rm(",
     "library": "var_list.r",
     "varRefreshCmd": "cat(var_dic_list()) "
    }
   },
   "types_to_exclude": [
    "module",
    "function",
    "builtin_function_or_method",
    "instance",
    "_Feature"
   ],
   "window_display": false
  }
 },
 "nbformat": 4,
 "nbformat_minor": 5
}
