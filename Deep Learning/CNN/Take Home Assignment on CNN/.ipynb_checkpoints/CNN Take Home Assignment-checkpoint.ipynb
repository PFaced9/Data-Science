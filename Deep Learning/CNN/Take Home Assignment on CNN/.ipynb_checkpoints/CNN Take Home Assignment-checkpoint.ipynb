{
 "cells": [
  {
   "cell_type": "markdown",
   "id": "ce01b2a0",
   "metadata": {},
   "source": [
    "# Importing Libraries"
   ]
  },
  {
   "cell_type": "code",
   "execution_count": 4,
   "id": "913cc621",
   "metadata": {},
   "outputs": [],
   "source": [
    "import tensorflow as tf\n",
    "from tensorflow import keras\n",
    "from keras.layers import Dense, Conv2D, Flatten, AveragePooling2D, MaxPool2D\n",
    "from keras import Sequential"
   ]
  },
  {
   "cell_type": "markdown",
   "id": "db3ff5f1",
   "metadata": {},
   "source": [
    "# Importing Train & Validation Dataset in Batches"
   ]
  },
  {
   "cell_type": "code",
   "execution_count": 2,
   "id": "e541b0e1",
   "metadata": {},
   "outputs": [
    {
     "name": "stdout",
     "output_type": "stream",
     "text": [
      "Found 2000 files belonging to 2 classes.\n",
      "Found 1000 files belonging to 2 classes.\n"
     ]
    }
   ],
   "source": [
    "# generators\n",
    "train_dataset = keras.utils.image_dataset_from_directory(\n",
    "    directory = 'Dataset/training_set/',\n",
    "    labels='inferred',\n",
    "    label_mode = 'int',\n",
    "    batch_size = 32,\n",
    "    image_size = (256,256)\n",
    ")\n",
    "\n",
    "test_dataset = keras.utils.image_dataset_from_directory(\n",
    "    directory = 'Dataset/test_set/',\n",
    "    labels='inferred',\n",
    "    label_mode = 'int',\n",
    "    batch_size = 32,\n",
    "    image_size = (256,256)\n",
    ")"
   ]
  },
  {
   "cell_type": "markdown",
   "id": "44b491ed",
   "metadata": {},
   "source": [
    "# Normalising"
   ]
  },
  {
   "cell_type": "code",
   "execution_count": 3,
   "id": "dfc98e99",
   "metadata": {},
   "outputs": [],
   "source": [
    "# Normalise\n",
    "def process(image, label):\n",
    "    image = tf.cast(image/255. ,tf.float32)\n",
    "    return image, label\n",
    "\n",
    "train_dataset = train_dataset.map(process)\n",
    "test_dataset = test_dataset.map(process)"
   ]
  },
  {
   "cell_type": "markdown",
   "id": "69ac102a",
   "metadata": {},
   "source": [
    "# Creating CNN Model"
   ]
  },
  {
   "cell_type": "code",
   "execution_count": 6,
   "id": "a3693d2d",
   "metadata": {},
   "outputs": [],
   "source": [
    "# Create CNN Model\n",
    "\n",
    "model = Sequential()\n",
    "\n",
    "model.add(Conv2D(32, kernel_size=(3, 3), padding='valid', activation='relu', input_shape=(256,256,3)))\n",
    "model.add(MaxPool2D(pool_size=(2,2), strides=2, padding='valid'))\n",
    "\n",
    "\n",
    "model.add(Conv2D(64, kernel_size=(3, 3), padding='valid', activation='relu'))\n",
    "model.add(MaxPool2D(pool_size=(2,2), strides=2, padding='valid'))\n",
    "\n",
    "\n",
    "model.add(Conv2D(128, kernel_size=(3, 3), padding='valid', activation='relu'))\n",
    "model.add(MaxPool2D(pool_size=(2,2), strides=2, padding='valid'))\n",
    "\n",
    "model.add(Flatten())\n",
    "\n",
    "model.add(Dense(128, activation='relu'))\n",
    "model.add(Dense(64, activation='relu'))\n",
    "model.add(Dense(1, activation='sigmoid'))"
   ]
  },
  {
   "cell_type": "markdown",
   "id": "ae1d2a62",
   "metadata": {},
   "source": [
    "# Summary"
   ]
  },
  {
   "cell_type": "code",
   "execution_count": 7,
   "id": "9de2342f",
   "metadata": {
    "scrolled": true
   },
   "outputs": [
    {
     "name": "stdout",
     "output_type": "stream",
     "text": [
      "Model: \"sequential_1\"\n",
      "_________________________________________________________________\n",
      " Layer (type)                Output Shape              Param #   \n",
      "=================================================================\n",
      " conv2d_3 (Conv2D)           (None, 254, 254, 32)      896       \n",
      "                                                                 \n",
      " max_pooling2d_3 (MaxPoolin  (None, 127, 127, 32)      0         \n",
      " g2D)                                                            \n",
      "                                                                 \n",
      " conv2d_4 (Conv2D)           (None, 125, 125, 64)      18496     \n",
      "                                                                 \n",
      " max_pooling2d_4 (MaxPoolin  (None, 62, 62, 64)        0         \n",
      " g2D)                                                            \n",
      "                                                                 \n",
      " conv2d_5 (Conv2D)           (None, 60, 60, 128)       73856     \n",
      "                                                                 \n",
      " max_pooling2d_5 (MaxPoolin  (None, 30, 30, 128)       0         \n",
      " g2D)                                                            \n",
      "                                                                 \n",
      " flatten_1 (Flatten)         (None, 115200)            0         \n",
      "                                                                 \n",
      " dense_3 (Dense)             (None, 128)               14745728  \n",
      "                                                                 \n",
      " dense_4 (Dense)             (None, 64)                8256      \n",
      "                                                                 \n",
      " dense_5 (Dense)             (None, 1)                 65        \n",
      "                                                                 \n",
      "=================================================================\n",
      "Total params: 14847297 (56.64 MB)\n",
      "Trainable params: 14847297 (56.64 MB)\n",
      "Non-trainable params: 0 (0.00 Byte)\n",
      "_________________________________________________________________\n"
     ]
    }
   ],
   "source": [
    "model.summary()"
   ]
  },
  {
   "cell_type": "code",
   "execution_count": 8,
   "id": "d591ecfe",
   "metadata": {},
   "outputs": [],
   "source": [
    "model.compile(optimizer='adam', loss='binary_crossentropy', metrics=['accuracy'])"
   ]
  },
  {
   "cell_type": "markdown",
   "id": "2738ddf7",
   "metadata": {},
   "source": [
    "# Fitting & Checking Accuracy"
   ]
  },
  {
   "cell_type": "code",
   "execution_count": 9,
   "id": "e5f07a49",
   "metadata": {
    "scrolled": true
   },
   "outputs": [
    {
     "name": "stdout",
     "output_type": "stream",
     "text": [
      "Epoch 1/10\n",
      "63/63 [==============================] - 87s 1s/step - loss: 0.7299 - accuracy: 0.4970 - val_loss: 0.6932 - val_accuracy: 0.5000\n",
      "Epoch 2/10\n",
      "63/63 [==============================] - 91s 1s/step - loss: 0.6928 - accuracy: 0.5165 - val_loss: 0.6901 - val_accuracy: 0.5890\n",
      "Epoch 3/10\n",
      "63/63 [==============================] - 93s 1s/step - loss: 0.6746 - accuracy: 0.6050 - val_loss: 0.6908 - val_accuracy: 0.5770\n",
      "Epoch 4/10\n",
      "63/63 [==============================] - 94s 1s/step - loss: 0.6084 - accuracy: 0.6700 - val_loss: 0.6830 - val_accuracy: 0.6470\n",
      "Epoch 5/10\n",
      "63/63 [==============================] - 93s 1s/step - loss: 0.4988 - accuracy: 0.7640 - val_loss: 0.9058 - val_accuracy: 0.6110\n",
      "Epoch 6/10\n",
      "63/63 [==============================] - 96s 2s/step - loss: 0.3873 - accuracy: 0.8260 - val_loss: 0.9178 - val_accuracy: 0.6260\n",
      "Epoch 7/10\n",
      "63/63 [==============================] - 96s 2s/step - loss: 0.2207 - accuracy: 0.9065 - val_loss: 1.3556 - val_accuracy: 0.5980\n",
      "Epoch 8/10\n",
      "63/63 [==============================] - 86s 1s/step - loss: 0.0914 - accuracy: 0.9690 - val_loss: 1.8700 - val_accuracy: 0.6290\n",
      "Epoch 9/10\n",
      "63/63 [==============================] - 92s 1s/step - loss: 0.0584 - accuracy: 0.9805 - val_loss: 2.1213 - val_accuracy: 0.6390\n",
      "Epoch 10/10\n",
      "63/63 [==============================] - 95s 2s/step - loss: 0.0245 - accuracy: 0.9925 - val_loss: 2.1637 - val_accuracy: 0.6420\n"
     ]
    },
    {
     "data": {
      "text/plain": [
       "<keras.src.callbacks.History at 0x1b24cfc4250>"
      ]
     },
     "execution_count": 9,
     "metadata": {},
     "output_type": "execute_result"
    }
   ],
   "source": [
    "model.fit(train_dataset, epochs=10, validation_data=test_dataset)"
   ]
  }
 ],
 "metadata": {
  "kernelspec": {
   "display_name": "Python 3 (ipykernel)",
   "language": "python",
   "name": "python3"
  },
  "language_info": {
   "codemirror_mode": {
    "name": "ipython",
    "version": 3
   },
   "file_extension": ".py",
   "mimetype": "text/x-python",
   "name": "python",
   "nbconvert_exporter": "python",
   "pygments_lexer": "ipython3",
   "version": "3.11.4"
  },
  "varInspector": {
   "cols": {
    "lenName": 16,
    "lenType": 16,
    "lenVar": 40
   },
   "kernels_config": {
    "python": {
     "delete_cmd_postfix": "",
     "delete_cmd_prefix": "del ",
     "library": "var_list.py",
     "varRefreshCmd": "print(var_dic_list())"
    },
    "r": {
     "delete_cmd_postfix": ") ",
     "delete_cmd_prefix": "rm(",
     "library": "var_list.r",
     "varRefreshCmd": "cat(var_dic_list()) "
    }
   },
   "types_to_exclude": [
    "module",
    "function",
    "builtin_function_or_method",
    "instance",
    "_Feature"
   ],
   "window_display": false
  }
 },
 "nbformat": 4,
 "nbformat_minor": 5
}
